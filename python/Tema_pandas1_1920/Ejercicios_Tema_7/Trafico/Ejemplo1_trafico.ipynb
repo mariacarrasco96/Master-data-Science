{
 "cells": [
  {
   "cell_type": "markdown",
   "metadata": {},
   "source": [
    "## Tráfico de Madrid"
   ]
  },
  {
   "cell_type": "markdown",
   "metadata": {},
   "source": [
    "El dataset ['trafico_madrid.csv'](trafico_madrid.csv) contiene datos de tráfico. Distintos sensores de control de tráfico de la Comunidad de Madrid proporcionan datos sobre la intensidad de tráfico cada 15 minutos."
   ]
  },
  {
   "cell_type": "markdown",
   "metadata": {},
   "source": [
    "__Descripción de los datos de tráfico__\n",
    "\n",
    "\n",
    "* `idelem`: Identificación  única  del  Punto  de  Medida  en  los  sistemas  de  control  del tráfico del Ayuntamiento de Madrid. \n",
    "* `fecha`: fecha en formato Año, mes, día, hora, minutos, segundos\n",
    "* `intensidad`: Intensidad   del   Punto   de   Medida   en\n",
    "   el   periodo   de   15   minutos  (vehículos/hora). \n",
    "* `vmed`: Velocidad  media  de  los  vehículos  en  el periodo  de  15  minutos  (Km./h). Sólo para puntos de medida interurbanos M30. \n",
    "* `error`: Indicación de si ha habido al menos una\n",
    " muestra errónea o sustituida en el periodo de 15 minutos. \n",
    "    * `N`: no ha habido errores ni sustituciones \n",
    "    * `E`: los parámetros de calidad de alguna de las muestras integradas no son óptimos. \n",
    "* `periodo_integracion`: Número   de   muestras   recibidas   y   consideradas"
   ]
  },
  {
   "cell_type": "markdown",
   "metadata": {},
   "source": [
    "__1.  Crear un dataframe de Pandas con las primeras 100 filas del fichero.__"
   ]
  },
  {
   "cell_type": "code",
   "execution_count": 22,
   "metadata": {
    "ExecuteTime": {
     "end_time": "2018-10-17T10:00:10.248730Z",
     "start_time": "2018-10-17T10:00:10.244760Z"
    }
   },
   "outputs": [],
   "source": [
    "# Sol:\n"
   ]
  },
  {
   "cell_type": "markdown",
   "metadata": {},
   "source": [
    "__2. Utiliza el parámetro `chunksize` disponible en la función `read_csv` para leer los datos en bloques de 1000 filas. Crear un dataframe solo con las filas que cumplan que el valor de la variable  `intensidad` sea superior a 1000.\n",
    "¿Cuántas filas tiene el dataframe creado?__\n"
   ]
  },
  {
   "cell_type": "code",
   "execution_count": 19,
   "metadata": {
    "ExecuteTime": {
     "end_time": "2018-10-17T09:41:48.781259Z",
     "start_time": "2018-10-17T09:41:48.762874Z"
    }
   },
   "outputs": [],
   "source": [
    "# Sol: \n",
    "    \n",
    "    "
   ]
  },
  {
   "cell_type": "markdown",
   "metadata": {},
   "source": [
    "--------"
   ]
  },
  {
   "cell_type": "markdown",
   "metadata": {},
   "source": [
    "__3. Crea un dataframe con los datos del fichero  ['trafico_madrid.csv'](trafico_madrid.csv). El dataframe creado debe tener solo las columnas `idelem`,  `fecha` y  `vmed`.__\n"
   ]
  },
  {
   "cell_type": "code",
   "execution_count": 23,
   "metadata": {
    "ExecuteTime": {
     "end_time": "2018-10-17T10:01:05.384605Z",
     "start_time": "2018-10-17T10:01:05.369230Z"
    }
   },
   "outputs": [],
   "source": [
    "# Sol: \n",
    "    \n",
    "    "
   ]
  },
  {
   "cell_type": "markdown",
   "metadata": {},
   "source": [
    "__4. Utiliza el parámetro `chunksize` disponible en la función `read_csv` para leer los datos en bloques de 1000 filas. Crear un dataframe solo con las filas que cumplan que el valor de la variable  `tipo_elem` sea 'PUNTOS MEDIDA M-30' y la variable `carga` sea menor que 10.\n",
    "¿Cuántas filas tiene el dataframe creado?__"
   ]
  },
  {
   "cell_type": "code",
   "execution_count": 20,
   "metadata": {
    "ExecuteTime": {
     "end_time": "2018-10-17T09:41:51.310329Z",
     "start_time": "2018-10-17T09:41:51.306361Z"
    }
   },
   "outputs": [],
   "source": [
    "# Sol: \n",
    "    \n",
    "    "
   ]
  }
 ],
 "metadata": {
  "anaconda-cloud": {},
  "kernelspec": {
   "display_name": "Python 3",
   "language": "python",
   "name": "python3"
  },
  "language_info": {
   "codemirror_mode": {
    "name": "ipython",
    "version": 3
   },
   "file_extension": ".py",
   "mimetype": "text/x-python",
   "name": "python",
   "nbconvert_exporter": "python",
   "pygments_lexer": "ipython3",
   "version": "3.6.6"
  },
  "nbTranslate": {
   "displayLangs": [
    "en",
    "es"
   ],
   "hotkey": "alt-t",
   "langInMainMenu": true,
   "sourceLang": "es",
   "targetLang": "en",
   "useGoogleTranslate": true
  },
  "toc": {
   "nav_menu": {
    "height": "12px",
    "width": "252px"
   },
   "number_sections": true,
   "sideBar": true,
   "skip_h1_title": false,
   "title_cell": "Table of Contents",
   "title_sidebar": "Contents",
   "toc_cell": false,
   "toc_position": {
    "height": "428px",
    "left": "0px",
    "right": "907.333px",
    "top": "121px",
    "width": "231px"
   },
   "toc_section_display": "block",
   "toc_window_display": false
  }
 },
 "nbformat": 4,
 "nbformat_minor": 1
}
