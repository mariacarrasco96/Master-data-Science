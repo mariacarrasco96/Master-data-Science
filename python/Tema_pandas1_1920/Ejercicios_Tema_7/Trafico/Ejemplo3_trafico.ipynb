{
 "cells": [
  {
   "cell_type": "markdown",
   "metadata": {},
   "source": [
    "## Tráfico de Madrid"
   ]
  },
  {
   "cell_type": "markdown",
   "metadata": {},
   "source": [
    "El dataset ['trafico_madrid.csv'](trafico_madrid.csv) contiene datos de tráfico. Distintos sensores de control de tráfico de la Comunidad de Madrid proporcionan datos sobre la intensidad de tráfico cada 15 minutos."
   ]
  },
  {
   "cell_type": "markdown",
   "metadata": {},
   "source": [
    "__Descripción de los datos de tráfico__\n",
    "\n",
    "\n",
    "* `idelem`: Identificación  única  del  Punto  de  Medida  en  los  sistemas  de  control  del tráfico del Ayuntamiento de Madrid. \n",
    "* `fecha`: fecha en formato Año, mes, día, hora, minutos, segundos\n",
    "* `intensidad`: Intensidad   del   Punto   de   Medida   en\n",
    "   el   periodo   de   15   minutos  (vehículos/hora). \n",
    "* `vmed`: Velocidad  media  de  los  vehículos  en  el periodo  de  15  minutos  (Km./h). Sólo para puntos de medida interurbanos M30. \n",
    "* `error`: Indicación de si ha habido al menos una\n",
    " muestra errónea o sustituida en el periodo de 15 minutos. \n",
    "    * `N`: no ha habido errores ni sustituciones \n",
    "    * `E`: los parámetros de calidad de alguna de las muestras integradas no son óptimos. \n",
    "* `periodo_integracion`: Número   de   muestras   recibidas   y   consideradas"
   ]
  },
  {
   "cell_type": "markdown",
   "metadata": {},
   "source": [
    "__1. Crea un dataframe con los datos del fichero  ['trafico_madrid.csv'](trafico_madrid.csv). En la lectura, transforma los datos `NaN` de la columna `error` por el valor `Y`.__"
   ]
  },
  {
   "cell_type": "code",
   "execution_count": 24,
   "metadata": {
    "ExecuteTime": {
     "end_time": "2018-10-17T11:30:25.043627Z",
     "start_time": "2018-10-17T11:30:25.040157Z"
    }
   },
   "outputs": [],
   "source": [
    "# Sol:\n"
   ]
  },
  {
   "cell_type": "markdown",
   "metadata": {},
   "source": [
    "__2. Ordenar los datos en orden creciente de intensidad.__"
   ]
  },
  {
   "cell_type": "code",
   "execution_count": 23,
   "metadata": {
    "ExecuteTime": {
     "end_time": "2018-10-17T11:30:20.960050Z",
     "start_time": "2018-10-17T11:30:20.956057Z"
    }
   },
   "outputs": [],
   "source": [
    "# Sol:\n"
   ]
  },
  {
   "cell_type": "markdown",
   "metadata": {},
   "source": [
    "__3. Seleccionar los puntos de medida URBANOS y posteriormente ordenar los datos en orden creciente de `intensidad` y orden decreciente de `carga`.__\n"
   ]
  },
  {
   "cell_type": "code",
   "execution_count": 7,
   "metadata": {
    "ExecuteTime": {
     "end_time": "2018-10-17T10:13:35.589761Z",
     "start_time": "2018-10-17T10:13:35.573863Z"
    }
   },
   "outputs": [],
   "source": [
    "# Sol: \n",
    " "
   ]
  },
  {
   "cell_type": "markdown",
   "metadata": {},
   "source": [
    "__4. ¿Cuantos valores `NaN` hay en la columna `carga`?__"
   ]
  },
  {
   "cell_type": "code",
   "execution_count": 8,
   "metadata": {
    "ExecuteTime": {
     "end_time": "2018-10-17T10:13:36.589673Z",
     "start_time": "2018-10-17T10:13:36.586202Z"
    }
   },
   "outputs": [],
   "source": [
    "# Sol:\n"
   ]
  },
  {
   "cell_type": "markdown",
   "metadata": {
    "scrolled": true
   },
   "source": [
    "__5. Sustituye los valores `NaN` de la columna `carga` por 0.__"
   ]
  },
  {
   "cell_type": "code",
   "execution_count": 9,
   "metadata": {
    "ExecuteTime": {
     "end_time": "2018-10-17T10:13:38.025096Z",
     "start_time": "2018-10-17T10:13:38.006747Z"
    }
   },
   "outputs": [],
   "source": [
    "# Sol:\n"
   ]
  },
  {
   "cell_type": "markdown",
   "metadata": {},
   "source": [
    "__6. Elimina aquellas filas que tengan menos de 8 valores distintos de  `NaN`.__\n"
   ]
  },
  {
   "cell_type": "code",
   "execution_count": 20,
   "metadata": {
    "ExecuteTime": {
     "end_time": "2018-10-17T11:29:58.897332Z",
     "start_time": "2018-10-17T11:29:58.892842Z"
    }
   },
   "outputs": [],
   "source": [
    "# Sol:\n"
   ]
  },
  {
   "cell_type": "markdown",
   "metadata": {},
   "source": [
    "__7. Elimina aquellas filas que tengan algún valor  `NaN`.__"
   ]
  },
  {
   "cell_type": "code",
   "execution_count": 22,
   "metadata": {
    "ExecuteTime": {
     "end_time": "2018-10-17T11:30:11.792318Z",
     "start_time": "2018-10-17T11:30:11.787854Z"
    }
   },
   "outputs": [],
   "source": [
    "# Sol:\n"
   ]
  },
  {
   "cell_type": "markdown",
   "metadata": {},
   "source": [
    "__8. Almacena los datos sin `NaN` en un fichero Excel llamado `trafico_madrid_sinNaN.xlsx`.__"
   ]
  },
  {
   "cell_type": "code",
   "execution_count": null,
   "metadata": {},
   "outputs": [],
   "source": [
    "# Sol:\n",
    "\n"
   ]
  },
  {
   "cell_type": "markdown",
   "metadata": {},
   "source": [
    "--------"
   ]
  }
 ],
 "metadata": {
  "anaconda-cloud": {},
  "kernelspec": {
   "display_name": "Python 3",
   "language": "python",
   "name": "python3"
  },
  "language_info": {
   "codemirror_mode": {
    "name": "ipython",
    "version": 3
   },
   "file_extension": ".py",
   "mimetype": "text/x-python",
   "name": "python",
   "nbconvert_exporter": "python",
   "pygments_lexer": "ipython3",
   "version": "3.6.6"
  },
  "nbTranslate": {
   "displayLangs": [
    "en",
    "es"
   ],
   "hotkey": "alt-t",
   "langInMainMenu": true,
   "sourceLang": "es",
   "targetLang": "en",
   "useGoogleTranslate": true
  },
  "toc": {
   "nav_menu": {
    "height": "12px",
    "width": "252px"
   },
   "number_sections": true,
   "sideBar": true,
   "skip_h1_title": false,
   "title_cell": "Table of Contents",
   "title_sidebar": "Contents",
   "toc_cell": false,
   "toc_position": {
    "height": "428px",
    "left": "0px",
    "right": "907.333px",
    "top": "121px",
    "width": "231px"
   },
   "toc_section_display": "block",
   "toc_window_display": false
  }
 },
 "nbformat": 4,
 "nbformat_minor": 1
}
