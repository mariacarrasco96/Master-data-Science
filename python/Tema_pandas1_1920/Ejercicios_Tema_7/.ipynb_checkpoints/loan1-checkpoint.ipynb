{
 "cells": [
  {
   "cell_type": "markdown",
   "metadata": {},
   "source": [
    "# Loan"
   ]
  },
  {
   "cell_type": "markdown",
   "metadata": {},
   "source": [
    "El dataset [./datos/loan2.csv](./datos/loan2.csv) contiene ciertos registros relacionados con préstamos. Cada registro se corresponde con los datos de un préstamo."
   ]
  },
  {
   "cell_type": "markdown",
   "metadata": {},
   "source": [
    "__1.)__  Crear un DataFrame llamado `loan` con los datos del fichero. No te olvides de importar el módulo necesario para realizar la creación del DataFrame."
   ]
  },
  {
   "cell_type": "code",
   "execution_count": 2,
   "metadata": {
    "ExecuteTime": {
     "end_time": "2018-10-17T11:44:16.328168Z",
     "start_time": "2018-10-17T11:44:16.324698Z"
    }
   },
   "outputs": [],
   "source": [
    "# Sol:\n",
    "\n"
   ]
  },
  {
   "cell_type": "markdown",
   "metadata": {},
   "source": [
    "__2.)__ Muestra las últimas 10 filas del DataFrame que has creado en el apartado anterior."
   ]
  },
  {
   "cell_type": "code",
   "execution_count": 3,
   "metadata": {
    "ExecuteTime": {
     "end_time": "2018-10-17T11:45:20.602558Z",
     "start_time": "2018-10-17T11:45:20.597596Z"
    }
   },
   "outputs": [],
   "source": [
    "# Sol: \n",
    "\n"
   ]
  },
  {
   "cell_type": "markdown",
   "metadata": {},
   "source": [
    "__3.)__ ¿Cuántas filas tiene la tabla?"
   ]
  },
  {
   "cell_type": "code",
   "execution_count": 4,
   "metadata": {
    "ExecuteTime": {
     "end_time": "2018-10-17T11:45:24.500777Z",
     "start_time": "2018-10-17T11:45:24.495814Z"
    }
   },
   "outputs": [],
   "source": [
    "# Sol\n",
    "\n",
    "\n"
   ]
  },
  {
   "cell_type": "markdown",
   "metadata": {},
   "source": [
    "__4.)__  Crea otro dataframe llamado `loan2` con los datos del fichero, pero esta vez realiza la carga únicamente de las siguientes columnas:"
   ]
  },
  {
   "cell_type": "markdown",
   "metadata": {},
   "source": [
    "```cols = ['member_id', 'loan_amnt', 'term' , 'int_rate', 'purpose', \n",
    "         'application_type' , 'addr_state', 'annual_inc',\n",
    "         'loan_status' ]```"
   ]
  },
  {
   "cell_type": "code",
   "execution_count": 5,
   "metadata": {
    "ExecuteTime": {
     "end_time": "2018-10-17T11:45:34.492908Z",
     "start_time": "2018-10-17T11:45:34.488942Z"
    }
   },
   "outputs": [],
   "source": [
    "# Sol: \n",
    "\n",
    "\n"
   ]
  },
  {
   "cell_type": "markdown",
   "metadata": {},
   "source": [
    "__5.)__ Calcular los estadísticos `mínimo`, `máximo`, `media` y `desviación típica` de la columna `int_rate`."
   ]
  },
  {
   "cell_type": "code",
   "execution_count": 6,
   "metadata": {
    "ExecuteTime": {
     "end_time": "2018-10-17T11:45:59.045447Z",
     "start_time": "2018-10-17T11:45:59.041977Z"
    }
   },
   "outputs": [],
   "source": [
    "# Sol:\n",
    "\n",
    "\n"
   ]
  },
  {
   "cell_type": "markdown",
   "metadata": {},
   "source": [
    "__6.)__ Seleccionar los préstamos cuyo importe (valor en la columna `loan_amnt`) sea  mayor  de 33000 euros. "
   ]
  },
  {
   "cell_type": "code",
   "execution_count": 7,
   "metadata": {
    "ExecuteTime": {
     "end_time": "2018-10-17T11:46:19.184049Z",
     "start_time": "2018-10-17T11:46:19.180092Z"
    }
   },
   "outputs": [],
   "source": [
    "# Sol:\n",
    "\n",
    "\n"
   ]
  },
  {
   "cell_type": "markdown",
   "metadata": {},
   "source": [
    "__7.)__ Representa mediante un histograma el tipo de interés `int_rate`."
   ]
  },
  {
   "cell_type": "code",
   "execution_count": 83,
   "metadata": {},
   "outputs": [
    {
     "data": {
      "image/png": "[encoded data removed]",
      "text/plain": [
       "<matplotlib.figure.Figure at 0x1fe29ca7ba8>"
      ]
     },
     "metadata": {},
     "output_type": "display_data"
    }
   ],
   "source": [
    "# Sol:\n",
    "import matplotlib.pyplot as plt\n",
    "%matplotlib inline\n",
    "\n",
    "loan.int_rate.hist();\n"
   ]
  },
  {
   "cell_type": "markdown",
   "metadata": {},
   "source": [
    "__8.)__ Nos interesa conocer la finalidad de los préstamos (columna `purpose`). Calcula el número de préstamos por finalidad."
   ]
  },
  {
   "cell_type": "code",
   "execution_count": 8,
   "metadata": {
    "ExecuteTime": {
     "end_time": "2018-10-17T11:46:49.721963Z",
     "start_time": "2018-10-17T11:46:49.717499Z"
    }
   },
   "outputs": [],
   "source": [
    "# Sol: \n",
    "\n",
    "\n"
   ]
  },
  {
   "cell_type": "markdown",
   "metadata": {},
   "source": [
    "__9.)__ En cuanto a la duración del préstamo, columna `term`,  nos encontramos con préstamos a 36 meses y 60 meses."
   ]
  },
  {
   "cell_type": "markdown",
   "metadata": {},
   "source": [
    "Transforma dicha columna de forma que no contenga valores de tipo `str`, sino de tipo `int`, es decir:\n",
    "* valor 36 en lugar de ' 36 months'\n",
    "* valor 60 en lugar de ' 60 months'"
   ]
  },
  {
   "cell_type": "code",
   "execution_count": 9,
   "metadata": {
    "ExecuteTime": {
     "end_time": "2018-10-17T11:48:05.842216Z",
     "start_time": "2018-10-17T11:48:05.838247Z"
    }
   },
   "outputs": [],
   "source": [
    "# Sol: \n",
    "\n"
   ]
  },
  {
   "cell_type": "markdown",
   "metadata": {},
   "source": [
    "__10.)__  Calcula de la correlación entre la cantidad prestada `loan_amnt`, renta `annual_inc` y el tipo de interés `int_rate`."
   ]
  },
  {
   "cell_type": "code",
   "execution_count": 11,
   "metadata": {
    "ExecuteTime": {
     "end_time": "2018-10-17T11:49:37.881233Z",
     "start_time": "2018-10-17T11:49:37.877265Z"
    }
   },
   "outputs": [],
   "source": [
    "# Sol: \n",
    "\n",
    "\n"
   ]
  },
  {
   "cell_type": "markdown",
   "metadata": {},
   "source": [
    "__11.)__ Importe del préstamo (loan_amnt): a cada uno de los préstamos le asignaremos una categoría dependiento del importe del préstamo:\n",
    "\n",
    "* low (importe < 8000)\n",
    "* medium-low, (importe < 13000),\n",
    "* medium-high, (importe < 18000)\n",
    "* high (resto)\n",
    "\n",
    "\n",
    "Diseñar una función `clasificar_cantidad` que devuelva una categoría para un importe dado de entrada.\n",
    "\n",
    "Añadir una nueva columna a la tabla de préstamos con información de la categoría."
   ]
  },
  {
   "cell_type": "code",
   "execution_count": 12,
   "metadata": {
    "ExecuteTime": {
     "end_time": "2018-10-17T11:49:40.133418Z",
     "start_time": "2018-10-17T11:49:40.130443Z"
    }
   },
   "outputs": [],
   "source": [
    "# Sol: \n"
   ]
  },
  {
   "cell_type": "code",
   "execution_count": null,
   "metadata": {},
   "outputs": [],
   "source": []
  }
 ],
 "metadata": {
  "anaconda-cloud": {},
  "kernelspec": {
   "display_name": "Python 3",
   "language": "python",
   "name": "python3"
  },
  "language_info": {
   "codemirror_mode": {
    "name": "ipython",
    "version": 3
   },
   "file_extension": ".py",
   "mimetype": "text/x-python",
   "name": "python",
   "nbconvert_exporter": "python",
   "pygments_lexer": "ipython3",
   "version": "3.6.6"
  },
  "nbTranslate": {
   "displayLangs": [
    "en",
    "es"
   ],
   "hotkey": "alt-t",
   "langInMainMenu": true,
   "sourceLang": "es",
   "targetLang": "en",
   "useGoogleTranslate": true
  },
  "toc": {
   "nav_menu": {
    "height": "389px",
    "width": "252px"
   },
   "number_sections": true,
   "sideBar": true,
   "skip_h1_title": false,
   "title_cell": "Table of Contents",
   "title_sidebar": "Contents",
   "toc_cell": false,
   "toc_position": {},
   "toc_section_display": "block",
   "toc_window_display": false
  }
 },
 "nbformat": 4,
 "nbformat_minor": 1
}
