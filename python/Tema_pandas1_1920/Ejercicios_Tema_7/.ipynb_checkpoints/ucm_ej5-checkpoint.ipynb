{
 "cells": [
  {
   "cell_type": "markdown",
   "metadata": {},
   "source": [
    "# Ejercicios 5"
   ]
  },
  {
   "cell_type": "markdown",
   "metadata": {},
   "source": [
    "#### 1 Ejercicio"
   ]
  },
  {
   "cell_type": "markdown",
   "metadata": {},
   "source": [
    "El fichero [oil_price.csv](./datos/oil_price_monthly.csv) contiene información mensual del precio del petróleo desde el año 1985. Abre el fichero y mira el aspecto que tiene.\n",
    "* La primera columna contiene el mes y el año en formato 'yyyy-mm'.\n",
    "* La segunda columna contiene el precio del barril expresado en euros.\n",
    "\n",
    "----\n",
    "* Realiza la carga del fichero utilizando la función __read_csv__ de pandas. El DataFrame creado debe tener como índices la fecha. Ha de llamarse `datos`.\n"
   ]
  },
  {
   "cell_type": "code",
   "execution_count": 1,
   "metadata": {
    "collapsed": false
   },
   "outputs": [],
   "source": [
    "# Sol:\n",
    "import pandas as pd\n",
    "\n"
   ]
  },
  {
   "cell_type": "code",
   "execution_count": 29,
   "metadata": {
    "collapsed": false
   },
   "outputs": [
    {
     "data": {
      "image/png": "[encoded data removed]",
      "text/plain": [
       "<matplotlib.figure.Figure at 0x2186a318518>"
      ]
     },
     "metadata": {},
     "output_type": "display_data"
    }
   ],
   "source": [
    "# Rrepresenta gráficamente la evolución de los precios\n",
    "import matplotlib as mpl\n",
    "import matplotlib.pyplot as plt\n",
    "\n",
    "%matplotlib inline\n",
    "\n",
    "datos.plot(title = 'Evolucion Precios',\n",
    "                          figsize=(9,4));                           # Tamaño de la figura"
   ]
  },
  {
   "cell_type": "markdown",
   "metadata": {},
   "source": [
    "---\n",
    "* Determinar el mes y el año donde por primera vez el precio del petróleo superó los 40 euros, los 60 y los 80 euros.\n",
    "    * Primero crea un DataFrame con el mes y el año donde por primera vez el precio del petróleo superó los 40.\n",
    "    * En segundo lugar crea un DataFrame con el mes y el año donde por primera vez el precio del petróleo superó los 60.\n",
    "    * En tercer lugar crea un DataFrame con el mes y el año donde por primera vez el precio del petróleo superó los 80.\n",
    "    * Consulta la ayuda de la función `join` para saber cómo funciona y para qué sirve. Para ello ejecuta `pd.join?`.\n",
    "    * Utiliza la función `join` para unir los datos en un unico DataFrame.\n",
    "\n",
    "La solución es 2005-03, 2007-11, 2008-05."
   ]
  },
  {
   "cell_type": "code",
   "execution_count": 1,
   "metadata": {
    "collapsed": false
   },
   "outputs": [],
   "source": [
    "#Sol:\n"
   ]
  },
  {
   "cell_type": "markdown",
   "metadata": {
    "collapsed": true
   },
   "source": [
    "#### 2 Ejercicio"
   ]
  },
  {
   "cell_type": "markdown",
   "metadata": {},
   "source": [
    "El fichero [rotterdam_rainfall.txt](./datos/rotterdam_rainfall.txt) recoge los datos de las precipitaciones diarias de la estación meteorológica de Rotterdam en 2012.\n",
    "\n",
    "* La primera columna representa la fecha\n",
    "* La segunda columna representa la cantidad de precipitaciones expresado en 0.1 mm (-1 si es menor a 0.05 mm).\n",
    "\n",
    "__Notas__:\n",
    "\n",
    "* Carga los datos en un DataFrame con la función __read_csv__\n",
    "* El índice del DataFrame ha de ser la fecha\n"
   ]
  },
  {
   "cell_type": "code",
   "execution_count": 2,
   "metadata": {
    "collapsed": false
   },
   "outputs": [],
   "source": [
    "# Sol\n",
    "import pandas as pd\n"
   ]
  },
  {
   "cell_type": "markdown",
   "metadata": {},
   "source": [
    "* Modifica los valores de la cantidad de precipitaciones a 0 cuando su valor sea -1."
   ]
  },
  {
   "cell_type": "code",
   "execution_count": 3,
   "metadata": {
    "collapsed": false
   },
   "outputs": [],
   "source": [
    "# Sol:\n",
    "\n"
   ]
  },
  {
   "cell_type": "markdown",
   "metadata": {},
   "source": [
    "-----\n",
    "* Calcula el día que ha tenido mayor cantidad de precipitación y la cantidad de precipitación"
   ]
  },
  {
   "cell_type": "code",
   "execution_count": 4,
   "metadata": {
    "collapsed": false
   },
   "outputs": [],
   "source": [
    "# Sol:\n"
   ]
  },
  {
   "cell_type": "markdown",
   "metadata": {},
   "source": [
    "## References"
   ]
  },
  {
   "cell_type": "markdown",
   "metadata": {},
   "source": [
    "http://nbviewer.ipython.org/github/mbakker7/exploratory_computing_with_python/tree/master/"
   ]
  },
  {
   "cell_type": "markdown",
   "metadata": {},
   "source": [
    "-----\n"
   ]
  }
 ],
 "metadata": {
  "anaconda-cloud": {},
  "kernelspec": {
   "display_name": "Python 3",
   "language": "python",
   "name": "python3"
  },
  "language_info": {
   "codemirror_mode": {
    "name": "ipython",
    "version": 3
   },
   "file_extension": ".py",
   "mimetype": "text/x-python",
   "name": "python",
   "nbconvert_exporter": "python",
   "pygments_lexer": "ipython3",
   "version": "3.6.0"
  },
  "toc": {
   "colors": {
    "hover_highlight": "#DAA520",
    "running_highlight": "#FF0000",
    "selected_highlight": "#FFD700"
   },
   "moveMenuLeft": true,
   "nav_menu": {
    "height": "86px",
    "width": "252px"
   },
   "navigate_menu": true,
   "number_sections": true,
   "sideBar": true,
   "threshold": 4,
   "toc_cell": false,
   "toc_section_display": "block",
   "toc_window_display": false,
   "widenNotebook": false
  }
 },
 "nbformat": 4,
 "nbformat_minor": 0
}
