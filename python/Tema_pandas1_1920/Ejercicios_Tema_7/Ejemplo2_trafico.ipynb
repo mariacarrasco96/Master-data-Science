{
 "cells": [
  {
   "cell_type": "markdown",
   "metadata": {},
   "source": [
    "## Tráfico de Madrid"
   ]
  },
  {
   "cell_type": "markdown",
   "metadata": {},
   "source": [
    "El dataset ['trafico_madrid.csv'](./datos/trafico_madrid.csv) contiene datos de tráfico. Distintos sensores de control de tráfico de la Comunidad de Madrid proporcionan datos sobre la intensidad de tráfico cada 15 minutos."
   ]
  },
  {
   "cell_type": "markdown",
   "metadata": {},
   "source": [
    "__Descripción de los datos de tráfico__\n",
    "\n",
    "\n",
    "* `idelem`: Identificación  única  del  Punto  de  Medida  en  los  sistemas  de  control  del tráfico del Ayuntamiento de Madrid. \n",
    "* `fecha`: fecha en formato Año, mes, día, hora, minutos, segundos\n",
    "* `intensidad`: Intensidad   del   Punto   de   Medida   en\n",
    "   el   periodo   de   15   minutos  (vehículos/hora). \n",
    "* `vmed`: Velocidad  media  de  los  vehículos  en  el periodo  de  15  minutos  (Km./h). Sólo para puntos de medida interurbanos M30. \n",
    "* `error`: Indicación de si ha habido al menos una\n",
    " muestra errónea o sustituida en el periodo de 15 minutos. \n",
    "    * `N`: no ha habido errores ni sustituciones \n",
    "    * `E`: los parámetros de calidad de alguna de las muestras integradas no son óptimos. \n",
    "* `periodo_integracion`: Número   de   muestras   recibidas   y   consideradas"
   ]
  },
  {
   "cell_type": "markdown",
   "metadata": {},
   "source": [
    "Crea un dataframe con los datos del fichero  ['trafico_madrid.csv'](trafico_madrid.csv). \n",
    "\n",
    "__1. Seleccionar aquellas filas que cumplen que la `ocupación` sea igual a cero.__"
   ]
  },
  {
   "cell_type": "code",
   "execution_count": 14,
   "metadata": {
    "ExecuteTime": {
     "end_time": "2018-10-17T10:57:27.647813Z",
     "start_time": "2018-10-17T10:57:27.628965Z"
    }
   },
   "outputs": [],
   "source": [
    "# Sol:\n",
    "\n"
   ]
  },
  {
   "cell_type": "markdown",
   "metadata": {},
   "source": [
    "__2. ¿Cuantos valores distintos de `tipo_elem` aparecen en la tabla?__\n"
   ]
  },
  {
   "cell_type": "code",
   "execution_count": 7,
   "metadata": {
    "ExecuteTime": {
     "end_time": "2018-10-17T10:13:35.589761Z",
     "start_time": "2018-10-17T10:13:35.573863Z"
    }
   },
   "outputs": [],
   "source": [
    "# Sol: \n",
    " \n",
    "    "
   ]
  },
  {
   "cell_type": "markdown",
   "metadata": {},
   "source": [
    "__3. Calcula la intensidad media.__"
   ]
  },
  {
   "cell_type": "code",
   "execution_count": 8,
   "metadata": {
    "ExecuteTime": {
     "end_time": "2018-10-17T10:13:36.589673Z",
     "start_time": "2018-10-17T10:13:36.586202Z"
    }
   },
   "outputs": [],
   "source": [
    "# Sol:\n",
    "\n"
   ]
  },
  {
   "cell_type": "markdown",
   "metadata": {
    "scrolled": true
   },
   "source": [
    "__4. Calcula la intensidad media de los puntos de medida URBANOS.__"
   ]
  },
  {
   "cell_type": "code",
   "execution_count": 9,
   "metadata": {
    "ExecuteTime": {
     "end_time": "2018-10-17T10:13:38.025096Z",
     "start_time": "2018-10-17T10:13:38.006747Z"
    }
   },
   "outputs": [],
   "source": [
    "# Sol:\n",
    "\n"
   ]
  },
  {
   "cell_type": "markdown",
   "metadata": {},
   "source": [
    "__5. Crea una nueva columna cuyo valor sea la suma de la `ocupación` y la `carga`.__\n"
   ]
  },
  {
   "cell_type": "code",
   "execution_count": 11,
   "metadata": {
    "ExecuteTime": {
     "end_time": "2018-10-17T10:13:50.492559Z",
     "start_time": "2018-10-17T10:13:50.479165Z"
    }
   },
   "outputs": [],
   "source": [
    "# Sol:\n",
    "\n"
   ]
  },
  {
   "cell_type": "markdown",
   "metadata": {},
   "source": [
    "__6. Crea una nueva columna llamada `tipo` que sea una transformación de la columna `tipo_elem`, donde el valor `PUNTOS MEDIDA m-30` se sustituye por `M-30` y el valor `PUNTOS MEDIDA URBANOS` se sustituye por `URBANO`. Utiliza el método `apply`.__"
   ]
  },
  {
   "cell_type": "code",
   "execution_count": 12,
   "metadata": {
    "ExecuteTime": {
     "end_time": "2018-10-17T10:14:03.593410Z",
     "start_time": "2018-10-17T10:14:03.588450Z"
    }
   },
   "outputs": [],
   "source": [
    "# Sol:\n",
    "\n"
   ]
  },
  {
   "cell_type": "markdown",
   "metadata": {},
   "source": [
    "__7. Crea una nueva columna llamada `Dia` que describa el día de la semana en la observación.__"
   ]
  },
  {
   "cell_type": "code",
   "execution_count": 13,
   "metadata": {
    "ExecuteTime": {
     "end_time": "2018-10-17T10:54:13.769865Z",
     "start_time": "2018-10-17T10:54:13.753002Z"
    }
   },
   "outputs": [],
   "source": [
    "# Sol: \n",
    "\n"
   ]
  }
 ],
 "metadata": {
  "anaconda-cloud": {},
  "kernelspec": {
   "display_name": "Python 3",
   "language": "python",
   "name": "python3"
  },
  "language_info": {
   "codemirror_mode": {
    "name": "ipython",
    "version": 3
   },
   "file_extension": ".py",
   "mimetype": "text/x-python",
   "name": "python",
   "nbconvert_exporter": "python",
   "pygments_lexer": "ipython3",
   "version": "3.7.3"
  },
  "nbTranslate": {
   "displayLangs": [
    "en",
    "es"
   ],
   "hotkey": "alt-t",
   "langInMainMenu": true,
   "sourceLang": "es",
   "targetLang": "en",
   "useGoogleTranslate": true
  },
  "toc": {
   "base_numbering": 1,
   "nav_menu": {
    "height": "12px",
    "width": "252px"
   },
   "number_sections": true,
   "sideBar": true,
   "skip_h1_title": false,
   "title_cell": "Table of Contents",
   "title_sidebar": "Contents",
   "toc_cell": false,
   "toc_position": {
    "height": "428px",
    "left": "0px",
    "right": "907.333px",
    "top": "121px",
    "width": "231px"
   },
   "toc_section_display": "block",
   "toc_window_display": false
  }
 },
 "nbformat": 4,
 "nbformat_minor": 1
}
