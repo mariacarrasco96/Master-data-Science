{
 "cells": [
  {
   "cell_type": "markdown",
   "metadata": {},
   "source": [
    "# Ejercicios "
   ]
  },
  {
   "cell_type": "markdown",
   "metadata": {},
   "source": [
    "Los enlaces que te encuentres en esta página, solo funcionan desde el formato html, no desde el notebook una vez descargado."
   ]
  },
  {
   "cell_type": "markdown",
   "metadata": {},
   "source": [
    "## Ejercicio 1"
   ]
  },
  {
   "cell_type": "markdown",
   "metadata": {},
   "source": [
    "El fichero [tips.txt](./datos/tips.txt) recoge los datos asociados a las reservas de un restaurante durante un periodo de tiempo. Muestra los datos de 6 variables numéricas:\n",
    "\n",
    "* El precio de la factura, \n",
    "* La propina asociada a la factura, \n",
    "* El sexo de la persona que hizo la reserva (1=Hombre, 2=Mujer),\n",
    "* Si es una reserva para fumadores o no (0 = No Fumadores, 1 = Fumadores),\n",
    "* El día de la semana (1 = Lunes, ... , 7 = Domingo),\n",
    "* El número de comensales.\n",
    "\n",
    "Haz una pequeña exploración de los datos del fichero. Observa que el separador de datos es el símbolo coma(,).\n",
    "\n",
    "Realiza la carga de los datos con la función __read_csv__ del módulo __Pandas__. El dataFrame devuelto se llamará __tips__."
   ]
  },
  {
   "cell_type": "code",
   "execution_count": null,
   "metadata": {},
   "outputs": [],
   "source": [
    "# Sol:\n",
    "# Imports necesarios\n",
    "import pandas as pd                         # importación de numpy\n",
    "\n",
    "# Para dibujar:\n",
    "import matplotlib.pyplot as plt\n",
    "%matplotlib inline\n"
   ]
  },
  {
   "cell_type": "code",
   "execution_count": null,
   "metadata": {},
   "outputs": [],
   "source": []
  },
  {
   "cell_type": "markdown",
   "metadata": {},
   "source": [
    "__a)__ ¿Cuántas filas hemos cargado?\n"
   ]
  },
  {
   "cell_type": "code",
   "execution_count": null,
   "metadata": {},
   "outputs": [],
   "source": [
    "# Sol:\n"
   ]
  },
  {
   "cell_type": "code",
   "execution_count": null,
   "metadata": {},
   "outputs": [],
   "source": []
  },
  {
   "cell_type": "markdown",
   "metadata": {},
   "source": [
    "__b)__ Muestra las 10 primeras filas"
   ]
  },
  {
   "cell_type": "code",
   "execution_count": null,
   "metadata": {},
   "outputs": [],
   "source": [
    "# Sol:\n",
    "\n"
   ]
  },
  {
   "cell_type": "markdown",
   "metadata": {},
   "source": [
    "Ejecuta la siguiente celda de cádigo:"
   ]
  },
  {
   "cell_type": "code",
   "execution_count": null,
   "metadata": {},
   "outputs": [],
   "source": [
    "# Sol:\n",
    "import pandas_profiling\n",
    "pandas_profiling.ProfileReport(t)"
   ]
  },
  {
   "cell_type": "code",
   "execution_count": null,
   "metadata": {},
   "outputs": [],
   "source": [
    "\n"
   ]
  },
  {
   "cell_type": "markdown",
   "metadata": {},
   "source": [
    "__c)__ Calcula el importe máximo y mínimo de las facturas. El importe de la factura es la columna que ocupa la posición 0 en el array __tips__.\n",
    "\n"
   ]
  },
  {
   "cell_type": "code",
   "execution_count": null,
   "metadata": {},
   "outputs": [],
   "source": [
    "# Sol:\n"
   ]
  },
  {
   "cell_type": "markdown",
   "metadata": {},
   "source": [
    "__d)__ Representa gráficamente mediante un diagrama de caja los datos correspondientes al importe de la factura. Puedes utilizar la función __boxplot__."
   ]
  },
  {
   "cell_type": "code",
   "execution_count": null,
   "metadata": {},
   "outputs": [],
   "source": [
    "# Sol:\n",
    "fig, (ax)= plt.subplots(1, figsize=(5,3))\n",
    "\n",
    "# Opción: Pinta una cuadrícula en la gráfica\n",
    "ax.grid(True) \n",
    "ax.boxplot([ t.Propina])          # representamos las dos variables (las dos columnas)\n",
    "\n",
    "ax.set_title('BoxPlot')\n",
    "ax.set_xticklabels([ 'Propina']);"
   ]
  },
  {
   "cell_type": "markdown",
   "metadata": {},
   "source": [
    "__e)__  Representa gráficamente la relación entre el importe de la factura y la propina. Genera un diagrama de dispersión utilizando la función __scatter__.\n",
    "\n"
   ]
  },
  {
   "cell_type": "code",
   "execution_count": null,
   "metadata": {},
   "outputs": [],
   "source": [
    "# Sol:\n",
    "# Sol  relación entre el  importe factura y la propina.\n",
    "fig, ax1 = plt.subplots(nrows = 1, figsize=(7, 3))   \n",
    "\n",
    "importe = t['Importe Factura']\n",
    "propina = t.Propina\n",
    "\n",
    "ax1.scatter(importe, propina, marker = 'o')   \n",
    "ax1.set_title('Diagrama de dispersion')\n",
    "ax1.set_xlabel('Importe')\n",
    "ax1.set_ylabel('Propina');"
   ]
  },
  {
   "cell_type": "markdown",
   "metadata": {},
   "source": [
    "__f)__ Representa gráficamente la relación entre el importe de la factura y la propina. Genera un diagrama de dispersión utilizando la función __scatter__. Añade una tercera dimensión que será representada mediante distintos colores. La tercera dimensión se corresponde al sexo. Así podremos ver las facturas de los hombres y las de las mujeres. El sexo se corresponde con la variable en la posición 2 del array __tips__.\n"
   ]
  },
  {
   "cell_type": "code",
   "execution_count": null,
   "metadata": {},
   "outputs": [],
   "source": [
    "# Sol:\n",
    "# relación entre el  importe factura y la propina.\n",
    "# tercera variable: sexo\n",
    "\n",
    "fig, ax1 = plt.subplots(nrows = 1, figsize=(10,5))   \n",
    "\n",
    "importe = t['Importe Factura']\n",
    "propina = t.Propina\n",
    "sexo    = t.Sexo\n",
    "\n",
    "ax1.scatter(importe, propina, marker = 'o', c = sexo)    \n",
    "ax1.set_title('Diagrama de dispersion')\n",
    "ax1.set_xlabel('Importe')\n",
    "ax1.set_ylabel('Propina');"
   ]
  },
  {
   "cell_type": "markdown",
   "metadata": {},
   "source": [
    "__f)__ Calcula la media del número de comensales."
   ]
  },
  {
   "cell_type": "code",
   "execution_count": null,
   "metadata": {},
   "outputs": [],
   "source": [
    "# Sol:\n"
   ]
  },
  {
   "cell_type": "markdown",
   "metadata": {},
   "source": [
    "__g)__ Calcula el coeficiente de correlación entre el importe y la propina."
   ]
  },
  {
   "cell_type": "code",
   "execution_count": null,
   "metadata": {},
   "outputs": [],
   "source": [
    "# Sol:\n",
    "\n"
   ]
  },
  {
   "cell_type": "markdown",
   "metadata": {},
   "source": [
    "__h)__ Importe medio de factura de las mujeres fumadoras."
   ]
  },
  {
   "cell_type": "code",
   "execution_count": null,
   "metadata": {},
   "outputs": [],
   "source": [
    "# Sol:\n",
    "\"\"\"\n",
    "0 = No Fumador\n",
    "1 = Fumador\n",
    "\n",
    "2 = 'Mujeres'\n",
    "1 = 'Hombres'\n",
    "\"\"\"\n",
    "\n"
   ]
  },
  {
   "cell_type": "markdown",
   "metadata": {},
   "source": [
    "__i)__ Calcula la mediana del importe de la factura de los hombres."
   ]
  },
  {
   "cell_type": "code",
   "execution_count": null,
   "metadata": {},
   "outputs": [],
   "source": []
  },
  {
   "cell_type": "markdown",
   "metadata": {},
   "source": [
    "__j)__ Calcula el importe total pagado (importe factura + propina). Guarda el resultado en una nueva columna."
   ]
  },
  {
   "cell_type": "code",
   "execution_count": null,
   "metadata": {},
   "outputs": [],
   "source": [
    "# Sol:\n",
    "\n"
   ]
  },
  {
   "cell_type": "markdown",
   "metadata": {},
   "source": [
    "__k)__ Crea una nueva columna llamada `Fumandor_cat ` que tenfa valor `F` si se trata de un cliente fumador y `NF` si se trata de un cliente no fumador."
   ]
  },
  {
   "cell_type": "code",
   "execution_count": null,
   "metadata": {},
   "outputs": [],
   "source": [
    "# Sol:\n",
    "\n"
   ]
  },
  {
   "cell_type": "markdown",
   "metadata": {},
   "source": [
    "__l)__ Cuántos clientes fumadores hay en el dataframe?"
   ]
  },
  {
   "cell_type": "code",
   "execution_count": null,
   "metadata": {},
   "outputs": [],
   "source": [
    "# Sol:\n",
    "\n"
   ]
  },
  {
   "cell_type": "markdown",
   "metadata": {},
   "source": [
    "---------------------"
   ]
  }
 ],
 "metadata": {
  "anaconda-cloud": {},
  "kernelspec": {
   "display_name": "Python 3",
   "language": "python",
   "name": "python3"
  },
  "language_info": {
   "codemirror_mode": {
    "name": "ipython",
    "version": 3
   },
   "file_extension": ".py",
   "mimetype": "text/x-python",
   "name": "python",
   "nbconvert_exporter": "python",
   "pygments_lexer": "ipython3",
   "version": "3.7.3"
  },
  "nbTranslate": {
   "displayLangs": [
    "en",
    "es"
   ],
   "hotkey": "alt-t",
   "langInMainMenu": true,
   "sourceLang": "es",
   "targetLang": "en",
   "useGoogleTranslate": true
  },
  "toc": {
   "base_numbering": 1,
   "nav_menu": {
    "height": "68px",
    "width": "252px"
   },
   "number_sections": true,
   "sideBar": true,
   "skip_h1_title": false,
   "title_cell": "Table of Contents",
   "title_sidebar": "Contents",
   "toc_cell": false,
   "toc_position": {},
   "toc_section_display": "block",
   "toc_window_display": false
  }
 },
 "nbformat": 4,
 "nbformat_minor": 1
}
