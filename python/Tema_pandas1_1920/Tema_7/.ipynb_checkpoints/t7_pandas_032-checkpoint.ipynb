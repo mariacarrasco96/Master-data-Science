{
 "cells": [
  {
   "cell_type": "markdown",
   "metadata": {},
   "source": [
    "# Tratamento de ficheros en formato HTML"
   ]
  },
  {
   "cell_type": "markdown",
   "metadata": {},
   "source": [
    "Hoy en día existen muchos datos alojados en sitios web. En algunos casos, los datos se encuentran en ficheros (CSV o Excel) y pueden ser descargados libremente para su uso posterior. En otros casos, los datos están integrados en la propia página a través de su código HTML, por lo que resulta muy útil disponer de herramientas capaces de navegar por dicho código en busca de los datos que nos interesen. \n",
    "\n",
    "La librería Pandas proporciona herramientas eficientes para manejar documentos en formato HTML. El método `to_html` de la clase `DataFrame` permite transformar dataframes en tablas HTML de forma automática. La operación inversa también es posible; la función `pd.read_html` es  capaz de recorrer el código HTML de una página web en busca de los datos contenidos en tablas. "
   ]
  },
  {
   "cell_type": "markdown",
   "metadata": {},
   "source": [
    "## Leer datos de un documento HTML"
   ]
  },
  {
   "cell_type": "markdown",
   "metadata": {},
   "source": [
    "La función `pd.read_html` de Pandas recorre un documento HTML en busca de elementos de tipo `<table>`.  El valor devuelto por `pd.read_html` es una lista de objetos de tipo `DataFrame`, uno por cada tabla encontrada en el documento. Como argumento de entrada, la función `pd.read_html` recibe un documento HTML alojado localmente o un objeto de tipo `str` que represente el contenido de un documento HTML. \n",
    "\n",
    "En el siguiente ejemplo, mostramos cómo extraer la información de la página web con URL \"https://es.wikipedia.org/wiki/Anexo:Municipios_de_la_Comunidad_de_Madrid\". Esta página muestra datos asociados a distintas localidades de la Comunidad de Madrid. Para poder acceder al código HTML de una página web es necesario realizar una petición usando el protocolo HTTP Request/Response."
   ]
  },
  {
   "cell_type": "code",
   "execution_count": 1,
   "metadata": {},
   "outputs": [
    {
     "name": "stdout",
     "output_type": "stream",
     "text": [
      "La petición HTTP ha ido bien\n"
     ]
    }
   ],
   "source": [
    "import requests\n",
    "import pandas as pd\n",
    "\n",
    "url = \"https://es.wikipedia.org/wiki/Anexo:Municipios_de_la_Comunidad_de_Madrid\"\n",
    "respuesta = requests.get(url)\n",
    "if respuesta.status_code  == 200:\n",
    "    print('La petición HTTP ha ido bien')    \n",
    "else:\n",
    "    print('Problemas con la petición...')"
   ]
  },
  {
   "cell_type": "markdown",
   "metadata": {},
   "source": [
    "La librería [Requests](http://docs.python-requests.org/en/master/) permite realizar peticiones HTTP de forma muy sentilla. Para usarla es necesario importarla. La función `requests.get` abre una conexión con el servidor donde se encuentra la url y manda la petición. La respuesta del servidor se almacena en un objeto de la clase `Response`. El objeto devuelto almacena muchos datos relacionados con la petición HTTP (cabeceras, cookies, etc.). De momento nos interesa conocer si la petición ha tenido éxito (propiedad `status_code`) y el string que representa el documento HTML de la página (propiedad `text`). "
   ]
  },
  {
   "cell_type": "code",
   "execution_count": 2,
   "metadata": {
    "collapsed": true
   },
   "outputs": [],
   "source": [
    "codigoHTML = respuesta.text\n",
    "lista_dataframes = pd.read_html(codigoHTML, header=0)"
   ]
  },
  {
   "cell_type": "markdown",
   "metadata": {},
   "source": [
    "La función  `pd.read_html` devuelve una lista de dataframes, en el caso de que la página asociada a la url contenga algún elemento de tipo `<table>`. En otro caso, la función no devuelve la lista vacía, sino que devuelve un error de ejecución."
   ]
  },
  {
   "cell_type": "code",
   "execution_count": 3,
   "metadata": {},
   "outputs": [
    {
     "data": {
      "text/plain": [
       "1"
      ]
     },
     "execution_count": 3,
     "metadata": {},
     "output_type": "execute_result"
    }
   ],
   "source": [
    "len(lista_dataframes)"
   ]
  },
  {
   "cell_type": "markdown",
   "metadata": {},
   "source": [
    "En nuestro ejemplo, la lista devuelta contiene un único dataframe:"
   ]
  },
  {
   "cell_type": "code",
   "execution_count": 4,
   "metadata": {},
   "outputs": [
    {
     "data": {
      "text/html": [
       "<div>\n",
       "<style>\n",
       "    .dataframe thead tr:only-child th {\n",
       "        text-align: right;\n",
       "    }\n",
       "\n",
       "    .dataframe thead th {\n",
       "        text-align: left;\n",
       "    }\n",
       "\n",
       "    .dataframe tbody tr th {\n",
       "        vertical-align: top;\n",
       "    }\n",
       "</style>\n",
       "<table border=\"1\" class=\"dataframe\">\n",
       "  <thead>\n",
       "    <tr style=\"text-align: right;\">\n",
       "      <th></th>\n",
       "      <th>Nombre</th>\n",
       "      <th>Población (2017)</th>\n",
       "      <th>Superficie (km²)[1]​</th>\n",
       "      <th>Mapa</th>\n",
       "      <th>Escudo</th>\n",
       "      <th>Capitalidad[1]​</th>\n",
       "      <th>Altitud (msnm)[a]​[2]​</th>\n",
       "    </tr>\n",
       "  </thead>\n",
       "  <tbody>\n",
       "    <tr>\n",
       "      <th>0</th>\n",
       "      <td>La Acebeda</td>\n",
       "      <td>66</td>\n",
       "      <td>2206</td>\n",
       "      <td>NaN</td>\n",
       "      <td>NaN</td>\n",
       "      <td>La Acebeda</td>\n",
       "      <td>1271</td>\n",
       "    </tr>\n",
       "    <tr>\n",
       "      <th>1</th>\n",
       "      <td>Ajalvir</td>\n",
       "      <td>4455</td>\n",
       "      <td>1962</td>\n",
       "      <td>NaN</td>\n",
       "      <td>NaN</td>\n",
       "      <td>Ajalvir</td>\n",
       "      <td>680</td>\n",
       "    </tr>\n",
       "    <tr>\n",
       "      <th>2</th>\n",
       "      <td>Alameda del Valle</td>\n",
       "      <td>199</td>\n",
       "      <td>2501</td>\n",
       "      <td>NaN</td>\n",
       "      <td>NaN</td>\n",
       "      <td>Alameda del Valle</td>\n",
       "      <td>1104</td>\n",
       "    </tr>\n",
       "    <tr>\n",
       "      <th>3</th>\n",
       "      <td>El Álamo</td>\n",
       "      <td>9149</td>\n",
       "      <td>2225</td>\n",
       "      <td>NaN</td>\n",
       "      <td>NaN</td>\n",
       "      <td>El Álamo</td>\n",
       "      <td>608</td>\n",
       "    </tr>\n",
       "    <tr>\n",
       "      <th>4</th>\n",
       "      <td>Alcalá de Henares</td>\n",
       "      <td>194 310</td>\n",
       "      <td>8772</td>\n",
       "      <td>NaN</td>\n",
       "      <td>NaN</td>\n",
       "      <td>Alcalá de Henares</td>\n",
       "      <td>587</td>\n",
       "    </tr>\n",
       "    <tr>\n",
       "      <th>5</th>\n",
       "      <td>Alcobendas</td>\n",
       "      <td>114 864</td>\n",
       "      <td>4498</td>\n",
       "      <td>NaN</td>\n",
       "      <td>NaN</td>\n",
       "      <td>Alcobendas</td>\n",
       "      <td>669</td>\n",
       "    </tr>\n",
       "    <tr>\n",
       "      <th>6</th>\n",
       "      <td>Alcorcón</td>\n",
       "      <td>168 141</td>\n",
       "      <td>3373</td>\n",
       "      <td>NaN</td>\n",
       "      <td>NaN</td>\n",
       "      <td>Alcorcón</td>\n",
       "      <td>711</td>\n",
       "    </tr>\n",
       "  </tbody>\n",
       "</table>\n",
       "</div>"
      ],
      "text/plain": [
       "              Nombre Población (2017)  Superficie (km²)[1]​  Mapa  Escudo  \\\n",
       "0         La Acebeda               66                  2206   NaN     NaN   \n",
       "1            Ajalvir             4455                  1962   NaN     NaN   \n",
       "2  Alameda del Valle              199                  2501   NaN     NaN   \n",
       "3           El Álamo             9149                  2225   NaN     NaN   \n",
       "4  Alcalá de Henares          194 310                  8772   NaN     NaN   \n",
       "5         Alcobendas          114 864                  4498   NaN     NaN   \n",
       "6           Alcorcón          168 141                  3373   NaN     NaN   \n",
       "\n",
       "     Capitalidad[1]​  Altitud (msnm)[a]​[2]​  \n",
       "0         La Acebeda                    1271  \n",
       "1            Ajalvir                     680  \n",
       "2  Alameda del Valle                    1104  \n",
       "3           El Álamo                     608  \n",
       "4  Alcalá de Henares                     587  \n",
       "5         Alcobendas                     669  \n",
       "6           Alcorcón                     711  "
      ]
     },
     "execution_count": 4,
     "metadata": {},
     "output_type": "execute_result"
    }
   ],
   "source": [
    "lista_dataframes[0].head(7)"
   ]
  },
  {
   "cell_type": "markdown",
   "metadata": {},
   "source": [
    "Como se puede observar, la función `pd.read_html` ignora todos los elementos contenidos en el documento HTML que no tengan nada que ver con tablas HTML."
   ]
  },
  {
   "cell_type": "markdown",
   "metadata": {},
   "source": [
    "## Escritura de dataframes en código HTML"
   ]
  },
  {
   "cell_type": "markdown",
   "metadata": {},
   "source": [
    "Una tabla HTML viene representada por una estructura jerárquica donde el elemento principal es el elemento `<table>`. Cada fila de la tabla se representa con un elemento de tipo `<tr>` y cada celda es un elemento de tipo `<th>` para las celdas de cabecera y `<td>` para el resto. El siguiente ejemplo muestra el código de una tabla HTML:"
   ]
  },
  {
   "cell_type": "code",
   "execution_count": 5,
   "metadata": {},
   "outputs": [
    {
     "data": {
      "text/html": [
       "\n",
       "<table>\n",
       "    <tr>\n",
       "      <th><strong>Ana</strong></th>\n",
       "      <th><strong>Pablo</strong></th>\n",
       "      <th><strong>Jaime</strong></th>\n",
       "    </tr>\n",
       " \n",
       "    <tr>\n",
       "      <td>10</td>\n",
       "      <td>20</td>\n",
       "      <td>30</td>\n",
       "    </tr>\n",
       " \n",
       "    <tr>\n",
       "      <td>40</td>\n",
       "      <td>50</td>\n",
       "      <td>60</td>\n",
       "    </tr>\n",
       "</table>"
      ],
      "text/plain": [
       "<IPython.core.display.HTML object>"
      ]
     },
     "execution_count": 5,
     "metadata": {},
     "output_type": "execute_result"
    }
   ],
   "source": [
    "from IPython.display import HTML\n",
    "s = \"\"\"\n",
    "<table>\n",
    "    <tr>\n",
    "      <th><strong>Ana</strong></th>\n",
    "      <th><strong>Pablo</strong></th>\n",
    "      <th><strong>Jaime</strong></th>\n",
    "    </tr>\n",
    " \n",
    "    <tr>\n",
    "      <td>10</td>\n",
    "      <td>20</td>\n",
    "      <td>30</td>\n",
    "    </tr>\n",
    " \n",
    "    <tr>\n",
    "      <td>40</td>\n",
    "      <td>50</td>\n",
    "      <td>60</td>\n",
    "    </tr>\n",
    "</table>\"\"\"\n",
    "HTML(s)"
   ]
  },
  {
   "cell_type": "markdown",
   "metadata": {},
   "source": [
    "El método `to_html` de la clase `DataFrame` es capaza de crear una tabla HTML a partir de los datos contenidos en el dataframe de forma automática."
   ]
  },
  {
   "cell_type": "code",
   "execution_count": 6,
   "metadata": {},
   "outputs": [
    {
     "data": {
      "text/html": [
       "<div>\n",
       "<style>\n",
       "    .dataframe thead tr:only-child th {\n",
       "        text-align: right;\n",
       "    }\n",
       "\n",
       "    .dataframe thead th {\n",
       "        text-align: left;\n",
       "    }\n",
       "\n",
       "    .dataframe tbody tr th {\n",
       "        vertical-align: top;\n",
       "    }\n",
       "</style>\n",
       "<table border=\"1\" class=\"dataframe\">\n",
       "  <thead>\n",
       "    <tr style=\"text-align: right;\">\n",
       "      <th></th>\n",
       "      <th>1992</th>\n",
       "      <th>The Crying Game</th>\n",
       "      <th>War</th>\n",
       "    </tr>\n",
       "  </thead>\n",
       "  <tbody>\n",
       "    <tr>\n",
       "      <th>0</th>\n",
       "      <td>1995</td>\n",
       "      <td>Toy Story</td>\n",
       "      <td>Animation</td>\n",
       "    </tr>\n",
       "    <tr>\n",
       "      <th>1</th>\n",
       "      <td>1995</td>\n",
       "      <td>GoldenEye</td>\n",
       "      <td>Action</td>\n",
       "    </tr>\n",
       "    <tr>\n",
       "      <th>2</th>\n",
       "      <td>1995</td>\n",
       "      <td>Four Rooms</td>\n",
       "      <td>Thriller</td>\n",
       "    </tr>\n",
       "  </tbody>\n",
       "</table>\n",
       "</div>"
      ],
      "text/plain": [
       "   1992 The Crying Game        War\n",
       "0  1995       Toy Story  Animation\n",
       "1  1995       GoldenEye     Action\n",
       "2  1995      Four Rooms   Thriller"
      ]
     },
     "execution_count": 6,
     "metadata": {},
     "output_type": "execute_result"
    }
   ],
   "source": [
    "dfcsv = pd.read_csv('datos/peliculas.csv', skiprows = [0, 1, 2, 3, 4 , 5, 6, 7, 8, 9])\n",
    "dfcsv"
   ]
  },
  {
   "cell_type": "code",
   "execution_count": 7,
   "metadata": {},
   "outputs": [
    {
     "name": "stdout",
     "output_type": "stream",
     "text": [
      "<table border=\"1\" class=\"dataframe\">\n",
      "  <thead>\n",
      "    <tr style=\"text-align: right;\">\n",
      "      <th></th>\n",
      "      <th>1992</th>\n",
      "      <th>The Crying Game</th>\n",
      "      <th>War</th>\n",
      "    </tr>\n",
      "  </thead>\n",
      "  <tbody>\n",
      "    <tr>\n",
      "      <th>0</th>\n",
      "      <td>1995</td>\n",
      "      <td>Toy Story</td>\n",
      "      <td>Animation</td>\n",
      "    </tr>\n",
      "    <tr>\n",
      "      <th>1</th>\n",
      "      <td>1995</td>\n",
      "      <td>GoldenEye</td>\n",
      "      <td>Action</td>\n",
      "    </tr>\n",
      "    <tr>\n",
      "      <th>2</th>\n",
      "      <td>1995</td>\n",
      "      <td>Four Rooms</td>\n",
      "      <td>Thriller</td>\n",
      "    </tr>\n",
      "  </tbody>\n",
      "</table>\n"
     ]
    }
   ],
   "source": [
    "print(dfcsv.to_html())"
   ]
  },
  {
   "cell_type": "markdown",
   "metadata": {},
   "source": [
    "Una vez generada la tabla HTML, podemos integrar el código en cualquier documento HTML para ser interpretado por un navegador."
   ]
  },
  {
   "cell_type": "markdown",
   "metadata": {},
   "source": [
    "## Referencias\n",
    "\n"
   ]
  },
  {
   "cell_type": "markdown",
   "metadata": {},
   "source": [
    "* [Big Data. Análisis de datos con Python. Sarasa Cabezuelo, Antonio; García Ruiz, Yolanda Aditorial Garceta. ISBN: 978-84-1622-883-6](http://www.garceta.es/libro.php?ISBN=978-84-1622-883-6)\n",
    "* [Python for Data Analysis](http://shop.oreilly.com/product/0636920023784.do)\n",
    "* [librería request](http://docs.python-requests.org/en/master/)\n",
    "* [`lxml`](http://lxml.de/)\n",
    "\n",
    "------"
   ]
  }
 ],
 "metadata": {
  "anaconda-cloud": {},
  "kernelspec": {
   "display_name": "Python 3",
   "language": "python",
   "name": "python3"
  },
  "language_info": {
   "codemirror_mode": {
    "name": "ipython",
    "version": 3
   },
   "file_extension": ".py",
   "mimetype": "text/x-python",
   "name": "python",
   "nbconvert_exporter": "python",
   "pygments_lexer": "ipython3",
   "version": "3.6.3"
  },
  "toc": {
   "nav_menu": {
    "height": "394px",
    "width": "252px"
   },
   "number_sections": true,
   "sideBar": true,
   "skip_h1_title": false,
   "title_cell": "Table of Contents",
   "title_sidebar": "Contents",
   "toc_cell": false,
   "toc_position": {},
   "toc_section_display": "block",
   "toc_window_display": true
  }
 },
 "nbformat": 4,
 "nbformat_minor": 1
}
