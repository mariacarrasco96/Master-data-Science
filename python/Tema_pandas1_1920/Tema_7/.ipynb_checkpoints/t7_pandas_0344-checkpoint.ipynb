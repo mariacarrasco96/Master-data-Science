{
 "cells": [
  {
   "cell_type": "markdown",
   "metadata": {},
   "source": [
    "<div id=\"navegacion\" prev=\"../Tema_7/t7_pandas_033.html\" next=\"\"></div>\n",
    "\n",
    "<div class=\"section-title\">Sección 5.4</div>"
   ]
  },
  {
   "cell_type": "code",
   "execution_count": 1,
   "metadata": {
    "collapsed": false
   },
   "outputs": [],
   "source": [
    "from bs4 import BeautifulSoup\n",
    "\n",
    "import json\n",
    "\n",
    "def listings(file):\n",
    "    print(file.split('/')[-1])\n",
    "    print('------------')\n",
    "    print(open( file, 'r').read())\n",
    "    \n",
    "def printingXML(file):\n",
    "    bs = BeautifulSoup(open(file), 'xml')\n",
    "    print(bs.prettify())\n",
    "    \n",
    "import codecs   \n",
    "\n",
    "def listingjson(file):\n",
    "    with open(file) as json_data:\n",
    "        d = json.load(json_data, encoding=\"utf-8\")\n",
    "    print( json.dumps(d, indent=4)     )\n",
    "        \n"
   ]
  },
  {
   "cell_type": "markdown",
   "metadata": {},
   "source": [
    "# Tratamento de ficheros en formato HTML"
   ]
  },
  {
   "cell_type": "markdown",
   "metadata": {},
   "source": [
    "## Tratamiento de datos en formato XML"
   ]
  },
  {
   "cell_type": "markdown",
   "metadata": {},
   "source": [
    "Actualmente son muchas las aplicaciones y sistemas que comparten información. Es por ello que se han desarrollado estándares para la representación de datos. Entre los más populares está XML junto con JSON.  \n",
    "XML es un lenguaje de marcas que permite representar cualquier estructura de datos de forma jerárquica y con atributos variables.  Sin embargo, Pandas no incorpora ninguna función para tratar de forma directa los datos que se encuentran en este formato. Sin embargo existen en Python varias librerías que ofrecen herramientas para leer documentos XML con el fin de extraer información.\n",
    "\n",
    "A continuación mostramos una de las librerías que permite el tratamiento de documentos en formato XML. Se trata de la librería [`lxml`](http://lxml.de/). Esta librería ofrece una estructura de datos capaz de representar documentos XML y los métodos necesarios para navegar por dichos documentos. Se trata de la clase `tree`."
   ]
  },
  {
   "cell_type": "markdown",
   "metadata": {},
   "source": [
    "### Lectura de documentos XML alojados localmente"
   ]
  },
  {
   "cell_type": "markdown",
   "metadata": {},
   "source": [
    "En la figura XX mostramos un ejemplo de cómo se puede representar la información básica de una colección de canciones mediante una estructura jerárquica usando XML."
   ]
  },
  {
   "cell_type": "code",
   "execution_count": 54,
   "metadata": {
    "collapsed": false
   },
   "outputs": [
    {
     "name": "stdout",
     "output_type": "stream",
     "text": [
      "<?xml version=\"1.0\" encoding=\"utf-8\"?>\n",
      "<canciones>\n",
      " <cancion fecha=\"1992\">\n",
      "  <titulo>\n",
      "   Nothing Else Matters\n",
      "  </titulo>\n",
      "  <interprete>\n",
      "   Metallica\n",
      "  </interprete>\n",
      " </cancion>\n",
      " <cancion fecha=\"2010\">\n",
      "  <titulo>\n",
      "   Need you now\n",
      "  </titulo>\n",
      "  <interprete>\n",
      "   Lady Antebellum\n",
      "  </interprete>\n",
      "  <estilo>\n",
      "   Country pop\n",
      "  </estilo>\n",
      " </cancion>\n",
      "</canciones>\n"
     ]
    }
   ],
   "source": [
    "printingXML(\"./datos/songs.xml\")"
   ]
  },
  {
   "cell_type": "markdown",
   "metadata": {},
   "source": [
    "Un documento XML es una colección de elementos.La primera línea es la declaración del documento XML. En este ejemplo, la primera línea contiene información acerca de la versión y la codificación usada. La segunda línea describe el elemento raíz del documento (root element), definido bajo la etiqueta `canciones`.\n",
    "\n",
    "Los documentos XML se pueden representar mediante una estructura de árbol (ver figura XXX). Bajo el elemento raíz  tenemos dos elementos hijos (child elements). Cada uno de los hijos se representa con la etiqueta `item`. Los elementos XML pueden tener atributos, estos son pares (nombre, valor). En el ejemplo, el  elements `<cancion fecha=\"2010\">` tiene un atributo `fecha` con valor `2010`. La última línea describe el final del documento."
   ]
  },
  {
   "cell_type": "markdown",
   "metadata": {},
   "source": [
    "Para leer la información de un documento XML y almacenarla en un objeto de tipo `DataFrame` tenemos que importar el submódulo `objectify` de la librería `lxml`. "
   ]
  },
  {
   "cell_type": "code",
   "execution_count": 55,
   "metadata": {
    "collapsed": false
   },
   "outputs": [],
   "source": [
    "from lxml import objectify"
   ]
  },
  {
   "cell_type": "markdown",
   "metadata": {},
   "source": [
    "Posteriormente tenemos que crear un objeto de la clase  `tree` mediante la función `objectify.parse`. Para navegar por ésta estructura es necesario definir el elemento raíz del documento mediante el método `getroot` de la clase `tree`. "
   ]
  },
  {
   "cell_type": "code",
   "execution_count": 56,
   "metadata": {
    "collapsed": false
   },
   "outputs": [
    {
     "data": {
      "text/plain": [
       "<Element canciones at 0x26eb6374b08>"
      ]
     },
     "execution_count": 56,
     "metadata": {},
     "output_type": "execute_result"
    }
   ],
   "source": [
    "xml = objectify.parse(\"./datos/songs.xml\")\n",
    "root = xml.getroot()\n",
    "root"
   ]
  },
  {
   "cell_type": "markdown",
   "metadata": {},
   "source": [
    "El acceso a los elementos del documento se realiza mediante expresiones de ruta usando la notación usanda habitualmente cuando navegamos por un árbol de directorios con la notación punto. Por ejemplo, para recuperar el nombre de la primera canción escribiremos lo siguiente:\n"
   ]
  },
  {
   "cell_type": "code",
   "execution_count": 57,
   "metadata": {
    "collapsed": false
   },
   "outputs": [
    {
     "data": {
      "text/plain": [
       "'\\n   Nothing Else Matters\\n  '"
      ]
     },
     "execution_count": 57,
     "metadata": {},
     "output_type": "execute_result"
    }
   ],
   "source": [
    "root.cancion.titulo"
   ]
  },
  {
   "cell_type": "markdown",
   "metadata": {},
   "source": [
    "Cada elemento del documento XML tiene una serie de características que podemos consultar:\n",
    "* `tag` - Nombre del elemento\n",
    "* `text` - Texto contenido entre las etiquetas del elemento\n",
    "* `attrib` - Diccionario de atributos\n",
    "\n",
    "Por ejemplo si queremos consultar las características del primer hijo del elemento raíz:"
   ]
  },
  {
   "cell_type": "code",
   "execution_count": 58,
   "metadata": {
    "collapsed": false
   },
   "outputs": [],
   "source": [
    "c1 = root.cancion"
   ]
  },
  {
   "cell_type": "code",
   "execution_count": 59,
   "metadata": {
    "collapsed": false
   },
   "outputs": [
    {
     "data": {
      "text/plain": [
       "('cancion', None, {'fecha': '1992'})"
      ]
     },
     "execution_count": 59,
     "metadata": {},
     "output_type": "execute_result"
    }
   ],
   "source": [
    "c1.tag, c1.text, c1.attrib"
   ]
  },
  {
   "cell_type": "markdown",
   "metadata": {},
   "source": [
    "Con lo anterior, solo podemos acceder al primer elemento del nodo raiz. Para acceder a todos los elementos hijos de un elemento cualquiera del documento, usamos el método `getchildren`."
   ]
  },
  {
   "cell_type": "code",
   "execution_count": 60,
   "metadata": {
    "collapsed": false
   },
   "outputs": [
    {
     "data": {
      "text/plain": [
       "[<Element cancion at 0x26eb636b048>, <Element cancion at 0x26eb638a0c8>]"
      ]
     },
     "execution_count": 60,
     "metadata": {},
     "output_type": "execute_result"
    }
   ],
   "source": [
    "hijos = root.getchildren()\n",
    "hijos"
   ]
  },
  {
   "cell_type": "markdown",
   "metadata": {},
   "source": [
    "El resultado es una lista de elementos. En nuestro ejemplo, el resultado es una lista de dos elementos, cda uno de los cuales es un elemento del documento XML.\n",
    "Ahora es posible consultar los títulos de todas las canciones del documento junto con su  fecha."
   ]
  },
  {
   "cell_type": "code",
   "execution_count": 61,
   "metadata": {
    "collapsed": false
   },
   "outputs": [
    {
     "name": "stdout",
     "output_type": "stream",
     "text": [
      "Título:  \n",
      "   Nothing Else Matters\n",
      "   --- 1992\n",
      "Título:  \n",
      "   Need you now\n",
      "   --- 2010\n"
     ]
    }
   ],
   "source": [
    "for elem in hijos:\n",
    "    print('Título: ', elem.titulo.text, '---', elem.attrib['fecha'])"
   ]
  },
  {
   "cell_type": "markdown",
   "metadata": {},
   "source": [
    "Para construir un dataframe a partir de la información contenida en el documento XML es necesario escribir una función que realize esta tarea. La función variará de un documento a otro, ya que la estructura de los documentos depende de los datos que contiene."
   ]
  },
  {
   "cell_type": "code",
   "execution_count": 62,
   "metadata": {
    "collapsed": false
   },
   "outputs": [],
   "source": [
    "def xml2df(root):\n",
    "    datos = []\n",
    "    columnas = [\"Titulo\", \"Fecha\", \"Intérprete\"]\n",
    "    for elem in hijos:\n",
    "        titulo = elem.titulo.text\n",
    "        fecha = elem.attrib['fecha']\n",
    "        interprete = elem.interprete.text\n",
    "        tupla = (titulo, fecha, interprete)\n",
    "        datos.append(tupla)\n",
    "    df = pd.DataFrame(datos, columns = columnas )\n",
    "    return df        "
   ]
  },
  {
   "cell_type": "code",
   "execution_count": 63,
   "metadata": {
    "collapsed": false
   },
   "outputs": [
    {
     "data": {
      "text/html": [
       "<div>\n",
       "<table border=\"1\" class=\"dataframe\">\n",
       "  <thead>\n",
       "    <tr style=\"text-align: right;\">\n",
       "      <th></th>\n",
       "      <th>Titulo</th>\n",
       "      <th>Fecha</th>\n",
       "      <th>Intérprete</th>\n",
       "    </tr>\n",
       "  </thead>\n",
       "  <tbody>\n",
       "    <tr>\n",
       "      <th>0</th>\n",
       "      <td>\\n   Nothing Else Matters\\n</td>\n",
       "      <td>1992</td>\n",
       "      <td>\\n   Metallica\\n</td>\n",
       "    </tr>\n",
       "    <tr>\n",
       "      <th>1</th>\n",
       "      <td>\\n   Need you now\\n</td>\n",
       "      <td>2010</td>\n",
       "      <td>\\n   Lady Antebellum\\n</td>\n",
       "    </tr>\n",
       "  </tbody>\n",
       "</table>\n",
       "</div>"
      ],
      "text/plain": [
       "                          Titulo Fecha                Intérprete\n",
       "0  \\n   Nothing Else Matters\\n    1992        \\n   Metallica\\n  \n",
       "1          \\n   Need you now\\n    2010  \\n   Lady Antebellum\\n  "
      ]
     },
     "execution_count": 63,
     "metadata": {},
     "output_type": "execute_result"
    }
   ],
   "source": [
    "xml2df(root)"
   ]
  },
  {
   "cell_type": "markdown",
   "metadata": {},
   "source": [
    "El elemento con etiqueta `estilo` hay que tratarlo un poco diferente porque no se encuentra como hijo de todos los elementos con etiqueta canción. Para recuperarlo podemos hacer lo siguiente:"
   ]
  },
  {
   "cell_type": "code",
   "execution_count": 64,
   "metadata": {
    "collapsed": false
   },
   "outputs": [],
   "source": [
    "def xml2df_v2(root):\n",
    "    datos = []\n",
    "    columnas = [\"Titulo\", \"Fecha\", \"Intérprete\", \"Estilo\"]\n",
    "    for elem in hijos:\n",
    "        titulo = elem.titulo.text\n",
    "        fecha = elem.attrib['fecha']\n",
    "        interprete = elem.interprete.text\n",
    "        #----\n",
    "        elem_estilo = elem.find('./estilo')\n",
    "        if elem_estilo:\n",
    "            estilo = elem_estilo.text\n",
    "        else:\n",
    "            estilo = np.nan\n",
    "        #---\n",
    "        tupla = (titulo, fecha, interprete, estilo)\n",
    "        datos.append(tupla)\n",
    "    df = pd.DataFrame(datos, columns = columnas )\n",
    "    return df        "
   ]
  },
  {
   "cell_type": "code",
   "execution_count": 65,
   "metadata": {
    "collapsed": false
   },
   "outputs": [
    {
     "data": {
      "text/html": [
       "<div>\n",
       "<table border=\"1\" class=\"dataframe\">\n",
       "  <thead>\n",
       "    <tr style=\"text-align: right;\">\n",
       "      <th></th>\n",
       "      <th>Titulo</th>\n",
       "      <th>Fecha</th>\n",
       "      <th>Intérprete</th>\n",
       "      <th>Estilo</th>\n",
       "    </tr>\n",
       "  </thead>\n",
       "  <tbody>\n",
       "    <tr>\n",
       "      <th>0</th>\n",
       "      <td>\\n   Nothing Else Matters\\n</td>\n",
       "      <td>1992</td>\n",
       "      <td>\\n   Metallica\\n</td>\n",
       "      <td>NaN</td>\n",
       "    </tr>\n",
       "    <tr>\n",
       "      <th>1</th>\n",
       "      <td>\\n   Need you now\\n</td>\n",
       "      <td>2010</td>\n",
       "      <td>\\n   Lady Antebellum\\n</td>\n",
       "      <td>\\n   Country pop\\n</td>\n",
       "    </tr>\n",
       "  </tbody>\n",
       "</table>\n",
       "</div>"
      ],
      "text/plain": [
       "                          Titulo Fecha                Intérprete  \\\n",
       "0  \\n   Nothing Else Matters\\n    1992        \\n   Metallica\\n     \n",
       "1          \\n   Need you now\\n    2010  \\n   Lady Antebellum\\n     \n",
       "\n",
       "                 Estilo  \n",
       "0                   NaN  \n",
       "1  \\n   Country pop\\n    "
      ]
     },
     "execution_count": 65,
     "metadata": {},
     "output_type": "execute_result"
    }
   ],
   "source": [
    "xml2df_v2(root)"
   ]
  },
  {
   "cell_type": "markdown",
   "metadata": {},
   "source": [
    "### Peticiones de documentos XML"
   ]
  },
  {
   "cell_type": "markdown",
   "metadata": {},
   "source": [
    "Muchos sitios web ofrecen cierta información a través de documentos XML. Por ejemplo, si realizamos una petición usando el protocolo HTTP Request/Response a la página con URL \"https://www.esmadrid.com/opendata/alojamientos_v1_es.xml\", podemos cargar en memoria un documento XML para su posterior procesamiento. Si abrimos el documento con el navegador, podremos ver la estructura del documento y los datos que contiene. En este caso, contiene información de los alojamientos ubicados en la Comunidad de Madrid (hoteles, hostales, etc)."
   ]
  },
  {
   "cell_type": "code",
   "execution_count": 66,
   "metadata": {
    "collapsed": false
   },
   "outputs": [
    {
     "name": "stdout",
     "output_type": "stream",
     "text": [
      "Petición con éxito\n"
     ]
    }
   ],
   "source": [
    "html = \"http://www.esmadrid.com/opendata/alojamientos_v1_es.xml\"\n",
    "response = requests.get(html)\n",
    "if response.status_code == 200:\n",
    "    print ('Petición con éxito')\n",
    "else:\n",
    "    print ('Petición con error')"
   ]
  },
  {
   "cell_type": "markdown",
   "metadata": {},
   "source": [
    "Para ello utilizaremos la libreria request. En este caso tendremos un documento XML y su \"Status Code\"."
   ]
  },
  {
   "cell_type": "markdown",
   "metadata": {},
   "source": [
    "Una vez comprobado que la petición ha tenido éxito, lo que hacemos es obtener el string que representa el documento XML (propiedad text)."
   ]
  },
  {
   "cell_type": "code",
   "execution_count": 67,
   "metadata": {
    "collapsed": false
   },
   "outputs": [],
   "source": [
    "data = response.text"
   ]
  },
  {
   "cell_type": "markdown",
   "metadata": {},
   "source": [
    "Para acceder al elemento raíz del documento usamos la función `objectify.fromstring`. "
   ]
  },
  {
   "cell_type": "code",
   "execution_count": 68,
   "metadata": {
    "collapsed": false
   },
   "outputs": [
    {
     "data": {
      "text/plain": [
       "<Element serviceList at 0x26eb538b6c8>"
      ]
     },
     "execution_count": 68,
     "metadata": {},
     "output_type": "execute_result"
    }
   ],
   "source": [
    "root = objectify.fromstring(bytes(bytearray(data, encoding='utf-8')))\n",
    "root"
   ]
  },
  {
   "cell_type": "markdown",
   "metadata": {},
   "source": [
    "Si queremos consultar el número de alojamientos que están registrdos en el documento XML, escribimos lo siguiente:"
   ]
  },
  {
   "cell_type": "code",
   "execution_count": 69,
   "metadata": {
    "collapsed": false
   },
   "outputs": [
    {
     "name": "stdout",
     "output_type": "stream",
     "text": [
      "Número de alojamientos:  625\n"
     ]
    }
   ],
   "source": [
    "alojamientos = root.getchildren()\n",
    "print('Número de alojamientos: ', len(alojamientos))"
   ]
  },
  {
   "cell_type": "markdown",
   "metadata": {},
   "source": [
    "Par consultar el nombre y el email de todos los alojamientos, escribimos lo siguiente:"
   ]
  },
  {
   "cell_type": "code",
   "execution_count": 70,
   "metadata": {
    "collapsed": false
   },
   "outputs": [
    {
     "name": "stdout",
     "output_type": "stream",
     "text": [
      "Barcel&oacute; Torre de Madrid -- torredemadrid@barcelo.com\n",
      "Ibis Madrid Centro Las Ventas -- h7438@accor.com\n",
      "The Walt Madrid -- info@thewaltmadrid.es\n",
      "DoubleTree by Hilton -- Madrid_Prado_Info@hilton.com\n",
      "T&oacute;tem Madrid -- info@totem-madrid.com\n",
      "Vincci The Mint -- None\n",
      "Only You Hotel Atocha -- atocha@onlyyouhotels.com\n",
      "Exe Central -- reservas@execentral.com\n",
      "Novotel Madrid Center -- nfo@novotelmadridcenter.com\n",
      "Dear Hotel -- info@dearhotel.com\n",
      "Castilla II -- info@hostalcastilla.com\n",
      "DormirDcine -- reservas@dormirdcine.com\n",
      "NH Madrid Alonso Mart&iacute;nez -- nhalonsomartinez@nh-hotels.com\n",
      "The Hat -- info@thehatmadrid.com\n",
      "URSO Hotel &amp; Spa Madrid -- info@hotelurso.com\n",
      "One Shot 04 -- recoletos04@oneshothotels.com\n",
      "Hotel Indigo -- info@indigomadrid.com\n",
      "Hotel Innside Madrid Luchana -- reservas.innside.madrid@melia.com\n",
      "One Shot 23 -- prado23@oneshothotels.com\n",
      "U Hostels -- info@uhostels.com\n",
      "La posada de El Chafl&aacute;n -- posada@laposadadeelchaflan.com\n",
      "Senator Barajas -- None\n",
      "NH Collection Madrid Suecia -- nhsuecia@nh-hotels.com\n",
      "Exe Moncloa -- reservas@hotelexemoncloa.com\n",
      "Only You Hotel &amp; Lounge Madrid -- madrid@onlyyouhotels.com\n",
      "Hotel Travelodge Madrid Alcal&aacute; -- madrid.alcala@travelodge.co.uk\n",
      "Holiday Inn Madrid - Calle Alcal&aacute; -- info@himadrid.es\n",
      "Eurostars Plaza Mayor -- reservas@eurostarsplazamayor.com\n",
      "Apartamentos Spain Select -- info@spain-select.com\n",
      "Lapepa Chic B&amp;B -- hola@lapepa-bnb.com\n",
      "Artistic B&amp;B -- info@artisticbandb.com\n",
      "Hotel Innside Madrid G&eacute;nova -- reservas.innside.madrid@melia.com\n",
      "Artrip Hotel -- info@artriphotel.com\n",
      "Hotel Petit Palace Lealtad Plaza -- lealtad@petitpalace.com\n",
      "Hotel Petit Palace Savoy Alfonso XII -- alfonsoxii@petitpalace.com\n",
      "Petit Palace Santa B&aacute;rbara -- santabarbara@petitpalace.com\n",
      "La Posada del Drag&oacute;n -- info@posadadeldragon.com\n",
      "Catalonia Plaza Mayor --  news@hoteles-catalonia.es\n",
      "Catalonia Atocha --  news@hoteles-catalonia.es\n",
      "Hotel NH Ribera del Manzanares -- nhriberadelmanzanares@nh-hotels.es\n",
      "Posada del Le&oacute;n de Oro -- info@posadadelleondeoro.com\n",
      "Hotel NH Collection Madrid Palacio de Tepa -- nhcollectionpalaciodetepa@nh-hotels.com\n",
      "Barajas Plaza -- hotelbarajasplaza@hotmail.com\n",
      "Suites 33 -- reservas@exesuites33.com\n",
      "SHS Aeropuerto -- reservas@shshoteles.com\n",
      "Tach by Clement Hoteles -- info@tach-hotel.es\n",
      "Crowne Plaza Madrid Airport -- recepcion@crowneplazamadrid.com\n",
      "Juan de Austria -- None\n",
      "Hotel  Nuevo Boston -- info@hotelnuevoboston.com\n",
      "AC Atocha -- acatocha@ac-hotels.com\n",
      "Hotel Santo Domingo -- reserva@hotelsantodomingo.es\n",
      "Hostal Gala -- info@hostalgala.com\n",
      "Espahotel Gran V&iacute;a -- granvia@espahotel.es\n",
      "The Principal Madrid Hotel -- info@theprincipalmadridhotel.com\n",
      "Radisson Blu Hotel Prado -- info.madrid@radissonblu.com\n",
      "Mayerling -- recepcion@mayerlinghotel.com \n",
      "Urban Sea Atocha -- recepcionatocha@blueseahotels.es\n",
      "Axor Feria -- info@axorhoteles.com\n",
      "Axor Barajas Plus -- info@axorhoteles.com\n",
      "Oxum -- hostaloxum@hotmail.es\n",
      "Mirador de Chamart&iacute;n -- reservas@miradordechamartin.com\n",
      "Apartosuite Jardines de Sabatini -- reservas@jardinesdesabatini.com\n",
      "Splendid -- hostalsplendid@hotmail.com \n",
      "&Aacute;rtico -- None\n",
      "Los &Aacute;ngeles -- None\n",
      "Felipe V -- hostalfelipev@hostalfelipev.com\n",
      "Suites Barrio de Salamanca -- info@hotelbarriodesalamanca.es\n",
      "Aparthotel Encasa -- recepcion@aparthotelencasa.es\n",
      "Hotel &Uacute;nico -- info@unicohotelmadrid.com\n",
      "Pensi&oacute;n Stella -- gestionhostalesgv@gmail.com\n",
      "Tineo -- hostaltineo@hostaltineomadrid.com\n",
      "Rubio -- hostal_rubio@yahoo.es\n",
      "Rofer -- hostalrofer@hostalrofer.com\n",
      "Santa B&aacute;rbara -- santabarbara_h@yahoo.es\n",
      "Rico -- hostal.rico@hotmail.com\n",
      "Playa -- info@hostalplaya.com \n",
      "Patria -- hostal_patria_madrid@yahoo.es\n",
      "Hostal Pacios -- info@hostalpacios.es\n",
      "Hostal Oriente -- info@hostaloriente.es\n",
      "Pensi&oacute;n Mollo -- info@pensionmollo.es\n",
      "Casa de hu&eacute;spedes La Muralla -- info@hostalmurallas.com\n",
      "Marlasca -- correo@hostalmarlasca.net\n",
      "Mayrit -- reservas@hostalivor.com\n",
      "Los Perales -- hostalperales@yahoo.es\n",
      "Mendoza -- hostal.mendoza@yahoo.es\n",
      "Hostal Miguel &Aacute;ngel -- None\n",
      "Naranjos I -- hostal_naranjos@hotmail.com\n",
      "Internacional -- contacto@hostalinternacional.com\n",
      "Ivor -- reservas@hostalivor.com\n",
      "Casa de hu&eacute;spedes Ja&eacute;n -- hjaen@aliste.info \n",
      "Las Fuentes -- reserva@hostallasfuentes.com\n",
      "Hostal Horizonte -- info@hostalhorizonte.com\n",
      "Guerra -- contacto@hostalguerra.net\n",
      "Conchita II -- reservas@hostalconchitaII.com\n",
      "Edreira -- miguelcarracedo@hostaledreira.com\n",
      "El Catal&aacute;n -- attcliente@hostalelcatalan.es\n",
      "El Pasaje -- reservas@elpasajehs.com\n",
      "Faustino -- info@hostalfaustino.com\n",
      "Abami 2 -- info@abami2.com\n",
      "Hostal Biarritz -- hostalbiarritz@hotmail.com\n",
      "Aresol -- hostalaresolmad@gmail.com\n",
      "Dom&iacute;nguez -- postmaster@hostaldominguez.com\n",
      "Hostal del Pez Azul -- info@pezazul.com\n",
      "Hostal Chelo -- reservas@chelo.com\n",
      "Florida -- None\n",
      "Hispalense -- info@hostalhispalense.es \n",
      "Pensi&oacute;n Corbero -- donato@hostaldulcinea.com\n",
      "Pensi&oacute;n Cartagenera -- None\n",
      "Pensi&oacute;n Barja -- pensionbarja@gmail.com \n",
      "Pensi&oacute;n Berti -- comunicacion@pensionberti.com\n",
      "Hostal Bah&iacute;a Madrid -- info@hostalbahiamadrid.com\n",
      "Pensi&oacute;n Casado -- None\n",
      "Casa de Huespedes Casillas -- info@hostalcasillas.es\n",
      "Pensi&oacute;n Numancia -- info@pensionnumancia.es\n",
      "Casa de hu&eacute;spedes Amelia -- hostalbruna@ctv.es\n",
      "Pensi&oacute;n Adeco -- pensionadeco@hotmail.com\n",
      "Alaska -- hostalalaska@hotmail.com\n",
      "Angelines -- info@hostalangelines.com\n",
      "Ilunion Hotels Atrium -- reservasatrium@ilunionhotels.com\n",
      "Jard&iacute;n Real de Mirasierra  -- informacion@jardinrealmirasierra.com\n",
      "Apartamentos Madrid -- info@apartamentosmadrid.com\n",
      "NH Las Tablas -- nhlastablas@nh-hotels.com\n",
      "Los Coronales -- reservas@hostalcoronales.com\n",
      "Compostela Suites -- info@compostelasuites.com\n",
      "Villa Magna -- villamagna@villamagna.es\n",
      "Hotel Eco V&iacute;a Lusitana -- ecovialusitana@ecohoteles.com\n",
      "Eurostars Madrid Tower -- reservations@eurostarsmadridtower.com\n",
      "Petit Palace Mayor-Plaza -- mayor@petitpalace.com\n",
      "Hostal Odesa -- hostalodesamadrid@hotmail.com\n",
      "Hostal Dos Naciones -- info@hostaldosnaciones.com\n",
      "Hotel Julia -- madrid@hoteljulia.es\n",
      "Hilton Madrid Airport -- info.madridairport@hilton.com\n",
      "Maydrit -- reservasmaydrit@h-santos.es\n",
      "Apartamentos Ram&oacute;n de la Cruz -- info@ramondelacruz41.com\n",
      "Ibis Madrid Valent&iacute;n Beato -- H3312@ACCOR.COM\n",
      "Eco Alcal&aacute; Suites -- alcalasuites@ecohoteles.com\n",
      "B &amp; B Hotel Madrid Airport -- madridairport@hotelbb.com\n",
      "Suites Viena -- reservas@suitesviena.es\n",
      "Hostal Colors Host -- reservas@colorshost.com\n",
      "Armesto -- reservas@hostalarmesto.com\n",
      "Adri&aacute; Santa Ana -- info@hostaladriasantaana.com\n",
      "Albergue Juvenil Municipal -- info@ajmadrid.es \n",
      "Barcel&oacute; Castellana Norte -- castellananorte@barcelo.com\n",
      "Room Mate Laura -- laura@room-matehotels.com\n",
      "Hostal la Fontana  -- info@hostallafontana.com\n",
      "Pizarro -- info@hostalpizarro.eu\n",
      "Hostal Puerta del Sol -- booking@hostalpuertadelsol.com\n",
      "Room Mate Oscar  -- oscar@room-matehotels.com\n",
      "Albergue MuchoMadrid -- reservas@muchomadrid.com\n",
      "Hostel Los Amigos -- reservas@losamigoshostel.com \n",
      "Richard Schirrmann -- richardschirrmann@madrid.org \n",
      "San Ferm&iacute;n -- albergue@san-fermin.org\n",
      "Apartamentos Juan Bravo -- juanbravo@apartamentos-jb.com\n",
      "Albergue Internacional Posada de Huertas -- info@posadadehuertas.com\n",
      "Albergue Barbieri International -- booking@barbieriinternational.com\n",
      "Albergue Mad Hostel -- info@madhostel.com\n",
      "Cat's Hostel -- info@catshostel.com\n",
      " Albergue Juvenil Santa Cruz de Marcenado -- marcenado@madrid.org\n",
      "Residencia U. Instituci&oacute;n del Divino Maestro -- informacion@instituciondeldivinomaestro.es\n",
      "Aparthotel El Madro&ntilde;o -- info@hotelelmadrono.com \n",
      "Residencia U. Siervas del Sagrado Coraz&oacute;n -- info@residenciasagradoscorazones.com\n",
      "Residencia Universitaria Santo Tomas de Villanueva -- None\n",
      "Stylish city aparhotel -- info@stylishcityaparthotel.com\n",
      "Residencia Universitaria Augustinus-Nebrija -- residencias@nebrija.es\n",
      "Residencia Universitaria Mar&iacute;a Inmaculada -- resiponzano@yahoo.es\n",
      "Residencia U. Nuestra Se&ntilde;ora del Rosario -- resimadrid@dominicos.org\n",
      "Apartamentos Centro Col&oacute;n --  reservas@apartahotel-centro-colon.es\n",
      "Residencia Universitaria Cardenal Spinola -- rucspinola@planalfa.es\n",
      "Residencia Universitaria Virgen de las Nieves -- residenciavirgennieves@gmail.com\n",
      "Residencias de Postgraduados P&iacute;o XI y Le&oacute;n XIII -- residencias@fpablovi.org\n",
      "Aparthotel Amador de los R&iacute;os -- adrhotel@amadordelosrios.com\n",
      "Apartamentos Goya 75 -- info@apartamentosgoya75.com\n",
      "Aparthotel Serrano Recoletos -- info@apart-hotelserranorecoletos.com\n",
      "Apartamentos Olano -- info@apartamentosolano.es\n",
      "Apartamentos Principe 11 -- reservas@atprincipe11.com \n",
      "Residencia Universitaria Virgen de Los Dolores -- hvdmadrid@telefonica.net\n",
      "Colegio Mayor Jaime del Amo -- secretaria@jaimedelamo.org\n",
      "Colegio Mayor San Pablo -- colegiomayor@cmusp.com\n",
      "Residencia Sant&iacute;sima Trinidad -- info@hermanastrinitarias.com\n",
      "Residencia Nuestra Se&ntilde;ora de Coromoto -- info@residenciacoromoto.es\n",
      "Residencia Universitaria Madre del Divino Pastor -- residenciamdp@yahoo.es\n",
      "Residencia Universitaria Nebrija-Chamber&iacute; -- residencias@nebrija.es\n",
      "Aparthotel Th  Aravaca -- tharavaca@th-hoteles.com\n",
      "Residencia Universitaria Benito P&eacute;rez Gald&oacute;s -- info@residenciagaldos.com\n",
      "Residencia Trinitarias de Madrid -- liquetealmudena@hotmail.com\n",
      "Residencia de Estudiantes EASO -- info@easo.es\n",
      "Residencia Universitaria G&oacute;mez-Pardo -- residencia@fgomezpardo.es \n",
      "Club Universitario -- club.universitario@yahoo.com\n",
      "Centro Universitario Castilla -- mail@cmcastilla.com\n",
      "Colegio Mayor Aquinas -- director@cmaquinas.com\n",
      "Colegio Mayor P&iacute;o XII -- info@colegiomayorpioxii.es\n",
      "Aparthotel Th la Florida -- thlaflorida@th-hoteles.com\n",
      "Residencia Universitaria Presentaci&oacute;n de Mar&iacute;a -- residencia.universipm@gmail.com\n",
      "Apartamentos Andr&oacute;meda -- info@apartamentosandromedamadrid.com\n",
      "Residencia Universitaria El Pilar -- residenciaelpilar_mic@yahoo.es \n",
      "Residencia Virgen del Pilar -- None\n",
      "Residencia Universitaria Verbo Encarnado  -- residencia@verboencarnado.es\n",
      "Residencia Universitaria Porta Coeli -- None\n",
      "Residencia Universitaria Sant&iacute;sima Trinidad -- trini@anayfran.com\n",
      "Aparthotel Quo Eraso -- eraso@hotelesquo.com\n",
      "Tagaste Madrid -- holamadrid@tagaste.com\n",
      "Residencia Asociaci&oacute;n Cat&oacute;lica Internacional  -- None\n",
      "Residencia Universitaria Sagrado Coraz&oacute;n  -- info@residenciauniversitariasagradocorazon.es\n",
      "Aparthotel G3 Gale&oacute;n -- Info@g3galeon.com\n",
      "Colegio Mayor Xim&eacute;nez de Cisneros -- cmucisneros.comunicacion@gmail.com\n",
      "Colegio Mayor Santillana -- cmsantillana@cmsantillana.org\n",
      "Espahotel Plaza Bas&iacute;lica -- plazabasilica@espahotel.es\n",
      "Colegio Mayor Antonio de Nebrija  -- None\n",
      "Residencia Universitaria Ciudad Escolar -- residenciadeestudiantes@educa.madrid.org\n",
      "Aparthotel Ori&oacute;n -- info@apartamentosorionmadrid.com\n",
      "Colegio Mayor Mara -- secretaria@colegiomayormara.com\n",
      "Colegio Mayor Zurbar&aacute;n -- info@colegiomayorzurbaran.es\n",
      "Colegio Mayor Padre Poveda  -- secretaria@cmppoveda.es\n",
      "Colegio Mayor Santa Mar&iacute;a del Pino -- secretaria@colegiomayorpino.com  \n",
      "Colegio Mayor Santa M&oacute;nica -- informacion@cmumonica.es\n",
      "Colegio Mayor Vedruna  -- secretaria@cmvedruna.org\n",
      "Colegio Mayor Alcor -- info@cmalcor.com\n",
      "Colegio Mayor Juan XXIII Roncalli -- direccion@roncalli.es\n",
      "Espahotel Plaza de Espa&ntilde;a -- aparplaza@espahotel.es\n",
      "Colegio Mayor Nuestra Se&ntilde;ora de Guadalupe -- info.guadalupe@eoi.es\n",
      "Colegio Mayor Nuestra Se&ntilde;ora de Africa -- info.africa@eoi.es\n",
      "Colegio Mayor Argentino Nuestra Se&ntilde;ora de Luj&aacute;n -- administracion@cmanslujan.com\n",
      "Colegio Mayor Santa Mar&iacute;a de Europa -- deurop@pas.es\n",
      "Colegio Mayor Isabel de Espa&ntilde;a -- cmisabel@cmisabel.com\n",
      "Colegio Mayor Chaminade -- secretaria@fugjchaminade.es \n",
      "Colegio Mayor Barber&aacute;n -- None\n",
      "Residencia Universitaria Erasmo -- erasmo@resa.es \n",
      "Colegio Mayor Fundaci&oacute;n SEPI  -- colegiomayor@fundaciónsepi.es\n",
      "Colegio Mayor Berrospe -- cmberrospe@berrospe.org\n",
      "Aparthotel Tribunal -- info@hotel-tribunal.com\n",
      "Colegio Mayor Somosierra  -- cmsomosierra@cmsomosierra.com\n",
      "Aparto-Suittes Muralto -- reservas@muralto.es \n",
      "Colegio Mayor El&iacute;as Ah&uacute;ja -- info@eliasahuja.org\n",
      "Colegio Mayor Diego de Covarrubias -- ccmm@pas.ucm.es\n",
      "Apartamentos Sercotel Togumar -- reservas@apartamentostogumar.com\n",
      "Residencia Universitaria Sof&iacute;a Barat -- sbarat@rscj.es\n",
      "Colegio Mayor Teresa de Jes&uacute;s -- None\n",
      "Colegio Mayor Santa Mar&iacute;a del Estudiante -- santamaria@resa.es\n",
      "Colegio Mayor C&eacute;sar Carlos -- info@cesarcarlos.com \n",
      "Colegio Mayor Universitario Mendel -- mendel@cmmendel.com\n",
      "Colegio Mayor Marqu&eacute;s de la Ensenada -- info@cmumarquesdelaensenada.com\n",
      "Colegio Mayor Montalb&aacute;n -- info@cmmontalban.com\n",
      "Hogar Nuestra Se&ntilde;ora del Sagrado Coraz&oacute;n  -- misionme@yahoo.es\n",
      "Colegio Mayor Mater Salvatoris  -- secretaria@matersalvatoris.org\n",
      "Residencia Men&eacute;ndez Pelayo -- None\n",
      "Colegio Mayor Alcal&aacute; -- info@cmalcala.es\n",
      "Espahotel los Jer&oacute;nimos  -- jeronimos@espahotel.es\n",
      "Colegio Mayor Moncloa -- info@cmmoncloa.org\n",
      "Colegio Mayor Juan Luis Vives -- cmluisvives@uam.es\n",
      "Aparthotel Rosales -- arosales@apartohotel-rosales.com\n",
      "Colegio Mayor Casa do Brasil  -- sec@casadobrasil.es\n",
      "Colegio Mayor Universitario Loyola -- secretaria@cmuloyola.org\n",
      "Abal&uacute; -- info@hotelabalu.com\n",
      "Camping Osuna -- osunacamping@gmail.com\n",
      "Colegio Mayor San Agust&iacute;n -- colegio@cmusa.net \n",
      "Colegio Mayor Jorge Juan -- secretaria@cmjorgejuan.es\n",
      "Hospes Madrid -- madrid@hospes.com\n",
      "Praktik Metropol -- reservas@praktikmetropol.com\n",
      "Hostal Lamalonga -- hlamalonga@hotmail.com\n",
      "Hostal Mart&iacute;n/ Hostal Atocha 43 -- hostalatocha43@gmail.com\n",
      "Jamic -- None\n",
      "Lauria -- info@hostal-lauria.com\n",
      "Lisboa -- hostallisboa@hostallisboa.com\n",
      "L&oacute;pez -- reservas@hostallopez.com\n",
      "Mar&iacute;a Cristina -- hmcristina@jazzfree.com\n",
      "Mar&iacute;a del Mar -- hostalmariadelmar@hotmail.com\n",
      "Hostal Madrid -- hs@hostal-madrid.info\n",
      "Hostal Fuencarral Kryse -- info@hostalzamoran.com﻿\n",
      "Josefina -- reservas@hostal-josefina.com\n",
      "Milabi -- None\n",
      "J.B. -- None\n",
      "Le&oacute;n -- None\n",
      "Montecarlo -- hostalmontecarlo@gmail.com\n",
      "Hostal Lido -- info@hostallido.com\n",
      "Lourdes -- None\n",
      "Hostal la Macarena -- macarena@silserranos.com\n",
      "Mar&iacute;a Ronda -- reservas@hostalmronda.com\n",
      "Mar&iacute;a Luisa -- info@hostalmarialuisa.com\n",
      "Moncloa -- None\n",
      "Jemasaca-Palma 61 -- info@hostaljemasaca-palma61.com\n",
      "Luis XV -- reservas@hostalluisxvmadrid.com\n",
      "Hostal el Pilar -- info@hostalelpilar.net\n",
      "Fuente Mar -- None\n",
      "Gonzalo -- hostal@hostalgonzalo.com\n",
      "Olga -- hostal@hostalolgamadrid.com\n",
      "Oporto -- info@hostaloporto.com \n",
      "Gallardo -- info@hostalgallardo.com \n",
      "La Perla Asturiana -- info@perlaasturiana.com\n",
      "Parajas -- None\n",
      "Galaico -- info@hostalgalaico.com\n",
      "Ch Galaica -- info@chgalaica.com\n",
      "Par&iacute;s --  info@hostalparismadrid.com\n",
      "Pensi&oacute;n P&eacute;rez -- http://pensionperezmadrid.com/\n",
      "Fern&aacute;ndez -- hostal-fernandez@hotmail.com \n",
      "Far Home Plaza Mayor -- plazamayor@farhomehostels.com\n",
      "Fuente Sol -- hostalfuentesolmadrid@gmail.com\n",
      "Flores -- hostalflores@hostalflores.com\n",
      "Falfes -- info@hostalfalfes.com\n",
      "Nuestra Se&ntilde;ora de Sonsoles -- sonsoles@hostalsonsodesa.com \n",
      "Persal -- info@hostalpersal.com\n",
      "Ginebra -- None\n",
      "Hostal Greco -- info@hostalgreco.com\n",
      "Hispano -- info@hostalhispano.com\n",
      "Gran V&iacute;a 63 Rooms -- RESERVAS@GRANVIA63ROOMS.COM\n",
      "Hispano Argentino -- info@hispano-argentino.com \n",
      "Nuestra Se&ntilde;ora de la Paloma -- hostalnuestra@hotmail.com\n",
      "Ibias -- None\n",
      "La Nava -- info@hostallanava.com\n",
      "Narv&aacute;ez -- info@hostalnarvaez.com\n",
      "Esparteros -- contact@esparteros.com\n",
      "Pretoria -- hostal_pretoria@hotmail.com\n",
      "Esmeralda -- info@hresmeralda.net\n",
      "Prim -- info@hostalprim.com\n",
      "Riesco -- info@hostalriesco.com\n",
      "Palacios -- reservas@hostal-palacios.com\n",
      "Hostal CC Atocha -- info@hostal-cordoba.com\n",
      "Cruz Sol -- info@hostalcruzsol.com \n",
      "Don Alfonso -- None\n",
      "Don Juan -- None\n",
      "Puerta Bonita -- hostalpuertabonita@msn.com \n",
      "Don Pedro --  info@hostaldonpedro.es\n",
      "Dulcinea -- donato@hostaldulcinea.com\n",
      "Emilio -- None\n",
      "Prada -- info@hostalprada.com\n",
      "Plaza d'Ort -- info@plazadort.com\n",
      "Good Rooms -- reservas1@hostal-laplata.com \n",
      "Comercial -- reservas@hostalcomercial.com \n",
      "Ribadelago -- None\n",
      "Woohoo Hostal Madrid -- info@woohoohostalmadrid.com\n",
      "Condestable -- info@hostalcondestable.com\n",
      "Continental -- info@hostalcontinental.com\n",
      "R&iacute;as Bajas -- reservas@hostalriasbajas.es\n",
      "Hostal Retiro -- info@hostalretiro.com\n",
      "Delfina -- hostaldelfina@gmail.com\n",
      "Reconquista -- info@hostalreconquista.com\n",
      "Principado -- None\n",
      "La Prensa -- None\n",
      "Hostal Residencia Don Diego -- info@hostaldondiego.com \n",
      "Conchita -- reservas@hostalconchitaII.com\n",
      "JC Rooms Puerta del Sol -- recepcion@jchoteles.com\n",
      "Breog&aacute;n -- None\n",
      "Bru&ntilde;a -- hostalbruna@ctv.es\n",
      "Santillan -- info@hostalsantillan.com\n",
      "Buenos Aires -- hostalbuenosaires@hotmail.com\n",
      "Callao -- reservashostalcallao@gmail.com\n",
      "San Mart&iacute;n -- hostal_sanmartin@yahoo.es\n",
      "Centro Sol -- reservas@hostalcentrosol.com\n",
      "San Lorenzo -- reservas@hotel-sanlorenzo.com \n",
      "Sleep'n Atocha -- reservations@sleepnatocha.com\n",
      "Carabanchel -- carabanchelhostal@gmail.com\n",
      "Carreras -- reservas@alojamientocarrera.com\n",
      "Casanova -- info@hostalcasanova.es\n",
      "Castilla I -- castilla@hostalcastilla.com\n",
      "Ruano -- admin@aparsol.com\n",
      "R&iacute;os -- None\n",
      "R&iacute;o Paran&aacute; -- None\n",
      "Cervelo -- info@hostalcervelo.com \n",
      "Hostal Ballesta -- reservas@hostalballesta.com\n",
      "Sardinero -- info@hostalsardinero.com\n",
      "Santa Isabel -- info@hostalsantaisabel.com\n",
      "Hostal Santo Domingo -- reservas@hostalsantodomingo.es\n",
      "Hostal Cervantes -- correo@hostal-cervantes.com\n",
      "Rivera -- hrivera4@yahoo.es\n",
      "Hostal Salamanca -- info@hostalsalamanca.com\n",
      "Rober -- hostalrober26@gmail.com\n",
      "San Antonio -- hostalsanantoniomadrid@gmail.com\n",
      "Santa Cruz -- info@hostalsantacruz.com\n",
      "Hostal San Isidro -- info@hostalsanisidro.com \n",
      "Barrera -- info@hostalbarrera.com \n",
      "Bermejo -- reservas@hostalbermejo.es\n",
      "Sil &amp; Serranos -- info@silserranos.com\n",
      "Benamar -- benamar@hostalbenamar.es\n",
      "Avenida --  hostalavenidamadrid@hotmail.com\n",
      "Tijcal I -- spain@hostaltijcal.com \n",
      "THC Bergant&iacute;n hostel -- reservasbergantin@thchostels.com\n",
      "El Tera -- None\n",
      "Besaya -- info@hostalbesaya.com \n",
      "Betanzos -- None\n",
      "La Selecta -- info@laselecta.es\n",
      "Sotileza -- None\n",
      "Bianco -- info@hostalbianco.com \n",
      "Tijcal II -- spain2@hostaltijcal.com \n",
      "Atocha -- None\n",
      "Tudescos -- hostaltudescos@telefonica.net\n",
      "Veracruz -- info@hostalveracruz.com\n",
      "Andorra -- info@hostalandorra.com\n",
      "Aliste -- info@hostalaliste.net\n",
      "Antoxo -- None\n",
      "Hostal Coraz&oacute;n -- infohostalcorazondemadrid@gmail.com\n",
      "Astoria -- info@hostal-astoria.com\n",
      "Am&eacute;rica -- info@hostalamerica.net\n",
      "V&aacute;zquez de Mella -- info@hostalvazquezdemella.com\n",
      "Arrate -- mariarsp@telefonica.net\n",
      "Alhambra Suites -- info@suitealhambra.com\n",
      "Victoria II -- None\n",
      "Americano -- hostalamericano@yahoo.es\n",
      "La Vera\t -- info@hostal-lavera.com\n",
      "Hostal Alonso -- hostalalonso@gmail.com\n",
      "Valencia -- info@hostal-valencia.com                                                \n",
      "Los Arcos -- contact@los-arcos.net\n",
      "Triana -- None\n",
      "Trevinca -- info@hostal-trevinca.com\n",
      "Las Torres -- hostallastorres@hotmail.com\n",
      "Tokio -- reservas@hostaltokio.com\n",
      "Victoria -- None\n",
      "Victoria III -- None\n",
      "Los Alpes -- info@hostallosalpes.com\n",
      "Alfaro -- info@hostalalfaro.com\n",
      "Hostal Abami -- reservas@abamihostal.com\n",
      "Zabala --  info@hostalzabala.es\n",
      "Los 5 Pinos -- hotel@los5pinos.com\n",
      "Hostal Alegr&iacute;a -- hostalalegria@gmail.com\n",
      "Viky -- info@hostalviky.com\n",
      "Hostal MH Fuencarral -- reservas@hostalmh.com\n",
      "Aeropuerto -- hostalaeropuerto@msn.com\n",
      "Adriano -- info@hostaladriano.com\n",
      "Zamor&aacute;n -- info@hostalzamoran.com\n",
      "La Zona -- info@hostallazona.com\n",
      "Aguilar -- aguilar@hostalaguilar.com\n",
      "Zamora -- reservas@hostalzamora.com\n",
      "Villam&aacute;&ntilde;ez -- hostalvillamanez@gmail.com\n",
      "Hostal Atelier -- reservasnersan@gmail.com\n",
      "Hostal Abril --  reservas@hostalabrilmadrid.com\n",
      "4C Puerta Europa -- info@hotel-puertaeuropa.com\n",
      "Sancho -- reservas@hotel-sancho.com\n",
      "Casual Madrid Del Teatro -- casualmadriddelteatro@casualhoteles.com\n",
      "Apartahotel Marcenado -- info@apartahotelmarcenado.com\n",
      "Don Luis -- hoteldonluis@donluishotel.com \n",
      "Acta Madfor -- recepcion.madfor@actahotels.com\n",
      "Senator Castellana -- reservas@playasenator.com\n",
      "Gran Legazpi -- info@hotelgranlegazpi.com\n",
      "Aquaria Negresco -- negresco@aquaria-hotels.es \n",
      "Moderno -- info@hotel-moderno.com \n",
      "Francisco I -- info@hotelfrancisco.com\n",
      "Europa -- info@hoteleuropa.eu\n",
      "Ganivet  -- ganivet@hotelesporcel.com\n",
      "Caballero Errante -- hotel@hotelcaballeroerrante.com\n",
      "Ibis Madrid Aeropuerto Barajas -- H3753@accor.com\n",
      "NH Barajas -- nhbarajas@nh-hotels.com\n",
      "Hotel Plaza Mayor -- info@h-plazamayor.com \n",
      "Mora -- hotelmora@hotelmora.com \n",
      "M&eacute;xico -- hotelmexicomadrid@gmail.com\n",
      "Mediod&iacute;a -- info@mediodiahotel.com\n",
      "Isis -- contacto@hotelisismadrid.com\n",
      "Ibis Madrid Centro  -- h3318@accor.com\n",
      "Neo Magna -- info@neomagna.com\n",
      "Di Carlo -- reservas@dicarlohoteles.es\n",
      "Concordy -- info@hotelconcordy.com\n",
      "Room Mate Mario -- mario@room-matehotels.com\n",
      "Hotel Asturias -- info@hotel-asturias.com\n",
      "Sterling -- reservas@hotelsterlingmadrid.com\n",
      "4C Bravo Murillo -- bravomurillo@hoteles4c.com\n",
      "&Eacute;rase un Hotel -- reservas@eraseunhotel.com\n",
      "Petit Palace Ducal Chueca -- ducal@petitpalace.com\n",
      "Miau -- info@hotelmiau.com\n",
      "Best Western Los Condes -- info@hotel-loscondes.com\n",
      "&Oacute;pera -- reservas@hotelopera.com\n",
      "Osuna -- info@hotelosuna.es\n",
      "NH Balboa -- nhbalboa@nh-hotels.com \n",
      "NH Madrid Chamber&iacute; -- nhbreton@nh-hotels.com \n",
      " NH Madrid Sur -- nhmadridsur@nh-hotels.com\n",
      "NH Atocha -- nhatocha@nh-hotels.com\n",
      "Victoria 4 -- reservas@hotelvictoria4.com\n",
      "TRYP Madrid Centro Hotel -- tryp.centro@melia.com\n",
      "Tryp Madrid Gran V&iacute;a -- tryp.gran.via@melia.com\n",
      "Tryp Madrid Chamart&iacute;n -- tryp.madrid.chamartin@melia.com\n",
      "Tryp Madrid Chamber&iacute; -- tryp.madrid.chamberi@melia.com\n",
      "Cortezo -- reservas@hotelcortezo.com\n",
      "Travelodge Torrelaguna -- travelodge.torrelaguna@travelodge.co.uk\n",
      "T3 Tirol -- info@t3tirol.com\n",
      "Silken Torre Garden -- hoteltorregarden@hoteles-silken.com\n",
      "Leonardo Boutique Hotel Madrid -- info.boutiquemadrid@leonardo-hotels.com\n",
      "Leonardo Hotel Madrid City Center -- info.madridcity@leonardo-hotels.com\n",
      "Hotel Avenida Gran V&iacute;a -- reservas@hotelavenidagravia.com\n",
      "AC Avenida de Am&eacute;rica -- acamerica@ac-hotels.com\n",
      "Acis y Galatea -- res.acisygalatea@hotelesglobales.com\n",
      "Anaco -- info@anacohotel.com\n",
      "Ateneo -- info@hotel-ateneo.com\n",
      "Atl&aacute;ntico -- informacion@hotelatlantico.es\n",
      "Hotel Trafalgar -- info@hotel-trafalgar.com\n",
      "Hotel Villa de Barajas -- villabarajas@infonegocio.com\n",
      "Cas&oacute;n del Tormes -- reservas@hotelcasondeltormes.com\n",
      "Hrc-hotel -- reservas@hrc-hotel.com\n",
      "Claridge -- reservas@hotelclaridge.com\n",
      "Dos Castillas -- reservas@hoteldoscastillas.com\n",
      "Eurostars Zarzuela Park -- reservas@eurostarszarzuelapark.com\n",
      "Petit Palace Cliper Gran V&iacute;a -- cliper@petitpalace.com\n",
      "Se&ntilde;orial -- senorialreservas@hotmail.com\n",
      "Room Mate Alicia -- alicia@room-matehotels.com\n",
      "Petit Palace Arenal -- arenal@petitpalace.com\n",
      "NH Lagasca -- nhlagasca@nh-hotels.com \n",
      "Ibis Styles Madrid Prado -- hotelprado@pradohotel.com ; H8052@accor.com\n",
      "Petit Palace Triball -- triball@petitpalace.com\n",
      "Petit Palace Londres -- londres@petitpalace.com\n",
      "Petit Palace Puerta del Sol -- puertadelsol@petitpalace.com\n",
      "Petit Palace Tres Cruces -- trescruces@petitpalace.com\n",
      "Infanta Mercedes -- info@hotelinfantamercedes.es\n",
      "Regente -- reservas@hotelregente.com\n",
      "Rafael Hoteles Ventas -- ventas@rafaelhoteles.com\n",
      "Holiday Inn Madrid-Pir&aacute;mides -- holidayinnmadridpiramides@himadridpiramides.com\n",
      "NH Zurbano -- nhzurbano@nh-hotels.com \n",
      "Regina -- info@hotelreginamadrid.com\n",
      "Puerta de Toledo -- madrid@hotelpuertadetoledo.es\n",
      "Pr&iacute;ncipe P&iacute;o -- reservas@hotelprincipepio.com\n",
      "TRYP Madrid Plaza Espa&ntilde;a -- tryp.plaza.españa@melia.com\n",
      "Preciados -- preciadoshotel@preciadoshotel.com\n",
      "Villamadrid -- info@hotelvillamadrid.com\n",
      "Tryp Alameda Aeropuerto -- tryp.alameda.aeropuerto@melia.com\n",
      "Quinta de los Cedros -- reservas@quintadeloscedros.com \n",
      "Suite Prado -- hotel@suiteprado.com\n",
      "Hotel Gran Atlanta Madrid -- info.granatlanta@leonardo-hotels.com\n",
      "Vincci V&iacute;a 66 -- via66@vinccihoteles.com\n",
      "Vincci Soho -- soho@vinccihoteles.com\n",
      "Zenit Abeba -- reservasabeba@zenithoteles.com\n",
      "Zenit Conde de Orgaz -- condeorgaz@zenithoteles.com\n",
      "Hotel Via Castellana -- reservas@hotelviacastellana.com\n",
      "AC Coslada Aeropuerto -- accoslada@ac-hotels.com\n",
      "Agumar -- hotelagumar@h-santos.es\n",
      "Artiem Madrid -- artiemmadrid@artiemhotels.com\n",
      "Don P&iacute;o -- hoteldonpio@hoteldonpio.com\n",
      "Sercotel Eurobuilding 2 -- info@eurobuilding-2.com.es\n",
      "Hotel Meninas -- reservas@hotelmeninas.com \n",
      "Gran Versalles -- hgv@hotelgranversalles.es \n",
      "VP Jard&iacute;n de Recoletos -- None\n",
      "Exe El Coloso -- reservas@exehotelelcoloso.com\n",
      "Hotel City House Florida Norte -- reservas.florida@celuisma.com\n",
      "Senator Gran V&iacute;a 70 Spa -- senator.granvia70@playasenator.com\n",
      "Siete Islas -- reservas@hotelsieteislas.com\n",
      "Exe Puerta Castilla -- info@hotelexepuertacastilla.com\n",
      "Silken Puerta Madrid -- recepcion.puertamadrid@hoteles-silken.com \n",
      "Pullman Madrid Airport &amp; Feria -- H1606@accor.com\n",
      "Mercure Madrid Plaza de Espa&ntilde;a -- H1320@accor.com\n",
      "Gran Meli&aacute; Palacio de los Duques -- gmpalacio@melia.com\n",
      "TRYP Madrid Atocha -- tryp.atocha@melia.com\n",
      "H10 Tribeca -- h10.tribeca@h10hotels.com\n",
      "Rafael Hoteles Atocha -- atocha@rafaelhoteles.com\n",
      "Quatro Puerta del Sol -- info@hotelquatropuertadelsol.com\n",
      "Vincci Capitol -- capitol@vinccihoteles.com\n",
      "TRYP Madrid Cibeles -- tryp.cibeles@melia.com\n",
      "Petit Palace Plaza del Carmen -- plazadelcarmen@petitpalace.com\n",
      "Petit Palace Posada del Peine -- posadadelpeine@petitpalace.com\n",
      "Petit Palace Plaza de Espa&ntilde;a -- sanbernardo@petitpalace.com\n",
      "Praga -- hotelpraga@h-santos.es\n",
      "Vincci Centrum Madrid -- centrum@vinccihoteles.com\n",
      "NH Madrid Ventas -- nhparqueavenidas@nh-hotels.com\n",
      "NH Pr&iacute;ncipe de Vergara -- nhprincipedevergara@nh-hotels.com \n",
      "Petit Palace Embassy -- embassy@petitpalace.com\n",
      "Meli&aacute; Galgos -- melia.galgos@melia.com\n",
      "NH Collection Madrid Abascal -- nhcollectionabascal@nh-hotels.com\n",
      "H10 Puerta de Alcal&aacute; -- h10.puerta.dealcala@h10hotels.com\n",
      "NH Collection Madrid Eurobuilding  -- nhcollectioneurobuilding@nh-hotels.com\n",
      "Novotel Madrid Sanchinarro -- H3558@accor.com\n",
      "NH La Habana -- nhhabana@nh-hotels.com\n",
      "Mercader -- thmercader@th-hoteles.com\n",
      "NH Nacional -- nhnacional@nh-hotels.com \n",
      "Hotel NH Collection Madrid Col&oacute;n -- nhcollectioncolon@nh-hotels.com\n",
      "Petit Palace Alcal&aacute; Torre -- alcala@petitpalace.com\n",
      "Petit Palace Art Gallery -- artgallery@petitpalace.com\n",
      "Palacio de San Mart&iacute;n -- sanmartin@intur.com\n",
      "Nuevo Madrid -- info@hotelnuevomadrid.com\n",
      "Novotel Madrid Puente de La Paz -- H0843@accor.com\n",
      "Novotel Madrid Campo de las Naciones -- H1636@accor.com\n",
      "Hotel Serrano -- recepcion.serrano@aa-hoteles.com\n",
      "Hotel Paseo del Arte -- paseodelarte@artehoteles.com\n",
      "Hotel Weare Chamart&iacute;n -- reservas@hotelchamartin.es\n",
      "Holiday Inn Madrid - Bernab&eacute;u -- reception@hi-madrid.com\n",
      "Barcel&oacute; Emperatriz -- emperatriz@barcelo.com\n",
      "Emperador -- hemperador@emperadorhotel.com\n",
      "Ilunion hotels Suites Madrid -- reservassuites.confortel@once.es\n",
      "VP Jard&iacute;n Metropolitano -- metropolitano@vphoteles.com\n",
      "Mercure Madrid Centro (Lope de Vega) -- H9618@accor.com\n",
      "De Las Letras -- las.letras@iberostar.com\n",
      "Meli&aacute; Barajas -- melia.barajas@melia.com\n",
      "Meli&aacute; Avenida Am&eacute;rica -- melia.avenida.america@melia.com\n",
      "Me Madrid Reina Victoria -- memadrid@melia.com\n",
      "Hotel Mayorazgo -- reservas@hotelmayorazgo.com\n",
      "Eurostars Casa de la L&iacute;rica -- reservas@hotelmariaelenapalace.es\n",
      "Lusso Infantas -- hotelinfantas@lusohoteles.com\n",
      "Liabeny -- info@hotelliabeny.es\n",
      "Ilunion P&iacute;o XII -- reservaspio@ilunionhotels.com\n",
      "Ilunion Hotels Alcal&aacute; Norte  -- reservasalcala@ilunionhotels.com\n",
      "Barcel&oacute; Torre Arias -- torrearias@barcelo.com\n",
      "Madrid Marriot Audit&oacute;rium -- None\n",
      "Abba Madrid -- reservas-madrid@abbahoteles.com\n",
      "Petit Palace President Castellana -- president@petitpalace.com\n",
      "Holiday Inn Madrid - Las Tablas -- reservas@himadridlastablas.com\n",
      "Petit Palace Arturo Soria -- arturosoria@petitpalace.com\n",
      "Clement Barajas  -- info@clementhoteles.com\n",
      "Arosa -- reservas@hotelarosa.com\n",
      "AC Carlton -- accarltonmadrid@ac-hotels.com\n",
      "Catalonia Goya -- goya@hoteles-catalonia.es\n",
      "Catalonia Gran V&iacute;a -- granvia.reservas@hoteles-catalonia.es\n",
      "Catalonia Puerta del Sol -- puertadelsol@hoteles-catalonia.es\n",
      "Ayre Gran Hotel Col&oacute;n -- reservas.colon@ayrehoteles.com\n",
      "Catalonia Las Cortes -- lascortes@hoteles-catalonia.es \n",
      "NH Collection Madrid Paseo del Prado -- nhcollectionpaseodelprado@nh-hotels.com\n",
      "Gran Hotel Vel&aacute;zquez -- info@hotelvelazquez.com\n",
      "H10 Villa de la Reina -- h10.villa.delareina@h10hotels.com\n",
      "Petit Palace Madrid Aeropuerto -- madridaeropuerto@petitpalace.com\n",
      "Gran Hotel Conde Duque -- reservas@hotelcondeduque.es\n",
      "AC Aravaca -- acaravaca@ac-hotels.com\n",
      "AC Aitana -- aitana@ac-hoteles.com\n",
      "Hesperia Madrid -- hotel@hesperia-madrid.com\n",
      "Vincci SoMa -- soma@vinccihoteles.com\n",
      "AC Los Vascos -- aclosvascos@ac-hotels.com \n",
      "AC  Madrid Feria -- acferiademadrid@ac-hotels.com\n",
      "Gran Meli&aacute; F&eacute;nix -- gran.melia.fenix@melia.com\n",
      "Monte Real --  reservas@eurostarsmontereal.com\n",
      "AC Palacio del Retiro -- pretiro@ac-hotels.com\n",
      "AC Santo Mauro -- santo-mauro@ac-hotels.com\n",
      "Hotel Wellington -- wellington@hotel-wellington.com\n",
      "Ritz Madrid -- rzmad-reservations@mohg.com\n",
      "Silken Puerta de Am&eacute;rica -- hotel.puertamerica@hoteles-silken.com\n",
      "Orfila -- inforeservas@hotelorfila.com\n",
      "Hotel Miguel &Aacute;ngel -- hotel.miguelangel@grupobluebay.com\n",
      "Eurostars Suites Mirasierra -- info@eurostarssuitesmirasierra.com\n",
      "Meli&aacute; Madrid Princesa -- melia.madrid.princesa@melia.com\n",
      "Meli&aacute; Castilla -- melia.castilla@melia.com\n",
      "InterContinental Madrid -- icmadrid@ihg.com\n",
      "AC Recoletos -- acrecoletos@ac-hotels.com \n",
      "Courtyard Madrid Princesa -- None\n",
      "Urban -- urban@derbyhotels.com\n",
      "Villa Real -- villareal@derbyhotels.com\n",
      "AC Cuzco -- accuzco@ac-hotels.com\n",
      "The Westin Palace -- reservations.palacemadrid@westin.com\n"
     ]
    }
   ],
   "source": [
    "for aloj in alojamientos:\n",
    "    nombre = aloj.basicData.name.text\n",
    "    email = aloj.basicData.email.text            \n",
    "    print(nombre,'--',  email)"
   ]
  },
  {
   "cell_type": "markdown",
   "metadata": {},
   "source": [
    "Para crear un dataframe con la información del nombre de los alojamientos actualizados en el año 2016 junto con su ubicación (longitud y latitud), escribimos lo siguiente:"
   ]
  },
  {
   "cell_type": "code",
   "execution_count": 71,
   "metadata": {
    "collapsed": false
   },
   "outputs": [],
   "source": [
    "from datetime import datetime, date, time\n",
    "\n",
    "def xml2df_v3(root):\n",
    "    datos = []\n",
    "    columnas = [\"Nombre\", \"Fecha\", \"Longitud\", \"Latitud\"]\n",
    "    alojamientos = root.getchildren()\n",
    "    for aloj in alojamientos:\n",
    "        fecha = aloj.attrib[\"fechaActualizacion\"] \n",
    "        fecha = datetime.strptime(fecha, '%Y-%m-%d')\n",
    "        if fecha.year == 2016:\n",
    "            nombre = aloj.basicData.name.text\n",
    "            long = aloj.geoData.longitude.text\n",
    "            lat = aloj.geoData.latitude.text\n",
    "            tupla = (nombre, fecha.date(), long, lat)\n",
    "            datos.append(tupla)\n",
    "        else:\n",
    "            pass\n",
    "    df = pd.DataFrame(datos, columns = columnas)\n",
    "    return df"
   ]
  },
  {
   "cell_type": "code",
   "execution_count": 72,
   "metadata": {
    "collapsed": false
   },
   "outputs": [
    {
     "data": {
      "text/html": [
       "<div>\n",
       "<table border=\"1\" class=\"dataframe\">\n",
       "  <thead>\n",
       "    <tr style=\"text-align: right;\">\n",
       "      <th></th>\n",
       "      <th>Nombre</th>\n",
       "      <th>Fecha</th>\n",
       "      <th>Longitud</th>\n",
       "      <th>Latitud</th>\n",
       "    </tr>\n",
       "  </thead>\n",
       "  <tbody>\n",
       "    <tr>\n",
       "      <th>0</th>\n",
       "      <td>DoubleTree by Hilton</td>\n",
       "      <td>2016-11-16</td>\n",
       "      <td>-3.696794600000</td>\n",
       "      <td>40.415170200000</td>\n",
       "    </tr>\n",
       "    <tr>\n",
       "      <th>1</th>\n",
       "      <td>The Hat</td>\n",
       "      <td>2016-02-24</td>\n",
       "      <td>-3.707196700000</td>\n",
       "      <td>40.414290900000</td>\n",
       "    </tr>\n",
       "    <tr>\n",
       "      <th>2</th>\n",
       "      <td>Conchita II</td>\n",
       "      <td>2016-06-21</td>\n",
       "      <td>-3.709220200000</td>\n",
       "      <td>40.419202800000</td>\n",
       "    </tr>\n",
       "    <tr>\n",
       "      <th>3</th>\n",
       "      <td>Casa de Huespedes Casillas</td>\n",
       "      <td>2016-06-29</td>\n",
       "      <td>-3.700897100000</td>\n",
       "      <td>40.420583100000</td>\n",
       "    </tr>\n",
       "    <tr>\n",
       "      <th>4</th>\n",
       "      <td>Casa de hu&amp;eacute;spedes Amelia</td>\n",
       "      <td>2016-06-23</td>\n",
       "      <td>-3.695339000000</td>\n",
       "      <td>40.412596100000</td>\n",
       "    </tr>\n",
       "    <tr>\n",
       "      <th>5</th>\n",
       "      <td>Residencia U. Siervas del Sagrado Coraz&amp;oacute;n</td>\n",
       "      <td>2016-07-05</td>\n",
       "      <td>-3.670696000000</td>\n",
       "      <td>40.468110000000</td>\n",
       "    </tr>\n",
       "    <tr>\n",
       "      <th>6</th>\n",
       "      <td>Colegio Mayor Xim&amp;eacute;nez de Cisneros</td>\n",
       "      <td>2016-06-21</td>\n",
       "      <td>-3.727911000000</td>\n",
       "      <td>40.435673000000</td>\n",
       "    </tr>\n",
       "    <tr>\n",
       "      <th>7</th>\n",
       "      <td>Colegio Mayor Zurbar&amp;aacute;n</td>\n",
       "      <td>2016-06-21</td>\n",
       "      <td>-3.672325000000</td>\n",
       "      <td>40.453297000000</td>\n",
       "    </tr>\n",
       "    <tr>\n",
       "      <th>8</th>\n",
       "      <td>Colegio Mayor Vedruna</td>\n",
       "      <td>2016-06-21</td>\n",
       "      <td>-3.714986000000</td>\n",
       "      <td>40.445673000000</td>\n",
       "    </tr>\n",
       "    <tr>\n",
       "      <th>9</th>\n",
       "      <td>Par&amp;iacute;s</td>\n",
       "      <td>2016-06-29</td>\n",
       "      <td>-3.702824000000</td>\n",
       "      <td>40.417694000000</td>\n",
       "    </tr>\n",
       "    <tr>\n",
       "      <th>10</th>\n",
       "      <td>Gran V&amp;iacute;a 63 Rooms</td>\n",
       "      <td>2016-07-08</td>\n",
       "      <td>-3.709630000000</td>\n",
       "      <td>40.422570000000</td>\n",
       "    </tr>\n",
       "    <tr>\n",
       "      <th>11</th>\n",
       "      <td>San Mart&amp;iacute;n</td>\n",
       "      <td>2016-07-06</td>\n",
       "      <td>-3.704771000000</td>\n",
       "      <td>40.420776000000</td>\n",
       "    </tr>\n",
       "    <tr>\n",
       "      <th>12</th>\n",
       "      <td>Leonardo Hotel Madrid City Center</td>\n",
       "      <td>2016-11-10</td>\n",
       "      <td>-3.708479900000</td>\n",
       "      <td>40.430002900000</td>\n",
       "    </tr>\n",
       "    <tr>\n",
       "      <th>13</th>\n",
       "      <td>Hrc-hotel</td>\n",
       "      <td>2016-07-05</td>\n",
       "      <td>-3.713055700000</td>\n",
       "      <td>40.409878500000</td>\n",
       "    </tr>\n",
       "    <tr>\n",
       "      <th>14</th>\n",
       "      <td>Ibis Styles Madrid Prado</td>\n",
       "      <td>2016-06-27</td>\n",
       "      <td>-3.698990000000</td>\n",
       "      <td>40.414827100000</td>\n",
       "    </tr>\n",
       "    <tr>\n",
       "      <th>15</th>\n",
       "      <td>NH Madrid Ventas</td>\n",
       "      <td>2016-03-08</td>\n",
       "      <td>-3.664097000000</td>\n",
       "      <td>40.436070000000</td>\n",
       "    </tr>\n",
       "    <tr>\n",
       "      <th>16</th>\n",
       "      <td>Courtyard Madrid Princesa</td>\n",
       "      <td>2016-07-08</td>\n",
       "      <td>-3.715361500000</td>\n",
       "      <td>40.429686200000</td>\n",
       "    </tr>\n",
       "  </tbody>\n",
       "</table>\n",
       "</div>"
      ],
      "text/plain": [
       "                                              Nombre       Fecha  \\\n",
       "0                               DoubleTree by Hilton  2016-11-16   \n",
       "1                                            The Hat  2016-02-24   \n",
       "2                                        Conchita II  2016-06-21   \n",
       "3                         Casa de Huespedes Casillas  2016-06-29   \n",
       "4                    Casa de hu&eacute;spedes Amelia  2016-06-23   \n",
       "5   Residencia U. Siervas del Sagrado Coraz&oacute;n  2016-07-05   \n",
       "6           Colegio Mayor Xim&eacute;nez de Cisneros  2016-06-21   \n",
       "7                      Colegio Mayor Zurbar&aacute;n  2016-06-21   \n",
       "8                             Colegio Mayor Vedruna   2016-06-21   \n",
       "9                                       Par&iacute;s  2016-06-29   \n",
       "10                          Gran V&iacute;a 63 Rooms  2016-07-08   \n",
       "11                                 San Mart&iacute;n  2016-07-06   \n",
       "12                 Leonardo Hotel Madrid City Center  2016-11-10   \n",
       "13                                         Hrc-hotel  2016-07-05   \n",
       "14                          Ibis Styles Madrid Prado  2016-06-27   \n",
       "15                                  NH Madrid Ventas  2016-03-08   \n",
       "16                         Courtyard Madrid Princesa  2016-07-08   \n",
       "\n",
       "           Longitud          Latitud  \n",
       "0   -3.696794600000  40.415170200000  \n",
       "1   -3.707196700000  40.414290900000  \n",
       "2   -3.709220200000  40.419202800000  \n",
       "3   -3.700897100000  40.420583100000  \n",
       "4   -3.695339000000  40.412596100000  \n",
       "5   -3.670696000000  40.468110000000  \n",
       "6   -3.727911000000  40.435673000000  \n",
       "7   -3.672325000000  40.453297000000  \n",
       "8   -3.714986000000  40.445673000000  \n",
       "9   -3.702824000000  40.417694000000  \n",
       "10  -3.709630000000  40.422570000000  \n",
       "11  -3.704771000000  40.420776000000  \n",
       "12  -3.708479900000  40.430002900000  \n",
       "13  -3.713055700000  40.409878500000  \n",
       "14  -3.698990000000  40.414827100000  \n",
       "15  -3.664097000000  40.436070000000  \n",
       "16  -3.715361500000  40.429686200000  "
      ]
     },
     "execution_count": 72,
     "metadata": {},
     "output_type": "execute_result"
    }
   ],
   "source": [
    "xml2df_v3(root)"
   ]
  },
  {
   "cell_type": "markdown",
   "metadata": {},
   "source": [
    "La librería `lxml` permite el uso de expresiones de camino (XPath) muy sencillas para localizar la información. "
   ]
  },
  {
   "cell_type": "markdown",
   "metadata": {},
   "source": [
    "## Datos en Formato JSON"
   ]
  },
  {
   "cell_type": "markdown",
   "metadata": {},
   "source": [
    "Otro de los estándar para el intercambio de datos en la Webes el formato JSON (JavaScript Object Notation). Al igual que ocurría con XML, permite representar cualquier estructura de datos de una forma jerárquica, la cual puede ser fácilmente representada en forma de árbol.\n",
    "\n",
    "Pandas dispone de la función `pd.read_json()`  para crear dataframes a partir de un documento JSON. La operación recíproca, el método `to_json()` de la clase `DataFrame` que permite guardar dataframes en formato JSON.\n",
    "\n",
    "Para entender cómo navegar por este tipo de documentos es necesario conocer su estructura interna. "
   ]
  },
  {
   "cell_type": "markdown",
   "metadata": {},
   "source": [
    "Para empezar, veremos cómo crear un documento en formato JSON a partir de un dataframe usando el método `to_json`. "
   ]
  },
  {
   "cell_type": "code",
   "execution_count": 3,
   "metadata": {
    "collapsed": false
   },
   "outputs": [
    {
     "data": {
      "text/html": [
       "<div>\n",
       "<table border=\"1\" class=\"dataframe\">\n",
       "  <thead>\n",
       "    <tr style=\"text-align: right;\">\n",
       "      <th></th>\n",
       "      <th>Extreno</th>\n",
       "      <th>Nombre</th>\n",
       "      <th>Cat</th>\n",
       "    </tr>\n",
       "  </thead>\n",
       "  <tbody>\n",
       "    <tr>\n",
       "      <th>0</th>\n",
       "      <td>1982</td>\n",
       "      <td>E.T. the ExtraTerrestrial</td>\n",
       "      <td>Fantasy</td>\n",
       "    </tr>\n",
       "    <tr>\n",
       "      <th>1</th>\n",
       "      <td>1982</td>\n",
       "      <td>Poltergeist</td>\n",
       "      <td>Horror</td>\n",
       "    </tr>\n",
       "    <tr>\n",
       "      <th>2</th>\n",
       "      <td>1992</td>\n",
       "      <td>Alien</td>\n",
       "      <td>Action</td>\n",
       "    </tr>\n",
       "    <tr>\n",
       "      <th>3</th>\n",
       "      <td>1992</td>\n",
       "      <td>The Crying Game</td>\n",
       "      <td>War</td>\n",
       "    </tr>\n",
       "  </tbody>\n",
       "</table>\n",
       "</div>"
      ],
      "text/plain": [
       "   Extreno                     Nombre      Cat\n",
       "0     1982  E.T. the ExtraTerrestrial  Fantasy\n",
       "1     1982                Poltergeist   Horror\n",
       "2     1992                      Alien   Action\n",
       "3     1992            The Crying Game      War"
      ]
     },
     "execution_count": 3,
     "metadata": {},
     "output_type": "execute_result"
    }
   ],
   "source": [
    "import pandas as pd\n",
    "import json\n",
    "\n",
    "tabla = pd.DataFrame( [ (1982,\"E.T. the ExtraTerrestrial\",\"Fantasy\"),\n",
    "                        (1982,\"Poltergeist\",\"Horror\"),\n",
    "                        (1992,\"Alien\",\"Action\"),\n",
    "                        (1992,\"The Crying Game\",\"War\")],\n",
    "                     columns = [\"Extreno\",\"Nombre\",\"Cat\"])\n",
    "tabla"
   ]
  },
  {
   "cell_type": "code",
   "execution_count": 4,
   "metadata": {
    "collapsed": true
   },
   "outputs": [],
   "source": [
    "tabla.to_json('peliculas.json')"
   ]
  },
  {
   "cell_type": "markdown",
   "metadata": {},
   "source": [
    "El documento `peliculas.json` se muestra a continuación:\n",
    "\n",
    "```\n",
    "peliculas.json\n",
    "------------------\n",
    "\n",
    "{\n",
    "    \"Cat\": {\n",
    "        \"3\": \"War\",\n",
    "        \"2\": \"Action\",\n",
    "        \"0\": \"Fantasy\",\n",
    "        \"1\": \"Horror\"\n",
    "    },\n",
    "    \"Nombre\": {\n",
    "        \"3\": \"The Crying Game\",\n",
    "        \"2\": \"Alien\",\n",
    "        \"0\": \"E.T. the ExtraTerrestrial\",\n",
    "        \"1\": \"Poltergeist\"\n",
    "    },\n",
    "    \"Extreno\": {\n",
    "        \"3\": 1992,\n",
    "        \"2\": 1992,\n",
    "        \"0\": 1982,\n",
    "        \"1\": 1982\n",
    "    }\n",
    "}\n",
    "``` "
   ]
  },
  {
   "cell_type": "markdown",
   "metadata": {},
   "source": [
    "La función `pd.read_json` permite realizar la operación inversa. Dicha función recibe como argumento la ruta del fichero que contiene los datos en formato JSON."
   ]
  },
  {
   "cell_type": "code",
   "execution_count": 5,
   "metadata": {
    "collapsed": false
   },
   "outputs": [
    {
     "data": {
      "text/html": [
       "<div>\n",
       "<table border=\"1\" class=\"dataframe\">\n",
       "  <thead>\n",
       "    <tr style=\"text-align: right;\">\n",
       "      <th></th>\n",
       "      <th>Cat</th>\n",
       "      <th>Extreno</th>\n",
       "      <th>Nombre</th>\n",
       "    </tr>\n",
       "  </thead>\n",
       "  <tbody>\n",
       "    <tr>\n",
       "      <th>0</th>\n",
       "      <td>Fantasy</td>\n",
       "      <td>1982</td>\n",
       "      <td>E.T. the ExtraTerrestrial</td>\n",
       "    </tr>\n",
       "    <tr>\n",
       "      <th>1</th>\n",
       "      <td>Horror</td>\n",
       "      <td>1982</td>\n",
       "      <td>Poltergeist</td>\n",
       "    </tr>\n",
       "    <tr>\n",
       "      <th>2</th>\n",
       "      <td>Action</td>\n",
       "      <td>1992</td>\n",
       "      <td>Alien</td>\n",
       "    </tr>\n",
       "    <tr>\n",
       "      <th>3</th>\n",
       "      <td>War</td>\n",
       "      <td>1992</td>\n",
       "      <td>The Crying Game</td>\n",
       "    </tr>\n",
       "  </tbody>\n",
       "</table>\n",
       "</div>"
      ],
      "text/plain": [
       "       Cat  Extreno                     Nombre\n",
       "0  Fantasy     1982  E.T. the ExtraTerrestrial\n",
       "1   Horror     1982                Poltergeist\n",
       "2   Action     1992                      Alien\n",
       "3      War     1992            The Crying Game"
      ]
     },
     "execution_count": 5,
     "metadata": {},
     "output_type": "execute_result"
    }
   ],
   "source": [
    "tabla = pd.read_json('./peliculas.json')\n",
    "tabla"
   ]
  },
  {
   "cell_type": "markdown",
   "metadata": {},
   "source": [
    "En este caso, el proceso es muy simple porque el contenido del fichero `peliculas.json` tenía una estructura tabular, pero eso no es lo normal. La figura XX muestra el contenido del fichero `canciones.json`.\n",
    "\n",
    "```\n",
    "canciones.json\n",
    "--------------\n",
    "\n",
    "[\n",
    "    {\n",
    "        \"Songs\": [\n",
    "            {\n",
    "                \"Length\": \"6:29\",\n",
    "                \"Date\": 1992,\n",
    "                \"Title\": \"Nothing Else Matters\"\n",
    "            },\n",
    "            {\n",
    "                \"Length\": \"4:21\",\n",
    "                \"Title\": \"Hero Of The Day\"\n",
    "            }\n",
    "        ],\n",
    "        \"Genre\": \"Metal\",\n",
    "        \"Group\": {\n",
    "            \"Name\": \"Metallica\"\n",
    "        }\n",
    "    },\n",
    "    {\n",
    "        \"Songs\": [\n",
    "            {\n",
    "                \"Length\": \"4:37\",\n",
    "                \"Date\": 2010,\n",
    "                \"Title\": \"Need you now\"\n",
    "            },\n",
    "            {\n",
    "                \"Length\": \"4:17\",\n",
    "                \"Date\": 2010,\n",
    "                \"Title\": \"I Run To You\"\n",
    "            },\n",
    "            {\n",
    "                \"Length\": \"3:44\",\n",
    "                \"Title\": \"American honey\"\n",
    "            }\n",
    "        ],\n",
    "        \"Genre\": \"Country pop\",\n",
    "        \"Group\": {\n",
    "            \"Name\": \"Lady Antebellum\"\n",
    "        }\n",
    "    }\n",
    "]\n",
    "```\n"
   ]
  },
  {
   "cell_type": "markdown",
   "metadata": {},
   "source": [
    "La función `json_normalize` de la sublibrería `pandas.io.json` aporta un poco más de potencia. Por ejemplo, para crear un dataframe con la información de las canciones, escribimo lo siguiente:"
   ]
  },
  {
   "cell_type": "code",
   "execution_count": 6,
   "metadata": {
    "collapsed": false
   },
   "outputs": [
    {
     "data": {
      "text/html": [
       "<div>\n",
       "<table border=\"1\" class=\"dataframe\">\n",
       "  <thead>\n",
       "    <tr style=\"text-align: right;\">\n",
       "      <th></th>\n",
       "      <th>Date</th>\n",
       "      <th>Length</th>\n",
       "      <th>Title</th>\n",
       "    </tr>\n",
       "  </thead>\n",
       "  <tbody>\n",
       "    <tr>\n",
       "      <th>0</th>\n",
       "      <td>1992.0</td>\n",
       "      <td>6:29</td>\n",
       "      <td>Nothing Else Matters</td>\n",
       "    </tr>\n",
       "    <tr>\n",
       "      <th>1</th>\n",
       "      <td>NaN</td>\n",
       "      <td>4:21</td>\n",
       "      <td>Hero Of The Day</td>\n",
       "    </tr>\n",
       "    <tr>\n",
       "      <th>2</th>\n",
       "      <td>2010.0</td>\n",
       "      <td>4:37</td>\n",
       "      <td>Need you now</td>\n",
       "    </tr>\n",
       "    <tr>\n",
       "      <th>3</th>\n",
       "      <td>2010.0</td>\n",
       "      <td>4:17</td>\n",
       "      <td>I Run To You</td>\n",
       "    </tr>\n",
       "    <tr>\n",
       "      <th>4</th>\n",
       "      <td>NaN</td>\n",
       "      <td>3:44</td>\n",
       "      <td>American honey</td>\n",
       "    </tr>\n",
       "  </tbody>\n",
       "</table>\n",
       "</div>"
      ],
      "text/plain": [
       "     Date Length                 Title\n",
       "0  1992.0   6:29  Nothing Else Matters\n",
       "1     NaN   4:21       Hero Of The Day\n",
       "2  2010.0   4:37          Need you now\n",
       "3  2010.0   4:17          I Run To You\n",
       "4     NaN   3:44        American honey"
      ]
     },
     "execution_count": 6,
     "metadata": {},
     "output_type": "execute_result"
    }
   ],
   "source": [
    "from pandas.io.json import json_normalize\n",
    "with open('./datos/canciones.json') as json_data:\n",
    "    d = json.load(json_data)\n",
    "json_normalize(d, \"Songs\") "
   ]
  },
  {
   "cell_type": "markdown",
   "metadata": {},
   "source": [
    "La función `json_normalize` recibe como argumentos el objeto de la clase `json` y la clave del documento que contiene los datos que buscamos. Si además queremos añadir al dataframe la información del grupo musical al que pertenece cada canción, tenemos que añadir un tercer argumento que indica la lista de claves que queremos añadir."
   ]
  },
  {
   "cell_type": "code",
   "execution_count": 7,
   "metadata": {
    "collapsed": false
   },
   "outputs": [
    {
     "data": {
      "text/html": [
       "<div>\n",
       "<table border=\"1\" class=\"dataframe\">\n",
       "  <thead>\n",
       "    <tr style=\"text-align: right;\">\n",
       "      <th></th>\n",
       "      <th>Date</th>\n",
       "      <th>Length</th>\n",
       "      <th>Title</th>\n",
       "      <th>Group.Name</th>\n",
       "      <th>Genre</th>\n",
       "    </tr>\n",
       "  </thead>\n",
       "  <tbody>\n",
       "    <tr>\n",
       "      <th>0</th>\n",
       "      <td>1992.0</td>\n",
       "      <td>6:29</td>\n",
       "      <td>Nothing Else Matters</td>\n",
       "      <td>Metallica</td>\n",
       "      <td>Metal</td>\n",
       "    </tr>\n",
       "    <tr>\n",
       "      <th>1</th>\n",
       "      <td>NaN</td>\n",
       "      <td>4:21</td>\n",
       "      <td>Hero Of The Day</td>\n",
       "      <td>Metallica</td>\n",
       "      <td>Metal</td>\n",
       "    </tr>\n",
       "    <tr>\n",
       "      <th>2</th>\n",
       "      <td>2010.0</td>\n",
       "      <td>4:37</td>\n",
       "      <td>Need you now</td>\n",
       "      <td>Lady Antebellum</td>\n",
       "      <td>Country pop</td>\n",
       "    </tr>\n",
       "    <tr>\n",
       "      <th>3</th>\n",
       "      <td>2010.0</td>\n",
       "      <td>4:17</td>\n",
       "      <td>I Run To You</td>\n",
       "      <td>Lady Antebellum</td>\n",
       "      <td>Country pop</td>\n",
       "    </tr>\n",
       "    <tr>\n",
       "      <th>4</th>\n",
       "      <td>NaN</td>\n",
       "      <td>3:44</td>\n",
       "      <td>American honey</td>\n",
       "      <td>Lady Antebellum</td>\n",
       "      <td>Country pop</td>\n",
       "    </tr>\n",
       "  </tbody>\n",
       "</table>\n",
       "</div>"
      ],
      "text/plain": [
       "     Date Length                 Title       Group.Name        Genre\n",
       "0  1992.0   6:29  Nothing Else Matters        Metallica        Metal\n",
       "1     NaN   4:21       Hero Of The Day        Metallica        Metal\n",
       "2  2010.0   4:37          Need you now  Lady Antebellum  Country pop\n",
       "3  2010.0   4:17          I Run To You  Lady Antebellum  Country pop\n",
       "4     NaN   3:44        American honey  Lady Antebellum  Country pop"
      ]
     },
     "execution_count": 7,
     "metadata": {},
     "output_type": "execute_result"
    }
   ],
   "source": [
    "from pandas.io.json import json_normalize\n",
    "with open('./datos/canciones.json') as json_data:\n",
    "    d = json.load(json_data)\n",
    "json_normalize(d, \"Songs\", [[\"Group\", \"Name\"], \"Genre\"]) "
   ]
  },
  {
   "cell_type": "markdown",
   "metadata": {},
   "source": [
    "## Acceso a Bases de datos"
   ]
  },
  {
   "cell_type": "markdown",
   "metadata": {},
   "source": [
    "La gestión de la información mediante estructuras de ficheros no es siempre la forma más adecuada de almacenamiento de datos. Es por todos conocido que se pierden propiedades deseables como son, la integridad, la no redundancia, etc. Son muchas las aplicaciones que usan bases de datos como forma de almacenamiento, ya sean bases de datos relacionales, también conocidas como bases de datos SQL, como las aparecidas recientemente no relacionales o NoSQL. \n",
    "\n",
    "En esta sección mostramos cómo interacciona Pandas con una base de datos relacional (MySQL) y con una base de datos NoSQL (MongoDB)."
   ]
  },
  {
   "cell_type": "markdown",
   "metadata": {},
   "source": [
    "### Bases de datos relacionales. MySQL"
   ]
  },
  {
   "cell_type": "markdown",
   "metadata": {},
   "source": [
    "En Python existe un mecanismo estándar para el acceso a bases de datos relacionales. En esta sección mostramos el procedimiento a seguir para realizar la conexión, lectura y escritura de datos desde Python. Este procedimiento será similar para otros sistemas gestores de bases de datos, y lo único que cambiará será la librería a utilizar para realizar la conexión.\n",
    "\n",
    "En el caso de MySQL, utilizaremos la librería `mysql.connector`. Esta librería tiene que ser instalada antes de su importación, ya que no viene incluída en Anaconda."
   ]
  },
  {
   "cell_type": "code",
   "execution_count": 80,
   "metadata": {
    "collapsed": true
   },
   "outputs": [],
   "source": [
    "# conda install -c anaconda mysql-connector-python=2.0.4"
   ]
  },
  {
   "cell_type": "markdown",
   "metadata": {},
   "source": [
    "A continuación mostramos cómo establecer la conexión con una base de datos MySQL. En primer lugar tenemos que importar la librería  `mysql.connector`."
   ]
  },
  {
   "cell_type": "code",
   "execution_count": 81,
   "metadata": {
    "collapsed": false
   },
   "outputs": [],
   "source": [
    "import mysql.connector as sql"
   ]
  },
  {
   "cell_type": "markdown",
   "metadata": {},
   "source": [
    "La función `sql.connect`  permite establecer una conexión con la base de datos. Como argumentos de la función es necesario indicar el usuario, la contraseña, el nombre de la base de datos, el nombre del host y puerto."
   ]
  },
  {
   "cell_type": "code",
   "execution_count": 82,
   "metadata": {
    "collapsed": false
   },
   "outputs": [],
   "source": [
    "db_connection = sql.connect(host='127.0.0.1', \n",
    "                            port=3306, \n",
    "                            database='test', \n",
    "                            user='root', \n",
    "                            password='')"
   ]
  },
  {
   "cell_type": "markdown",
   "metadata": {},
   "source": [
    "La creación de un dataframe a partir de los datos almacenados en una base de datos relacional es muy simple utilizando las funciones que proporciona Pandas. La función `read_sql` permite ejecutar una consulta SQL pasada como argumento. El resultado, será un objeto de la clase `DataFrame`, con tantas columnas como atributos haya en la sentencia `select` y tantas tuplas como filas devueltas por la consulta."
   ]
  },
  {
   "cell_type": "code",
   "execution_count": 83,
   "metadata": {
    "collapsed": false
   },
   "outputs": [
    {
     "data": {
      "text/html": [
       "<div>\n",
       "<table border=\"1\" class=\"dataframe\">\n",
       "  <thead>\n",
       "    <tr style=\"text-align: right;\">\n",
       "      <th></th>\n",
       "      <th>lastName</th>\n",
       "      <th>salary</th>\n",
       "      <th>projects</th>\n",
       "    </tr>\n",
       "  </thead>\n",
       "  <tbody>\n",
       "    <tr>\n",
       "      <th>0</th>\n",
       "      <td>Patterson</td>\n",
       "      <td>23000</td>\n",
       "      <td>2</td>\n",
       "    </tr>\n",
       "    <tr>\n",
       "      <th>1</th>\n",
       "      <td>Firrelli</td>\n",
       "      <td>30000</td>\n",
       "      <td>3</td>\n",
       "    </tr>\n",
       "    <tr>\n",
       "      <th>2</th>\n",
       "      <td>Patterson</td>\n",
       "      <td>25000</td>\n",
       "      <td>1</td>\n",
       "    </tr>\n",
       "    <tr>\n",
       "      <th>3</th>\n",
       "      <td>Bondur</td>\n",
       "      <td>35000</td>\n",
       "      <td>4</td>\n",
       "    </tr>\n",
       "    <tr>\n",
       "      <th>4</th>\n",
       "      <td>Bow</td>\n",
       "      <td>20000</td>\n",
       "      <td>1</td>\n",
       "    </tr>\n",
       "    <tr>\n",
       "      <th>5</th>\n",
       "      <td>Jennings</td>\n",
       "      <td>26000</td>\n",
       "      <td>2</td>\n",
       "    </tr>\n",
       "  </tbody>\n",
       "</table>\n",
       "</div>"
      ],
      "text/plain": [
       "    lastName  salary  projects\n",
       "0  Patterson   23000         2\n",
       "1   Firrelli   30000         3\n",
       "2  Patterson   25000         1\n",
       "3     Bondur   35000         4\n",
       "4        Bow   20000         1\n",
       "5   Jennings   26000         2"
      ]
     },
     "execution_count": 83,
     "metadata": {},
     "output_type": "execute_result"
    }
   ],
   "source": [
    "df = pd.read_sql('select lastName, salary, projects from employees;', \n",
    "                  con=db_connection)\n",
    "df"
   ]
  },
  {
   "cell_type": "markdown",
   "metadata": {},
   "source": [
    "La operación inversa está a cargo del método `to_sql` de la clase `DataFrame`. "
   ]
  },
  {
   "cell_type": "code",
   "execution_count": 84,
   "metadata": {
    "collapsed": false
   },
   "outputs": [
    {
     "data": {
      "text/html": [
       "<div>\n",
       "<table border=\"1\" class=\"dataframe\">\n",
       "  <thead>\n",
       "    <tr style=\"text-align: right;\">\n",
       "      <th></th>\n",
       "      <th>lastName</th>\n",
       "      <th>salary</th>\n",
       "      <th>projects</th>\n",
       "    </tr>\n",
       "  </thead>\n",
       "  <tbody>\n",
       "    <tr>\n",
       "      <th>0</th>\n",
       "      <td>Patterson</td>\n",
       "      <td>23500</td>\n",
       "      <td>2</td>\n",
       "    </tr>\n",
       "    <tr>\n",
       "      <th>1</th>\n",
       "      <td>Firrelli</td>\n",
       "      <td>30500</td>\n",
       "      <td>3</td>\n",
       "    </tr>\n",
       "    <tr>\n",
       "      <th>2</th>\n",
       "      <td>Patterson</td>\n",
       "      <td>25500</td>\n",
       "      <td>1</td>\n",
       "    </tr>\n",
       "    <tr>\n",
       "      <th>3</th>\n",
       "      <td>Bondur</td>\n",
       "      <td>35500</td>\n",
       "      <td>4</td>\n",
       "    </tr>\n",
       "    <tr>\n",
       "      <th>4</th>\n",
       "      <td>Bow</td>\n",
       "      <td>20500</td>\n",
       "      <td>1</td>\n",
       "    </tr>\n",
       "    <tr>\n",
       "      <th>5</th>\n",
       "      <td>Jennings</td>\n",
       "      <td>26500</td>\n",
       "      <td>2</td>\n",
       "    </tr>\n",
       "  </tbody>\n",
       "</table>\n",
       "</div>"
      ],
      "text/plain": [
       "    lastName  salary  projects\n",
       "0  Patterson   23500         2\n",
       "1   Firrelli   30500         3\n",
       "2  Patterson   25500         1\n",
       "3     Bondur   35500         4\n",
       "4        Bow   20500         1\n",
       "5   Jennings   26500         2"
      ]
     },
     "execution_count": 84,
     "metadata": {},
     "output_type": "execute_result"
    }
   ],
   "source": [
    "df.salary = df.salary + 500 \n",
    "df"
   ]
  },
  {
   "cell_type": "code",
   "execution_count": 85,
   "metadata": {
    "collapsed": false
   },
   "outputs": [
    {
     "name": "stderr",
     "output_type": "stream",
     "text": [
      "C:\\Users\\Yoli\\Anaconda3\\lib\\site-packages\\pandas\\core\\generic.py:1165: FutureWarning: The 'mysql' flavor with DBAPI connection is deprecated and will be removed in future versions. MySQL will be further supported with SQLAlchemy connectables.\n",
      "  chunksize=chunksize, dtype=dtype)\n"
     ]
    }
   ],
   "source": [
    "df.to_sql('Nueva_tabla', con = db_connection, flavor = 'mysql', if_exists = 'replace')"
   ]
  },
  {
   "cell_type": "markdown",
   "metadata": {},
   "source": [
    "El método `to_sql` recibe como argumento el nombre de la tabla de la base de datos donde se insertarán las tuplas del dataframe `df`. El argumento `if_exists` permite indicar que las filas ya existentes en la tabla han de reemplazarse."
   ]
  },
  {
   "cell_type": "markdown",
   "metadata": {},
   "source": [
    "Para finalizar, el método `close` cierra la conexión con la base de datos."
   ]
  },
  {
   "cell_type": "code",
   "execution_count": 86,
   "metadata": {
    "collapsed": true
   },
   "outputs": [],
   "source": [
    "db_connection.close()"
   ]
  },
  {
   "cell_type": "markdown",
   "metadata": {},
   "source": [
    "### Bases de datos NoSQL. MongoDB"
   ]
  },
  {
   "cell_type": "markdown",
   "metadata": {},
   "source": [
    "MongoDB es una base de datos NoSQL muy popular, la cual está orientada a documentos. Estos documentos son de tipo JSON, cuyo tratamiento ya hemos visto en secciones anteriores. La librería Pandas cuenta con las herramienta necesarias para, una vez  establecida la conexión con MongoDB, crear dataframes a partir de los datos contenidos en MongoDB, así como para almacenar los datos contenidos en los dataframes de Pandas en  MongoDB.\n",
    "\n",
    "El primer paso es tener instalado MongoDB y arrancado el servidor de MongoDB . Para establecer la conexión con MongoDB es necesario usar la función `MongoClient` de la librería `pymongo` con los datos del host y el puerto como argumentos. El puerto que utiliza MongoDB en la instalación local por defecto es el 27017. Si MongoDB está instalada en otra máquina, es necesario indicar la IP y el puerto que corresponda."
   ]
  },
  {
   "cell_type": "code",
   "execution_count": 87,
   "metadata": {
    "collapsed": false
   },
   "outputs": [
    {
     "data": {
      "text/plain": [
       "pymongo.mongo_client.MongoClient"
      ]
     },
     "execution_count": 87,
     "metadata": {},
     "output_type": "execute_result"
    }
   ],
   "source": [
    "import pymongo \n",
    "client = pymongo.MongoClient('localhost',27017)\n",
    "type(client)"
   ]
  },
  {
   "cell_type": "markdown",
   "metadata": {},
   "source": [
    "En el servidor MongoDB pueden existir muchas bases de datos independientes y cada base de datos puede tener múltiples colecciones. Así mismo, cada colección puede contener múltiples documentos. Para conocer las bases de datos existentes en nuestro servidor podemos usar el método `database_names` de la clase `MongoClient`."
   ]
  },
  {
   "cell_type": "code",
   "execution_count": 88,
   "metadata": {
    "collapsed": false
   },
   "outputs": [
    {
     "data": {
      "text/plain": [
       "['Canciones', 'LadySongs', 'admin', 'datos', 'local']"
      ]
     },
     "execution_count": 88,
     "metadata": {},
     "output_type": "execute_result"
    }
   ],
   "source": [
    "client.database_names()"
   ]
  },
  {
   "cell_type": "markdown",
   "metadata": {},
   "source": [
    "Para consultar los datos de una de las bases de datos existentes en el servidor usamos el operador punto y el nombre de la base de datos:"
   ]
  },
  {
   "cell_type": "code",
   "execution_count": 89,
   "metadata": {
    "collapsed": false
   },
   "outputs": [
    {
     "data": {
      "text/plain": [
       "Database(MongoClient(host=['localhost:27017'], document_class=dict, tz_aware=False, connect=True), 'Canciones')"
      ]
     },
     "execution_count": 89,
     "metadata": {},
     "output_type": "execute_result"
    }
   ],
   "source": [
    "db  = client.Canciones\n",
    "db"
   ]
  },
  {
   "cell_type": "markdown",
   "metadata": {},
   "source": [
    "El método `collection_names`  devuelve una lista con las colecciones de una base de datos."
   ]
  },
  {
   "cell_type": "code",
   "execution_count": 90,
   "metadata": {
    "collapsed": false
   },
   "outputs": [
    {
     "data": {
      "text/plain": [
       "['Giras', 'Artistas']"
      ]
     },
     "execution_count": 90,
     "metadata": {},
     "output_type": "execute_result"
    }
   ],
   "source": [
    "db.collection_names() "
   ]
  },
  {
   "cell_type": "markdown",
   "metadata": {},
   "source": [
    "Por último, para acceder a una colección concreta de la base de datos usamos la misma notación, el operador punto, junto con el nombre de la colección."
   ]
  },
  {
   "cell_type": "code",
   "execution_count": 91,
   "metadata": {
    "collapsed": false
   },
   "outputs": [
    {
     "data": {
      "text/plain": [
       "Collection(Database(MongoClient(host=['localhost:27017'], document_class=dict, tz_aware=False, connect=True), 'Canciones'), 'Artistas')"
      ]
     },
     "execution_count": 91,
     "metadata": {},
     "output_type": "execute_result"
    }
   ],
   "source": [
    "col = db.Artistas\n",
    "col"
   ]
  },
  {
   "cell_type": "code",
   "execution_count": 92,
   "metadata": {
    "collapsed": false
   },
   "outputs": [
    {
     "data": {
      "text/plain": [
       "pymongo.collection.Collection"
      ]
     },
     "execution_count": 92,
     "metadata": {},
     "output_type": "execute_result"
    }
   ],
   "source": [
    "type(col)"
   ]
  },
  {
   "cell_type": "markdown",
   "metadata": {},
   "source": [
    "Podemos conocer la cantidad de documentos que hay en una colección con el método `count`:"
   ]
  },
  {
   "cell_type": "code",
   "execution_count": 93,
   "metadata": {
    "collapsed": false
   },
   "outputs": [
    {
     "data": {
      "text/plain": [
       "4"
      ]
     },
     "execution_count": 93,
     "metadata": {},
     "output_type": "execute_result"
    }
   ],
   "source": [
    "col.count()"
   ]
  },
  {
   "cell_type": "markdown",
   "metadata": {},
   "source": [
    "El método `find_one` permite acceder al primer elemento. Como podemos comprobar, cada documento en la colección es de tipo `dict` (ver figura XX)."
   ]
  },
  {
   "cell_type": "code",
   "execution_count": 94,
   "metadata": {
    "collapsed": false
   },
   "outputs": [
    {
     "data": {
      "text/plain": [
       "dict"
      ]
     },
     "execution_count": 94,
     "metadata": {},
     "output_type": "execute_result"
    }
   ],
   "source": [
    "doc = col.find_one()\n",
    "type(doc)"
   ]
  },
  {
   "cell_type": "code",
   "execution_count": 95,
   "metadata": {
    "collapsed": false
   },
   "outputs": [
    {
     "data": {
      "text/plain": [
       "{'Genre': 'Country pop',\n",
       " 'Group': {'Name': 'Lady Antebellum'},\n",
       " 'Songs': [{'Date': 2010, 'Length': '4:37', 'Title': 'Need you now'},\n",
       "  {'Date': 2010, 'Length': '4:17', 'Title': 'I Run To You'},\n",
       "  {'Date': 2007, 'Length': '3:43', 'Title': 'Never Alone'},\n",
       "  {'Length': '3:44', 'Title': 'American honey'}],\n",
       " '_id': ObjectId('58d50d15bf9c245136c1cbac')}"
      ]
     },
     "execution_count": 95,
     "metadata": {},
     "output_type": "execute_result"
    }
   ],
   "source": [
    "doc"
   ]
  },
  {
   "cell_type": "code",
   "execution_count": 96,
   "metadata": {
    "collapsed": false
   },
   "outputs": [
    {
     "name": "stdout",
     "output_type": "stream",
     "text": [
      "{\n",
      "    \"Songs\": [\n",
      "        {\n",
      "            \"Length\": \"4:37\",\n",
      "            \"Title\": \"Need you now\",\n",
      "            \"Date\": 2010\n",
      "        },\n",
      "        {\n",
      "            \"Length\": \"4:17\",\n",
      "            \"Title\": \"I Run To You\",\n",
      "            \"Date\": 2010\n",
      "        },\n",
      "        {\n",
      "            \"Length\": \"3:44\",\n",
      "            \"Title\": \"American honey\"\n",
      "        }\n",
      "    ],\n",
      "    \"Genre\": \"Country pop\",\n",
      "    \"_id\": \"ObjectId(58d50d15bf9c245136c1cbac)\",\n",
      "    \"Group\": {\n",
      "        \"Name\": \"Lady Antebellum\"\n",
      "    }\n",
      "}\n"
     ]
    }
   ],
   "source": [
    "listingjson('./datos/primero.json')"
   ]
  },
  {
   "cell_type": "markdown",
   "metadata": {},
   "source": [
    "Para recuperar todos los documentos de una colección (los distintos diccionarios) usamos el método `find`. Este método devuelve un cursor sobre el que podremos iterar. Por ejemplo, con la función `list` obtendremos una lista de diccionarios:"
   ]
  },
  {
   "cell_type": "code",
   "execution_count": 97,
   "metadata": {
    "collapsed": false
   },
   "outputs": [
    {
     "data": {
      "text/plain": [
       "[{'Genre': 'Country pop',\n",
       "  'Group': {'Name': 'Lady Antebellum'},\n",
       "  'Songs': [{'Date': 2010, 'Length': '4:37', 'Title': 'Need you now'},\n",
       "   {'Date': 2010, 'Length': '4:17', 'Title': 'I Run To You'},\n",
       "   {'Date': 2007, 'Length': '3:43', 'Title': 'Never Alone'},\n",
       "   {'Length': '3:44', 'Title': 'American honey'}],\n",
       "  '_id': ObjectId('58d50d15bf9c245136c1cbac')},\n",
       " {'Genre': 'Rock',\n",
       "  'Group': {'Name': 'Amy Macdonald'},\n",
       "  'Songs': [{'Date': 2007, 'Length': '3:05', 'Title': 'This Is the Life'},\n",
       "   {'Date': 2007, 'Length': '3:28', 'Title': 'Poison Prince'},\n",
       "   {'Date': 2007, 'Length': '3:50', 'Title': 'Run'}],\n",
       "  '_id': ObjectId('58d50fe3bf9c245136c1cbfb')},\n",
       " {'Genre': 'Folk',\n",
       "  'Group': {'Name': 'Tina Turner'},\n",
       "  'Songs': [{'Date': 1988, 'Length': '4:56', 'Title': 'Girls'},\n",
       "   {'Date': 1999, 'Length': '4:49', 'Title': 'Whatever You Need'},\n",
       "   {'Date': 1999, 'Length': '3:57', 'Title': 'Rock Me Baby'}],\n",
       "  '_id': ObjectId('58d50ff6bf9c245136c1cbff')},\n",
       " {'Genre': 'Metal',\n",
       "  'Group': {'Name': 'Metallica'},\n",
       "  'Songs': [{'Date': 1992, 'Length': '6:29', 'Title': 'Nothing Else Matters'},\n",
       "   {'Length': '4:21', 'Title': 'Hero Of The Day'}],\n",
       "  '_id': ObjectId('58d51054bf9c245136c1cc17')}]"
      ]
     },
     "execution_count": 97,
     "metadata": {},
     "output_type": "execute_result"
    }
   ],
   "source": [
    "cursor = col.find() \n",
    "l = list(cursor)\n",
    "l"
   ]
  },
  {
   "cell_type": "markdown",
   "metadata": {},
   "source": [
    "La función `json_normalize` con la lista de documentos y la clave `Songs` devuelve el siguiente dataframe:"
   ]
  },
  {
   "cell_type": "code",
   "execution_count": 98,
   "metadata": {
    "collapsed": false
   },
   "outputs": [
    {
     "data": {
      "text/html": [
       "<div>\n",
       "<table border=\"1\" class=\"dataframe\">\n",
       "  <thead>\n",
       "    <tr style=\"text-align: right;\">\n",
       "      <th></th>\n",
       "      <th>Date</th>\n",
       "      <th>Length</th>\n",
       "      <th>Title</th>\n",
       "    </tr>\n",
       "  </thead>\n",
       "  <tbody>\n",
       "    <tr>\n",
       "      <th>0</th>\n",
       "      <td>2010.0</td>\n",
       "      <td>4:37</td>\n",
       "      <td>Need you now</td>\n",
       "    </tr>\n",
       "    <tr>\n",
       "      <th>1</th>\n",
       "      <td>2010.0</td>\n",
       "      <td>4:17</td>\n",
       "      <td>I Run To You</td>\n",
       "    </tr>\n",
       "    <tr>\n",
       "      <th>2</th>\n",
       "      <td>2007.0</td>\n",
       "      <td>3:43</td>\n",
       "      <td>Never Alone</td>\n",
       "    </tr>\n",
       "    <tr>\n",
       "      <th>3</th>\n",
       "      <td>NaN</td>\n",
       "      <td>3:44</td>\n",
       "      <td>American honey</td>\n",
       "    </tr>\n",
       "    <tr>\n",
       "      <th>4</th>\n",
       "      <td>2007.0</td>\n",
       "      <td>3:05</td>\n",
       "      <td>This Is the Life</td>\n",
       "    </tr>\n",
       "    <tr>\n",
       "      <th>5</th>\n",
       "      <td>2007.0</td>\n",
       "      <td>3:28</td>\n",
       "      <td>Poison Prince</td>\n",
       "    </tr>\n",
       "    <tr>\n",
       "      <th>6</th>\n",
       "      <td>2007.0</td>\n",
       "      <td>3:50</td>\n",
       "      <td>Run</td>\n",
       "    </tr>\n",
       "    <tr>\n",
       "      <th>7</th>\n",
       "      <td>1988.0</td>\n",
       "      <td>4:56</td>\n",
       "      <td>Girls</td>\n",
       "    </tr>\n",
       "    <tr>\n",
       "      <th>8</th>\n",
       "      <td>1999.0</td>\n",
       "      <td>4:49</td>\n",
       "      <td>Whatever You Need</td>\n",
       "    </tr>\n",
       "    <tr>\n",
       "      <th>9</th>\n",
       "      <td>1999.0</td>\n",
       "      <td>3:57</td>\n",
       "      <td>Rock Me Baby</td>\n",
       "    </tr>\n",
       "    <tr>\n",
       "      <th>10</th>\n",
       "      <td>1992.0</td>\n",
       "      <td>6:29</td>\n",
       "      <td>Nothing Else Matters</td>\n",
       "    </tr>\n",
       "    <tr>\n",
       "      <th>11</th>\n",
       "      <td>NaN</td>\n",
       "      <td>4:21</td>\n",
       "      <td>Hero Of The Day</td>\n",
       "    </tr>\n",
       "  </tbody>\n",
       "</table>\n",
       "</div>"
      ],
      "text/plain": [
       "      Date Length                 Title\n",
       "0   2010.0   4:37          Need you now\n",
       "1   2010.0   4:17          I Run To You\n",
       "2   2007.0   3:43           Never Alone\n",
       "3      NaN   3:44        American honey\n",
       "4   2007.0   3:05      This Is the Life\n",
       "5   2007.0   3:28         Poison Prince\n",
       "6   2007.0   3:50                   Run\n",
       "7   1988.0   4:56                 Girls\n",
       "8   1999.0   4:49     Whatever You Need\n",
       "9   1999.0   3:57          Rock Me Baby\n",
       "10  1992.0   6:29  Nothing Else Matters\n",
       "11     NaN   4:21       Hero Of The Day"
      ]
     },
     "execution_count": 98,
     "metadata": {},
     "output_type": "execute_result"
    }
   ],
   "source": [
    "json_normalize(l, \"Songs\")"
   ]
  },
  {
   "cell_type": "markdown",
   "metadata": {},
   "source": [
    "El método `find` puede usarse con un diccionario como argumento, el cuál actuará como filtro, recuperándose así solo aquellos documentos que cumplan el filtro."
   ]
  },
  {
   "cell_type": "code",
   "execution_count": 99,
   "metadata": {
    "collapsed": false
   },
   "outputs": [
    {
     "data": {
      "text/html": [
       "<div>\n",
       "<table border=\"1\" class=\"dataframe\">\n",
       "  <thead>\n",
       "    <tr style=\"text-align: right;\">\n",
       "      <th></th>\n",
       "      <th>Date</th>\n",
       "      <th>Length</th>\n",
       "      <th>Title</th>\n",
       "    </tr>\n",
       "  </thead>\n",
       "  <tbody>\n",
       "    <tr>\n",
       "      <th>0</th>\n",
       "      <td>2010.0</td>\n",
       "      <td>4:37</td>\n",
       "      <td>Need you now</td>\n",
       "    </tr>\n",
       "    <tr>\n",
       "      <th>1</th>\n",
       "      <td>2010.0</td>\n",
       "      <td>4:17</td>\n",
       "      <td>I Run To You</td>\n",
       "    </tr>\n",
       "    <tr>\n",
       "      <th>2</th>\n",
       "      <td>2007.0</td>\n",
       "      <td>3:43</td>\n",
       "      <td>Never Alone</td>\n",
       "    </tr>\n",
       "    <tr>\n",
       "      <th>3</th>\n",
       "      <td>NaN</td>\n",
       "      <td>3:44</td>\n",
       "      <td>American honey</td>\n",
       "    </tr>\n",
       "  </tbody>\n",
       "</table>\n",
       "</div>"
      ],
      "text/plain": [
       "     Date Length           Title\n",
       "0  2010.0   4:37    Need you now\n",
       "1  2010.0   4:17    I Run To You\n",
       "2  2007.0   3:43     Never Alone\n",
       "3     NaN   3:44  American honey"
      ]
     },
     "execution_count": 99,
     "metadata": {},
     "output_type": "execute_result"
    }
   ],
   "source": [
    "cursor = col.find({\"Group\": {\"Name\": \"Lady Antebellum\"}}) \n",
    "l = list(cursor)\n",
    "tabla_lady = json_normalize(l, \"Songs\")\n",
    "tabla_lady"
   ]
  },
  {
   "cell_type": "markdown",
   "metadata": {},
   "source": [
    "Para crear una nueva base de datos en el servidor de MongoDB utilizamos el operador punto con el nombre de la base de datos que queremos crear:"
   ]
  },
  {
   "cell_type": "code",
   "execution_count": 100,
   "metadata": {
    "collapsed": false
   },
   "outputs": [
    {
     "data": {
      "text/plain": [
       "Database(MongoClient(host=['localhost:27017'], document_class=dict, tz_aware=False, connect=True), 'LadySongs')"
      ]
     },
     "execution_count": 100,
     "metadata": {},
     "output_type": "execute_result"
    }
   ],
   "source": [
    "client.drop_database('LadySongs')\n",
    "nueva_db = client.LadySongs\n",
    "nueva_db"
   ]
  },
  {
   "cell_type": "markdown",
   "metadata": {},
   "source": [
    "Se ha creado una nueva base de datos llamada `LadySongs`. Procedemos de la misma manera para crea una colección en la base de datos."
   ]
  },
  {
   "cell_type": "code",
   "execution_count": 101,
   "metadata": {
    "collapsed": true
   },
   "outputs": [],
   "source": [
    "col = nueva_db.Songs_LA"
   ]
  },
  {
   "cell_type": "markdown",
   "metadata": {},
   "source": [
    "Para escribir cada una de las filas del dataframe `tabla_lady` en la colección `Songs_LA`, es necesario transformar el dataframe a un objeto de la clase `json`. Para ello usamos el método `to_json` de la clase `DataFrame` seguido de la función `loads` de la librería `json`."
   ]
  },
  {
   "cell_type": "code",
   "execution_count": 102,
   "metadata": {
    "collapsed": false
   },
   "outputs": [
    {
     "data": {
      "text/plain": [
       "[{'Date': 2010.0, 'Length': '4:37', 'Title': 'Need you now'},\n",
       " {'Date': 2010.0, 'Length': '4:17', 'Title': 'I Run To You'},\n",
       " {'Date': 2007.0, 'Length': '3:43', 'Title': 'Never Alone'},\n",
       " {'Date': None, 'Length': '3:44', 'Title': 'American honey'}]"
      ]
     },
     "execution_count": 102,
     "metadata": {},
     "output_type": "execute_result"
    }
   ],
   "source": [
    "d = tabla_lady.to_json(orient='records')\n",
    "data_json = json.loads(d)\n",
    "data_json"
   ]
  },
  {
   "cell_type": "markdown",
   "metadata": {},
   "source": [
    "Para finalizar el proceso, el método `insert_many` permite insertar en una colección tantos documentos como diccionarios haya en el objeto de la clase `json`."
   ]
  },
  {
   "cell_type": "code",
   "execution_count": 103,
   "metadata": {
    "collapsed": false
   },
   "outputs": [
    {
     "data": {
      "text/plain": [
       "<pymongo.results.InsertManyResult at 0x26eb6efec60>"
      ]
     },
     "execution_count": 103,
     "metadata": {},
     "output_type": "execute_result"
    }
   ],
   "source": [
    "col.insert_many(data_json)"
   ]
  },
  {
   "cell_type": "markdown",
   "metadata": {},
   "source": [
    "Ahora, si consultamos las bases de datos existente en el servidor, aparecerá la recién creada."
   ]
  },
  {
   "cell_type": "code",
   "execution_count": 104,
   "metadata": {
    "collapsed": false
   },
   "outputs": [
    {
     "data": {
      "text/plain": [
       "['Canciones', 'LadySongs', 'admin', 'datos', 'local']"
      ]
     },
     "execution_count": 104,
     "metadata": {},
     "output_type": "execute_result"
    }
   ],
   "source": [
    "client.database_names()"
   ]
  },
  {
   "cell_type": "markdown",
   "metadata": {},
   "source": [
    "## Conclusiones"
   ]
  },
  {
   "cell_type": "markdown",
   "metadata": {
    "collapsed": true
   },
   "source": [
    "En este capítulo hemos mostrado las herramienta con las cuenta la librería Pandas para manejar  datos en diferentes formatos, desde los más habituales como son CSV, txt o Microsoft Excel, hasta las Bases de datos, pasando por los fichero en formato HTML  y los estándares para el intercambio de datos como son  XML o JSON.\n",
    "\n",
    "En el siguiente capítulo veremos ..."
   ]
  },
  {
   "cell_type": "markdown",
   "metadata": {},
   "source": [
    "# References\n",
    "\n"
   ]
  },
  {
   "cell_type": "markdown",
   "metadata": {},
   "source": [
    "* [Python for Data Analysis](http://shop.oreilly.com/product/0636920023784.do)\n",
    "* [librería request](http://docs.python-requests.org/en/master/)\n",
    "* [`lxml`](http://lxml.de/)\n",
    "\n",
    "------"
   ]
  }
 ],
 "metadata": {
  "anaconda-cloud": {},
  "kernelspec": {
   "display_name": "Python 3",
   "language": "python",
   "name": "python3"
  },
  "language_info": {
   "codemirror_mode": {
    "name": "ipython",
    "version": 3
   },
   "file_extension": ".py",
   "mimetype": "text/x-python",
   "name": "python",
   "nbconvert_exporter": "python",
   "pygments_lexer": "ipython3",
   "version": "3.6.0"
  },
  "toc": {
   "colors": {
    "hover_highlight": "#DAA520",
    "running_highlight": "#FF0000",
    "selected_highlight": "#FFD700"
   },
   "moveMenuLeft": true,
   "nav_menu": {
    "height": "394px",
    "width": "252px"
   },
   "navigate_menu": true,
   "number_sections": true,
   "sideBar": true,
   "threshold": 4,
   "toc_cell": false,
   "toc_position": {
    "height": "543px",
    "left": "0px",
    "right": "1013px",
    "top": "119px",
    "width": "353px"
   },
   "toc_section_display": "block",
   "toc_window_display": true,
   "widenNotebook": false
  }
 },
 "nbformat": 4,
 "nbformat_minor": 0
}
