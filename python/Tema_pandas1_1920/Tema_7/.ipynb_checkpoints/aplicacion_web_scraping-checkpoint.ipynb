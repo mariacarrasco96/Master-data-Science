{
 "cells": [
  {
   "cell_type": "markdown",
   "metadata": {},
   "source": [
    "# Acceso a los datos de la web\n",
    "\n",
    "### Web Scraping"
   ]
  },
  {
   "cell_type": "markdown",
   "metadata": {},
   "source": [
    "El __Web Scraping__ (o Scraping) son un conjunto de técnicas que se utilizan para obtener de forma automática el contenido que hay en páginas web a través de su código HTML. \n",
    "* Es una opción cuando no hay API's para extraer datos de la web\n",
    "* Otros términos:\n",
    "    * \"Spydering the web\"\n",
    "    * \"Web crawling\"\n",
    "\n",
    "Las técnicas de Scraping se pueden enmarcar dentro del campo del Big Data en la primera fase de recolección de datos para su posterior almacenamiento, tratamiento y visualización.\n",
    "\n",
    "El uso de estas técnicas tienen como finalidad recopilar grandes cantidades de datos de diferentes páginas web cuyo uso posterior puede ser muy variado:\n",
    "\n",
    "  * homogenización de datos, \n",
    "  * tratamiento de contenido para la extracción de conocimiento, \n",
    "  * complementar datos en una web, etc.\n"
   ]
  },
  {
   "cell_type": "markdown",
   "metadata": {},
   "source": [
    "__Realizar una petición__\n",
    "\n",
    "La página web con la que vamos a jugar es:\n",
    "\"https://es.wikipedia.org/wiki/Anexo:Municipios_de_la_Comunidad_de_Madrid\"\n",
    " que contiene datos de la lista de municipios de la Comunidad de Madrid.\n",
    " \n",
    "Para acceder al contenido de una página web usamos el protocolo HTTP Request/Response. \n",
    "\n",
    "A continuación adjunto una función capaz de hacer una conexión HTTP para acceder a una página web y extraer información.\n",
    "\n"
   ]
  },
  {
   "cell_type": "code",
   "execution_count": 2,
   "metadata": {
    "collapsed": true
   },
   "outputs": [],
   "source": [
    "import requests\n",
    "\n",
    "url = \"https://es.wikipedia.org/wiki/Anexo:Municipios_de_la_Comunidad_de_Madrid\"\n",
    "\n",
    "# Realizamos la petición HTTP a la web\n",
    "response = requests.get(url)"
   ]
  },
  {
   "cell_type": "code",
   "execution_count": 3,
   "metadata": {
    "collapsed": false
   },
   "outputs": [
    {
     "ename": "ImportError",
     "evalue": "html5lib not found, please install it",
     "output_type": "error",
     "traceback": [
      "\u001b[0;31m---------------------------------------------------------------------------\u001b[0m",
      "\u001b[0;31mImportError\u001b[0m                               Traceback (most recent call last)",
      "\u001b[0;32m<ipython-input-3-54324666fb9b>\u001b[0m in \u001b[0;36m<module>\u001b[0;34m()\u001b[0m\n\u001b[1;32m      1\u001b[0m \u001b[1;32mimport\u001b[0m \u001b[0mpandas\u001b[0m \u001b[1;32mas\u001b[0m \u001b[0mpd\u001b[0m\u001b[1;33m\u001b[0m\u001b[0m\n\u001b[0;32m----> 2\u001b[0;31m \u001b[0mranking\u001b[0m \u001b[1;33m=\u001b[0m \u001b[0mpd\u001b[0m\u001b[1;33m.\u001b[0m\u001b[0mread_html\u001b[0m\u001b[1;33m(\u001b[0m\u001b[0murl\u001b[0m\u001b[1;33m)\u001b[0m\u001b[1;33m\u001b[0m\u001b[0m\n\u001b[0m",
      "\u001b[0;32mC:\\Users\\Yoli\\Anaconda3\\lib\\site-packages\\pandas\\io\\html.py\u001b[0m in \u001b[0;36mread_html\u001b[0;34m(io, match, flavor, header, index_col, skiprows, attrs, parse_dates, tupleize_cols, thousands, encoding)\u001b[0m\n\u001b[1;32m    872\u001b[0m     \u001b[0m_validate_header_arg\u001b[0m\u001b[1;33m(\u001b[0m\u001b[0mheader\u001b[0m\u001b[1;33m)\u001b[0m\u001b[1;33m\u001b[0m\u001b[0m\n\u001b[1;32m    873\u001b[0m     return _parse(flavor, io, match, header, index_col, skiprows,\n\u001b[0;32m--> 874\u001b[0;31m                   parse_dates, tupleize_cols, thousands, attrs, encoding)\n\u001b[0m",
      "\u001b[0;32mC:\\Users\\Yoli\\Anaconda3\\lib\\site-packages\\pandas\\io\\html.py\u001b[0m in \u001b[0;36m_parse\u001b[0;34m(flavor, io, match, header, index_col, skiprows, parse_dates, tupleize_cols, thousands, attrs, encoding)\u001b[0m\n\u001b[1;32m    724\u001b[0m     \u001b[0mretained\u001b[0m \u001b[1;33m=\u001b[0m \u001b[1;32mNone\u001b[0m\u001b[1;33m\u001b[0m\u001b[0m\n\u001b[1;32m    725\u001b[0m     \u001b[1;32mfor\u001b[0m \u001b[0mflav\u001b[0m \u001b[1;32min\u001b[0m \u001b[0mflavor\u001b[0m\u001b[1;33m:\u001b[0m\u001b[1;33m\u001b[0m\u001b[0m\n\u001b[0;32m--> 726\u001b[0;31m         \u001b[0mparser\u001b[0m \u001b[1;33m=\u001b[0m \u001b[0m_parser_dispatch\u001b[0m\u001b[1;33m(\u001b[0m\u001b[0mflav\u001b[0m\u001b[1;33m)\u001b[0m\u001b[1;33m\u001b[0m\u001b[0m\n\u001b[0m\u001b[1;32m    727\u001b[0m         \u001b[0mp\u001b[0m \u001b[1;33m=\u001b[0m \u001b[0mparser\u001b[0m\u001b[1;33m(\u001b[0m\u001b[0mio\u001b[0m\u001b[1;33m,\u001b[0m \u001b[0mcompiled_match\u001b[0m\u001b[1;33m,\u001b[0m \u001b[0mattrs\u001b[0m\u001b[1;33m,\u001b[0m \u001b[0mencoding\u001b[0m\u001b[1;33m)\u001b[0m\u001b[1;33m\u001b[0m\u001b[0m\n\u001b[1;32m    728\u001b[0m \u001b[1;33m\u001b[0m\u001b[0m\n",
      "\u001b[0;32mC:\\Users\\Yoli\\Anaconda3\\lib\\site-packages\\pandas\\io\\html.py\u001b[0m in \u001b[0;36m_parser_dispatch\u001b[0;34m(flavor)\u001b[0m\n\u001b[1;32m    668\u001b[0m     \u001b[1;32mif\u001b[0m \u001b[0mflavor\u001b[0m \u001b[1;32min\u001b[0m \u001b[1;33m(\u001b[0m\u001b[1;34m'bs4'\u001b[0m\u001b[1;33m,\u001b[0m \u001b[1;34m'html5lib'\u001b[0m\u001b[1;33m)\u001b[0m\u001b[1;33m:\u001b[0m\u001b[1;33m\u001b[0m\u001b[0m\n\u001b[1;32m    669\u001b[0m         \u001b[1;32mif\u001b[0m \u001b[1;32mnot\u001b[0m \u001b[0m_HAS_HTML5LIB\u001b[0m\u001b[1;33m:\u001b[0m\u001b[1;33m\u001b[0m\u001b[0m\n\u001b[0;32m--> 670\u001b[0;31m             \u001b[1;32mraise\u001b[0m \u001b[0mImportError\u001b[0m\u001b[1;33m(\u001b[0m\u001b[1;34m\"html5lib not found, please install it\"\u001b[0m\u001b[1;33m)\u001b[0m\u001b[1;33m\u001b[0m\u001b[0m\n\u001b[0m\u001b[1;32m    671\u001b[0m         \u001b[1;32mif\u001b[0m \u001b[1;32mnot\u001b[0m \u001b[0m_HAS_BS4\u001b[0m\u001b[1;33m:\u001b[0m\u001b[1;33m\u001b[0m\u001b[0m\n\u001b[1;32m    672\u001b[0m             raise ImportError(\n",
      "\u001b[0;31mImportError\u001b[0m: html5lib not found, please install it"
     ]
    }
   ],
   "source": [
    "import pandas as pd\n",
    "ranking = pd.read_html(url) "
   ]
  },
  {
   "cell_type": "markdown",
   "metadata": {},
   "source": [
    "* La función __get__ del módulo __request__ de Python abre una conexión con el servidor donde se encuentra la url (parámetro de  __get__) y manda la petición.\n",
    "\n",
    "* La respuesta del servidor se almacena en la variable (u objeto) _response_.\n",
    "\n",
    "* A partir del objeto _response_, que almacena muchos datos relacionados con la petición HTTP (cabeceras, cookies, etc.) obtenemos el __status_code__ y el __HTML__ (como un string) de la web. "
   ]
  },
  {
   "cell_type": "code",
   "execution_count": 2,
   "metadata": {
    "collapsed": false
   },
   "outputs": [
    {
     "data": {
      "text/plain": [
       "200"
      ]
     },
     "execution_count": 2,
     "metadata": {},
     "output_type": "execute_result"
    }
   ],
   "source": [
    "response.status_code        # atributo status_code: nos indicará si la petición \n",
    "                            # ha tenido éxito"
   ]
  },
  {
   "cell_type": "code",
   "execution_count": 7,
   "metadata": {
    "collapsed": false
   },
   "outputs": [
    {
     "name": "stdout",
     "output_type": "stream",
     "text": [
      "La petición ha ido bien\n"
     ]
    }
   ],
   "source": [
    "# Comprobamos que la petición nos devuelve un Status Code = 200\n",
    "statusCode = response.status_code \n",
    "\n",
    "if statusCode == 200:\n",
    "    print('La petición ha ido bien')\n",
    "else:\n",
    "    print('Problemas con la petición...')"
   ]
  },
  {
   "cell_type": "markdown",
   "metadata": {},
   "source": [
    "A partir del objeto __response__, que almacena muchos datos relacionados con la petición HTTP (cabeceras, cookies, etc.) obtenemos el __status_Code__ y el __HTML__ (como un string) de la web. "
   ]
  },
  {
   "cell_type": "code",
   "execution_count": 8,
   "metadata": {
    "collapsed": false
   },
   "outputs": [],
   "source": [
    "htmlText = response.text\n"
   ]
  },
  {
   "cell_type": "markdown",
   "metadata": {},
   "source": [
    "__Extraer información__\n",
    "\n",
    "A partir del string __htmlText__ que representa el código interno de la pagina web, parseamos la web para extraer la información que nos interesa.\n",
    "\n",
    "Mecanismos:\n",
    "\n",
    "* Usar expresiones regulares para localizar cadenas: esto puede ser muy laborioso, y pesado ...\n",
    "    \n",
    "    \n",
    "    \n",
    "* Usar alguna de las librerías de Python que permiten parsear el texto HTML de forma cómoda. \n",
    "    * __BeautifullSoup__ \n",
    "    * __Scrapy__\n",
    "    * __Selenium__\n",
    "    \n",
    "    \n",
    "__BeautifulSoup__  nos aporta los métodos necesarios (y muy bien optimizados) para obtener el contenido que hay entre las etiquetas HTML."
   ]
  },
  {
   "cell_type": "code",
   "execution_count": 9,
   "metadata": {
    "collapsed": false
   },
   "outputs": [],
   "source": [
    "from bs4 import BeautifulSoup\n",
    "\n",
    "# Pasamos el contenido HTML de la web a un objeto BeautifulSoup()\n",
    "soup = BeautifulSoup(htmlText, 'html.parser')\n"
   ]
  },
  {
   "cell_type": "markdown",
   "metadata": {},
   "source": [
    "### Recuperar los datos de la tabla\n",
    "\n",
    "Las tablas de HTML se definen con tres etiquetas: `<table>` para crear la tabla, `<tr>` para crear cada fila y `<td>` para crear cada columna."
   ]
  },
  {
   "cell_type": "code",
   "execution_count": 10,
   "metadata": {
    "collapsed": false
   },
   "outputs": [
    {
     "data": {
      "text/html": [
       "\n",
       "<table>\n",
       "    <tr>\n",
       "      <th><strong>Curso</strong></th>\n",
       "      <th><strong>Horas</strong></th>\n",
       "    </tr>\n",
       " \n",
       "    <tr>\n",
       "      <td>CSS</td>\n",
       "      <td>20</td>\n",
       "    </tr>\n",
       " \n",
       "    <tr>\n",
       "      <td>HTML</td>\n",
       "      <td>20</td>\n",
       "    </tr>\n",
       "</table>"
      ],
      "text/plain": [
       "<IPython.core.display.HTML object>"
      ]
     },
     "execution_count": 10,
     "metadata": {},
     "output_type": "execute_result"
    }
   ],
   "source": [
    "from IPython.display import HTML\n",
    "s = \"\"\"\n",
    "<table>\n",
    "    <tr>\n",
    "      <th><strong>Curso</strong></th>\n",
    "      <th><strong>Horas</strong></th>\n",
    "    </tr>\n",
    " \n",
    "    <tr>\n",
    "      <td>CSS</td>\n",
    "      <td>20</td>\n",
    "    </tr>\n",
    " \n",
    "    <tr>\n",
    "      <td>HTML</td>\n",
    "      <td>20</td>\n",
    "    </tr>\n",
    "</table>\"\"\"\n",
    "HTML(s)"
   ]
  },
  {
   "cell_type": "markdown",
   "metadata": {},
   "source": [
    "__Ejemplo:__ Queremos recuperar los datos de la tabla que aparece en la página  [Municipios Madrid](https://es.wikipedia.org/wiki/Anexo:Municipios_de_la_Comunidad_de_Madrid).\n",
    "\n",
    "En este caso utilizamos el método __find_all()__ que lo que hace es coger todos los fragmentos del HTML que correpondan a las etiquetas __tr__ y __td__."
   ]
  },
  {
   "cell_type": "code",
   "execution_count": 11,
   "metadata": {
    "collapsed": false
   },
   "outputs": [],
   "source": [
    "content = {}\n",
    "# Obtenemos cada una de las filas de la tabla \n",
    "rows = soup.find_all('tr')\n",
    "for r in rows:\n",
    "    #Seleccionamos las celdas de la tabla (td)\n",
    "    celdas=r.find_all('td')\n",
    "    # ignoramos la primera celda, que no tiene elementos td sino th (ver HTML de la página web)\n",
    "    if len(celdas)>0:\n",
    "        content[celdas[0].string] = { 'población': int( ''.join(c for c in celdas[1].string if c.isdigit())),\n",
    "                                      'superficie': float(celdas[2].string.replace(',', '.') )}\n"
   ]
  },
  {
   "cell_type": "code",
   "execution_count": 30,
   "metadata": {
    "collapsed": false
   },
   "outputs": [
    {
     "data": {
      "text/plain": [
       "8072.379999999997"
      ]
     },
     "execution_count": 30,
     "metadata": {},
     "output_type": "execute_result"
    }
   ],
   "source": [
    "import pandas as pd\n",
    "lista_dict = []\n",
    "# Obtenemos cada una de las filas de la tabla \n",
    "rows = soup.find_all('tr')\n",
    "for fila in rows:\n",
    "    celdas = fila.find_all('td')\n",
    "    if len(celdas) > 0:\n",
    "        d = {\"Munic.\":  celdas[0].text   , \"Superf.\":   celdas[2].text   }\n",
    "        lista_dict.append(d)\n",
    "        \n",
    "        \n",
    "tabla = pd.DataFrame(lista_dict)      \n",
    "tabla['Superf.'] = (tabla['Superf.']).apply(lambda x : float(x.replace(',', '.')))\n",
    "tabla['Superf.'] .sum()"
   ]
  },
  {
   "cell_type": "markdown",
   "metadata": {},
   "source": [
    "#### 1 Ejercicio"
   ]
  },
  {
   "cell_type": "markdown",
   "metadata": {},
   "source": [
    "Calcula la población total de todos los municipios."
   ]
  },
  {
   "cell_type": "code",
   "execution_count": 9,
   "metadata": {
    "collapsed": false
   },
   "outputs": [],
   "source": [
    "# Sol:\n"
   ]
  },
  {
   "cell_type": "markdown",
   "metadata": {},
   "source": [
    "#### 2 Ejercicio\n",
    "\n",
    "Obtener un listado de los municipios cuya altitud sea por encima de los 700 metros."
   ]
  },
  {
   "cell_type": "code",
   "execution_count": 36,
   "metadata": {
    "collapsed": false
   },
   "outputs": [
    {
     "data": {
      "text/html": [
       "<div>\n",
       "<table border=\"1\" class=\"dataframe\">\n",
       "  <thead>\n",
       "    <tr style=\"text-align: right;\">\n",
       "      <th></th>\n",
       "      <th>Altitud</th>\n",
       "      <th>Munic.</th>\n",
       "      <th>Superf.</th>\n",
       "    </tr>\n",
       "  </thead>\n",
       "  <tbody>\n",
       "    <tr>\n",
       "      <th>0</th>\n",
       "      <td>1271.0</td>\n",
       "      <td>La Acebeda</td>\n",
       "      <td>22.06</td>\n",
       "    </tr>\n",
       "    <tr>\n",
       "      <th>1</th>\n",
       "      <td>1104.0</td>\n",
       "      <td>Alameda del Valle</td>\n",
       "      <td>25.01</td>\n",
       "    </tr>\n",
       "    <tr>\n",
       "      <th>2</th>\n",
       "      <td>711.0</td>\n",
       "      <td>Alcorcón</td>\n",
       "      <td>33.73</td>\n",
       "    </tr>\n",
       "    <tr>\n",
       "      <th>3</th>\n",
       "      <td>704.0</td>\n",
       "      <td>Algete</td>\n",
       "      <td>37.88</td>\n",
       "    </tr>\n",
       "    <tr>\n",
       "      <th>4</th>\n",
       "      <td>916.0</td>\n",
       "      <td>Alpedrete</td>\n",
       "      <td>12.64</td>\n",
       "    </tr>\n",
       "    <tr>\n",
       "      <th>5</th>\n",
       "      <td>756.0</td>\n",
       "      <td>Anchuelo</td>\n",
       "      <td>21.55</td>\n",
       "    </tr>\n",
       "    <tr>\n",
       "      <th>6</th>\n",
       "      <td>992.0</td>\n",
       "      <td>El Atazar</td>\n",
       "      <td>29.55</td>\n",
       "    </tr>\n",
       "    <tr>\n",
       "      <th>7</th>\n",
       "      <td>1078.0</td>\n",
       "      <td>Becerril de la Sierra</td>\n",
       "      <td>30.35</td>\n",
       "    </tr>\n",
       "    <tr>\n",
       "      <th>8</th>\n",
       "      <td>733.0</td>\n",
       "      <td>Belmonte de Tajo</td>\n",
       "      <td>23.71</td>\n",
       "    </tr>\n",
       "    <tr>\n",
       "      <th>9</th>\n",
       "      <td>932.0</td>\n",
       "      <td>El Berrueco</td>\n",
       "      <td>28.80</td>\n",
       "    </tr>\n",
       "    <tr>\n",
       "      <th>10</th>\n",
       "      <td>1092.0</td>\n",
       "      <td>Berzosa del Lozoya</td>\n",
       "      <td>14.32</td>\n",
       "    </tr>\n",
       "    <tr>\n",
       "      <th>11</th>\n",
       "      <td>942.0</td>\n",
       "      <td>El Boalo</td>\n",
       "      <td>39.59</td>\n",
       "    </tr>\n",
       "    <tr>\n",
       "      <th>12</th>\n",
       "      <td>1194.0</td>\n",
       "      <td>Braojos de la Sierra</td>\n",
       "      <td>24.93</td>\n",
       "    </tr>\n",
       "    <tr>\n",
       "      <th>13</th>\n",
       "      <td>713.0</td>\n",
       "      <td>Brea de Tajo</td>\n",
       "      <td>44.33</td>\n",
       "    </tr>\n",
       "    <tr>\n",
       "      <th>14</th>\n",
       "      <td>975.0</td>\n",
       "      <td>Buitrago del Lozoya</td>\n",
       "      <td>26.50</td>\n",
       "    </tr>\n",
       "    <tr>\n",
       "      <th>15</th>\n",
       "      <td>1218.0</td>\n",
       "      <td>Bustarviejo</td>\n",
       "      <td>57.32</td>\n",
       "    </tr>\n",
       "    <tr>\n",
       "      <th>16</th>\n",
       "      <td>919.0</td>\n",
       "      <td>Cabanillas de la Sierra</td>\n",
       "      <td>14.07</td>\n",
       "    </tr>\n",
       "    <tr>\n",
       "      <th>17</th>\n",
       "      <td>1039.0</td>\n",
       "      <td>La Cabrera</td>\n",
       "      <td>22.40</td>\n",
       "    </tr>\n",
       "    <tr>\n",
       "      <th>18</th>\n",
       "      <td>804.0</td>\n",
       "      <td>Cadalso de los Vidrios</td>\n",
       "      <td>47.64</td>\n",
       "    </tr>\n",
       "    <tr>\n",
       "      <th>19</th>\n",
       "      <td>777.0</td>\n",
       "      <td>Campo Real</td>\n",
       "      <td>61.75</td>\n",
       "    </tr>\n",
       "    <tr>\n",
       "      <th>20</th>\n",
       "      <td>1139.0</td>\n",
       "      <td>Canencia</td>\n",
       "      <td>52.70</td>\n",
       "    </tr>\n",
       "    <tr>\n",
       "      <th>21</th>\n",
       "      <td>774.0</td>\n",
       "      <td>Cenicientos</td>\n",
       "      <td>67.49</td>\n",
       "    </tr>\n",
       "    <tr>\n",
       "      <th>22</th>\n",
       "      <td>1214.0</td>\n",
       "      <td>Cercedilla</td>\n",
       "      <td>35.78</td>\n",
       "    </tr>\n",
       "    <tr>\n",
       "      <th>23</th>\n",
       "      <td>916.0</td>\n",
       "      <td>Cervera de Buitrago</td>\n",
       "      <td>12.02</td>\n",
       "    </tr>\n",
       "    <tr>\n",
       "      <th>24</th>\n",
       "      <td>758.0</td>\n",
       "      <td>Chinchón</td>\n",
       "      <td>115.91</td>\n",
       "    </tr>\n",
       "    <tr>\n",
       "      <th>25</th>\n",
       "      <td>1032.0</td>\n",
       "      <td>Collado Mediano</td>\n",
       "      <td>22.57</td>\n",
       "    </tr>\n",
       "    <tr>\n",
       "      <th>26</th>\n",
       "      <td>918.0</td>\n",
       "      <td>Collado Villalba</td>\n",
       "      <td>26.52</td>\n",
       "    </tr>\n",
       "    <tr>\n",
       "      <th>27</th>\n",
       "      <td>755.0</td>\n",
       "      <td>Colmenar de Oreja</td>\n",
       "      <td>114.32</td>\n",
       "    </tr>\n",
       "    <tr>\n",
       "      <th>28</th>\n",
       "      <td>879.0</td>\n",
       "      <td>Colmenar Viejo</td>\n",
       "      <td>182.56</td>\n",
       "    </tr>\n",
       "    <tr>\n",
       "      <th>29</th>\n",
       "      <td>873.0</td>\n",
       "      <td>Colmenarejo</td>\n",
       "      <td>31.70</td>\n",
       "    </tr>\n",
       "    <tr>\n",
       "      <th>...</th>\n",
       "      <td>...</td>\n",
       "      <td>...</td>\n",
       "      <td>...</td>\n",
       "    </tr>\n",
       "    <tr>\n",
       "      <th>72</th>\n",
       "      <td>1035.0</td>\n",
       "      <td>Robledillo de la Jara</td>\n",
       "      <td>20.35</td>\n",
       "    </tr>\n",
       "    <tr>\n",
       "      <th>73</th>\n",
       "      <td>901.0</td>\n",
       "      <td>Robledo de Chavela</td>\n",
       "      <td>93.01</td>\n",
       "    </tr>\n",
       "    <tr>\n",
       "      <th>74</th>\n",
       "      <td>1300.0</td>\n",
       "      <td>Robregordo</td>\n",
       "      <td>18.03</td>\n",
       "    </tr>\n",
       "    <tr>\n",
       "      <th>75</th>\n",
       "      <td>712.0</td>\n",
       "      <td>Las Rozas de Madrid</td>\n",
       "      <td>58.31</td>\n",
       "    </tr>\n",
       "    <tr>\n",
       "      <th>76</th>\n",
       "      <td>882.0</td>\n",
       "      <td>Rozas de Puerto Real</td>\n",
       "      <td>30.15</td>\n",
       "    </tr>\n",
       "    <tr>\n",
       "      <th>77</th>\n",
       "      <td>1040.0</td>\n",
       "      <td>San Lorenzo de El Escorial</td>\n",
       "      <td>56.40</td>\n",
       "    </tr>\n",
       "    <tr>\n",
       "      <th>78</th>\n",
       "      <td>1409.0</td>\n",
       "      <td>Santa María de la Alameda</td>\n",
       "      <td>74.41</td>\n",
       "    </tr>\n",
       "    <tr>\n",
       "      <th>79</th>\n",
       "      <td>876.0</td>\n",
       "      <td>Santorcaz</td>\n",
       "      <td>27.98</td>\n",
       "    </tr>\n",
       "    <tr>\n",
       "      <th>80</th>\n",
       "      <td>870.0</td>\n",
       "      <td>Los Santos de la Humosa</td>\n",
       "      <td>34.89</td>\n",
       "    </tr>\n",
       "    <tr>\n",
       "      <th>81</th>\n",
       "      <td>1088.0</td>\n",
       "      <td>La Serna del Monte</td>\n",
       "      <td>5.44</td>\n",
       "    </tr>\n",
       "    <tr>\n",
       "      <th>82</th>\n",
       "      <td>1433.0</td>\n",
       "      <td>Somosierra</td>\n",
       "      <td>20.42</td>\n",
       "    </tr>\n",
       "    <tr>\n",
       "      <th>83</th>\n",
       "      <td>919.0</td>\n",
       "      <td>Soto del Real</td>\n",
       "      <td>43.21</td>\n",
       "    </tr>\n",
       "    <tr>\n",
       "      <th>84</th>\n",
       "      <td>740.0</td>\n",
       "      <td>Torrelaguna</td>\n",
       "      <td>43.40</td>\n",
       "    </tr>\n",
       "    <tr>\n",
       "      <th>85</th>\n",
       "      <td>846.0</td>\n",
       "      <td>Torrelodones</td>\n",
       "      <td>21.95</td>\n",
       "    </tr>\n",
       "    <tr>\n",
       "      <th>86</th>\n",
       "      <td>707.0</td>\n",
       "      <td>Torremocha de Jarama</td>\n",
       "      <td>18.49</td>\n",
       "    </tr>\n",
       "    <tr>\n",
       "      <th>87</th>\n",
       "      <td>710.0</td>\n",
       "      <td>Tres Cantos</td>\n",
       "      <td>37.93</td>\n",
       "    </tr>\n",
       "    <tr>\n",
       "      <th>88</th>\n",
       "      <td>733.0</td>\n",
       "      <td>Valdaracete</td>\n",
       "      <td>64.31</td>\n",
       "    </tr>\n",
       "    <tr>\n",
       "      <th>89</th>\n",
       "      <td>717.0</td>\n",
       "      <td>Valdeavero</td>\n",
       "      <td>18.79</td>\n",
       "    </tr>\n",
       "    <tr>\n",
       "      <th>90</th>\n",
       "      <td>1125.0</td>\n",
       "      <td>Valdemanco</td>\n",
       "      <td>17.58</td>\n",
       "    </tr>\n",
       "    <tr>\n",
       "      <th>91</th>\n",
       "      <td>861.0</td>\n",
       "      <td>Valdemaqueda</td>\n",
       "      <td>52.20</td>\n",
       "    </tr>\n",
       "    <tr>\n",
       "      <th>92</th>\n",
       "      <td>818.0</td>\n",
       "      <td>Valdemorillo</td>\n",
       "      <td>93.68</td>\n",
       "    </tr>\n",
       "    <tr>\n",
       "      <th>93</th>\n",
       "      <td>750.0</td>\n",
       "      <td>Valdepiélagos</td>\n",
       "      <td>17.59</td>\n",
       "    </tr>\n",
       "    <tr>\n",
       "      <th>94</th>\n",
       "      <td>716.0</td>\n",
       "      <td>Valdilecha</td>\n",
       "      <td>42.48</td>\n",
       "    </tr>\n",
       "    <tr>\n",
       "      <th>95</th>\n",
       "      <td>723.0</td>\n",
       "      <td>Valverde de Alcalá</td>\n",
       "      <td>13.53</td>\n",
       "    </tr>\n",
       "    <tr>\n",
       "      <th>96</th>\n",
       "      <td>888.0</td>\n",
       "      <td>El Vellón</td>\n",
       "      <td>34.14</td>\n",
       "    </tr>\n",
       "    <tr>\n",
       "      <th>97</th>\n",
       "      <td>861.0</td>\n",
       "      <td>Venturada</td>\n",
       "      <td>9.79</td>\n",
       "    </tr>\n",
       "    <tr>\n",
       "      <th>98</th>\n",
       "      <td>748.0</td>\n",
       "      <td>Villalbilla</td>\n",
       "      <td>34.63</td>\n",
       "    </tr>\n",
       "    <tr>\n",
       "      <th>99</th>\n",
       "      <td>753.0</td>\n",
       "      <td>Villarejo de Salvanés</td>\n",
       "      <td>118.62</td>\n",
       "    </tr>\n",
       "    <tr>\n",
       "      <th>100</th>\n",
       "      <td>1060.0</td>\n",
       "      <td>Villavieja del Lozoya</td>\n",
       "      <td>23.29</td>\n",
       "    </tr>\n",
       "    <tr>\n",
       "      <th>101</th>\n",
       "      <td>1104.0</td>\n",
       "      <td>Zarzalejo</td>\n",
       "      <td>20.63</td>\n",
       "    </tr>\n",
       "  </tbody>\n",
       "</table>\n",
       "<p>102 rows × 3 columns</p>\n",
       "</div>"
      ],
      "text/plain": [
       "     Altitud                      Munic.  Superf.\n",
       "0     1271.0                  La Acebeda    22.06\n",
       "1     1104.0           Alameda del Valle    25.01\n",
       "2      711.0                    Alcorcón    33.73\n",
       "3      704.0                      Algete    37.88\n",
       "4      916.0                   Alpedrete    12.64\n",
       "5      756.0                    Anchuelo    21.55\n",
       "6      992.0                   El Atazar    29.55\n",
       "7     1078.0       Becerril de la Sierra    30.35\n",
       "8      733.0            Belmonte de Tajo    23.71\n",
       "9      932.0                 El Berrueco    28.80\n",
       "10    1092.0          Berzosa del Lozoya    14.32\n",
       "11     942.0                    El Boalo    39.59\n",
       "12    1194.0        Braojos de la Sierra    24.93\n",
       "13     713.0                Brea de Tajo    44.33\n",
       "14     975.0         Buitrago del Lozoya    26.50\n",
       "15    1218.0                 Bustarviejo    57.32\n",
       "16     919.0     Cabanillas de la Sierra    14.07\n",
       "17    1039.0                  La Cabrera    22.40\n",
       "18     804.0      Cadalso de los Vidrios    47.64\n",
       "19     777.0                  Campo Real    61.75\n",
       "20    1139.0                    Canencia    52.70\n",
       "21     774.0                 Cenicientos    67.49\n",
       "22    1214.0                  Cercedilla    35.78\n",
       "23     916.0         Cervera de Buitrago    12.02\n",
       "24     758.0                    Chinchón   115.91\n",
       "25    1032.0             Collado Mediano    22.57\n",
       "26     918.0            Collado Villalba    26.52\n",
       "27     755.0           Colmenar de Oreja   114.32\n",
       "28     879.0              Colmenar Viejo   182.56\n",
       "29     873.0                 Colmenarejo    31.70\n",
       "..       ...                         ...      ...\n",
       "72    1035.0       Robledillo de la Jara    20.35\n",
       "73     901.0          Robledo de Chavela    93.01\n",
       "74    1300.0                  Robregordo    18.03\n",
       "75     712.0         Las Rozas de Madrid    58.31\n",
       "76     882.0        Rozas de Puerto Real    30.15\n",
       "77    1040.0  San Lorenzo de El Escorial    56.40\n",
       "78    1409.0   Santa María de la Alameda    74.41\n",
       "79     876.0                   Santorcaz    27.98\n",
       "80     870.0     Los Santos de la Humosa    34.89\n",
       "81    1088.0          La Serna del Monte     5.44\n",
       "82    1433.0                  Somosierra    20.42\n",
       "83     919.0               Soto del Real    43.21\n",
       "84     740.0                 Torrelaguna    43.40\n",
       "85     846.0                Torrelodones    21.95\n",
       "86     707.0        Torremocha de Jarama    18.49\n",
       "87     710.0                 Tres Cantos    37.93\n",
       "88     733.0                 Valdaracete    64.31\n",
       "89     717.0                  Valdeavero    18.79\n",
       "90    1125.0                  Valdemanco    17.58\n",
       "91     861.0                Valdemaqueda    52.20\n",
       "92     818.0                Valdemorillo    93.68\n",
       "93     750.0               Valdepiélagos    17.59\n",
       "94     716.0                  Valdilecha    42.48\n",
       "95     723.0          Valverde de Alcalá    13.53\n",
       "96     888.0                   El Vellón    34.14\n",
       "97     861.0                   Venturada     9.79\n",
       "98     748.0                 Villalbilla    34.63\n",
       "99     753.0       Villarejo de Salvanés   118.62\n",
       "100   1060.0       Villavieja del Lozoya    23.29\n",
       "101   1104.0                   Zarzalejo    20.63\n",
       "\n",
       "[102 rows x 3 columns]"
      ]
     },
     "execution_count": 36,
     "metadata": {},
     "output_type": "execute_result"
    }
   ],
   "source": [
    "# Sol:\n",
    "import pandas as pd\n",
    "lista_dict = []\n",
    "# Obtenemos cada una de las filas de la tabla \n",
    "rows = soup.find_all('tr')\n",
    "for fila in rows:\n",
    "    celdas = fila.find_all('td')\n",
    "    if len(celdas) > 0 and float(celdas[6].text) > 700:\n",
    "      \n",
    "        d = {\"Munic.\":  celdas[0].text   , \"Superf.\":   celdas[2].text , \\\n",
    "               'Altitud': float(celdas[6].text) }\n",
    "        lista_dict.append(d)\n",
    "        \n",
    "        \n",
    "tabla = pd.DataFrame(lista_dict)      \n",
    "tabla['Superf.'] = (tabla['Superf.']).apply(lambda x : float(x.replace(',', '.')))\n",
    "tabla"
   ]
  },
  {
   "cell_type": "markdown",
   "metadata": {},
   "source": [
    "#### 3 Ejercicio\n",
    "\n",
    "Crear un DataFrame con los datos del diccionario content. Las filas están indexadas con el nombre del municipio y las columnas son 'altitud', 'población' y 'superficie'."
   ]
  },
  {
   "cell_type": "code",
   "execution_count": null,
   "metadata": {
    "collapsed": true
   },
   "outputs": [],
   "source": [
    "# Sol:"
   ]
  }
 ],
 "metadata": {
  "anaconda-cloud": {},
  "kernelspec": {
   "display_name": "Python [default]",
   "language": "python",
   "name": "python3"
  },
  "language_info": {
   "codemirror_mode": {
    "name": "ipython",
    "version": 3
   },
   "file_extension": ".py",
   "mimetype": "text/x-python",
   "name": "python",
   "nbconvert_exporter": "python",
   "pygments_lexer": "ipython3",
   "version": "3.5.2"
  }
 },
 "nbformat": 4,
 "nbformat_minor": 0
}
