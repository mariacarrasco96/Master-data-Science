{
 "cells": [
  {
   "cell_type": "markdown",
   "metadata": {},
   "source": [
    "# Categorización"
   ]
  },
  {
   "cell_type": "markdown",
   "metadata": {},
   "source": [
    "En algunos casos, dado el volumen de datos a analizar, resulta conveniente realizar una simplificación de los mismos antes de proceder al análisis. Por ejemplo, definiendo categorías o clases y distribuyendo los datos en dichas categorías. Un ejemplo muy típico es agrupar las edades por rangos, las fechas por meses o años, etc.\n",
    "Una de las ventajas de la agrupación de los datos en distintas categorías es que es posible realizar un estudio estadístico posterior e indipendiente para cada categoría.\n",
    "\n",
    "El Fichero [./datos/infertilidad.csv](./datos/infertilidad.csv) recoge información de datos de fertilidad de mujeres con distintas edades. "
   ]
  },
  {
   "cell_type": "code",
   "execution_count": 15,
   "metadata": {},
   "outputs": [],
   "source": [
    "import numpy as np\n",
    "import pandas as pd\n"
   ]
  },
  {
   "cell_type": "markdown",
   "metadata": {},
   "source": [
    "Realizamos la lectura de datos usando la función  `pd.read_csv` de Pandas."
   ]
  },
  {
   "cell_type": "code",
   "execution_count": 16,
   "metadata": {},
   "outputs": [
    {
     "data": {
      "text/html": [
       "<div>\n",
       "<style scoped>\n",
       "    .dataframe tbody tr th:only-of-type {\n",
       "        vertical-align: middle;\n",
       "    }\n",
       "\n",
       "    .dataframe tbody tr th {\n",
       "        vertical-align: top;\n",
       "    }\n",
       "\n",
       "    .dataframe thead th {\n",
       "        text-align: right;\n",
       "    }\n",
       "</style>\n",
       "<table border=\"1\" class=\"dataframe\">\n",
       "  <thead>\n",
       "    <tr style=\"text-align: right;\">\n",
       "      <th></th>\n",
       "      <th>edad</th>\n",
       "      <th>partos</th>\n",
       "      <th>abortos espontaneos</th>\n",
       "    </tr>\n",
       "  </thead>\n",
       "  <tbody>\n",
       "    <tr>\n",
       "      <th>count</th>\n",
       "      <td>14.000000</td>\n",
       "      <td>14.000000</td>\n",
       "      <td>14.000000</td>\n",
       "    </tr>\n",
       "    <tr>\n",
       "      <th>mean</th>\n",
       "      <td>31.571429</td>\n",
       "      <td>2.857143</td>\n",
       "      <td>0.428571</td>\n",
       "    </tr>\n",
       "    <tr>\n",
       "      <th>std</th>\n",
       "      <td>6.034698</td>\n",
       "      <td>1.747840</td>\n",
       "      <td>0.646206</td>\n",
       "    </tr>\n",
       "    <tr>\n",
       "      <th>min</th>\n",
       "      <td>21.000000</td>\n",
       "      <td>1.000000</td>\n",
       "      <td>0.000000</td>\n",
       "    </tr>\n",
       "    <tr>\n",
       "      <th>25%</th>\n",
       "      <td>28.250000</td>\n",
       "      <td>1.250000</td>\n",
       "      <td>0.000000</td>\n",
       "    </tr>\n",
       "    <tr>\n",
       "      <th>50%</th>\n",
       "      <td>31.500000</td>\n",
       "      <td>2.500000</td>\n",
       "      <td>0.000000</td>\n",
       "    </tr>\n",
       "    <tr>\n",
       "      <th>75%</th>\n",
       "      <td>35.750000</td>\n",
       "      <td>4.000000</td>\n",
       "      <td>1.000000</td>\n",
       "    </tr>\n",
       "    <tr>\n",
       "      <th>max</th>\n",
       "      <td>42.000000</td>\n",
       "      <td>6.000000</td>\n",
       "      <td>2.000000</td>\n",
       "    </tr>\n",
       "  </tbody>\n",
       "</table>\n",
       "</div>"
      ],
      "text/plain": [
       "            edad     partos  abortos espontaneos\n",
       "count  14.000000  14.000000            14.000000\n",
       "mean   31.571429   2.857143             0.428571\n",
       "std     6.034698   1.747840             0.646206\n",
       "min    21.000000   1.000000             0.000000\n",
       "25%    28.250000   1.250000             0.000000\n",
       "50%    31.500000   2.500000             0.000000\n",
       "75%    35.750000   4.000000             1.000000\n",
       "max    42.000000   6.000000             2.000000"
      ]
     },
     "execution_count": 16,
     "metadata": {},
     "output_type": "execute_result"
    }
   ],
   "source": [
    "fer = pd.read_csv(\"./datos/infertilidad.csv\", sep = ';')\n",
    "fer.describe()"
   ]
  },
  {
   "cell_type": "markdown",
   "metadata": {},
   "source": [
    "Las edades oscilan entre los 21 y 42 años. Podemos dividir los datos en intervaloes de edades, por ejemplo en 4 intervalos. El primer intervalo con valores menores a 25 años, el segundo con valores entre 26 y 36, el tercero con valores entre 31 y 35 años, y el último con valores a partir de 36 años. Para construir dichos intervalos, creamos en primer lugar una lista con los límites superiores de cada intervalo.\n"
   ]
  },
  {
   "cell_type": "code",
   "execution_count": 17,
   "metadata": {},
   "outputs": [],
   "source": [
    "lim = [0, 25, 30, 35, 100] "
   ]
  },
  {
   "cell_type": "markdown",
   "metadata": {},
   "source": [
    "Para dividir los valores de `edad`  en intervalos utilizamos la función `pd.cut` de Pandas."
   ]
  },
  {
   "cell_type": "code",
   "execution_count": 18,
   "metadata": {},
   "outputs": [
    {
     "data": {
      "text/plain": [
       "0      (25, 30]\n",
       "1     (35, 100]\n",
       "2     (35, 100]\n",
       "3      (30, 35]\n",
       "4      (30, 35]\n",
       "5     (35, 100]\n",
       "6       (0, 25]\n",
       "7      (30, 35]\n",
       "8       (0, 25]\n",
       "9      (25, 30]\n",
       "10     (25, 30]\n",
       "11    (35, 100]\n",
       "12     (30, 35]\n",
       "13     (25, 30]\n",
       "Name: edad, dtype: category\n",
       "Categories (4, interval[int64]): [(0, 25] < (25, 30] < (30, 35] < (35, 100]]"
      ]
     },
     "execution_count": 18,
     "metadata": {},
     "output_type": "execute_result"
    }
   ],
   "source": [
    "cat = pd.cut(fer.edad, lim)\n",
    "cat"
   ]
  },
  {
   "cell_type": "markdown",
   "metadata": {},
   "source": [
    "En este caso, el resultado devuelto por la función `pd.cut` es un objeto de tipo `Series`. Los valores se corresponden con el nombre de la categoría. El índice de la serie coincide con el índice del dataframe `fer`. \n",
    "\n",
    "El método `value_counts` devuelve la frecuencia de cada valor de la serie."
   ]
  },
  {
   "cell_type": "code",
   "execution_count": 19,
   "metadata": {},
   "outputs": [
    {
     "data": {
      "text/plain": [
       "(35, 100]    4\n",
       "(30, 35]     4\n",
       "(25, 30]     4\n",
       "(0, 25]      2\n",
       "Name: edad, dtype: int64"
      ]
     },
     "execution_count": 19,
     "metadata": {},
     "output_type": "execute_result"
    }
   ],
   "source": [
    "cat.value_counts()"
   ]
  },
  {
   "cell_type": "markdown",
   "metadata": {},
   "source": [
    "La función `groupby` con la serie `cat` como argumento permite dividir las filas en función de la catagoría a la que pertenece. "
   ]
  },
  {
   "cell_type": "code",
   "execution_count": 20,
   "metadata": {},
   "outputs": [
    {
     "name": "stdout",
     "output_type": "stream",
     "text": [
      "(0, 25]\n",
      "   edad  partos  abortos espontaneos\n",
      "6    23       1                    0\n",
      "8    21       1                    1\n",
      "(25, 30]\n",
      "    edad  partos  abortos espontaneos\n",
      "0     26       6                    2\n",
      "9     28       2                    0\n",
      "10    29       2                    0\n",
      "13    29       3                    0\n",
      "(30, 35]\n",
      "    edad  partos  abortos espontaneos\n",
      "3     34       4                    0\n",
      "4     35       3                    1\n",
      "7     32       2                    0\n",
      "12    31       1                    0\n",
      "(35, 100]\n",
      "    edad  partos  abortos espontaneos\n",
      "1     42       1                    0\n",
      "2     39       6                    0\n",
      "5     36       4                    1\n",
      "11    37       4                    1\n"
     ]
    }
   ],
   "source": [
    "gcat = fer.groupby(cat)\n",
    "for nombre, contenido in gcat:\n",
    "    print(nombre)\n",
    "    print(contenido)    "
   ]
  },
  {
   "cell_type": "markdown",
   "metadata": {},
   "source": [
    "Una vez divididos los datos del dataframe en grupos, es posible aplicar funciones de agregación."
   ]
  },
  {
   "cell_type": "code",
   "execution_count": 21,
   "metadata": {},
   "outputs": [
    {
     "data": {
      "text/html": [
       "<div>\n",
       "<style scoped>\n",
       "    .dataframe tbody tr th:only-of-type {\n",
       "        vertical-align: middle;\n",
       "    }\n",
       "\n",
       "    .dataframe tbody tr th {\n",
       "        vertical-align: top;\n",
       "    }\n",
       "\n",
       "    .dataframe thead th {\n",
       "        text-align: right;\n",
       "    }\n",
       "</style>\n",
       "<table border=\"1\" class=\"dataframe\">\n",
       "  <thead>\n",
       "    <tr style=\"text-align: right;\">\n",
       "      <th></th>\n",
       "      <th>amin</th>\n",
       "      <th>amax</th>\n",
       "      <th>mean</th>\n",
       "    </tr>\n",
       "    <tr>\n",
       "      <th>edad</th>\n",
       "      <th></th>\n",
       "      <th></th>\n",
       "      <th></th>\n",
       "    </tr>\n",
       "  </thead>\n",
       "  <tbody>\n",
       "    <tr>\n",
       "      <th>(0, 25]</th>\n",
       "      <td>1</td>\n",
       "      <td>1</td>\n",
       "      <td>1.00</td>\n",
       "    </tr>\n",
       "    <tr>\n",
       "      <th>(25, 30]</th>\n",
       "      <td>2</td>\n",
       "      <td>6</td>\n",
       "      <td>3.25</td>\n",
       "    </tr>\n",
       "    <tr>\n",
       "      <th>(30, 35]</th>\n",
       "      <td>1</td>\n",
       "      <td>4</td>\n",
       "      <td>2.50</td>\n",
       "    </tr>\n",
       "    <tr>\n",
       "      <th>(35, 100]</th>\n",
       "      <td>1</td>\n",
       "      <td>6</td>\n",
       "      <td>3.75</td>\n",
       "    </tr>\n",
       "  </tbody>\n",
       "</table>\n",
       "</div>"
      ],
      "text/plain": [
       "           amin  amax  mean\n",
       "edad                       \n",
       "(0, 25]       1     1  1.00\n",
       "(25, 30]      2     6  3.25\n",
       "(30, 35]      1     4  2.50\n",
       "(35, 100]     1     6  3.75"
      ]
     },
     "execution_count": 21,
     "metadata": {},
     "output_type": "execute_result"
    }
   ],
   "source": [
    "fer.groupby(cat).partos.agg([np.min, np.max, np.mean])"
   ]
  },
  {
   "cell_type": "markdown",
   "metadata": {},
   "source": [
    "Como alternativa a la función `cut`, Pandas proporciona la `qcut`, que realiza una división de los datos basada en cuantiles. Como resultado de aplicar `qcut`, se obtienen intervalos con la misma frecuencia de valores. El número de cuantiles se indica como argumento de la función (4 para cuartiles, 10 para deciles, etc.). "
   ]
  },
  {
   "cell_type": "code",
   "execution_count": 22,
   "metadata": {},
   "outputs": [
    {
     "data": {
      "text/plain": [
       "0     (20.999, 28.25]\n",
       "1       (35.75, 42.0]\n",
       "2       (35.75, 42.0]\n",
       "3       (31.5, 35.75]\n",
       "4       (31.5, 35.75]\n",
       "5       (35.75, 42.0]\n",
       "6     (20.999, 28.25]\n",
       "7       (31.5, 35.75]\n",
       "8     (20.999, 28.25]\n",
       "9     (20.999, 28.25]\n",
       "10      (28.25, 31.5]\n",
       "11      (35.75, 42.0]\n",
       "12      (28.25, 31.5]\n",
       "13      (28.25, 31.5]\n",
       "Name: edad, dtype: category\n",
       "Categories (4, interval[float64]): [(20.999, 28.25] < (28.25, 31.5] < (31.5, 35.75] < (35.75, 42.0]]"
      ]
     },
     "execution_count": 22,
     "metadata": {},
     "output_type": "execute_result"
    }
   ],
   "source": [
    "cat = pd.qcut(fer.edad, 4)\n",
    "cat"
   ]
  },
  {
   "cell_type": "markdown",
   "metadata": {},
   "source": [
    "Podemos etiquetar cada intervalo usando el argumento `labels` en la función `qcut`."
   ]
  },
  {
   "cell_type": "code",
   "execution_count": 23,
   "metadata": {},
   "outputs": [
    {
     "data": {
      "text/plain": [
       "0            Joven\n",
       "1           Madura\n",
       "2           Madura\n",
       "3     Mediana edad\n",
       "4           Madura\n",
       "5           Madura\n",
       "6            Joven\n",
       "7     Mediana edad\n",
       "8            Joven\n",
       "9            Joven\n",
       "10           Joven\n",
       "11          Madura\n",
       "12    Mediana edad\n",
       "13           Joven\n",
       "Name: edad, dtype: category\n",
       "Categories (3, object): [Joven < Mediana edad < Madura]"
      ]
     },
     "execution_count": 23,
     "metadata": {},
     "output_type": "execute_result"
    }
   ],
   "source": [
    "cat = pd.qcut(fer.edad, 3, labels=[\"Joven\",\"Mediana edad\",\"Madura\"])\n",
    "cat"
   ]
  },
  {
   "cell_type": "code",
   "execution_count": 24,
   "metadata": {},
   "outputs": [
    {
     "data": {
      "text/plain": [
       "Joven           6\n",
       "Madura          5\n",
       "Mediana edad    3\n",
       "Name: edad, dtype: int64"
      ]
     },
     "execution_count": 24,
     "metadata": {},
     "output_type": "execute_result"
    }
   ],
   "source": [
    "cat.value_counts()"
   ]
  },
  {
   "cell_type": "code",
   "execution_count": 25,
   "metadata": {},
   "outputs": [
    {
     "data": {
      "text/html": [
       "<div>\n",
       "<style scoped>\n",
       "    .dataframe tbody tr th:only-of-type {\n",
       "        vertical-align: middle;\n",
       "    }\n",
       "\n",
       "    .dataframe tbody tr th {\n",
       "        vertical-align: top;\n",
       "    }\n",
       "\n",
       "    .dataframe thead th {\n",
       "        text-align: right;\n",
       "    }\n",
       "</style>\n",
       "<table border=\"1\" class=\"dataframe\">\n",
       "  <thead>\n",
       "    <tr style=\"text-align: right;\">\n",
       "      <th></th>\n",
       "      <th>amin</th>\n",
       "      <th>amax</th>\n",
       "      <th>mean</th>\n",
       "    </tr>\n",
       "    <tr>\n",
       "      <th>edad</th>\n",
       "      <th></th>\n",
       "      <th></th>\n",
       "      <th></th>\n",
       "    </tr>\n",
       "  </thead>\n",
       "  <tbody>\n",
       "    <tr>\n",
       "      <th>Joven</th>\n",
       "      <td>1</td>\n",
       "      <td>6</td>\n",
       "      <td>2.500000</td>\n",
       "    </tr>\n",
       "    <tr>\n",
       "      <th>Mediana edad</th>\n",
       "      <td>1</td>\n",
       "      <td>4</td>\n",
       "      <td>2.333333</td>\n",
       "    </tr>\n",
       "    <tr>\n",
       "      <th>Madura</th>\n",
       "      <td>1</td>\n",
       "      <td>6</td>\n",
       "      <td>3.600000</td>\n",
       "    </tr>\n",
       "  </tbody>\n",
       "</table>\n",
       "</div>"
      ],
      "text/plain": [
       "              amin  amax      mean\n",
       "edad                              \n",
       "Joven            1     6  2.500000\n",
       "Mediana edad     1     4  2.333333\n",
       "Madura           1     6  3.600000"
      ]
     },
     "execution_count": 25,
     "metadata": {},
     "output_type": "execute_result"
    }
   ],
   "source": [
    "fer.groupby(cat).partos.agg([np.min, np.max, np.mean])"
   ]
  },
  {
   "cell_type": "markdown",
   "metadata": {},
   "source": []
  }
 ],
 "metadata": {
  "anaconda-cloud": {},
  "kernelspec": {
   "display_name": "Python 3",
   "language": "python",
   "name": "python3"
  },
  "language_info": {
   "codemirror_mode": {
    "name": "ipython",
    "version": 3
   },
   "file_extension": ".py",
   "mimetype": "text/x-python",
   "name": "python",
   "nbconvert_exporter": "python",
   "pygments_lexer": "ipython3",
   "version": "3.6.3"
  },
  "nbTranslate": {
   "displayLangs": [
    "en",
    "es"
   ],
   "hotkey": "alt-t",
   "langInMainMenu": true,
   "sourceLang": "es",
   "targetLang": "en",
   "useGoogleTranslate": true
  },
  "toc": {
   "nav_menu": {
    "height": "154px",
    "width": "252px"
   },
   "number_sections": true,
   "sideBar": true,
   "skip_h1_title": false,
   "title_cell": "Table of Contents",
   "title_sidebar": "Contents",
   "toc_cell": false,
   "toc_position": {
    "height": "556px",
    "left": "0px",
    "right": "1154px",
    "top": "106px",
    "width": "212px"
   },
   "toc_section_display": "block",
   "toc_window_display": true
  }
 },
 "nbformat": 4,
 "nbformat_minor": 1
}
