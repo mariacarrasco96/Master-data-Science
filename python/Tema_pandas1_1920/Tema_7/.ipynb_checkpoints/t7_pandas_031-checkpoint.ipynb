{
 "cells": [
  {
   "cell_type": "markdown",
   "metadata": {},
   "source": [
    "# Importar y exportar ficheros  "
   ]
  },
  {
   "cell_type": "markdown",
   "metadata": {},
   "source": [
    "Aunque otras librerías de Python proporcionan herramientas para importar y exportar datos, Pandas aporta una gran potencia a la hora de leer y/o escribir ficheros de datos. \n",
    "En esta sección abordamos el tema de cómo leer y almacenar datos en diferentes formatos, ya sea en ficheros o en bases de datos. Pandas proporciona una amplia colección de funciones para realizar la lectura de datos como un objeto de tipo `DataFrame`  de una forma sencilla y flexible.\n"
   ]
  },
  {
   "cell_type": "code",
   "execution_count": 4,
   "metadata": {
    "ExecuteTime": {
     "end_time": "2018-10-16T14:10:50.895231Z",
     "start_time": "2018-10-16T14:10:50.390268Z"
    }
   },
   "outputs": [],
   "source": [
    "import pandas as pd\n",
    "import numpy as np"
   ]
  },
  {
   "cell_type": "markdown",
   "metadata": {},
   "source": [
    "## Ficheros de texto o CSV"
   ]
  },
  {
   "cell_type": "markdown",
   "metadata": {},
   "source": [
    "En muchas ocasiones los datos en encuentran almacenados en ficheros de texto y representados en forma de tabla. El formato más popular es el CSV , donde los valores de cada una de las filas están separados por el símbolo coma (`,`).  En otras ocasiones, los valores de cada fila están separados por otro símbolo, un tabulador o  un espacio. Este tipo de ficheros normalmente tienen extensión `.txt`. \n",
    "\n",
    "Las funciones más utilizadas en pandas para leer de forma flexible ficheros de texto plano son  `pd.read_csv` y  `pd.read_table`. La escritura de los datos contenidos en un dataframe o una serie se realiza mediante el método `to_csv` de las clases `Series` y `DataFrame`."
   ]
  },
  {
   "cell_type": "markdown",
   "metadata": {},
   "source": [
    "### Lectura de ficheros de texto o CSV"
   ]
  },
  {
   "cell_type": "markdown",
   "metadata": {},
   "source": [
    "El fichero [animals1.csv](./datos/animals1.csv) contiene información del peso medio del cuerpo y cerebro de 8 especies de animales:\n",
    "\n",
    "```\n",
    "animals1.csv\n",
    "------------\n",
    "Especie,Peso cuerpo,Peso cerebro\n",
    "Big brown bat,0.023,0.3\n",
    "Mouse,0.023,0.4\n",
    "Ground squirrel,0.101,4\n",
    "Tree shrew,0.104,2.5\n",
    "Golden hamster,0.12,1\n",
    "Mole,0.122,3\n",
    "Galago,0.2,5\n",
    "Rat,0.28,1.9\n",
    "```"
   ]
  },
  {
   "cell_type": "markdown",
   "metadata": {},
   "source": [
    "La función `pd.read_csv` permite crear un objeto de tipo `DataFrame` a partir de los datos contenidos en un fichero en formato CSV."
   ]
  },
  {
   "cell_type": "code",
   "execution_count": 5,
   "metadata": {
    "ExecuteTime": {
     "end_time": "2018-10-16T14:12:48.295043Z",
     "start_time": "2018-10-16T14:12:48.252882Z"
    }
   },
   "outputs": [
    {
     "data": {
      "text/html": [
       "<div>\n",
       "<style scoped>\n",
       "    .dataframe tbody tr th:only-of-type {\n",
       "        vertical-align: middle;\n",
       "    }\n",
       "\n",
       "    .dataframe tbody tr th {\n",
       "        vertical-align: top;\n",
       "    }\n",
       "\n",
       "    .dataframe thead th {\n",
       "        text-align: right;\n",
       "    }\n",
       "</style>\n",
       "<table border=\"1\" class=\"dataframe\">\n",
       "  <thead>\n",
       "    <tr style=\"text-align: right;\">\n",
       "      <th></th>\n",
       "      <th>Especie</th>\n",
       "      <th>Peso cuerpo</th>\n",
       "      <th>Peso cerebro</th>\n",
       "    </tr>\n",
       "  </thead>\n",
       "  <tbody>\n",
       "    <tr>\n",
       "      <th>0</th>\n",
       "      <td>Big brown bat</td>\n",
       "      <td>0.023</td>\n",
       "      <td>0.3</td>\n",
       "    </tr>\n",
       "    <tr>\n",
       "      <th>1</th>\n",
       "      <td>Mouse</td>\n",
       "      <td>0.023</td>\n",
       "      <td>0.4</td>\n",
       "    </tr>\n",
       "    <tr>\n",
       "      <th>2</th>\n",
       "      <td>Ground squirrel</td>\n",
       "      <td>0.101</td>\n",
       "      <td>4.0</td>\n",
       "    </tr>\n",
       "    <tr>\n",
       "      <th>3</th>\n",
       "      <td>Tree shrew</td>\n",
       "      <td>0.104</td>\n",
       "      <td>2.5</td>\n",
       "    </tr>\n",
       "    <tr>\n",
       "      <th>4</th>\n",
       "      <td>Golden hamster</td>\n",
       "      <td>0.120</td>\n",
       "      <td>1.0</td>\n",
       "    </tr>\n",
       "    <tr>\n",
       "      <th>5</th>\n",
       "      <td>Mole</td>\n",
       "      <td>0.122</td>\n",
       "      <td>3.0</td>\n",
       "    </tr>\n",
       "    <tr>\n",
       "      <th>6</th>\n",
       "      <td>Galago</td>\n",
       "      <td>0.200</td>\n",
       "      <td>5.0</td>\n",
       "    </tr>\n",
       "    <tr>\n",
       "      <th>7</th>\n",
       "      <td>Rat</td>\n",
       "      <td>0.280</td>\n",
       "      <td>1.9</td>\n",
       "    </tr>\n",
       "  </tbody>\n",
       "</table>\n",
       "</div>"
      ],
      "text/plain": [
       "           Especie  Peso cuerpo  Peso cerebro\n",
       "0    Big brown bat        0.023           0.3\n",
       "1            Mouse        0.023           0.4\n",
       "2  Ground squirrel        0.101           4.0\n",
       "3       Tree shrew        0.104           2.5\n",
       "4   Golden hamster        0.120           1.0\n",
       "5             Mole        0.122           3.0\n",
       "6           Galago        0.200           5.0\n",
       "7              Rat        0.280           1.9"
      ]
     },
     "execution_count": 5,
     "metadata": {},
     "output_type": "execute_result"
    }
   ],
   "source": [
    "dfcsv = pd.read_csv('datos/animals1.csv')\n",
    "dfcsv"
   ]
  },
  {
   "cell_type": "markdown",
   "metadata": {},
   "source": [
    "Como podemos ver, la creación de dataframes a partir de un fichero CSV es bastante sencilla. En realidad, los ficheros CSV son ficheros de texto, por lo que también podremos utilizar la función `pd.read_table` para crear dataframes indicando el separador de los  valores de cada una de las filas en el argumento `delimiter`:"
   ]
  },
  {
   "cell_type": "code",
   "execution_count": 6,
   "metadata": {
    "ExecuteTime": {
     "end_time": "2018-10-16T14:12:55.737844Z",
     "start_time": "2018-10-16T14:12:55.720484Z"
    }
   },
   "outputs": [
    {
     "name": "stderr",
     "output_type": "stream",
     "text": [
      "/Users/mariacarrasco/anaconda3/lib/python3.7/site-packages/ipykernel_launcher.py:1: FutureWarning: read_table is deprecated, use read_csv instead.\n",
      "  \"\"\"Entry point for launching an IPython kernel.\n"
     ]
    },
    {
     "data": {
      "text/html": [
       "<div>\n",
       "<style scoped>\n",
       "    .dataframe tbody tr th:only-of-type {\n",
       "        vertical-align: middle;\n",
       "    }\n",
       "\n",
       "    .dataframe tbody tr th {\n",
       "        vertical-align: top;\n",
       "    }\n",
       "\n",
       "    .dataframe thead th {\n",
       "        text-align: right;\n",
       "    }\n",
       "</style>\n",
       "<table border=\"1\" class=\"dataframe\">\n",
       "  <thead>\n",
       "    <tr style=\"text-align: right;\">\n",
       "      <th></th>\n",
       "      <th>Especie</th>\n",
       "      <th>Peso cuerpo</th>\n",
       "      <th>Peso cerebro</th>\n",
       "    </tr>\n",
       "  </thead>\n",
       "  <tbody>\n",
       "    <tr>\n",
       "      <th>0</th>\n",
       "      <td>Big brown bat</td>\n",
       "      <td>0.023</td>\n",
       "      <td>0.3</td>\n",
       "    </tr>\n",
       "    <tr>\n",
       "      <th>1</th>\n",
       "      <td>Mouse</td>\n",
       "      <td>0.023</td>\n",
       "      <td>0.4</td>\n",
       "    </tr>\n",
       "    <tr>\n",
       "      <th>2</th>\n",
       "      <td>Ground squirrel</td>\n",
       "      <td>0.101</td>\n",
       "      <td>4.0</td>\n",
       "    </tr>\n",
       "    <tr>\n",
       "      <th>3</th>\n",
       "      <td>Tree shrew</td>\n",
       "      <td>0.104</td>\n",
       "      <td>2.5</td>\n",
       "    </tr>\n",
       "    <tr>\n",
       "      <th>4</th>\n",
       "      <td>Golden hamster</td>\n",
       "      <td>0.120</td>\n",
       "      <td>1.0</td>\n",
       "    </tr>\n",
       "    <tr>\n",
       "      <th>5</th>\n",
       "      <td>Mole</td>\n",
       "      <td>0.122</td>\n",
       "      <td>3.0</td>\n",
       "    </tr>\n",
       "    <tr>\n",
       "      <th>6</th>\n",
       "      <td>Galago</td>\n",
       "      <td>0.200</td>\n",
       "      <td>5.0</td>\n",
       "    </tr>\n",
       "    <tr>\n",
       "      <th>7</th>\n",
       "      <td>Rat</td>\n",
       "      <td>0.280</td>\n",
       "      <td>1.9</td>\n",
       "    </tr>\n",
       "  </tbody>\n",
       "</table>\n",
       "</div>"
      ],
      "text/plain": [
       "           Especie  Peso cuerpo  Peso cerebro\n",
       "0    Big brown bat        0.023           0.3\n",
       "1            Mouse        0.023           0.4\n",
       "2  Ground squirrel        0.101           4.0\n",
       "3       Tree shrew        0.104           2.5\n",
       "4   Golden hamster        0.120           1.0\n",
       "5             Mole        0.122           3.0\n",
       "6           Galago        0.200           5.0\n",
       "7              Rat        0.280           1.9"
      ]
     },
     "execution_count": 6,
     "metadata": {},
     "output_type": "execute_result"
    }
   ],
   "source": [
    "dfcsv = pd.read_table('datos/animals1.csv', delimiter = ',')\n",
    "dfcsv"
   ]
  },
  {
   "cell_type": "markdown",
   "metadata": {},
   "source": [
    "Cuando los datos almacenados en el fichero no contienen la información acerca del nombre de cada una de las columnas, es decir, los datos aparecen en la primera fila del fichero, podemos indicar mediante el argumento `header` la ausencia de cabeceras. \n",
    "\n",
    "```\n",
    "animals2.csv\n",
    "------------\n",
    "Big brown bat,0.023,0.3\n",
    "Mouse,0.023,0.4\n",
    "Ground squirrel,0.101,4\n",
    "Tree shrew,0.104,2.5\n",
    "Golden hamster,0.12,1\n",
    "Mole,0.122,3\n",
    "Galago,0.2,5\n",
    "Rat,0.28,1.9\n",
    "```\n"
   ]
  },
  {
   "cell_type": "markdown",
   "metadata": {},
   "source": [
    "Las columnas del dataframe se indexan de forma automática con valores de tipo `int` comenzando por el valor `0`."
   ]
  },
  {
   "cell_type": "code",
   "execution_count": 7,
   "metadata": {
    "ExecuteTime": {
     "end_time": "2018-10-16T14:13:14.104027Z",
     "start_time": "2018-10-16T14:13:14.085179Z"
    }
   },
   "outputs": [
    {
     "data": {
      "text/html": [
       "<div>\n",
       "<style scoped>\n",
       "    .dataframe tbody tr th:only-of-type {\n",
       "        vertical-align: middle;\n",
       "    }\n",
       "\n",
       "    .dataframe tbody tr th {\n",
       "        vertical-align: top;\n",
       "    }\n",
       "\n",
       "    .dataframe thead th {\n",
       "        text-align: right;\n",
       "    }\n",
       "</style>\n",
       "<table border=\"1\" class=\"dataframe\">\n",
       "  <thead>\n",
       "    <tr style=\"text-align: right;\">\n",
       "      <th></th>\n",
       "      <th>0</th>\n",
       "      <th>1</th>\n",
       "      <th>2</th>\n",
       "    </tr>\n",
       "  </thead>\n",
       "  <tbody>\n",
       "    <tr>\n",
       "      <th>0</th>\n",
       "      <td>Big brown bat</td>\n",
       "      <td>0.023</td>\n",
       "      <td>0.3</td>\n",
       "    </tr>\n",
       "    <tr>\n",
       "      <th>1</th>\n",
       "      <td>Mouse</td>\n",
       "      <td>0.023</td>\n",
       "      <td>0.4</td>\n",
       "    </tr>\n",
       "    <tr>\n",
       "      <th>2</th>\n",
       "      <td>Ground squirrel</td>\n",
       "      <td>0.101</td>\n",
       "      <td>4.0</td>\n",
       "    </tr>\n",
       "    <tr>\n",
       "      <th>3</th>\n",
       "      <td>Tree shrew</td>\n",
       "      <td>0.104</td>\n",
       "      <td>2.5</td>\n",
       "    </tr>\n",
       "    <tr>\n",
       "      <th>4</th>\n",
       "      <td>Golden hamster</td>\n",
       "      <td>0.120</td>\n",
       "      <td>1.0</td>\n",
       "    </tr>\n",
       "    <tr>\n",
       "      <th>5</th>\n",
       "      <td>Mole</td>\n",
       "      <td>0.122</td>\n",
       "      <td>3.0</td>\n",
       "    </tr>\n",
       "    <tr>\n",
       "      <th>6</th>\n",
       "      <td>Galago</td>\n",
       "      <td>0.200</td>\n",
       "      <td>5.0</td>\n",
       "    </tr>\n",
       "    <tr>\n",
       "      <th>7</th>\n",
       "      <td>Rat</td>\n",
       "      <td>0.280</td>\n",
       "      <td>1.9</td>\n",
       "    </tr>\n",
       "  </tbody>\n",
       "</table>\n",
       "</div>"
      ],
      "text/plain": [
       "                 0      1    2\n",
       "0    Big brown bat  0.023  0.3\n",
       "1            Mouse  0.023  0.4\n",
       "2  Ground squirrel  0.101  4.0\n",
       "3       Tree shrew  0.104  2.5\n",
       "4   Golden hamster  0.120  1.0\n",
       "5             Mole  0.122  3.0\n",
       "6           Galago  0.200  5.0\n",
       "7              Rat  0.280  1.9"
      ]
     },
     "execution_count": 7,
     "metadata": {},
     "output_type": "execute_result"
    }
   ],
   "source": [
    "dfcsv = pd.read_csv('datos/Animals2.csv', header = None)\n",
    "dfcsv"
   ]
  },
  {
   "cell_type": "markdown",
   "metadata": {},
   "source": [
    "Usando el argumento `names` de la función `pd.read_csv` es posible asignar un nombre más significativo a cada una de las columnas:"
   ]
  },
  {
   "cell_type": "code",
   "execution_count": 8,
   "metadata": {
    "ExecuteTime": {
     "end_time": "2018-10-16T14:13:16.331659Z",
     "start_time": "2018-10-16T14:13:16.228982Z"
    }
   },
   "outputs": [],
   "source": [
    "pd.read_csv?"
   ]
  },
  {
   "cell_type": "code",
   "execution_count": 9,
   "metadata": {
    "ExecuteTime": {
     "end_time": "2018-10-16T14:13:23.665038Z",
     "start_time": "2018-10-16T14:13:23.647180Z"
    }
   },
   "outputs": [
    {
     "data": {
      "text/html": [
       "<div>\n",
       "<style scoped>\n",
       "    .dataframe tbody tr th:only-of-type {\n",
       "        vertical-align: middle;\n",
       "    }\n",
       "\n",
       "    .dataframe tbody tr th {\n",
       "        vertical-align: top;\n",
       "    }\n",
       "\n",
       "    .dataframe thead th {\n",
       "        text-align: right;\n",
       "    }\n",
       "</style>\n",
       "<table border=\"1\" class=\"dataframe\">\n",
       "  <thead>\n",
       "    <tr style=\"text-align: right;\">\n",
       "      <th></th>\n",
       "      <th>Especie</th>\n",
       "      <th>Peso Cuerpo</th>\n",
       "      <th>Peso cerebro</th>\n",
       "    </tr>\n",
       "  </thead>\n",
       "  <tbody>\n",
       "    <tr>\n",
       "      <th>0</th>\n",
       "      <td>Big brown bat</td>\n",
       "      <td>0.023</td>\n",
       "      <td>0.3</td>\n",
       "    </tr>\n",
       "    <tr>\n",
       "      <th>1</th>\n",
       "      <td>Mouse</td>\n",
       "      <td>0.023</td>\n",
       "      <td>0.4</td>\n",
       "    </tr>\n",
       "    <tr>\n",
       "      <th>2</th>\n",
       "      <td>Ground squirrel</td>\n",
       "      <td>0.101</td>\n",
       "      <td>4.0</td>\n",
       "    </tr>\n",
       "    <tr>\n",
       "      <th>3</th>\n",
       "      <td>Tree shrew</td>\n",
       "      <td>0.104</td>\n",
       "      <td>2.5</td>\n",
       "    </tr>\n",
       "    <tr>\n",
       "      <th>4</th>\n",
       "      <td>Golden hamster</td>\n",
       "      <td>0.120</td>\n",
       "      <td>1.0</td>\n",
       "    </tr>\n",
       "    <tr>\n",
       "      <th>5</th>\n",
       "      <td>Mole</td>\n",
       "      <td>0.122</td>\n",
       "      <td>3.0</td>\n",
       "    </tr>\n",
       "    <tr>\n",
       "      <th>6</th>\n",
       "      <td>Galago</td>\n",
       "      <td>0.200</td>\n",
       "      <td>5.0</td>\n",
       "    </tr>\n",
       "    <tr>\n",
       "      <th>7</th>\n",
       "      <td>Rat</td>\n",
       "      <td>0.280</td>\n",
       "      <td>1.9</td>\n",
       "    </tr>\n",
       "  </tbody>\n",
       "</table>\n",
       "</div>"
      ],
      "text/plain": [
       "           Especie  Peso Cuerpo  Peso cerebro\n",
       "0    Big brown bat        0.023           0.3\n",
       "1            Mouse        0.023           0.4\n",
       "2  Ground squirrel        0.101           4.0\n",
       "3       Tree shrew        0.104           2.5\n",
       "4   Golden hamster        0.120           1.0\n",
       "5             Mole        0.122           3.0\n",
       "6           Galago        0.200           5.0\n",
       "7              Rat        0.280           1.9"
      ]
     },
     "execution_count": 9,
     "metadata": {},
     "output_type": "execute_result"
    }
   ],
   "source": [
    "dfcsv = pd.read_csv('datos/animals2.csv', \n",
    "                    header = None, \n",
    "                    names = ['Especie', 'Peso Cuerpo', 'Peso cerebro'])\n",
    "dfcsv"
   ]
  },
  {
   "cell_type": "markdown",
   "metadata": {},
   "source": [
    "En algunas ocasiones las primeras líneas del fichero no se corresponden con datos propiamente dichos, si no que símplemente aportan una descripción de los datos que contiene.\n",
    "\n",
    "```\n",
    "peliculas.csv\n",
    "------------\n",
    "Cine de los 90\n",
    "*********************************\n",
    "Extreno: Fecha de extreno\n",
    "Nombre: Título de la película\n",
    "Cat: Género de la película\n",
    "*********************************\n",
    "Extreno,Nombre,Cat\n",
    "1982,E.T. the ExtraTerrestrial,Fantasy\n",
    "1982,Poltergeist,Horror\n",
    "1992,Alien,Action\n",
    "1992,The Crying Game,War\n",
    "1995,Toy Story,Animation\n",
    "1995,GoldenEye,Action\n",
    "1995,Four Rooms,Thriller\n",
    "```"
   ]
  },
  {
   "cell_type": "markdown",
   "metadata": {},
   "source": [
    "El argumento `skiprows` permite omitir la lectura de un número determinado de filas al comienzo del fichero. "
   ]
  },
  {
   "cell_type": "code",
   "execution_count": 10,
   "metadata": {
    "ExecuteTime": {
     "end_time": "2018-10-16T14:13:34.095107Z",
     "start_time": "2018-10-16T14:13:34.079269Z"
    }
   },
   "outputs": [
    {
     "data": {
      "text/html": [
       "<div>\n",
       "<style scoped>\n",
       "    .dataframe tbody tr th:only-of-type {\n",
       "        vertical-align: middle;\n",
       "    }\n",
       "\n",
       "    .dataframe tbody tr th {\n",
       "        vertical-align: top;\n",
       "    }\n",
       "\n",
       "    .dataframe thead th {\n",
       "        text-align: right;\n",
       "    }\n",
       "</style>\n",
       "<table border=\"1\" class=\"dataframe\">\n",
       "  <thead>\n",
       "    <tr style=\"text-align: right;\">\n",
       "      <th></th>\n",
       "      <th>Extreno</th>\n",
       "      <th>Nombre</th>\n",
       "      <th>Cat</th>\n",
       "    </tr>\n",
       "  </thead>\n",
       "  <tbody>\n",
       "    <tr>\n",
       "      <th>0</th>\n",
       "      <td>1982</td>\n",
       "      <td>E.T. the ExtraTerrestrial</td>\n",
       "      <td>Fantasy</td>\n",
       "    </tr>\n",
       "    <tr>\n",
       "      <th>1</th>\n",
       "      <td>1982</td>\n",
       "      <td>Poltergeist</td>\n",
       "      <td>Horror</td>\n",
       "    </tr>\n",
       "    <tr>\n",
       "      <th>2</th>\n",
       "      <td>1992</td>\n",
       "      <td>Alien</td>\n",
       "      <td>Action</td>\n",
       "    </tr>\n",
       "    <tr>\n",
       "      <th>3</th>\n",
       "      <td>1992</td>\n",
       "      <td>The Crying Game</td>\n",
       "      <td>War</td>\n",
       "    </tr>\n",
       "    <tr>\n",
       "      <th>4</th>\n",
       "      <td>1995</td>\n",
       "      <td>Toy Story</td>\n",
       "      <td>Animation</td>\n",
       "    </tr>\n",
       "    <tr>\n",
       "      <th>5</th>\n",
       "      <td>1995</td>\n",
       "      <td>GoldenEye</td>\n",
       "      <td>Action</td>\n",
       "    </tr>\n",
       "    <tr>\n",
       "      <th>6</th>\n",
       "      <td>1995</td>\n",
       "      <td>Four Rooms</td>\n",
       "      <td>Thriller</td>\n",
       "    </tr>\n",
       "  </tbody>\n",
       "</table>\n",
       "</div>"
      ],
      "text/plain": [
       "   Extreno                     Nombre        Cat\n",
       "0     1982  E.T. the ExtraTerrestrial    Fantasy\n",
       "1     1982                Poltergeist     Horror\n",
       "2     1992                      Alien     Action\n",
       "3     1992            The Crying Game        War\n",
       "4     1995                  Toy Story  Animation\n",
       "5     1995                  GoldenEye     Action\n",
       "6     1995                 Four Rooms   Thriller"
      ]
     },
     "execution_count": 10,
     "metadata": {},
     "output_type": "execute_result"
    }
   ],
   "source": [
    "dfcsv = pd.read_csv('datos/peliculas.csv', skiprows = 6)\n",
    "dfcsv"
   ]
  },
  {
   "cell_type": "markdown",
   "metadata": {},
   "source": [
    "Para crear objetos de tipo  `DataFrame` donde los valores de una de las columnas en el fichero se van a convertir en el índice del dataframe, usamos el argumento `index_col`:"
   ]
  },
  {
   "cell_type": "code",
   "execution_count": 11,
   "metadata": {
    "ExecuteTime": {
     "end_time": "2018-10-16T14:13:36.372837Z",
     "start_time": "2018-10-16T14:13:36.355972Z"
    }
   },
   "outputs": [
    {
     "data": {
      "text/html": [
       "<div>\n",
       "<style scoped>\n",
       "    .dataframe tbody tr th:only-of-type {\n",
       "        vertical-align: middle;\n",
       "    }\n",
       "\n",
       "    .dataframe tbody tr th {\n",
       "        vertical-align: top;\n",
       "    }\n",
       "\n",
       "    .dataframe thead th {\n",
       "        text-align: right;\n",
       "    }\n",
       "</style>\n",
       "<table border=\"1\" class=\"dataframe\">\n",
       "  <thead>\n",
       "    <tr style=\"text-align: right;\">\n",
       "      <th></th>\n",
       "      <th>Nombre</th>\n",
       "      <th>Cat</th>\n",
       "    </tr>\n",
       "    <tr>\n",
       "      <th>Extreno</th>\n",
       "      <th></th>\n",
       "      <th></th>\n",
       "    </tr>\n",
       "  </thead>\n",
       "  <tbody>\n",
       "    <tr>\n",
       "      <th>1982</th>\n",
       "      <td>E.T. the ExtraTerrestrial</td>\n",
       "      <td>Fantasy</td>\n",
       "    </tr>\n",
       "    <tr>\n",
       "      <th>1982</th>\n",
       "      <td>Poltergeist</td>\n",
       "      <td>Horror</td>\n",
       "    </tr>\n",
       "    <tr>\n",
       "      <th>1992</th>\n",
       "      <td>Alien</td>\n",
       "      <td>Action</td>\n",
       "    </tr>\n",
       "    <tr>\n",
       "      <th>1992</th>\n",
       "      <td>The Crying Game</td>\n",
       "      <td>War</td>\n",
       "    </tr>\n",
       "    <tr>\n",
       "      <th>1995</th>\n",
       "      <td>Toy Story</td>\n",
       "      <td>Animation</td>\n",
       "    </tr>\n",
       "    <tr>\n",
       "      <th>1995</th>\n",
       "      <td>GoldenEye</td>\n",
       "      <td>Action</td>\n",
       "    </tr>\n",
       "    <tr>\n",
       "      <th>1995</th>\n",
       "      <td>Four Rooms</td>\n",
       "      <td>Thriller</td>\n",
       "    </tr>\n",
       "  </tbody>\n",
       "</table>\n",
       "</div>"
      ],
      "text/plain": [
       "                            Nombre        Cat\n",
       "Extreno                                      \n",
       "1982     E.T. the ExtraTerrestrial    Fantasy\n",
       "1982                   Poltergeist     Horror\n",
       "1992                         Alien     Action\n",
       "1992               The Crying Game        War\n",
       "1995                     Toy Story  Animation\n",
       "1995                     GoldenEye     Action\n",
       "1995                    Four Rooms   Thriller"
      ]
     },
     "execution_count": 11,
     "metadata": {},
     "output_type": "execute_result"
    }
   ],
   "source": [
    "dfcsv = pd.read_csv('datos/peliculas.csv', \n",
    "                    skiprows = 6, \n",
    "                    index_col = ['Extreno'])\n",
    "dfcsv"
   ]
  },
  {
   "cell_type": "code",
   "execution_count": 12,
   "metadata": {
    "ExecuteTime": {
     "end_time": "2018-10-16T14:13:43.040080Z",
     "start_time": "2018-10-16T14:13:43.027653Z"
    }
   },
   "outputs": [
    {
     "data": {
      "text/html": [
       "<div>\n",
       "<style scoped>\n",
       "    .dataframe tbody tr th:only-of-type {\n",
       "        vertical-align: middle;\n",
       "    }\n",
       "\n",
       "    .dataframe tbody tr th {\n",
       "        vertical-align: top;\n",
       "    }\n",
       "\n",
       "    .dataframe thead th {\n",
       "        text-align: right;\n",
       "    }\n",
       "</style>\n",
       "<table border=\"1\" class=\"dataframe\">\n",
       "  <thead>\n",
       "    <tr style=\"text-align: right;\">\n",
       "      <th></th>\n",
       "      <th>Nombre</th>\n",
       "      <th>Cat</th>\n",
       "    </tr>\n",
       "    <tr>\n",
       "      <th>Extreno</th>\n",
       "      <th></th>\n",
       "      <th></th>\n",
       "    </tr>\n",
       "  </thead>\n",
       "  <tbody>\n",
       "    <tr>\n",
       "      <th>1995</th>\n",
       "      <td>Toy Story</td>\n",
       "      <td>Animation</td>\n",
       "    </tr>\n",
       "    <tr>\n",
       "      <th>1995</th>\n",
       "      <td>GoldenEye</td>\n",
       "      <td>Action</td>\n",
       "    </tr>\n",
       "    <tr>\n",
       "      <th>1995</th>\n",
       "      <td>Four Rooms</td>\n",
       "      <td>Thriller</td>\n",
       "    </tr>\n",
       "  </tbody>\n",
       "</table>\n",
       "</div>"
      ],
      "text/plain": [
       "             Nombre        Cat\n",
       "Extreno                       \n",
       "1995      Toy Story  Animation\n",
       "1995      GoldenEye     Action\n",
       "1995     Four Rooms   Thriller"
      ]
     },
     "execution_count": 12,
     "metadata": {},
     "output_type": "execute_result"
    }
   ],
   "source": [
    "dfcsv.loc[1995]"
   ]
  },
  {
   "cell_type": "markdown",
   "metadata": {},
   "source": [
    "También es posible crear dataframes con multiíndices a partir de los datos contenidos en un fichero. Por ejemplo, podemos usar el argumento `index_col` con la lista de columnas en el  fichero serán los índices del dataframe:"
   ]
  },
  {
   "cell_type": "code",
   "execution_count": 13,
   "metadata": {
    "ExecuteTime": {
     "end_time": "2018-10-16T14:13:48.329396Z",
     "start_time": "2018-10-16T14:13:48.301620Z"
    }
   },
   "outputs": [
    {
     "data": {
      "text/html": [
       "<div>\n",
       "<style scoped>\n",
       "    .dataframe tbody tr th:only-of-type {\n",
       "        vertical-align: middle;\n",
       "    }\n",
       "\n",
       "    .dataframe tbody tr th {\n",
       "        vertical-align: top;\n",
       "    }\n",
       "\n",
       "    .dataframe thead th {\n",
       "        text-align: right;\n",
       "    }\n",
       "</style>\n",
       "<table border=\"1\" class=\"dataframe\">\n",
       "  <thead>\n",
       "    <tr style=\"text-align: right;\">\n",
       "      <th></th>\n",
       "      <th></th>\n",
       "      <th>Cat</th>\n",
       "    </tr>\n",
       "    <tr>\n",
       "      <th>Extreno</th>\n",
       "      <th>Nombre</th>\n",
       "      <th></th>\n",
       "    </tr>\n",
       "  </thead>\n",
       "  <tbody>\n",
       "    <tr>\n",
       "      <th rowspan=\"2\" valign=\"top\">1982</th>\n",
       "      <th>E.T. the ExtraTerrestrial</th>\n",
       "      <td>Fantasy</td>\n",
       "    </tr>\n",
       "    <tr>\n",
       "      <th>Poltergeist</th>\n",
       "      <td>Horror</td>\n",
       "    </tr>\n",
       "    <tr>\n",
       "      <th rowspan=\"2\" valign=\"top\">1992</th>\n",
       "      <th>Alien</th>\n",
       "      <td>Action</td>\n",
       "    </tr>\n",
       "    <tr>\n",
       "      <th>The Crying Game</th>\n",
       "      <td>War</td>\n",
       "    </tr>\n",
       "    <tr>\n",
       "      <th rowspan=\"3\" valign=\"top\">1995</th>\n",
       "      <th>Toy Story</th>\n",
       "      <td>Animation</td>\n",
       "    </tr>\n",
       "    <tr>\n",
       "      <th>GoldenEye</th>\n",
       "      <td>Action</td>\n",
       "    </tr>\n",
       "    <tr>\n",
       "      <th>Four Rooms</th>\n",
       "      <td>Thriller</td>\n",
       "    </tr>\n",
       "  </tbody>\n",
       "</table>\n",
       "</div>"
      ],
      "text/plain": [
       "                                         Cat\n",
       "Extreno Nombre                              \n",
       "1982    E.T. the ExtraTerrestrial    Fantasy\n",
       "        Poltergeist                   Horror\n",
       "1992    Alien                         Action\n",
       "        The Crying Game                  War\n",
       "1995    Toy Story                  Animation\n",
       "        GoldenEye                     Action\n",
       "        Four Rooms                  Thriller"
      ]
     },
     "execution_count": 13,
     "metadata": {},
     "output_type": "execute_result"
    }
   ],
   "source": [
    "dfcsv = pd.read_csv('datos/peliculas.csv', \n",
    "                    skiprows = 6, \n",
    "                    index_col = [0, 1])\n",
    "dfcsv"
   ]
  },
  {
   "cell_type": "markdown",
   "metadata": {},
   "source": [
    "\n",
    "Cuando los ficheros de datos que queremos procesar son muy grandes, pandas ofrece la posibilidad de realizar una lectura por partes. Esta opción permite procesar solo una parte de los datos. El argumento `nrows` permite procesar un numero determinado de filas del fichero, mientras que el argumento `skiprows` permite indicar las filas que no queremos procesar."
   ]
  },
  {
   "cell_type": "code",
   "execution_count": 14,
   "metadata": {
    "ExecuteTime": {
     "end_time": "2018-10-16T14:19:45.885050Z",
     "start_time": "2018-10-16T14:19:45.867690Z"
    }
   },
   "outputs": [
    {
     "data": {
      "text/html": [
       "<div>\n",
       "<style scoped>\n",
       "    .dataframe tbody tr th:only-of-type {\n",
       "        vertical-align: middle;\n",
       "    }\n",
       "\n",
       "    .dataframe tbody tr th {\n",
       "        vertical-align: top;\n",
       "    }\n",
       "\n",
       "    .dataframe thead th {\n",
       "        text-align: right;\n",
       "    }\n",
       "</style>\n",
       "<table border=\"1\" class=\"dataframe\">\n",
       "  <thead>\n",
       "    <tr style=\"text-align: right;\">\n",
       "      <th></th>\n",
       "      <th>Extreno</th>\n",
       "      <th>Nombre</th>\n",
       "      <th>Cat</th>\n",
       "    </tr>\n",
       "  </thead>\n",
       "  <tbody>\n",
       "    <tr>\n",
       "      <th>0</th>\n",
       "      <td>1982</td>\n",
       "      <td>E.T. the ExtraTerrestrial</td>\n",
       "      <td>Fantasy</td>\n",
       "    </tr>\n",
       "    <tr>\n",
       "      <th>1</th>\n",
       "      <td>1982</td>\n",
       "      <td>Poltergeist</td>\n",
       "      <td>Horror</td>\n",
       "    </tr>\n",
       "  </tbody>\n",
       "</table>\n",
       "</div>"
      ],
      "text/plain": [
       "   Extreno                     Nombre      Cat\n",
       "0     1982  E.T. the ExtraTerrestrial  Fantasy\n",
       "1     1982                Poltergeist   Horror"
      ]
     },
     "execution_count": 14,
     "metadata": {},
     "output_type": "execute_result"
    }
   ],
   "source": [
    "dfcsv = pd.read_csv('datos/peliculas.csv', skiprows = 6, nrows =2)\n",
    "dfcsv"
   ]
  },
  {
   "cell_type": "markdown",
   "metadata": {},
   "source": [
    "Si queremos leer el fichero completo en trozos, usamos el argumento `chunksize` para especificar el número de filas que componen cada trozo.\n",
    "\n",
    "```\n",
    "\n",
    "peliculas2.csv\n",
    "------------\n",
    "Extreno,Nombre,Minutos\n",
    "1982,E.T. the ExtraTerrestrial,114\n",
    "1982,Poltergeist,91\n",
    "1992,Alien,144\n",
    "1992,The Crying Game,113\n",
    "1995,Toy Story,81\n",
    "1995,GoldenEye,130\n",
    "1995,Four Rooms,94\n",
    "```"
   ]
  },
  {
   "cell_type": "markdown",
   "metadata": {},
   "source": [
    "En el siguiente ejemplo, leemos el fichero por trozos y procesamos cada uno de ellos."
   ]
  },
  {
   "cell_type": "code",
   "execution_count": 15,
   "metadata": {
    "ExecuteTime": {
     "end_time": "2018-10-16T14:20:01.350499Z",
     "start_time": "2018-10-16T14:20:01.329196Z"
    }
   },
   "outputs": [
    {
     "name": "stdout",
     "output_type": "stream",
     "text": [
      "3 144\n",
      "3 130\n",
      "1 94\n"
     ]
    }
   ],
   "source": [
    "trozos = pd.read_csv('./datos/peliculas2.csv', chunksize = 3) \n",
    "\n",
    "for t in trozos:                        \n",
    "    print(len(t), t.Minutos.max())   "
   ]
  },
  {
   "cell_type": "markdown",
   "metadata": {},
   "source": [
    "En el ejemplo anterior, se realiza una lectura del fichero en porciones de tres filas, excepto la última porción que consta solo de una fila. El iterador `for` permite iterar sobre cada uno de los trozos y procesarlos."
   ]
  },
  {
   "cell_type": "markdown",
   "metadata": {},
   "source": [
    "### Escritura de datos en ficheros CSV"
   ]
  },
  {
   "cell_type": "markdown",
   "metadata": {},
   "source": [
    "Los datos almacenados en las estructuras de datos de Pandas, ya sea en `Series` o `DataFrames`, pueden ser almacenados en ficheros. Esta es una operación se realiza de forma habitual después del procesamiento de datos, limpieza, etc.\n",
    "Por ejemplo, para escribir los datos incluídos en un DataFrame en un fichero CSV utilizamos el método [`to_csv`](http://pandas.pydata.org/pandas-docs/stable/generated/pandas.DataFrame.to_csv.html) con el nombre del fichero como argumento."
   ]
  },
  {
   "cell_type": "code",
   "execution_count": 16,
   "metadata": {
    "ExecuteTime": {
     "end_time": "2018-10-16T14:21:19.773053Z",
     "start_time": "2018-10-16T14:21:19.756190Z"
    }
   },
   "outputs": [
    {
     "data": {
      "text/html": [
       "<div>\n",
       "<style scoped>\n",
       "    .dataframe tbody tr th:only-of-type {\n",
       "        vertical-align: middle;\n",
       "    }\n",
       "\n",
       "    .dataframe tbody tr th {\n",
       "        vertical-align: top;\n",
       "    }\n",
       "\n",
       "    .dataframe thead th {\n",
       "        text-align: right;\n",
       "    }\n",
       "</style>\n",
       "<table border=\"1\" class=\"dataframe\">\n",
       "  <thead>\n",
       "    <tr style=\"text-align: right;\">\n",
       "      <th></th>\n",
       "      <th>Nombre</th>\n",
       "      <th>Minutos</th>\n",
       "    </tr>\n",
       "    <tr>\n",
       "      <th>Extreno</th>\n",
       "      <th></th>\n",
       "      <th></th>\n",
       "    </tr>\n",
       "  </thead>\n",
       "  <tbody>\n",
       "    <tr>\n",
       "      <th>1982</th>\n",
       "      <td>E.T. the ExtraTerrestrial</td>\n",
       "      <td>114</td>\n",
       "    </tr>\n",
       "    <tr>\n",
       "      <th>1982</th>\n",
       "      <td>Poltergeist</td>\n",
       "      <td>91</td>\n",
       "    </tr>\n",
       "    <tr>\n",
       "      <th>1992</th>\n",
       "      <td>Alien</td>\n",
       "      <td>144</td>\n",
       "    </tr>\n",
       "    <tr>\n",
       "      <th>1992</th>\n",
       "      <td>The Crying Game</td>\n",
       "      <td>113</td>\n",
       "    </tr>\n",
       "    <tr>\n",
       "      <th>1995</th>\n",
       "      <td>Toy Story</td>\n",
       "      <td>81</td>\n",
       "    </tr>\n",
       "    <tr>\n",
       "      <th>1995</th>\n",
       "      <td>GoldenEye</td>\n",
       "      <td>130</td>\n",
       "    </tr>\n",
       "    <tr>\n",
       "      <th>1995</th>\n",
       "      <td>Four Rooms</td>\n",
       "      <td>94</td>\n",
       "    </tr>\n",
       "  </tbody>\n",
       "</table>\n",
       "</div>"
      ],
      "text/plain": [
       "                            Nombre  Minutos\n",
       "Extreno                                    \n",
       "1982     E.T. the ExtraTerrestrial      114\n",
       "1982                   Poltergeist       91\n",
       "1992                         Alien      144\n",
       "1992               The Crying Game      113\n",
       "1995                     Toy Story       81\n",
       "1995                     GoldenEye      130\n",
       "1995                    Four Rooms       94"
      ]
     },
     "execution_count": 16,
     "metadata": {},
     "output_type": "execute_result"
    }
   ],
   "source": [
    "dfcsv = pd.read_csv('datos/peliculas2.csv', index_col = ['Extreno'])\n",
    "dfcsv"
   ]
  },
  {
   "cell_type": "markdown",
   "metadata": {},
   "source": [
    "Admite una gran cantidad de parámetros. Opcionalmente podemos generar un fichero csv con cabeceras o sin ellas, con índices o sin ellos."
   ]
  },
  {
   "cell_type": "code",
   "execution_count": 17,
   "metadata": {
    "ExecuteTime": {
     "end_time": "2018-10-16T14:21:36.355047Z",
     "start_time": "2018-10-16T14:21:36.334713Z"
    }
   },
   "outputs": [],
   "source": [
    "dfcsv.to_csv('./datos/datos.csv')"
   ]
  },
  {
   "cell_type": "markdown",
   "metadata": {},
   "source": [
    "```\n",
    "datos.csv\n",
    "------------\n",
    "Extreno,Nombre,Minutos\n",
    "1982,E.T. the ExtraTerrestrial,114\n",
    "1982,Poltergeist,91\n",
    "1992,Alien,144\n",
    "1992,The Crying Game,113\n",
    "1995,Toy Story,81\n",
    "1995,GoldenEye,130\n",
    "1995,Four Rooms,94\n",
    "\n",
    "```"
   ]
  },
  {
   "cell_type": "markdown",
   "metadata": {},
   "source": [
    "Como se puede ver en el ejemplo, tanto el índice como las columnas del DataFrame se escriben en el fichero. Los argumentos `index` y `header` permiten cambiar el comportamiento por defecto:"
   ]
  },
  {
   "cell_type": "code",
   "execution_count": 18,
   "metadata": {
    "ExecuteTime": {
     "end_time": "2018-10-16T14:21:39.022154Z",
     "start_time": "2018-10-16T14:21:39.007275Z"
    }
   },
   "outputs": [],
   "source": [
    "dfcsv.to_csv('./datos/datos.csv', header = True, index = False)"
   ]
  },
  {
   "cell_type": "markdown",
   "metadata": {},
   "source": [
    "```\n",
    "\n",
    "datos.csv\n",
    "------------\n",
    "Nombre,Minutos\n",
    "E.T. the ExtraTerrestrial,114\n",
    "Poltergeist,91\n",
    "Alien,144\n",
    "The Crying Game,113\n",
    "Toy Story,81\n",
    "GoldenEye,130\n",
    "Four Rooms,94\n",
    "```"
   ]
  },
  {
   "cell_type": "markdown",
   "metadata": {},
   "source": [
    "## Ficheros en formato Microsoft Excel"
   ]
  },
  {
   "cell_type": "markdown",
   "metadata": {},
   "source": [
    "Otra forma muy habitual para guardar datos en forma tabular es mediante hojas de cálculo en un libro o fichero de Microsoft Excel. Pandas incluye la función `pd.read_excel` para realizar la lectura de datos y crear dataframes, mientras que el método `to_excel` de la clase `Dataframe` permite escribir los datos en una hoja de cálculo de Microsoft Excel."
   ]
  },
  {
   "cell_type": "markdown",
   "metadata": {},
   "source": [
    "### Lectura de ficheros Excel"
   ]
  },
  {
   "cell_type": "markdown",
   "metadata": {},
   "source": [
    "La función [`pd.read_excel`](http://pandas.pydata.org/pandas-docs/stable/generated/pandas.read_excel.html) permite crear objetos de tipo `DataFrame` a partir de los datos contenidos en ficheros con extensión `.xls` y `.xlsx`. La figura XX muestra el contenido de dos hojas contenidas en el fichero [clientes.xlsx](./datos/clientes.xlsx).\n",
    "\n",
    "<img src=\"./images/imagenExcel.jpg\">\n"
   ]
  },
  {
   "cell_type": "markdown",
   "metadata": {},
   "source": [
    "Por defecto, la función `pd.read_excel` lee los datos de la primera hoja dentro del libro, pero se puede indicar que lea los datos de otra hoja usando el argumento `sheetname`."
   ]
  },
  {
   "cell_type": "code",
   "execution_count": 19,
   "metadata": {
    "ExecuteTime": {
     "end_time": "2018-10-16T14:22:19.174913Z",
     "start_time": "2018-10-16T14:22:19.043962Z"
    }
   },
   "outputs": [
    {
     "data": {
      "text/html": [
       "<div>\n",
       "<style scoped>\n",
       "    .dataframe tbody tr th:only-of-type {\n",
       "        vertical-align: middle;\n",
       "    }\n",
       "\n",
       "    .dataframe tbody tr th {\n",
       "        vertical-align: top;\n",
       "    }\n",
       "\n",
       "    .dataframe thead th {\n",
       "        text-align: right;\n",
       "    }\n",
       "</style>\n",
       "<table border=\"1\" class=\"dataframe\">\n",
       "  <thead>\n",
       "    <tr style=\"text-align: right;\">\n",
       "      <th></th>\n",
       "      <th>CODCLI</th>\n",
       "      <th>NOMCLI</th>\n",
       "      <th>SEXO</th>\n",
       "    </tr>\n",
       "  </thead>\n",
       "  <tbody>\n",
       "    <tr>\n",
       "      <th>0</th>\n",
       "      <td>CLI-0001</td>\n",
       "      <td>ROSA ELVIRA</td>\n",
       "      <td>F</td>\n",
       "    </tr>\n",
       "    <tr>\n",
       "      <th>1</th>\n",
       "      <td>CLI-0003</td>\n",
       "      <td>MIGUEL ANGEL</td>\n",
       "      <td>M</td>\n",
       "    </tr>\n",
       "    <tr>\n",
       "      <th>2</th>\n",
       "      <td>CLI-0004</td>\n",
       "      <td>ANA MARIA</td>\n",
       "      <td>F</td>\n",
       "    </tr>\n",
       "    <tr>\n",
       "      <th>3</th>\n",
       "      <td>CLI-0013</td>\n",
       "      <td>BRIGGITTE</td>\n",
       "      <td>F</td>\n",
       "    </tr>\n",
       "    <tr>\n",
       "      <th>4</th>\n",
       "      <td>CLI-0018</td>\n",
       "      <td>SAULO ANDRE</td>\n",
       "      <td>M</td>\n",
       "    </tr>\n",
       "    <tr>\n",
       "      <th>5</th>\n",
       "      <td>CLI-0020</td>\n",
       "      <td>MONICA</td>\n",
       "      <td>F</td>\n",
       "    </tr>\n",
       "  </tbody>\n",
       "</table>\n",
       "</div>"
      ],
      "text/plain": [
       "     CODCLI        NOMCLI SEXO\n",
       "0  CLI-0001   ROSA ELVIRA    F\n",
       "1  CLI-0003  MIGUEL ANGEL    M\n",
       "2  CLI-0004     ANA MARIA    F\n",
       "3  CLI-0013    BRIGGITTE     F\n",
       "4  CLI-0018   SAULO ANDRE    M\n",
       "5  CLI-0020        MONICA    F"
      ]
     },
     "execution_count": 19,
     "metadata": {},
     "output_type": "execute_result"
    }
   ],
   "source": [
    "dfexcel = pd.read_excel('./datos/clientes.xlsx') \n",
    "dfexcel"
   ]
  },
  {
   "cell_type": "code",
   "execution_count": 20,
   "metadata": {
    "ExecuteTime": {
     "end_time": "2018-10-16T14:22:20.226478Z",
     "start_time": "2018-10-16T14:22:20.204654Z"
    }
   },
   "outputs": [
    {
     "data": {
      "text/html": [
       "<div>\n",
       "<style scoped>\n",
       "    .dataframe tbody tr th:only-of-type {\n",
       "        vertical-align: middle;\n",
       "    }\n",
       "\n",
       "    .dataframe tbody tr th {\n",
       "        vertical-align: top;\n",
       "    }\n",
       "\n",
       "    .dataframe thead th {\n",
       "        text-align: right;\n",
       "    }\n",
       "</style>\n",
       "<table border=\"1\" class=\"dataframe\">\n",
       "  <thead>\n",
       "    <tr style=\"text-align: right;\">\n",
       "      <th></th>\n",
       "      <th>CODCLI</th>\n",
       "      <th>EUROS</th>\n",
       "      <th>MAX</th>\n",
       "    </tr>\n",
       "  </thead>\n",
       "  <tbody>\n",
       "    <tr>\n",
       "      <th>0</th>\n",
       "      <td>CLI-0001</td>\n",
       "      <td>89574</td>\n",
       "      <td>100000</td>\n",
       "    </tr>\n",
       "    <tr>\n",
       "      <th>1</th>\n",
       "      <td>CLI-0019</td>\n",
       "      <td>68752</td>\n",
       "      <td>80000</td>\n",
       "    </tr>\n",
       "    <tr>\n",
       "      <th>2</th>\n",
       "      <td>CLI-0020</td>\n",
       "      <td>63014</td>\n",
       "      <td>70000</td>\n",
       "    </tr>\n",
       "  </tbody>\n",
       "</table>\n",
       "</div>"
      ],
      "text/plain": [
       "     CODCLI  EUROS     MAX\n",
       "0  CLI-0001  89574  100000\n",
       "1  CLI-0019  68752   80000\n",
       "2  CLI-0020  63014   70000"
      ]
     },
     "execution_count": 20,
     "metadata": {},
     "output_type": "execute_result"
    }
   ],
   "source": [
    "dfexcel = pd.read_excel('./datos/clientes.xlsx', sheet_name = \"Hoja2\") \n",
    "dfexcel"
   ]
  },
  {
   "cell_type": "markdown",
   "metadata": {},
   "source": [
    "La función `pd.read_excel` es tan flexible como lo pueda ser la función `pd.read_csv` para ficheros de texto. Es posible saltar cabeceras, leer un número determinado de filas, leer solo algunas de las columnas contenidas en la hoja de cálculo, etc. Su funcionamiento varía dependiendo de los valores de los argumentos cuando se invoca la función. \n",
    "\n",
    "En el siguiente ejemplo aplicamos una función de conversión (función `funtitle` previamente definida) a los valores contenidos en la columna `NOMCLI` de la primera hoja del fichero."
   ]
  },
  {
   "cell_type": "code",
   "execution_count": 21,
   "metadata": {
    "ExecuteTime": {
     "end_time": "2018-10-16T14:22:32.450053Z",
     "start_time": "2018-10-16T14:22:32.428235Z"
    }
   },
   "outputs": [
    {
     "data": {
      "text/html": [
       "<div>\n",
       "<style scoped>\n",
       "    .dataframe tbody tr th:only-of-type {\n",
       "        vertical-align: middle;\n",
       "    }\n",
       "\n",
       "    .dataframe tbody tr th {\n",
       "        vertical-align: top;\n",
       "    }\n",
       "\n",
       "    .dataframe thead th {\n",
       "        text-align: right;\n",
       "    }\n",
       "</style>\n",
       "<table border=\"1\" class=\"dataframe\">\n",
       "  <thead>\n",
       "    <tr style=\"text-align: right;\">\n",
       "      <th></th>\n",
       "      <th>CODCLI</th>\n",
       "      <th>NOMCLI</th>\n",
       "      <th>SEXO</th>\n",
       "    </tr>\n",
       "  </thead>\n",
       "  <tbody>\n",
       "    <tr>\n",
       "      <th>0</th>\n",
       "      <td>CLI-0001</td>\n",
       "      <td>Rosa Elvira</td>\n",
       "      <td>F</td>\n",
       "    </tr>\n",
       "    <tr>\n",
       "      <th>1</th>\n",
       "      <td>CLI-0003</td>\n",
       "      <td>Miguel Angel</td>\n",
       "      <td>M</td>\n",
       "    </tr>\n",
       "    <tr>\n",
       "      <th>2</th>\n",
       "      <td>CLI-0004</td>\n",
       "      <td>Ana Maria</td>\n",
       "      <td>F</td>\n",
       "    </tr>\n",
       "    <tr>\n",
       "      <th>3</th>\n",
       "      <td>CLI-0013</td>\n",
       "      <td>Briggitte</td>\n",
       "      <td>F</td>\n",
       "    </tr>\n",
       "    <tr>\n",
       "      <th>4</th>\n",
       "      <td>CLI-0018</td>\n",
       "      <td>Saulo Andre</td>\n",
       "      <td>M</td>\n",
       "    </tr>\n",
       "    <tr>\n",
       "      <th>5</th>\n",
       "      <td>CLI-0020</td>\n",
       "      <td>Monica</td>\n",
       "      <td>F</td>\n",
       "    </tr>\n",
       "  </tbody>\n",
       "</table>\n",
       "</div>"
      ],
      "text/plain": [
       "     CODCLI        NOMCLI SEXO\n",
       "0  CLI-0001   Rosa Elvira    F\n",
       "1  CLI-0003  Miguel Angel    M\n",
       "2  CLI-0004     Ana Maria    F\n",
       "3  CLI-0013    Briggitte     F\n",
       "4  CLI-0018   Saulo Andre    M\n",
       "5  CLI-0020        Monica    F"
      ]
     },
     "execution_count": 21,
     "metadata": {},
     "output_type": "execute_result"
    }
   ],
   "source": [
    "def funtitle(cadena):\n",
    "    return cadena.title()\n",
    "\n",
    "\n",
    "\n",
    "def transforma_sexo(valor):\n",
    "    if valor == 'F':\n",
    "        return 'Mujer'\n",
    "    elif valor =='M':\n",
    "        return 'Hombre'\n",
    "    else:\n",
    "        return valor\n",
    "\n",
    "dfexcel = pd.read_excel('./datos/clientes.xlsx', \n",
    "                        converters = {'NOMCLI': funtitle}) \n",
    "dfexcel"
   ]
  },
  {
   "cell_type": "markdown",
   "metadata": {},
   "source": [
    "O lo que es lo mismo, pero usando funciones anónimas:"
   ]
  },
  {
   "cell_type": "code",
   "execution_count": 22,
   "metadata": {},
   "outputs": [
    {
     "data": {
      "text/html": [
       "<div>\n",
       "<style scoped>\n",
       "    .dataframe tbody tr th:only-of-type {\n",
       "        vertical-align: middle;\n",
       "    }\n",
       "\n",
       "    .dataframe tbody tr th {\n",
       "        vertical-align: top;\n",
       "    }\n",
       "\n",
       "    .dataframe thead th {\n",
       "        text-align: right;\n",
       "    }\n",
       "</style>\n",
       "<table border=\"1\" class=\"dataframe\">\n",
       "  <thead>\n",
       "    <tr style=\"text-align: right;\">\n",
       "      <th></th>\n",
       "      <th>CODCLI</th>\n",
       "      <th>NOMCLI</th>\n",
       "      <th>SEXO</th>\n",
       "    </tr>\n",
       "  </thead>\n",
       "  <tbody>\n",
       "    <tr>\n",
       "      <th>0</th>\n",
       "      <td>CLI-0001</td>\n",
       "      <td>Rosa Elvira</td>\n",
       "      <td>F</td>\n",
       "    </tr>\n",
       "    <tr>\n",
       "      <th>1</th>\n",
       "      <td>CLI-0003</td>\n",
       "      <td>Miguel Angel</td>\n",
       "      <td>M</td>\n",
       "    </tr>\n",
       "    <tr>\n",
       "      <th>2</th>\n",
       "      <td>CLI-0004</td>\n",
       "      <td>Ana Maria</td>\n",
       "      <td>F</td>\n",
       "    </tr>\n",
       "    <tr>\n",
       "      <th>3</th>\n",
       "      <td>CLI-0013</td>\n",
       "      <td>Briggitte</td>\n",
       "      <td>F</td>\n",
       "    </tr>\n",
       "    <tr>\n",
       "      <th>4</th>\n",
       "      <td>CLI-0018</td>\n",
       "      <td>Saulo Andre</td>\n",
       "      <td>M</td>\n",
       "    </tr>\n",
       "    <tr>\n",
       "      <th>5</th>\n",
       "      <td>CLI-0020</td>\n",
       "      <td>Monica</td>\n",
       "      <td>F</td>\n",
       "    </tr>\n",
       "  </tbody>\n",
       "</table>\n",
       "</div>"
      ],
      "text/plain": [
       "     CODCLI        NOMCLI SEXO\n",
       "0  CLI-0001   Rosa Elvira    F\n",
       "1  CLI-0003  Miguel Angel    M\n",
       "2  CLI-0004     Ana Maria    F\n",
       "3  CLI-0013    Briggitte     F\n",
       "4  CLI-0018   Saulo Andre    M\n",
       "5  CLI-0020        Monica    F"
      ]
     },
     "execution_count": 22,
     "metadata": {},
     "output_type": "execute_result"
    }
   ],
   "source": [
    "dfexcel = pd.read_excel('./datos/clientes.xlsx', \n",
    "                      converters = {'NOMCLI': lambda x: x.title() }) \n",
    "dfexcel"
   ]
  },
  {
   "cell_type": "markdown",
   "metadata": {},
   "source": [
    "El argumento `converters` recibe como valor un diccionario, cuyas claves son las columnas sobre las que se va a aplicar una función de conversión. El valor asociado a cada clave es la función a aplicar."
   ]
  },
  {
   "cell_type": "markdown",
   "metadata": {},
   "source": [
    "El argumento `na_values` permite sustituir valores contenidos en la hoja de cálculo por `NaN`.  Dicho argumento recibe un diccionario, cuyas claves son las columnas sobre las que se va a aplicar la sustitución, y el valor de cada clave es la lista de valores que han de ser sustituidos por NaN. \n",
    "\n",
    "<img src=\"./images/imagenExcel2.jpg\">\n"
   ]
  },
  {
   "cell_type": "markdown",
   "metadata": {},
   "source": [
    "La columna `TLF` tiene valor `-` en aquellas celdas donde no se conoce el dato, mientras  que la columna `SEXO` tiene celdas con valor `Desconocido`. También podemos observar que la columna `NOMCLI` tiene una celda vacía. En el siguiente ejemplo mostramos cómo manejar estas situaciones:"
   ]
  },
  {
   "cell_type": "code",
   "execution_count": 20,
   "metadata": {
    "ExecuteTime": {
     "end_time": "2018-10-16T14:22:51.242319Z",
     "start_time": "2018-10-16T14:22:51.218511Z"
    }
   },
   "outputs": [
    {
     "data": {
      "text/html": [
       "<div>\n",
       "<style scoped>\n",
       "    .dataframe tbody tr th:only-of-type {\n",
       "        vertical-align: middle;\n",
       "    }\n",
       "\n",
       "    .dataframe tbody tr th {\n",
       "        vertical-align: top;\n",
       "    }\n",
       "\n",
       "    .dataframe thead th {\n",
       "        text-align: right;\n",
       "    }\n",
       "</style>\n",
       "<table border=\"1\" class=\"dataframe\">\n",
       "  <thead>\n",
       "    <tr style=\"text-align: right;\">\n",
       "      <th></th>\n",
       "      <th>CODCLI</th>\n",
       "      <th>NOMCLI</th>\n",
       "      <th>SEXO</th>\n",
       "      <th>TLF</th>\n",
       "    </tr>\n",
       "  </thead>\n",
       "  <tbody>\n",
       "    <tr>\n",
       "      <th>0</th>\n",
       "      <td>CLI-0001</td>\n",
       "      <td>ROSA ELVIRA</td>\n",
       "      <td>F</td>\n",
       "      <td>7578.0</td>\n",
       "    </tr>\n",
       "    <tr>\n",
       "      <th>1</th>\n",
       "      <td>CLI-0003</td>\n",
       "      <td>MIGUEL ANGEL</td>\n",
       "      <td>NaN</td>\n",
       "      <td>NaN</td>\n",
       "    </tr>\n",
       "    <tr>\n",
       "      <th>2</th>\n",
       "      <td>CLI-0004</td>\n",
       "      <td>ANA MARIA</td>\n",
       "      <td>NaN</td>\n",
       "      <td>NaN</td>\n",
       "    </tr>\n",
       "    <tr>\n",
       "      <th>3</th>\n",
       "      <td>CLI-0013</td>\n",
       "      <td>BRIGGITTE</td>\n",
       "      <td>F</td>\n",
       "      <td>NaN</td>\n",
       "    </tr>\n",
       "    <tr>\n",
       "      <th>4</th>\n",
       "      <td>CLI-0018</td>\n",
       "      <td>SAULO ANDRE</td>\n",
       "      <td>M</td>\n",
       "      <td>NaN</td>\n",
       "    </tr>\n",
       "    <tr>\n",
       "      <th>5</th>\n",
       "      <td>CLI-0020</td>\n",
       "      <td>NaN</td>\n",
       "      <td>F</td>\n",
       "      <td>7600.0</td>\n",
       "    </tr>\n",
       "  </tbody>\n",
       "</table>\n",
       "</div>"
      ],
      "text/plain": [
       "     CODCLI        NOMCLI SEXO     TLF\n",
       "0  CLI-0001   ROSA ELVIRA    F  7578.0\n",
       "1  CLI-0003  MIGUEL ANGEL  NaN     NaN\n",
       "2  CLI-0004     ANA MARIA  NaN     NaN\n",
       "3  CLI-0013    BRIGGITTE     F     NaN\n",
       "4  CLI-0018   SAULO ANDRE    M     NaN\n",
       "5  CLI-0020           NaN    F  7600.0"
      ]
     },
     "execution_count": 20,
     "metadata": {},
     "output_type": "execute_result"
    }
   ],
   "source": [
    "dfexcel = pd.read_excel('./datos/clientes1.xlsx', \n",
    "                      na_values = {'SEXO': ['Desconocido'],\n",
    "                                   'TLF' : ['-'] } ) \n",
    "dfexcel"
   ]
  },
  {
   "cell_type": "markdown",
   "metadata": {},
   "source": [
    "Las celdas vacías en la hoja de cálculo se transforman automáticamente en `NaN` en el dataframe."
   ]
  },
  {
   "cell_type": "markdown",
   "metadata": {},
   "source": [
    "### Escritura en ficheros Excel"
   ]
  },
  {
   "cell_type": "markdown",
   "metadata": {},
   "source": [
    "Pandas también ofrece la posibilidad de escribir los datos incluídos en un DataFrame en\n",
    "una hoja de un fichero Excel. Para ello usamos el método `to_excel` de la clase `DataFrame` indicando el nombre del fichero. Los argumentos `header` e `index` , discutidos en el caso del método `to_csv`, también están disponibles aquí."
   ]
  },
  {
   "cell_type": "code",
   "execution_count": 27,
   "metadata": {},
   "outputs": [],
   "source": [
    "dfexcel.to_excel('clientes4.xlsx', index = False)"
   ]
  },
  {
   "cell_type": "markdown",
   "metadata": {},
   "source": [
    "Se puede observar que los valores `NAN` del dataframe pasan a ser celdas vacías en la hoja de cálculo, pudiéndose usar el argumento `na_rep` para cambiar el comportamiento."
   ]
  },
  {
   "cell_type": "markdown",
   "metadata": {},
   "source": [
    "<img src=\"./images/imagenExcel3.jpg\">"
   ]
  },
  {
   "cell_type": "markdown",
   "metadata": {},
   "source": [
    "En el siguiente ejemplo usamos el argumento `sheet_name` para asignar un nombre a la hoja de cálculo creada entro del fichero y el argumento `columns` para indicar el subconjunto de columnas que queremos llevar a la hoja de cálculo. "
   ]
  },
  {
   "cell_type": "code",
   "execution_count": 28,
   "metadata": {},
   "outputs": [],
   "source": [
    "dfexcel.to_excel('clientes5.xlsx', index = False, \n",
    "                   sheet_name='mis datos', \n",
    "                   columns = ['NOMCLI', 'SEXO'],\n",
    "                   na_rep='--')"
   ]
  },
  {
   "cell_type": "markdown",
   "metadata": {},
   "source": [
    "<img src=\"./images/imagenExcel4.jpg\">"
   ]
  },
  {
   "cell_type": "markdown",
   "metadata": {},
   "source": [
    "## Referencias\n",
    "\n"
   ]
  },
  {
   "cell_type": "markdown",
   "metadata": {},
   "source": [
    "* Otras librerías para tratamiento de documentos Excel: openpyxl, xlrd, xlutils y pyexcel.\n",
    "\n",
    "* [Big Data. Análisis de datos con Python. Sarasa Cabezuelo, Antonio; García Ruiz, Yolanda Aditorial Garceta. ISBN: 978-84-1622-883-6](http://www.garceta.es/libro.php?ISBN=978-84-1622-883-6)\n",
    "\n",
    "* [Python for Data Analysis](http://shop.oreilly.com/product/0636920023784.do)\n",
    "\n",
    "------"
   ]
  },
  {
   "cell_type": "markdown",
   "metadata": {
    "collapsed": true
   },
   "source": [
    "------------"
   ]
  }
 ],
 "metadata": {
  "anaconda-cloud": {},
  "kernelspec": {
   "display_name": "Python 3",
   "language": "python",
   "name": "python3"
  },
  "language_info": {
   "codemirror_mode": {
    "name": "ipython",
    "version": 3
   },
   "file_extension": ".py",
   "mimetype": "text/x-python",
   "name": "python",
   "nbconvert_exporter": "python",
   "pygments_lexer": "ipython3",
   "version": "3.7.3"
  },
  "nbTranslate": {
   "displayLangs": [
    "en",
    "es"
   ],
   "hotkey": "alt-t",
   "langInMainMenu": true,
   "sourceLang": "es",
   "targetLang": "en",
   "useGoogleTranslate": true
  },
  "toc": {
   "base_numbering": 1,
   "nav_menu": {
    "height": "394px",
    "width": "252px"
   },
   "number_sections": true,
   "sideBar": true,
   "skip_h1_title": false,
   "title_cell": "Table of Contents",
   "title_sidebar": "Contents",
   "toc_cell": false,
   "toc_position": {
    "height": "543px",
    "left": "0px",
    "right": "1010px",
    "top": "119px",
    "width": "356px"
   },
   "toc_section_display": "block",
   "toc_window_display": true
  }
 },
 "nbformat": 4,
 "nbformat_minor": 1
}
