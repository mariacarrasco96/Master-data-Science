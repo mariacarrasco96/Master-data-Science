{
 "cells": [
  {
   "cell_type": "markdown",
   "metadata": {
    "toc": true
   },
   "source": [
    "<h1>Table of Contents<span class=\"tocSkip\"></span></h1>\n",
    "<div class=\"toc\"><ul class=\"toc-item\"><li><span><a href=\"#Las-Series-y-DataFrames-de-Pandas\" data-toc-modified-id=\"Las-Series-y-DataFrames-de-Pandas-1\"><span class=\"toc-item-num\">1&nbsp;&nbsp;</span>Las Series y DataFrames de Pandas</a></span><ul class=\"toc-item\"><li><span><a href=\"#Importar-librerías\" data-toc-modified-id=\"Importar-librerías-1.1\"><span class=\"toc-item-num\">1.1&nbsp;&nbsp;</span>Importar librerías</a></span></li><li><span><a href=\"#Estructuras-de-Datos-en-Pandas\" data-toc-modified-id=\"Estructuras-de-Datos-en-Pandas-1.2\"><span class=\"toc-item-num\">1.2&nbsp;&nbsp;</span>Estructuras de Datos en Pandas</a></span><ul class=\"toc-item\"><li><span><a href=\"#Series\" data-toc-modified-id=\"Series-1.2.1\"><span class=\"toc-item-num\">1.2.1&nbsp;&nbsp;</span>Series</a></span></li><li><span><a href=\"#La-clase-DataFrame\" data-toc-modified-id=\"La-clase-DataFrame-1.2.2\"><span class=\"toc-item-num\">1.2.2&nbsp;&nbsp;</span>La clase DataFrame</a></span></li></ul></li></ul></li></ul></div>"
   ]
  },
  {
   "cell_type": "markdown",
   "metadata": {},
   "source": [
    "# Las Series y DataFrames de Pandas"
   ]
  },
  {
   "cell_type": "markdown",
   "metadata": {},
   "source": [
    "La librería Pandas proporciona estructuras de datos de alto nivel que permiten representar series y tablas de datos, así como herramientas diseñadas específicamente para un tratamiento de datos rápido y sencillo. Está construida sobre los fundamentos de NumPy, adaptando las operaciones sobre arrays a las nuevas estructuras definidas en Pandas. Resulta especialmente útil cuando hay que trabajar con datos heterogéneos representados de forma tabular. \n",
    "\n",
    "> Empezó a desarrollarse en el año 2008 por Wes McKinney (McKinney, 2012) en un intento por conseguir una herramienta flexible y de alto rendimiento para el tratamiento de datos financieros. En el año 2012, Chang She comenzó a participar en el desarrollo de la librería. Actualmente Pandas forma parte de un proyecto en el que participan muchos desarrolladores. \n",
    "\n",
    "Pandas es actualmente una de las librerías de alto nivel de Python más utilizadas en las primeras etapas del proceso de análisis de datos, especialmente apropiada en aplicaciones estadísticas. \n",
    "\n",
    "Toda la información oficial de la librería se encuentra accesible en el enlace http://pandas.pydata.org.\n"
   ]
  },
  {
   "cell_type": "markdown",
   "metadata": {},
   "source": [
    "## Importar librerías"
   ]
  },
  {
   "cell_type": "markdown",
   "metadata": {},
   "source": [
    "En este capítulo trabajaremos principalmente con las librerías Pandas, NumPy y la librería básica para visualización Matplotlib. Importamos las tres librerías con alias `pd`, `np` y `plt` respectivamente:"
   ]
  },
  {
   "cell_type": "code",
   "execution_count": 5,
   "metadata": {
    "ExecuteTime": {
     "end_time": "2018-10-16T14:03:48.760336Z",
     "start_time": "2018-10-16T14:03:48.748927Z"
    }
   },
   "outputs": [],
   "source": [
    "# datos\n",
    "import numpy as np\n",
    "import pandas as pd\n",
    "\n",
    "# Visualización\n",
    "import matplotlib.pyplot as plt\n",
    "%matplotlib inline"
   ]
  },
  {
   "cell_type": "markdown",
   "metadata": {},
   "source": [
    "## Estructuras de Datos en Pandas"
   ]
  },
  {
   "cell_type": "markdown",
   "metadata": {},
   "source": [
    "En Pandas disponemos de varias estructuras de datos y métodos que nos ayudarán a manipular dichas estructuras de forma sencilla y eficiente. Las dos estructuras de datos principales vienen representadas por las clases _Series_ y _DataFrame_, capaces de representar series de datos y datos en forma tabular respectivamente.  "
   ]
  },
  {
   "cell_type": "markdown",
   "metadata": {},
   "source": [
    "### Series"
   ]
  },
  {
   "cell_type": "markdown",
   "metadata": {},
   "source": [
    "Un objeto del tipo `Series` puede verse como un objeto de tipo array de una dimensión que contiene datos de un cierto tipo y tiene asociado un índice. Este índice es un array de etiquetas cuyo tamaño coincide con el tamaño del array de datos. La constructora de series solo existe en Pandas\n",
    "\n",
    "A continuación creamos un objeto de tipo `Serie` mediante la función `pd.Series` y una lista de elementos:"
   ]
  },
  {
   "cell_type": "code",
   "execution_count": 6,
   "metadata": {
    "ExecuteTime": {
     "end_time": "2018-10-16T14:03:53.265278Z",
     "start_time": "2018-10-16T14:03:53.248911Z"
    }
   },
   "outputs": [
    {
     "data": {
      "text/plain": [
       "0    10\n",
       "1    20\n",
       "2    30\n",
       "3    40\n",
       "4   -10\n",
       "Name: Importe, dtype: int64"
      ]
     },
     "execution_count": 6,
     "metadata": {},
     "output_type": "execute_result"
    }
   ],
   "source": [
    "s = pd.Series([10, 20, 30, 40, -10], name = 'Importe')   \n",
    "s\n",
    "\n",
    "#me da informacion como de que tipo son los datos que almacena te dice qeu son enteros 64"
   ]
  },
  {
   "cell_type": "markdown",
   "metadata": {},
   "source": [
    "Como podemos observar, la serie `s` contiene elementos de tipo `int64` (columna de la derecha). Los elementos de la serie están indexados mediante un array de enteros comenzando desde el 0 (columna de la izquierda). Entre las propiedades de los objetos de tipo `Series` tenemos `index` y `values`, que representan el índice y los elementos de la serie:"
   ]
  },
  {
   "cell_type": "code",
   "execution_count": 9,
   "metadata": {
    "ExecuteTime": {
     "end_time": "2018-10-16T14:03:54.412100Z",
     "start_time": "2018-10-16T14:03:54.404659Z"
    }
   },
   "outputs": [
    {
     "data": {
      "text/plain": [
       "RangeIndex(start=0, stop=5, step=1)"
      ]
     },
     "execution_count": 9,
     "metadata": {},
     "output_type": "execute_result"
    }
   ],
   "source": [
    "s.index"
   ]
  },
  {
   "cell_type": "code",
   "execution_count": 10,
   "metadata": {
    "ExecuteTime": {
     "end_time": "2018-10-16T14:03:55.215172Z",
     "start_time": "2018-10-16T14:03:55.209220Z"
    }
   },
   "outputs": [
    {
     "data": {
      "text/plain": [
       "array([ 10,  20,  30,  40, -10])"
      ]
     },
     "execution_count": 10,
     "metadata": {},
     "output_type": "execute_result"
    }
   ],
   "source": [
    "s.values\n",
    "#es de tipo array"
   ]
  },
  {
   "cell_type": "markdown",
   "metadata": {},
   "source": [
    "Una de las ventajas de trabajar con objetos de tipo `Series`, es que es posible indexar cada elemento de la serie con un valor descriptivo o etiqueta. Por ejemplo, si nuestros datos representan la tasa de natalidad de distintas ciudades españolas, sería interesante usar el nombre de las ciudades cómo etiquetas del índice, en lugar de usar etiquetas de tipo `int`:"
   ]
  },
  {
   "cell_type": "code",
   "execution_count": 11,
   "metadata": {
    "ExecuteTime": {
     "end_time": "2018-10-16T14:03:56.375386Z",
     "start_time": "2018-10-16T14:03:56.368937Z"
    }
   },
   "outputs": [],
   "source": [
    "nat = pd.Series([10.7, 7.5, 7.1, 17.8, 7.9 ],  \n",
    "               index=['Murcia','Cantabria', 'Murcia', 'Melilla','Canarias' ],\n",
    "               name = 'Tasa de Natalidad')   \n",
    "\n",
    "#quiero representar la natalidad de cada una de estas ciudades, se repite murcia"
   ]
  },
  {
   "cell_type": "code",
   "execution_count": 12,
   "metadata": {
    "ExecuteTime": {
     "end_time": "2018-10-16T14:03:56.900184Z",
     "start_time": "2018-10-16T14:03:56.893737Z"
    }
   },
   "outputs": [
    {
     "data": {
      "text/plain": [
       "Murcia       10.7\n",
       "Cantabria     7.5\n",
       "Murcia        7.1\n",
       "Melilla      17.8\n",
       "Canarias      7.9\n",
       "Name: Tasa de Natalidad, dtype: float64"
      ]
     },
     "execution_count": 12,
     "metadata": {},
     "output_type": "execute_result"
    }
   ],
   "source": [
    "nat"
   ]
  },
  {
   "cell_type": "markdown",
   "metadata": {},
   "source": [
    "El argumento `name` de la función `pd.Series` permite asignar un nombre a la serie creada. Otra de las propiedades de las `Series` es `name`:"
   ]
  },
  {
   "cell_type": "code",
   "execution_count": 13,
   "metadata": {
    "ExecuteTime": {
     "end_time": "2018-10-16T14:03:57.965162Z",
     "start_time": "2018-10-16T14:03:57.960203Z"
    }
   },
   "outputs": [
    {
     "data": {
      "text/plain": [
       "'Tasa de Natalidad'"
      ]
     },
     "execution_count": 13,
     "metadata": {},
     "output_type": "execute_result"
    }
   ],
   "source": [
    "nat.name\n"
   ]
  },
  {
   "cell_type": "markdown",
   "metadata": {},
   "source": [
    "En este caso, tenemos dos procedimientos para acceder a los datos de una serie. El primero es mediante la etiqueta del índice y notación de corchetes, como en el caso de las listas o los arrays:"
   ]
  },
  {
   "cell_type": "code",
   "execution_count": 14,
   "metadata": {
    "ExecuteTime": {
     "end_time": "2018-10-16T14:03:59.018729Z",
     "start_time": "2018-10-16T14:03:59.010295Z"
    }
   },
   "outputs": [
    {
     "data": {
      "text/plain": [
       "Murcia    10.7\n",
       "Murcia     7.1\n",
       "Name: Tasa de Natalidad, dtype: float64"
      ]
     },
     "execution_count": 14,
     "metadata": {},
     "output_type": "execute_result"
    }
   ],
   "source": [
    "nat['Murcia']"
   ]
  },
  {
   "cell_type": "code",
   "execution_count": 15,
   "metadata": {},
   "outputs": [
    {
     "data": {
      "text/plain": [
       "7.5"
      ]
     },
     "execution_count": 15,
     "metadata": {},
     "output_type": "execute_result"
    }
   ],
   "source": [
    "nat['Cantabria']\n",
    "#el tipo de da to que me devuelve es float sin embargo murcia te devuelve una serie"
   ]
  },
  {
   "cell_type": "code",
   "execution_count": 16,
   "metadata": {},
   "outputs": [
    {
     "data": {
      "text/plain": [
       "numpy.float64"
      ]
     },
     "execution_count": 16,
     "metadata": {},
     "output_type": "execute_result"
    }
   ],
   "source": [
    "type(nat['Cantabria'])"
   ]
  },
  {
   "cell_type": "markdown",
   "metadata": {},
   "source": [
    "El segundo es mediante la etiqueta del índice (siempre que sea un nombre válido en Python) como si fuera una propiedad de la serie:"
   ]
  },
  {
   "cell_type": "code",
   "execution_count": 17,
   "metadata": {
    "ExecuteTime": {
     "end_time": "2018-10-16T14:04:00.047990Z",
     "start_time": "2018-10-16T14:04:00.026661Z"
    }
   },
   "outputs": [
    {
     "data": {
      "text/plain": [
       "Murcia    10.7\n",
       "Murcia     7.1\n",
       "Name: Tasa de Natalidad, dtype: float64"
      ]
     },
     "execution_count": 17,
     "metadata": {},
     "output_type": "execute_result"
    }
   ],
   "source": [
    "nat.Murcia"
   ]
  },
  {
   "cell_type": "markdown",
   "metadata": {},
   "source": [
    "Está claro que los datos los podríamos haber representado con un array en lugar de una serie, pero como se puede ver, las series proporcionan mayor claridad en cuanto a los datos que contienen, la forma de acceso, etc. "
   ]
  },
  {
   "cell_type": "markdown",
   "metadata": {},
   "source": [
    "En cuanto a las operaciones con series, se mantienen muchas de las propiedades vistas para los arrays de NumPy. Por ejemplo, las operaciones aritméticas (`+`, `-` , `*` , `/ `) son vectorizadas, manteniéndose el valor del índice de la serie:"
   ]
  },
  {
   "cell_type": "code",
   "execution_count": 18,
   "metadata": {
    "ExecuteTime": {
     "end_time": "2018-10-16T14:04:06.379315Z",
     "start_time": "2018-10-16T14:04:06.122371Z"
    }
   },
   "outputs": [
    {
     "data": {
      "text/plain": [
       "Murcia       1070.0\n",
       "Cantabria     750.0\n",
       "Murcia        710.0\n",
       "Melilla      1780.0\n",
       "Canarias      790.0\n",
       "Name: Tasa de Natalidad, dtype: float64"
      ]
     },
     "execution_count": 18,
     "metadata": {},
     "output_type": "execute_result"
    }
   ],
   "source": [
    "nat * 100"
   ]
  },
  {
   "cell_type": "markdown",
   "metadata": {},
   "source": [
    "Las funciones definidas en la librería Numpy pueden ser utilizadas con series de Pandas. El argumento de la función puede ser una serie o un array."
   ]
  },
  {
   "cell_type": "code",
   "execution_count": 19,
   "metadata": {
    "ExecuteTime": {
     "end_time": "2018-10-16T14:04:19.566388Z",
     "start_time": "2018-10-16T14:04:19.557957Z"
    }
   },
   "outputs": [
    {
     "data": {
      "text/plain": [
       "Murcia       3.271085\n",
       "Cantabria    2.738613\n",
       "Murcia       2.664583\n",
       "Melilla      4.219005\n",
       "Canarias     2.810694\n",
       "Name: Tasa de Natalidad, dtype: float64"
      ]
     },
     "execution_count": 19,
     "metadata": {},
     "output_type": "execute_result"
    }
   ],
   "source": [
    "np.sqrt(nat)"
   ]
  },
  {
   "cell_type": "code",
   "execution_count": 20,
   "metadata": {},
   "outputs": [
    {
     "data": {
      "text/plain": [
       "17.8"
      ]
     },
     "execution_count": 20,
     "metadata": {},
     "output_type": "execute_result"
    }
   ],
   "source": [
    "nat.max()\n",
    "#me devuelve 17"
   ]
  },
  {
   "cell_type": "markdown",
   "metadata": {},
   "source": [
    "Otra de las operaciones que se aplican a los arrays de Numpy y que se extienden a las series de Pandas, es la selección de elementos usando arrays de tipo `bool`."
   ]
  },
  {
   "cell_type": "code",
   "execution_count": 21,
   "metadata": {
    "ExecuteTime": {
     "end_time": "2018-10-16T14:04:22.250404Z",
     "start_time": "2018-10-16T14:04:22.241479Z"
    }
   },
   "outputs": [
    {
     "data": {
      "text/plain": [
       "Murcia       False\n",
       "Cantabria     True\n",
       "Murcia        True\n",
       "Melilla      False\n",
       "Canarias      True\n",
       "Name: Tasa de Natalidad, dtype: bool"
      ]
     },
     "execution_count": 21,
     "metadata": {},
     "output_type": "execute_result"
    }
   ],
   "source": [
    "nat < 10"
   ]
  },
  {
   "cell_type": "code",
   "execution_count": 22,
   "metadata": {},
   "outputs": [
    {
     "data": {
      "text/plain": [
       "Murcia       10.7\n",
       "Cantabria     7.5\n",
       "Murcia        7.1\n",
       "Melilla      17.8\n",
       "Canarias      7.9\n",
       "Name: Tasa de Natalidad, dtype: float64"
      ]
     },
     "execution_count": 22,
     "metadata": {},
     "output_type": "execute_result"
    }
   ],
   "source": [
    "nat#compara con arriba\n",
    "#mucia es menor q 10? falso no lo cumple, se usa como filtro"
   ]
  },
  {
   "cell_type": "code",
   "execution_count": 23,
   "metadata": {
    "ExecuteTime": {
     "end_time": "2018-10-16T14:04:36.648166Z",
     "start_time": "2018-10-16T14:04:36.640231Z"
    }
   },
   "outputs": [
    {
     "data": {
      "text/plain": [
       "Cantabria    7.5\n",
       "Murcia       7.1\n",
       "Canarias     7.9\n",
       "Name: Tasa de Natalidad, dtype: float64"
      ]
     },
     "execution_count": 23,
     "metadata": {},
     "output_type": "execute_result"
    }
   ],
   "source": [
    "nat[nat < 10]"
   ]
  },
  {
   "cell_type": "markdown",
   "metadata": {},
   "source": [
    "La característica estrella de las series es el alineamiento de datos en base al valor de los índices en las operaciones entre dos series:"
   ]
  },
  {
   "cell_type": "code",
   "execution_count": 24,
   "metadata": {
    "ExecuteTime": {
     "end_time": "2018-10-16T14:04:47.358938Z",
     "start_time": "2018-10-16T14:04:47.352985Z"
    }
   },
   "outputs": [],
   "source": [
    "nach = pd.Series([2154, 8184, 10032, 780, 8177],  \n",
    "               index=['Cantabria', 'Canarias', \n",
    "                      'Galicia', 'Melilla', 'Murcia'],\n",
    "               name = 'Nacidos Hombres')    "
   ]
  },
  {
   "cell_type": "code",
   "execution_count": 25,
   "metadata": {
    "ExecuteTime": {
     "end_time": "2018-10-16T14:04:48.027586Z",
     "start_time": "2018-10-16T14:04:48.020641Z"
    }
   },
   "outputs": [],
   "source": [
    "nacm = pd.Series([7962, 2221,  730, 9395],  \n",
    "               index=['Canarias', 'Cantabria', 'Melilla',  'Galicia'],\n",
    "               name = 'Nacidas Mujeres')  "
   ]
  },
  {
   "cell_type": "code",
   "execution_count": 26,
   "metadata": {
    "ExecuteTime": {
     "end_time": "2018-10-16T14:04:48.667959Z",
     "start_time": "2018-10-16T14:04:48.661511Z"
    }
   },
   "outputs": [
    {
     "data": {
      "text/plain": [
       "Cantabria     2154\n",
       "Canarias      8184\n",
       "Galicia      10032\n",
       "Melilla        780\n",
       "Murcia        8177\n",
       "Name: Nacidos Hombres, dtype: int64"
      ]
     },
     "execution_count": 26,
     "metadata": {},
     "output_type": "execute_result"
    }
   ],
   "source": [
    "nach"
   ]
  },
  {
   "cell_type": "code",
   "execution_count": 27,
   "metadata": {
    "ExecuteTime": {
     "end_time": "2018-10-16T14:04:53.781034Z",
     "start_time": "2018-10-16T14:04:53.774587Z"
    }
   },
   "outputs": [
    {
     "data": {
      "text/plain": [
       "Canarias     7962\n",
       "Cantabria    2221\n",
       "Melilla       730\n",
       "Galicia      9395\n",
       "Name: Nacidas Mujeres, dtype: int64"
      ]
     },
     "execution_count": 27,
     "metadata": {},
     "output_type": "execute_result"
    }
   ],
   "source": [
    "nacm"
   ]
  },
  {
   "cell_type": "code",
   "execution_count": 29,
   "metadata": {
    "ExecuteTime": {
     "end_time": "2018-10-16T14:04:54.670415Z",
     "start_time": "2018-10-16T14:04:54.661488Z"
    }
   },
   "outputs": [
    {
     "data": {
      "text/plain": [
       "Canarias     16146.0\n",
       "Cantabria     4375.0\n",
       "Galicia      19427.0\n",
       "Melilla       1510.0\n",
       "Murcia           NaN\n",
       "dtype: float64"
      ]
     },
     "execution_count": 29,
     "metadata": {},
     "output_type": "execute_result"
    }
   ],
   "source": [
    "nach + nacm\n",
    "#si canarias esta en una tabla pero en la otra no entonces me devuelve NaN"
   ]
  },
  {
   "cell_type": "markdown",
   "metadata": {},
   "source": [
    "El resultado de la operación anterior contiene el valor __NaN__. Este valor se usa para representar un campo vacío o desconocido. Es el equivalente al valor NULL del lenguaje SQL. En este caso, la serie `nach` tiene valor `8177` para la etiqueta `Murcia`, pero la serie `nacm` no contiene dicha etiqueta en su índice, por lo que la suma de ambos produce como resultado `NaN`."
   ]
  },
  {
   "cell_type": "markdown",
   "metadata": {},
   "source": [
    "__isnull y notnull__\n",
    "\n",
    "Los métodos `isnull` y `notnull` de la clase `Series` permiten identificar aquellas etiquetas en el índice asociadas a un valor `NaN`. Como resultado se obtiene una nueva serie cuyos valores son de tipo `Bool`."
   ]
  },
  {
   "cell_type": "code",
   "execution_count": 30,
   "metadata": {
    "ExecuteTime": {
     "end_time": "2018-10-16T14:05:32.535842Z",
     "start_time": "2018-10-16T14:05:32.526418Z"
    }
   },
   "outputs": [
    {
     "data": {
      "text/plain": [
       "Cantabria    False\n",
       "Canarias     False\n",
       "Galicia      False\n",
       "Melilla      False\n",
       "Murcia       False\n",
       "Name: Nacidos Hombres, dtype: bool"
      ]
     },
     "execution_count": 30,
     "metadata": {},
     "output_type": "execute_result"
    }
   ],
   "source": [
    "nach.isnull()\n",
    "#si quiero preguntar si un valor es nulo"
   ]
  },
  {
   "cell_type": "code",
   "execution_count": 32,
   "metadata": {
    "ExecuteTime": {
     "end_time": "2018-10-16T14:06:05.754670Z",
     "start_time": "2018-10-16T14:06:05.747723Z"
    }
   },
   "outputs": [
    {
     "data": {
      "text/plain": [
       "Canarias     True\n",
       "Cantabria    True\n",
       "Melilla      True\n",
       "Galicia      True\n",
       "Name: Nacidas Mujeres, dtype: bool"
      ]
     },
     "execution_count": 32,
     "metadata": {},
     "output_type": "execute_result"
    }
   ],
   "source": [
    "nacm.notnull()"
   ]
  },
  {
   "cell_type": "markdown",
   "metadata": {},
   "source": [
    "__Análisis descriptivo: mean, median, std, min, max, quantile, describe__\n",
    "\n",
    "El análisis descriptivo de los datos representados mediante una serie se puede realizar usando los métodos `mean` (media), `median` (mediana), `std`(desviación estándar), `min`(mínimo), `max`(máximo) y `quantile`(quantiles) o usando el métodos `describe` de la clase `Series`:"
   ]
  },
  {
   "cell_type": "code",
   "execution_count": 33,
   "metadata": {
    "ExecuteTime": {
     "end_time": "2018-10-16T14:06:16.793145Z",
     "start_time": "2018-10-16T14:06:16.787679Z"
    }
   },
   "outputs": [
    {
     "data": {
      "text/plain": [
       "(5865.4, 8177.0, 4114.478679006613)"
      ]
     },
     "execution_count": 33,
     "metadata": {},
     "output_type": "execute_result"
    }
   ],
   "source": [
    "nach.mean(), nach.median(), nach.std()"
   ]
  },
  {
   "cell_type": "code",
   "execution_count": 34,
   "metadata": {
    "ExecuteTime": {
     "end_time": "2018-10-16T14:06:18.419122Z",
     "start_time": "2018-10-16T14:06:18.402257Z"
    }
   },
   "outputs": [
    {
     "data": {
      "text/plain": [
       "count        5.000000\n",
       "mean      5865.400000\n",
       "std       4114.478679\n",
       "min        780.000000\n",
       "25%       2154.000000\n",
       "50%       8177.000000\n",
       "75%       8184.000000\n",
       "max      10032.000000\n",
       "Name: Nacidos Hombres, dtype: float64"
      ]
     },
     "execution_count": 34,
     "metadata": {},
     "output_type": "execute_result"
    }
   ],
   "source": [
    "nach.describe()\n",
    "#me da todos los estadisticos"
   ]
  },
  {
   "cell_type": "markdown",
   "metadata": {},
   "source": [
    "Como complemento a la información proporcionada por el método `describe`, la librería Pandas junto con Matplotlib permiten la creación de los gráficos más comunes en estadística descriptiva. Para crear un diagrama de barras (`bar`) escribimos lo siguiente:"
   ]
  },
  {
   "cell_type": "code",
   "execution_count": 40,
   "metadata": {
    "ExecuteTime": {
     "end_time": "2018-10-16T14:06:45.086177Z",
     "start_time": "2018-10-16T14:06:44.811874Z"
    }
   },
   "outputs": [
    {
     "data": {
      "text/plain": [
       "<matplotlib.axes._subplots.AxesSubplot at 0x1226b2be0>"
      ]
     },
     "execution_count": 40,
     "metadata": {},
     "output_type": "execute_result"
    },
    {
     "data": {
      "image/png": "[encoded data removed]",
      "text/plain": [
       "<Figure size 648x216 with 1 Axes>"
      ]
     },
     "metadata": {
      "needs_background": "light"
     },
     "output_type": "display_data"
    }
   ],
   "source": [
    "figura, ax1 = plt.subplots(1,  figsize = (9,3))\n",
    "nach.plot(ax=ax1, kind = 'bar', title = 'Diagrama de barras - Hombres')"
   ]
  },
  {
   "cell_type": "markdown",
   "metadata": {},
   "source": [
    "__`unique` y `value_counts`__\n",
    "\n",
    "La gestión de valores duplicados se realiza mediante los métodos `unique` y `value_counts` de la clase `Series`. El método `unique` devuelve un array con los valores de la serie sin duplicados. A continuación creamos una serie con valores duplicados:"
   ]
  },
  {
   "cell_type": "code",
   "execution_count": 36,
   "metadata": {
    "ExecuteTime": {
     "end_time": "2018-10-16T14:07:42.339920Z",
     "start_time": "2018-10-16T14:07:42.327524Z"
    }
   },
   "outputs": [],
   "source": [
    "pos = pd.Series(['Sur', 'Norte',  'Sur', 'Norte', 'Este'],  \n",
    "               index=['Cádiz', 'Cantabria', 'Melilla',  'Galicia', 'Valencia'])"
   ]
  },
  {
   "cell_type": "code",
   "execution_count": 37,
   "metadata": {
    "ExecuteTime": {
     "end_time": "2018-10-16T14:07:43.009066Z",
     "start_time": "2018-10-16T14:07:43.002120Z"
    }
   },
   "outputs": [
    {
     "data": {
      "text/plain": [
       "Cádiz          Sur\n",
       "Cantabria    Norte\n",
       "Melilla        Sur\n",
       "Galicia      Norte\n",
       "Valencia      Este\n",
       "dtype: object"
      ]
     },
     "execution_count": 37,
     "metadata": {},
     "output_type": "execute_result"
    }
   ],
   "source": [
    "pos"
   ]
  },
  {
   "cell_type": "code",
   "execution_count": 38,
   "metadata": {
    "ExecuteTime": {
     "end_time": "2018-10-16T14:07:43.652416Z",
     "start_time": "2018-10-16T14:07:43.644979Z"
    }
   },
   "outputs": [
    {
     "data": {
      "text/plain": [
       "array(['Sur', 'Norte', 'Este'], dtype=object)"
      ]
     },
     "execution_count": 38,
     "metadata": {},
     "output_type": "execute_result"
    }
   ],
   "source": [
    "pos.unique()"
   ]
  },
  {
   "cell_type": "markdown",
   "metadata": {},
   "source": [
    "Por otro lado, el método `value_counts` devuelve la frecuencia de cada uno de los valores de una serie:"
   ]
  },
  {
   "cell_type": "code",
   "execution_count": 39,
   "metadata": {
    "ExecuteTime": {
     "end_time": "2018-10-16T14:07:45.581475Z",
     "start_time": "2018-10-16T14:07:45.574037Z"
    }
   },
   "outputs": [
    {
     "data": {
      "text/plain": [
       "Norte    2\n",
       "Sur      2\n",
       "Este     1\n",
       "dtype: int64"
      ]
     },
     "execution_count": 39,
     "metadata": {},
     "output_type": "execute_result"
    }
   ],
   "source": [
    "pos.value_counts()\n",
    "#te da las cifras o apariciones de cada valor, interesante para saber cuantas mujeres y cuantos hombres hay de. acda valor"
   ]
  },
  {
   "cell_type": "markdown",
   "metadata": {},
   "source": [
    "### La clase DataFrame"
   ]
  },
  {
   "cell_type": "markdown",
   "metadata": {},
   "source": [
    "La clase `DataFrame` está diseñada para manejar datos representados en forma de tabla, donde tanto las filas como las columnas están indexadas. Los objetos de tipo `DataFrame` pueden verse como una colección ordenada de columnas, cada una de las cuales viene representada por un objeto de tipo `Series`, con su nombre y su índice. Cada columna tiene asociado un tipo de datos y todas las columnas comparten el mísmo índice. En este caso, usaremos el término *dataframe* para referirnos a los objetos de la clase `DataFrame`. \n",
    "\n",
    "Hay varias formas de crear  objetos de tipo `DataFrame` dependiendo de la procedencia de los datos. \n",
    "\n",
    "* Podemos usar la función `pd.DataFrame` si los datos se encuentran representados mediante una lista, un diccionario (de listas o de arrays), una `Serie` o incluso otro `DataFrame`. \n",
    "\n",
    "* Si los datos en encuentran en un fichero, Pandas proporciona las funciones `pd.read_csv`, `pd.read_excel` o  `pd.read_table` para la creación de `DataFrame`."
   ]
  },
  {
   "cell_type": "markdown",
   "metadata": {},
   "source": [
    "En el siguiente ejemplo usamos la función  `pd.DataFrame` para crear un `DataFrame` a partir de un diccionario:"
   ]
  },
  {
   "cell_type": "code",
   "execution_count": 41,
   "metadata": {
    "ExecuteTime": {
     "end_time": "2018-10-16T14:07:54.060608Z",
     "start_time": "2018-10-16T14:07:53.977771Z"
    }
   },
   "outputs": [
    {
     "data": {
      "text/html": [
       "<div>\n",
       "<style scoped>\n",
       "    .dataframe tbody tr th:only-of-type {\n",
       "        vertical-align: middle;\n",
       "    }\n",
       "\n",
       "    .dataframe tbody tr th {\n",
       "        vertical-align: top;\n",
       "    }\n",
       "\n",
       "    .dataframe thead th {\n",
       "        text-align: right;\n",
       "    }\n",
       "</style>\n",
       "<table border=\"1\" class=\"dataframe\">\n",
       "  <thead>\n",
       "    <tr style=\"text-align: right;\">\n",
       "      <th></th>\n",
       "      <th>Ciudades</th>\n",
       "      <th>Nacidos H</th>\n",
       "    </tr>\n",
       "  </thead>\n",
       "  <tbody>\n",
       "    <tr>\n",
       "      <th>0</th>\n",
       "      <td>Melilla</td>\n",
       "      <td>780</td>\n",
       "    </tr>\n",
       "    <tr>\n",
       "      <th>1</th>\n",
       "      <td>Canarias</td>\n",
       "      <td>8184</td>\n",
       "    </tr>\n",
       "    <tr>\n",
       "      <th>2</th>\n",
       "      <td>Galicia</td>\n",
       "      <td>10032</td>\n",
       "    </tr>\n",
       "    <tr>\n",
       "      <th>3</th>\n",
       "      <td>Cantabria</td>\n",
       "      <td>2154</td>\n",
       "    </tr>\n",
       "    <tr>\n",
       "      <th>4</th>\n",
       "      <td>Murcia</td>\n",
       "      <td>8177</td>\n",
       "    </tr>\n",
       "  </tbody>\n",
       "</table>\n",
       "</div>"
      ],
      "text/plain": [
       "    Ciudades  Nacidos H\n",
       "0    Melilla        780\n",
       "1   Canarias       8184\n",
       "2    Galicia      10032\n",
       "3  Cantabria       2154\n",
       "4     Murcia       8177"
      ]
     },
     "execution_count": 41,
     "metadata": {},
     "output_type": "execute_result"
    }
   ],
   "source": [
    "d = { 'Ciudades' : ['Melilla', 'Canarias', 'Galicia', 'Cantabria', 'Murcia'],\n",
    "      'Nacidos H': [780, 8184, 10032, 2154, 8177] }\n",
    "\n",
    "\n",
    "tabla = pd.DataFrame( data = d )\n",
    "tabla\n",
    "\n",
    "#d es el nombre del diccionario"
   ]
  },
  {
   "cell_type": "markdown",
   "metadata": {},
   "source": [
    "Las claves del diccionario forman el índice de las columnas. El valor de cada una de las claves del diccinario ha de ser una lista o un objeto de tipo  `ndarray` de igual longuitud. Al igual que las `Series`, los atributos `index` y `values` representan el índice y los datos del `DataFrame` respectivamente: "
   ]
  },
  {
   "cell_type": "code",
   "execution_count": 42,
   "metadata": {
    "ExecuteTime": {
     "end_time": "2018-10-16T14:08:00.739153Z",
     "start_time": "2018-10-16T14:08:00.733201Z"
    }
   },
   "outputs": [
    {
     "data": {
      "text/plain": [
       "RangeIndex(start=0, stop=5, step=1)"
      ]
     },
     "execution_count": 42,
     "metadata": {},
     "output_type": "execute_result"
    }
   ],
   "source": [
    "tabla.index"
   ]
  },
  {
   "cell_type": "code",
   "execution_count": 43,
   "metadata": {
    "ExecuteTime": {
     "end_time": "2018-10-16T14:08:04.664733Z",
     "start_time": "2018-10-16T14:08:04.657789Z"
    }
   },
   "outputs": [
    {
     "data": {
      "text/plain": [
       "array([['Melilla', 780],\n",
       "       ['Canarias', 8184],\n",
       "       ['Galicia', 10032],\n",
       "       ['Cantabria', 2154],\n",
       "       ['Murcia', 8177]], dtype=object)"
      ]
     },
     "execution_count": 43,
     "metadata": {},
     "output_type": "execute_result"
    }
   ],
   "source": [
    "tabla.values"
   ]
  },
  {
   "cell_type": "markdown",
   "metadata": {},
   "source": [
    "A diferencia de las series, que tienen un único índice, los dataframes tienen dos  índices. El primero es un índice común para todas las columnas y está asociado a cada una de las filas. El segundo índice contiene un array de etiquetas o nombres de columnas. La propiedad `columns` representa el índice de las columnas:"
   ]
  },
  {
   "cell_type": "code",
   "execution_count": 44,
   "metadata": {
    "ExecuteTime": {
     "end_time": "2018-10-16T14:08:07.505526Z",
     "start_time": "2018-10-16T14:08:07.499546Z"
    }
   },
   "outputs": [
    {
     "data": {
      "text/plain": [
       "Index(['Ciudades', 'Nacidos H'], dtype='object')"
      ]
     },
     "execution_count": 44,
     "metadata": {},
     "output_type": "execute_result"
    }
   ],
   "source": [
    "tabla.columns"
   ]
  },
  {
   "cell_type": "markdown",
   "metadata": {},
   "source": [
    "La función `pd.DataFrame` admite más argumentos, como por ejemplo los argumentos `index` y `columns` para crear el índice de las filas y columnas del `DataFrame` respectivamente. En el siguiente ejemplo creamos un `DataFrame` con datos acerca de la producción de mantequilla en miles de toneladas de ciertos paises en distintos años (fuente: http://ec.europa.eu/eurostat/web/agriculture/data/main-tables):"
   ]
  },
  {
   "cell_type": "code",
   "execution_count": 46,
   "metadata": {
    "ExecuteTime": {
     "end_time": "2018-10-16T14:08:57.892925Z",
     "start_time": "2018-10-16T14:08:57.871597Z"
    }
   },
   "outputs": [
    {
     "data": {
      "text/html": [
       "<div>\n",
       "<style scoped>\n",
       "    .dataframe tbody tr th:only-of-type {\n",
       "        vertical-align: middle;\n",
       "    }\n",
       "\n",
       "    .dataframe tbody tr th {\n",
       "        vertical-align: top;\n",
       "    }\n",
       "\n",
       "    .dataframe thead th {\n",
       "        text-align: right;\n",
       "    }\n",
       "</style>\n",
       "<table border=\"1\" class=\"dataframe\">\n",
       "  <thead>\n",
       "    <tr style=\"text-align: right;\">\n",
       "      <th></th>\n",
       "      <th>Desc</th>\n",
       "      <th>2004</th>\n",
       "      <th>2005</th>\n",
       "      <th>2006</th>\n",
       "      <th>Tipo</th>\n",
       "    </tr>\n",
       "  </thead>\n",
       "  <tbody>\n",
       "    <tr>\n",
       "      <th>EE</th>\n",
       "      <td>Estonia</td>\n",
       "      <td>8.40</td>\n",
       "      <td>7.70</td>\n",
       "      <td>6.70</td>\n",
       "      <td>A</td>\n",
       "    </tr>\n",
       "    <tr>\n",
       "      <th>IE</th>\n",
       "      <td>Ireland</td>\n",
       "      <td>193.50</td>\n",
       "      <td>227.76</td>\n",
       "      <td>221.05</td>\n",
       "      <td>B</td>\n",
       "    </tr>\n",
       "    <tr>\n",
       "      <th>EL</th>\n",
       "      <td>Greece</td>\n",
       "      <td>1.40</td>\n",
       "      <td>1.60</td>\n",
       "      <td>1.50</td>\n",
       "      <td>A</td>\n",
       "    </tr>\n",
       "    <tr>\n",
       "      <th>ES</th>\n",
       "      <td>Spain</td>\n",
       "      <td>50.52</td>\n",
       "      <td>58.90</td>\n",
       "      <td>46.72</td>\n",
       "      <td>C</td>\n",
       "    </tr>\n",
       "    <tr>\n",
       "      <th>FR</th>\n",
       "      <td>France</td>\n",
       "      <td>415.09</td>\n",
       "      <td>423.10</td>\n",
       "      <td>400.52</td>\n",
       "      <td>A</td>\n",
       "    </tr>\n",
       "  </tbody>\n",
       "</table>\n",
       "</div>"
      ],
      "text/plain": [
       "       Desc    2004    2005    2006 Tipo\n",
       "EE  Estonia    8.40    7.70    6.70    A\n",
       "IE  Ireland  193.50  227.76  221.05    B\n",
       "EL   Greece    1.40    1.60    1.50    A\n",
       "ES    Spain   50.52   58.90   46.72    C\n",
       "FR   France  415.09  423.10  400.52    A"
      ]
     },
     "execution_count": 46,
     "metadata": {},
     "output_type": "execute_result"
    }
   ],
   "source": [
    "tabla3 = pd.DataFrame( data = [ ('Estonia', 8.4, 7.7, 6.7, 'A'), \n",
    "                                ('Ireland',193.5, 227.76, 221.05, 'B'),\n",
    "                                ('Greece',1.4,1.6,1.5, 'A'),\n",
    "                                ('Spain',50.52,58.9,46.72, 'C'),\n",
    "                                ('France',415.09,423.1,400.52, 'A') ],\n",
    "                       columns =  ['Desc', '2004', '2005', '2006', 'Tipo'], \n",
    "                       index = [ 'EE', 'IE', 'EL', 'ES', 'FR'])\n",
    "tabla3"
   ]
  },
  {
   "cell_type": "code",
   "execution_count": 54,
   "metadata": {},
   "outputs": [
    {
     "data": {
      "text/plain": [
       "EE      6.70\n",
       "IE    221.05\n",
       "EL      1.50\n",
       "ES     46.72\n",
       "FR    400.52\n",
       "Name: 2006, dtype: float64"
      ]
     },
     "execution_count": 54,
     "metadata": {},
     "output_type": "execute_result"
    }
   ],
   "source": [
    "tabla3['2006'] #sum()  #da error"
   ]
  },
  {
   "cell_type": "code",
   "execution_count": 57,
   "metadata": {},
   "outputs": [
    {
     "data": {
      "text/plain": [
       "EE      6.70\n",
       "IE    221.05\n",
       "EL      1.50\n",
       "ES     46.72\n",
       "FR    400.52\n",
       "Name: 2006, dtype: float64"
      ]
     },
     "execution_count": 57,
     "metadata": {},
     "output_type": "execute_result"
    }
   ],
   "source": [
    "tabla3['2006']= tabla3['2006'].map(float)\n",
    "tabla3['2006']"
   ]
  },
  {
   "cell_type": "code",
   "execution_count": null,
   "metadata": {},
   "outputs": [],
   "source": []
  },
  {
   "cell_type": "code",
   "execution_count": null,
   "metadata": {},
   "outputs": [],
   "source": []
  },
  {
   "cell_type": "markdown",
   "metadata": {},
   "source": [
    "__info__\n",
    "\n",
    "El método `info` de la clase `DataFrame` muestra información acerca del objeto `DataFrame` (el número de columnas, el número de filas, la cantidad de memoria usada), e información relativa a cada una de las columnas (el nombre de las columnas, su tipo y el número de valores distinto de `NaN`)."
   ]
  },
  {
   "cell_type": "code",
   "execution_count": 48,
   "metadata": {
    "ExecuteTime": {
     "end_time": "2018-10-16T14:09:10.702398Z",
     "start_time": "2018-10-16T14:09:10.689998Z"
    }
   },
   "outputs": [
    {
     "name": "stdout",
     "output_type": "stream",
     "text": [
      "<class 'pandas.core.frame.DataFrame'>\n",
      "Index: 5 entries, EE to FR\n",
      "Data columns (total 5 columns):\n",
      "Desc    5 non-null object\n",
      "2004    5 non-null float64\n",
      "2005    5 non-null float64\n",
      "2006    5 non-null float64\n",
      "Tipo    5 non-null object\n",
      "dtypes: float64(3), object(2)\n",
      "memory usage: 240.0+ bytes\n"
     ]
    }
   ],
   "source": [
    "tabla3.info()"
   ]
  },
  {
   "cell_type": "markdown",
   "metadata": {},
   "source": [
    "El método `describe` también se encuentra disponible en la clase `Dataframe`, mostrando los primeros estadísticos, lo que permite hacer un análisis de los datos en cada una de las columnas numéricas. "
   ]
  },
  {
   "cell_type": "code",
   "execution_count": 49,
   "metadata": {
    "ExecuteTime": {
     "end_time": "2018-10-16T14:09:10.993567Z",
     "start_time": "2018-10-16T14:09:10.953885Z"
    }
   },
   "outputs": [
    {
     "data": {
      "text/html": [
       "<div>\n",
       "<style scoped>\n",
       "    .dataframe tbody tr th:only-of-type {\n",
       "        vertical-align: middle;\n",
       "    }\n",
       "\n",
       "    .dataframe tbody tr th {\n",
       "        vertical-align: top;\n",
       "    }\n",
       "\n",
       "    .dataframe thead th {\n",
       "        text-align: right;\n",
       "    }\n",
       "</style>\n",
       "<table border=\"1\" class=\"dataframe\">\n",
       "  <thead>\n",
       "    <tr style=\"text-align: right;\">\n",
       "      <th></th>\n",
       "      <th>Desc</th>\n",
       "      <th>2004</th>\n",
       "      <th>2005</th>\n",
       "      <th>2006</th>\n",
       "      <th>Tipo</th>\n",
       "    </tr>\n",
       "  </thead>\n",
       "  <tbody>\n",
       "    <tr>\n",
       "      <th>count</th>\n",
       "      <td>5</td>\n",
       "      <td>5.000000</td>\n",
       "      <td>5.000000</td>\n",
       "      <td>5.000000</td>\n",
       "      <td>5</td>\n",
       "    </tr>\n",
       "    <tr>\n",
       "      <th>unique</th>\n",
       "      <td>5</td>\n",
       "      <td>NaN</td>\n",
       "      <td>NaN</td>\n",
       "      <td>NaN</td>\n",
       "      <td>3</td>\n",
       "    </tr>\n",
       "    <tr>\n",
       "      <th>top</th>\n",
       "      <td>Spain</td>\n",
       "      <td>NaN</td>\n",
       "      <td>NaN</td>\n",
       "      <td>NaN</td>\n",
       "      <td>A</td>\n",
       "    </tr>\n",
       "    <tr>\n",
       "      <th>freq</th>\n",
       "      <td>1</td>\n",
       "      <td>NaN</td>\n",
       "      <td>NaN</td>\n",
       "      <td>NaN</td>\n",
       "      <td>3</td>\n",
       "    </tr>\n",
       "    <tr>\n",
       "      <th>mean</th>\n",
       "      <td>NaN</td>\n",
       "      <td>133.782000</td>\n",
       "      <td>143.812000</td>\n",
       "      <td>135.298000</td>\n",
       "      <td>NaN</td>\n",
       "    </tr>\n",
       "    <tr>\n",
       "      <th>std</th>\n",
       "      <td>NaN</td>\n",
       "      <td>175.270242</td>\n",
       "      <td>180.976401</td>\n",
       "      <td>173.191749</td>\n",
       "      <td>NaN</td>\n",
       "    </tr>\n",
       "    <tr>\n",
       "      <th>min</th>\n",
       "      <td>NaN</td>\n",
       "      <td>1.400000</td>\n",
       "      <td>1.600000</td>\n",
       "      <td>1.500000</td>\n",
       "      <td>NaN</td>\n",
       "    </tr>\n",
       "    <tr>\n",
       "      <th>25%</th>\n",
       "      <td>NaN</td>\n",
       "      <td>8.400000</td>\n",
       "      <td>7.700000</td>\n",
       "      <td>6.700000</td>\n",
       "      <td>NaN</td>\n",
       "    </tr>\n",
       "    <tr>\n",
       "      <th>50%</th>\n",
       "      <td>NaN</td>\n",
       "      <td>50.520000</td>\n",
       "      <td>58.900000</td>\n",
       "      <td>46.720000</td>\n",
       "      <td>NaN</td>\n",
       "    </tr>\n",
       "    <tr>\n",
       "      <th>75%</th>\n",
       "      <td>NaN</td>\n",
       "      <td>193.500000</td>\n",
       "      <td>227.760000</td>\n",
       "      <td>221.050000</td>\n",
       "      <td>NaN</td>\n",
       "    </tr>\n",
       "    <tr>\n",
       "      <th>max</th>\n",
       "      <td>NaN</td>\n",
       "      <td>415.090000</td>\n",
       "      <td>423.100000</td>\n",
       "      <td>400.520000</td>\n",
       "      <td>NaN</td>\n",
       "    </tr>\n",
       "  </tbody>\n",
       "</table>\n",
       "</div>"
      ],
      "text/plain": [
       "         Desc        2004        2005        2006 Tipo\n",
       "count       5    5.000000    5.000000    5.000000    5\n",
       "unique      5         NaN         NaN         NaN    3\n",
       "top     Spain         NaN         NaN         NaN    A\n",
       "freq        1         NaN         NaN         NaN    3\n",
       "mean      NaN  133.782000  143.812000  135.298000  NaN\n",
       "std       NaN  175.270242  180.976401  173.191749  NaN\n",
       "min       NaN    1.400000    1.600000    1.500000  NaN\n",
       "25%       NaN    8.400000    7.700000    6.700000  NaN\n",
       "50%       NaN   50.520000   58.900000   46.720000  NaN\n",
       "75%       NaN  193.500000  227.760000  221.050000  NaN\n",
       "max       NaN  415.090000  423.100000  400.520000  NaN"
      ]
     },
     "execution_count": 49,
     "metadata": {},
     "output_type": "execute_result"
    }
   ],
   "source": [
    "tabla3.describe(include='all')"
   ]
  },
  {
   "cell_type": "markdown",
   "metadata": {},
   "source": [
    "Los datos mostrados son la media (`mean`),  la mediana (`median`), la desviación estándar(`std`), el minimo (`min`), el máximo (`max`) y los quantiles (`quantile`). "
   ]
  },
  {
   "cell_type": "code",
   "execution_count": 50,
   "metadata": {
    "ExecuteTime": {
     "end_time": "2018-10-16T14:09:16.098706Z",
     "start_time": "2018-10-16T14:09:15.844243Z"
    },
    "scrolled": true
   },
   "outputs": [
    {
     "data": {
      "image/png": "[encoded data removed]",
      "text/plain": [
       "<Figure size 648x216 with 1 Axes>"
      ]
     },
     "metadata": {
      "needs_background": "light"
     },
     "output_type": "display_data"
    }
   ],
   "source": [
    "figura, ax1 = plt.subplots(1, figsize = (9,3))\n",
    "\n",
    "tabla3.plot(ax=ax1, kind = 'bar', title = 'Producción de mantequilla')\n",
    "\n",
    "ax1.set_xlabel('Países de la UE')\n",
    "ax1.set_ylabel('Producción (x 1000 Toneladas)')\n",
    "\n",
    "ax1.set_xticklabels(tabla3.Desc);"
   ]
  },
  {
   "cell_type": "markdown",
   "metadata": {},
   "source": [
    "Al igual que en la clase `Series`, la clase `DataFrame` también dispone de métodos estadísticos (`mean`, `std`, `min`, etc). Estos métodos devuelven un valor solo para aquellas columnas numéricas del objeto  `DataFrame`."
   ]
  },
  {
   "cell_type": "code",
   "execution_count": 58,
   "metadata": {
    "ExecuteTime": {
     "end_time": "2018-10-16T14:09:49.083207Z",
     "start_time": "2018-10-16T14:09:49.073774Z"
    }
   },
   "outputs": [
    {
     "data": {
      "text/plain": [
       "Desc    Estonia\n",
       "2004        1.4\n",
       "2005        1.6\n",
       "2006        1.5\n",
       "Tipo          A\n",
       "dtype: object"
      ]
     },
     "execution_count": 58,
     "metadata": {},
     "output_type": "execute_result"
    }
   ],
   "source": [
    "tabla3.min()\n",
    "#min de cada columna numerica"
   ]
  },
  {
   "cell_type": "code",
   "execution_count": 59,
   "metadata": {
    "ExecuteTime": {
     "end_time": "2018-10-16T14:09:49.662066Z",
     "start_time": "2018-10-16T14:09:49.640737Z"
    }
   },
   "outputs": [
    {
     "data": {
      "text/plain": [
       "2004    175.270242\n",
       "2005    180.976401\n",
       "2006    173.191749\n",
       "dtype: float64"
      ]
     },
     "execution_count": 59,
     "metadata": {},
     "output_type": "execute_result"
    }
   ],
   "source": [
    "tabla3.std()"
   ]
  },
  {
   "cell_type": "markdown",
   "metadata": {},
   "source": [
    "Todas las operaciones estadísticas admiten el argumento `axis`, el cual permite operar bien sobre los datos de las columnas o bien sobre los datos en las filas. "
   ]
  },
  {
   "cell_type": "code",
   "execution_count": 60,
   "metadata": {
    "ExecuteTime": {
     "end_time": "2018-10-16T14:09:54.095579Z",
     "start_time": "2018-10-16T14:09:54.088140Z"
    }
   },
   "outputs": [
    {
     "data": {
      "text/plain": [
       "EE      22.80\n",
       "IE     642.31\n",
       "EL       4.50\n",
       "ES     156.14\n",
       "FR    1238.71\n",
       "dtype: float64"
      ]
     },
     "execution_count": 60,
     "metadata": {},
     "output_type": "execute_result"
    }
   ],
   "source": [
    "tabla3.sum(axis = 1)"
   ]
  },
  {
   "cell_type": "markdown",
   "metadata": {},
   "source": [
    "__transpose__\n",
    "\n",
    "Una operación muy interesante cuando tratamos con datos representados mediante dataframes, es la de trasponer, es decir, cambiar filas por columnas. Para trasponer un dataframe es necesario utilizar el atributo `T`."
   ]
  },
  {
   "cell_type": "code",
   "execution_count": 51,
   "metadata": {
    "ExecuteTime": {
     "end_time": "2018-10-16T14:10:03.650872Z",
     "start_time": "2018-10-16T14:10:03.636979Z"
    }
   },
   "outputs": [
    {
     "data": {
      "text/html": [
       "<div>\n",
       "<style scoped>\n",
       "    .dataframe tbody tr th:only-of-type {\n",
       "        vertical-align: middle;\n",
       "    }\n",
       "\n",
       "    .dataframe tbody tr th {\n",
       "        vertical-align: top;\n",
       "    }\n",
       "\n",
       "    .dataframe thead th {\n",
       "        text-align: right;\n",
       "    }\n",
       "</style>\n",
       "<table border=\"1\" class=\"dataframe\">\n",
       "  <thead>\n",
       "    <tr style=\"text-align: right;\">\n",
       "      <th></th>\n",
       "      <th>EE</th>\n",
       "      <th>IE</th>\n",
       "      <th>EL</th>\n",
       "      <th>ES</th>\n",
       "      <th>FR</th>\n",
       "    </tr>\n",
       "  </thead>\n",
       "  <tbody>\n",
       "    <tr>\n",
       "      <th>Desc</th>\n",
       "      <td>Estonia</td>\n",
       "      <td>Ireland</td>\n",
       "      <td>Greece</td>\n",
       "      <td>Spain</td>\n",
       "      <td>France</td>\n",
       "    </tr>\n",
       "    <tr>\n",
       "      <th>2004</th>\n",
       "      <td>8.4</td>\n",
       "      <td>193.5</td>\n",
       "      <td>1.4</td>\n",
       "      <td>50.52</td>\n",
       "      <td>415.09</td>\n",
       "    </tr>\n",
       "    <tr>\n",
       "      <th>2005</th>\n",
       "      <td>7.7</td>\n",
       "      <td>227.76</td>\n",
       "      <td>1.6</td>\n",
       "      <td>58.9</td>\n",
       "      <td>423.1</td>\n",
       "    </tr>\n",
       "    <tr>\n",
       "      <th>2006</th>\n",
       "      <td>6.7</td>\n",
       "      <td>221.05</td>\n",
       "      <td>1.5</td>\n",
       "      <td>46.72</td>\n",
       "      <td>400.52</td>\n",
       "    </tr>\n",
       "    <tr>\n",
       "      <th>Tipo</th>\n",
       "      <td>A</td>\n",
       "      <td>B</td>\n",
       "      <td>A</td>\n",
       "      <td>C</td>\n",
       "      <td>A</td>\n",
       "    </tr>\n",
       "  </tbody>\n",
       "</table>\n",
       "</div>"
      ],
      "text/plain": [
       "           EE       IE      EL     ES      FR\n",
       "Desc  Estonia  Ireland  Greece  Spain  France\n",
       "2004      8.4    193.5     1.4  50.52  415.09\n",
       "2005      7.7   227.76     1.6   58.9   423.1\n",
       "2006      6.7   221.05     1.5  46.72  400.52\n",
       "Tipo        A        B       A      C       A"
      ]
     },
     "execution_count": 51,
     "metadata": {},
     "output_type": "execute_result"
    }
   ],
   "source": [
    "tabla3.T"
   ]
  }
 ],
 "metadata": {
  "anaconda-cloud": {},
  "kernelspec": {
   "display_name": "Python 3",
   "language": "python",
   "name": "python3"
  },
  "language_info": {
   "codemirror_mode": {
    "name": "ipython",
    "version": 3
   },
   "file_extension": ".py",
   "mimetype": "text/x-python",
   "name": "python",
   "nbconvert_exporter": "python",
   "pygments_lexer": "ipython3",
   "version": "3.7.3"
  },
  "nbTranslate": {
   "displayLangs": [
    "en",
    "es"
   ],
   "hotkey": "alt-t",
   "langInMainMenu": true,
   "sourceLang": "es",
   "targetLang": "en",
   "useGoogleTranslate": true
  },
  "toc": {
   "base_numbering": 1,
   "nav_menu": {
    "height": "353px",
    "width": "252px"
   },
   "number_sections": true,
   "sideBar": true,
   "skip_h1_title": false,
   "title_cell": "Table of Contents",
   "title_sidebar": "Contents",
   "toc_cell": true,
   "toc_position": {
    "height": "543px",
    "left": "0px",
    "right": "948.333px",
    "top": "119px",
    "width": "190px"
   },
   "toc_section_display": "block",
   "toc_window_display": true
  }
 },
 "nbformat": 4,
 "nbformat_minor": 1
}
