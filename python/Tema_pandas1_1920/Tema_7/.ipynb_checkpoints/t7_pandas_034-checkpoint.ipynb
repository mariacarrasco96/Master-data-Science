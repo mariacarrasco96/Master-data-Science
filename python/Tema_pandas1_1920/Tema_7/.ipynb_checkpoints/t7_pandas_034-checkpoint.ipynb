{
 "cells": [
  {
   "cell_type": "markdown",
   "metadata": {},
   "source": [
    "<div id=\"navegacion\" prev=\"../Tema_7/t7_pandas_033.html\" next=\"../Ejercicios_Tema_7/ej52.html\"></div>\n",
    "\n",
    "<div class=\"section-title\">Sección 5.4</div>"
   ]
  },
  {
   "cell_type": "markdown",
   "metadata": {},
   "source": [
    "# Acceso a Bases de datos"
   ]
  },
  {
   "cell_type": "markdown",
   "metadata": {},
   "source": [
    "\n",
    "> Esta Sección tiene como objetivo mostrar las facilidades de Python para conectarse con bases de datos externas. Sin embargo para poder probar y reproducir éstos u otros ejemplos similares es necesario tener conocimientos previos de bases de datos (y en particular de MySQL y el lenguaje SQL), asi como tener acceso a una base de datos MySQL (`usuario/contraseña/puerto/host`). \n",
    "> <p style=\"color:red\">Por tanto, __su lectura es opcional__. </p>\n"
   ]
  },
  {
   "cell_type": "markdown",
   "metadata": {},
   "source": [
    "La gestión de la información mediante estructuras de ficheros no es siempre la forma más adecuada de almacenamiento de datos. Es por todos conocido que se pierden propiedades deseables como son, la integridad, la no redundancia, etc. Son muchas las aplicaciones que usan bases de datos como forma de almacenamiento, ya sean bases de datos relacionales, también conocidas como bases de datos SQL, como las aparecidas recientemente no relacionales o NoSQL. \n",
    "\n",
    "En esta sección mostramos cómo interacciona Pandas con una base de datos relacional (MySQL). "
   ]
  },
  {
   "cell_type": "code",
   "execution_count": 2,
   "metadata": {
    "collapsed": true
   },
   "outputs": [],
   "source": [
    "import pandas as pd\n",
    "import numpy as np"
   ]
  },
  {
   "cell_type": "markdown",
   "metadata": {},
   "source": [
    "## Bases de datos relacionales. MySQL"
   ]
  },
  {
   "cell_type": "markdown",
   "metadata": {},
   "source": [
    "En Python existe un mecanismo estándar para el acceso a bases de datos relacionales. En esta sección mostramos el procedimiento a seguir para realizar la conexión, lectura y escritura de datos desde Python. Este procedimiento será similar para otros sistemas gestores de bases de datos, y lo único que cambiará será la librería a utilizar para realizar la conexión.\n",
    "\n",
    "En el caso de MySQL, utilizaremos la librería `mysql.connector`. Si esta librería no está incluida con Anaconda, es necesrio instalarla antes de su importación, ya que no viene incluída en Anaconda."
   ]
  },
  {
   "cell_type": "code",
   "execution_count": 1,
   "metadata": {
    "collapsed": true
   },
   "outputs": [],
   "source": [
    "# conda install -c anaconda mysql-connector-python=2.0.4"
   ]
  },
  {
   "cell_type": "markdown",
   "metadata": {},
   "source": [
    "A continuación mostramos cómo establecer la conexión con una base de datos MySQL. En primer lugar tenemos que importar la librería  `mysql.connector`."
   ]
  },
  {
   "cell_type": "code",
   "execution_count": 2,
   "metadata": {
    "collapsed": false
   },
   "outputs": [],
   "source": [
    "import mysql.connector as sql"
   ]
  },
  {
   "cell_type": "markdown",
   "metadata": {},
   "source": [
    "La función `sql.connect`  permite establecer una conexión con la base de datos. Como argumentos de la función es necesario indicar el usuario, la contraseña, el nombre de la base de datos, el nombre del host y puerto."
   ]
  },
  {
   "cell_type": "code",
   "execution_count": 82,
   "metadata": {
    "collapsed": false
   },
   "outputs": [],
   "source": [
    "db_connection = sql.connect(host='127.0.0.1', \n",
    "                            port=3306, \n",
    "                            database='test', \n",
    "                            user='root', \n",
    "                            password='')"
   ]
  },
  {
   "cell_type": "markdown",
   "metadata": {},
   "source": [
    "La creación de un dataframe a partir de los datos almacenados en una base de datos relacional es muy simple utilizando las funciones que proporciona Pandas. La función `read_sql` permite ejecutar una consulta SQL pasada como argumento. El resultado, será un objeto de la clase `DataFrame`, con tantas columnas como atributos haya en la sentencia `select` y tantas tuplas como filas devueltas por la consulta."
   ]
  },
  {
   "cell_type": "code",
   "execution_count": 83,
   "metadata": {
    "collapsed": false
   },
   "outputs": [
    {
     "data": {
      "text/html": [
       "<div>\n",
       "<table border=\"1\" class=\"dataframe\">\n",
       "  <thead>\n",
       "    <tr style=\"text-align: right;\">\n",
       "      <th></th>\n",
       "      <th>lastName</th>\n",
       "      <th>salary</th>\n",
       "      <th>projects</th>\n",
       "    </tr>\n",
       "  </thead>\n",
       "  <tbody>\n",
       "    <tr>\n",
       "      <th>0</th>\n",
       "      <td>Patterson</td>\n",
       "      <td>23000</td>\n",
       "      <td>2</td>\n",
       "    </tr>\n",
       "    <tr>\n",
       "      <th>1</th>\n",
       "      <td>Firrelli</td>\n",
       "      <td>30000</td>\n",
       "      <td>3</td>\n",
       "    </tr>\n",
       "    <tr>\n",
       "      <th>2</th>\n",
       "      <td>Patterson</td>\n",
       "      <td>25000</td>\n",
       "      <td>1</td>\n",
       "    </tr>\n",
       "    <tr>\n",
       "      <th>3</th>\n",
       "      <td>Bondur</td>\n",
       "      <td>35000</td>\n",
       "      <td>4</td>\n",
       "    </tr>\n",
       "    <tr>\n",
       "      <th>4</th>\n",
       "      <td>Bow</td>\n",
       "      <td>20000</td>\n",
       "      <td>1</td>\n",
       "    </tr>\n",
       "    <tr>\n",
       "      <th>5</th>\n",
       "      <td>Jennings</td>\n",
       "      <td>26000</td>\n",
       "      <td>2</td>\n",
       "    </tr>\n",
       "  </tbody>\n",
       "</table>\n",
       "</div>"
      ],
      "text/plain": [
       "    lastName  salary  projects\n",
       "0  Patterson   23000         2\n",
       "1   Firrelli   30000         3\n",
       "2  Patterson   25000         1\n",
       "3     Bondur   35000         4\n",
       "4        Bow   20000         1\n",
       "5   Jennings   26000         2"
      ]
     },
     "execution_count": 83,
     "metadata": {},
     "output_type": "execute_result"
    }
   ],
   "source": [
    "df = pd.read_sql('select lastName, salary, projects from employees;', \n",
    "                  con=db_connection)\n",
    "df"
   ]
  },
  {
   "cell_type": "markdown",
   "metadata": {},
   "source": [
    "La operación inversa está a cargo del método `to_sql` de la clase `DataFrame`. "
   ]
  },
  {
   "cell_type": "code",
   "execution_count": 84,
   "metadata": {
    "collapsed": false
   },
   "outputs": [
    {
     "data": {
      "text/html": [
       "<div>\n",
       "<table border=\"1\" class=\"dataframe\">\n",
       "  <thead>\n",
       "    <tr style=\"text-align: right;\">\n",
       "      <th></th>\n",
       "      <th>lastName</th>\n",
       "      <th>salary</th>\n",
       "      <th>projects</th>\n",
       "    </tr>\n",
       "  </thead>\n",
       "  <tbody>\n",
       "    <tr>\n",
       "      <th>0</th>\n",
       "      <td>Patterson</td>\n",
       "      <td>23500</td>\n",
       "      <td>2</td>\n",
       "    </tr>\n",
       "    <tr>\n",
       "      <th>1</th>\n",
       "      <td>Firrelli</td>\n",
       "      <td>30500</td>\n",
       "      <td>3</td>\n",
       "    </tr>\n",
       "    <tr>\n",
       "      <th>2</th>\n",
       "      <td>Patterson</td>\n",
       "      <td>25500</td>\n",
       "      <td>1</td>\n",
       "    </tr>\n",
       "    <tr>\n",
       "      <th>3</th>\n",
       "      <td>Bondur</td>\n",
       "      <td>35500</td>\n",
       "      <td>4</td>\n",
       "    </tr>\n",
       "    <tr>\n",
       "      <th>4</th>\n",
       "      <td>Bow</td>\n",
       "      <td>20500</td>\n",
       "      <td>1</td>\n",
       "    </tr>\n",
       "    <tr>\n",
       "      <th>5</th>\n",
       "      <td>Jennings</td>\n",
       "      <td>26500</td>\n",
       "      <td>2</td>\n",
       "    </tr>\n",
       "  </tbody>\n",
       "</table>\n",
       "</div>"
      ],
      "text/plain": [
       "    lastName  salary  projects\n",
       "0  Patterson   23500         2\n",
       "1   Firrelli   30500         3\n",
       "2  Patterson   25500         1\n",
       "3     Bondur   35500         4\n",
       "4        Bow   20500         1\n",
       "5   Jennings   26500         2"
      ]
     },
     "execution_count": 84,
     "metadata": {},
     "output_type": "execute_result"
    }
   ],
   "source": [
    "df.salary = df.salary + 500 \n",
    "df"
   ]
  },
  {
   "cell_type": "code",
   "execution_count": 85,
   "metadata": {
    "collapsed": false
   },
   "outputs": [
    {
     "name": "stderr",
     "output_type": "stream",
     "text": [
      "C:\\Users\\Yoli\\Anaconda3\\lib\\site-packages\\pandas\\core\\generic.py:1165: FutureWarning: The 'mysql' flavor with DBAPI connection is deprecated and will be removed in future versions. MySQL will be further supported with SQLAlchemy connectables.\n",
      "  chunksize=chunksize, dtype=dtype)\n"
     ]
    }
   ],
   "source": [
    "df.to_sql('Nueva_tabla', con = db_connection, flavor = 'mysql', if_exists = 'replace')"
   ]
  },
  {
   "cell_type": "markdown",
   "metadata": {},
   "source": [
    "El método `to_sql` recibe como argumento el nombre de la tabla de la base de datos donde se insertarán las tuplas del dataframe `df`. El argumento `if_exists` permite indicar que las filas ya existentes en la tabla han de reemplazarse."
   ]
  },
  {
   "cell_type": "markdown",
   "metadata": {},
   "source": [
    "Para finalizar, el método `close` cierra la conexión con la base de datos."
   ]
  },
  {
   "cell_type": "code",
   "execution_count": 86,
   "metadata": {
    "collapsed": true
   },
   "outputs": [],
   "source": [
    "db_connection.close()"
   ]
  },
  {
   "cell_type": "markdown",
   "metadata": {},
   "source": [
    "## Referencias"
   ]
  },
  {
   "cell_type": "markdown",
   "metadata": {},
   "source": [
    "* [Big Data. Análisis de datos con Python. Sarasa Cabezuelo, Antonio; García Ruiz, Yolanda Aditorial Garceta. ISBN: 978-84-1622-883-6](http://www.garceta.es/libro.php?ISBN=978-84-1622-883-6)\n",
    "\n",
    "* [Python for Data Analysis](http://shop.oreilly.com/product/0636920023784.do)\n",
    "\n",
    "\n",
    "------"
   ]
  }
 ],
 "metadata": {
  "anaconda-cloud": {},
  "kernelspec": {
   "display_name": "Python 3",
   "language": "python",
   "name": "python3"
  },
  "language_info": {
   "codemirror_mode": {
    "name": "ipython",
    "version": 3
   },
   "file_extension": ".py",
   "mimetype": "text/x-python",
   "name": "python",
   "nbconvert_exporter": "python",
   "pygments_lexer": "ipython3",
   "version": "3.6.0"
  },
  "toc": {
   "colors": {
    "hover_highlight": "#DAA520",
    "running_highlight": "#FF0000",
    "selected_highlight": "#FFD700"
   },
   "moveMenuLeft": true,
   "nav_menu": {
    "height": "394px",
    "width": "252px"
   },
   "navigate_menu": true,
   "number_sections": true,
   "sideBar": true,
   "threshold": 4,
   "toc_cell": false,
   "toc_section_display": "block",
   "toc_window_display": true,
   "widenNotebook": false
  }
 },
 "nbformat": 4,
 "nbformat_minor": 0
}
