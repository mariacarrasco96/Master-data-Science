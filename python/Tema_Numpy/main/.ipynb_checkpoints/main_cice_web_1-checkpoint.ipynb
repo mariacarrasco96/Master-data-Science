{
 "cells": [
  {
   "cell_type": "markdown",
   "metadata": {},
   "source": [
    "<img src=\"../logo/logo.jpg\">\n",
    "\n",
    "# MÁSTER EN BIG DATA Y ÁNALISIS DE DATOS\n",
    "\n"
   ]
  },
  {
   "cell_type": "markdown",
   "metadata": {},
   "source": [
    "## ANÁLISIS DE DATOS CON PYTHON"
   ]
  },
  {
   "cell_type": "markdown",
   "metadata": {},
   "source": [
    "\n",
    "### Tema 1. Introducción al lenguaje Python y a los entornos de desarrollo\n",
    "\n",
    "1.1. [Introducción](../Tema_1/t1_intro.html \"Intro\") \n",
    "\n",
    "1.2. [Entornos de desarrollo](../Tema_1/t1_entornos_desarrollo.html \"Entornos\")  \n",
    "\n",
    "1.3. [Instalar Python con Anaconda](../Tema_1/t1_instalacion_Anaconda.html \"Instalacion\")    \n",
    "\n",
    "1.4. [El notebook de IPython](../Tema_1/t1_jupyter_nb.html)  \n",
    "\n",
    "A continuación puedes ver un [video](https://www.youtube.com/watch?v=J5GevIHNctM) (de los muchos que puedes encontrar en la red) para familiarizarte con los entornos que hemos descrito en este tema.\n",
    "\n",
    "-----\n",
    "\n"
   ]
  },
  {
   "cell_type": "markdown",
   "metadata": {},
   "source": [
    "----"
   ]
  }
 ],
 "metadata": {
  "anaconda-cloud": {},
  "kernelspec": {
   "display_name": "Python [default]",
   "language": "python",
   "name": "python3"
  },
  "language_info": {
   "codemirror_mode": {
    "name": "ipython",
    "version": 3
   },
   "file_extension": ".py",
   "mimetype": "text/x-python",
   "name": "python",
   "nbconvert_exporter": "python",
   "pygments_lexer": "ipython3",
   "version": "3.5.2"
  }
 },
 "nbformat": 4,
 "nbformat_minor": 0
}
