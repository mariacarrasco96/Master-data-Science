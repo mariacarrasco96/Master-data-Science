{
 "cells": [
  {
   "cell_type": "markdown",
   "metadata": {},
   "source": [
    "# Programación en Python"
   ]
  },
  {
   "cell_type": "markdown",
   "metadata": {
    "collapsed": true
   },
   "source": [
    "### Tema 6. Pandas (Panel Data Set) "
   ]
  },
  {
   "cell_type": "markdown",
   "metadata": {},
   "source": [
    "6.1. [Las Series y DataFrames de Pandas](../Tema_7/t7_pandas_01.html)  ([nb](../Tema_7/t7_pandas_01.ipynb))\n",
    "\n",
    "6.2.  [Importar y exportar datos](../Tema_7/t7_load_data_dep.html)  ([nb](../Tema_7/t7_load_data_dep.ipynb))\n",
    "\n",
    "6.3. [Operaciones con Series y Dataframes](../Tema_7/t7_pandas_02B.html)  ([nb](../Tema_7/t7_pandas_02B.ipynb)) \n",
    "\n",
    "6.4. [Preparación y limpieza de los datos](../Tema_7/t7_cleaning_01.html) ([nb](../Tema_7/t7_cleaning_01.ipynb)) \n",
    "\n",
    "6.5. [Grupos y operaciones de agrupación](../Tema_7/t7_aggregation_01.html) ([nb](../Tema_7/t7_aggregation_01.ipynb))\n",
    "\n",
    "\n",
    "__Aplicacion en Pandas__\n",
    "\n",
    "* [Datos abiertos Junta Andalucía](../Tema_7/datos_andalucia/uso_pandas_01.html) ( [nb](../Tema_7/datos_andalucia/uso_pandas_01.ipynb) ) \n",
    "\n",
    "\n",
    "__Ejercicios__\n",
    "\n",
    "\n",
    "* [Ejercicios 5 - html](../Ejercicios_Tema_7/ej5.html) ( [Ejercicios 5 - notebook](../Ejercicios_Tema_7/ej5.ipynb) )\n",
    "\n",
    "\n",
    "* [Ejercicios 6 - html](../Ejercicios_Tema_7/ej6.html) ( [Ejercicios 6 - notebook](../Ejercicios_Tema_7/ej6.ipynb) )\n",
    "\n",
    "\n",
    "------"
   ]
  },
  {
   "cell_type": "markdown",
   "metadata": {},
   "source": [
    "### Tema 7 . Visualización de datos ll"
   ]
  },
  {
   "cell_type": "markdown",
   "metadata": {},
   "source": [
    "7.1. [Visualización](../Tema_8/Visualizacion.html)\n",
    "([nb](../Tema_8/Visualizacion.ipynb))\n",
    "\n",
    "7.2.  [El módulo MatplotLib y pandas](../Tema_8/t8_matplot_02.html)  ([nb](../Tema_8/t8_matplot_02.ipynb)) \n",
    "\n",
    "\n",
    "\n",
    "\n",
    "__Ejercicios__\n",
    "\n",
    "\n",
    "* [Ejercicios 7 - html](../Ejercicios_full/ej7.html) ( [Ejercicios 7 - notebook](../Ejercicios_full/ej7.ipynb) )\n",
    "\n",
    "------"
   ]
  },
  {
   "cell_type": "markdown",
   "metadata": {},
   "source": [
    "### Tema 8. Aprendizaje automático\n",
    "\n",
    "8.1. [ML con Scikit-learn](../Tema_11/t11_ml.ipynb)\n",
    "([nb](../Tema_11/t11_ml.ipynb)) "
   ]
  },
  {
   "cell_type": "markdown",
   "metadata": {},
   "source": [
    "### Referencias"
   ]
  },
  {
   "cell_type": "markdown",
   "metadata": {},
   "source": [
    "* [Librería gráfica matplotlib](http://matplotlib.org/)\n",
    "* [Plotting pandas](http://pandas.pydata.org/pandas-docs/stable/visualization.html)\n",
    "* [Python for Data Analysis](http://shop.oreilly.com/product/0636920023784.do)"
   ]
  },
  {
   "cell_type": "markdown",
   "metadata": {},
   "source": [
    "----"
   ]
  }
 ],
 "metadata": {
  "anaconda-cloud": {},
  "kernelspec": {
   "display_name": "Python 3",
   "language": "python",
   "name": "python3"
  },
  "language_info": {
   "codemirror_mode": {
    "name": "ipython",
    "version": 3
   },
   "file_extension": ".py",
   "mimetype": "text/x-python",
   "name": "python",
   "nbconvert_exporter": "python",
   "pygments_lexer": "ipython3",
   "version": "3.6.0"
  },
  "toc": {
   "colors": {
    "hover_highlight": "#DAA520",
    "running_highlight": "#FF0000",
    "selected_highlight": "#FFD700"
   },
   "moveMenuLeft": true,
   "nav_menu": {
    "height": "235px",
    "width": "252px"
   },
   "navigate_menu": true,
   "number_sections": true,
   "sideBar": true,
   "threshold": 4,
   "toc_cell": false,
   "toc_section_display": "block",
   "toc_window_display": true,
   "widenNotebook": false
  }
 },
 "nbformat": 4,
 "nbformat_minor": 0
}
