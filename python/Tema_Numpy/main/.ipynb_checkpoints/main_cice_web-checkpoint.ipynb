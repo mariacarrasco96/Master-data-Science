{
 "cells": [
  {
   "cell_type": "markdown",
   "metadata": {},
   "source": [
    "<img src=\"../logo/logo.jpg\">\n",
    "\n",
    "# MÁSTER EN BIG DATA Y ÁNALISIS DE DATOS\n",
    "\n"
   ]
  },
  {
   "cell_type": "markdown",
   "metadata": {},
   "source": [
    "## ANÁLISIS DE DATOS CON PYTHON"
   ]
  },
  {
   "cell_type": "markdown",
   "metadata": {},
   "source": [
    "\n",
    "### Tema 1. Introducción al lenguaje Python y a los entornos de desarrollo\n",
    "\n",
    "1.1. [Introducción](../Tema_1/t1_intro.html \"Intro\") \n",
    "\n",
    "1.2. [Entornos de desarrollo](../Tema_1/t1_entornos_desarrollo.html \"Entornos\")  \n",
    "\n",
    "1.3. [Instalar Python con Anaconda](../Tema_1/t1_instalacion_Anaconda.html \"Instalacion\")    \n",
    "\n",
    "1.4. [El notebook de IPython](../Tema_1/t1_jupyter_nb.html)  \n",
    "\n",
    "A continuación puedes ver un [video](https://www.youtube.com/watch?v=J5GevIHNctM) (de los muchos que puedes encontrar en la red) para familiarizarte con los entornos que hemos descrito en este tema.\n",
    "\n",
    "-----\n",
    "\n"
   ]
  },
  {
   "cell_type": "markdown",
   "metadata": {},
   "source": [
    "###  Tema 2.  Elementos básicos del lenguaje \n",
    "\n",
    "\n",
    "2.1. [Los tipos de datos básicos en Python](../Tema_2/t2_sintaxis_01.html)   \n",
    "    \n",
    "2.2. [Definiendo funciones en Python](../Tema_2/s1_cunef_funciones_01.html)  \n",
    "    \n",
    "--------\n",
    "    \n",
    "__Ejercicios__\n",
    "\n",
    "*  [Ejercicios 1 - notebook](../Ejercicios_Tema_2/ejercicios/ej1.ipynb)\n",
    "\n",
    "\n",
    "\n",
    "-----\n",
    "\n"
   ]
  },
  {
   "cell_type": "markdown",
   "metadata": {},
   "source": [
    "### Tema 3. Estructuras de datos  e instrucciones de control\n",
    "\n",
    "3.1. [Secuencias](../Tema_3/t3_secuencias.html)  \n",
    " \n",
    "3.2. [Diccionarios](../Tema_3/t3_diccionarios.html) \n",
    "\n",
    "3.3. [Estructuras e instrucciones  de control](../Tema_3/t3_instrucciones.html)  \n",
    "\n",
    "3.4. The Goodies: [Definición por comprensión](../Tema_3/t3_comprehensions.html)  \n",
    "\n",
    "-----\n",
    "\n",
    "__Ejercicios__\n",
    "\n",
    "*  [Ejercicios 2 - notebook](../Ejercicios_Tema_3/ejercicios/ej2.ipynb)\n",
    "\n",
    "*  [Ejercicios 3 - notebook](../Ejercicios_Tema_3/ejercicios/ej33.ipynb) \n",
    "\n",
    "*  [Ejercicios 4 - notebook](../Ejercicios_Tema_3/ejercicios/ej4.ipynb) \n",
    "\n",
    "*  [Ejercicios 5 - notebook](../Ejercicios_Tema_3/ejercicios/ej5.ipynb) \n",
    "\n",
    "*  [Ejercicios 6 - notebook](../Ejercicios_Tema_3/ejercicios/ej6.ipynb) \n",
    "\n",
    "--------------------"
   ]
  },
  {
   "cell_type": "markdown",
   "metadata": {},
   "source": [
    "----"
   ]
  }
 ],
 "metadata": {
  "anaconda-cloud": {},
  "kernelspec": {
   "display_name": "Python [default]",
   "language": "python",
   "name": "python3"
  },
  "language_info": {
   "codemirror_mode": {
    "name": "ipython",
    "version": 3
   },
   "file_extension": ".py",
   "mimetype": "text/x-python",
   "name": "python",
   "nbconvert_exporter": "python",
   "pygments_lexer": "ipython3",
   "version": "3.5.2"
  }
 },
 "nbformat": 4,
 "nbformat_minor": 0
}
