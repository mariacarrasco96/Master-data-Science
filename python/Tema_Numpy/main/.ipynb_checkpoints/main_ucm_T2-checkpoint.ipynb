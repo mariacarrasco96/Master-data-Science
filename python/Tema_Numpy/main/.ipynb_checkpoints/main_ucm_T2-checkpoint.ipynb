{
 "cells": [
  {
   "cell_type": "markdown",
   "metadata": {},
   "source": [
    "<img src=\"../logo/logo.jpg\">\n",
    "\n"
   ]
  },
  {
   "cell_type": "markdown",
   "metadata": {},
   "source": [
    "## ANÁLISIS DE DATOS CON PYTHON"
   ]
  },
  {
   "cell_type": "markdown",
   "metadata": {},
   "source": [
    "###  Tema 2.  Elementos básicos del lenguaje \n",
    "\n",
    "\n",
    "2.1. [Los tipos de datos básicos en Python](../Tema_2/t2_sintaxis_01.html) \n",
    "    \n",
    "2.2. [Definiendo funciones en Python](../Tema_2/t2_funciones_01.html) \n",
    "    \n",
    "--------\n",
    "    \n",
    "__Ejercicios__\n",
    "\n",
    "*  ([Ejercicios 1 - notebook](../Ejercicios_Tema_2/ejercicios/ucm_ej1.ipynb)) \n",
    "\n",
    "\n",
    "\n",
    "-----\n",
    "\n"
   ]
  },
  {
   "cell_type": "markdown",
   "metadata": {},
   "source": [
    "#### Referencias\n",
    "\n",
    "* [Tutorial de Python. Por Guido Van Rossum](http://docs.python.org.ar/tutorial/pdfs/TutorialPython3.pdf)\n",
    "* [Guía de estilo de código Python](https://www.python.org/dev/peps/pep-0008/)\n",
    "* [Python for Data Analysis](http://shop.oreilly.com/product/0636920023784.do)"
   ]
  },
  {
   "cell_type": "markdown",
   "metadata": {},
   "source": [
    "----"
   ]
  }
 ],
 "metadata": {
  "anaconda-cloud": {},
  "kernelspec": {
   "display_name": "Python [default]",
   "language": "python",
   "name": "python3"
  },
  "language_info": {
   "codemirror_mode": {
    "name": "ipython",
    "version": 3
   },
   "file_extension": ".py",
   "mimetype": "text/x-python",
   "name": "python",
   "nbconvert_exporter": "python",
   "pygments_lexer": "ipython3",
   "version": "3.5.2"
  }
 },
 "nbformat": 4,
 "nbformat_minor": 0
}
