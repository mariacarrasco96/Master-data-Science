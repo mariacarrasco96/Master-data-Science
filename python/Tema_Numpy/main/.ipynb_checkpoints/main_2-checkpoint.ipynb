{
 "cells": [
  {
   "cell_type": "markdown",
   "metadata": {},
   "source": [
    "# Programación en Python"
   ]
  },
  {
   "cell_type": "markdown",
   "metadata": {},
   "source": [
    "## Tema 2.  Elementos básicos del lenguaje"
   ]
  },
  {
   "cell_type": "markdown",
   "metadata": {},
   "source": [
    "2.1. [Los tipos de datos básicos en Python](../Tema_2/t2_sintaxis_01.html)  ([nb](../Tema_2/t2_sintaxis_01.ipynb)) \n",
    "    \n",
    "2.2. [Definiendo funciones en Python](../Tema_2/t2_funciones_01.html) ([nb](../Tema_2/t2_funciones_01.ipynb)) \n",
    "    \n",
    "--------\n",
    "    \n",
    "__Ejercicios__\n",
    "\n",
    "* ([Ejercicios 1 - html](../Ejercicios_Tema_2/ej1.html))  ([nb](../Ejercicios_Tema_2/ej1.ipynb)) \n",
    "\n",
    "\n",
    "\n",
    "-----"
   ]
  },
  {
   "cell_type": "markdown",
   "metadata": {},
   "source": [
    "__Aplicaciones__ \n",
    "\n",
    "* [Encuesta - html](../Ejercicios_Tema_4/Rabanitos.html) (\n",
    "[nb](../Ejercicios_Tema_4/Rabanitos.ipynb) ) \n",
    "\n"
   ]
  },
  {
   "cell_type": "markdown",
   "metadata": {},
   "source": [
    "## Referencias"
   ]
  },
  {
   "cell_type": "markdown",
   "metadata": {},
   "source": [
    "* [Python for Data Analysis](http://shop.oreilly.com/product/0636920023784.do)"
   ]
  },
  {
   "cell_type": "markdown",
   "metadata": {},
   "source": [
    "----"
   ]
  }
 ],
 "metadata": {
  "anaconda-cloud": {},
  "kernelspec": {
   "display_name": "Python 3",
   "language": "python",
   "name": "python3"
  },
  "language_info": {
   "codemirror_mode": {
    "name": "ipython",
    "version": 3
   },
   "file_extension": ".py",
   "mimetype": "text/x-python",
   "name": "python",
   "nbconvert_exporter": "python",
   "pygments_lexer": "ipython3",
   "version": "3.6.3"
  },
  "nbTranslate": {
   "displayLangs": [
    "en",
    "es"
   ],
   "hotkey": "alt-t",
   "langInMainMenu": true,
   "sourceLang": "es",
   "targetLang": "en",
   "useGoogleTranslate": true
  },
  "toc": {
   "nav_menu": {
    "height": "235px",
    "width": "252px"
   },
   "number_sections": true,
   "sideBar": true,
   "skip_h1_title": false,
   "title_cell": "Table of Contents",
   "title_sidebar": "Contents",
   "toc_cell": false,
   "toc_position": {
    "height": "calc(100% - 180px)",
    "left": "10px",
    "top": "150px",
    "width": "330px"
   },
   "toc_section_display": "block",
   "toc_window_display": true
  }
 },
 "nbformat": 4,
 "nbformat_minor": 1
}
