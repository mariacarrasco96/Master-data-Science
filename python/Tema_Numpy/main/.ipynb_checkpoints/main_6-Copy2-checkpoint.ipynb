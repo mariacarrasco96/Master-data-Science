{
 "cells": [
  {
   "cell_type": "markdown",
   "metadata": {},
   "source": [
    "# Programación en Python"
   ]
  },
  {
   "cell_type": "markdown",
   "metadata": {
    "collapsed": true
   },
   "source": [
    "### Tema 6. Pandas (Panel Data Set) "
   ]
  },
  {
   "cell_type": "markdown",
   "metadata": {},
   "source": [
    "6.1.  [Series y DataFrames](../Tema_7/t7_pandas_011.html) ( [nb](../Tema_7/t7_pandas_011.ipynb) ) \n",
    "\n",
    "6.2.  [Ficheros CSV y EXCEL](../Tema_7/t7_pandas_031.html)  ( [nb](../Tema_7/t7_pandas_031.ipynb) ) \n",
    "\n",
    "6.3.  [Acceso y actualización de datos](../Tema_7/t7_pandas_012.html) ( [nb](../Tema_7/t7_pandas_012.ipynb) )\n",
    "\n",
    "\n",
    "__Ejercicios__\n",
    "\n",
    " * [Trafico 1](../Ejercicios_Tema_7/Ejemplo1_trafico.html) ( [nb](../Ejercicios_Tema_7/Ejemplo1_trafico.ipynb) )\n",
    " \n",
    " * [Trafico 2](../Ejercicios_Tema_7/Ejemplo2_trafico.html) ( [nb](../Ejercicios_Tema_7/Ejemplo2_trafico.ipynb) )\n",
    " \n",
    " * [Precio del crudo](../Ejercicios_Tema_7/ej51.html) ( [nb](../Ejercicios_Tema_7/ej51.ipynb) ) \n",
    "\n",
    "\n",
    "\n",
    "\n",
    "6.4.  [Operaciones con Series y Dataframes](../Tema_7/t7_pandas_02.html)  ( [nb](../Tema_7/t7_pandas_02.ipynb) )  \n",
    "\n",
    "__Ejercicios__\n",
    "\n",
    " * [Trafico 3](../Ejercicios_Tema_7/Ejemplo3_trafico.html) ( [nb](../Ejercicios_Tema_7/Ejemplo3_trafico.ipynb) )\n",
    " \n",
    " * [Movimientos sísmicos](../Ejercicios_Tema_7/ej6.html) ( [nb](../Ejercicios_Tema_7/ej6.ipynb) )  \n",
    " \n",
    " * [Loan](../Ejercicios_Tema_7/loan1.html) ( [nb](../Ejercicios_Tema_7/loan1.ipynb) ) \n",
    "\n",
    " "
   ]
  },
  {
   "cell_type": "code",
   "execution_count": null,
   "metadata": {},
   "outputs": [],
   "source": []
  },
  {
   "cell_type": "markdown",
   "metadata": {},
   "source": [
    "---\n",
    "\n",
    "* [Combinación de dataframes](../Tema_7/t7_pandas_013.html) ([nb](../Tema_7/t7_pandas_013.ipynb)) \n",
    "\n",
    "* [Preparación y limpieza de los datos](../Tema_7/t7_pandas_04.html) ([nb](../Tema_7/t7_pandas_04.ipynb)) \n",
    "\n",
    "* [Grupos y operaciones de agrupación](../Tema_7/t7_pandas_05.html) ([nb](../Tema_7/t7_pandas_05.ipynb)) \n",
    "\n",
    "\n",
    "__\n",
    "\n",
    "Ejercicios:\n",
    "\n",
    "* [Datos abiertos Junta Andalucía](../Ejercicios_Tema_7/uso_pandas_01.html) ( [nb](../Ejercicios_Tema_7/uso_pandas_01.ipynb) ) \n",
    "\n",
    "* [Tráfico CM](../Ejercicios_Tema_7/trafico_cm.html) ( [nb](../Ejercicios_Tema_7/trafico_cm.ipynb) ) \n",
    "\n"
   ]
  },
  {
   "cell_type": "markdown",
   "metadata": {},
   "source": [
    "6.1. [Las Series y DataFrames de Pandas](../Tema_7/t7_pandas_01.html)  ([nb](../Tema_7/t7_pandas_01.ipynb))\n",
    "\n",
    "6.2. [Importar y exportar datos](../Tema_7/t7_load_data_dep.html)  ([nb](../Tema_7/t7_load_data_dep.ipynb))\n",
    "\n",
    "6.3. [Operaciones con Series y Dataframes](../Tema_7/t7_pandas_02B.html)  ([nb](../Tema_7/t7_pandas_02B.ipynb)) \n",
    "\n",
    "6.4. [Preparación y limpieza de los datos](../Tema_7/t7_cleaning_01.html) ([nb](../Tema_7/t7_cleaning_01.ipynb)) \n",
    "\n",
    "6.5. [Grupos y operaciones de agrupación](../Tema_7/t7_aggregation_01.html) ([nb](../Tema_7/t7_aggregation_01.ipynb))\n",
    "\n",
    "\n",
    "__Aplicacion en Pandas__\n",
    "\n",
    "* [Datos abiertos Junta Andalucía](../Tema_7/datos_andalucia/uso_pandas_01.html) ( [nb](../Tema_7/datos_andalucia/uso_pandas_01.ipynb) ) \n",
    "\n",
    "\n",
    "__Ejercicios__\n",
    "\n",
    "\n",
    "* [Ejercicios 5 - html](../Ejercicios_Tema_7/ej5.html) ( [Ejercicios 5 - notebook](../Ejercicios_Tema_7/ej5.ipynb) )\n",
    "\n",
    "\n",
    "* [Ejercicios 6 - html](../Ejercicios_Tema_7/ej6.html) ( [Ejercicios 6 - notebook](../Ejercicios_Tema_7/ej6.ipynb) )\n",
    "\n",
    "\n",
    "------"
   ]
  },
  {
   "cell_type": "markdown",
   "metadata": {},
   "source": [
    "### Tema 7 . Visualización de datos ll"
   ]
  },
  {
   "cell_type": "markdown",
   "metadata": {},
   "source": [
    "7.1. [Visualización](../Tema_8/Visualizacion.html)\n",
    "([nb](../Tema_8/Visualizacion.ipynb))\n",
    "\n",
    "7.2.  [El módulo MatplotLib y pandas](../Tema_8/t8_matplot_02.html)  ([nb](../Tema_8/t8_matplot_02.ipynb)) \n",
    "\n",
    "\n",
    "\n",
    "\n",
    "__Ejercicios__\n",
    "\n",
    "\n",
    "* [Ejercicios 7 - html](../Ejercicios_full/ej7.html) ( [Ejercicios 7 - notebook](../Ejercicios_full/ej7.ipynb) )\n",
    "\n",
    "------"
   ]
  },
  {
   "cell_type": "markdown",
   "metadata": {},
   "source": [
    "### Tema 8. Aprendizaje automático\n",
    "\n",
    "8.1. [ML con Scikit-learn](../Tema_11/t11_ml.ipynb)\n",
    "([nb](../Tema_11/t11_ml.ipynb)) "
   ]
  },
  {
   "cell_type": "markdown",
   "metadata": {},
   "source": [
    "### Referencias"
   ]
  },
  {
   "cell_type": "markdown",
   "metadata": {},
   "source": [
    "* [Big Data. Análisis de datos con Python. Sarasa Cabezuelo, Antonio; García Ruiz, Yolanda Aditorial Garceta. ISBN: 978-84-1622-883-6](http://www.garceta.es/libro.php?ISBN=978-84-1622-883-6)\n",
    "* [Python Data Analysis Library](http://pandas.pydata.org/) (http://pandas.pydata.org/)\n",
    "* [Python for Data Analysis](http://shop.oreilly.com/product/0636920023784.do)  (http://shop.oreilly.com/product/0636920023784.do)\n",
    "* [Expresiones Regulares](https://docs.python.org/2/library/re.html#module-re)\n",
    "* Otras librerías para tratamiento de documentos Excel: openpyxl, xlrd, xlutils y pyexcel.\n",
    "* Series Temporales\n",
    "    * Enlace interesante: https://www.analyticsvidhya.com/blog/2016/02/time-series-forecasting-codes-python/"
   ]
  },
  {
   "cell_type": "markdown",
   "metadata": {},
   "source": [
    "----"
   ]
  }
 ],
 "metadata": {
  "anaconda-cloud": {},
  "kernelspec": {
   "display_name": "Python 3",
   "language": "python",
   "name": "python3"
  },
  "language_info": {
   "codemirror_mode": {
    "name": "ipython",
    "version": 3
   },
   "file_extension": ".py",
   "mimetype": "text/x-python",
   "name": "python",
   "nbconvert_exporter": "python",
   "pygments_lexer": "ipython3",
   "version": "3.6.6"
  },
  "nbTranslate": {
   "displayLangs": [
    "en",
    "es"
   ],
   "hotkey": "alt-t",
   "langInMainMenu": true,
   "sourceLang": "es",
   "targetLang": "en",
   "useGoogleTranslate": true
  },
  "toc": {
   "nav_menu": {
    "height": "235px",
    "width": "252px"
   },
   "number_sections": true,
   "sideBar": true,
   "skip_h1_title": false,
   "title_cell": "Table of Contents",
   "title_sidebar": "Contents",
   "toc_cell": false,
   "toc_position": {
    "height": "calc(100% - 180px)",
    "left": "10px",
    "top": "150px",
    "width": "314.2px"
   },
   "toc_section_display": "block",
   "toc_window_display": true
  }
 },
 "nbformat": 4,
 "nbformat_minor": 1
}
