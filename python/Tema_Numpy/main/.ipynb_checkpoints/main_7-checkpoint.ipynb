{
 "cells": [
  {
   "cell_type": "markdown",
   "metadata": {},
   "source": [
    "# Programación en Python"
   ]
  },
  {
   "cell_type": "markdown",
   "metadata": {
    "collapsed": true
   },
   "source": [
    "## Tema 7. Pandas II"
   ]
  },
  {
   "cell_type": "markdown",
   "metadata": {},
   "source": [
    "7.1. [Combinación de dataframes](../Tema_7/t7_pandas_013.html) ( [nb](../Tema_7/t7_pandas_013.ipynb) ) \n",
    "\n",
    "7.2. [Preparación y limpieza de los datos](../Tema_7/t7_pandas_04.html) ( [nb](../Tema_7/t7_pandas_04.ipynb) ) \n",
    "\n",
    "7.3. [Grupos y operaciones de agrupación](../Tema_7/t7_pandas_05.html) ( [nb](../Tema_7/t7_pandas_05.ipynb) ) \n",
    "\n",
    "__Ejercicios:__\n",
    "\n",
    "   * [Rainfall](../Ejercicios_Tema_7/ej5.html) ( [ nb ](../Ejercicios_Tema_7/ej5.ipynb) )\n",
    "   \n",
    "   * [Quaques](../Ejercicios_Tema_7/ej6.html) ( [ nb ](../Ejercicios_Tema_7/ej6.ipynb) )\n",
    "   \n",
    "   * [Movilens](../Ejercicios_full/ej7.html) ( [Ejercicios 7 - notebook](../Ejercicios_full/ej7.ipynb) )\n",
    "   \n",
    "   * [AppleStore](../Ejercicios_Tema_7/AppleStore.html) ( [nb](../Ejercicios_Tema_7/AppleStore.ipynb) ) \n",
    "\n",
    "   * [Tráfico 4](../Ejercicios_Tema_7/Ejemplo4_trafico.html) ( [nb](../Ejercicios_Tema_7/Ejemplo4_trafico.ipynb) ) \n",
    "\n"
   ]
  },
  {
   "cell_type": "markdown",
   "metadata": {},
   "source": [
    "## Referencias"
   ]
  },
  {
   "cell_type": "markdown",
   "metadata": {},
   "source": [
    "* [Big Data. Análisis de datos con Python. Sarasa Cabezuelo, Antonio; García Ruiz, Yolanda Aditorial Garceta. ISBN: 978-84-1622-883-6](http://www.garceta.es/libro.php?ISBN=978-84-1622-883-6)\n",
    "* [Python Data Analysis Library](http://pandas.pydata.org/) (http://pandas.pydata.org/)\n",
    "* [Python for Data Analysis](http://shop.oreilly.com/product/0636920023784.do)  (http://shop.oreilly.com/product/0636920023784.do)\n"
   ]
  },
  {
   "cell_type": "markdown",
   "metadata": {},
   "source": [
    "----"
   ]
  }
 ],
 "metadata": {
  "anaconda-cloud": {},
  "kernelspec": {
   "display_name": "Python 3",
   "language": "python",
   "name": "python3"
  },
  "language_info": {
   "codemirror_mode": {
    "name": "ipython",
    "version": 3
   },
   "file_extension": ".py",
   "mimetype": "text/x-python",
   "name": "python",
   "nbconvert_exporter": "python",
   "pygments_lexer": "ipython3",
   "version": "3.6.6"
  },
  "nbTranslate": {
   "displayLangs": [
    "en",
    "es"
   ],
   "hotkey": "alt-t",
   "langInMainMenu": true,
   "sourceLang": "es",
   "targetLang": "en",
   "useGoogleTranslate": true
  },
  "toc": {
   "nav_menu": {
    "height": "235px",
    "width": "252px"
   },
   "number_sections": true,
   "sideBar": true,
   "skip_h1_title": false,
   "title_cell": "Table of Contents",
   "title_sidebar": "Contents",
   "toc_cell": false,
   "toc_position": {
    "height": "calc(100% - 180px)",
    "left": "10px",
    "top": "150px",
    "width": "314.2px"
   },
   "toc_section_display": "block",
   "toc_window_display": true
  }
 },
 "nbformat": 4,
 "nbformat_minor": 1
}
