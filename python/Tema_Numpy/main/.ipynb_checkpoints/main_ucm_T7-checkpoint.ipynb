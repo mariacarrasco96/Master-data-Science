{
 "cells": [
  {
   "cell_type": "markdown",
   "metadata": {},
   "source": [
    "<img src=\"../logo/logo.jpg\">\n",
    "\n"
   ]
  },
  {
   "cell_type": "markdown",
   "metadata": {},
   "source": [
    "## ANÁLISIS DE DATOS CON PYTHON"
   ]
  },
  {
   "cell_type": "markdown",
   "metadata": {
    "collapsed": true
   },
   "source": [
    "### Tema 7. Pandas (Panel Data Set)\n",
    "\n",
    "7.1. [Las Series y DataFrames de Pandas](../Tema_7/t7_pandas_01.html)  \n",
    "\n",
    "7.2.  [Importar y exportar datos](../Tema_7/t7_load_data_dep.html)  \n",
    "\n",
    "7.3. [Operaciones con Series y Dataframes](../Tema_7/t7_pandas_02B.html)  \n",
    "\n",
    "7.4. [Preparación y limpieza de los datos](../Tema_7/t7_cleaning_01.html)\n",
    "\n",
    "7.5. [Grupos y operaciones de agrupación](../Tema_7/t7_aggregation_01.html) \n",
    "\n",
    "\n",
    "__Aplicación en Pandas__\n",
    "\n",
    "* [Datos abiertos Junta Andalucía](../Tema_7/datos_andalucia/uso_pandas_01.html) ( [nb](../Tema_7/datos_andalucia/uso_pandas_01.ipynb) ) \n",
    "\n",
    "* [Ejemplo de importación de datos](../Tema_7/datos_andalucia/uso_pandas_02.html) ( [nb](../Tema_7/datos_andalucia/uso_pandas_02.ipynb) ) \n",
    "\n",
    "\n",
    "__Ejercicios__\n",
    "\n",
    "\n",
    "* [Ejercicios 5 - html](../Ejercicios_Tema_7/ucm_ej5.html) ( [Ejercicios 5 - notebook](../Ejercicios_Tema_7/ucm_ej5.ipynb) )\n",
    "\n",
    "* [Ejercicios 7 - html](../Ejercicios_Tema_7/ej7.html) ( [Ejercicios 7 - notebook](../Ejercicios_Tema_7/ej7.ipynb) )\n",
    "------\n"
   ]
  },
  {
   "cell_type": "markdown",
   "metadata": {},
   "source": [
    "#### Referencias\n",
    "\n",
    "* [Librería gráfica matplotlib](http://matplotlib.org/)\n",
    "* [Plotting pandas](http://pandas.pydata.org/pandas-docs/stable/visualization.html)\n",
    "* [Python for Data Analysis](http://shop.oreilly.com/product/0636920023784.do)"
   ]
  },
  {
   "cell_type": "markdown",
   "metadata": {},
   "source": [
    "----"
   ]
  }
 ],
 "metadata": {
  "anaconda-cloud": {},
  "kernelspec": {
   "display_name": "Python [default]",
   "language": "python",
   "name": "python3"
  },
  "language_info": {
   "codemirror_mode": {
    "name": "ipython",
    "version": 3
   },
   "file_extension": ".py",
   "mimetype": "text/x-python",
   "name": "python",
   "nbconvert_exporter": "python",
   "pygments_lexer": "ipython3",
   "version": "3.5.2"
  }
 },
 "nbformat": 4,
 "nbformat_minor": 0
}
