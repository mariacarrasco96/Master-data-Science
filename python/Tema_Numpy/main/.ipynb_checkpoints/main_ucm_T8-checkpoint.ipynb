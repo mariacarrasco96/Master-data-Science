{
 "cells": [
  {
   "cell_type": "markdown",
   "metadata": {},
   "source": [
    "<img src=\"../logo/logo.jpg\">\n",
    "\n"
   ]
  },
  {
   "cell_type": "markdown",
   "metadata": {},
   "source": [
    "## ANÁLISIS DE DATOS CON PYTHON"
   ]
  },
  {
   "cell_type": "markdown",
   "metadata": {},
   "source": [
    "### Tema 8 . Visualización de datos\n",
    "\n",
    "8.1.  [Visualización de datos](../Tema_8/t8_matplot_01.html)  \n",
    "\n",
    "8.2  [Visualización de datos en pandas](../Tema_8/t8_matplot_02.html)  \n",
    "\n",
    "\n",
    "__Ejercicios__\n",
    "\n",
    "\n",
    "* [Ejercicios 6 - html](../Ejercicios_Tema_8/ej6.html) ( [Ejercicios 6 - notebook](../Ejercicios_Tema_8/ej6.ipynb) )\n",
    "\n",
    "__Otras librerías de Visualización de datos__ \n",
    "\n",
    "* [HighCharts](../Tema_8/Examples_HC.html) [nb](../Tema_8/Examples_HC.ipynb) \n",
    "* [Bokeh](../Tema_8/Examples_bokeh.html) [nb](../Tema_8/Examples_bokeh.ipynb) \n",
    "* [Vincent](../Tema_8/Examples.html)  [nb](../Tema_8/Examples.ipynb) \n"
   ]
  },
  {
   "cell_type": "markdown",
   "metadata": {},
   "source": [
    "#### Referencias\n",
    "\n",
    "* [Librería gráfica matplotlib](http://matplotlib.org/)\n",
    "* [Plotting pandas](http://pandas.pydata.org/pandas-docs/stable/visualization.html)\n",
    "* [Python for Data Analysis](http://shop.oreilly.com/product/0636920023784.do)"
   ]
  },
  {
   "cell_type": "markdown",
   "metadata": {},
   "source": [
    "----"
   ]
  }
 ],
 "metadata": {
  "anaconda-cloud": {},
  "kernelspec": {
   "display_name": "Python [default]",
   "language": "python",
   "name": "python3"
  },
  "language_info": {
   "codemirror_mode": {
    "name": "ipython",
    "version": 3
   },
   "file_extension": ".py",
   "mimetype": "text/x-python",
   "name": "python",
   "nbconvert_exporter": "python",
   "pygments_lexer": "ipython3",
   "version": "3.5.2"
  }
 },
 "nbformat": 4,
 "nbformat_minor": 0
}
