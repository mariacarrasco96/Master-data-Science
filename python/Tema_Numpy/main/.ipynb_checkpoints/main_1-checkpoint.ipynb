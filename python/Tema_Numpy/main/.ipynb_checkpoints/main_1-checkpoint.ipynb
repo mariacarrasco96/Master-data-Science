{
 "cells": [
  {
   "cell_type": "markdown",
   "metadata": {},
   "source": [
    "# Programación en Python"
   ]
  },
  {
   "cell_type": "markdown",
   "metadata": {},
   "source": [
    "## Tema 1. Introducción al lenguaje Python y a los entornos de desarrollo "
   ]
  },
  {
   "cell_type": "markdown",
   "metadata": {},
   "source": [
    "1.1. [Introducción](../Tema_1/t1_intro.html \"Intro\") ([nb](../Tema_1/t1_intro.ipynb \"Intro\")) \n",
    "\n",
    "1.2. [Entornos de desarrollo](../Tema_1/t1_entornos_desarrollo.html \"Entornos\") ([nb](../Tema_1/t1_entornos_desarrollo.ipynb \"Entornos\"))    \n",
    "\n",
    "1.3. [Instalar Python con Anaconda](../Tema_1/t1_instalacion_Anaconda.html \"Instalacion\") ([nb](../Tema_1/t1_instalacion_Anaconda.ipynb \"Instalacion\"))    \n",
    "\n",
    "1.4. [El notebook de IPython](../Tema_1/t1_jupyter_nb.html)  ([nb](../Tema_1/t1_jupyter_nb.ipynb))     \n",
    "\n",
    "A continuación puedes ver un [video](https://youtu.be/HW29067qVWk) (de los muchos que puedes encontrar en la red) para familiarizarte con los entornos que hemos descrito en este tema.\n",
    "\n",
    "-----\n",
    "\n",
    "__Ejercicios__\n",
    "\n",
    "*  ([Ejercicios 0 - html](../Ejercicios_Tema_1/ej00.html))  ([nb](../Ejercicios_Tema_1/ej00.ipynb))"
   ]
  },
  {
   "cell_type": "markdown",
   "metadata": {},
   "source": [
    "## Referencias"
   ]
  },
  {
   "cell_type": "markdown",
   "metadata": {},
   "source": [
    "* [Python for Data Analysis](http://shop.oreilly.com/product/0636920023784.do)"
   ]
  },
  {
   "cell_type": "markdown",
   "metadata": {},
   "source": [
    "----"
   ]
  }
 ],
 "metadata": {
  "anaconda-cloud": {},
  "kernelspec": {
   "display_name": "Python 3",
   "language": "python",
   "name": "python3"
  },
  "language_info": {
   "codemirror_mode": {
    "name": "ipython",
    "version": 3
   },
   "file_extension": ".py",
   "mimetype": "text/x-python",
   "name": "python",
   "nbconvert_exporter": "python",
   "pygments_lexer": "ipython3",
   "version": "3.7.3"
  },
  "nbTranslate": {
   "displayLangs": [
    "en",
    "es"
   ],
   "hotkey": "alt-t",
   "langInMainMenu": true,
   "sourceLang": "es",
   "targetLang": "en",
   "useGoogleTranslate": true
  },
  "toc": {
   "base_numbering": 1,
   "nav_menu": {
    "height": "235px",
    "width": "252px"
   },
   "number_sections": true,
   "sideBar": true,
   "skip_h1_title": false,
   "title_cell": "Table of Contents",
   "title_sidebar": "Contents",
   "toc_cell": false,
   "toc_position": {},
   "toc_section_display": "block",
   "toc_window_display": false
  }
 },
 "nbformat": 4,
 "nbformat_minor": 1
}
