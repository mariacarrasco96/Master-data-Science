{
 "cells": [
  {
   "cell_type": "markdown",
   "metadata": {},
   "source": [
    "# Ejercicios "
   ]
  },
  {
   "cell_type": "markdown",
   "metadata": {},
   "source": [
    "Los enlaces que te encuentres en esta página, solo funcionan desde el formato html, no desde el notebook una vez descargado."
   ]
  },
  {
   "cell_type": "markdown",
   "metadata": {},
   "source": [
    "## Ejercicio 1"
   ]
  },
  {
   "cell_type": "markdown",
   "metadata": {},
   "source": [
    "Dos niños están haciendo una colección de cromos. Cada cromo tiene asignado un número entero entre 1 y 200.\n",
    "\n",
    "* Los cromos que tiene Juan se encuentran en el fichero [juan.txt](./datos/col_juan.txt). La primera columna representa el número asociado al cromo y la segunda columna representa el número de cromos con ese número que tiene Juan.\n",
    "\n",
    "* Los cromos que tiene Pedro se encuentran en el fichero [pedro.txt](./datos/col_pedro.txt). La primera columna representa el número asociado al cromo y la segunda columna representa el número de cromos con ese número que tiene Pedro.\n",
    "\n",
    "__a)__ Crear un array de `numpy` con los datos de cada una de las colecciones. Los arrays han de llamarse `juan`y `pedro`.\n",
    "\n",
    "   * Descarga los ficheros  en tu directorio de trabajo.\n",
    "   * Carga cada uno de los ficheros mediante la función `loadtxt`. Usa el parámetro  `delimiter` con valor `,`. Usa el parámetro `dtype` para indicar que los valores sean de tipo `int`."
   ]
  },
  {
   "cell_type": "code",
   "execution_count": 1,
   "metadata": {
    "ExecuteTime": {
     "end_time": "2019-01-04T13:46:15.191779Z",
     "start_time": "2019-01-04T13:46:15.182881Z"
    }
   },
   "outputs": [],
   "source": [
    "# Sol: \n"
   ]
  },
  {
   "cell_type": "markdown",
   "metadata": {},
   "source": [
    "__b)__ Calcula el número de cromos diferentes que tiene cada niño. "
   ]
  },
  {
   "cell_type": "code",
   "execution_count": 2,
   "metadata": {
    "ExecuteTime": {
     "end_time": "2019-01-04T13:59:53.267589Z",
     "start_time": "2019-01-04T13:59:53.264120Z"
    }
   },
   "outputs": [],
   "source": [
    "# SOl: \n",
    "# juan tiene 68 cromos\n",
    "# pedro tiene 124 cromos\n",
    "\n"
   ]
  },
  {
   "cell_type": "markdown",
   "metadata": {},
   "source": [
    "__c)__ Calcula el número de cromos totales que tiene cada niño (contando los cromos repetidos). "
   ]
  },
  {
   "cell_type": "code",
   "execution_count": 3,
   "metadata": {
    "ExecuteTime": {
     "end_time": "2019-01-04T13:59:59.450302Z",
     "start_time": "2019-01-04T13:59:59.447330Z"
    }
   },
   "outputs": [],
   "source": [
    "# SOl: \n",
    "# pedro tiene 1326 cromos \n",
    "# juan tiene 619 cromos\n",
    "\n"
   ]
  },
  {
   "cell_type": "markdown",
   "metadata": {},
   "source": [
    "__d)__ Calcula el número de cromos que aparecen en las dos colecciones. Puedes usar la función `np.intersect1d`."
   ]
  },
  {
   "cell_type": "code",
   "execution_count": 4,
   "metadata": {
    "ExecuteTime": {
     "end_time": "2019-01-04T14:00:50.965063Z",
     "start_time": "2019-01-04T14:00:50.960103Z"
    }
   },
   "outputs": [],
   "source": [
    "# Sol\n",
    "# Hay 44 cromos que aparecen en las dos colecciones\n"
   ]
  },
  {
   "cell_type": "markdown",
   "metadata": {},
   "source": [
    "__e)__ Entre los dos niños, ¿forman la colección completa?. Puedes usar la función `np.union1d`."
   ]
  },
  {
   "cell_type": "code",
   "execution_count": 5,
   "metadata": {
    "ExecuteTime": {
     "end_time": "2019-01-04T14:01:31.596336Z",
     "start_time": "2019-01-04T14:01:31.592867Z"
    }
   },
   "outputs": [],
   "source": [
    "# Sol: \n",
    "# No Forman la colección completa. Entre los dos, solo tienen 148 cromos distintos y la colección tiene 200 cromos\n",
    "\n"
   ]
  },
  {
   "cell_type": "markdown",
   "metadata": {},
   "source": [
    "__f)__ ¿Qué números faltan para tener la colección completa?\n",
    "\n",
    "* Puedes generar un array de todos los cromos de la colección con la función `arange`.\n",
    "* Usa la función `np.in1d` "
   ]
  },
  {
   "cell_type": "code",
   "execution_count": 6,
   "metadata": {
    "ExecuteTime": {
     "end_time": "2019-01-04T14:01:07.241500Z",
     "start_time": "2019-01-04T14:01:07.238035Z"
    }
   },
   "outputs": [],
   "source": [
    "# Sol:\n",
    "# Listado de los cromos que faltan:\n",
    "#      [  1,   3,  12,  16,  17,  21,  30,  34,  38,  45,  46,  48,  52,\n",
    "#        55,  66,  69,  72,  75,  76,  81,  82,  91,  92,  96, 100, 106,\n",
    "#       107, 113, 114, 119, 122, 124, 125, 129, 138, 139, 140, 146, 151,\n",
    "#       154, 155, 173, 176, 180, 181, 184, 185, 186, 190, 194, 199, 200]\n",
    "    \n"
   ]
  },
  {
   "cell_type": "markdown",
   "metadata": {},
   "source": [
    "# Ejercicio 2"
   ]
  },
  {
   "cell_type": "markdown",
   "metadata": {},
   "source": [
    "El fichero [tips.txt](./datos/tips.txt) recoge los datos asociados a las reservas de un restaurante durante un periodo de tiempo. Muestra los datos de 6 variables numéricas:\n",
    "\n",
    "* El precio de la factura, \n",
    "* La propina asociada a la factura, \n",
    "* El sexo de la persona que hizo la reserva (1=Hombre, 2=Mujer),\n",
    "* Si es una reserva para fumadores o no (0 = No Fumadores, 1 = Fumadores),\n",
    "* El día de la semana (1 = Lunes, ... , 7 = Domingo),\n",
    "* El número de comensales.\n",
    "\n",
    "Haz una pequeña exploración de los datos del fichero. Observa que el separador de datos es el símbolo coma(,).\n",
    "\n",
    "Realiza la carga de los datos con la función __loadtxt__ del módulo __NumPy__. El array devuelto por __loadtxt__ se llamará __tips__."
   ]
  },
  {
   "cell_type": "code",
   "execution_count": 16,
   "metadata": {},
   "outputs": [],
   "source": [
    "# Sol:\n",
    "# Imports necesarios\n",
    "import numpy as np                         # importación de numpy\n",
    "\n",
    "# Para dibujar:\n",
    "import matplotlib.pyplot as plt\n",
    "%matplotlib inline\n",
    "\n"
   ]
  },
  {
   "cell_type": "markdown",
   "metadata": {},
   "source": [
    "__a)__ ¿Cuántas filas hemos cargado?\n"
   ]
  },
  {
   "cell_type": "code",
   "execution_count": 17,
   "metadata": {},
   "outputs": [
    {
     "data": {
      "text/plain": [
       "(244, 6)"
      ]
     },
     "execution_count": 17,
     "metadata": {},
     "output_type": "execute_result"
    }
   ],
   "source": [
    "# Sol:\n",
    "tips.shape"
   ]
  },
  {
   "cell_type": "markdown",
   "metadata": {},
   "source": [
    "__b)__ Muestra las 10 primeras filas"
   ]
  },
  {
   "cell_type": "code",
   "execution_count": 9,
   "metadata": {},
   "outputs": [],
   "source": [
    "# Sol:\n"
   ]
  },
  {
   "cell_type": "markdown",
   "metadata": {},
   "source": [
    "__c)__ Calcula el importe máximo y mínimo de las facturas. El importe de la factura es la columna que ocupa la posición 0 en el array __tips__.\n",
    "\n"
   ]
  },
  {
   "cell_type": "code",
   "execution_count": 10,
   "metadata": {},
   "outputs": [],
   "source": [
    "# Sol:\n"
   ]
  },
  {
   "cell_type": "markdown",
   "metadata": {},
   "source": [
    "__d)__ Representa gráficamente mediante un diagrama de caja los datos correspondientes al importe de la factura. Puedes utilizar la función __boxplot__."
   ]
  },
  {
   "cell_type": "code",
   "execution_count": 11,
   "metadata": {},
   "outputs": [],
   "source": [
    "# Sol:\n",
    "fig, ax = plt.subplots(1, figsize=(10,5))\n",
    "\n",
    "# Opción: Pinta una cuadrícula en la gráfica\n",
    "ax.grid(True) \n",
    "ax.boxplot(tips[:,:2])          # representamos las dos variables (las dos columnas)\n",
    "\n",
    "ax.set_title('BoxPlot')\n",
    "ax.set_xticklabels(['Importe', 'Propina']);"
   ]
  },
  {
   "cell_type": "markdown",
   "metadata": {},
   "source": [
    "__e)__  Representa gráficamente la relación entre el importe de la factura y la propina. Genera un diagrama de dispersión utilizando la función __scatter__.\n",
    "\n"
   ]
  },
  {
   "cell_type": "code",
   "execution_count": 12,
   "metadata": {},
   "outputs": [],
   "source": [
    "# Sol:\n",
    "# Sol  relación entre el  importe factura y la propina.\n",
    "fig, ax1 = plt.subplots(nrows = 1, figsize=(10,5))   \n",
    "\n",
    "importe = tips[:,0]\n",
    "propina = tips[:,1]\n",
    "\n",
    "ax1.scatter(importe, propina, marker = 'o')   \n",
    "ax1.set_title('Diagrama de dispersion')\n",
    "ax1.set_xlabel('Importe')\n",
    "ax1.set_ylabel('Propina');"
   ]
  },
  {
   "cell_type": "markdown",
   "metadata": {},
   "source": [
    "__f)__ Representa gráficamente la relación entre el importe de la factura y la propina. Genera un diagrama de dispersión utilizando la función __scatter__. Añade una tercera dimensión que será representada mediante distintos colores. La tercera dimensión se corresponde al sexo. Así podremos ver las facturas de los hombres y las de las mujeres. El sexo se corresponde con la variable en la posición 2 del array __tips__.\n"
   ]
  },
  {
   "cell_type": "code",
   "execution_count": 13,
   "metadata": {},
   "outputs": [],
   "source": [
    "# Sol:\n",
    "# relación entre el  importe factura y la propina.\n",
    "# tercera variable: sexo\n",
    "\n",
    "fig, ax1 = plt.subplots(nrows = 1, figsize=(10,5))   \n",
    "\n",
    "importe = tips[:,0]\n",
    "propina = tips[:,1]\n",
    "sexo    = tips[:, 2]\n",
    "\n",
    "ax1.scatter(importe, propina, marker = 'o', c = sexo)    \n",
    "ax1.set_title('Diagrama de dispersion')\n",
    "ax1.set_xlabel('Importe')\n",
    "ax1.set_ylabel('Propina');"
   ]
  },
  {
   "cell_type": "markdown",
   "metadata": {},
   "source": [
    "__f)__ Calcula la media del número de comensales."
   ]
  },
  {
   "cell_type": "code",
   "execution_count": 18,
   "metadata": {},
   "outputs": [],
   "source": [
    "# Sol:\n"
   ]
  },
  {
   "cell_type": "markdown",
   "metadata": {},
   "source": [
    "__g)__ Calcula el coeficiente de correlación entre el importe y la propina."
   ]
  },
  {
   "cell_type": "code",
   "execution_count": 19,
   "metadata": {},
   "outputs": [],
   "source": [
    "# Sol:\n"
   ]
  },
  {
   "cell_type": "markdown",
   "metadata": {},
   "source": [
    "__h)__ Importe medio de factura de las mujeres fumadoras."
   ]
  },
  {
   "cell_type": "code",
   "execution_count": 20,
   "metadata": {},
   "outputs": [],
   "source": [
    "# Sol:\n"
   ]
  },
  {
   "cell_type": "markdown",
   "metadata": {},
   "source": [
    "__i)__ Calcula la mediana del importe de la factura de los hombres."
   ]
  },
  {
   "cell_type": "code",
   "execution_count": 21,
   "metadata": {},
   "outputs": [],
   "source": [
    "# Sol:\n"
   ]
  },
  {
   "cell_type": "markdown",
   "metadata": {},
   "source": [
    "__j)__ Calcula el importe total pagado (importe factura + propina)."
   ]
  },
  {
   "cell_type": "code",
   "execution_count": 22,
   "metadata": {},
   "outputs": [],
   "source": [
    "# Sol:\n"
   ]
  },
  {
   "cell_type": "markdown",
   "metadata": {},
   "source": [
    "---------------------"
   ]
  }
 ],
 "metadata": {
  "anaconda-cloud": {},
  "kernelspec": {
   "display_name": "Python 3",
   "language": "python",
   "name": "python3"
  },
  "language_info": {
   "codemirror_mode": {
    "name": "ipython",
    "version": 3
   },
   "file_extension": ".py",
   "mimetype": "text/x-python",
   "name": "python",
   "nbconvert_exporter": "python",
   "pygments_lexer": "ipython3",
   "version": "3.7.3"
  },
  "nbTranslate": {
   "displayLangs": [
    "en",
    "es"
   ],
   "hotkey": "alt-t",
   "langInMainMenu": true,
   "sourceLang": "es",
   "targetLang": "en",
   "useGoogleTranslate": true
  },
  "toc": {
   "base_numbering": 1,
   "nav_menu": {
    "height": "68px",
    "width": "252px"
   },
   "number_sections": true,
   "sideBar": true,
   "skip_h1_title": false,
   "title_cell": "Table of Contents",
   "title_sidebar": "Contents",
   "toc_cell": false,
   "toc_position": {},
   "toc_section_display": "block",
   "toc_window_display": false
  }
 },
 "nbformat": 4,
 "nbformat_minor": 1
}
