{
 "cells": [
  {
   "cell_type": "markdown",
   "metadata": {},
   "source": [
    "## Las funciones en Python (ii)\n",
    "\n",
    "### Tipos de argumentos en las funciones"
   ]
  },
  {
   "cell_type": "markdown",
   "metadata": {},
   "source": [
    "En el tema anterior sobre funciones hablamos de los argumentos de las funciones: los argumentos posicionales y los argumentos por clave. En realidad existen dos tipos más de argumentos. \n",
    "\n",
    "Las funciones tienen 4 tipos de  _argumentos_: \n",
    "* __posicionales__ \n",
    "* __por clave__\n",
    "* __argumentos agrupados__\n",
    "    * __tupla de argumentos posicionales (*args)__\n",
    "    * __diccionario de argumentos accedidos por clave (**kwargs)__\n",
    "    "
   ]
  },
  {
   "cell_type": "markdown",
   "metadata": {},
   "source": [
    "Usamos __*args__ para representar una tupla arbitraria de argumentos agrupados. No es necesario que el nombre sea __args__:"
   ]
  },
  {
   "cell_type": "code",
   "execution_count": 2,
   "metadata": {
    "collapsed": true
   },
   "outputs": [],
   "source": [
    "def suma_varios(x, y, *otros):\n",
    "    print( \"x:\", x )\n",
    "    print( \"y:\", y )\n",
    "    print(\"otros:\", otros)\n"
   ]
  },
  {
   "cell_type": "code",
   "execution_count": 3,
   "metadata": {},
   "outputs": [
    {
     "name": "stdout",
     "output_type": "stream",
     "text": [
      "x: 1\n",
      "y: 2\n",
      "otros: (3, 4, 5, 6, 7, 8, 9)\n"
     ]
    }
   ],
   "source": [
    "suma_varios(1,2,3,4,5,6,7,8,9)"
   ]
  },
  {
   "cell_type": "markdown",
   "metadata": {},
   "source": [
    "Se pueden definir los argumentos agrupados después de los argumentos posiciones y por clave. Usamos __**kwargs__ para representar una lista arbitraria de argumentos agrupados representada como un diccionario. Como en el caso anterior, no es necesario que el nombre sea kwargs:"
   ]
  },
  {
   "cell_type": "code",
   "execution_count": 4,
   "metadata": {
    "collapsed": true
   },
   "outputs": [],
   "source": [
    "def suma_varios(x, y, *otros, **mas):\n",
    "    print( \"x:\", x )\n",
    "    print( \"y:\", y )\n",
    "    print(\"otros:\", otros)\n",
    "    print(\"mas:\", mas)"
   ]
  },
  {
   "cell_type": "code",
   "execution_count": 5,
   "metadata": {},
   "outputs": [
    {
     "name": "stdout",
     "output_type": "stream",
     "text": [
      "x: 1\n",
      "y: 2\n",
      "otros: (3, 4, 5, 6, 7, 8, 9)\n",
      "mas: {'cien': 100, 'mil': 1000}\n"
     ]
    }
   ],
   "source": [
    "suma_varios(1,2,3,4,5,6,7,8,9, cien = 100 , mil = 1000 )"
   ]
  },
  {
   "cell_type": "markdown",
   "metadata": {},
   "source": [
    "### Funciones como argumentos de otras funciones."
   ]
  },
  {
   "cell_type": "markdown",
   "metadata": {},
   "source": [
    "Supongamos que tenemos una lista de ciudades que necesitamos 'limpiar' o 'formatear'."
   ]
  },
  {
   "cell_type": "code",
   "execution_count": 6,
   "metadata": {
    "collapsed": true
   },
   "outputs": [],
   "source": [
    "lista_ciudades = ['   Madrid', ' BARcelona', 'SeVILLA  ' ]"
   ]
  },
  {
   "cell_type": "markdown",
   "metadata": {},
   "source": [
    "El uso de funciones como argumentos de otras funciones es una característica de los lenguajes funcionales. La función __map__ de los lenguajes funcionales también está accesible en Python. Esta función aplica una función a una colección de objetos:"
   ]
  },
  {
   "cell_type": "markdown",
   "metadata": {},
   "source": [
    "En el siguiente ejemplo, la función `map` aplica la función `upper` a cada una de las ciudades en la lista de ciudades."
   ]
  },
  {
   "cell_type": "code",
   "execution_count": 13,
   "metadata": {},
   "outputs": [
    {
     "data": {
      "text/plain": [
       "['   MADRID', ' BARCELONA', 'SEVILLA  ']"
      ]
     },
     "execution_count": 13,
     "metadata": {},
     "output_type": "execute_result"
    }
   ],
   "source": [
    "m1 = map(str.upper , lista_ciudades)\n",
    "list(m1)"
   ]
  },
  {
   "cell_type": "markdown",
   "metadata": {},
   "source": [
    "Podemos aplicar varias funciones a la vez:"
   ]
  },
  {
   "cell_type": "code",
   "execution_count": 14,
   "metadata": {},
   "outputs": [
    {
     "data": {
      "text/plain": [
       "['Madrid', 'Barcelona', 'Sevilla']"
      ]
     },
     "execution_count": 14,
     "metadata": {},
     "output_type": "execute_result"
    }
   ],
   "source": [
    "m2 = map(str.title, map(str.strip , lista_ciudades))\n",
    "list(m2)"
   ]
  },
  {
   "cell_type": "markdown",
   "metadata": {},
   "source": [
    "Otra alternativa es crear una función que reciba como paraámetro una lista de funciones a aplicar:"
   ]
  },
  {
   "cell_type": "code",
   "execution_count": 15,
   "metadata": {
    "collapsed": true
   },
   "outputs": [],
   "source": [
    "def formatear(funciones, lista):\n",
    "    for fun in funciones:\n",
    "        lista = map(fun,lista)\n",
    "    return list(lista)"
   ]
  },
  {
   "cell_type": "code",
   "execution_count": 16,
   "metadata": {},
   "outputs": [
    {
     "data": {
      "text/plain": [
       "['Madrid', 'Barcelona', 'Sevilla']"
      ]
     },
     "execution_count": 16,
     "metadata": {},
     "output_type": "execute_result"
    }
   ],
   "source": [
    "formatear([str.title, str.strip], lista_ciudades)"
   ]
  },
  {
   "cell_type": "markdown",
   "metadata": {},
   "source": [
    "### Funciones anónimas (_lambda functions_)"
   ]
  },
  {
   "cell_type": "markdown",
   "metadata": {},
   "source": [
    "Las funciones anónimas son aquellas que no tienen nombre y se refieren a una única instrucción. Se declaran con la palabra reservada __lambda__.\n",
    "\n",
    "Son funciones cortas. Están sintácticamente restringidas a una sola expresión.\n",
    "\n",
    "* Las funciones Lambda pueden ser usadas en cualquier lugar donde sea requerido un objeto de tipo función.  Semánticamente, son solo\n",
    "azúcar sintáctica para definiciones normales de funciones. Al igual que las funciones anidadas, las funciones lambda pueden hacer referencia a variables desde el ámbito que la contiene."
   ]
  },
  {
   "cell_type": "code",
   "execution_count": 17,
   "metadata": {},
   "outputs": [],
   "source": [
    "# función normal\n",
    "def producto(a):  \n",
    "    return a * 2\n",
    "\n",
    "# la función anónima equivalente:\n",
    "f = lambda x: x * 2"
   ]
  },
  {
   "cell_type": "code",
   "execution_count": 20,
   "metadata": {},
   "outputs": [
    {
     "data": {
      "text/plain": [
       "[8, 14]"
      ]
     },
     "execution_count": 20,
     "metadata": {},
     "output_type": "execute_result"
    }
   ],
   "source": [
    "resultado = map(f, [4, 7])\n",
    "list(resultado)"
   ]
  },
  {
   "cell_type": "code",
   "execution_count": 21,
   "metadata": {},
   "outputs": [
    {
     "data": {
      "text/plain": [
       "[8, 14]"
      ]
     },
     "execution_count": 21,
     "metadata": {},
     "output_type": "execute_result"
    }
   ],
   "source": [
    "resultado = map(lambda x: x * 2, [4, 7])\n",
    "list(resultado)"
   ]
  },
  {
   "cell_type": "markdown",
   "metadata": {},
   "source": [
    "* Las __funciones lambda__ se utilizan mucho en análisis de datos ya que es muy usual transformar datos mediante funciones que tienen a otras funciones en sus argumentos. \n",
    "* Se usan __funciones lambda__ en lugar de escribir funciones normales para hacer el código más claro y más corto.\n",
    "\n"
   ]
  },
  {
   "cell_type": "markdown",
   "metadata": {},
   "source": [
    "--------"
   ]
  }
 ],
 "metadata": {
  "kernelspec": {
   "display_name": "Python 3",
   "language": "python",
   "name": "python3"
  },
  "language_info": {
   "codemirror_mode": {
    "name": "ipython",
    "version": 3
   },
   "file_extension": ".py",
   "mimetype": "text/x-python",
   "name": "python",
   "nbconvert_exporter": "python",
   "pygments_lexer": "ipython3",
   "version": "3.6.3"
  },
  "nbTranslate": {
   "displayLangs": [
    "en",
    "es"
   ],
   "hotkey": "alt-t",
   "langInMainMenu": true,
   "sourceLang": "es",
   "targetLang": "en",
   "useGoogleTranslate": true
  },
  "toc": {
   "nav_menu": {
    "height": "103px",
    "width": "252px"
   },
   "number_sections": true,
   "sideBar": true,
   "skip_h1_title": false,
   "title_cell": "Table of Contents",
   "title_sidebar": "Contents",
   "toc_cell": false,
   "toc_position": {},
   "toc_section_display": "block",
   "toc_window_display": true
  }
 },
 "nbformat": 4,
 "nbformat_minor": 1
}
