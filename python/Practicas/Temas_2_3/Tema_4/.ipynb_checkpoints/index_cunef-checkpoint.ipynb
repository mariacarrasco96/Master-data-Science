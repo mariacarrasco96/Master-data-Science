{
 "cells": [
  {
   "cell_type": "markdown",
   "metadata": {},
   "source": [
    "<img src=\"./images/bankinter.png\">\n",
    "\n",
    "# Master en Data Sience para Finanzas\n",
    "\n"
   ]
  },
  {
   "cell_type": "markdown",
   "metadata": {},
   "source": [
    "## Programación en Python"
   ]
  },
  {
   "cell_type": "markdown",
   "metadata": {},
   "source": [
    "\n",
    "#### 1. Introducción al lenguaje Python y a los entornos de desarrollo\n",
    "\n",
    "1.1. [Introducción](s1_cunef_intro.html \"Intro\") \n",
    "\n",
    "1.2. [Entornos de desarrollo](s1_cunef_entornos_desarrollo.html \"Entornos\")\n",
    "\n",
    "1.3. [Instalar Python con Anaconda](s1_cunef_instalacion_Anaconda.html \"Instalacion\")    \n",
    "\n",
    "1.4. [El notebook de IPython](s1_cunef_jupyter_nb.html) \n",
    "\n",
    "A continuación puedes ver un [video](https://www.youtube.com/watch?v=J5GevIHNctM) (de los muchos que puedes encontrar en la red) para familiarizarte con los entornos que hemos descrito en este tema.\n",
    "\n",
    "-----\n",
    "\n",
    "\n",
    "####  2.  Elementos básicos del lenguaje \n",
    "\n",
    "\n",
    "2.1. [Los tipos de datos básicos en Python](s1_cunef_sintaxis_01.html)  \n",
    "    \n",
    "2.2. [Definiendo funciones en Python](s1_cunef_funciones_00.html)\n",
    "    \n",
    "--------\n",
    "    \n",
    "#### Ejercicios\n",
    "\n",
    "* [Ejercicios 1 - html](./ejercicios/cunef_ej1.html) ([Ejercicios 1 - notebook](./ejercicios/cunef_ej1.ipynb)) \n",
    "\n",
    "* [Ejercicios 2 - html](./ejercicios/cunef_ej2.html)  ([Ejercicios 2 - notebook](./ejercicios/cunef_ej2.ipynb))\n",
    "\n",
    "--------"
   ]
  },
  {
   "cell_type": "markdown",
   "metadata": {},
   "source": [
    "#### Referencias\n",
    "\n",
    "* [The Python Tutorial](https://docs.python.org/3/tutorial/index.html)\n",
    "* [Tutorial de Python. Por Guido Van Rossum](http://docs.python.org.ar/tutorial/pdfs/TutorialPython3.pdf)\n",
    "* [Jupyter notebook documentation](http://jupyter.readthedocs.org/en/latest/index.html)\n",
    "* [IPython's Rich Display System](http://nbviewer.ipython.org/github/adrn/ipython/blob/1.x/examples/notebooks/Part%205%20-%20Rich%20Display%20System.ipynb)"
   ]
  },
  {
   "cell_type": "markdown",
   "metadata": {},
   "source": [
    "----"
   ]
  },
  {
   "cell_type": "markdown",
   "metadata": {},
   "source": [
    "<img src=\"./images/bankinter.png\">\n",
    "\n",
    "<a rel=\"license\" href=\"http://creativecommons.org/licenses/by-nc-sa/4.0/\"><img alt=\"Licencia Creative Commons\" style=\"border-width:0\" src=\"https://i.creativecommons.org/l/by-nc-sa/4.0/88x31.png\" /></a><br />"
   ]
  }
 ],
 "metadata": {
  "kernelspec": {
   "display_name": "Python 3",
   "language": "python",
   "name": "python3"
  },
  "language_info": {
   "codemirror_mode": {
    "name": "ipython",
    "version": 3
   },
   "file_extension": ".py",
   "mimetype": "text/x-python",
   "name": "python",
   "nbconvert_exporter": "python",
   "pygments_lexer": "ipython3",
   "version": "3.5.1"
  }
 },
 "nbformat": 4,
 "nbformat_minor": 0
}
