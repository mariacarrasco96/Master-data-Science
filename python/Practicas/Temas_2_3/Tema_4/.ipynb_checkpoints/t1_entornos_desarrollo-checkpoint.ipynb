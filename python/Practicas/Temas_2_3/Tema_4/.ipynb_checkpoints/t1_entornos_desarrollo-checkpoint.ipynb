{
 "cells": [
  {
   "cell_type": "markdown",
   "metadata": {
    "slideshow": {
     "slide_type": "slide"
    }
   },
   "source": [
    "# Entornos de desarrollo\n",
    "\n",
    "Para escribir y probar los programas que desarrollaremos sólo hace falta un editor de textos (para escribir) y un intérprete de Python (para probar/ejecutar). Python es un lenguaje que tiene intérpretes en cualquier sistema operativo.\n",
    "\n",
    "Existen muchos entornos de desarrollo (IDE) y cada vez aparecen más. Estos entornos facilitan tanto la tarea de escribir programas como de ejecutarlos. Entre otras características:\n",
    "\n",
    "* Ofrecen ayudas al completado\n",
    "* Tienen documentación integrada\n",
    "\n",
    "Algunos ejemplos de IDEs son:\n",
    "\n",
    "\n",
    "     * Eclipse con PyDev plugin\n",
    "     * Visual Estudio\n",
    "     * Komodo IDE\n",
    "     * Spyder\n",
    "     * PyCharm\n",
    "     * IPython\n",
    "     * IPython  - Jupyter notebook\n",
    "\n",
    "\n",
    "\n",
    "\n",
    "### [__Spyder__](http://en.wikipedia.org/wiki/Spyder_%28software%29) \n",
    "\n",
    "![Spyder](./images/spyder.jpg \"Spyder\")\n",
    "\n",
    "* Spyder tiene un editor con muchas ayudas\n",
    "    - permite ejecutar los programas en el mismo entorno \n",
    "    - cuenta con herramientas para hacer ejecuciones paso a paso y depurar nuestros programas.  \n",
    "    - documentación integrada\n",
    "    - ayudas al completado (típico en la mayoría de los IDE's)\n",
    "\n",
    "* Spyder integra los módulos NumPy, SciPy, pandas, Matplotlib e IPython (entre otros).\n",
    "\n",
    " ![Entorno](./images/entorno.png \"Entorno\") \n",
    "<!---<img src=\"../images/entorno.png\" alt=\"Entorno\" style=\"width: 500px;\"/> --->\n",
    "\n",
    "-----\n",
    "\n",
    "### [__Jupyter notebook__](http://ipython.org/notebook.html)\n",
    "\n",
    "\n",
    "* [Jupyter notebook](http://jupyter.org) es una aplicación web que permite crear documentos que contienen _código vivo_, texto, fórmulas, figuras, y medios audiovisuales. Esto facilita una explicación más detallada y atractiva de los conceptos que se quieren describir. Estos documentos se visualizan con el navegador (Explorer, Chrome, Firefox, ...) y pueden incluir cualquier elemento accesible a una página web, además de permitir la ejecución de código escrito en el lenguaje de programación Python.\n",
    "\n",
    "* Veremos a lo largo de este curso cómo podemos usar este entorno, junto con Python, para realizar taréas típicas en el contexto del análisis de datos; importación y exportación,  manipulación y transformación, visualización  y mucho más. \n",
    "\n",
    "* Jupyter reúne en un mismo componente todas las herramientas científicas estándar de Python.\n",
    "\n",
    "\n",
    "<img src=\"./images/notebookweb.png\" alt=\"IPython Notebook\" style=\"width: 400px;\"/>\n",
    "\n",
    "\n",
    "\n"
   ]
  },
  {
   "cell_type": "markdown",
   "metadata": {},
   "source": [
    "--------"
   ]
  }
 ],
 "metadata": {
  "anaconda-cloud": {},
  "kernelspec": {
   "display_name": "Python [default]",
   "language": "python",
   "name": "python3"
  },
  "language_info": {
   "codemirror_mode": {
    "name": "ipython",
    "version": 3
   },
   "file_extension": ".py",
   "mimetype": "text/x-python",
   "name": "python",
   "nbconvert_exporter": "python",
   "pygments_lexer": "ipython3",
   "version": "3.5.2"
  }
 },
 "nbformat": 4,
 "nbformat_minor": 0
}
