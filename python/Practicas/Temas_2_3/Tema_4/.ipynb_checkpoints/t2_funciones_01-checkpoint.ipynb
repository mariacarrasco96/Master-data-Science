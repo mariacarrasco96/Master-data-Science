{
 "cells": [
  {
   "cell_type": "markdown",
   "metadata": {},
   "source": [
    "# Definiendo funciones en Python "
   ]
  },
  {
   "cell_type": "markdown",
   "metadata": {},
   "source": [
    "Las funciones son el método principal de organización y reutilización de código. \n",
    "\n",
    "Ya hemos visto el uso de algunas funciones predefinidas de Python, como la función __print__, __abs__, etc. Predefinidas porque nosotros también podemos definir nuestras propias funciones.\n",
    "\n",
    "* Las funciones tienen un _nombre_ y se declaran con la palabra reservada __def__ y devuelve un valor usando la palabra reservada __return__.\n",
    "\n",
    "* También tienen una lista de argumentos:\n",
    "    * posicionales\n",
    "    * por clave\n",
    "    * argumentos agrupados (de estos hablaremos más adelante)\n",
    "\n",
    "__Argumentos posiocionales:__\n",
    "\n",
    "\n",
    "Veamos algunos ejemplos de funciones con argumentos posicionales:"
   ]
  },
  {
   "cell_type": "code",
   "execution_count": 1,
   "metadata": {
    "collapsed": false
   },
   "outputs": [],
   "source": [
    "# función que suma 3 números y devuelve el resultado\n",
    "# 3 argumentos posicionales. más adelante hablaremos de los argumentos por clave\n",
    "def suma_tres(x, y, z):                   \n",
    "    m1 = x + y\n",
    "    m2 = m1 + z\n",
    "    return m2"
   ]
  },
  {
   "cell_type": "markdown",
   "metadata": {},
   "source": [
    "Podemos utilizar la función anterior para sumar los números 4, 2 y 3. Para ello basta con escribir el nombre la función junto con los valores 4, 2 y 3 como argumentos. A esto se le conoce como __llamada a la función__ o __invocar a la función__:"
   ]
  },
  {
   "cell_type": "code",
   "execution_count": 2,
   "metadata": {
    "collapsed": false
   },
   "outputs": [
    {
     "data": {
      "text/plain": [
       "11"
      ]
     },
     "execution_count": 2,
     "metadata": {},
     "output_type": "execute_result"
    }
   ],
   "source": [
    "suma_tres(1,2,8)"
   ]
  },
  {
   "cell_type": "code",
   "execution_count": 3,
   "metadata": {
    "collapsed": false
   },
   "outputs": [
    {
     "data": {
      "text/plain": [
       "11"
      ]
     },
     "execution_count": 3,
     "metadata": {},
     "output_type": "execute_result"
    }
   ],
   "source": [
    "a = 1\n",
    "b = 8\n",
    " # los valores de a y b se sustituyen por 1 y 8 respectivamente en la llamada\n",
    "resultado = suma_tres (a,2,b)  \n",
    "resultado"
   ]
  },
  {
   "cell_type": "code",
   "execution_count": 4,
   "metadata": {
    "collapsed": true
   },
   "outputs": [],
   "source": [
    "# función que suma 4 números y devuelve el resultado\n",
    "def suma_cuatro(x, y, z1, z2): \n",
    "    return x + y + z1 + z2"
   ]
  },
  {
   "cell_type": "code",
   "execution_count": 5,
   "metadata": {
    "collapsed": false
   },
   "outputs": [
    {
     "data": {
      "text/plain": [
       "10"
      ]
     },
     "execution_count": 5,
     "metadata": {},
     "output_type": "execute_result"
    }
   ],
   "source": [
    "resultado = suma_cuatro(2, 3, 4, 1)\n",
    "resultado"
   ]
  },
  {
   "cell_type": "markdown",
   "metadata": {},
   "source": [
    "Los argumentos por clave se usan para indicar valores por defecto y siempre se sitúan después de los argumentos posicionales. De esta forma podemos crear una función que puede ser invocada con menos argumentos que los que permite."
   ]
  },
  {
   "cell_type": "code",
   "execution_count": 6,
   "metadata": {
    "collapsed": true
   },
   "outputs": [],
   "source": [
    "# función que suma 3 números y devuelve el resultado\n",
    "def suma_varios(x, y, z1 = 0, z2 = 0):       # 2 argumentos posicionales y 2 por clave\n",
    "    m = x + y + z1 + z2\n",
    "    return m"
   ]
  },
  {
   "cell_type": "markdown",
   "metadata": {},
   "source": [
    "Esta función puede ser invocada pasando sólo los argumentos obligatorios  x  e  y :"
   ]
  },
  {
   "cell_type": "code",
   "execution_count": 7,
   "metadata": {
    "collapsed": false
   },
   "outputs": [
    {
     "data": {
      "text/plain": [
       "5"
      ]
     },
     "execution_count": 7,
     "metadata": {},
     "output_type": "execute_result"
    }
   ],
   "source": [
    "resultado1 = suma_varios(2, 3)    # z1 y z2 tomarán los valores por defecto\n",
    "resultado1"
   ]
  },
  {
   "cell_type": "markdown",
   "metadata": {},
   "source": [
    "Esta función puede ser invocada pasando los argumentos obligatorios  xx  e  yy  junto con un argumento por clave:"
   ]
  },
  {
   "cell_type": "code",
   "execution_count": 8,
   "metadata": {
    "collapsed": false
   },
   "outputs": [
    {
     "data": {
      "text/plain": [
       "6"
      ]
     },
     "execution_count": 8,
     "metadata": {},
     "output_type": "execute_result"
    }
   ],
   "source": [
    "\n",
    "resultado2 = suma_varios(2, 3, z2 = 1)    # z1 toma el valor por defecto 0\n",
    "resultado2"
   ]
  },
  {
   "cell_type": "markdown",
   "metadata": {},
   "source": [
    "Esta función puede ser invocada pasando los argumentos obligatorios  xx  e  yy  junto con los dos argumento por clave:"
   ]
  },
  {
   "cell_type": "code",
   "execution_count": 9,
   "metadata": {
    "collapsed": false
   },
   "outputs": [
    {
     "data": {
      "text/plain": [
       "15"
      ]
     },
     "execution_count": 9,
     "metadata": {},
     "output_type": "execute_result"
    }
   ],
   "source": [
    "resultado3 = suma_varios(2, 3, z2 = 1, z1 = 9)   # ningún valor por defecto\n",
    "resultado3"
   ]
  },
  {
   "cell_type": "markdown",
   "metadata": {},
   "source": [
    "__Valores devueltos por una función__"
   ]
  },
  {
   "cell_type": "markdown",
   "metadata": {},
   "source": [
    "* Una función puede tener varias instrucciones __return__. \n",
    "* Si la ejecución de una función no alcanza ninguna instrucción __return__, se devuelve __None__ que es el valor que representa el valor nulo en Python. El tipo de __None__ es __NoneType__."
   ]
  },
  {
   "cell_type": "code",
   "execution_count": 10,
   "metadata": {
    "collapsed": false
   },
   "outputs": [],
   "source": [
    "def suma_todos(x, y, z, t):\n",
    "    resultado = x + y + z + t     # calcula el resultado pero no devuelve nada"
   ]
  },
  {
   "cell_type": "code",
   "execution_count": 11,
   "metadata": {
    "collapsed": false
   },
   "outputs": [],
   "source": [
    "r = suma_todos(2, 3, 4, 6)\n",
    "r"
   ]
  },
  {
   "cell_type": "code",
   "execution_count": 12,
   "metadata": {
    "collapsed": false
   },
   "outputs": [
    {
     "data": {
      "text/plain": [
       "NoneType"
      ]
     },
     "execution_count": 12,
     "metadata": {},
     "output_type": "execute_result"
    }
   ],
   "source": [
    "type(r)"
   ]
  },
  {
   "cell_type": "code",
   "execution_count": 13,
   "metadata": {
    "collapsed": true
   },
   "outputs": [],
   "source": [
    "# función que pretende escribir cuatro cadenas: Uno, Dos, Tres, Cuatro\n",
    "# si añadimos una instrucción return, no se ejecutan todas las instrucciones\n",
    "def cuenta():\n",
    "    print('Uno')\n",
    "    print('Dos')\n",
    "    return ('Fin de la función')  # la función termina tras ejecutar el return\n",
    "    print('Tres')\n",
    "    print('Cuatro')"
   ]
  },
  {
   "cell_type": "code",
   "execution_count": 14,
   "metadata": {
    "collapsed": false
   },
   "outputs": [
    {
     "name": "stdout",
     "output_type": "stream",
     "text": [
      "Uno\n",
      "Dos\n"
     ]
    },
    {
     "data": {
      "text/plain": [
       "'Fin de la función'"
      ]
     },
     "execution_count": 14,
     "metadata": {},
     "output_type": "execute_result"
    }
   ],
   "source": [
    "cuenta()"
   ]
  },
  {
   "cell_type": "markdown",
   "metadata": {},
   "source": [
    "### Semántica de Python"
   ]
  },
  {
   "cell_type": "markdown",
   "metadata": {},
   "source": [
    "* A diferencia de otros lenguajes como C++, Java o Perl, Python no utilliza corchetes o llaves para estructurar el código. __Python utiliza espacios en blanco o tabulaciones para dar estructura a su código__."
   ]
  },
  {
   "cell_type": "code",
   "execution_count": 15,
   "metadata": {
    "collapsed": true
   },
   "outputs": [],
   "source": [
    "def hola():\n",
    "    print('Hola Mundo!')    # Tabulación al comienzo de ésta linea\n",
    "    "
   ]
  },
  {
   "cell_type": "code",
   "execution_count": 16,
   "metadata": {
    "collapsed": false
   },
   "outputs": [
    {
     "name": "stdout",
     "output_type": "stream",
     "text": [
      "Hola Mundo!\n"
     ]
    }
   ],
   "source": [
    "hola()    # llamada a la dunción 'hola'"
   ]
  },
  {
   "cell_type": "code",
   "execution_count": 17,
   "metadata": {
    "collapsed": false
   },
   "outputs": [
    {
     "ename": "IndentationError",
     "evalue": "unexpected indent (<ipython-input-17-ef2aedbfdebd>, line 3)",
     "output_type": "error",
     "traceback": [
      "\u001b[0;36m  File \u001b[0;32m\"<ipython-input-17-ef2aedbfdebd>\"\u001b[0;36m, line \u001b[0;32m3\u001b[0m\n\u001b[0;31m    print(res)    # más o menos espacios al comienzo produce un error de sintaxis\u001b[0m\n\u001b[0m    ^\u001b[0m\n\u001b[0;31mIndentationError\u001b[0m\u001b[0;31m:\u001b[0m unexpected indent\n"
     ]
    }
   ],
   "source": [
    "def producto(a,b):\n",
    "    res = a * b\n",
    "     print(res)    # más o menos espacios al comienzo produce un error de sintaxis\n",
    "    return res"
   ]
  },
  {
   "cell_type": "markdown",
   "metadata": {},
   "source": [
    "El uso de tabuladores hace el código más legible. En otros lenguajes el código de la función 'hola' ha de escribirse utilizando llaves:"
   ]
  },
  {
   "cell_type": "code",
   "execution_count": 18,
   "metadata": {
    "collapsed": true
   },
   "outputs": [],
   "source": [
    "def hola():     \n",
    "    {\n",
    "    print('Hola Mundo!')    \n",
    "    }"
   ]
  },
  {
   "cell_type": "markdown",
   "metadata": {},
   "source": [
    "__Return múltiples valores__"
   ]
  },
  {
   "cell_type": "markdown",
   "metadata": {},
   "source": [
    "Aquí tenemos otra de las características que hace a Python atractivo a los programadores. \n",
    "\n",
    "A diferencia de Java y C++, las funciones Python pueden devolver múltiples valores:"
   ]
  },
  {
   "cell_type": "code",
   "execution_count": 19,
   "metadata": {
    "collapsed": false
   },
   "outputs": [],
   "source": [
    "def orden(a,b):\n",
    "    if a <= b:\n",
    "        print('entra por el primer bloque')          \n",
    "    else:\n",
    "        return int(b), a\n",
    "    print('Esta linea es el final')"
   ]
  },
  {
   "cell_type": "code",
   "execution_count": 20,
   "metadata": {
    "collapsed": false
   },
   "outputs": [
    {
     "data": {
      "text/plain": [
       "(1, 7)"
      ]
     },
     "execution_count": 20,
     "metadata": {},
     "output_type": "execute_result"
    }
   ],
   "source": [
    "m = orden(7, 1)\n",
    "m"
   ]
  },
  {
   "cell_type": "markdown",
   "metadata": {},
   "source": [
    "La función orden devuelve una __tupla__ con  dos valores."
   ]
  },
  {
   "cell_type": "markdown",
   "metadata": {},
   "source": [
    "--------"
   ]
  }
 ],
 "metadata": {
  "anaconda-cloud": {},
  "kernelspec": {
   "display_name": "Python [default]",
   "language": "python",
   "name": "python3"
  },
  "language_info": {
   "codemirror_mode": {
    "name": "ipython",
    "version": 3
   },
   "file_extension": ".py",
   "mimetype": "text/x-python",
   "name": "python",
   "nbconvert_exporter": "python",
   "pygments_lexer": "ipython3",
   "version": "3.5.2"
  }
 },
 "nbformat": 4,
 "nbformat_minor": 0
}
