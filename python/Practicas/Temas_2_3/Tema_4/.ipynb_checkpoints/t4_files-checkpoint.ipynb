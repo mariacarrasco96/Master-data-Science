{
 "cells": [
  {
   "cell_type": "markdown",
   "metadata": {},
   "source": [
    "## Ficheros"
   ]
  },
  {
   "cell_type": "markdown",
   "metadata": {},
   "source": [
    "En Python, para abrir  un fichero usaremos la función __open__, que recibe el nombre del archivo a abrir. Por defecto, si no indicamos nada, el fichero se abre en modo lectura."
   ]
  },
  {
   "cell_type": "markdown",
   "metadata": {},
   "source": [
    "### Open en modo lectura"
   ]
  },
  {
   "cell_type": "code",
   "execution_count": 1,
   "metadata": {},
   "outputs": [],
   "source": [
    "fichero = open(\"./datos/cuna.txt\")"
   ]
  },
  {
   "cell_type": "markdown",
   "metadata": {},
   "source": [
    "La función __open__  abrirá el fichero con el nombre indicado, en este caso el fichero __cuna.txt__. Si no tiene éxito, se lanzará una excepción. \n",
    "Si se ha podido abrir el fichero correctamente, la variable __fichero__ nos permitirá manipularlo."
   ]
  },
  {
   "cell_type": "markdown",
   "metadata": {},
   "source": [
    "Recordar que existen funciones de comunicación con el sistema operativo:"
   ]
  },
  {
   "cell_type": "code",
   "execution_count": 2,
   "metadata": {},
   "outputs": [
    {
     "data": {
      "text/plain": [
       "'C:\\\\Users\\\\Yoli\\\\Documents\\\\YOLANDA\\\\YOLANDA\\\\Cunef_1718\\\\Material curso 2017-2018\\\\Tema_4'"
      ]
     },
     "execution_count": 2,
     "metadata": {},
     "output_type": "execute_result"
    }
   ],
   "source": [
    "%pwd    # función mágica que devuelve el directorio actual"
   ]
  },
  {
   "cell_type": "markdown",
   "metadata": {},
   "source": [
    "Si la función __open__ te da error y no se abre el fichero, es posible que dicho fichero no se encuentre en la ruta que le has indicado. Otras funcione mágica que te permite explorar tu directorio de trabajo es `%ls`. "
   ]
  },
  {
   "cell_type": "code",
   "execution_count": 3,
   "metadata": {},
   "outputs": [
    {
     "name": "stdout",
     "output_type": "stream",
     "text": [
      " El volumen de la unidad C es Windows7_OS\n",
      " El n£mero de serie del volumen es: 5CD9-3939\n",
      "\n",
      " Directorio de C:\\Users\\Yoli\\Documents\\YOLANDA\\YOLANDA\\Cunef_1718\\Material curso 2017-2018\\Tema_4\n",
      "\n",
      "21/09/2017  11:23    <DIR>          .\n",
      "21/09/2017  11:23    <DIR>          ..\n",
      "20/09/2017  10:23    <DIR>          .ipynb_checkpoints\n",
      "24/02/2015  17:59             2.244 custom.css\n",
      "20/09/2017  10:23    <DIR>          datos\n",
      "20/09/2017  10:23    <DIR>          ejercicios\n",
      "20/09/2017  10:23    <DIR>          images\n",
      "14/11/2016  13:50           286.397 s2_cica_funciones_02.html\n",
      "21/09/2017  11:05           276.109 t4_files.html\n",
      "21/09/2017  11:05             9.147 t4_files.ipynb\n",
      "21/09/2017  11:23           278.859 t4_funciones_02.html\n",
      "21/09/2017  11:23             8.784 t4_funciones_02.ipynb\n",
      "               6 archivos        861.540 bytes\n",
      "               6 dirs  15.325.134.848 bytes libres\n"
     ]
    }
   ],
   "source": [
    "%ls"
   ]
  },
  {
   "cell_type": "markdown",
   "metadata": {},
   "source": [
    "La operación más sencilla a realizar sobre un archivo es leer su contenido. Para procesarlo línea por línea, es posible hacerlo de la siguiente forma:"
   ]
  },
  {
   "cell_type": "code",
   "execution_count": 9,
   "metadata": {},
   "outputs": [
    {
     "name": "stdout",
     "output_type": "stream",
     "text": [
      "Ya te vemos dormida. \n",
      "\n",
      "Tu barca es de madera por la orilla. \n",
      "\n",
      "Blanca princesa de nunca. \n",
      "\n",
      "Duerme por la noche oscura.\n",
      "\n",
      "Cuerpo y tierra de nieve. \n",
      "\n",
      "Duerme por el alba, duerme.\n",
      "\n",
      "Ya te alejas dormida. \n"
     ]
    }
   ],
   "source": [
    "fichero = open(\"./datos/cuna.txt\")\n",
    "for linea in fichero:\n",
    "    print(linea)"
   ]
  },
  {
   "cell_type": "markdown",
   "metadata": {},
   "source": [
    "Es posible, además, obtener todas las líneas del archivo utilizando una sola llamada a la función __readlines__. Esta función devuelve una lista de líneas. "
   ]
  },
  {
   "cell_type": "code",
   "execution_count": 10,
   "metadata": {},
   "outputs": [
    {
     "data": {
      "text/plain": [
       "['Ya te vemos dormida. \\n',\n",
       " 'Tu barca es de madera por la orilla. \\n',\n",
       " 'Blanca princesa de nunca. \\n',\n",
       " 'Duerme por la noche oscura.\\n',\n",
       " 'Cuerpo y tierra de nieve. \\n',\n",
       " 'Duerme por el alba, duerme.\\n',\n",
       " 'Ya te alejas dormida. ']"
      ]
     },
     "execution_count": 10,
     "metadata": {},
     "output_type": "execute_result"
    }
   ],
   "source": [
    "fichero = open(\"./datos/cuna.txt\")\n",
    "lineas = fichero.readlines()\n",
    "lineas"
   ]
  },
  {
   "cell_type": "markdown",
   "metadata": {},
   "source": [
    "En este caso, la variable líneas tendrá una lista de cadenas con todas las líneas del fichero.\n",
    "\n",
    "Es importante tener en cuenta que cuando se utilizan funciones como __archivo.readlines()__, se está cargando en memoria el fichero completo. Siempre que una instrucción cargue un fichero completo debe tenerse cuidado de utilizarla sólo con ficheros pequeños, ya que de otro modo podría agotarse la memoria.\n",
    "\n",
    "En el siguiente ejemplo, se accede a la primera línea del fichero y posteriormente se eliminan los saltos de línea mediante la función de cadenas `rstrip`."
   ]
  },
  {
   "cell_type": "code",
   "execution_count": 11,
   "metadata": {},
   "outputs": [
    {
     "data": {
      "text/plain": [
       "'Ya te vemos dormida.'"
      ]
     },
     "execution_count": 11,
     "metadata": {},
     "output_type": "execute_result"
    }
   ],
   "source": [
    "lineas[0].rstrip()      # rstrip para eliminar saltos de línea"
   ]
  },
  {
   "cell_type": "markdown",
   "metadata": {},
   "source": [
    "### Open en modo escritura (w)"
   ]
  },
  {
   "cell_type": "markdown",
   "metadata": {},
   "source": [
    "Si queremos abrir un fichero en modo escritura, hay que indicarlo como segundo parámetro de la función __open__."
   ]
  },
  {
   "cell_type": "code",
   "execution_count": 12,
   "metadata": {},
   "outputs": [],
   "source": [
    "arc_write = open('./datos/nuevo.txt', 'w')"
   ]
  },
  {
   "cell_type": "code",
   "execution_count": 13,
   "metadata": {},
   "outputs": [],
   "source": [
    "# Copia en el nuevo fichero solo las líneas pares del fichero arc\n",
    "for i, line in enumerate(lineas):\n",
    "    if i%2 == 0:    \n",
    "        arc_write.write(str(i) + ' ' + line)\n",
    "    else:\n",
    "        pass"
   ]
  },
  {
   "cell_type": "markdown",
   "metadata": {},
   "source": [
    "Al terminar de trabajar con un fichero, es recomendable cerrarlo ya que lo que se haya escrito no se guardará realmente hasta no cerrar el fichero."
   ]
  },
  {
   "cell_type": "code",
   "execution_count": 14,
   "metadata": {},
   "outputs": [],
   "source": [
    "arc_write.close()       # cerramos el fichero "
   ]
  },
  {
   "cell_type": "code",
   "execution_count": 15,
   "metadata": {},
   "outputs": [
    {
     "data": {
      "text/plain": [
       "['0 Ya te vemos dormida. \\n',\n",
       " '2 Blanca princesa de nunca. \\n',\n",
       " '4 Cuerpo y tierra de nieve. \\n',\n",
       " '6 Ya te alejas dormida. ']"
      ]
     },
     "execution_count": 15,
     "metadata": {},
     "output_type": "execute_result"
    }
   ],
   "source": [
    "open('./datos/nuevo.txt').readlines()"
   ]
  },
  {
   "cell_type": "markdown",
   "metadata": {},
   "source": [
    "### Open en modo  escritura posicionándose al final del archivo (a)"
   ]
  },
  {
   "cell_type": "markdown",
   "metadata": {},
   "source": [
    "En este caso se crea el fichero, si no existe, pero en caso de que exista se posiciona al final, manteniendo el contenido original."
   ]
  },
  {
   "cell_type": "code",
   "execution_count": 16,
   "metadata": {},
   "outputs": [
    {
     "data": {
      "text/plain": [
       "17"
      ]
     },
     "execution_count": 16,
     "metadata": {},
     "output_type": "execute_result"
    }
   ],
   "source": [
    "open('./datos/nuevo.txt', 'a').write('\\nEste es el final')"
   ]
  },
  {
   "cell_type": "code",
   "execution_count": 17,
   "metadata": {},
   "outputs": [
    {
     "data": {
      "text/plain": [
       "['0 Ya te vemos dormida. \\n',\n",
       " '2 Blanca princesa de nunca. \\n',\n",
       " '4 Cuerpo y tierra de nieve. \\n',\n",
       " '6 Ya te alejas dormida. \\n',\n",
       " 'Este es el final']"
      ]
     },
     "execution_count": 17,
     "metadata": {},
     "output_type": "execute_result"
    }
   ],
   "source": [
    "open('./datos/nuevo.txt').readlines()"
   ]
  },
  {
   "cell_type": "markdown",
   "metadata": {},
   "source": [
    "\n",
    "Hemos visto una forma de abrir ficheros para recuperear la información. Más adelante veremos cómo se trabaja en Python con otro tipo de ficheros como son excel, json, csv, xml, etc."
   ]
  },
  {
   "cell_type": "markdown",
   "metadata": {},
   "source": [
    "------"
   ]
  }
 ],
 "metadata": {
  "kernelspec": {
   "display_name": "Python 3",
   "language": "python",
   "name": "python3"
  },
  "language_info": {
   "codemirror_mode": {
    "name": "ipython",
    "version": 3
   },
   "file_extension": ".py",
   "mimetype": "text/x-python",
   "name": "python",
   "nbconvert_exporter": "python",
   "pygments_lexer": "ipython3",
   "version": "3.6.3"
  },
  "nbTranslate": {
   "displayLangs": [
    "en",
    "es"
   ],
   "hotkey": "alt-t",
   "langInMainMenu": true,
   "sourceLang": "es",
   "targetLang": "en",
   "useGoogleTranslate": true
  },
  "toc": {
   "nav_menu": {
    "height": "103px",
    "width": "252px"
   },
   "number_sections": true,
   "sideBar": true,
   "skip_h1_title": false,
   "title_cell": "Table of Contents",
   "title_sidebar": "Contents",
   "toc_cell": false,
   "toc_position": {},
   "toc_section_display": "block",
   "toc_window_display": false
  }
 },
 "nbformat": 4,
 "nbformat_minor": 1
}
