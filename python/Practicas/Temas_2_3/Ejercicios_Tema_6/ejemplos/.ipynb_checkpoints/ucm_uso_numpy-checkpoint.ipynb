{
 "cells": [
  {
   "cell_type": "markdown",
   "metadata": {},
   "source": [
    "## Aplicación de NumPy\n",
    "\n",
    "-----------------------\n",
    "\n",
    "#### Ejemplo 1\n",
    "\n",
    "Los datos contenidos en el fichero [datos.txt](./datos.txt) describe las poblaciones de tres tipos de serpientes en el sur de Africa durante 20 años."
   ]
  },
  {
   "cell_type": "code",
   "execution_count": 1,
   "metadata": {
    "collapsed": false
   },
   "outputs": [
    {
     "data": {
      "text/plain": [
       "array([[  2000.,  30000.,   3000.,  38300.],\n",
       "       [  2001.,  37200.,   6100.,  48200.],\n",
       "       [  2002.,  60200.,   9800.,  31600.],\n",
       "       [  2003.,  77300.,  36200.,  38200.],\n",
       "       [  2004.,  36300.,  69300.,  30600.],\n",
       "       [  2005.,  20600.,  31700.,  49800.],\n",
       "       [  2006.,  18100.,  19000.,  38600.],\n",
       "       [  2007.,  21300.,  13000.,  32300.],\n",
       "       [  2008.,  22000.,   8300.,  43600.],\n",
       "       [  2009.,  26300.,   9100.,  32100.],\n",
       "       [  2010.,  27100.,   7300.,  36000.],\n",
       "       [  2011.,  30300.,   8000.,  36800.],\n",
       "       [  2012.,  67000.,  12300.,  33800.],\n",
       "       [  2013.,  76600.,  19600.,  30900.],\n",
       "       [  2014.,  62300.,  36700.,  49300.],\n",
       "       [  2015.,  19600.,  61100.,  39000.],\n",
       "       [  2016.,  11200.,  29700.,  36700.],\n",
       "       [  2017.,   7600.,  16800.,  41800.],\n",
       "       [  2018.,  13600.,   9700.,  33300.],\n",
       "       [  2019.,  16200.,  10100.,  31300.],\n",
       "       [  2020.,  23700.,   8600.,  47300.]])"
      ]
     },
     "execution_count": 1,
     "metadata": {},
     "output_type": "execute_result"
    }
   ],
   "source": [
    "import numpy as np\n",
    "data = np.loadtxt('./datos.txt')    # carga de los datos\n",
    "data"
   ]
  },
  {
   "cell_type": "markdown",
   "metadata": {},
   "source": [
    "* Cálculo de la media de población de cada tipo a lo largo del tiempo.\n"
   ]
  },
  {
   "cell_type": "code",
   "execution_count": 2,
   "metadata": {
    "collapsed": false
   },
   "outputs": [
    {
     "data": {
      "text/plain": [
       "array([[ 30000.,   3000.,  38300.],\n",
       "       [ 37200.,   6100.,  48200.],\n",
       "       [ 60200.,   9800.,  31600.],\n",
       "       [ 77300.,  36200.,  38200.],\n",
       "       [ 36300.,  69300.,  30600.],\n",
       "       [ 20600.,  31700.,  49800.],\n",
       "       [ 18100.,  19000.,  38600.],\n",
       "       [ 21300.,  13000.,  32300.],\n",
       "       [ 22000.,   8300.,  43600.],\n",
       "       [ 26300.,   9100.,  32100.],\n",
       "       [ 27100.,   7300.,  36000.],\n",
       "       [ 30300.,   8000.,  36800.],\n",
       "       [ 67000.,  12300.,  33800.],\n",
       "       [ 76600.,  19600.,  30900.],\n",
       "       [ 62300.,  36700.,  49300.],\n",
       "       [ 19600.,  61100.,  39000.],\n",
       "       [ 11200.,  29700.,  36700.],\n",
       "       [  7600.,  16800.,  41800.],\n",
       "       [ 13600.,   9700.,  33300.],\n",
       "       [ 16200.,  10100.,  31300.],\n",
       "       [ 23700.,   8600.,  47300.]])"
      ]
     },
     "execution_count": 2,
     "metadata": {},
     "output_type": "execute_result"
    }
   ],
   "source": [
    "poblaciones = data[:, 1:]     # nos quedamos con las tres últimas columnas\n",
    "poblaciones"
   ]
  },
  {
   "cell_type": "code",
   "execution_count": 3,
   "metadata": {
    "collapsed": false
   },
   "outputs": [
    {
     "data": {
      "text/plain": [
       "array([ 33547.61904762,  20257.14285714,  38071.42857143])"
      ]
     },
     "execution_count": 3,
     "metadata": {},
     "output_type": "execute_result"
    }
   ],
   "source": [
    "poblaciones.mean(axis = 0)  # media "
   ]
  },
  {
   "cell_type": "markdown",
   "metadata": {},
   "source": [
    "* Cálculo de la desviación estándar de la muestra"
   ]
  },
  {
   "cell_type": "code",
   "execution_count": 4,
   "metadata": {
    "collapsed": false
   },
   "outputs": [
    {
     "data": {
      "text/plain": [
       "array([ 21173.55986102,  17581.93259404,   6209.91088481])"
      ]
     },
     "execution_count": 4,
     "metadata": {},
     "output_type": "execute_result"
    }
   ],
   "source": [
    "poblaciones.std(axis=0)\n"
   ]
  },
  {
   "cell_type": "markdown",
   "metadata": {},
   "source": [
    "* ¿Qué especie ha tenido más población por año?"
   ]
  },
  {
   "cell_type": "code",
   "execution_count": 5,
   "metadata": {
    "collapsed": false
   },
   "outputs": [
    {
     "data": {
      "text/plain": [
       "array([ 38300.,  48200.,  60200.,  77300.,  69300.,  49800.,  38600.,\n",
       "        32300.,  43600.,  32100.,  36000.,  36800.,  67000.,  76600.,\n",
       "        62300.,  61100.,  36700.,  41800.,  33300.,  31300.,  47300.])"
      ]
     },
     "execution_count": 5,
     "metadata": {},
     "output_type": "execute_result"
    }
   ],
   "source": [
    "maximo= poblaciones.max(axis = 1)     # máximo de cada año\n",
    "maximo"
   ]
  },
  {
   "cell_type": "code",
   "execution_count": 6,
   "metadata": {
    "collapsed": false
   },
   "outputs": [
    {
     "data": {
      "text/plain": [
       "array([2, 2, 0, 0, 1, 2, 2, 2, 2, 2, 2, 2, 0, 0, 0, 1, 2, 2, 2, 2, 2], dtype=int64)"
      ]
     },
     "execution_count": 6,
     "metadata": {},
     "output_type": "execute_result"
    }
   ],
   "source": [
    "especie = np.argmax(poblaciones, axis=1)   # posición que ocupa el máximo valor\n",
    "especie\n",
    "# columna 0 se refiere a la especie 1\n",
    "# columns 1 se refiere a la especie 2\n",
    "# columns 2 se refiere a la especie 3"
   ]
  },
  {
   "cell_type": "markdown",
   "metadata": {},
   "source": [
    "Para mostrar los resultados por años de forma más clara:"
   ]
  },
  {
   "cell_type": "code",
   "execution_count": 7,
   "metadata": {
    "collapsed": false
   },
   "outputs": [
    {
     "name": "stdout",
     "output_type": "stream",
     "text": [
      "2000 - Especie 3 - 38300.0\n",
      "2001 - Especie 3 - 48200.0\n",
      "2002 - Especie 1  - 60200.0\n",
      "2003 - Especie 1  - 77300.0\n",
      "2004 - Especie 2 - 69300.0\n",
      "2005 - Especie 3 - 49800.0\n",
      "2006 - Especie 3 - 38600.0\n",
      "2007 - Especie 3 - 32300.0\n",
      "2008 - Especie 3 - 43600.0\n",
      "2009 - Especie 3 - 32100.0\n",
      "2010 - Especie 3 - 36000.0\n",
      "2011 - Especie 3 - 36800.0\n",
      "2012 - Especie 1  - 67000.0\n",
      "2013 - Especie 1  - 76600.0\n",
      "2014 - Especie 1  - 62300.0\n",
      "2015 - Especie 2 - 61100.0\n",
      "2016 - Especie 3 - 36700.0\n",
      "2017 - Especie 3 - 41800.0\n",
      "2018 - Especie 3 - 33300.0\n",
      "2019 - Especie 3 - 31300.0\n",
      "2020 - Especie 3 - 47300.0\n"
     ]
    }
   ],
   "source": [
    "# creamos un diccionario\n",
    "nombres = {0 : 'Especie 1 ', 1: 'Especie 2', 2: 'Especie 3'}\n",
    "\n",
    "for fila, dato  in enumerate(especie):\n",
    "    print (int(data[fila, 0]),  '-' ,  nombres[dato],  '-',   maximo[fila])"
   ]
  },
  {
   "cell_type": "markdown",
   "metadata": {},
   "source": [
    "#### Ejemplo 2\n",
    "\n",
    "Supongamos que conocemos las distancias en km. entre 7 ciudades europeas, y queremos construir la matriz de distancias."
   ]
  },
  {
   "cell_type": "code",
   "execution_count": 8,
   "metadata": {
    "collapsed": false
   },
   "outputs": [
    {
     "data": {
      "text/plain": [
       "array([   0,  198,  303,  736,  871, 1175, 1475])"
      ]
     },
     "execution_count": 8,
     "metadata": {},
     "output_type": "execute_result"
    }
   ],
   "source": [
    "distancias = np.array([0, 198, 303, 736, 871, 1175, 1475])\n",
    "distancias"
   ]
  },
  {
   "cell_type": "code",
   "execution_count": 9,
   "metadata": {
    "collapsed": false
   },
   "outputs": [
    {
     "data": {
      "text/plain": [
       "array([[   0],\n",
       "       [ 198],\n",
       "       [ 303],\n",
       "       [ 736],\n",
       "       [ 871],\n",
       "       [1175],\n",
       "       [1475]])"
      ]
     },
     "execution_count": 9,
     "metadata": {},
     "output_type": "execute_result"
    }
   ],
   "source": [
    "filas = distancias.reshape(7,1)\n",
    "filas"
   ]
  },
  {
   "cell_type": "code",
   "execution_count": 10,
   "metadata": {
    "collapsed": false
   },
   "outputs": [
    {
     "data": {
      "text/plain": [
       "array([[   0,  198,  303,  736,  871, 1175, 1475],\n",
       "       [ 198,    0,  105,  538,  673,  977, 1277],\n",
       "       [ 303,  105,    0,  433,  568,  872, 1172],\n",
       "       [ 736,  538,  433,    0,  135,  439,  739],\n",
       "       [ 871,  673,  568,  135,    0,  304,  604],\n",
       "       [1175,  977,  872,  439,  304,    0,  300],\n",
       "       [1475, 1277, 1172,  739,  604,  300,    0]])"
      ]
     },
     "execution_count": 10,
     "metadata": {},
     "output_type": "execute_result"
    }
   ],
   "source": [
    "# A cada fila le restamos cada una de las distancias.\n",
    "# Nos quedamos con el valor absoluto.\n",
    "abs( filas - distancias )"
   ]
  },
  {
   "cell_type": "markdown",
   "metadata": {},
   "source": [
    "------------------------"
   ]
  }
 ],
 "metadata": {
  "anaconda-cloud": {},
  "kernelspec": {
   "display_name": "Python [default]",
   "language": "python",
   "name": "python3"
  },
  "language_info": {
   "codemirror_mode": {
    "name": "ipython",
    "version": 3
   },
   "file_extension": ".py",
   "mimetype": "text/x-python",
   "name": "python",
   "nbconvert_exporter": "python",
   "pygments_lexer": "ipython3",
   "version": "3.5.2"
  }
 },
 "nbformat": 4,
 "nbformat_minor": 0
}
