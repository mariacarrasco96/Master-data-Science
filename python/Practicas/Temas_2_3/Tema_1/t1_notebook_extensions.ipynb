{
 "cells": [
  {
   "cell_type": "markdown",
   "metadata": {},
   "source": [
    "# Jupyter Notebook Extensions"
   ]
  },
  {
   "cell_type": "markdown",
   "metadata": {},
   "source": [
    "La comunidad de desarrolladores nos proporcionan un paquete que permite añadir más funcionalidad a los notebooks de Jupyter. Puedes encontrar toda la documentación en el enlace [Jupyter Notebook Extensions](https://jupyter-contrib-nbextensions.readthedocs.io/en/latest/index.html).\n",
    "\n",
    "Básicamente hay que seguir los siguientes pasos:\n",
    "* Instalar `jupyter_contrib_nbextensions` y `jupyter_nbextensions_configurator` desde Anaconda Promp:\n",
    "    \n",
    "```\n",
    "conda install -c conda-forge jupyter_contrib_nbextensions\n",
    "conda install -c conda-forge jupyter_nbextensions_configurator\n",
    "```\n",
    "\n",
    "* Luego hay que habilitar el configurador de extensiones (también en Anaconda Promp):\n",
    "\n",
    "```\n",
    "jupyter nbextensions_configurator enable --user\n",
    "\n",
    "```\n",
    "\n",
    "Otras extensiones pueden encontrarse en [Calysto](https://github.com/Calysto/notebook-extensions)."
   ]
  }
 ],
 "metadata": {
  "kernelspec": {
   "display_name": "Python 3",
   "language": "python",
   "name": "python3"
  },
  "language_info": {
   "codemirror_mode": {
    "name": "ipython",
    "version": 3
   },
   "file_extension": ".py",
   "mimetype": "text/x-python",
   "name": "python",
   "nbconvert_exporter": "python",
   "pygments_lexer": "ipython3",
   "version": "3.6.3"
  },
  "nbTranslate": {
   "displayLangs": [
    "en",
    "es"
   ],
   "hotkey": "alt-t",
   "langInMainMenu": true,
   "sourceLang": "es",
   "targetLang": "en",
   "useGoogleTranslate": true
  },
  "toc": {
   "nav_menu": {},
   "number_sections": true,
   "sideBar": true,
   "skip_h1_title": false,
   "title_cell": "Table of Contents",
   "title_sidebar": "Contents",
   "toc_cell": false,
   "toc_position": {},
   "toc_section_display": true,
   "toc_window_display": false
  }
 },
 "nbformat": 4,
 "nbformat_minor": 2
}
