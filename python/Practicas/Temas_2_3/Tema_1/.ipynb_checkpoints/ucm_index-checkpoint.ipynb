{
 "cells": [
  {
   "cell_type": "markdown",
   "metadata": {},
   "source": [
    "# Python para análisis de datos\n",
    "\n",
    "## Indice de contenidos"
   ]
  },
  {
   "cell_type": "markdown",
   "metadata": {},
   "source": [
    "1. [Introducción](ucm_intro.html \"Intro\") ([nb](ucm_intro.ipynb \"Intro\")) \n",
    "2. [Entornos de desarrollo](ucm_entornos_desarrollo.html \"Entornos\") ([nb](ucm_entornos_desarrollo.ipynb \"Entornos\"))    \n",
    "3. [El notebook de IPython](ucm_jupyter_nb.html)  ([nb](ucm_jupyter_nb.ipynb))     \n",
    "1. [Elementos básicos del lenguaje](ucm_python.html) ([nb](ucm_python.ipynb)) \n",
    "   "
   ]
  },
  {
   "cell_type": "markdown",
   "metadata": {},
   "source": [
    "----"
   ]
  },
  {
   "cell_type": "markdown",
   "metadata": {},
   "source": [
    "<a rel=\"license\" href=\"http://creativecommons.org/licenses/by-nc-sa/4.0/\"><img alt=\"Licencia Creative Commons\" style=\"border-width:0\" src=\"https://i.creativecommons.org/l/by-nc-sa/4.0/88x31.png\" /></a><br />"
   ]
  }
 ],
 "metadata": {
  "kernelspec": {
   "display_name": "Python 3",
   "language": "python",
   "name": "python3"
  },
  "language_info": {
   "codemirror_mode": {
    "name": "ipython",
    "version": 3
   },
   "file_extension": ".py",
   "mimetype": "text/x-python",
   "name": "python",
   "nbconvert_exporter": "python",
   "pygments_lexer": "ipython3",
   "version": "3.5.1"
  }
 },
 "nbformat": 4,
 "nbformat_minor": 0
}
