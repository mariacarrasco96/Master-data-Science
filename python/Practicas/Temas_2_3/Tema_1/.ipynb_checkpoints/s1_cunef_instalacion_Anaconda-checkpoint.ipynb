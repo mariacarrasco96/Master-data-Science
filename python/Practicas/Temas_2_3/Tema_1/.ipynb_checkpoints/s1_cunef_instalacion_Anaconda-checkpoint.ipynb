{
 "cells": [
  {
   "cell_type": "markdown",
   "metadata": {},
   "source": [
    "<img src=\"./images/bankinter.png\">\n",
    "\n",
    "## Anaconda\n",
    "\n",
    "En este curso trabajaremos únicamente con el software libre y gratuito __Jupyter notebook__. Este software nos permite el uso integrado de códigos de programación junto con presentación de contenidos. Además, el empleo de este entorno de programación\n",
    "hace que el alumno adquiera la formación necesaria para posteriormente llegar a ser\n",
    "usuario de otras plataformas de uso común en el mercado, ya sean de acceso libre o\n",
    "de pago.\n",
    "\n",
    "\n",
    "* Desde Windows, Linux o Mac lo más sencillo es instalar una distribución de Python gratuita llamada [Anaconda](https://store.continuum.io/cshop/anaconda/). \n",
    "\n",
    "* Anaconda es una distribución de Python que recopila muchas de las bibliotecas necesarias en el ámbito de la computación científica. Esta distribución incluye multitud de utilidades que nos facilitarán el trabajo y es ideal para empezar.\n",
    "\n",
    "* Para instalarla, sólo tienes que descargar la versión de Anaconda para tu sistema operativo desde su página web (te pedirá tu dirección de email).\n",
    "\n",
    "* Se trata de un software libre que incluye tanto Spyder como Jupyter notebook.\n",
    "\n",
    "![Entorno](./images/anaconda.jpg \"Anaconda\")\n",
    "---"
   ]
  },
  {
   "cell_type": "markdown",
   "metadata": {},
   "source": [
    "### Instalación de Python con Anaconda\n",
    "\n",
    "\n",
    "\n",
    "\n",
    "* La última versión de Python es la 3, pero tiene el problema de que no es compatible del todo con los programas escritos para la versión 2.\n",
    "\n",
    "* La versión 2.7 fue la última de la familia 2.x, y se considera obsoleta. A pesar de que la versión 3 existe desde hace bastantes años, la 2 todavía se usa bastante ya que algunas librerías externas no han sido adaptadas para funcionar con la versión 3.\n",
    "\n",
    "* Mi recomendación es descargarse la versión 3, aunque los ejemplos que ejercicios que tenéis en este curso de Python, están preparados para funcionar en ambas versiones.\n",
    "\n",
    "* Si tu sistema es Windows y no sabes si tu versión es de 32 o 64 bits, siempre puedes  consultarlo en el sistema. En el siguiente [enlace](http://www.lasdudasdemama.com/windows-7-32-o-64/) se facilitan instrucciones de cómo localizar dicha información.\n",
    "\n"
   ]
  },
  {
   "cell_type": "markdown",
   "metadata": {},
   "source": [
    "### Puesta en marcha de la aplicación \n",
    "\n",
    "Una vez realizada la instalación en cualquiera de los sistemas operativos mencionados,\n",
    "la ejecución de Jupyter Notebook se puede realizar abriendo un terminal\n",
    "y ejecutando el comando `jupyter notebook`.\n",
    "En Windows se puede abrir el terminal realizando una búsqueda por `cmd` entre las aplicaciones.\n",
    "\n",
    "\n",
    "![Entorno](./images/cmd.png \"jupyter notebook\")"
   ]
  },
  {
   "cell_type": "markdown",
   "metadata": {},
   "source": [
    "La ejecución de `jupyter notebook` abrirá una ventana nueva en el navegador de internet.\n",
    "En la siguiente sección hablaremos de este maravilloso entorno de trabajo.\n",
    "\n",
    "------\n",
    "\n"
   ]
  },
  {
   "cell_type": "markdown",
   "metadata": {},
   "source": [
    "<img src=\"./images/bankinter.png\">\n",
    "\n",
    "<a rel=\"license\" href=\"http://creativecommons.org/licenses/by-nc-sa/4.0/\"><img alt=\"Licencia Creative Commons\" style=\"border-width:0\" src=\"https://i.creativecommons.org/l/by-nc-sa/4.0/88x31.png\" /></a><br />"
   ]
  }
 ],
 "metadata": {
  "kernelspec": {
   "display_name": "Python 3",
   "language": "python",
   "name": "python3"
  },
  "language_info": {
   "codemirror_mode": {
    "name": "ipython",
    "version": 3
   },
   "file_extension": ".py",
   "mimetype": "text/x-python",
   "name": "python",
   "nbconvert_exporter": "python",
   "pygments_lexer": "ipython3",
   "version": "3.5.1"
  }
 },
 "nbformat": 4,
 "nbformat_minor": 0
}
