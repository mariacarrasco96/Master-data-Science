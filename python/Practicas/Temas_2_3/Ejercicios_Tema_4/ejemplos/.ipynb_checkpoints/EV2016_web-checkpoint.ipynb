{
 "cells": [
  {
   "cell_type": "markdown",
   "metadata": {},
   "source": [
    "## Acceso a los datos de la web\n",
    "\n",
    "### Web Scraping"
   ]
  },
  {
   "cell_type": "markdown",
   "metadata": {},
   "source": [
    "El __Web Scraping__ (o Scraping) son un conjunto de técnicas que se utilizan para obtener de forma automática el contenido que hay en páginas web a través de su código HTML. \n",
    "* Es una opción cuando no hay API's para extraer datos de la web\n",
    "* Otros términos:\n",
    "    * \"Spydering the web\"\n",
    "    * \"Web crawling\"\n",
    "\n",
    "Las técnicas de Scraping se pueden enmarcar dentro del campo del Big Data en la primera fase de recolección de datos para su posterior almacenamiento, tratamiento y visualización.\n",
    "\n",
    "El uso de estas técnicas tienen como finalidad recopilar grandes cantidades de datos de diferentes páginas web cuyo uso posterior puede ser muy variado:\n",
    "\n",
    "  * homogenización de datos, \n",
    "  * tratamiento de contenido para la extracción de conocimiento, \n",
    "  * complementar datos en una web, etc.\n",
    "\n",
    "\n"
   ]
  },
  {
   "cell_type": "markdown",
   "metadata": {},
   "source": [
    "__Realizar una petición__\n",
    "\n",
    "La página web con la que vamos a jugar es: [Estadística con datos de movilens](http://gpd.sip.ucm.es/yolanda/formacionContinua/EV2016_pelis.html)\n",
    "Para acceder al contenido de una página web usamos el protocolo HTTP Request/Response. Python es capaz de hacer una conexión HTTP para acceder a una página web y extraer información.\n"
   ]
  },
  {
   "cell_type": "code",
   "execution_count": 1,
   "metadata": {
    "collapsed": false
   },
   "outputs": [],
   "source": [
    "import requests\n",
    "\n",
    "url = \"http://gpd.sip.ucm.es/yolanda/formacionContinua/EV2016_pelis.html\"\n",
    "\n",
    "# Realizamos la petición HTTP a la web\n",
    "response = requests.get(url)\n"
   ]
  },
  {
   "cell_type": "markdown",
   "metadata": {},
   "source": [
    "* La función __get__ del módulo __request__ de Python abre una conexión con el servidor donde se encuentra la url (parámetro de  __get__) y manda la petición.\n",
    "\n",
    "* La respuesta del servidor se almacena en la variable (u objeto) _response_.\n",
    "\n",
    "* A partir del objeto _response_, que almacena muchos datos relacionados con la petición HTTP (cabeceras, cookies, etc.) obtenemos el __status_code__ y el __HTML__ (como un string) de la web. "
   ]
  },
  {
   "cell_type": "code",
   "execution_count": 2,
   "metadata": {
    "collapsed": false
   },
   "outputs": [
    {
     "data": {
      "text/plain": [
       "200"
      ]
     },
     "execution_count": 2,
     "metadata": {},
     "output_type": "execute_result"
    }
   ],
   "source": [
    "response.status_code        # atributo status_code: nos indicará si la petición \n",
    "                            # ha tenido éxito"
   ]
  },
  {
   "cell_type": "code",
   "execution_count": 3,
   "metadata": {
    "collapsed": false
   },
   "outputs": [
    {
     "name": "stdout",
     "output_type": "stream",
     "text": [
      "La petición ha ido bien\n"
     ]
    }
   ],
   "source": [
    "# Comprobamos que la petición nos devuelve un Status Code = 200\n",
    "statusCode = response.status_code\n",
    "if statusCode == 200:\n",
    "    print('La petición ha ido bien')\n",
    "else:\n",
    "    print('Problemas con la petición...')\n"
   ]
  },
  {
   "cell_type": "code",
   "execution_count": 4,
   "metadata": {
    "collapsed": false
   },
   "outputs": [],
   "source": [
    "htmlText = response.text    # El atributo text: de tipo string. \n",
    "                            # Cadena que contiene todo el html"
   ]
  },
  {
   "cell_type": "markdown",
   "metadata": {},
   "source": [
    "__Extraer información__"
   ]
  },
  {
   "cell_type": "markdown",
   "metadata": {},
   "source": [
    "A partir del string __htmlText__ que representa el código interno de la pagina web, parseamos la web para extraer la información que nos interesa.\n",
    "\n",
    "Mecanismos:\n",
    "\n",
    "* Usar expresiones regulares para localizar cadenas: esto puede ser muy laborioso, y pesado ...\n",
    "    \n",
    "    \n",
    "    \n",
    "* Usar alguna de las librerías de Python que permiten parsear el texto HTML de forma cómoda. \n",
    "    * __BeautifullSoup__ \n",
    "    * __Scrapy__\n",
    "    \n",
    "    \n",
    "__BeautifulSoup__  nos aporta los métodos necesarios (y muy bien optimizados) para obtener el contenido que hay entre las etiquetas HTML."
   ]
  },
  {
   "cell_type": "code",
   "execution_count": 5,
   "metadata": {
    "collapsed": false
   },
   "outputs": [],
   "source": [
    "from bs4 import BeautifulSoup\n",
    "\n",
    "# Pasamos el contenido HTML de la web a un objeto BeautifulSoup()\n",
    "soup = BeautifulSoup(htmlText, 'html.parser')"
   ]
  },
  {
   "cell_type": "markdown",
   "metadata": {},
   "source": [
    "#### 1. Recuperar los enlaces que aparezcan en la página"
   ]
  },
  {
   "cell_type": "markdown",
   "metadata": {},
   "source": [
    "Los enlaces en HTML se crean mediante la etiqueta `<a>` (su nombre viene del inglés \"anchor\", literalmente traducido como \"ancla\").\n",
    "* El atributo más importante de la etiqueta `<a>` es _href_, que se utiliza para indicar la URL a la que apunta el enlace. \n",
    "* Las URL de los enlaces pueden ser internas y externas.\n",
    "\n",
    "El siguiente ejemplo muestra un enlace a una URL externa:"
   ]
  },
  {
   "cell_type": "markdown",
   "metadata": {},
   "source": [
    "```<a href=\"http://grouplens.org/datasets/movielens/\">MovieLens Dataset</a>```"
   ]
  },
  {
   "cell_type": "markdown",
   "metadata": {},
   "source": [
    "__Ejemplo:__ Buscar todos los enlaces que aparecen en una página:"
   ]
  },
  {
   "cell_type": "code",
   "execution_count": 11,
   "metadata": {
    "collapsed": false
   },
   "outputs": [
    {
     "name": "stdout",
     "output_type": "stream",
     "text": [
      "----\n",
      "links:  <a class=\"anchor-link\" href=\"#Movilens-1M\">¶</a>\n",
      "url:  #Movilens-1M\n",
      "content:  ¶\n",
      "attributes:  {'class': ['anchor-link'], 'href': '#Movilens-1M'}\n",
      "----\n",
      "links:  <a href=\"http://grouplens.org/datasets/movielens/\">http://grouplens.org/datasets/movielens/</a>\n",
      "url:  http://grouplens.org/datasets/movielens/\n",
      "content:  http://grouplens.org/datasets/movielens/\n",
      "attributes:  {'href': 'http://grouplens.org/datasets/movielens/'}\n",
      "----\n",
      "links:  <a class=\"anchor-link\" href=\"#Frecuencia-de-votos\">¶</a>\n",
      "url:  #Frecuencia-de-votos\n",
      "content:  ¶\n",
      "attributes:  {'class': ['anchor-link'], 'href': '#Frecuencia-de-votos'}\n",
      "----\n",
      "links:  <a class=\"anchor-link\" href=\"#References\">¶</a>\n",
      "url:  #References\n",
      "content:  ¶\n",
      "attributes:  {'class': ['anchor-link'], 'href': '#References'}\n",
      "----\n",
      "links:  <a href=\"http://grouplens.org/datasets/movielens/\">MovieLens Dataset</a>\n",
      "url:  http://grouplens.org/datasets/movielens/\n",
      "content:  MovieLens Dataset\n",
      "attributes:  {'href': 'http://grouplens.org/datasets/movielens/'}\n",
      "----\n",
      "links:  <a href=\"http://matplotlib.org/\">LibrerÃ­a grÃ¡fica matplotlib</a>\n",
      "url:  http://matplotlib.org/\n",
      "content:  LibrerÃ­a grÃ¡fica matplotlib\n",
      "attributes:  {'href': 'http://matplotlib.org/'}\n",
      "----\n",
      "links:  <a href=\"http://pandas.pydata.org/pandas-docs/stable/visualization.html\">Plotting pandas</a>\n",
      "url:  http://pandas.pydata.org/pandas-docs/stable/visualization.html\n",
      "content:  Plotting pandas\n",
      "attributes:  {'href': 'http://pandas.pydata.org/pandas-docs/stable/visualization.html'}\n",
      "----\n",
      "links:  <a href=\"http://shop.oreilly.com/product/0636920023784.do\">Python for Data Analysis</a>\n",
      "url:  http://shop.oreilly.com/product/0636920023784.do\n",
      "content:  Python for Data Analysis\n",
      "attributes:  {'href': 'http://shop.oreilly.com/product/0636920023784.do'}\n",
      "----\n",
      "links:  <a href=\"https://docs.python.org/3/library/xml.html#\">XML Processing Modules</a>\n",
      "url:  https://docs.python.org/3/library/xml.html#\n",
      "content:  XML Processing Modules\n",
      "attributes:  {'href': 'https://docs.python.org/3/library/xml.html#'}\n",
      "----\n",
      "links:  <a href=\"https://docs.python.org/3/library/xml.etree.elementtree.html\">The ElementTree XML API</a>\n",
      "url:  https://docs.python.org/3/library/xml.etree.elementtree.html\n",
      "content:  The ElementTree XML API\n",
      "attributes:  {'href': 'https://docs.python.org/3/library/xml.etree.elementtree.html'}\n",
      "----\n",
      "links:  <a href=\"http://lxml.de/\">lxml - XML and HTML with Python</a>\n",
      "url:  http://lxml.de/\n",
      "content:  lxml - XML and HTML with Python\n",
      "attributes:  {'href': 'http://lxml.de/'}\n",
      "----\n",
      "links:  <a href=\"http://infohost.nmt.edu/tcc/help/pubs/pylxml/web/index.html\">Python XML processing with lxml</a>\n",
      "url:  http://infohost.nmt.edu/tcc/help/pubs/pylxml/web/index.html\n",
      "content:  Python XML processing with lxml\n",
      "attributes:  {'href': 'http://infohost.nmt.edu/tcc/help/pubs/pylxml/web/index.html'}\n",
      "----\n"
     ]
    }
   ],
   "source": [
    "\n",
    "enlaces = soup.find_all(\"a\")\n",
    "\n",
    "print ('----')\n",
    "for links in enlaces:\n",
    "    print ('links: ', links) \n",
    "    print ('url: ', links.get('href'))\n",
    "    print ('content: ', links.contents[0])\n",
    "    print ('attributes: ', links.attrs)\n",
    "    print ('----')"
   ]
  },
  {
   "cell_type": "markdown",
   "metadata": {},
   "source": [
    "El ejemplo anterior imprime todo lo que se encuentra en la etiqueta `<a>`, pero en algunos casos no se corresponde con un enlace a un sitio web, sino que es una referencia a un punto del mismo documento. Esos enlaces tienen un atributo adicional llamado `class`.\n",
    "\n",
    "El siguiente fragmento de código recupera  solo los enlaces a páginas internas, que como puedes ver en la ejecución anterior, se corresponden con fragmentos del HTML con la etiqueta __a__,  seguido de la clase __anchor-link__.   \n",
    "\n",
    "\n"
   ]
  },
  {
   "cell_type": "code",
   "execution_count": 69,
   "metadata": {
    "collapsed": false
   },
   "outputs": [
    {
     "name": "stdout",
     "output_type": "stream",
     "text": [
      "----\n",
      "links:  <a class=\"anchor-link\" href=\"#Movilens-1M\">¶</a>\n",
      "url:  #Movilens-1M\n",
      "content:  ¶\n",
      "attributes:  {'href': '#Movilens-1M', 'class': ['anchor-link']}\n",
      "----\n",
      "links:  <a class=\"anchor-link\" href=\"#Frecuencia-de-votos\">¶</a>\n",
      "url:  #Frecuencia-de-votos\n",
      "content:  ¶\n",
      "attributes:  {'href': '#Frecuencia-de-votos', 'class': ['anchor-link']}\n",
      "----\n",
      "links:  <a class=\"anchor-link\" href=\"#References\">¶</a>\n",
      "url:  #References\n",
      "content:  ¶\n",
      "attributes:  {'href': '#References', 'class': ['anchor-link']}\n",
      "----\n"
     ]
    }
   ],
   "source": [
    "tags = soup('a')\n",
    "enlaces = soup.find_all(\"a\", {'class':'anchor-link'})\n",
    "\n",
    "print ('----')\n",
    "for links in enlaces:\n",
    "    print ('links: ', links) \n",
    "    print ('url: ', links.get('href'))\n",
    "    print ('content: ', links.contents[0])\n",
    "    print ('attributes: ', links.attrs)\n",
    "    print ('----')"
   ]
  },
  {
   "cell_type": "markdown",
   "metadata": {},
   "source": [
    "##### Ejercicio: \n",
    "Escribe el fragmento de código capaz de recuperar solo los enlaces a páginas externas. Como sugerencia, usa la función __has_attr__ con el atributo __class__  sobre cada enlace de la lista de enlaces."
   ]
  },
  {
   "cell_type": "code",
   "execution_count": 18,
   "metadata": {
    "collapsed": false
   },
   "outputs": [
    {
     "name": "stdout",
     "output_type": "stream",
     "text": [
      "----\n",
      "links:  <a href=\"http://grouplens.org/datasets/movielens/\">http://grouplens.org/datasets/movielens/</a>\n",
      "url:  http://grouplens.org/datasets/movielens/\n",
      "content:  http://grouplens.org/datasets/movielens/\n",
      "attributes:  {'href': 'http://grouplens.org/datasets/movielens/'}\n",
      "----\n",
      "links:  <a href=\"http://grouplens.org/datasets/movielens/\">MovieLens Dataset</a>\n",
      "url:  http://grouplens.org/datasets/movielens/\n",
      "content:  MovieLens Dataset\n",
      "attributes:  {'href': 'http://grouplens.org/datasets/movielens/'}\n",
      "----\n",
      "links:  <a href=\"http://matplotlib.org/\">LibrerÃ­a grÃ¡fica matplotlib</a>\n",
      "url:  http://matplotlib.org/\n",
      "content:  LibrerÃ­a grÃ¡fica matplotlib\n",
      "attributes:  {'href': 'http://matplotlib.org/'}\n",
      "----\n",
      "links:  <a href=\"http://pandas.pydata.org/pandas-docs/stable/visualization.html\">Plotting pandas</a>\n",
      "url:  http://pandas.pydata.org/pandas-docs/stable/visualization.html\n",
      "content:  Plotting pandas\n",
      "attributes:  {'href': 'http://pandas.pydata.org/pandas-docs/stable/visualization.html'}\n",
      "----\n",
      "links:  <a href=\"http://shop.oreilly.com/product/0636920023784.do\">Python for Data Analysis</a>\n",
      "url:  http://shop.oreilly.com/product/0636920023784.do\n",
      "content:  Python for Data Analysis\n",
      "attributes:  {'href': 'http://shop.oreilly.com/product/0636920023784.do'}\n",
      "----\n",
      "links:  <a href=\"https://docs.python.org/3/library/xml.html#\">XML Processing Modules</a>\n",
      "url:  https://docs.python.org/3/library/xml.html#\n",
      "content:  XML Processing Modules\n",
      "attributes:  {'href': 'https://docs.python.org/3/library/xml.html#'}\n",
      "----\n",
      "links:  <a href=\"https://docs.python.org/3/library/xml.etree.elementtree.html\">The ElementTree XML API</a>\n",
      "url:  https://docs.python.org/3/library/xml.etree.elementtree.html\n",
      "content:  The ElementTree XML API\n",
      "attributes:  {'href': 'https://docs.python.org/3/library/xml.etree.elementtree.html'}\n",
      "----\n",
      "links:  <a href=\"http://lxml.de/\">lxml - XML and HTML with Python</a>\n",
      "url:  http://lxml.de/\n",
      "content:  lxml - XML and HTML with Python\n",
      "attributes:  {'href': 'http://lxml.de/'}\n",
      "----\n",
      "links:  <a href=\"http://infohost.nmt.edu/tcc/help/pubs/pylxml/web/index.html\">Python XML processing with lxml</a>\n",
      "url:  http://infohost.nmt.edu/tcc/help/pubs/pylxml/web/index.html\n",
      "content:  Python XML processing with lxml\n",
      "attributes:  {'href': 'http://infohost.nmt.edu/tcc/help/pubs/pylxml/web/index.html'}\n",
      "----\n"
     ]
    }
   ],
   "source": [
    "# Solución\n",
    "\n",
    "enlaces = soup.find_all(\"a\")\n",
    "\n",
    "print ('----')\n",
    "for links in enlaces:\n",
    "    if links.has_attr('class'):\n",
    "        pass\n",
    "    else:\n",
    "        print ('links: ', links) \n",
    "        print ('url: ', links.get('href'))\n",
    "        print ('content: ', links.contents[0])\n",
    "        print ('attributes: ', links.attrs)\n",
    "        print ('----')\n"
   ]
  },
  {
   "cell_type": "markdown",
   "metadata": {},
   "source": [
    "#### 2. Recuperar los datos de la tabla"
   ]
  },
  {
   "cell_type": "markdown",
   "metadata": {},
   "source": [
    "Las tablas de HTML se definen con tres etiquetas: `<table>` para crear la tabla, `<tr>` para crear cada fila y `<td>` para crear cada columna.\n"
   ]
  },
  {
   "cell_type": "code",
   "execution_count": 20,
   "metadata": {
    "collapsed": false
   },
   "outputs": [
    {
     "data": {
      "text/html": [
       "\n",
       "<table>\n",
       "    <tr>\n",
       "      <th><strong>Curso</strong></th>\n",
       "      <th><strong>Horas</strong></th>\n",
       "    </tr>\n",
       " \n",
       "    <tr>\n",
       "      <td>CSS</td>\n",
       "      <td>20</td>\n",
       "    </tr>\n",
       " \n",
       "    <tr>\n",
       "      <td>HTML</td>\n",
       "      <td>20</td>\n",
       "    </tr>\n",
       "</table>"
      ],
      "text/plain": [
       "<IPython.core.display.HTML object>"
      ]
     },
     "execution_count": 20,
     "metadata": {},
     "output_type": "execute_result"
    }
   ],
   "source": [
    "from IPython.display import HTML\n",
    "s = \"\"\"\n",
    "<table>\n",
    "    <tr>\n",
    "      <th><strong>Curso</strong></th>\n",
    "      <th><strong>Horas</strong></th>\n",
    "    </tr>\n",
    " \n",
    "    <tr>\n",
    "      <td>CSS</td>\n",
    "      <td>20</td>\n",
    "    </tr>\n",
    " \n",
    "    <tr>\n",
    "      <td>HTML</td>\n",
    "      <td>20</td>\n",
    "    </tr>\n",
    "</table>\"\"\"\n",
    "HTML(s)"
   ]
  },
  {
   "cell_type": "markdown",
   "metadata": {},
   "source": [
    "__Ejemplo:__ Queremos recuperar los datos de la tabla que aparece en la página  [Estadística con datos de movilens](http://gpd.sip.ucm.es/yolanda/formacionContinua/EV2016_pelis.html)\n",
    "\n",
    "En este caso utilizamos el método __find_all()__ que lo que hace es coger todos los fragmentos del HTML que correpondan a las etiquetas __tr__ y __td__.\n",
    " "
   ]
  },
  {
   "cell_type": "code",
   "execution_count": 12,
   "metadata": {
    "collapsed": false
   },
   "outputs": [
    {
     "data": {
      "text/plain": [
       "{'Ace Ventura: When Nature Calls (1995)': {'Cinco Estrellas': 51,\n",
       "  'genero': 'Comedy'},\n",
       " 'American President, The (1995)': {'Cinco Estrellas': 492,\n",
       "  'genero': 'Comedy|Drama|Romance'},\n",
       " 'Assassins (1995)': {'Cinco Estrellas': 29, 'genero': 'Thriller'},\n",
       " 'Balto (1995)': {'Cinco Estrellas': 36, 'genero': \"Animation|Children's\"},\n",
       " 'Casino (1995)': {'Cinco Estrellas': 277, 'genero': 'Drama|Thriller'},\n",
       " 'City of Lost Children, The (1995)': {'Cinco Estrellas': 141,\n",
       "  'genero': 'Adventure|Sci-Fi'},\n",
       " 'Copycat (1995)': {'Cinco Estrellas': 135, 'genero': 'Crime|Drama|Thriller'},\n",
       " 'Cutthroat Island (1995)': {'Cinco Estrellas': 24,\n",
       "  'genero': 'Action|Adventure|Romance'},\n",
       " 'Dracula: Dead and Loving It (1995)': {'Cinco Estrellas': 22,\n",
       "  'genero': 'Comedy|Horror'},\n",
       " 'Father of the Bride Part II (1995)': {'Cinco Estrellas': 80,\n",
       "  'genero': 'Comedy'},\n",
       " 'Four Rooms (1995)': {'Cinco Estrellas': 51, 'genero': 'Thriller'},\n",
       " 'Get Shorty (1995)': {'Cinco Estrellas': 553,\n",
       "  'genero': 'Action|Comedy|Drama'},\n",
       " 'GoldenEye (1995)': {'Cinco Estrellas': 377,\n",
       "  'genero': 'Action|Adventure|Thriller'},\n",
       " 'Grumpier Old Men (1995)': {'Cinco Estrellas': 105,\n",
       "  'genero': 'Comedy|Romance'},\n",
       " 'Heat (1995)': {'Cinco Estrellas': 392, 'genero': 'Action|Crime|Thriller'},\n",
       " 'Jumanji (1995)': {'Cinco Estrellas': 237,\n",
       "  'genero': \"Adventure|Children's|Fantasy\"},\n",
       " 'Leaving Las Vegas (1995)': {'Cinco Estrellas': 375,\n",
       "  'genero': 'Drama|Romance'},\n",
       " 'Money Train (1995)': {'Cinco Estrellas': 20, 'genero': 'Action'},\n",
       " 'Nixon (1995)': {'Cinco Estrellas': 68, 'genero': 'Drama'},\n",
       " 'Now and Then (1995)': {'Cinco Estrellas': 13, 'genero': 'Drama'},\n",
       " 'Othello (1995)': {'Cinco Estrellas': 48, 'genero': 'Drama'},\n",
       " 'Persuasion (1995)': {'Cinco Estrellas': 74, 'genero': 'Romance'},\n",
       " 'Powder (1995)': {'Cinco Estrellas': 192, 'genero': 'Drama|Sci-Fi'},\n",
       " 'Sabrina (1995)': {'Cinco Estrellas': 151, 'genero': 'Comedy|Romance'},\n",
       " 'Sense and Sensibility (1995)': {'Cinco Estrellas': 349,\n",
       "  'genero': 'Drama|Romance'},\n",
       " 'Shanghai Triad (Yao a yao yao dao waipo qiao) ...': {'Cinco Estrellas': 21,\n",
       "  'genero': 'Drama'},\n",
       " 'Sudden Death (1995)': {'Cinco Estrellas': 22, 'genero': 'Action'},\n",
       " 'Tom and Huck (1995)': {'Cinco Estrellas': 18,\n",
       "  'genero': \"Adventure|Children's\"},\n",
       " 'Toy Story (1995)': {'Cinco Estrellas': 835,\n",
       "  'genero': \"Animation|Children's|Comedy\"},\n",
       " 'Waiting to Exhale (1995)': {'Cinco Estrellas': 31, 'genero': 'Comedy|Drama'}}"
      ]
     },
     "execution_count": 12,
     "metadata": {},
     "output_type": "execute_result"
    }
   ],
   "source": [
    "content = {}\n",
    "# Obtenemos cada una de las filas de la tabla \n",
    "rows = soup.find_all('tr')\n",
    "for r in rows:\n",
    "    #Seleccionamos las celdas de cada una de las filas de la tabla (td)\n",
    "    celdas=r.find_all('td')\n",
    "    \n",
    "    # ignoramos la primera celda, que no tiene elementos td sino th \n",
    "    # (ver HTML de la página web)\n",
    "    if len(celdas)>0:           \n",
    "        titulo = celdas[0].string\n",
    "        genero = celdas[1].string\n",
    "        valoraciones_5 =  int(celdas[5].string)\n",
    "        content[titulo] = {'genero' : genero, 'Cinco Estrellas': valoraciones_5}\n",
    "\n",
    "content"
   ]
  },
  {
   "cell_type": "markdown",
   "metadata": {},
   "source": [
    "##### Ejercicio:\n",
    "Para cada película queremos recuperar también el número total de valoraciones obtenidas. \n",
    "Modificar el código anterior para generar un diccionario donde la clave sea la película, y el valor sea otro diccionario con tres claves: 'Seis Estrellas', 'Género' y 'Total valoraciones'.\n"
   ]
  },
  {
   "cell_type": "code",
   "execution_count": 14,
   "metadata": {
    "collapsed": false
   },
   "outputs": [
    {
     "data": {
      "text/plain": [
       "{'Ace Ventura: When Nature Calls (1995)': {'Cinco Estrellas': 51,\n",
       "  'Total_val': 267,\n",
       "  'genero': 'Comedy'},\n",
       " 'American President, The (1995)': {'Cinco Estrellas': 492,\n",
       "  'Total_val': 816,\n",
       "  'genero': 'Comedy|Drama|Romance'},\n",
       " 'Assassins (1995)': {'Cinco Estrellas': 29,\n",
       "  'Total_val': 108,\n",
       "  'genero': 'Thriller'},\n",
       " 'Balto (1995)': {'Cinco Estrellas': 36,\n",
       "  'Total_val': 82,\n",
       "  'genero': \"Animation|Children's\"},\n",
       " 'Casino (1995)': {'Cinco Estrellas': 277,\n",
       "  'Total_val': 515,\n",
       "  'genero': 'Drama|Thriller'},\n",
       " 'City of Lost Children, The (1995)': {'Cinco Estrellas': 141,\n",
       "  'Total_val': 231,\n",
       "  'genero': 'Adventure|Sci-Fi'},\n",
       " 'Copycat (1995)': {'Cinco Estrellas': 135,\n",
       "  'Total_val': 322,\n",
       "  'genero': 'Crime|Drama|Thriller'},\n",
       " 'Cutthroat Island (1995)': {'Cinco Estrellas': 24,\n",
       "  'Total_val': 94,\n",
       "  'genero': 'Action|Adventure|Romance'},\n",
       " 'Dracula: Dead and Loving It (1995)': {'Cinco Estrellas': 22,\n",
       "  'Total_val': 101,\n",
       "  'genero': 'Comedy|Horror'},\n",
       " 'Father of the Bride Part II (1995)': {'Cinco Estrellas': 80,\n",
       "  'Total_val': 252,\n",
       "  'genero': 'Comedy'},\n",
       " 'Four Rooms (1995)': {'Cinco Estrellas': 51,\n",
       "  'Total_val': 130,\n",
       "  'genero': 'Thriller'},\n",
       " 'Get Shorty (1995)': {'Cinco Estrellas': 553,\n",
       "  'Total_val': 1098,\n",
       "  'genero': 'Action|Comedy|Drama'},\n",
       " 'GoldenEye (1995)': {'Cinco Estrellas': 377,\n",
       "  'Total_val': 763,\n",
       "  'genero': 'Action|Adventure|Thriller'},\n",
       " 'Grumpier Old Men (1995)': {'Cinco Estrellas': 105,\n",
       "  'Total_val': 391,\n",
       "  'genero': 'Comedy|Romance'},\n",
       " 'Heat (1995)': {'Cinco Estrellas': 392,\n",
       "  'Total_val': 666,\n",
       "  'genero': 'Action|Crime|Thriller'},\n",
       " 'Jumanji (1995)': {'Cinco Estrellas': 237,\n",
       "  'Total_val': 611,\n",
       "  'genero': \"Adventure|Children's|Fantasy\"},\n",
       " 'Leaving Las Vegas (1995)': {'Cinco Estrellas': 375,\n",
       "  'Total_val': 699,\n",
       "  'genero': 'Drama|Romance'},\n",
       " 'Money Train (1995)': {'Cinco Estrellas': 20,\n",
       "  'Total_val': 135,\n",
       "  'genero': 'Action'},\n",
       " 'Nixon (1995)': {'Cinco Estrellas': 68, 'Total_val': 133, 'genero': 'Drama'},\n",
       " 'Now and Then (1995)': {'Cinco Estrellas': 13,\n",
       "  'Total_val': 53,\n",
       "  'genero': 'Drama'},\n",
       " 'Othello (1995)': {'Cinco Estrellas': 48, 'Total_val': 85, 'genero': 'Drama'},\n",
       " 'Persuasion (1995)': {'Cinco Estrellas': 74,\n",
       "  'Total_val': 115,\n",
       "  'genero': 'Romance'},\n",
       " 'Powder (1995)': {'Cinco Estrellas': 192,\n",
       "  'Total_val': 517,\n",
       "  'genero': 'Drama|Sci-Fi'},\n",
       " 'Sabrina (1995)': {'Cinco Estrellas': 151,\n",
       "  'Total_val': 379,\n",
       "  'genero': 'Comedy|Romance'},\n",
       " 'Sense and Sensibility (1995)': {'Cinco Estrellas': 349,\n",
       "  'Total_val': 539,\n",
       "  'genero': 'Drama|Romance'},\n",
       " 'Shanghai Triad (Yao a yao yao dao waipo qiao) ...': {'Cinco Estrellas': 21,\n",
       "  'Total_val': 54,\n",
       "  'genero': 'Drama'},\n",
       " 'Sudden Death (1995)': {'Cinco Estrellas': 22,\n",
       "  'Total_val': 84,\n",
       "  'genero': 'Action'},\n",
       " 'Tom and Huck (1995)': {'Cinco Estrellas': 18,\n",
       "  'Total_val': 61,\n",
       "  'genero': \"Adventure|Children's\"},\n",
       " 'Toy Story (1995)': {'Cinco Estrellas': 835,\n",
       "  'Total_val': 1241,\n",
       "  'genero': \"Animation|Children's|Comedy\"},\n",
       " 'Waiting to Exhale (1995)': {'Cinco Estrellas': 31,\n",
       "  'Total_val': 143,\n",
       "  'genero': 'Comedy|Drama'}}"
      ]
     },
     "execution_count": 14,
     "metadata": {},
     "output_type": "execute_result"
    }
   ],
   "source": [
    "# Solución:\n",
    "\n",
    "content = {}\n",
    "# Obtenemos cada una de las filas de la tabla \n",
    "rows = soup.find_all('tr')\n",
    "for r in rows:\n",
    "    #Seleccionamos las celdas de cada una de las filas de la tabla (td)\n",
    "    celdas=r.find_all('td')\n",
    "    \n",
    "    # ignoramos la primera celda, que no tiene elementos td sino th \n",
    "    # (ver HTML de la página web)\n",
    "    if len(celdas)>0:           \n",
    "        titulo = celdas[0].string\n",
    "        genero = celdas[1].string\n",
    "        valoraciones_5 =  int(celdas[5].string)\n",
    "        restoVal = int(celdas[5].string) + int(celdas[4].string) + int(celdas[3].string)\n",
    "        content[titulo] = {'genero' : genero, 'Cinco Estrellas': valoraciones_5, \n",
    "                           'Total_val' :restoVal  }\n",
    "\n",
    "content"
   ]
  },
  {
   "cell_type": "markdown",
   "metadata": {},
   "source": [
    "-----------------"
   ]
  },
  {
   "cell_type": "markdown",
   "metadata": {},
   "source": [
    "<a rel=\"license\" href=\"http://creativecommons.org/licenses/by-nc-sa/4.0/\"><img alt=\"Licencia Creative Commons\" style=\"border-width:0\" src=\"https://i.creativecommons.org/l/by-nc-sa/4.0/88x31.png\" /></a><br />"
   ]
  }
 ],
 "metadata": {
  "anaconda-cloud": {},
  "kernelspec": {
   "display_name": "Python [default]",
   "language": "python",
   "name": "python3"
  },
  "language_info": {
   "codemirror_mode": {
    "name": "ipython",
    "version": 3
   },
   "file_extension": ".py",
   "mimetype": "text/x-python",
   "name": "python",
   "nbconvert_exporter": "python",
   "pygments_lexer": "ipython3",
   "version": "3.5.2"
  }
 },
 "nbformat": 4,
 "nbformat_minor": 0
}
