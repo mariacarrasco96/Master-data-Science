{
 "cells": [
  {
   "cell_type": "markdown",
   "metadata": {
    "collapsed": true
   },
   "source": [
    "#  Encuesta agricultor"
   ]
  },
  {
   "cell_type": "markdown",
   "metadata": {},
   "source": [
    "<img src=\"./images/radish.jpg\" alt=\"Rabanitos\" style=\"width: 300px;\"/>"
   ]
  },
  {
   "cell_type": "markdown",
   "metadata": {},
   "source": [
    "Supongamos que tenemos un fichero de texto [encuesta](./datos/radishsurvey.txt) con los datos de una encuesta realizada por un agricultor de rábanos. Dicho fichero recoge información de las preferencias de los consumidores acerca de las distintas variedades.\n",
    "\n",
    "* Cada línea del fichero tiene el siguiente formato:\n",
    "$$\n",
    " nombre\\_cliente \\ - \\ variedad\\_de\\_rábano\n",
    "$$\n",
    "\n"
   ]
  },
  {
   "cell_type": "markdown",
   "metadata": {},
   "source": [
    "#### 1 Ejercicio"
   ]
  },
  {
   "cell_type": "markdown",
   "metadata": {},
   "source": [
    "El fichero dispone de casi 700 opiniones de usuarios. Abre el fichero para ver el contenido.\n",
    "   1. Consulta el directorio de trabajo de Ipython. Para ello ejecuta el comando mágico `%pwd` en la siguiente celda.\n",
    "   2. Descárgate el fichero  [encuesta](./datos/radishsurvey.txt) en tu directorio de trabajo\n",
    "   3. Ábrelo con la instrucción __open__.\n",
    "   4. Realiza un print de las 10 primeras líneas del fichero. Utiliza un bucle __for__ de 10 iteraciones para leer el contenido del fichero. "
   ]
  },
  {
   "cell_type": "code",
   "execution_count": 1,
   "metadata": {},
   "outputs": [
    {
     "data": {
      "text/plain": [
       "'./datos/radishsurvey.txt'"
      ]
     },
     "execution_count": 1,
     "metadata": {},
     "output_type": "execute_result"
    }
   ],
   "source": [
    "ruta = './datos/radishsurvey.txt'\n",
    "ruta"
   ]
  },
  {
   "cell_type": "code",
   "execution_count": 2,
   "metadata": {},
   "outputs": [],
   "source": [
    "# Sol:\n"
   ]
  },
  {
   "cell_type": "markdown",
   "metadata": {},
   "source": [
    "#### 2 Ejercicio"
   ]
  },
  {
   "cell_type": "markdown",
   "metadata": {},
   "source": [
    "Escribe una función llamada __clientes__ que devuelva la lista de clientes que han votado por alguna variedad de rábanos.\n",
    "\n",
    "1. Utiliza un bucle __for__ para leer el contenido completo del fichero.\n",
    "1. Usa la función __strip__ para eliminar los saltos de línea.\n",
    "2. Usa la función __split__ para separar el nombre del cliente y la variedad de rábano\n",
    "3. Utiliza la función __append__ para añadir el nombre del cliente a una lista de clientes (previamente inicializada).\n",
    "3. No te olvides de realizar un __return__ para devolver el resultado.\n",
    "\n",
    "__Nota__: El cliente número 15 en la lista es \"Jonathan Rolph\"."
   ]
  },
  {
   "cell_type": "code",
   "execution_count": 11,
   "metadata": {},
   "outputs": [],
   "source": [
    "# Sol: \n",
    "\n",
    "def clientes(file = ''):\n",
    "    ...\n",
    "    "
   ]
  },
  {
   "cell_type": "markdown",
   "metadata": {},
   "source": [
    "#### 3 Ejercicio"
   ]
  },
  {
   "cell_type": "markdown",
   "metadata": {},
   "source": [
    "El agricultor desea conocer el número total de votos que ha recibido la variedad de rábanos 'White Icicle'. Define una función denominada __votosWI__  que calcula el dato pedido.\n",
    "\n",
    "1. Utiliza una variable entera inicializada a 0 para almacenar el contador de votos.\n",
    "1. Utiliza un bucle __for__ para leer el contenido del fichero.\n",
    "1. Usa la función __strip__ para eliminar los saltos de línea.\n",
    "2. Usa la función __split__ para separar el nombre del cliente y la variedad de rábano\n",
    "3. Usa la instrucción __if__ para comprobar si la variedad de rábano es 'White Icicle'. En caso afirmativo suma 1 al contador de votos.\n",
    "3. No te olvides de devolver el número de votos mediante la instrucción __return__\n",
    "\n",
    "\n",
    "__Nota__: El resultado es: 59 votos."
   ]
  },
  {
   "cell_type": "code",
   "execution_count": 18,
   "metadata": {},
   "outputs": [],
   "source": [
    "# Sol:\n",
    "def votosWI(file = ''):\n",
    "    .... "
   ]
  },
  {
   "cell_type": "markdown",
   "metadata": {},
   "source": [
    "#### 4 Ejercicio"
   ]
  },
  {
   "cell_type": "markdown",
   "metadata": {},
   "source": [
    "Generaliza la función anterior y define una función que calcule el número de votos que ha recibido una variedad cualquiera de rábanos. \n",
    "* Define una función llamada __votos__ que reciba como parámetro una variedad de rábano y devuelva la cantidad de votos.\n",
    "\n",
    "__Nota__: La variedad _Snow Belle_ ha recibido 58 votos."
   ]
  },
  {
   "cell_type": "code",
   "execution_count": 20,
   "metadata": {},
   "outputs": [],
   "source": [
    "# Sol:\n",
    "def votos(tipo_rabano, file= ' '):\n",
    "    ....\n",
    "    "
   ]
  },
  {
   "cell_type": "markdown",
   "metadata": {},
   "source": [
    "#### 5 Ejercicio"
   ]
  },
  {
   "cell_type": "markdown",
   "metadata": {},
   "source": [
    "Define una función llamada __clientesPorVariedad__ que reciba como parámetro una variedad de rábano y  devuelva la lista de clientes que han votado por esa variedad. Ten en cuenta que esta función es casi idéntica que la anterior.\n",
    "\n",
    "__Nota__: Prueba con la variedad de rábanos _White Icicle_. La solución será una lista donde los primeros elementos son:\n",
    "\n",
    "['Luke Komine', 'Bailey Derrington', 'Tyler Forbes', 'Gianfranco Cremonesi', 'Tao Hsiao', ...]"
   ]
  },
  {
   "cell_type": "code",
   "execution_count": 26,
   "metadata": {},
   "outputs": [
    {
     "data": {
      "text/plain": [
       "'oo'"
      ]
     },
     "execution_count": 26,
     "metadata": {},
     "output_type": "execute_result"
    }
   ],
   "source": [
    "'  oo'.lstrip()"
   ]
  },
  {
   "cell_type": "code",
   "execution_count": 25,
   "metadata": {},
   "outputs": [],
   "source": [
    "# Sol: \n",
    "def clientesPorVariedad(tipo_rabano, file= ' '):\n",
    "    ...."
   ]
  },
  {
   "cell_type": "markdown",
   "metadata": {},
   "source": [
    "#### 6 Ejercicio"
   ]
  },
  {
   "cell_type": "markdown",
   "metadata": {},
   "source": [
    "Al agricultor le gustaría conocer el número de votos recibidos por cada variedad.\n",
    "Define una función llamada __votos_por_variedad__ que devuelva la información del número de votos por variedad. Usa un diccionario para almacenar esa información. La clave del diccionario es la variedad y el valor es un entero que representa el número de votos.\n",
    "\n",
    "1. Crea un diccionario vacío.\n",
    "1. Utiliza un bucle __for__ para leer el contenido del fichero.\n",
    "1. Usa la función __strip__ para eliminar los saltos de línea.\n",
    "2. Usa la función __split__ para separar el nombre del cliente y la variedad de rábano\n",
    "3. Usa la instrucción __if__ para comprobar si la variedad está en el diccionario. En caso afirmativo suma 1 al valor. En caso contrario añade una nueva variedad al diccionario.\n",
    "3. No te olvides de devolver el diccionario pedido mediante la instrucción __return__.\n",
    "\n",
    "\n",
    "\n"
   ]
  },
  {
   "cell_type": "code",
   "execution_count": 29,
   "metadata": {},
   "outputs": [
    {
     "data": {
      "text/plain": [
       "{' cherry belle': 2,\n",
       " ' daikon': 1,\n",
       " ' plum purple': 2,\n",
       " ' red king': 1,\n",
       " ' sicily giant': 1,\n",
       " ' snow belle': 2,\n",
       " ' white icicle': 1,\n",
       " 'april cross': 72,\n",
       " 'bunny tail': 72,\n",
       " 'champion': 76,\n",
       " 'cherry  belle': 1,\n",
       " 'cherry belle': 55,\n",
       " 'daikon': 62,\n",
       " 'french breakfast': 72,\n",
       " 'plum  purple': 1,\n",
       " 'plum purple': 54,\n",
       " 'red king': 55,\n",
       " 'sicily  giant': 1,\n",
       " 'sicily giant': 55,\n",
       " 'snow belle': 61,\n",
       " 'white icicle': 64}"
      ]
     },
     "execution_count": 29,
     "metadata": {},
     "output_type": "execute_result"
    }
   ],
   "source": [
    "# Sol: \n",
    "def votos_por_variedad( file= ' '):\n",
    "    ...."
   ]
  },
  {
   "cell_type": "markdown",
   "metadata": {},
   "source": [
    "Observa la solución. Si te das cuenta, en el diccionario aparecen variedades con minúscula y mayúscula ('white icicle'  y 'White Icicle'). También aparecen variedades con espacios en blanco al principio. Un desastre de datos!.\n",
    "\n",
    "------\n",
    "\n",
    "Tenemos que hacer una limpieza de datos para solventar el problema anterior. \n",
    "* Corrige  la función anterior haciendo uso de la función __strip__ y __title__ en cada variedad de rábanos.\n",
    "\n",
    "El diccionario generado es el siguiente:\n",
    "\n",
    "{'April Cross': 72,\n",
    " 'Bunny Tail': 72, \n",
    " 'Champion': 76,\n",
    " 'Cherry  Belle': 1,\n",
    " 'Cherry Belle': 57,\n",
    " 'Daikon': 63,\n",
    " 'French Breakfast': 72,\n",
    " 'Plum  Purple': 1,\n",
    " 'Plum Purple': 56,\n",
    " 'Red King': 56,\n",
    " 'Sicily  Giant': 1,\n",
    " 'Sicily Giant': 56,\n",
    " 'Snow Belle': 63,\n",
    " 'White Icicle': 65}\n",
    " \n",
    "----\n",
    " Pero aún salen cosas raras. Fíjate en las variedades 'Sicily  Giant' y  'Sicily Giant'. Deberían ser la misma variedad.\n",
    "\n",
    "* Usa el método __replace__ para sustituir las apariciones de dos espacios en blanco por un solo espacio en blanco."
   ]
  },
  {
   "cell_type": "code",
   "execution_count": 16,
   "metadata": {},
   "outputs": [],
   "source": [
    "# Sol: \n"
   ]
  },
  {
   "cell_type": "markdown",
   "metadata": {},
   "source": [
    "#### 7 Ejercicio"
   ]
  },
  {
   "cell_type": "markdown",
   "metadata": {},
   "source": [
    "El agricultor desea guardar en un fichero de texto la lista de las variedades junto con el número de votos obtenidos.\n",
    "* Abre un fichero llamado __resultado.txt__ en modo escritura\n",
    "* Invoca la función  __votos_por_variedad__ para obtener el diccionario que contiene el número de votos por variedad.\n",
    "* Utiliza la instrucción __for__ para iterar sobre los elementos del diccionario y escribir en el fichero.\n",
    "* Cierra el fichero."
   ]
  },
  {
   "cell_type": "code",
   "execution_count": 31,
   "metadata": {},
   "outputs": [],
   "source": [
    "# Sol:\n"
   ]
  },
  {
   "cell_type": "markdown",
   "metadata": {},
   "source": [
    "## Referencias"
   ]
  },
  {
   "cell_type": "markdown",
   "metadata": {},
   "source": [
    "* [Working with Strings](http://esparta.github.io/python-data-intro/core/strings.html)"
   ]
  }
 ],
 "metadata": {
  "kernelspec": {
   "display_name": "Python 3",
   "language": "python",
   "name": "python3"
  },
  "language_info": {
   "codemirror_mode": {
    "name": "ipython",
    "version": 3
   },
   "file_extension": ".py",
   "mimetype": "text/x-python",
   "name": "python",
   "nbconvert_exporter": "python",
   "pygments_lexer": "ipython3",
   "version": "3.6.3"
  },
  "nbTranslate": {
   "displayLangs": [
    "en",
    "es"
   ],
   "hotkey": "alt-t",
   "langInMainMenu": true,
   "sourceLang": "es",
   "targetLang": "en",
   "useGoogleTranslate": true
  },
  "toc": {
   "nav_menu": {
    "height": "215px",
    "width": "252px"
   },
   "number_sections": true,
   "sideBar": true,
   "skip_h1_title": false,
   "title_cell": "Table of Contents",
   "title_sidebar": "Contents",
   "toc_cell": false,
   "toc_position": {},
   "toc_section_display": "block",
   "toc_window_display": true
  }
 },
 "nbformat": 4,
 "nbformat_minor": 1
}
