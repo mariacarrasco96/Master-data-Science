{
 "cells": [
  {
   "cell_type": "markdown",
   "metadata": {
    "collapsed": true
   },
   "source": [
    "#  Ejercicios 7"
   ]
  },
  {
   "cell_type": "markdown",
   "metadata": {},
   "source": [
    "Supongamos que tenemos un fichero de texto [encuesta](./datos/radishsurvey.txt) con los datos de una encuesta realizada por un agricultor de rábanos. Dicho fichero recoge información de las preferencias de los consumidores acerca de las distintas variedades.\n",
    "\n",
    "* Cada línea del fichero tiene el siguiente formato:\n",
    "$$\n",
    " nombre\\_cliente \\ - \\ variedad\\_de\\_rábano\n",
    "$$\n",
    "\n"
   ]
  },
  {
   "cell_type": "markdown",
   "metadata": {},
   "source": [
    "#### 1 Ejercicio"
   ]
  },
  {
   "cell_type": "markdown",
   "metadata": {},
   "source": [
    "El fichero dispone de casi 700 opiniones de usuarios. Abre el fichero para ver el contenido.\n",
    "   1. Consulta el directorio de trabajo de Ipython. Para ello ejecuta el comando mágico `%pwd` en la siguiente celda.\n",
    "   2. Descárgate el fichero  [encuesta](./datos/radishsurvey.txt) en tu directorio de trabajo\n",
    "   3. Ábrelo con la instrucción __open__.\n",
    "   4. Realiza un print de las 10 primeras líneas del fichero. Utiliza un bucle __for__ para leer el contenido del fichero. Cuando se recorran las 10 primeras líneas usa la instrucción __break__ par detener la ejecución del __for__."
   ]
  },
  {
   "cell_type": "code",
   "execution_count": 1,
   "metadata": {
    "collapsed": false
   },
   "outputs": [
    {
     "data": {
      "text/plain": [
       "['Evie Pulsford - April Cross\\n',\n",
       " 'Matilda Condon - April Cross\\n',\n",
       " 'Samantha Mansell - Champion\\n',\n",
       " 'geronima trevisani - cherry belle\\n',\n",
       " 'Alexandra Shoebridge - Snow Belle\\n',\n",
       " 'Sarah Ahuia Ova - Snow Belle\\n',\n",
       " 'Emma Slattery - Bunny Tail\\n',\n",
       " 'Fabiana  Milanesi - Champion\\n',\n",
       " 'Makayla McMinn - Snow Belle\\n',\n",
       " \"Julian O'Leary - Sicily Giant\\n\"]"
      ]
     },
     "execution_count": 1,
     "metadata": {},
     "output_type": "execute_result"
    }
   ],
   "source": [
    "# Sol:\n",
    "ruta_file = './datos/radishsurvey.txt'\n",
    "archivo = open(ruta_file)\n",
    "archivo.readlines()[0:10]"
   ]
  },
  {
   "cell_type": "markdown",
   "metadata": {},
   "source": [
    "#### 2 Ejercicio"
   ]
  },
  {
   "cell_type": "markdown",
   "metadata": {},
   "source": [
    "Escribe una función llamada __clientes__ que devuelva la lista de clientes que han votado por alguna variedad de rábanos.\n",
    "\n",
    "1. Utiliza un bucle __for__ para leer el contenido del fichero.\n",
    "1. Usa la función __strip__ para eliminar los saltos de línea.\n",
    "2. Usa la función __split__ para separar el nombre del cliente y la variedad de rábano\n",
    "3. Utiliza la función __append__ para añadir el nombre del cliente a una lista de clientes (previamente inicializada).\n",
    "3. No te olvides de realizar un __return__ para devolver el resultado.\n",
    "\n",
    "__Nota__: El clientee número 15 en la lista es \"Jonathan Rolph\"."
   ]
  },
  {
   "cell_type": "code",
   "execution_count": 2,
   "metadata": {
    "collapsed": false
   },
   "outputs": [
    {
     "name": "stdout",
     "output_type": "stream",
     "text": [
      "Jonathan Rolph\n"
     ]
    }
   ],
   "source": [
    "# Sol: \n",
    "def clientes(f):\n",
    "    res= []\n",
    "    for l in f:    \n",
    "        l = l.strip()\n",
    "        voto = l.split(' - ')[0]\n",
    "        res.append(voto)\n",
    "    return res\n",
    "file = open(ruta_file)\n",
    "print(clientes(file)[15])"
   ]
  },
  {
   "cell_type": "markdown",
   "metadata": {},
   "source": [
    "#### 3 Ejercicio"
   ]
  },
  {
   "cell_type": "markdown",
   "metadata": {},
   "source": [
    "El agricultor desea conocer el número total de votos que ha recibido la variedad de rábanos 'White Icicle'. Define una función denominada __votosWI__  que calcula el dato pedido.\n",
    "\n",
    "1. Utiliza una variable entera inicializada a 0 para almacenar el contador de votos.\n",
    "1. Utiliza un bucle __for__ para leer el contenido del fichero.\n",
    "1. Usa la función __strip__ para eliminar los saltos de línea.\n",
    "2. Usa la función __split__ para separar el nombre del cliente y la variedad de rábano\n",
    "3. Usa la instrucción __if__ para comprobar si la variedad de rábano es 'White Icicle'. En caso afirmativo suma 1 al contador de votos.\n",
    "3. No te olvides de devolver el número de votos mediante la instrucción __return__\n",
    "\n",
    "\n",
    "__Nota__: El resultado es: 59 votos."
   ]
  },
  {
   "cell_type": "code",
   "execution_count": 3,
   "metadata": {
    "collapsed": false
   },
   "outputs": [
    {
     "name": "stdout",
     "output_type": "stream",
     "text": [
      "59\n"
     ]
    }
   ],
   "source": [
    "# Sol:\n",
    "def votos(f):\n",
    "    cont = 0\n",
    "    for l in f:    \n",
    "        l = l.strip()\n",
    "        voto = l.split(' - ')\n",
    "        nombre, rabano = voto\n",
    "        #print voto\n",
    "        if rabano == 'White Icicle':\n",
    "            cont = cont + 1\n",
    "    return cont\n",
    "    \n",
    "file = open(ruta_file)   \n",
    "print(votos(file))\n"
   ]
  },
  {
   "cell_type": "markdown",
   "metadata": {},
   "source": [
    "#### 4 Ejercicio"
   ]
  },
  {
   "cell_type": "markdown",
   "metadata": {},
   "source": [
    "Generaliza la función anterior y define una función que calcule el número de votos que ha recibido una variedad cualquiera de rábanos. \n",
    "* Define una función llamada __votos__ que reciba como parámetro una variedad de rábano y devuelva la cantidad de votos.\n",
    "\n",
    "__Nota__: La variedad _Snow Belle_ ha recibido 58 votos."
   ]
  },
  {
   "cell_type": "code",
   "execution_count": 4,
   "metadata": {
    "collapsed": false
   },
   "outputs": [
    {
     "name": "stdout",
     "output_type": "stream",
     "text": [
      "58\n"
     ]
    }
   ],
   "source": [
    "# Sol:\n",
    "\n",
    "def votos_var(f, variedad):\n",
    "    cont = 0\n",
    "    for l in f:    \n",
    "        l = l.strip()\n",
    "        voto = l.split(' - ')\n",
    "        nombre, rabano = voto\n",
    "        #print voto\n",
    "        if rabano == variedad:\n",
    "            cont = cont + 1\n",
    "    return cont\n",
    "\n",
    "file = open(ruta_file)\n",
    "print(votos_var(file, 'Snow Belle'))"
   ]
  },
  {
   "cell_type": "markdown",
   "metadata": {},
   "source": [
    "#### 5 Ejercicio"
   ]
  },
  {
   "cell_type": "markdown",
   "metadata": {},
   "source": [
    "Define una función llamada __clientesPorVariedad__ que reciba como parámetro una variedad de rábano y  devuelva la lista de clientes que han votado por esa variedad. Ten en cuenta que esta función es casi idéntica que la anterior.\n",
    "\n",
    "__Nota__: Prueba con la variedad de rábanos _White Icicle_. La solución será una lista donde los primeros elementos son:\n",
    "\n",
    "['Luke Komine', 'Bailey Derrington', 'Tyler Forbes', 'Gianfranco Cremonesi', 'Tao Hsiao', ...]"
   ]
  },
  {
   "cell_type": "code",
   "execution_count": 5,
   "metadata": {
    "collapsed": false
   },
   "outputs": [
    {
     "data": {
      "text/plain": [
       "['Luke Komine',\n",
       " 'Bailey Derrington',\n",
       " 'Tyler Forbes',\n",
       " 'Gianfranco Cremonesi',\n",
       " 'Tao Hsiao',\n",
       " 'Emily Walters',\n",
       " 'Thomas Oom',\n",
       " 'Stephanie Schnaars',\n",
       " 'Anna Denning',\n",
       " 'Ruby Fox',\n",
       " 'Ali Dedman',\n",
       " 'Sarah Milford',\n",
       " 'Hudson Dodgshun',\n",
       " 'Lara Salting',\n",
       " 'Amelie Farber',\n",
       " 'Isabella Pardey',\n",
       " 'Zhi Chin',\n",
       " 'Caitlyn Mullah',\n",
       " 'Taj Shackell',\n",
       " 'Xin Qian Shih',\n",
       " 'Abigail Clark',\n",
       " 'Bianca Knopwood',\n",
       " 'Mia Legg',\n",
       " 'Lilian Macquarie',\n",
       " 'Zachary Bass',\n",
       " 'Hayley Coverdale',\n",
       " 'David Moynihan',\n",
       " 'Angus De Mestre',\n",
       " 'Emily Plante',\n",
       " 'Kiara Maxwell-Mahon',\n",
       " 'Alex Falk',\n",
       " 'George Carandini',\n",
       " 'Makayla Fairbairn',\n",
       " 'Yue Wan Yeh',\n",
       " 'Timothy Beeton',\n",
       " 'Blake Hurst',\n",
       " 'Zhen Juan Tsai',\n",
       " 'Christopher Moss',\n",
       " 'Alicia Farmer',\n",
       " 'Jasmine Baughan',\n",
       " 'Dominic Nangle',\n",
       " 'Yue Yan Hu',\n",
       " 'Adele Buccho',\n",
       " 'Archie Mathy',\n",
       " 'Pia Folliero',\n",
       " 'Koby Ledger',\n",
       " 'Jasper Harper',\n",
       " 'Patrick Tilly',\n",
       " 'Isabelle Camden',\n",
       " 'Amy Clunie',\n",
       " 'Declan Winston',\n",
       " 'James Luke',\n",
       " 'Riley Stewart',\n",
       " 'Rory Evenden',\n",
       " 'Eleuterio Lombardo',\n",
       " 'Yong Hsiao',\n",
       " 'Toby Queale',\n",
       " 'Jasper Alfred',\n",
       " 'Durante Ferri']"
      ]
     },
     "execution_count": 5,
     "metadata": {},
     "output_type": "execute_result"
    }
   ],
   "source": [
    "# Sol: \n",
    "def clientesPorVariedad(f,variedad):\n",
    "    res= []\n",
    "    for l in f:    \n",
    "        l = l.strip()\n",
    "        voto = l.split(' - ')\n",
    "        #print voto\n",
    "        if voto[1] == variedad:\n",
    "            res.append(voto[0])\n",
    "    return res\n",
    "\n",
    "file = open(ruta_file)   \n",
    "clientesPorVariedad(file,'White Icicle')"
   ]
  },
  {
   "cell_type": "markdown",
   "metadata": {},
   "source": [
    "#### 6 Ejercicio"
   ]
  },
  {
   "cell_type": "markdown",
   "metadata": {},
   "source": [
    "Al agricultor le gustaría conocer el número de votos recibidos por cada variedad.\n",
    "Define una función llamada __votos_por_variedad__ que devuelva la información del número de votos por variedad. Usa un diccionario para almacenar esa información. La clave del diccionario es la variedad y el valor es un entero que representa el número de votos.\n",
    "\n",
    "1. Crea un diccionario vacío.\n",
    "1. Utiliza un bucle __for__ para leer el contenido del fichero.\n",
    "1. Usa la función __strip__ para eliminar los saltos de línea.\n",
    "2. Usa la función __split__ para separar el nombre del cliente y la variedad de rábano\n",
    "3. Usa la instrucción __if__ para comprobar si la variedad está en el diccionario. En caso afirmativo suma 1 al valor. En caso contrario añade una nueva variedad al diccionario.\n",
    "3. No te olvides de devolver el diccionario pedido mediante la instrucción __return__.\n",
    "\n",
    "\n",
    "\n"
   ]
  },
  {
   "cell_type": "code",
   "execution_count": 6,
   "metadata": {
    "collapsed": false
   },
   "outputs": [
    {
     "name": "stdout",
     "output_type": "stream",
     "text": [
      "{' Cherry Belle': 2,\n",
      " ' Daikon': 1,\n",
      " ' Plum Purple': 1,\n",
      " ' Red King': 1,\n",
      " ' Sicily Giant': 1,\n",
      " ' Snow Belle': 2,\n",
      " ' White Icicle': 1,\n",
      " ' plum purple': 1,\n",
      " 'April Cross': 67,\n",
      " 'April cross': 1,\n",
      " 'Bunny Tail': 68,\n",
      " 'Champion': 75,\n",
      " 'Cherry  Belle': 1,\n",
      " 'Cherry Belle': 53,\n",
      " 'Daikon': 58,\n",
      " 'French Breakfast': 65,\n",
      " 'Plum  Purple': 1,\n",
      " 'Plum Purple': 53,\n",
      " 'Red King': 52,\n",
      " 'Sicily  Giant': 1,\n",
      " 'Sicily Giant': 52,\n",
      " 'Snow Belle': 58,\n",
      " 'White Icicle': 59,\n",
      " 'april cross': 4,\n",
      " 'bunny tail': 4,\n",
      " 'champion': 1,\n",
      " 'cherry belle': 2,\n",
      " 'daikon': 4,\n",
      " 'french breakfast': 7,\n",
      " 'plum purple': 1,\n",
      " 'red king': 3,\n",
      " 'sicily giant': 3,\n",
      " 'snow belle': 3,\n",
      " 'white icicle': 5}\n"
     ]
    }
   ],
   "source": [
    "# Sol: \n",
    "file = open(ruta_file)\n",
    "def votos_por_variedad(f):\n",
    "    res= {}\n",
    "    for l in f:    \n",
    "        l = l.strip()\n",
    "        nombre, variedad = l.split(' - ')\n",
    "        if variedad in res:\n",
    "            res[variedad] = res[variedad] + 1\n",
    "        else:\n",
    "            res[variedad] = 1\n",
    "    return res\n",
    "    \n",
    "from pprint import pprint\n",
    "\n",
    "d = votos_por_variedad(file)\n",
    "pprint(d) \n"
   ]
  },
  {
   "cell_type": "markdown",
   "metadata": {},
   "source": [
    "Observa la solución. Si te das cuenta, en el diccionario aparecen variedades con minúscula y mayúscula ('white icicle'  y 'White Icicle'). También aparecen variedades con espacios en blanco al principio. Un desastre de datos!.\n",
    "\n",
    "------\n",
    "\n",
    "Tenemos que hacer una limpieza de datos para solventar el problema anterior. \n",
    "* Corrige  la función anterior haciendo uso de la función __strip__ y __title__ en cada variedad de rábanos.\n",
    "\n",
    "El diccionario generado es el siguiente:\n",
    "\n",
    "{'April Cross': 72,\n",
    " 'Bunny Tail': 72, \n",
    " 'Champion': 76,\n",
    " 'Cherry  Belle': 1,\n",
    " 'Cherry Belle': 57,\n",
    " 'Daikon': 63,\n",
    " 'French Breakfast': 72,\n",
    " 'Plum  Purple': 1,\n",
    " 'Plum Purple': 56,\n",
    " 'Red King': 56,\n",
    " 'Sicily  Giant': 1,\n",
    " 'Sicily Giant': 56,\n",
    " 'Snow Belle': 63,\n",
    " 'White Icicle': 65}\n",
    " \n",
    "----\n",
    " Pero aún salen cosas raras. Fíjate en las variedades 'Sicily  Giant' y  'Sicily Giant'. Deberían ser la misma variedad.\n",
    "\n",
    "* Usa el método __replace__ para sustituir las apariciones de dos espacios en blanco por un solo espacio en blanco."
   ]
  },
  {
   "cell_type": "code",
   "execution_count": 7,
   "metadata": {
    "collapsed": false
   },
   "outputs": [
    {
     "name": "stdout",
     "output_type": "stream",
     "text": [
      "{'April Cross': 72,\n",
      " 'Bunny Tail': 72,\n",
      " 'Champion': 76,\n",
      " 'Cherry Belle': 58,\n",
      " 'Daikon': 63,\n",
      " 'French Breakfast': 72,\n",
      " 'Plum Purple': 57,\n",
      " 'Red King': 56,\n",
      " 'Sicily Giant': 57,\n",
      " 'Snow Belle': 63,\n",
      " 'White Icicle': 65}\n"
     ]
    }
   ],
   "source": [
    "# Sol: \n",
    "file = open(ruta_file)\n",
    "def votos_por_variedad(f):\n",
    "    res= {}\n",
    "    for l in f:    \n",
    "        l = l.strip()\n",
    "        nombre, variedad = l.split(' - ')\n",
    "        variedad = variedad.strip().title().replace('  ', ' ')\n",
    "        \n",
    "        if variedad in res:\n",
    "            res[variedad] = res[variedad] + 1\n",
    "        else:\n",
    "            res[variedad] = 1\n",
    "    return res\n",
    "    \n",
    "from pprint import pprint\n",
    "\n",
    "d = votos_por_variedad(file)\n",
    "pprint(d)  "
   ]
  },
  {
   "cell_type": "markdown",
   "metadata": {},
   "source": [
    "#### 7 Ejercicio"
   ]
  },
  {
   "cell_type": "markdown",
   "metadata": {},
   "source": [
    "El agricultor desea guardar en un fichero de texto la lista de las variedades junto con el número de votos obtenidos.\n",
    "* Abre un fichero llamado __resultado.txt__ en modo escritura\n",
    "* Invoca la función  __votos_por_variedad__ para obtener el diccionario que contiene el número de votos por variedad.\n",
    "* Utiliza la instrucción __for__ para iterar sobre los elementos del diccionario y escribir en el fichero.\n",
    "* Cierra el fichero."
   ]
  },
  {
   "cell_type": "code",
   "execution_count": 8,
   "metadata": {
    "collapsed": false
   },
   "outputs": [],
   "source": [
    "# Sol:\n",
    "archivo = open('resultado.txt',  'w')\n",
    "file = open(ruta_file)\n",
    "d = votos_por_variedad(file)\n",
    "for clave, valor in d.items():\n",
    "    archivo.write( clave + ' : ' + str(valor) + '\\n')\n",
    "archivo.close()\n",
    "\n"
   ]
  },
  {
   "cell_type": "markdown",
   "metadata": {},
   "source": [
    "#### Esto no es un ejercicio. Solo ejecuta a ver qué sale ..."
   ]
  },
  {
   "cell_type": "code",
   "execution_count": 9,
   "metadata": {
    "collapsed": false
   },
   "outputs": [
    {
     "name": "stdout",
     "output_type": "stream",
     "text": [
      "Populating the interactive namespace from numpy and matplotlib\n"
     ]
    },
    {
     "data": {
      "image/png": "[encoded data removed]",
      "text/plain": [
       "<matplotlib.figure.Figure at 0x5750875668>"
      ]
     },
     "metadata": {},
     "output_type": "display_data"
    }
   ],
   "source": [
    "import matplotlib.pyplot as plt\n",
    "import numpy as np\n",
    "\n",
    "%pylab inline\n",
    "\n",
    "\n",
    "names = d.keys()\n",
    "votes = d.values()           # eje y\n",
    "\n",
    "x = np.arange(len(votes))    # eje x\n",
    "plt.bar(x, votes)            # pinto diagrama de barras\n",
    "\n",
    "plt.xticks(x+ 0.5, names, rotation=90) ;      # etiqueto el eje x con los nombres de las variedades"
   ]
  },
  {
   "cell_type": "markdown",
   "metadata": {},
   "source": [
    "# Ejercicios opcionales"
   ]
  },
  {
   "cell_type": "markdown",
   "metadata": {},
   "source": [
    "#### 8 Ejercicio"
   ]
  },
  {
   "cell_type": "markdown",
   "metadata": {},
   "source": [
    "El granjero desea conocer la variedad más votada.\n",
    "\n",
    "__Nota__: el  más votado es _Champion_."
   ]
  },
  {
   "cell_type": "code",
   "execution_count": 10,
   "metadata": {
    "collapsed": false
   },
   "outputs": [
    {
     "data": {
      "text/plain": [
       "['Champion']"
      ]
     },
     "execution_count": 10,
     "metadata": {},
     "output_type": "execute_result"
    }
   ],
   "source": [
    "# Sol:\n",
    "file = open(ruta_file)\n",
    "d = votos_por_variedad(file)\n",
    "\n",
    "\n",
    "def mas_votado(dic):\n",
    "    variedades = dic.keys()\n",
    "    values = dic.values()\n",
    "    tuplas = zip(values, variedades)\n",
    "    maximo = max(values)\n",
    "    mas_vot = []\n",
    "    for (n,rabano) in tuplas:\n",
    "        if n == maximo:\n",
    "            mas_vot.append(rabano)\n",
    "    return mas_vot\n",
    "\n",
    "mas_votado(d)\n"
   ]
  },
  {
   "cell_type": "markdown",
   "metadata": {},
   "source": [
    "#### 9 Ejercicio"
   ]
  },
  {
   "cell_type": "markdown",
   "metadata": {},
   "source": [
    "El granjero desea saber si algún cliente ha votado más de una vez. \n",
    "\n",
    "__Nota__: Solo los clientes 'Phoebe Barwell', 'Procopio Zito' han votado más de una vez."
   ]
  },
  {
   "cell_type": "code",
   "execution_count": 11,
   "metadata": {
    "collapsed": false
   },
   "outputs": [
    {
     "data": {
      "text/plain": [
       "{'Phoebe Barwell', 'Procopio Zito'}"
      ]
     },
     "execution_count": 11,
     "metadata": {},
     "output_type": "execute_result"
    }
   ],
   "source": [
    "# Sol: \n",
    "file = open(ruta_file)\n",
    "def contar_votos(f):\n",
    "    clientes = []\n",
    "    for l in f:    \n",
    "        l = l.strip()\n",
    "        nombre, variedad = l.split(' - ')   \n",
    "        clientes.append(nombre)\n",
    "    contar_votos = [ (clientes.count(x), x) for x in clientes ]  \n",
    "    mas_de_uno = []\n",
    "    for (n, nombre) in contar_votos:\n",
    "        if n > 1:\n",
    "            mas_de_uno.append(nombre)\n",
    "    mas_de_uno = set(mas_de_uno)     # para eliminar repetidos\n",
    "    return mas_de_uno\n",
    "\n",
    "contar_votos(file)"
   ]
  }
 ],
 "metadata": {
  "kernelspec": {
   "display_name": "Python 3",
   "language": "python",
   "name": "python3"
  },
  "language_info": {
   "codemirror_mode": {
    "name": "ipython",
    "version": 3
   },
   "file_extension": ".py",
   "mimetype": "text/x-python",
   "name": "python",
   "nbconvert_exporter": "python",
   "pygments_lexer": "ipython3",
   "version": "3.5.1"
  }
 },
 "nbformat": 4,
 "nbformat_minor": 0
}
