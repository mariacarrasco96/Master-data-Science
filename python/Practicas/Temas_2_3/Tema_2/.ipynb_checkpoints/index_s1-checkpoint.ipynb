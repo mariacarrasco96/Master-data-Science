{
 "cells": [
  {
   "cell_type": "markdown",
   "metadata": {},
   "source": [
    "<img src=\"./images/bankinter.png\">\n",
    "\n",
    "# Master en Data Sience para Finanzas\n",
    "\n"
   ]
  },
  {
   "cell_type": "markdown",
   "metadata": {},
   "source": [
    "## Programación en Python"
   ]
  },
  {
   "cell_type": "markdown",
   "metadata": {},
   "source": [
    "\n",
    "#### 1. Introducción al lenguaje Python y a los entornos de desarrollo\n",
    "\n",
    "1.1. [Introducción](s1_cunef_intro.html \"Intro\") ([nb](s1_cunef_intro.ipynb \"Intro\")) \n",
    "\n",
    "1.2. [Entornos de desarrollo](s1_cunef_entornos_desarrollo.html \"Entornos\") ([nb](s1_cunef_entornos_desarrollo.ipynb \"Entornos\"))    \n",
    "\n",
    "1.3. [Instalar Python con Anaconda](s1_cunef_instalacion_Anaconda.html \"Instalacion\") ([nb](s1_cunef_instalacion_Anaconda.ipynb \"Instalacion\"))    \n",
    "\n",
    "1.4. [El notebook de IPython](s1_cunef_jupyter_nb.html)  ([nb](s1_cunef_jupyter_nb.ipynb))     \n",
    "\n",
    "A continuación puedes ver un [video](https://www.youtube.com/watch?v=J5GevIHNctM) (de los muchos que puedes encontrar en la red) para familiarizarte con los entornos que hemos descrito en este tema.\n",
    "\n",
    "-----\n",
    "\n",
    "\n",
    "####  2.  Elementos básicos del lenguaje \n",
    "\n",
    "\n",
    "2.1. [Los tipos de datos básicos en Python](s1_cunef_sintaxis_01.html)  ([nb](s1_cunef_sintaxis_01.ipynb)) \n",
    "    \n",
    "2.2. [Definiendo funciones en Python](s1_cunef_funciones_00.html) ([nb](s1_ucm_funciones_00.ipynb)) \n",
    "    \n",
    "--------\n",
    "    \n",
    "#### Ejercicios\n",
    "\n",
    "* [Ejercicios 1 - html](./ejercicios/cunef_ej1.html) ([Ejercicios 1 - notebook](./ejercicios/cunef_ej1.ipynb)) \n",
    "\n",
    "\n",
    "* [Ejercicios 1- soluciones](./ejercicios/cunef_ej1_sol.html)) ([Ejercicios 1 sol](./ejercicios/cunef_ej1_sol.ipynb)) \n",
    "\n",
    "\n",
    "* [Ejercicios entregables](./ejercicios/ipython_sintaxis_02_ej.ipynb)\n",
    "\n",
    "### Unidad 3\n",
    "\n",
    " * [Estructuras de datos](s1_ucm_secuencias.html) ([nb](s1_ucm_secuencias.ipynb))\n",
    " * [unidad 3 continuacion](../session_02/s2_ucm_index.html) [nb](../session_02/s2_ucm_index.ipynb)\n",
    "\n",
    "#### Ejercicios\n",
    "\n",
    "([Ejercicios 2](./ejercicios/ucm_sintaxis_03_ej.ipynb)) ([Ejercicios 2 Sol](./ejercicios/ipython_sintaxis_03_ej_sol.ipynb))\n",
    "   \n",
    "### Unidad 4 y  5\n",
    "\n",
    " * [unidad 4 y 5](../session_03/s3_ucm_index.html) ([nb](../session_03/s3_ucm_index.ipynb))\n",
    "\n",
    "   \n",
    "### Unidad 6\n",
    "\n",
    " * [unidad 6](../session_04/s4_ucm_index.html) ([nb](../session_04/s4_ucm_index.ipynb))\n",
    " \n",
    "\n",
    "\n",
    "*  [unidad 6 continuacion](../session_05/s5_ucm_index.html) ([nb](../session_05/s5_ucm_index.ipynb))\n",
    "  s5_ucm_index\n"
   ]
  },
  {
   "cell_type": "markdown",
   "metadata": {},
   "source": [
    "## Referencias\n",
    "\n",
    "* [The Python Tutorial](https://docs.python.org/3/tutorial/index.html)\n",
    "* [Tutorial de Python. Por Guido Van Rossum](http://docs.python.org.ar/tutorial/pdfs/TutorialPython3.pdf)\n",
    "* [Jupyter notebook documentation](http://jupyter.readthedocs.org/en/latest/index.html)\n",
    "* [IPython's Rich Display System](http://nbviewer.ipython.org/github/adrn/ipython/blob/1.x/examples/notebooks/Part%205%20-%20Rich%20Display%20System.ipynb)"
   ]
  },
  {
   "cell_type": "markdown",
   "metadata": {},
   "source": [
    "----"
   ]
  },
  {
   "cell_type": "markdown",
   "metadata": {},
   "source": [
    "<a rel=\"license\" href=\"http://creativecommons.org/licenses/by-nc-sa/4.0/\"><img alt=\"Licencia Creative Commons\" style=\"border-width:0\" src=\"https://i.creativecommons.org/l/by-nc-sa/4.0/88x31.png\" /></a><br />"
   ]
  }
 ],
 "metadata": {
  "kernelspec": {
   "display_name": "Python 3",
   "language": "python",
   "name": "python3"
  },
  "language_info": {
   "codemirror_mode": {
    "name": "ipython",
    "version": 3
   },
   "file_extension": ".py",
   "mimetype": "text/x-python",
   "name": "python",
   "nbconvert_exporter": "python",
   "pygments_lexer": "ipython3",
   "version": "3.5.1"
  }
 },
 "nbformat": 4,
 "nbformat_minor": 0
}
