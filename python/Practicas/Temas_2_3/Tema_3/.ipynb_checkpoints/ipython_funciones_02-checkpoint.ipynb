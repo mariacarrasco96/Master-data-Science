{
 "cells": [
  {
   "cell_type": "markdown",
   "metadata": {},
   "source": [
    "# Funciones III"
   ]
  },
  {
   "cell_type": "markdown",
   "metadata": {},
   "source": [
    "## Generadores de objetos iterables"
   ]
  },
  {
   "cell_type": "markdown",
   "metadata": {},
   "source": [
    "En Python las listas, los diccionarios, las secuencias, etc. son objetos iterables. Por ejemplo podemos iterar sobre los elementos de una lista mediante la instrucción __for__:"
   ]
  },
  {
   "cell_type": "code",
   "execution_count": 143,
   "metadata": {
    "collapsed": false
   },
   "outputs": [
    {
     "name": "stdout",
     "output_type": "stream",
     "text": [
      "Madrid\n",
      "Barcelona\n",
      "Sevilla\n"
     ]
    }
   ],
   "source": [
    "a = ['Madrid', 'Barcelona', 'Sevilla']\n",
    "for i in a:\n",
    "    print i"
   ]
  },
  {
   "cell_type": "markdown",
   "metadata": {},
   "source": [
    "* Un generador es una forma simple de construir nuevos objetos iterables.\n",
    "* Los generadores devuelven una lista de valores de forma perezosa, es decir, devuelve valores uno a uno a medida que se  van necesitando.\n",
    "\n",
    "Para crear un generador usamos la palabra reservada __yield__ en lugar de __return__ en una función."
   ]
  },
  {
   "cell_type": "code",
   "execution_count": 144,
   "metadata": {
    "collapsed": true
   },
   "outputs": [],
   "source": [
    "def cuadrados(n):\n",
    "    v = range(n)       # genera la lista [0, 1, ... , n-1]\n",
    "    for i in v:\n",
    "        yield i ** 2        "
   ]
  },
  {
   "cell_type": "code",
   "execution_count": 145,
   "metadata": {
    "collapsed": false
   },
   "outputs": [
    {
     "data": {
      "text/plain": [
       "<generator object cuadrados at 0x0000000009933DC8>"
      ]
     },
     "execution_count": 145,
     "metadata": {},
     "output_type": "execute_result"
    }
   ],
   "source": [
    "nuevo_iterador = cuadrados(10)\n",
    "nuevo_iterador"
   ]
  },
  {
   "cell_type": "markdown",
   "metadata": {},
   "source": [
    "Ahora podemos iterar sobre el iterador creado:"
   ]
  },
  {
   "cell_type": "code",
   "execution_count": 146,
   "metadata": {
    "collapsed": false
   },
   "outputs": [
    {
     "name": "stdout",
     "output_type": "stream",
     "text": [
      "0 1 4 9 16 25 36 49 64 81\n"
     ]
    }
   ],
   "source": [
    "for i in nuevo_iterador:\n",
    "    print i,\n",
    "    \n",
    "# ejecutar dos veces esta celda "
   ]
  },
  {
   "cell_type": "markdown",
   "metadata": {},
   "source": [
    "## Cierre. Funciones que devuelven otras funciones"
   ]
  },
  {
   "cell_type": "markdown",
   "metadata": {},
   "source": [
    "Clausura o cierre es cualquier función que es generada y devuelta por otra función.\n",
    "\n",
    "La propiedad principal es que las funciones clausura __tienen acceso a las variables locales__ de la función que las crea."
   ]
  },
  {
   "cell_type": "code",
   "execution_count": 141,
   "metadata": {
    "collapsed": false
   },
   "outputs": [],
   "source": [
    "def crea_fun(a):\n",
    "    def fun():\n",
    "        print 'Conozco el valor de: %d' % a\n",
    "    return fun"
   ]
  },
  {
   "cell_type": "code",
   "execution_count": 142,
   "metadata": {
    "collapsed": false
   },
   "outputs": [
    {
     "name": "stdout",
     "output_type": "stream",
     "text": [
      "Conozco el valor de: 3\n"
     ]
    }
   ],
   "source": [
    "f = crea_fun(3)\n",
    "f()                          # llamada a la función f"
   ]
  },
  {
   "cell_type": "markdown",
   "metadata": {},
   "source": [
    "--------"
   ]
  },
  {
   "cell_type": "markdown",
   "metadata": {},
   "source": [
    "<img src=\"../iconos/Cute-Ball-Go-icon.png\" alt=\"Smiley face\" height=\"42\" width=\"42\" align: \"right\">"
   ]
  }
 ],
 "metadata": {
  "kernelspec": {
   "display_name": "Python 2",
   "language": "python",
   "name": "python2"
  },
  "language_info": {
   "codemirror_mode": {
    "name": "ipython",
    "version": 2
   },
   "file_extension": ".py",
   "mimetype": "text/x-python",
   "name": "python",
   "nbconvert_exporter": "python",
   "pygments_lexer": "ipython2",
   "version": "2.7.11"
  }
 },
 "nbformat": 4,
 "nbformat_minor": 0
}
