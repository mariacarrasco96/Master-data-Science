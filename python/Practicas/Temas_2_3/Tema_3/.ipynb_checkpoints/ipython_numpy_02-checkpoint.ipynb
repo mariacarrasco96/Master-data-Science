{
 "cells": [
  {
   "cell_type": "markdown",
   "metadata": {},
   "source": [
    "# Tabla de Contenidos\n",
    "* [Procesando Datos Usando Arrays](#Procesando-Datos-Usando-Arrays)\n",
    "\t* [Eficiencia de NumPy](#Eficiencia-de-NumPy)\n",
    "\t\t\n",
    "\t* [Expresiones condicionales](#Expresiones-condicionales)\n",
    "\t* [Métodos matemáticos y estadisticos](#Métodos-matemáticos-y-estadisticos)\n",
    "\t* [Operaciones lógicas](#Operaciones-lógicas)\n",
    "\t* [Orden](#Orden)\n",
    "\t* [Operaciones sobre conjuntos](#Operaciones-sobre-conjuntos)\n",
    "\t* [Lectura y escritura de arrays en Ficheros](#Lectura-y-escritura-de-arrays-en-Ficheros)\n",
    "\t\t* [Formato binario](#Formato-binario)\n",
    "\t\t* [Formato txt](#Formato-txt)\n",
    "\t\t* [Otras opciones en el módulo IO](#Otras-opciones-en-el-módulo-IO)\n",
    "\t* [Algebra lineal](#Algebra-lineal)\n",
    "\t\t* [La clase MATRIX](#La-clase-MATRIX)\n",
    " \n"
   ]
  },
  {
   "cell_type": "markdown",
   "metadata": {},
   "source": [
    "# Procesando Datos Usando Arrays"
   ]
  },
  {
   "cell_type": "markdown",
   "metadata": {},
   "source": [
    "## Eficiencia de NumPy"
   ]
  },
  {
   "cell_type": "markdown",
   "metadata": {},
   "source": [
    "Los arrays realizan una gestión de la memoria mucho más eficiente que las listas y por tanto se mejora el rendimiento.\n"
   ]
  },
  {
   "cell_type": "markdown",
   "metadata": {},
   "source": [
    "* Se realizan muchas operaciones mediante expresiones sobre arrays que en otros casos requerirían múltiples y costosos loops. A esto se le llama __vectorización__.\n",
    "\n",
    "* Las funciones de __NumPy__ se ejecutan de forma tan eficiente como se ejecutarían en otros lenguajes como por ejemplo Fortran, C y C++. \n",
    "\n",
    "* Para los casos en los que la ejecución sea más eficiente en otros lenguajes, como por ejemplo Fortran, existen herramientas que nos permiten ejecutar desde Python nuestros códigos en otros lenguajes como [f2py](http://docs.scipy.org/doc/numpy-dev/f2py/). "
   ]
  },
  {
   "cell_type": "markdown",
   "metadata": {},
   "source": [
    "## Expresiones condicionales"
   ]
  },
  {
   "cell_type": "markdown",
   "metadata": {},
   "source": [
    "La función  [__where__](http://wiki.scipy.org/Numpy_Example_List#where) es la versión vectorizada de la expresión ternaria __x if cond else y__ que ya hemos visto anteriormente.\n",
    "\n",
    "Supongamos que tenemos los tres arrays:"
   ]
  },
  {
   "cell_type": "code",
   "execution_count": 54,
   "metadata": {
    "collapsed": false
   },
   "outputs": [
    {
     "data": {
      "text/plain": [
       "(array([1, 2, 3, 4]), array([5, 6, 7, 8]))"
      ]
     },
     "execution_count": 54,
     "metadata": {},
     "output_type": "execute_result"
    }
   ],
   "source": [
    "import numpy as np\n",
    "x = np.arange(1,5)\n",
    "y = np.arange(5,9)\n",
    "cond = np.array([True, False, False, True])\n",
    "x, y"
   ]
  },
  {
   "cell_type": "markdown",
   "metadata": {},
   "source": [
    "Supongamos que queremos obtener el valor de x cuando se cumpla la condición en $cond$. En otro caso obtendremos el valor de y. Queremos obtener por tanto el array [1,6,7,4]."
   ]
  },
  {
   "cell_type": "code",
   "execution_count": 55,
   "metadata": {
    "collapsed": false
   },
   "outputs": [
    {
     "data": {
      "text/plain": [
       "array([1, 6, 7, 4])"
      ]
     },
     "execution_count": 55,
     "metadata": {},
     "output_type": "execute_result"
    }
   ],
   "source": [
    "# Primera versión sin operacion vectorizada where\n",
    "z1 = np.array([x if cond else y for x, y, cond in zip(x, y, cond)])\n",
    "z1"
   ]
  },
  {
   "cell_type": "code",
   "execution_count": 56,
   "metadata": {
    "collapsed": false
   },
   "outputs": [
    {
     "data": {
      "text/plain": [
       "array([1, 6, 7, 4])"
      ]
     },
     "execution_count": 56,
     "metadata": {},
     "output_type": "execute_result"
    }
   ],
   "source": [
    "# Segunda versión - operación vectorizada where\n",
    "x = np.arange(1,5)\n",
    "y = np.arange(5,9)\n",
    "cond = np.array([True, False, False, True])\n",
    "z2 = np.where(cond, x, y)\n",
    "z2"
   ]
  },
  {
   "cell_type": "markdown",
   "metadata": {},
   "source": [
    "Los dos últimos argumentos de la operación __where__ no tienen por qué ser arrays, pueden ser escalares.\n",
    "\n",
    "En análisis de datos la operación __where__ se utiliza mucho para crear nuevos arrays a partir de los datos de otros. Supongamos que tenemos un array $a$ de dos dimensiones y queremos construir otro array $r$ tal que:\n",
    "\n",
    "$$\n",
    "r(x,y) = \\begin{cases} 1 &\\mbox{if } a(x,y) \\ge 0 \\\\ \n",
    "                       -1 & \\mbox{if }  a(x,y) \\lt 0. \\end{cases}\n",
    "$$"
   ]
  },
  {
   "cell_type": "code",
   "execution_count": 57,
   "metadata": {
    "collapsed": false
   },
   "outputs": [
    {
     "data": {
      "text/plain": [
       "array([[ 0.10109082,  1.25323961,  0.17643054,  0.02164525, -0.95706447],\n",
       "       [ 0.66839243, -0.53786063, -0.08289314,  0.41694273,  0.61358669],\n",
       "       [ 1.10765718, -0.86867688, -0.43401804,  1.53861149, -1.16035282]])"
      ]
     },
     "execution_count": 57,
     "metadata": {},
     "output_type": "execute_result"
    }
   ],
   "source": [
    "a = np.random.randn(3,5)\n",
    "a"
   ]
  },
  {
   "cell_type": "code",
   "execution_count": 58,
   "metadata": {
    "collapsed": false
   },
   "outputs": [
    {
     "data": {
      "text/plain": [
       "array([[ 1,  1,  1,  1, -1],\n",
       "       [ 1, -1, -1,  1,  1],\n",
       "       [ 1, -1, -1,  1, -1]])"
      ]
     },
     "execution_count": 58,
     "metadata": {},
     "output_type": "execute_result"
    }
   ],
   "source": [
    "r = np.where( a >= 0, 1, -1)\n",
    "r"
   ]
  },
  {
   "cell_type": "markdown",
   "metadata": {},
   "source": [
    "Supongamos ahora que el array $r$ es tal  que:\n",
    "\n",
    "$$\n",
    "r(x,y) = \\begin{cases} a(x,y)*10  &\\mbox{if } a(x,y) \\ge 0 \\\\ \n",
    "                       0 & \\mbox{if }  a(x,y) \\lt 0 \\end{cases}\n",
    "$$"
   ]
  },
  {
   "cell_type": "code",
   "execution_count": 59,
   "metadata": {
    "collapsed": false
   },
   "outputs": [
    {
     "data": {
      "text/plain": [
       "array([[  1.0109082 ,  12.53239609,   1.76430541,   0.21645252,   0.        ],\n",
       "       [  6.68392428,   0.        ,   0.        ,   4.16942732,\n",
       "          6.13586685],\n",
       "       [ 11.07657182,   0.        ,   0.        ,  15.38611488,   0.        ]])"
      ]
     },
     "execution_count": 59,
     "metadata": {},
     "output_type": "execute_result"
    }
   ],
   "source": [
    "r = np.where( a >= 0, a * 10 , 0)\n",
    "r"
   ]
  },
  {
   "cell_type": "markdown",
   "metadata": {},
   "source": [
    "Pero también podemos tener expresiones más complicadas. Por ejemplo:\n",
    "\n",
    "$$\n",
    "r(x,y) = \\begin{cases} 1  &\\mbox{if } a(x,y) \\gt 0 \\\\ \n",
    "                       0  &\\mbox{if }  a(x,y) \\lt 0 \\\\\n",
    "                       -1 &\\mbox{if }  a(x,y) = 0 \\end{cases}\n",
    "$$"
   ]
  },
  {
   "cell_type": "code",
   "execution_count": 60,
   "metadata": {
    "collapsed": false
   },
   "outputs": [
    {
     "name": "stdout",
     "output_type": "stream",
     "text": [
      "[[ 0  1  0  0  0]\n",
      " [ 0  0  0  0  0]\n",
      " [ 1  0  0  1 -1]]\n"
     ]
    },
    {
     "data": {
      "text/plain": [
       "array([[ 0,  1,  0,  0,  0],\n",
       "       [ 0,  0,  0,  0,  0],\n",
       "       [ 1,  0,  0,  1, -1]])"
      ]
     },
     "execution_count": 60,
     "metadata": {},
     "output_type": "execute_result"
    }
   ],
   "source": [
    "a = a.astype(np.int32)\n",
    "print(a)\n",
    "r = np.where(a > 0, 1 , np.where( a < 0, -1 , 0))\n",
    "r"
   ]
  },
  {
   "cell_type": "markdown",
   "metadata": {},
   "source": [
    "## Métodos matemáticos y estadisticos"
   ]
  },
  {
   "cell_type": "markdown",
   "metadata": {},
   "source": [
    "El módulo __NumPy__ proporciona métodos que permiten realizar otras operaciones, como el mínimo elemento de un array, el máximo, la media de los elementos de un array, etc.\n",
    "\n",
    "[sum](http://wiki.scipy.org/Numpy_Example_List#sum),\n",
    "   [cumsum](http://wiki.scipy.org/Numpy_Example_List#cumsum), \n",
    "   [cumprod](http://wiki.scipy.org/Numpy_Example_List#cumprod), \n",
    "   \n",
    "   [max](http://wiki.scipy.org/Numpy_Example_List#max), \n",
    "   [argmax](http://wiki.scipy.org/Numpy_Example_List#argmax), \n",
    "   [min](http://wiki.scipy.org/Numpy_Example_List#min), \n",
    "   [argmin](http://wiki.scipy.org/Numpy_Example_List#argmin),\n",
    "   \n",
    "   [mean](http://wiki.scipy.org/Numpy_Example_List#mean), \n",
    "   [var](http://wiki.scipy.org/Numpy_Example_List#var),\n",
    "   [std](http://wiki.scipy.org/Numpy_Example_List#std)"
   ]
  },
  {
   "cell_type": "markdown",
   "metadata": {},
   "source": [
    "> Se puede encontrar la lista de funciones en [scipy.org](http://wiki.scipy.org/Numpy_Example_List) \n",
    ">\n"
   ]
  },
  {
   "cell_type": "code",
   "execution_count": 61,
   "metadata": {
    "collapsed": false
   },
   "outputs": [
    {
     "name": "stdout",
     "output_type": "stream",
     "text": [
      "a:  [ 0.0280171   0.94138087  0.84256275  0.969537    0.10347133  0.25374851]\n",
      "3.13871757133\n",
      "0.028017104141\n",
      "0.96953700416\n"
     ]
    }
   ],
   "source": [
    "a = np.random.rand(6)     # 6 valores aleatorios en el intervalo [0,1)\n",
    "print( \"a: \", a )\n",
    "\n",
    "print( a.sum() )\n",
    "print( a.min() )\n",
    "print( a.max() ) "
   ]
  },
  {
   "cell_type": "markdown",
   "metadata": {},
   "source": [
    "Las operaciones anteriores se han realizado para todos los valores del array, independientemente de su forma. \n",
    "* Si tenemos un array bidimensional, es posible calcular la suma de las columnas, o de las filas.  \n",
    "* Lo que tenemos que hacer es indicarlo mediante el parámetro __axis__ en el método."
   ]
  },
  {
   "cell_type": "code",
   "execution_count": 62,
   "metadata": {
    "collapsed": false
   },
   "outputs": [
    {
     "name": "stdout",
     "output_type": "stream",
     "text": [
      "a:  [0 1 2 3 4 5]\n",
      "b: \n",
      "[[0 1 2]\n",
      " [3 4 5]]\n"
     ]
    }
   ],
   "source": [
    "a = np.arange(6)        # 6 valores \n",
    "print(\"a: \", a)\n",
    "b = a.reshape(2,3)   # b se define a partir de los valores de a, sistribuyendo los valores en dos filas, tres columnas\n",
    "print( \"b: \")\n",
    "print(b)"
   ]
  },
  {
   "cell_type": "code",
   "execution_count": 67,
   "metadata": {
    "collapsed": false
   },
   "outputs": [
    {
     "name": "stdout",
     "output_type": "stream",
     "text": [
      "[3 5 7]\n",
      "[ 3 12]\n"
     ]
    }
   ],
   "source": [
    "print(b.sum(axis = 0)  )   # suma por columnas\n",
    "print(b.sum(axis = 1)  )   # suma por filas"
   ]
  },
  {
   "cell_type": "code",
   "execution_count": 68,
   "metadata": {
    "collapsed": false
   },
   "outputs": [
    {
     "name": "stdout",
     "output_type": "stream",
     "text": [
      "[ 1.5  2.5  3.5]\n"
     ]
    }
   ],
   "source": [
    "print(b.mean(axis = 0) )   # media de las columnas "
   ]
  },
  {
   "cell_type": "code",
   "execution_count": 69,
   "metadata": {
    "collapsed": false
   },
   "outputs": [
    {
     "name": "stdout",
     "output_type": "stream",
     "text": [
      "[[0 1 2]\n",
      " [3 5 7]]\n"
     ]
    }
   ],
   "source": [
    "print (b.cumsum(axis = 0)  )   # suma acumulada por columnnas"
   ]
  },
  {
   "cell_type": "code",
   "execution_count": 71,
   "metadata": {
    "collapsed": false
   },
   "outputs": [
    {
     "name": "stdout",
     "output_type": "stream",
     "text": [
      "[[0 1 2]\n",
      " [3 4 5]]\n",
      "[[ 0  0  0]\n",
      " [ 3 12 60]]\n"
     ]
    }
   ],
   "source": [
    "print (b)\n",
    "print (b.cumprod(axis = 1) )  # producto acumulado por filas"
   ]
  },
  {
   "cell_type": "markdown",
   "metadata": {},
   "source": [
    "## Operaciones lógicas"
   ]
  },
  {
   "cell_type": "markdown",
   "metadata": {},
   "source": [
    "Supongamos que queremos contar el número de elementos positivos en un array multidimensional. \n",
    "* Podemos hacer uso de que True tiene valor 1 y False vale -1"
   ]
  },
  {
   "cell_type": "code",
   "execution_count": 74,
   "metadata": {
    "collapsed": false
   },
   "outputs": [
    {
     "data": {
      "text/plain": [
       "array([[-1.54619101, -0.63327742,  0.05742903,  0.35146208, -0.59696911],\n",
       "       [-0.10126363,  1.61114447,  0.40508896,  0.36181897, -1.19850686],\n",
       "       [ 0.73076939, -0.63944547,  1.24188506, -0.584933  , -0.02404669],\n",
       "       [ 0.41509617, -0.01579121, -0.03268843,  0.53493148, -0.48425671]])"
      ]
     },
     "execution_count": 74,
     "metadata": {},
     "output_type": "execute_result"
    }
   ],
   "source": [
    "a = np.random.randn(4,5)\n",
    "a"
   ]
  },
  {
   "cell_type": "code",
   "execution_count": 75,
   "metadata": {
    "collapsed": false
   },
   "outputs": [
    {
     "data": {
      "text/plain": [
       "array([[False, False,  True,  True, False],\n",
       "       [False,  True,  True,  True, False],\n",
       "       [ True, False,  True, False, False],\n",
       "       [ True, False, False,  True, False]], dtype=bool)"
      ]
     },
     "execution_count": 75,
     "metadata": {},
     "output_type": "execute_result"
    }
   ],
   "source": [
    "(a > 0)"
   ]
  },
  {
   "cell_type": "code",
   "execution_count": 76,
   "metadata": {
    "collapsed": false
   },
   "outputs": [
    {
     "data": {
      "text/plain": [
       "9"
      ]
     },
     "execution_count": 76,
     "metadata": {},
     "output_type": "execute_result"
    }
   ],
   "source": [
    "(a > 0).sum()"
   ]
  },
  {
   "cell_type": "markdown",
   "metadata": {},
   "source": [
    "Los métodos [__all__](http://wiki.scipy.org/Numpy_Example_List#all) y   [__any__](http://wiki.scipy.org/Numpy_Example_List#any) son útiles para trabajar con arrays de booleanos.\n"
   ]
  },
  {
   "cell_type": "code",
   "execution_count": 77,
   "metadata": {
    "collapsed": false
   },
   "outputs": [
    {
     "data": {
      "text/plain": [
       "False"
      ]
     },
     "execution_count": 77,
     "metadata": {},
     "output_type": "execute_result"
    }
   ],
   "source": [
    "b = (a > 0)\n",
    "b.all()              # devuelve True si todos son True"
   ]
  },
  {
   "cell_type": "code",
   "execution_count": 78,
   "metadata": {
    "collapsed": false
   },
   "outputs": [
    {
     "data": {
      "text/plain": [
       "True"
      ]
     },
     "execution_count": 78,
     "metadata": {},
     "output_type": "execute_result"
    }
   ],
   "source": [
    "b.any()   # devuelve True si alguno es True"
   ]
  },
  {
   "cell_type": "markdown",
   "metadata": {},
   "source": [
    "## Orden"
   ]
  },
  {
   "cell_type": "markdown",
   "metadata": {},
   "source": [
    "Al igual que hacíamos con listas, es posible ordenar arrays con la función __sort__. Esta operación es muy efeciente, ya que no se ordena sobre una copia, sino que se ordena sobre el propio array."
   ]
  },
  {
   "cell_type": "code",
   "execution_count": 79,
   "metadata": {
    "collapsed": false
   },
   "outputs": [
    {
     "data": {
      "text/plain": [
       "[2, 4, 5, 6]"
      ]
     },
     "execution_count": 79,
     "metadata": {},
     "output_type": "execute_result"
    }
   ],
   "source": [
    "a = [5,6,2,4]    #lista\n",
    "a.sort()\n",
    "a"
   ]
  },
  {
   "cell_type": "code",
   "execution_count": 80,
   "metadata": {
    "collapsed": false
   },
   "outputs": [
    {
     "data": {
      "text/plain": [
       "array([[ 215,  -23,  -37,  -55,   58],\n",
       "       [ -63,  -76,  120,  -63,  -42],\n",
       "       [ -31,  -29, -188,   24,   -2],\n",
       "       [ 166,  -10,  -83,   47,  157]])"
      ]
     },
     "execution_count": 80,
     "metadata": {},
     "output_type": "execute_result"
    }
   ],
   "source": [
    "a = np.random.randn(4,5) * 100\n",
    "b = a.astype(np.int)\n",
    "b"
   ]
  },
  {
   "cell_type": "code",
   "execution_count": 81,
   "metadata": {
    "collapsed": false
   },
   "outputs": [
    {
     "data": {
      "text/plain": [
       "array([[ -63,  -76, -188,  -63,  -42],\n",
       "       [ -31,  -29,  -83,  -55,   -2],\n",
       "       [ 166,  -23,  -37,   24,   58],\n",
       "       [ 215,  -10,  120,   47,  157]])"
      ]
     },
     "execution_count": 81,
     "metadata": {},
     "output_type": "execute_result"
    }
   ],
   "source": [
    "b.sort(0)    # ordenar los elementos por columnas\n",
    "b"
   ]
  },
  {
   "cell_type": "code",
   "execution_count": 82,
   "metadata": {
    "collapsed": false
   },
   "outputs": [
    {
     "data": {
      "text/plain": [
       "array([[-188,  -76,  -63,  -63,  -42],\n",
       "       [ -83,  -55,  -31,  -29,   -2],\n",
       "       [ -37,  -23,   24,   58,  166],\n",
       "       [ -10,   47,  120,  157,  215]])"
      ]
     },
     "execution_count": 82,
     "metadata": {},
     "output_type": "execute_result"
    }
   ],
   "source": [
    "b.sort(1)    # ordenar los elementos por filas\n",
    "b"
   ]
  },
  {
   "cell_type": "markdown",
   "metadata": {},
   "source": [
    "## Operaciones sobre conjuntos"
   ]
  },
  {
   "cell_type": "markdown",
   "metadata": {},
   "source": [
    "La operación __unique__ aplicado a un array $A$ devuelve un array ordenado de valores en $a$ sin repetición:"
   ]
  },
  {
   "cell_type": "code",
   "execution_count": 83,
   "metadata": {
    "collapsed": false
   },
   "outputs": [
    {
     "data": {
      "text/plain": [
       "array([1, 2, 3, 4, 5, 6])"
      ]
     },
     "execution_count": 83,
     "metadata": {},
     "output_type": "execute_result"
    }
   ],
   "source": [
    "a = np.array([1,5,6,4,1,4,5,3,1,1,4,4,4,3,2,2,2,2])\n",
    "\n",
    "np.unique(a)"
   ]
  },
  {
   "cell_type": "markdown",
   "metadata": {},
   "source": [
    "La función __in1d__ comprueba si los valores de un array están contenidos en otro conjunto de valores. El valor devuelto es un array de booleanos."
   ]
  },
  {
   "cell_type": "code",
   "execution_count": 84,
   "metadata": {
    "collapsed": false
   },
   "outputs": [
    {
     "data": {
      "text/plain": [
       "array([[1, 5, 6],\n",
       "       [4, 1, 4],\n",
       "       [5, 3, 1],\n",
       "       [1, 4, 4],\n",
       "       [4, 3, 2],\n",
       "       [2, 2, 2]])"
      ]
     },
     "execution_count": 84,
     "metadata": {},
     "output_type": "execute_result"
    }
   ],
   "source": [
    "b = a.reshape(6,3)\n",
    "b"
   ]
  },
  {
   "cell_type": "code",
   "execution_count": 85,
   "metadata": {
    "collapsed": false
   },
   "outputs": [
    {
     "data": {
      "text/plain": [
       "array([ True, False, False, False,  True, False, False,  True,  True,\n",
       "        True, False, False, False,  True,  True,  True,  True,  True], dtype=bool)"
      ]
     },
     "execution_count": 85,
     "metadata": {},
     "output_type": "execute_result"
    }
   ],
   "source": [
    "np.in1d(b, [1,2,3])"
   ]
  },
  {
   "cell_type": "markdown",
   "metadata": {},
   "source": [
    "## Lectura y escritura de arrays en Ficheros"
   ]
  },
  {
   "cell_type": "markdown",
   "metadata": {},
   "source": [
    "### Formato binario"
   ]
  },
  {
   "cell_type": "markdown",
   "metadata": {},
   "source": [
    "__NumPy__ dispone de las funciones __save__ y __load__ para grabar y cargar arrays en disco en formato  formato binario."
   ]
  },
  {
   "cell_type": "code",
   "execution_count": 86,
   "metadata": {
    "collapsed": false
   },
   "outputs": [
    {
     "name": "stdout",
     "output_type": "stream",
     "text": [
      "[ 2.  4.  6.  8.]\n"
     ]
    }
   ],
   "source": [
    "y = np.array([2.,4.,6.,8.])      # Creamos un array unidimensional\n",
    "print(y) "
   ]
  },
  {
   "cell_type": "code",
   "execution_count": 87,
   "metadata": {
    "collapsed": true
   },
   "outputs": [],
   "source": [
    "np.save('mi_array', y)       #se guarda en formato binario con extensión .npy"
   ]
  },
  {
   "cell_type": "markdown",
   "metadata": {},
   "source": [
    "Para cargar el array en memoria ejecutamos la función __load__."
   ]
  },
  {
   "cell_type": "code",
   "execution_count": 88,
   "metadata": {
    "collapsed": false
   },
   "outputs": [
    {
     "data": {
      "text/plain": [
       "array([ 2.,  4.,  6.,  8.])"
      ]
     },
     "execution_count": 88,
     "metadata": {},
     "output_type": "execute_result"
    }
   ],
   "source": [
    "a = np.load('mi_array.npy')\n",
    "a"
   ]
  },
  {
   "cell_type": "markdown",
   "metadata": {},
   "source": [
    "### Formato txt"
   ]
  },
  {
   "cell_type": "markdown",
   "metadata": {},
   "source": [
    "Las operaciones __savetxt__ y __loadtxt__ son las equivalentes a __save__ y __load__.\n"
   ]
  },
  {
   "cell_type": "code",
   "execution_count": 89,
   "metadata": {
    "collapsed": true
   },
   "outputs": [],
   "source": [
    "b = a.reshape(2,2)\n",
    "np.savetxt(\"mi_otro_array\", b, delimiter=',')"
   ]
  },
  {
   "cell_type": "code",
   "execution_count": 90,
   "metadata": {
    "collapsed": false
   },
   "outputs": [
    {
     "data": {
      "text/plain": [
       "array([[ 2.,  4.],\n",
       "       [ 6.,  8.]])"
      ]
     },
     "execution_count": 90,
     "metadata": {},
     "output_type": "execute_result"
    }
   ],
   "source": [
    "c = np.loadtxt('mi_otro_array', delimiter=',')\n",
    "c"
   ]
  },
  {
   "cell_type": "markdown",
   "metadata": {},
   "source": [
    "### Otras opciones en el módulo IO"
   ]
  },
  {
   "cell_type": "markdown",
   "metadata": {},
   "source": [
    "* Otra forma de crear un array es mediante la función __fromfile__. El array se crea a partir de los datos contenidos en un fichero de texto o un fichero binario."
   ]
  },
  {
   "cell_type": "code",
   "execution_count": 91,
   "metadata": {
    "collapsed": false
   },
   "outputs": [],
   "source": [
    "# escribimos el contenido del array en un fichero en formato binario\n",
    "import io\n",
    "y.tofile(\"myfile.dat\")   "
   ]
  },
  {
   "cell_type": "code",
   "execution_count": 92,
   "metadata": {
    "collapsed": false
   },
   "outputs": [
    {
     "name": "stdout",
     "output_type": "stream",
     "text": [
      "[ 2.  4.  6.  8.]\n"
     ]
    }
   ],
   "source": [
    "a = np.fromfile('myfile.dat', dtype=float)\n",
    "print(a)"
   ]
  },
  {
   "cell_type": "markdown",
   "metadata": {},
   "source": [
    "Otro ejemplo creando un fichero de texto:"
   ]
  },
  {
   "cell_type": "code",
   "execution_count": 93,
   "metadata": {
    "collapsed": false
   },
   "outputs": [
    {
     "name": "stdout",
     "output_type": "stream",
     "text": [
      "[ 2.  4.  6.  8.]\n"
     ]
    }
   ],
   "source": [
    "# formato asci con notación exponencial, \n",
    "y.tofile(\"myfile.txt\", sep='\\n', format = \"%e\")       \n",
    "                                                      # separador es el intro\n",
    "b = np.fromfile('myfile.txt', dtype=float, sep='\\n')\n",
    "print(b)"
   ]
  },
  {
   "cell_type": "markdown",
   "metadata": {},
   "source": [
    "## Algebra lineal"
   ]
  },
  {
   "cell_type": "markdown",
   "metadata": {},
   "source": [
    "NumPy también proporciona operaciones del álgebra lineal como por ejemplo la multiplicación de matrices, el determinante, etc. \n",
    "\n",
    "* Las operaciones del álgebra lineal están contenidas en los módulos  __scipy.linalg__ y __numpy.linalg__"
   ]
  },
  {
   "cell_type": "code",
   "execution_count": 94,
   "metadata": {
    "collapsed": true
   },
   "outputs": [],
   "source": [
    "from numpy.linalg import inv"
   ]
  },
  {
   "cell_type": "code",
   "execution_count": 95,
   "metadata": {
    "collapsed": false
   },
   "outputs": [
    {
     "data": {
      "text/plain": [
       "array([14, 36, 22])"
      ]
     },
     "execution_count": 95,
     "metadata": {},
     "output_type": "execute_result"
    }
   ],
   "source": [
    "a = np.array([[1, 2], [3,5], [8,1]])\n",
    "b = np.array([ 2, 6])\n",
    "producto = a.dot(b)                         # Producto de matrices\n",
    "producto"
   ]
  },
  {
   "cell_type": "code",
   "execution_count": 96,
   "metadata": {
    "collapsed": false
   },
   "outputs": [
    {
     "data": {
      "text/plain": [
       "array([ 2.,  4.,  6.,  8.])"
      ]
     },
     "execution_count": 96,
     "metadata": {},
     "output_type": "execute_result"
    }
   ],
   "source": [
    "mat = y.T                              # Transpuesta de una matriz\n",
    "mat"
   ]
  },
  {
   "cell_type": "code",
   "execution_count": null,
   "metadata": {
    "collapsed": false
   },
   "outputs": [],
   "source": [
    "inv(y)                            #  inversa de una matriz cuadrada"
   ]
  },
  {
   "cell_type": "code",
   "execution_count": null,
   "metadata": {
    "collapsed": false
   },
   "outputs": [],
   "source": [
    "det(mat)                       # determinante"
   ]
  },
  {
   "cell_type": "markdown",
   "metadata": {},
   "source": [
    "### La clase MATRIX"
   ]
  },
  {
   "cell_type": "markdown",
   "metadata": {},
   "source": [
    "Para el caso bidimensional, no utilizaremos la clase array, si no la clase  matrix, teniendo en cuenta que sólo es útil en el caso bidimensional. Esta clase cambia los métodos correspondientes a la multiplicación y la potencia para que sea su equivalente matricial, y no el escalar.\n",
    "\n",
    "Podemos generar una matriz a partir de un array utilizando el método `asmatrix()` o crear una matriz con el método `matrix` igual que hacíamos con el método `array`:"
   ]
  },
  {
   "cell_type": "code",
   "execution_count": null,
   "metadata": {
    "collapsed": false
   },
   "outputs": [],
   "source": [
    "a = np.array([[5,6],[1,2]], dtype= float32)\n",
    "m = np.asmatrix(a)  \n",
    "m"
   ]
  },
  {
   "cell_type": "code",
   "execution_count": null,
   "metadata": {
    "collapsed": false
   },
   "outputs": [],
   "source": [
    "m = np.matrix('1 2; 3 4', dtype=double)\n",
    "m"
   ]
  },
  {
   "cell_type": "code",
   "execution_count": null,
   "metadata": {
    "collapsed": false
   },
   "outputs": [],
   "source": [
    "a = np.matrix([[8,9], [8,5]])\n",
    "a"
   ]
  },
  {
   "cell_type": "raw",
   "metadata": {
    "collapsed": false
   },
   "source": [
    "a * m      # equivalente a la operación dot"
   ]
  },
  {
   "cell_type": "markdown",
   "metadata": {},
   "source": [
    "## Referencias:"
   ]
  },
  {
   "cell_type": "markdown",
   "metadata": {},
   "source": [
    "\n",
    "* http://wiki.scipy.org/Tentative_NumPy_Tutorial\n",
    "* http://wiki.scipy.org/SciPy\n",
    "* [Python for Data Analysis](http://shop.oreilly.com/product/0636920023784.do)\n",
    "\n",
    "* http://matplotlib.org/gallery.html\n",
    "* http://nbviewer.ipython.org/github/mbakker7/exploratory_computing_with_python/tree/master/"
   ]
  },
  {
   "cell_type": "markdown",
   "metadata": {
    "collapsed": false
   },
   "source": [
    "<img src=\"../iconos/Cute-Ball-Go-icon.png\" alt=\"Smiley face\" height=\"42\" width=\"42\" align: \"right\">"
   ]
  }
 ],
 "metadata": {
  "kernelspec": {
   "display_name": "Python 3",
   "language": "python",
   "name": "python3"
  },
  "language_info": {
   "codemirror_mode": {
    "name": "ipython",
    "version": 3
   },
   "file_extension": ".py",
   "mimetype": "text/x-python",
   "name": "python",
   "nbconvert_exporter": "python",
   "pygments_lexer": "ipython3",
   "version": "3.5.1"
  }
 },
 "nbformat": 4,
 "nbformat_minor": 0
}
