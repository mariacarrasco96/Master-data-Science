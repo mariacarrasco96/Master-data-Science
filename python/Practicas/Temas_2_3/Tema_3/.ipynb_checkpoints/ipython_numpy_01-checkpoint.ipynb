{
 "cells": [
  {
   "cell_type": "markdown",
   "metadata": {},
   "source": [
    "# Tabla de Contenidos\n",
    "* [El módulo NumPy](#El-módulo-NumPy)\t\n",
    "\t\t\n",
    "* [Los Arrays de NumPy: __ndarray__](#Los-Arrays-de-NumPy:-__ndarray__)\n",
    "\t* [Creación de arrays](#Creación-de-arrays)\n",
    "\t* [Tipos de datos para ndarray](#Tipos-de-datos-para-ndarray)\n",
    "\t* [Crear array fromfile](#Crear-array-fromfile)\n",
    "\n",
    "* [Operaciones entre arrays y escalares](#Operaciones-entre-arrays-y-escalares)\n",
    "\t* [Funciones universales](#Funciones-universales)\n",
    "    * [Upcasting](#Upcasting)\n",
    "* [Elementos de un array. Acceso y recorrido.](#Elementos-de-un-array.-Acceso-y-recorrido.)\n",
    "\t* [Uso de máscaras para selección de partes de un array](#Uso-de-máscaras-para-selección-de-partes-de-un-array)\n",
    "* [Cambiar la forma de un array](#Cambiar-la-forma-de-un-array)\n",
    "\t* [Métodos `reshape` , `ravel` y `transpose(T)`.](#Métodos-reshape-,-ravel-y-transpose%28T%29.)\n",
    "\t\t* [Funciones `vstack` y `hstack`](#Funciones-vstack-y-hstack)\n",
    "\t\t* [Copias y vistas](#Copias-y-vistas)\n",
    "* [Relación con Mathlab](#Relación-con-Mathlab)\n"
   ]
  },
  {
   "cell_type": "markdown",
   "metadata": {},
   "source": [
    "# El módulo NumPy"
   ]
  },
  {
   "cell_type": "markdown",
   "metadata": {},
   "source": [
    "Los módulos __NumPy__ (Numerical Python) y __SciPy__ proporcionan funciones y rutinas matemáticas para la manipulación de __array y matrices de datos numéricos__ de una forma eficiente. \n",
    "* El módulo __SciPy__ extiende la funcionalidad de __NumPy__ con una colección de algoritmos matemáticos (minimización, transformada de Fourier, regresión, ...).\n",
    "\n",
    "__NumPy__ proporciona:\n",
    "\n",
    "* El objeto __ndarray__: Un array multidimensional que permite realizar operaciones aritméticas sobre vectores muy eficientes.\n",
    "* colección de funciones matemáticas muy eficientes que operan sobre  vectores (ndarrays) sin necesidad de escribir bucles (for o  while). Son más eficientes y rápidas que las operaciones sobre listas.\n"
   ]
  },
  {
   "cell_type": "markdown",
   "metadata": {},
   "source": [
    "# Los Arrays de NumPy: __ndarray__"
   ]
  },
  {
   "cell_type": "markdown",
   "metadata": {},
   "source": [
    "* En __NumPy__ el tipo fundamental es el `array` multidimensional: el objeto `ndarray`.\n",
    "* Los __ndarrays__ son similares a las listas en Python, con la diferencia de que __todos los elementos de un ndarray son del mismo tipo__. \n",
    "\n",
    "Para usar __NumPy__ lo primero que debemos hacer es importarlo. Para importar el módulo __NumPy__ debemos escribir una de las siguientes instrucciones:"
   ]
  },
  {
   "cell_type": "code",
   "execution_count": 1,
   "metadata": {
    "collapsed": false
   },
   "outputs": [],
   "source": [
    "import numpy\n",
    "import numpy as np"
   ]
  },
  {
   "cell_type": "markdown",
   "metadata": {},
   "source": [
    "Las dos instrucciones tienen el mismo efecto, con la diferencia de que la segunda instrucción permite utilizar las funciones del módulo __NumPy__ utilizando el nombre abreviado (namespace) `np` en lugar de `numpy`."
   ]
  },
  {
   "cell_type": "code",
   "execution_count": 2,
   "metadata": {
    "collapsed": false
   },
   "outputs": [
    {
     "data": {
      "text/plain": [
       "array([[1, 2, 3],\n",
       "       [4, 5, 6]])"
      ]
     },
     "execution_count": 2,
     "metadata": {},
     "output_type": "execute_result"
    }
   ],
   "source": [
    "v = np.array([[1,2,3],[4,5,6]])\n",
    "v"
   ]
  },
  {
   "cell_type": "markdown",
   "metadata": {},
   "source": [
    "Permite realizar operaciones sobre los arrays multidimensionales como si se tratara de operaciones sobre escales:"
   ]
  },
  {
   "cell_type": "code",
   "execution_count": 3,
   "metadata": {
    "collapsed": false
   },
   "outputs": [
    {
     "data": {
      "text/plain": [
       "array([[10, 20, 30],\n",
       "       [40, 50, 60]])"
      ]
     },
     "execution_count": 3,
     "metadata": {},
     "output_type": "execute_result"
    }
   ],
   "source": [
    "v * 10"
   ]
  },
  {
   "cell_type": "markdown",
   "metadata": {},
   "source": [
    ">  Propiedades de los objetos __ndarray__:\n",
    "> \n",
    "> - La propiedad `shape` que indica las dimensiones del array.\n",
    "> - La propiedad `dtype` indica el tipo de los elementos almacenados en el array."
   ]
  },
  {
   "cell_type": "code",
   "execution_count": 4,
   "metadata": {
    "collapsed": false
   },
   "outputs": [
    {
     "data": {
      "text/plain": [
       "((2L, 3L), dtype('int32'))"
      ]
     },
     "execution_count": 4,
     "metadata": {},
     "output_type": "execute_result"
    }
   ],
   "source": [
    "v.shape, v.dtype"
   ]
  },
  {
   "cell_type": "markdown",
   "metadata": {},
   "source": [
    "El 32 en 'int32' indica el número de bits por elemento (en este caso 32 bits)."
   ]
  },
  {
   "cell_type": "markdown",
   "metadata": {},
   "source": [
    "## Creación de arrays"
   ]
  },
  {
   "cell_type": "markdown",
   "metadata": {},
   "source": [
    "Existen varias formas para crear un array."
   ]
  },
  {
   "cell_type": "markdown",
   "metadata": {},
   "source": [
    "* La forma más sencilla de crear un array es utilizando la función __array__ y una lista de objetos, que pueden ser otros arrays:"
   ]
  },
  {
   "cell_type": "code",
   "execution_count": 4,
   "metadata": {
    "collapsed": false
   },
   "outputs": [
    {
     "data": {
      "text/plain": [
       "(dtype('int32'), dtype('float64'))"
      ]
     },
     "execution_count": 4,
     "metadata": {},
     "output_type": "execute_result"
    }
   ],
   "source": [
    "a = np.array( [2,3,4] )\n",
    "b = np.array( [1.2, 3.5, 5] )\n",
    "a.dtype, b.dtype"
   ]
  },
  {
   "cell_type": "markdown",
   "metadata": {},
   "source": [
    "Aquí hemos creado dos arrays de una dimensión con elementos de tipo entero y de tipo float. "
   ]
  },
  {
   "cell_type": "code",
   "execution_count": 5,
   "metadata": {
    "collapsed": false
   },
   "outputs": [
    {
     "name": "stdout",
     "output_type": "stream",
     "text": [
      "[2 3 4]\n"
     ]
    }
   ],
   "source": [
    "print(a)"
   ]
  },
  {
   "cell_type": "markdown",
   "metadata": {},
   "source": [
    "* El módulo __NumPy__ nos permite crear arrays de un cierto tipo, lo que garantizará la eficiencia de las operaciones que se vayan a realizar con los arrays."
   ]
  },
  {
   "cell_type": "code",
   "execution_count": 6,
   "metadata": {
    "collapsed": false
   },
   "outputs": [
    {
     "name": "stdout",
     "output_type": "stream",
     "text": [
      "[[ 1.  2.]\n",
      " [ 3.  4.]]\n"
     ]
    }
   ],
   "source": [
    "import numpy as np\n",
    "a = np.array([[1,2],[3,4]], dtype=np.float16)\n",
    "print(a)"
   ]
  },
  {
   "cell_type": "markdown",
   "metadata": {},
   "source": [
    "Acabamos de crear un array de 2 filas y 2 columnas de reales. El argumento __dtype__ sirve para especificar la precisión.\n",
    "\n",
    "> Los elementos de un array suelen ser desconocidos, pero lo normal es que el tamaño de los datos sea conocido. "
   ]
  },
  {
   "cell_type": "code",
   "execution_count": 7,
   "metadata": {
    "collapsed": false
   },
   "outputs": [
    {
     "data": {
      "text/plain": [
       "((2, 2), dtype('float16'))"
      ]
     },
     "execution_count": 7,
     "metadata": {},
     "output_type": "execute_result"
    }
   ],
   "source": [
    "a.shape , a.dtype"
   ]
  },
  {
   "cell_type": "markdown",
   "metadata": {},
   "source": [
    "* Las funciones __zeros__  y __ones__ permiten crear un array cuyo contenido son todo ceros y unos, respectivamente. Hay que indicar el tamaño de las dimensiones del array mediante una tupla o una lista."
   ]
  },
  {
   "cell_type": "code",
   "execution_count": 8,
   "metadata": {
    "collapsed": false
   },
   "outputs": [
    {
     "data": {
      "text/plain": [
       "array([ 0.,  0.,  0.,  0.,  0.,  0.,  0.,  0.,  0.,  0.])"
      ]
     },
     "execution_count": 8,
     "metadata": {},
     "output_type": "execute_result"
    }
   ],
   "source": [
    "a1 = np.zeros( 10 )\n",
    "a1"
   ]
  },
  {
   "cell_type": "code",
   "execution_count": 9,
   "metadata": {
    "collapsed": false
   },
   "outputs": [
    {
     "data": {
      "text/plain": [
       "array([[ 0.,  0.,  0.,  0.],\n",
       "       [ 0.,  0.,  0.,  0.],\n",
       "       [ 0.,  0.,  0.,  0.]])"
      ]
     },
     "execution_count": 9,
     "metadata": {},
     "output_type": "execute_result"
    }
   ],
   "source": [
    "a2 = np.zeros( (3,4) )   # 3 filas,  4 columnas\n",
    "a2"
   ]
  },
  {
   "cell_type": "code",
   "execution_count": 10,
   "metadata": {
    "collapsed": false
   },
   "outputs": [
    {
     "data": {
      "text/plain": [
       "array([[0, 0, 0, 0],\n",
       "       [0, 0, 0, 0]], dtype=int16)"
      ]
     },
     "execution_count": 10,
     "metadata": {},
     "output_type": "execute_result"
    }
   ],
   "source": [
    "a3 = np.zeros( (2,4), dtype=np.int16 )                # especificamos el tipo\n",
    "a3"
   ]
  },
  {
   "cell_type": "code",
   "execution_count": 11,
   "metadata": {
    "collapsed": false
   },
   "outputs": [
    {
     "data": {
      "text/plain": [
       "array([[ 1.,  1.],\n",
       "       [ 1.,  1.],\n",
       "       [ 1.,  1.]], dtype=float32)"
      ]
     },
     "execution_count": 11,
     "metadata": {},
     "output_type": "execute_result"
    }
   ],
   "source": [
    "a4 = np.ones( (3,2), dtype=np.float32 )                # especificamos el tipo\n",
    "a4"
   ]
  },
  {
   "cell_type": "markdown",
   "metadata": {},
   "source": [
    "* Las funciones __zeros_like__ y __ones_like__ son análogas a __zeros__ y __ones__ pero no es necesario indicar las dimensiones, solo hay que indicar el array del cual queremos copiar las dimensiones."
   ]
  },
  {
   "cell_type": "code",
   "execution_count": 17,
   "metadata": {
    "collapsed": false
   },
   "outputs": [
    {
     "data": {
      "text/plain": [
       "array([[ 0.,  0.],\n",
       "       [ 0.,  0.],\n",
       "       [ 0.,  0.]], dtype=float32)"
      ]
     },
     "execution_count": 17,
     "metadata": {},
     "output_type": "execute_result"
    }
   ],
   "source": [
    "a5 = np.zeros_like(a4)\n",
    "a5"
   ]
  },
  {
   "cell_type": "markdown",
   "metadata": {},
   "source": [
    "* La función __empty__ permite crear un array con datos aleatorios (no tienen por qué ser cero) que dependen del estado de la memoria. El tipo por defecto en el momento de la creación es  `float64`."
   ]
  },
  {
   "cell_type": "code",
   "execution_count": 21,
   "metadata": {
    "collapsed": false
   },
   "outputs": [
    {
     "data": {
      "text/plain": [
       "array([[ 0.,  0.,  0.],\n",
       "       [ 0.,  0.,  0.]])"
      ]
     },
     "execution_count": 21,
     "metadata": {},
     "output_type": "execute_result"
    }
   ],
   "source": [
    "e = np.empty( (2,3) )\n",
    "e"
   ]
  },
  {
   "cell_type": "markdown",
   "metadata": {},
   "source": [
    "Acabamos de crear un array vacío, esto significa que lo que hemos obtenido son 6 números ordenados en 2 filas y 3 columnas de lo que hubiera en ese preciso instante en la memoria, aunque el resultado de esto no tenga sentido. \n",
    "__Si lo inicializa a ceros es casualidad__."
   ]
  },
  {
   "cell_type": "markdown",
   "metadata": {},
   "source": [
    "* Crear un array mediante una secuencia de números con cierto criterio. Utilizamos las funciones __arange__ y __linspace__."
   ]
  },
  {
   "cell_type": "code",
   "execution_count": 24,
   "metadata": {
    "collapsed": false
   },
   "outputs": [
    {
     "name": "stdout",
     "output_type": "stream",
     "text": [
      "[ 0.   0.5  1.   1.5  2.   2.5  3.   3.5  4.   4.5  5.   5.5  6.   6.5  7.\n",
      "  7.5  8.   8.5  9.   9.5]\n"
     ]
    }
   ],
   "source": [
    "a = np.arange( 0 , 10 , .5)     # números del 0 al 10(excluído) con paso 0.5\n",
    "print(a)"
   ]
  },
  {
   "cell_type": "markdown",
   "metadata": {},
   "source": [
    "  La función __range__ crea un objeto iterable de enteros. La función __arange__ crea un objeto de tipo __ndarray__."
   ]
  },
  {
   "cell_type": "code",
   "execution_count": 27,
   "metadata": {
    "collapsed": false
   },
   "outputs": [
    {
     "name": "stdout",
     "output_type": "stream",
     "text": [
      "[ 0.   0.3  0.6  0.9  1.2  1.5  1.8]\n"
     ]
    }
   ],
   "source": [
    "a = np.arange(0 , 2 , .3)\n",
    "print(a)"
   ]
  },
  {
   "cell_type": "markdown",
   "metadata": {},
   "source": [
    "Como la función __arange__ utiliza argumentos de tipo float, no es posible predecir el número de elementos del array. En ese caso es mejor utilizar la función __linspace__ que genera un array con un número determinado de elementos sin indicar el paso."
   ]
  },
  {
   "cell_type": "code",
   "execution_count": 32,
   "metadata": {
    "collapsed": false
   },
   "outputs": [
    {
     "name": "stdout",
     "output_type": "stream",
     "text": [
      "[ 0.    0.25  0.5   0.75  1.    1.25  1.5   1.75  2.  ]\n"
     ]
    }
   ],
   "source": [
    "b = np.linspace( 0, 2, 9 )                 #  9 números del 0 al 2 \n",
    "print(b)"
   ]
  },
  {
   "cell_type": "code",
   "execution_count": 54,
   "metadata": {
    "collapsed": false
   },
   "outputs": [
    {
     "name": "stdout",
     "output_type": "stream",
     "text": [
      "Populating the interactive namespace from numpy and matplotlib\n"
     ]
    },
    {
     "data": {
      "image/png": "[encoded data removed]",
      "text/plain": [
       "<matplotlib.figure.Figure at 0xddd1d00438>"
      ]
     },
     "metadata": {},
     "output_type": "display_data"
    }
   ],
   "source": [
    "\"\"\"generación de números que se usa habitualmente en la evalución de funciones\"\"\"\n",
    "import math\n",
    "import matplotlib.pyplot as plt\n",
    "import numpy as np\n",
    "%pylab inline\n",
    "\n",
    "x = np.linspace( 0, 2*math.pi, 100 )  \n",
    "y = np.sin(x)\n",
    "plt.plot(x, y);"
   ]
  },
  {
   "cell_type": "markdown",
   "metadata": {},
   "source": [
    "* Creación con datos aleatorios mediante la función `rand` del módulo __Random__"
   ]
  },
  {
   "cell_type": "code",
   "execution_count": 56,
   "metadata": {
    "collapsed": false
   },
   "outputs": [
    {
     "name": "stdout",
     "output_type": "stream",
     "text": [
      "[ 0.91005324  0.41181883  0.4308144   0.95069023  0.38691168  0.1923463\n",
      "  0.86966269  0.12498445  0.126565    0.39351176]\n",
      "<class 'numpy.ndarray'>\n"
     ]
    }
   ],
   "source": [
    "a1 = np.random.rand(10)    # genera 10 números aleatorios entre el 0 y el 1\n",
    "print(a1) \n",
    "print(type(a1))"
   ]
  },
  {
   "cell_type": "markdown",
   "metadata": {},
   "source": [
    "También podemos crear arrays de dos dimensiones:"
   ]
  },
  {
   "cell_type": "code",
   "execution_count": 57,
   "metadata": {
    "collapsed": false
   },
   "outputs": [
    {
     "name": "stdout",
     "output_type": "stream",
     "text": [
      "[[ 0.80582229  0.15088182  0.52895828  0.03073549]\n",
      " [ 0.28085174  0.96249838  0.51715252  0.1723628 ]\n",
      " [ 0.72050276  0.03197245  0.36196274  0.31415132]]\n",
      "float64\n"
     ]
    }
   ],
   "source": [
    "a2 = np.random.rand(3, 4)     # valores aleatorios - 3 filas, 4 columnas\n",
    "print(a2 )\n",
    "print(a2.dtype)"
   ]
  },
  {
   "cell_type": "markdown",
   "metadata": {},
   "source": [
    "## Tipos de datos para ndarray"
   ]
  },
  {
   "cell_type": "markdown",
   "metadata": {},
   "source": [
    "\n",
    "* __int8__ : \tByte (-128 to 127)\n",
    "* __int16__:\tInteger (-32768 to 32767)\n",
    "* __int32__:\tInteger (-2147483648 to 2147483647)\n",
    "* __int64__:\tInteger (-9223372036854775808 to 9223372036854775807)\n",
    "* __uint8__:\tUnsigned integer (0 to 255)\n",
    "* __uint16__:\tUnsigned integer (0 to 65535)\n",
    "* __uint32__:\tUnsigned integer (0 to 4294967295)\n",
    "* __uint64__:\tUnsigned integer (0 to 18446744073709551615)\n",
    "\n",
    "------\n",
    "\n",
    "* __float16__:\tHalf precision float: sign bit, 5 bits exponent, 10 bits mantissa\n",
    "* __float32__:\tSingle precision float: sign bit, 8 bits exponent, 23 bits mantissa\n",
    "* __float64__:\tDouble precision float: sign bit, 11 bits exponent, 52 bits mantissa"
   ]
  },
  {
   "cell_type": "markdown",
   "metadata": {},
   "source": [
    "Al igual que con otros objetos de Python, también es posible hacer casting de tipos con el método __astype__."
   ]
  },
  {
   "cell_type": "code",
   "execution_count": 58,
   "metadata": {
    "collapsed": false
   },
   "outputs": [
    {
     "data": {
      "text/plain": [
       "dtype('int32')"
      ]
     },
     "execution_count": 58,
     "metadata": {},
     "output_type": "execute_result"
    }
   ],
   "source": [
    "arr1 = np.array([1,2,3,4])\n",
    "arr1.dtype"
   ]
  },
  {
   "cell_type": "code",
   "execution_count": 59,
   "metadata": {
    "collapsed": false
   },
   "outputs": [
    {
     "data": {
      "text/plain": [
       "dtype('float64')"
      ]
     },
     "execution_count": 59,
     "metadata": {},
     "output_type": "execute_result"
    }
   ],
   "source": [
    "arr1 = arr1.astype(np.float64)\n",
    "arr1.dtype"
   ]
  },
  {
   "cell_type": "code",
   "execution_count": 60,
   "metadata": {
    "collapsed": false
   },
   "outputs": [
    {
     "data": {
      "text/plain": [
       "array([ 0.,  1.,  2.,  3.,  4.,  5.,  6.,  7.,  8.,  9.])"
      ]
     },
     "execution_count": 60,
     "metadata": {},
     "output_type": "execute_result"
    }
   ],
   "source": [
    "arr2 =np.arange(10)\n",
    "arr2.astype(arr1.dtype)"
   ]
  },
  {
   "cell_type": "markdown",
   "metadata": {},
   "source": [
    "## Crear array fromfile"
   ]
  },
  {
   "cell_type": "markdown",
   "metadata": {},
   "source": [
    "* Otra forma de crear un array es mediante la función __fromfile__. El array se crea a partir de los datos contenidos en un fichero de texto o un fichero binario."
   ]
  },
  {
   "cell_type": "code",
   "execution_count": 62,
   "metadata": {
    "collapsed": false
   },
   "outputs": [
    {
     "name": "stdout",
     "output_type": "stream",
     "text": [
      "[ 2.  4.  6.  8.]\n"
     ]
    }
   ],
   "source": [
    "import numpy as np \n",
    "y = array([2.,4.,6.,8.])      # Creamos un array unidimensional\n",
    "print(y)  "
   ]
  },
  {
   "cell_type": "code",
   "execution_count": 63,
   "metadata": {
    "collapsed": false
   },
   "outputs": [
    {
     "data": {
      "text/plain": [
       "'C:\\\\xampp\\\\htdocs\\\\python\\\\PythoProject_2\\\\session_02'"
      ]
     },
     "execution_count": 63,
     "metadata": {},
     "output_type": "execute_result"
    }
   ],
   "source": [
    "pwd                                   # preguntamos dónde ha creado el fichero"
   ]
  },
  {
   "cell_type": "code",
   "execution_count": 70,
   "metadata": {
    "collapsed": false
   },
   "outputs": [],
   "source": [
    "# escribimos el contenido del array en un fichreo en formato binario\n",
    "import io\n",
    "y.tofile(\"myfile.dat\")   "
   ]
  },
  {
   "cell_type": "code",
   "execution_count": 71,
   "metadata": {
    "collapsed": false
   },
   "outputs": [
    {
     "name": "stdout",
     "output_type": "stream",
     "text": [
      "[ 2.  4.  6.  8.]\n"
     ]
    }
   ],
   "source": [
    "a = np.fromfile('myfile.dat', dtype=float)\n",
    "print(a) "
   ]
  },
  {
   "cell_type": "markdown",
   "metadata": {},
   "source": [
    "Otro ejemplo creando un fichero de texto:"
   ]
  },
  {
   "cell_type": "code",
   "execution_count": 72,
   "metadata": {
    "collapsed": false
   },
   "outputs": [
    {
     "name": "stdout",
     "output_type": "stream",
     "text": [
      "[ 2.  4.  6.  8.]\n"
     ]
    }
   ],
   "source": [
    "# formato asci con notación exponencial, \n",
    "y.tofile(\"myfile.txt\", sep='\\n', format = \"%e\")       \n",
    "                                                      # separador es el intro\n",
    "b = fromfile('myfile.txt', dtype=float, sep='\\n')\n",
    "print(b)"
   ]
  },
  {
   "cell_type": "code",
   "execution_count": 73,
   "metadata": {
    "collapsed": false
   },
   "outputs": [],
   "source": [
    "!notepad 'myfile.txt'"
   ]
  },
  {
   "cell_type": "markdown",
   "metadata": {},
   "source": [
    "# Operaciones entre arrays y escalares"
   ]
  },
  {
   "cell_type": "markdown",
   "metadata": {},
   "source": [
    "Los operadores aritméticos aplicados a arrays, __se aplican elemento a elemento__.\n",
    "* Para que la operación tenga éxito, los arrays implicados han de tener la misma dimensión. \n",
    "* El resultado es un nuevo array cuyos datos depende de la operación realizada."
   ]
  },
  {
   "cell_type": "code",
   "execution_count": 74,
   "metadata": {
    "collapsed": false
   },
   "outputs": [],
   "source": [
    "# Operaciones entre arrays\n",
    "a = np.array([1,2,3], float)\n",
    "b = np.array([5,2,6], float)\n",
    "rs = a + b \n",
    "rr = a - b \n",
    "rp = a * b\n",
    "rd = b / a \n",
    "rm = a % b\n",
    "re = b ** a\n",
    "# Operaciones entre arrays y escalares\n",
    "rp_esc = a * 10\n",
    "re_esc = b ** 2"
   ]
  },
  {
   "cell_type": "code",
   "execution_count": 77,
   "metadata": {
    "collapsed": false
   },
   "outputs": [
    {
     "name": "stdout",
     "output_type": "stream",
     "text": [
      "suma:      [ 6.  4.  9.]\n",
      "producto:  [  5.   4.  18.]\n",
      "potencia:  [   5.    4.  216.]\n",
      "[ 10.  20.  30.]\n"
     ]
    }
   ],
   "source": [
    "print(\"suma:     \", rs)\n",
    "print(\"producto: \", rp)\n",
    "print(\"potencia: \", re)\n",
    "print(rp_esc)"
   ]
  },
  {
   "cell_type": "markdown",
   "metadata": {},
   "source": [
    "En el caso de arrays multidimensionales, se sigue manteniendo que las operaciones se realizan elemento a elemento. Por ejemplo en el caso de dos dimensiones, el producto de dos arrays no se corresponde con la multiplicación de matrices según la conocemos. "
   ]
  },
  {
   "cell_type": "code",
   "execution_count": 79,
   "metadata": {
    "collapsed": false
   },
   "outputs": [
    {
     "name": "stdout",
     "output_type": "stream",
     "text": [
      "[[ 1.  2.]\n",
      " [ 3.  4.]]\n",
      "[[ 2.  0.]\n",
      " [ 1.  3.]]\n",
      "[[  2.   0.]\n",
      " [  3.  12.]]\n"
     ]
    }
   ],
   "source": [
    "a = np.array([[1,2], [3,4]], float)\n",
    "b = np.array([[2,0], [1,3]], float)\n",
    "p = a * b\n",
    "print(a)\n",
    "print(b)\n",
    "print(p)"
   ]
  },
  {
   "cell_type": "markdown",
   "metadata": {},
   "source": [
    "El producto matricial se obtiene mediante el uso de la función `dot` o creando objetos de tipo `matrix` en lugar de `array`. "
   ]
  },
  {
   "cell_type": "code",
   "execution_count": 38,
   "metadata": {
    "collapsed": false
   },
   "outputs": [
    {
     "data": {
      "text/plain": [
       "array([[5, 4],\n",
       "       [3, 4]])"
      ]
     },
     "execution_count": 38,
     "metadata": {},
     "output_type": "execute_result"
    }
   ],
   "source": [
    "A = np.array( [[1,1],\n",
    "            [0,1]] )\n",
    "B = np.array( [[2,0],\n",
    "            [3,4]] )\n",
    "M = np.dot(A,B)                    # producto matricial\n",
    "M"
   ]
  },
  {
   "cell_type": "markdown",
   "metadata": {},
   "source": [
    "### Funciones universales"
   ]
  },
  {
   "cell_type": "markdown",
   "metadata": {},
   "source": [
    "Se trata de funciones que actúan sobre cada uno de los elementos de un array."
   ]
  },
  {
   "cell_type": "code",
   "execution_count": 80,
   "metadata": {
    "collapsed": false
   },
   "outputs": [
    {
     "data": {
      "text/plain": [
       "array([ 13.81905765,   2.98048453,  11.7772758 ,   7.82353335,\n",
       "         3.39651658,   1.44884938])"
      ]
     },
     "execution_count": 80,
     "metadata": {},
     "output_type": "execute_result"
    }
   ],
   "source": [
    "a = abs(np.random.randn(6) * 10)\n",
    "a"
   ]
  },
  {
   "cell_type": "code",
   "execution_count": 81,
   "metadata": {
    "collapsed": false
   },
   "outputs": [
    {
     "data": {
      "text/plain": [
       "array([ 3.71739931,  1.72640798,  3.43180358,  2.79705798,  1.84296408,\n",
       "        1.20368159])"
      ]
     },
     "execution_count": 81,
     "metadata": {},
     "output_type": "execute_result"
    }
   ],
   "source": [
    "np.sqrt(a)"
   ]
  },
  {
   "cell_type": "code",
   "execution_count": 82,
   "metadata": {
    "collapsed": false
   },
   "outputs": [
    {
     "data": {
      "text/plain": [
       "array([  3.95780921,  19.12324489,  21.05440791,   9.8058201 ,\n",
       "        20.28973207,   1.52424518])"
      ]
     },
     "execution_count": 82,
     "metadata": {},
     "output_type": "execute_result"
    }
   ],
   "source": [
    "b = abs(np.random.randn(6) * 10)\n",
    "b"
   ]
  },
  {
   "cell_type": "code",
   "execution_count": 83,
   "metadata": {
    "collapsed": false
   },
   "outputs": [
    {
     "data": {
      "text/plain": [
       "array([ 13.81905765,  19.12324489,  21.05440791,   9.8058201 ,\n",
       "        20.28973207,   1.52424518])"
      ]
     },
     "execution_count": 83,
     "metadata": {},
     "output_type": "execute_result"
    }
   ],
   "source": [
    "np.maximum(a,b)"
   ]
  },
  {
   "cell_type": "code",
   "execution_count": 84,
   "metadata": {
    "collapsed": false
   },
   "outputs": [
    {
     "data": {
      "text/plain": [
       "array([ True, False, False, False, False, False], dtype=bool)"
      ]
     },
     "execution_count": 84,
     "metadata": {},
     "output_type": "execute_result"
    }
   ],
   "source": [
    "np.greater_equal(a,b)    # equivalente al operador  >="
   ]
  },
  {
   "cell_type": "markdown",
   "metadata": {},
   "source": [
    "### Upcasting"
   ]
  },
  {
   "cell_type": "markdown",
   "metadata": {},
   "source": [
    "Cuando se opera con arrays de distinto tipo, el tipo del array resultante es el tipo con más precisión. Este comportamiento se conoce como __upcasting__."
   ]
  },
  {
   "cell_type": "code",
   "execution_count": 85,
   "metadata": {
    "collapsed": false
   },
   "outputs": [
    {
     "name": "stdout",
     "output_type": "stream",
     "text": [
      "a :  [1 1 1]\n",
      "b :  [ 0.          1.57079633  3.14159265]\n",
      "Tipo de a:  int32\n",
      "Tipo de b:  float64\n"
     ]
    }
   ],
   "source": [
    "a = np.ones(3, dtype=int32)\n",
    "b = np.linspace(0,np.pi,3)\n",
    "print( \"a : \", a)\n",
    "print( \"b : \", b)\n",
    "print( \"Tipo de a: \" , a.dtype)\n",
    "print( \"Tipo de b: \" , b.dtype)"
   ]
  },
  {
   "cell_type": "code",
   "execution_count": 90,
   "metadata": {
    "collapsed": false
   },
   "outputs": [
    {
     "name": "stdout",
     "output_type": "stream",
     "text": [
      "c :  [ 1.          2.57079633  4.14159265]\n",
      "Tipo de c:  float64\n"
     ]
    }
   ],
   "source": [
    "c = a + b\n",
    "print(\"c : \", c)\n",
    "print(\"Tipo de c: \" , c.dtype)"
   ]
  },
  {
   "cell_type": "markdown",
   "metadata": {},
   "source": [
    "# Elementos de un array. Acceso y recorrido."
   ]
  },
  {
   "cell_type": "markdown",
   "metadata": {},
   "source": [
    "Cuando trabajamos con arrays de una dimensión, el acceso a los elementos se realiza de forma similar a como se hace en el caso de listas o tuplas de elementos."
   ]
  },
  {
   "cell_type": "code",
   "execution_count": 91,
   "metadata": {
    "collapsed": false
   },
   "outputs": [
    {
     "data": {
      "text/plain": [
       "array([  0,   1,   8,  27,  64, 125, 216, 343, 512, 729], dtype=int32)"
      ]
     },
     "execution_count": 91,
     "metadata": {},
     "output_type": "execute_result"
    }
   ],
   "source": [
    "a = np.arange(10)**3\n",
    "a"
   ]
  },
  {
   "cell_type": "code",
   "execution_count": 92,
   "metadata": {
    "collapsed": false
   },
   "outputs": [
    {
     "data": {
      "text/plain": [
       "8"
      ]
     },
     "execution_count": 92,
     "metadata": {},
     "output_type": "execute_result"
    }
   ],
   "source": [
    "a[2]        # acceso al tercer elemento del array a"
   ]
  },
  {
   "cell_type": "code",
   "execution_count": 93,
   "metadata": {
    "collapsed": false
   },
   "outputs": [
    {
     "data": {
      "text/plain": [
       "array([ 8, 27, 64], dtype=int32)"
      ]
     },
     "execution_count": 93,
     "metadata": {},
     "output_type": "execute_result"
    }
   ],
   "source": [
    "a[2:5]      # acceso a los elementos que ocupan las posiciones [2, 5)"
   ]
  },
  {
   "cell_type": "markdown",
   "metadata": {},
   "source": [
    "__Una diferencia importante con las listas__, es que las particiones de un ndarray mediante la notación [inicio:fin:paso] son vistas del array original. Todos los cambios realizados en las vistas, se reflejan en el array original:"
   ]
  },
  {
   "cell_type": "code",
   "execution_count": 94,
   "metadata": {
    "collapsed": false
   },
   "outputs": [
    {
     "data": {
      "text/plain": [
       "array([  0,   0,   0,   0,   0, 125, 216, 343, 512, 729], dtype=int32)"
      ]
     },
     "execution_count": 94,
     "metadata": {},
     "output_type": "execute_result"
    }
   ],
   "source": [
    "b = a[0:5]    # no se define un nuevo array, solo una vista de a\n",
    "b[::] = 0\n",
    "a"
   ]
  },
  {
   "cell_type": "markdown",
   "metadata": {},
   "source": [
    "Este comportamiento evita problemas de memoria. Hay que recordar que __NumPy__ ha sido diseñado para manejar grandes cantidades de datos."
   ]
  },
  {
   "cell_type": "markdown",
   "metadata": {},
   "source": [
    "El acceso a los elementos de un array bidimensional, se realiza indicando los índices separados por una coma."
   ]
  },
  {
   "cell_type": "code",
   "execution_count": 95,
   "metadata": {
    "collapsed": false
   },
   "outputs": [
    {
     "data": {
      "text/plain": [
       "array([[2, 4, 6],\n",
       "       [1, 2, 3]])"
      ]
     },
     "execution_count": 95,
     "metadata": {},
     "output_type": "execute_result"
    }
   ],
   "source": [
    "m = np.array([[2,4,6],[1,2,3]], dtype = 'int')\n",
    "m"
   ]
  },
  {
   "cell_type": "code",
   "execution_count": 96,
   "metadata": {
    "collapsed": false
   },
   "outputs": [
    {
     "data": {
      "text/plain": [
       "2"
      ]
     },
     "execution_count": 96,
     "metadata": {},
     "output_type": "execute_result"
    }
   ],
   "source": [
    "m[1,1]       # fila 2 columna 2"
   ]
  },
  {
   "cell_type": "code",
   "execution_count": 97,
   "metadata": {
    "collapsed": false
   },
   "outputs": [
    {
     "data": {
      "text/plain": [
       "6"
      ]
     },
     "execution_count": 97,
     "metadata": {},
     "output_type": "execute_result"
    }
   ],
   "source": [
    "m[0,2]     # fila 1 columna 3"
   ]
  },
  {
   "cell_type": "markdown",
   "metadata": {},
   "source": [
    " En el siguiente ejemplo vamos a crear un array bidimensional utilizando la función [__fromfunction__](http://wiki.scipy.org/Numpy_Example_List#fromfunction) del módulo __NumPy__."
   ]
  },
  {
   "cell_type": "code",
   "execution_count": 98,
   "metadata": {
    "collapsed": false
   },
   "outputs": [
    {
     "data": {
      "text/plain": [
       "array([[ 0,  1,  2,  3],\n",
       "       [10, 11, 12, 13],\n",
       "       [20, 21, 22, 23],\n",
       "       [30, 31, 32, 33],\n",
       "       [40, 41, 42, 43]])"
      ]
     },
     "execution_count": 98,
     "metadata": {},
     "output_type": "execute_result"
    }
   ],
   "source": [
    "def f(x,y):\n",
    "    return 10 * x + y\n",
    "\n",
    "# 5 filas y 4 columnas. A cada elemento (x,y) del array le aplica la función f\n",
    "\n",
    "b = fromfunction(f,(5,4),dtype=int)      \n",
    "b"
   ]
  },
  {
   "cell_type": "code",
   "execution_count": 99,
   "metadata": {
    "collapsed": false
   },
   "outputs": [
    {
     "data": {
      "text/plain": [
       "array([ 1, 11, 21, 31, 41])"
      ]
     },
     "execution_count": 99,
     "metadata": {},
     "output_type": "execute_result"
    }
   ],
   "source": [
    "b[:, 1]   #Acceso a todos los elementos de la segunda columna"
   ]
  },
  {
   "cell_type": "code",
   "execution_count": 100,
   "metadata": {
    "collapsed": false
   },
   "outputs": [
    {
     "data": {
      "text/plain": [
       "array([[10, 11, 12, 13],\n",
       "       [20, 21, 22, 23]])"
      ]
     },
     "execution_count": 100,
     "metadata": {},
     "output_type": "execute_result"
    }
   ],
   "source": [
    "b[1:3, : ]       # Acceso a los elementos de las filas 2 y 3 de todas las columnas"
   ]
  },
  {
   "cell_type": "markdown",
   "metadata": {},
   "source": [
    "Para recorrer los elementos de un array podemos utilizar un bucle del tipo `for`. El siguiente ejemplo recorre las filas de la matriz `b`:"
   ]
  },
  {
   "cell_type": "code",
   "execution_count": 105,
   "metadata": {
    "collapsed": false
   },
   "outputs": [
    {
     "name": "stdout",
     "output_type": "stream",
     "text": [
      "fila:  [0 1 2 3]\n",
      "fila:  [10 11 12 13]\n",
      "fila:  [20 21 22 23]\n",
      "fila:  [30 31 32 33]\n",
      "fila:  [40 41 42 43]\n"
     ]
    }
   ],
   "source": [
    "for row in b:\n",
    "    print(\"fila: \" , row)"
   ]
  },
  {
   "cell_type": "markdown",
   "metadata": {},
   "source": [
    "Para acceder a los elementos uno por uno, podemos usar el atributo `flat`  de los arrays:"
   ]
  },
  {
   "cell_type": "code",
   "execution_count": 111,
   "metadata": {
    "collapsed": false
   },
   "outputs": [
    {
     "name": "stdout",
     "output_type": "stream",
     "text": [
      "0\n",
      "1\n",
      "2\n",
      "3\n",
      "10\n",
      "11\n",
      "12\n",
      "13\n",
      "20\n",
      "21\n",
      "22\n",
      "23\n",
      "30\n",
      "31\n",
      "32\n",
      "33\n",
      "40\n",
      "41\n",
      "42\n",
      "43\n"
     ]
    }
   ],
   "source": [
    "for elem in b.flat: \n",
    "    print(elem)"
   ]
  },
  {
   "cell_type": "markdown",
   "metadata": {},
   "source": [
    "### Uso de máscaras para selección de partes de un array"
   ]
  },
  {
   "cell_type": "markdown",
   "metadata": {},
   "source": [
    "* Otra forma de acceso a partes de un ndarray es mediante un array de bool que actúa como máscara. Supongamos que queremos seleccionar la primera fila y la cuarta fila:"
   ]
  },
  {
   "cell_type": "code",
   "execution_count": 58,
   "metadata": {
    "collapsed": false
   },
   "outputs": [
    {
     "data": {
      "text/plain": [
       "array([[ 0,  1,  2,  3],\n",
       "       [10, 11, 12, 13],\n",
       "       [20, 21, 22, 23],\n",
       "       [30, 31, 32, 33],\n",
       "       [40, 41, 42, 43]])"
      ]
     },
     "execution_count": 58,
     "metadata": {},
     "output_type": "execute_result"
    }
   ],
   "source": [
    "b"
   ]
  },
  {
   "cell_type": "code",
   "execution_count": 112,
   "metadata": {
    "collapsed": false
   },
   "outputs": [
    {
     "data": {
      "text/plain": [
       "array([[ 0,  1,  2,  3],\n",
       "       [30, 31, 32, 33]])"
      ]
     },
     "execution_count": 112,
     "metadata": {},
     "output_type": "execute_result"
    }
   ],
   "source": [
    "seleccion = np.array([True, False, False, True, False])\n",
    "b[seleccion]"
   ]
  },
  {
   "cell_type": "code",
   "execution_count": 113,
   "metadata": {
    "collapsed": false
   },
   "outputs": [
    {
     "data": {
      "text/plain": [
       "array([[False,  True],\n",
       "       [ True, False]], dtype=bool)"
      ]
     },
     "execution_count": 113,
     "metadata": {},
     "output_type": "execute_result"
    }
   ],
   "source": [
    "# Elementos de una matriz que cumplen una cierta propiedad. \n",
    "b = np.array([[22,0], [1,10]], np.float)\n",
    "c = b < 7.\n",
    "c\n",
    "# matriz booleana"
   ]
  },
  {
   "cell_type": "markdown",
   "metadata": {},
   "source": [
    "Ahora podemos poner a 0 todos los valores menores que 7."
   ]
  },
  {
   "cell_type": "code",
   "execution_count": 116,
   "metadata": {
    "collapsed": false
   },
   "outputs": [
    {
     "data": {
      "text/plain": [
       "array([[ 22.,   0.],\n",
       "       [  0.,  10.]])"
      ]
     },
     "execution_count": 116,
     "metadata": {},
     "output_type": "execute_result"
    }
   ],
   "source": [
    "b[ b < 7 ] = 0   \n",
    "b"
   ]
  },
  {
   "cell_type": "code",
   "execution_count": 117,
   "metadata": {
    "collapsed": false
   },
   "outputs": [
    {
     "data": {
      "text/plain": [
       "array([False,  True, False, False, False, False], dtype=bool)"
      ]
     },
     "execution_count": 117,
     "metadata": {},
     "output_type": "execute_result"
    }
   ],
   "source": [
    "names = np.array(['Icicle','Bunny', 'Sicily', 'Red King', 'Purple', 'April Cross'])\n",
    "names == 'Bunny'"
   ]
  },
  {
   "cell_type": "markdown",
   "metadata": {},
   "source": [
    "# Cambiar la forma de un array"
   ]
  },
  {
   "cell_type": "markdown",
   "metadata": {},
   "source": [
    "### Métodos `reshape` , `ravel` y `transpose(T)`."
   ]
  },
  {
   "cell_type": "markdown",
   "metadata": {},
   "source": [
    "A parte de la función __reshape__ que permite redimensionar un array, nos puede interesar _aplanar_ un array mediante la función __ravel__ o transponer un array mediante la función  __transpose__(T)."
   ]
  },
  {
   "cell_type": "code",
   "execution_count": 118,
   "metadata": {
    "collapsed": false
   },
   "outputs": [
    {
     "data": {
      "text/plain": [
       "array([[2, 4, 6],\n",
       "       [1, 2, 3]])"
      ]
     },
     "execution_count": 118,
     "metadata": {},
     "output_type": "execute_result"
    }
   ],
   "source": [
    "m = np.array([[2,4,6],[1,2,3]], dtype = 'int')\n",
    "m"
   ]
  },
  {
   "cell_type": "code",
   "execution_count": 4,
   "metadata": {
    "collapsed": false
   },
   "outputs": [
    {
     "data": {
      "text/plain": [
       "array([2, 4, 6, 1, 2, 3])"
      ]
     },
     "execution_count": 4,
     "metadata": {},
     "output_type": "execute_result"
    }
   ],
   "source": [
    "a = m.ravel() # aplanar el array\n",
    "a"
   ]
  },
  {
   "cell_type": "code",
   "execution_count": 66,
   "metadata": {
    "collapsed": false
   },
   "outputs": [
    {
     "data": {
      "text/plain": [
       "array([[2, 1],\n",
       "       [4, 2],\n",
       "       [6, 3]])"
      ]
     },
     "execution_count": 66,
     "metadata": {},
     "output_type": "execute_result"
    }
   ],
   "source": [
    "t = m.T\n",
    "t"
   ]
  },
  {
   "cell_type": "markdown",
   "metadata": {},
   "source": [
    "### Funciones `vstack` y `hstack`"
   ]
  },
  {
   "cell_type": "markdown",
   "metadata": {},
   "source": [
    "A partir de 2 arrays, es posible concatenarlos por alguna de las dimensiones (por filas o por columnas) mediante las funciones __vstack__ y __hstack__:"
   ]
  },
  {
   "cell_type": "code",
   "execution_count": 121,
   "metadata": {
    "collapsed": false
   },
   "outputs": [
    {
     "name": "stdout",
     "output_type": "stream",
     "text": [
      "a = [[ 6.  4.]\n",
      " [ 0.  7.]]\n",
      "b = [[ 2.  6.]\n",
      " [ 3.  3.]]\n"
     ]
    }
   ],
   "source": [
    "a = floor(10*random.random((2,2)))\n",
    "b = floor(10*random.random((2,2)))\n",
    "print( \"a =\", a )\n",
    "print( \"b =\", b )"
   ]
  },
  {
   "cell_type": "code",
   "execution_count": 122,
   "metadata": {
    "collapsed": false
   },
   "outputs": [
    {
     "data": {
      "text/plain": [
       "array([[ 6.,  4.],\n",
       "       [ 0.,  7.],\n",
       "       [ 2.,  6.],\n",
       "       [ 3.,  3.]])"
      ]
     },
     "execution_count": 122,
     "metadata": {},
     "output_type": "execute_result"
    }
   ],
   "source": [
    "c = vstack((a,b))\n",
    "c"
   ]
  },
  {
   "cell_type": "code",
   "execution_count": 123,
   "metadata": {
    "collapsed": false
   },
   "outputs": [
    {
     "data": {
      "text/plain": [
       "array([[ 6.,  4.,  2.,  6.],\n",
       "       [ 0.,  7.,  3.,  3.]])"
      ]
     },
     "execution_count": 123,
     "metadata": {},
     "output_type": "execute_result"
    }
   ],
   "source": [
    "d = hstack((a,b))\n",
    "d"
   ]
  },
  {
   "cell_type": "markdown",
   "metadata": {},
   "source": [
    "### Copias y vistas"
   ]
  },
  {
   "cell_type": "markdown",
   "metadata": {},
   "source": [
    "Cuando se manipula arrays, los datos pueden ser copiados en otro array (y se duplican los datos) o por el contrario, los arrays comparten datos aunque pueden ser accedidos mediante nombres diferentes. Veamos algunos ejemplos:"
   ]
  },
  {
   "cell_type": "code",
   "execution_count": 70,
   "metadata": {
    "collapsed": false
   },
   "outputs": [
    {
     "data": {
      "text/plain": [
       "array([ 0,  1,  2,  3,  4,  5,  6,  7,  8,  9, 10, 11])"
      ]
     },
     "execution_count": 70,
     "metadata": {},
     "output_type": "execute_result"
    }
   ],
   "source": [
    "a = np.arange(12)\n",
    "a"
   ]
  },
  {
   "cell_type": "markdown",
   "metadata": {},
   "source": [
    "Los siguientes arrays a y b comparten los mismos datos:"
   ]
  },
  {
   "cell_type": "code",
   "execution_count": 71,
   "metadata": {
    "collapsed": false
   },
   "outputs": [
    {
     "data": {
      "text/plain": [
       "((12L,), (12L,))"
      ]
     },
     "execution_count": 71,
     "metadata": {},
     "output_type": "execute_result"
    }
   ],
   "source": [
    "b = a            # no se crea un nuevo array. Ambos nombres apuntan al mismo objeto\n",
    "a.shape , b.shape"
   ]
  },
  {
   "cell_type": "code",
   "execution_count": 72,
   "metadata": {
    "collapsed": false
   },
   "outputs": [
    {
     "data": {
      "text/plain": [
       "array([[ 0,  1,  2],\n",
       "       [ 3,  4,  5],\n",
       "       [ 6,  7,  8],\n",
       "       [ 9, 10, 11]])"
      ]
     },
     "execution_count": 72,
     "metadata": {},
     "output_type": "execute_result"
    }
   ],
   "source": [
    "b.shape = (4,3)    \n",
    "b"
   ]
  },
  {
   "cell_type": "code",
   "execution_count": 73,
   "metadata": {
    "collapsed": false
   },
   "outputs": [
    {
     "data": {
      "text/plain": [
       "array([[ 0,  1,  2],\n",
       "       [ 3,  4,  5],\n",
       "       [ 6,  7,  8],\n",
       "       [ 9, 10, 11]])"
      ]
     },
     "execution_count": 73,
     "metadata": {},
     "output_type": "execute_result"
    }
   ],
   "source": [
    "a                       #  cambio la forma de b -> cambia también la forma de a"
   ]
  },
  {
   "cell_type": "markdown",
   "metadata": {},
   "source": [
    "La función __view__ permite crear un array cuyos datos son compartidos con otro, pero cuya forma y acceso a los datos puede ser diferente:"
   ]
  },
  {
   "cell_type": "code",
   "execution_count": 124,
   "metadata": {
    "collapsed": false
   },
   "outputs": [
    {
     "data": {
      "text/plain": [
       "(array([ 0,  1,  2,  3,  4,  5,  6,  7,  8,  9, 10, 11]), array([[ 0,  1,  2],\n",
       "        [ 3,  4,  5],\n",
       "        [ 6,  7,  8],\n",
       "        [ 9, 10, 11]]))"
      ]
     },
     "execution_count": 124,
     "metadata": {},
     "output_type": "execute_result"
    }
   ],
   "source": [
    "a = np.arange(12)\n",
    "c = a.view()\n",
    "c.shape = (4,3)      # cambia la forma de c\n",
    "a,c"
   ]
  },
  {
   "cell_type": "markdown",
   "metadata": {},
   "source": [
    "Como los datos son compartidos, la modificación de los datos afectará a los dos arrays:"
   ]
  },
  {
   "cell_type": "code",
   "execution_count": 125,
   "metadata": {
    "collapsed": false
   },
   "outputs": [
    {
     "data": {
      "text/plain": [
       "(array([0, 1, 2, 3, 4, 5, 0, 0, 0, 0, 0, 0]), array([[0, 1, 2],\n",
       "        [3, 4, 5],\n",
       "        [0, 0, 0],\n",
       "        [0, 0, 0]]))"
      ]
     },
     "execution_count": 125,
     "metadata": {},
     "output_type": "execute_result"
    }
   ],
   "source": [
    "c[2:4, : ] = 0       # pone a 0 las dos últimas filas de c\n",
    "a , c                # también cambia a, ya que comparten datos"
   ]
  },
  {
   "cell_type": "markdown",
   "metadata": {},
   "source": [
    "Pero si lo que queremos es hacer una copia completa de un array (copia de todos los datos), utilizaremos la función `copy`:"
   ]
  },
  {
   "cell_type": "code",
   "execution_count": 76,
   "metadata": {
    "collapsed": false
   },
   "outputs": [
    {
     "data": {
      "text/plain": [
       "(array([0, 1, 2, 3, 4, 5]), array([9999,    1,    2,    3,    4,    5]))"
      ]
     },
     "execution_count": 76,
     "metadata": {},
     "output_type": "execute_result"
    }
   ],
   "source": [
    "a = np.arange(6)\n",
    "d = a.copy()                          # a new array object with new data is created\n",
    "d[0] = 9999\n",
    "a, d "
   ]
  },
  {
   "cell_type": "markdown",
   "metadata": {},
   "source": [
    "---------------------------------"
   ]
  },
  {
   "cell_type": "markdown",
   "metadata": {},
   "source": [
    "## Numpy y su relación con Mathlab"
   ]
  },
  {
   "cell_type": "markdown",
   "metadata": {},
   "source": [
    "Es innegable que una de las inspiraciones de `numpy` es **Matlab**. La idea es intentar aprovechar todo lo bueno y corregir lo que no tiene sentido o está mal diseñado.\n",
    "\n",
    "Uno de los grandes méritos de Matlab es el disponer de tal cantidad de funciones para generar y manipular arrays que ha llegado a cambiar el lenguaje en el que se comunican muchos científicos e ingenieros. Uno incluso puede oír por ahí un linspace o un meshgrid. Como el afán de Python es el de no reinventar la rueda podemos encontrar estas mismas funciones con ese mismo nombre en __NumPy__."
   ]
  },
  {
   "cell_type": "markdown",
   "metadata": {},
   "source": [
    "<img src=\"../iconos/Cute-Ball-Go-icon.png\" alt=\"Smiley face\" height=\"42\" width=\"42\" align: \"right\">"
   ]
  }
 ],
 "metadata": {
  "kernelspec": {
   "display_name": "Python 3",
   "language": "python",
   "name": "python3"
  },
  "language_info": {
   "codemirror_mode": {
    "name": "ipython",
    "version": 3
   },
   "file_extension": ".py",
   "mimetype": "text/x-python",
   "name": "python",
   "nbconvert_exporter": "python",
   "pygments_lexer": "ipython3",
   "version": "3.5.1"
  }
 },
 "nbformat": 4,
 "nbformat_minor": 0
}
