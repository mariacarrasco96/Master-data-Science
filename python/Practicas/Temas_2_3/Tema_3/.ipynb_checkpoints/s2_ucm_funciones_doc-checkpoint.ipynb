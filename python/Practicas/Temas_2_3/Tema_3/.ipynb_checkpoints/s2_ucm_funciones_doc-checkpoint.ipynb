{
 "cells": [
  {
   "cell_type": "markdown",
   "metadata": {},
   "source": [
    "## Documentación de funciones"
   ]
  },
  {
   "cell_type": "markdown",
   "metadata": {},
   "source": [
    "Cada función escrita por un programador realiza una tarea específica. \n",
    "* Cuando la cantidad de funciones disponibles para ser utilizadas es grande, puede ser difícil saber exactamente qué hace una función. \n",
    "* Es por eso que es extremadamente importante documentar en cada función:\n",
    "    *  cuál es la tarea que realiza, \n",
    "    *  cuáles son los parámetros que recibe,\n",
    "    *  qué es lo que devuelve\n",
    "\n",
    "La documentación de una función se coloca después del encabezado de la función, en un párrafo encerrado entre tres comillas dobles \"\"\"."
   ]
  },
  {
   "cell_type": "code",
   "execution_count": 120,
   "metadata": {
    "collapsed": true
   },
   "outputs": [],
   "source": [
    "def cambia(lista, num):\n",
    "    \"\"\" Permite añadir un elemento a una lista. \n",
    "        Recibe como parámetros una lista y el elemento a añadir\n",
    "        No devuelve nada \"\"\"\n",
    "    lista.append(num)"
   ]
  },
  {
   "cell_type": "markdown",
   "metadata": {},
   "source": [
    "Cuando una función definida está correctamente documentada, es posible acceder a su documentación mediante la función __help__."
   ]
  },
  {
   "cell_type": "code",
   "execution_count": 121,
   "metadata": {
    "collapsed": false
   },
   "outputs": [
    {
     "name": "stdout",
     "output_type": "stream",
     "text": [
      "Help on function cambia in module __main__:\n",
      "\n",
      "cambia(lista, num)\n",
      "    Permite añadir un elemento a una lista. \n",
      "    Recibe como parámetros una lista y el elemento a añadir\n",
      "    No devuelve nada\n",
      "\n"
     ]
    }
   ],
   "source": [
    "help(cambia)"
   ]
  },
  {
   "cell_type": "markdown",
   "metadata": {},
   "source": [
    "> Contar con funciones es de gran utilidad, ya que nos permite ir armando una biblioteca de instrucciones con problemas que vamos resolviendo, y que se pueden reutilizar en la resolución de nuevos problemas."
   ]
  },
  {
   "cell_type": "code",
   "execution_count": 152,
   "metadata": {
    "collapsed": false
   },
   "outputs": [],
   "source": [
    "def mean(a1, a2, a3, a4):\n",
    "    \"\"\"Calcula la media de cuatro valores\n",
    "         @type a1: real\n",
    "         @type a2: real\n",
    "         @type a3: real\n",
    "         @type a4: real\n",
    "         @rtype: real \"\"\"\n",
    "    s = 0.0\n",
    "    s = s + a1\n",
    "    s = s + a2\n",
    "    s = s + a3\n",
    "    s = s + a4\n",
    "    return s / 4"
   ]
  },
  {
   "cell_type": "code",
   "execution_count": 153,
   "metadata": {
    "collapsed": false
   },
   "outputs": [
    {
     "name": "stdout",
     "output_type": "stream",
     "text": [
      "Help on function mean in module __main__:\n",
      "\n",
      "mean(a1, a2, a3, a4)\n",
      "    Calcula la media de cuatro valores\n",
      "    @type a1: real\n",
      "    @type a2: real\n",
      "    @type a3: real\n",
      "    @type a4: real\n",
      "    @rtype: real\n",
      "\n"
     ]
    }
   ],
   "source": [
    "help(mean)"
   ]
  },
  {
   "cell_type": "markdown",
   "metadata": {},
   "source": [
    "## Espacio de nombres (_namespaces_)"
   ]
  },
  {
   "cell_type": "markdown",
   "metadata": {},
   "source": [
    "Las funciones pueden acceder a variables que se encuentran en dos tipos de ámbitos: \n",
    "__global__ y __local__.\n",
    "\n",
    "* El ámbito local (local namespace) se crea cuando se llama a una función.\n",
    "* Cuando la función termina de ejecutarse, el ámbito local se destruye"
   ]
  },
  {
   "cell_type": "code",
   "execution_count": 11,
   "metadata": {
    "collapsed": true
   },
   "outputs": [],
   "source": [
    "def fun():\n",
    "    t =[]\n",
    "    s = (1,2,3,4)\n",
    "    for i in s:\n",
    "        t.append(i)"
   ]
  },
  {
   "cell_type": "markdown",
   "metadata": {},
   "source": [
    "En el caso anterior, la lista vacía __t__ se crea en el ámbito local de la función __fun__. Fuera de ella no existe:"
   ]
  },
  {
   "cell_type": "code",
   "execution_count": 12,
   "metadata": {
    "collapsed": false
   },
   "outputs": [
    {
     "ename": "NameError",
     "evalue": "name 't' is not defined",
     "output_type": "error",
     "traceback": [
      "\u001b[1;31m---------------------------------------------------------------------------\u001b[0m",
      "\u001b[1;31mNameError\u001b[0m                                 Traceback (most recent call last)",
      "\u001b[1;32m<ipython-input-12-a085161600f5>\u001b[0m in \u001b[0;36m<module>\u001b[1;34m()\u001b[0m\n\u001b[0;32m      1\u001b[0m \u001b[0mfun\u001b[0m\u001b[1;33m(\u001b[0m\u001b[1;33m)\u001b[0m\u001b[1;33m\u001b[0m\u001b[0m\n\u001b[1;32m----> 2\u001b[1;33m \u001b[0mt\u001b[0m             \u001b[1;31m# no está definida\u001b[0m\u001b[1;33m\u001b[0m\u001b[0m\n\u001b[0m",
      "\u001b[1;31mNameError\u001b[0m: name 't' is not defined"
     ]
    }
   ],
   "source": [
    "fun()\n",
    "t             # no está definida"
   ]
  },
  {
   "cell_type": "markdown",
   "metadata": {},
   "source": [
    "Las variables y los parámetros que se declaran dentro de una función (ámbito local) no existen fuera de ella, no se los conoce. Fuera de la función se puede ver sólo el valor que retorna y es por eso que es necesario introducir la instrucción __return__.\n",
    "\n",
    "Si declaramos __t__ fuera de la función, en el ámbito global:"
   ]
  },
  {
   "cell_type": "code",
   "execution_count": 13,
   "metadata": {
    "collapsed": true
   },
   "outputs": [],
   "source": [
    "t =[]\n",
    "def fun():\n",
    "    s = (1,2,3,4)\n",
    "    for i in s:\n",
    "        t.append(i)"
   ]
  },
  {
   "cell_type": "code",
   "execution_count": 14,
   "metadata": {
    "collapsed": false
   },
   "outputs": [
    {
     "data": {
      "text/plain": [
       "[1, 2, 3, 4]"
      ]
     },
     "execution_count": 14,
     "metadata": {},
     "output_type": "execute_result"
    }
   ],
   "source": [
    "fun()\n",
    "t"
   ]
  },
  {
   "cell_type": "markdown",
   "metadata": {},
   "source": [
    "Pero podemos tener problemas cuando una variable se declara en el ámbito local y global de la función:"
   ]
  },
  {
   "cell_type": "code",
   "execution_count": 15,
   "metadata": {
    "collapsed": true
   },
   "outputs": [],
   "source": [
    "t = 2\n",
    "def fun():\n",
    "    t = []\n",
    "    s = (1,2,3,4)\n",
    "    for i in s:\n",
    "        t.append(i)"
   ]
  },
  {
   "cell_type": "code",
   "execution_count": 16,
   "metadata": {
    "collapsed": false
   },
   "outputs": [
    {
     "data": {
      "text/plain": [
       "2"
      ]
     },
     "execution_count": 16,
     "metadata": {},
     "output_type": "execute_result"
    }
   ],
   "source": [
    "t"
   ]
  },
  {
   "cell_type": "markdown",
   "metadata": {},
   "source": [
    "La solución, si queremos que la variable __t__ se refiera a la variable global, es necesario añadir la palabra reservada __global__."
   ]
  },
  {
   "cell_type": "code",
   "execution_count": 17,
   "metadata": {
    "collapsed": false
   },
   "outputs": [],
   "source": [
    "# probarlo y ejecutarlo en Spyder\n",
    "t = None\n",
    "def fun():\n",
    "    global t\n",
    "    t = []\n",
    "    s = (1,2,3,4)\n",
    "    for i in s:\n",
    "        t.append(i)"
   ]
  },
  {
   "cell_type": "markdown",
   "metadata": {},
   "source": [
    "--------"
   ]
  },
  {
   "cell_type": "markdown",
   "metadata": {},
   "source": [
    "<a rel=\"license\" href=\"http://creativecommons.org/licenses/by-nc-sa/4.0/\"><img alt=\"Licencia Creative Commons\" style=\"border-width:0\" src=\"https://i.creativecommons.org/l/by-nc-sa/4.0/88x31.png\" /></a><br />"
   ]
  }
 ],
 "metadata": {
  "kernelspec": {
   "display_name": "Python 3",
   "language": "python",
   "name": "python3"
  },
  "language_info": {
   "codemirror_mode": {
    "name": "ipython",
    "version": 3
   },
   "file_extension": ".py",
   "mimetype": "text/x-python",
   "name": "python",
   "nbconvert_exporter": "python",
   "pygments_lexer": "ipython3",
   "version": "3.5.1"
  }
 },
 "nbformat": 4,
 "nbformat_minor": 0
}
