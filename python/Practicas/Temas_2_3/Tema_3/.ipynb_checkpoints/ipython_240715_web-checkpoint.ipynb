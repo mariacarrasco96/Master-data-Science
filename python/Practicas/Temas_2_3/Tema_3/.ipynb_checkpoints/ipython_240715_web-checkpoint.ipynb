{
 "cells": [
  {
   "cell_type": "markdown",
   "metadata": {},
   "source": [
    "# Python para análisis de datos\n",
    "\n",
    "## Elementos básicos del lenguaje"
   ]
  },
  {
   "cell_type": "markdown",
   "metadata": {},
   "source": [
    "\n",
    "\n",
    "## Indice de contenidos"
   ]
  },
  {
   "cell_type": "markdown",
   "metadata": {},
   "source": [
    "\n",
    "* [Los tipos de datos básicos en Python](ipython_sintaxis_01.html)  \n",
    "* [Funciones I](ipython_funciones_00.html) ([Ejercicios](./ejercicios/ipython_sintaxis_01_ej.ipynb)) \n",
    "\n",
    "* [Estructuras de datos](ipython_sintaxis_03.html) \n",
    "([Ejercicios](./ejercicios/ipython_sintaxis_03_ej.ipynb))\n",
    "\n",
    "* [Módulos e importación](ipython_sintaxis_00.html)  \n",
    "* [Conjuntos](ipython_sets_01.html)  \n",
    "\n",
    "* [Diccionarios](ipython_diccionarios_01.html)\n",
    " ([Ejercicios](./ejercicios/ipython_diccionarios_01_ej.ipynb))\n",
    "  \n",
    "* [Estructuras de control](ipython_sintaxis_02.html) \n",
    "([Ejercicios](./ejercicios/ipython_sintaxis_02_ej.ipynb)) \n",
    "* [Definición por comprensión](ipython_comprehensions_01.html)  ([Ejercicios](./ejercicios/ipython_comprehensions_01_ej.ipynb))\n",
    "\n",
    "* [Ficheros](ipython_files_01.html)\n",
    " ([Ejercicios](./ejercicios/ipython_files_01_ej.ipynb))\n",
    "\n",
    "* [Funciones II](ipython_funciones_01.html)      \n",
    "\n",
    "-------\n",
    "\n",
    "* [Manejo de excepciones](ipython_exceptions_01.html) \n",
    "* [Funciones III](ipython_funciones_02.html) \n"
   ]
  },
  {
   "cell_type": "markdown",
   "metadata": {},
   "source": [
    "## Referencias\n",
    "\n",
    "* [The Python Tutorial](https://docs.python.org/3/tutorial/index.html)\n",
    "\n",
    "* [Python for Data Analysis](http://shop.oreilly.com/product/0636920023784.do)"
   ]
  },
  {
   "cell_type": "markdown",
   "metadata": {},
   "source": [
    "----"
   ]
  },
  {
   "cell_type": "markdown",
   "metadata": {},
   "source": [
    "<img src=\"../iconos/Cute-Ball-Go-icon.png\" alt=\"Smiley face\" height=\"42\" width=\"42\" align: \"right\">"
   ]
  },
  {
   "cell_type": "code",
   "execution_count": null,
   "metadata": {
    "collapsed": true
   },
   "outputs": [],
   "source": []
  }
 ],
 "metadata": {
  "kernelspec": {
   "display_name": "Python 2",
   "language": "python",
   "name": "python2"
  },
  "language_info": {
   "codemirror_mode": {
    "name": "ipython",
    "version": 2
   },
   "file_extension": ".py",
   "mimetype": "text/x-python",
   "name": "python",
   "nbconvert_exporter": "python",
   "pygments_lexer": "ipython2",
   "version": "2.7.11"
  }
 },
 "nbformat": 4,
 "nbformat_minor": 0
}
