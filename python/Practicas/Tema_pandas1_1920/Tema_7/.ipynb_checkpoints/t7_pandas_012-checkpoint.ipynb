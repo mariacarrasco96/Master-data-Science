{
 "cells": [
  {
   "cell_type": "markdown",
   "metadata": {},
   "source": [
    "# Acceso y actualización de los datos"
   ]
  },
  {
   "cell_type": "markdown",
   "metadata": {},
   "source": [
    "En esta Sección mostramos los mecanismos para acceder a los datos contenidos en una serie o un dataframe, así como los mecanismos para realizar su actualización. "
   ]
  },
  {
   "cell_type": "code",
   "execution_count": 1,
   "metadata": {
    "ExecuteTime": {
     "end_time": "2018-10-16T14:50:03.651887Z",
     "start_time": "2018-10-16T14:50:03.633998Z"
    }
   },
   "outputs": [],
   "source": [
    "import numpy as np\n",
    "import pandas as pd\n",
    "\n",
    "import matplotlib.pyplot as plt\n",
    "%matplotlib inline"
   ]
  },
  {
   "cell_type": "markdown",
   "metadata": {},
   "source": [
    "## Acceso a los datos"
   ]
  },
  {
   "cell_type": "markdown",
   "metadata": {},
   "source": [
    "Para acceder a las columnas, podemos usar la notación '.'  o con la notación empleada en los diccionarios, es decir, notación de corchetes y el nombre de la columna. Como podemos observar, el resultado es un objeto de tipo `Series`:"
   ]
  },
  {
   "cell_type": "code",
   "execution_count": 2,
   "metadata": {
    "ExecuteTime": {
     "end_time": "2018-10-16T14:50:03.907828Z",
     "start_time": "2018-10-16T14:50:03.878528Z"
    }
   },
   "outputs": [
    {
     "data": {
      "text/html": [
       "<div>\n",
       "<style scoped>\n",
       "    .dataframe tbody tr th:only-of-type {\n",
       "        vertical-align: middle;\n",
       "    }\n",
       "\n",
       "    .dataframe tbody tr th {\n",
       "        vertical-align: top;\n",
       "    }\n",
       "\n",
       "    .dataframe thead th {\n",
       "        text-align: right;\n",
       "    }\n",
       "</style>\n",
       "<table border=\"1\" class=\"dataframe\">\n",
       "  <thead>\n",
       "    <tr style=\"text-align: right;\">\n",
       "      <th></th>\n",
       "      <th>Desc</th>\n",
       "      <th>2004</th>\n",
       "      <th>2005</th>\n",
       "      <th>2006</th>\n",
       "      <th>Tipo</th>\n",
       "    </tr>\n",
       "  </thead>\n",
       "  <tbody>\n",
       "    <tr>\n",
       "      <th>EE</th>\n",
       "      <td>Estonia</td>\n",
       "      <td>8.40</td>\n",
       "      <td>7.70</td>\n",
       "      <td>6.70</td>\n",
       "      <td>A</td>\n",
       "    </tr>\n",
       "    <tr>\n",
       "      <th>IE</th>\n",
       "      <td>Ireland</td>\n",
       "      <td>193.50</td>\n",
       "      <td>227.76</td>\n",
       "      <td>221.05</td>\n",
       "      <td>B</td>\n",
       "    </tr>\n",
       "    <tr>\n",
       "      <th>EL</th>\n",
       "      <td>Greece</td>\n",
       "      <td>1.40</td>\n",
       "      <td>1.60</td>\n",
       "      <td>1.50</td>\n",
       "      <td>A</td>\n",
       "    </tr>\n",
       "    <tr>\n",
       "      <th>ES</th>\n",
       "      <td>Spain</td>\n",
       "      <td>50.52</td>\n",
       "      <td>58.90</td>\n",
       "      <td>46.72</td>\n",
       "      <td>C</td>\n",
       "    </tr>\n",
       "    <tr>\n",
       "      <th>FR</th>\n",
       "      <td>France</td>\n",
       "      <td>415.09</td>\n",
       "      <td>423.10</td>\n",
       "      <td>400.52</td>\n",
       "      <td>A</td>\n",
       "    </tr>\n",
       "  </tbody>\n",
       "</table>\n",
       "</div>"
      ],
      "text/plain": [
       "       Desc    2004    2005    2006 Tipo\n",
       "EE  Estonia    8.40    7.70    6.70    A\n",
       "IE  Ireland  193.50  227.76  221.05    B\n",
       "EL   Greece    1.40    1.60    1.50    A\n",
       "ES    Spain   50.52   58.90   46.72    C\n",
       "FR   France  415.09  423.10  400.52    A"
      ]
     },
     "execution_count": 2,
     "metadata": {},
     "output_type": "execute_result"
    }
   ],
   "source": [
    "tabla3 = pd.DataFrame( data = [ ('Estonia', 8.4, 7.7, 6.7, 'A'), \n",
    "                                ('Ireland',193.5, 227.76, 221.05, 'B'),\n",
    "                                ('Greece',1.4,1.6,1.5, 'A'),\n",
    "                                ('Spain',50.52,58.9,46.72, 'C'),\n",
    "                                ('France',415.09,423.1,400.52, 'A') ],\n",
    "                       columns =  ['Desc', '2004', '2005', '2006', 'Tipo'], \n",
    "                       index = [ 'EE', 'IE', 'EL', 'ES', 'FR'])\n",
    "tabla3"
   ]
  },
  {
   "cell_type": "code",
   "execution_count": 3,
   "metadata": {
    "ExecuteTime": {
     "end_time": "2018-10-16T14:50:04.072468Z",
     "start_time": "2018-10-16T14:50:04.057588Z"
    }
   },
   "outputs": [
    {
     "data": {
      "text/plain": [
       "EE    Estonia\n",
       "IE    Ireland\n",
       "EL     Greece\n",
       "ES      Spain\n",
       "FR     France\n",
       "Name: Desc, dtype: object"
      ]
     },
     "execution_count": 3,
     "metadata": {},
     "output_type": "execute_result"
    }
   ],
   "source": [
    "tabla3.Desc #el punto es lo mismo que el $ en R"
   ]
  },
  {
   "cell_type": "markdown",
   "metadata": {},
   "source": [
    "### Selección por etiqueta - `loc`"
   ]
  },
  {
   "cell_type": "markdown",
   "metadata": {},
   "source": [
    "Permite recuperar partes del DataFrame indicando el nombre las de filas y columnas que queremos seleccionar, es decir, indicando la/las etiquetas de cada uno de los índices. Presentamos algunos ejemplos que muestran el comportamiento. Para recuperar los datos de los países desde 'IE' hasta 'ES' escribimos los siguiente: SI solo ponemos loc es por etiqueta , para acceder al indice es iloc\n"
   ]
  },
  {
   "cell_type": "code",
   "execution_count": 4,
   "metadata": {
    "ExecuteTime": {
     "end_time": "2018-10-16T14:50:04.274344Z",
     "start_time": "2018-10-16T14:50:04.262938Z"
    }
   },
   "outputs": [
    {
     "data": {
      "text/html": [
       "<div>\n",
       "<style scoped>\n",
       "    .dataframe tbody tr th:only-of-type {\n",
       "        vertical-align: middle;\n",
       "    }\n",
       "\n",
       "    .dataframe tbody tr th {\n",
       "        vertical-align: top;\n",
       "    }\n",
       "\n",
       "    .dataframe thead th {\n",
       "        text-align: right;\n",
       "    }\n",
       "</style>\n",
       "<table border=\"1\" class=\"dataframe\">\n",
       "  <thead>\n",
       "    <tr style=\"text-align: right;\">\n",
       "      <th></th>\n",
       "      <th>Desc</th>\n",
       "      <th>2004</th>\n",
       "      <th>2005</th>\n",
       "      <th>2006</th>\n",
       "      <th>Tipo</th>\n",
       "    </tr>\n",
       "  </thead>\n",
       "  <tbody>\n",
       "    <tr>\n",
       "      <th>IE</th>\n",
       "      <td>Ireland</td>\n",
       "      <td>193.50</td>\n",
       "      <td>227.76</td>\n",
       "      <td>221.05</td>\n",
       "      <td>B</td>\n",
       "    </tr>\n",
       "    <tr>\n",
       "      <th>EL</th>\n",
       "      <td>Greece</td>\n",
       "      <td>1.40</td>\n",
       "      <td>1.60</td>\n",
       "      <td>1.50</td>\n",
       "      <td>A</td>\n",
       "    </tr>\n",
       "    <tr>\n",
       "      <th>ES</th>\n",
       "      <td>Spain</td>\n",
       "      <td>50.52</td>\n",
       "      <td>58.90</td>\n",
       "      <td>46.72</td>\n",
       "      <td>C</td>\n",
       "    </tr>\n",
       "  </tbody>\n",
       "</table>\n",
       "</div>"
      ],
      "text/plain": [
       "       Desc    2004    2005    2006 Tipo\n",
       "IE  Ireland  193.50  227.76  221.05    B\n",
       "EL   Greece    1.40    1.60    1.50    A\n",
       "ES    Spain   50.52   58.90   46.72    C"
      ]
     },
     "execution_count": 4,
     "metadata": {},
     "output_type": "execute_result"
    }
   ],
   "source": [
    "tabla3.loc['IE': 'ES']      #son las tres inclsuive"
   ]
  },
  {
   "cell_type": "markdown",
   "metadata": {},
   "source": [
    "Si solo nos interesan la producción en los años 2004 y 2005 de los paises desde 'IE' hasta 'ES' escribimos los siguiente:"
   ]
  },
  {
   "cell_type": "code",
   "execution_count": 5,
   "metadata": {
    "ExecuteTime": {
     "end_time": "2018-10-16T14:50:04.503003Z",
     "start_time": "2018-10-16T14:50:04.484158Z"
    }
   },
   "outputs": [
    {
     "data": {
      "text/html": [
       "<div>\n",
       "<style scoped>\n",
       "    .dataframe tbody tr th:only-of-type {\n",
       "        vertical-align: middle;\n",
       "    }\n",
       "\n",
       "    .dataframe tbody tr th {\n",
       "        vertical-align: top;\n",
       "    }\n",
       "\n",
       "    .dataframe thead th {\n",
       "        text-align: right;\n",
       "    }\n",
       "</style>\n",
       "<table border=\"1\" class=\"dataframe\">\n",
       "  <thead>\n",
       "    <tr style=\"text-align: right;\">\n",
       "      <th></th>\n",
       "      <th>2004</th>\n",
       "      <th>2005</th>\n",
       "    </tr>\n",
       "  </thead>\n",
       "  <tbody>\n",
       "    <tr>\n",
       "      <th>IE</th>\n",
       "      <td>193.50</td>\n",
       "      <td>227.76</td>\n",
       "    </tr>\n",
       "    <tr>\n",
       "      <th>EL</th>\n",
       "      <td>1.40</td>\n",
       "      <td>1.60</td>\n",
       "    </tr>\n",
       "    <tr>\n",
       "      <th>ES</th>\n",
       "      <td>50.52</td>\n",
       "      <td>58.90</td>\n",
       "    </tr>\n",
       "  </tbody>\n",
       "</table>\n",
       "</div>"
      ],
      "text/plain": [
       "      2004    2005\n",
       "IE  193.50  227.76\n",
       "EL    1.40    1.60\n",
       "ES   50.52   58.90"
      ]
     },
     "execution_count": 5,
     "metadata": {},
     "output_type": "execute_result"
    }
   ],
   "source": [
    "res = tabla3.loc['IE':'ES', ['2004', '2005']]     #esto para que me de tmbn las columnas\n",
    "res"
   ]
  },
  {
   "cell_type": "markdown",
   "metadata": {},
   "source": [
    "Para seleccionar los datos de producción de solo dos paises ('IE' y 'ES') en los años 2004 y 2006, escribimos lo siguiente:"
   ]
  },
  {
   "cell_type": "code",
   "execution_count": 6,
   "metadata": {
    "ExecuteTime": {
     "end_time": "2018-10-16T14:50:04.719265Z",
     "start_time": "2018-10-16T14:50:04.693967Z"
    }
   },
   "outputs": [
    {
     "data": {
      "text/html": [
       "<div>\n",
       "<style scoped>\n",
       "    .dataframe tbody tr th:only-of-type {\n",
       "        vertical-align: middle;\n",
       "    }\n",
       "\n",
       "    .dataframe tbody tr th {\n",
       "        vertical-align: top;\n",
       "    }\n",
       "\n",
       "    .dataframe thead th {\n",
       "        text-align: right;\n",
       "    }\n",
       "</style>\n",
       "<table border=\"1\" class=\"dataframe\">\n",
       "  <thead>\n",
       "    <tr style=\"text-align: right;\">\n",
       "      <th></th>\n",
       "      <th>2004</th>\n",
       "    </tr>\n",
       "  </thead>\n",
       "  <tbody>\n",
       "    <tr>\n",
       "      <th>IE</th>\n",
       "      <td>193.50</td>\n",
       "    </tr>\n",
       "    <tr>\n",
       "      <th>ES</th>\n",
       "      <td>50.52</td>\n",
       "    </tr>\n",
       "  </tbody>\n",
       "</table>\n",
       "</div>"
      ],
      "text/plain": [
       "      2004\n",
       "IE  193.50\n",
       "ES   50.52"
      ]
     },
     "execution_count": 6,
     "metadata": {},
     "output_type": "execute_result"
    }
   ],
   "source": [
    "res = tabla3.loc[['IE','ES'], ['2004']]     \n",
    "res"
   ]
  },
  {
   "cell_type": "markdown",
   "metadata": {},
   "source": [
    "Para seleccionar un valor escalar, por ejemplo la producción de mantequilla en el año 2006 en el pais 'IE', escribimos:"
   ]
  },
  {
   "cell_type": "code",
   "execution_count": 31,
   "metadata": {
    "ExecuteTime": {
     "end_time": "2018-10-16T14:50:04.940485Z",
     "start_time": "2018-10-16T14:50:04.934061Z"
    }
   },
   "outputs": [
    {
     "data": {
      "text/plain": [
       "221.05"
      ]
     },
     "execution_count": 31,
     "metadata": {},
     "output_type": "execute_result"
    }
   ],
   "source": [
    "tabla3.loc['IE', '2006']     "
   ]
  },
  {
   "cell_type": "markdown",
   "metadata": {},
   "source": [
    "### Selección por posición - `iloc`"
   ]
  },
  {
   "cell_type": "markdown",
   "metadata": {},
   "source": [
    "La propiedad `iloc` permite recuperar partes del `DataFrame` indexando filas y columnas con valores de tipo `int` comenzando desde el 0. Para seleccionar la primera fila del `DataFrame` escribimos lo siguiente:"
   ]
  },
  {
   "cell_type": "code",
   "execution_count": 32,
   "metadata": {
    "ExecuteTime": {
     "end_time": "2018-10-16T14:50:05.151288Z",
     "start_time": "2018-10-16T14:50:05.144842Z"
    }
   },
   "outputs": [
    {
     "data": {
      "text/plain": [
       "Desc    Estonia\n",
       "2004        8.4\n",
       "2005        7.7\n",
       "2006        6.7\n",
       "Tipo          A\n",
       "Name: EE, dtype: object"
      ]
     },
     "execution_count": 32,
     "metadata": {},
     "output_type": "execute_result"
    }
   ],
   "source": [
    "tabla3.iloc[0] #me lo devuelve en forma de serie"
   ]
  },
  {
   "cell_type": "markdown",
   "metadata": {},
   "source": [
    "El resultado es un objeto de tipo `Series`. El nombre de la serie coincide con el valor del índice de la fila seleccionada. Para recuperar las tres primeras filas y la primera y última columna, escribimos lo siguiente:"
   ]
  },
  {
   "cell_type": "code",
   "execution_count": 7,
   "metadata": {
    "ExecuteTime": {
     "end_time": "2018-10-16T14:50:05.316458Z",
     "start_time": "2018-10-16T14:50:05.296621Z"
    }
   },
   "outputs": [
    {
     "data": {
      "text/html": [
       "<div>\n",
       "<style scoped>\n",
       "    .dataframe tbody tr th:only-of-type {\n",
       "        vertical-align: middle;\n",
       "    }\n",
       "\n",
       "    .dataframe tbody tr th {\n",
       "        vertical-align: top;\n",
       "    }\n",
       "\n",
       "    .dataframe thead th {\n",
       "        text-align: right;\n",
       "    }\n",
       "</style>\n",
       "<table border=\"1\" class=\"dataframe\">\n",
       "  <thead>\n",
       "    <tr style=\"text-align: right;\">\n",
       "      <th></th>\n",
       "      <th>Desc</th>\n",
       "      <th>Tipo</th>\n",
       "    </tr>\n",
       "  </thead>\n",
       "  <tbody>\n",
       "    <tr>\n",
       "      <th>EE</th>\n",
       "      <td>Estonia</td>\n",
       "      <td>A</td>\n",
       "    </tr>\n",
       "    <tr>\n",
       "      <th>IE</th>\n",
       "      <td>Ireland</td>\n",
       "      <td>B</td>\n",
       "    </tr>\n",
       "    <tr>\n",
       "      <th>EL</th>\n",
       "      <td>Greece</td>\n",
       "      <td>A</td>\n",
       "    </tr>\n",
       "  </tbody>\n",
       "</table>\n",
       "</div>"
      ],
      "text/plain": [
       "       Desc Tipo\n",
       "EE  Estonia    A\n",
       "IE  Ireland    B\n",
       "EL   Greece    A"
      ]
     },
     "execution_count": 7,
     "metadata": {},
     "output_type": "execute_result"
    }
   ],
   "source": [
    "tabla3.iloc[:3,[0,-1]]"
   ]
  },
  {
   "cell_type": "code",
   "execution_count": 8,
   "metadata": {
    "ExecuteTime": {
     "end_time": "2018-10-16T14:50:05.471248Z",
     "start_time": "2018-10-16T14:50:05.448397Z"
    }
   },
   "outputs": [
    {
     "data": {
      "text/html": [
       "<div>\n",
       "<style scoped>\n",
       "    .dataframe tbody tr th:only-of-type {\n",
       "        vertical-align: middle;\n",
       "    }\n",
       "\n",
       "    .dataframe tbody tr th {\n",
       "        vertical-align: top;\n",
       "    }\n",
       "\n",
       "    .dataframe thead th {\n",
       "        text-align: right;\n",
       "    }\n",
       "</style>\n",
       "<table border=\"1\" class=\"dataframe\">\n",
       "  <thead>\n",
       "    <tr style=\"text-align: right;\">\n",
       "      <th></th>\n",
       "      <th>Desc</th>\n",
       "      <th>2004</th>\n",
       "      <th>2005</th>\n",
       "      <th>2006</th>\n",
       "      <th>Tipo</th>\n",
       "    </tr>\n",
       "  </thead>\n",
       "  <tbody>\n",
       "    <tr>\n",
       "      <th>EE</th>\n",
       "      <td>Estonia</td>\n",
       "      <td>8.4</td>\n",
       "      <td>7.70</td>\n",
       "      <td>6.70</td>\n",
       "      <td>A</td>\n",
       "    </tr>\n",
       "    <tr>\n",
       "      <th>IE</th>\n",
       "      <td>Ireland</td>\n",
       "      <td>193.5</td>\n",
       "      <td>227.76</td>\n",
       "      <td>221.05</td>\n",
       "      <td>B</td>\n",
       "    </tr>\n",
       "    <tr>\n",
       "      <th>EL</th>\n",
       "      <td>Greece</td>\n",
       "      <td>1.4</td>\n",
       "      <td>1.60</td>\n",
       "      <td>1.50</td>\n",
       "      <td>A</td>\n",
       "    </tr>\n",
       "  </tbody>\n",
       "</table>\n",
       "</div>"
      ],
      "text/plain": [
       "       Desc   2004    2005    2006 Tipo\n",
       "EE  Estonia    8.4    7.70    6.70    A\n",
       "IE  Ireland  193.5  227.76  221.05    B\n",
       "EL   Greece    1.4    1.60    1.50    A"
      ]
     },
     "execution_count": 8,
     "metadata": {},
     "output_type": "execute_result"
    }
   ],
   "source": [
    "tabla3.head(3)"
   ]
  },
  {
   "cell_type": "code",
   "execution_count": 35,
   "metadata": {
    "ExecuteTime": {
     "end_time": "2018-10-16T14:50:05.622497Z",
     "start_time": "2018-10-16T14:50:05.609106Z"
    }
   },
   "outputs": [
    {
     "data": {
      "text/html": [
       "<div>\n",
       "<style scoped>\n",
       "    .dataframe tbody tr th:only-of-type {\n",
       "        vertical-align: middle;\n",
       "    }\n",
       "\n",
       "    .dataframe tbody tr th {\n",
       "        vertical-align: top;\n",
       "    }\n",
       "\n",
       "    .dataframe thead th {\n",
       "        text-align: right;\n",
       "    }\n",
       "</style>\n",
       "<table border=\"1\" class=\"dataframe\">\n",
       "  <thead>\n",
       "    <tr style=\"text-align: right;\">\n",
       "      <th></th>\n",
       "      <th>Desc</th>\n",
       "      <th>2004</th>\n",
       "      <th>2005</th>\n",
       "      <th>2006</th>\n",
       "      <th>Tipo</th>\n",
       "    </tr>\n",
       "  </thead>\n",
       "  <tbody>\n",
       "    <tr>\n",
       "      <th>EE</th>\n",
       "      <td>Estonia</td>\n",
       "      <td>8.40</td>\n",
       "      <td>7.70</td>\n",
       "      <td>6.70</td>\n",
       "      <td>A</td>\n",
       "    </tr>\n",
       "    <tr>\n",
       "      <th>IE</th>\n",
       "      <td>Ireland</td>\n",
       "      <td>193.50</td>\n",
       "      <td>227.76</td>\n",
       "      <td>221.05</td>\n",
       "      <td>B</td>\n",
       "    </tr>\n",
       "    <tr>\n",
       "      <th>EL</th>\n",
       "      <td>Greece</td>\n",
       "      <td>1.40</td>\n",
       "      <td>1.60</td>\n",
       "      <td>1.50</td>\n",
       "      <td>A</td>\n",
       "    </tr>\n",
       "    <tr>\n",
       "      <th>ES</th>\n",
       "      <td>Spain</td>\n",
       "      <td>50.52</td>\n",
       "      <td>58.90</td>\n",
       "      <td>46.72</td>\n",
       "      <td>C</td>\n",
       "    </tr>\n",
       "    <tr>\n",
       "      <th>FR</th>\n",
       "      <td>France</td>\n",
       "      <td>415.09</td>\n",
       "      <td>423.10</td>\n",
       "      <td>400.52</td>\n",
       "      <td>A</td>\n",
       "    </tr>\n",
       "  </tbody>\n",
       "</table>\n",
       "</div>"
      ],
      "text/plain": [
       "       Desc    2004    2005    2006 Tipo\n",
       "EE  Estonia    8.40    7.70    6.70    A\n",
       "IE  Ireland  193.50  227.76  221.05    B\n",
       "EL   Greece    1.40    1.60    1.50    A\n",
       "ES    Spain   50.52   58.90   46.72    C\n",
       "FR   France  415.09  423.10  400.52    A"
      ]
     },
     "execution_count": 35,
     "metadata": {},
     "output_type": "execute_result"
    }
   ],
   "source": [
    "tabla3.tail(100)"
   ]
  },
  {
   "cell_type": "code",
   "execution_count": 9,
   "metadata": {},
   "outputs": [
    {
     "data": {
      "text/html": [
       "<div>\n",
       "<style scoped>\n",
       "    .dataframe tbody tr th:only-of-type {\n",
       "        vertical-align: middle;\n",
       "    }\n",
       "\n",
       "    .dataframe tbody tr th {\n",
       "        vertical-align: top;\n",
       "    }\n",
       "\n",
       "    .dataframe thead th {\n",
       "        text-align: right;\n",
       "    }\n",
       "</style>\n",
       "<table border=\"1\" class=\"dataframe\">\n",
       "  <thead>\n",
       "    <tr style=\"text-align: right;\">\n",
       "      <th></th>\n",
       "      <th>Desc</th>\n",
       "      <th>2004</th>\n",
       "      <th>2005</th>\n",
       "      <th>2006</th>\n",
       "      <th>Tipo</th>\n",
       "    </tr>\n",
       "  </thead>\n",
       "  <tbody>\n",
       "    <tr>\n",
       "      <th>ES</th>\n",
       "      <td>Spain</td>\n",
       "      <td>50.52</td>\n",
       "      <td>58.9</td>\n",
       "      <td>46.72</td>\n",
       "      <td>C</td>\n",
       "    </tr>\n",
       "    <tr>\n",
       "      <th>FR</th>\n",
       "      <td>France</td>\n",
       "      <td>415.09</td>\n",
       "      <td>423.1</td>\n",
       "      <td>400.52</td>\n",
       "      <td>A</td>\n",
       "    </tr>\n",
       "  </tbody>\n",
       "</table>\n",
       "</div>"
      ],
      "text/plain": [
       "      Desc    2004   2005    2006 Tipo\n",
       "ES   Spain   50.52   58.9   46.72    C\n",
       "FR  France  415.09  423.1  400.52    A"
      ]
     },
     "execution_count": 9,
     "metadata": {},
     "output_type": "execute_result"
    }
   ],
   "source": [
    "tabla3.tail(2)"
   ]
  },
  {
   "cell_type": "code",
   "execution_count": 12,
   "metadata": {},
   "outputs": [
    {
     "data": {
      "text/html": [
       "<div>\n",
       "<style scoped>\n",
       "    .dataframe tbody tr th:only-of-type {\n",
       "        vertical-align: middle;\n",
       "    }\n",
       "\n",
       "    .dataframe tbody tr th {\n",
       "        vertical-align: top;\n",
       "    }\n",
       "\n",
       "    .dataframe thead th {\n",
       "        text-align: right;\n",
       "    }\n",
       "</style>\n",
       "<table border=\"1\" class=\"dataframe\">\n",
       "  <thead>\n",
       "    <tr style=\"text-align: right;\">\n",
       "      <th></th>\n",
       "      <th>Desc</th>\n",
       "      <th>2004</th>\n",
       "      <th>2005</th>\n",
       "      <th>2006</th>\n",
       "      <th>Tipo</th>\n",
       "    </tr>\n",
       "  </thead>\n",
       "  <tbody>\n",
       "    <tr>\n",
       "      <th>EE</th>\n",
       "      <td>Estonia</td>\n",
       "      <td>8.40</td>\n",
       "      <td>7.7</td>\n",
       "      <td>6.70</td>\n",
       "      <td>A</td>\n",
       "    </tr>\n",
       "    <tr>\n",
       "      <th>FR</th>\n",
       "      <td>France</td>\n",
       "      <td>415.09</td>\n",
       "      <td>423.1</td>\n",
       "      <td>400.52</td>\n",
       "      <td>A</td>\n",
       "    </tr>\n",
       "  </tbody>\n",
       "</table>\n",
       "</div>"
      ],
      "text/plain": [
       "       Desc    2004   2005    2006 Tipo\n",
       "EE  Estonia    8.40    7.7    6.70    A\n",
       "FR   France  415.09  423.1  400.52    A"
      ]
     },
     "execution_count": 12,
     "metadata": {},
     "output_type": "execute_result"
    }
   ],
   "source": [
    "tabla3.sample(2)#me saca una muestra de dos filas aleatorias"
   ]
  },
  {
   "cell_type": "code",
   "execution_count": null,
   "metadata": {},
   "outputs": [],
   "source": []
  },
  {
   "cell_type": "code",
   "execution_count": null,
   "metadata": {},
   "outputs": [],
   "source": []
  },
  {
   "cell_type": "code",
   "execution_count": null,
   "metadata": {},
   "outputs": [],
   "source": []
  },
  {
   "cell_type": "markdown",
   "metadata": {},
   "source": [
    "Otra forma de seleccionar partes de un dataframe es mediante el uso de filtros, de forma similar a cómo se aplicaban en el caso de los arrays de Numpy. "
   ]
  },
  {
   "cell_type": "code",
   "execution_count": 36,
   "metadata": {
    "ExecuteTime": {
     "end_time": "2018-10-16T14:50:05.832309Z",
     "start_time": "2018-10-16T14:50:05.824869Z"
    }
   },
   "outputs": [],
   "source": [
    "tabla2 = pd.DataFrame([10.7, 7.5, 7.1, 17.8, 7.9 ], \n",
    "                     columns = ['Valor'], \n",
    "                     index = ['Murcia','Cantabria', 'Galicia', 'Melilla','Canarias' ])\n"
   ]
  },
  {
   "cell_type": "code",
   "execution_count": 37,
   "metadata": {
    "ExecuteTime": {
     "end_time": "2018-10-16T14:50:05.941430Z",
     "start_time": "2018-10-16T14:50:05.933992Z"
    }
   },
   "outputs": [
    {
     "data": {
      "text/html": [
       "<div>\n",
       "<style scoped>\n",
       "    .dataframe tbody tr th:only-of-type {\n",
       "        vertical-align: middle;\n",
       "    }\n",
       "\n",
       "    .dataframe tbody tr th {\n",
       "        vertical-align: top;\n",
       "    }\n",
       "\n",
       "    .dataframe thead th {\n",
       "        text-align: right;\n",
       "    }\n",
       "</style>\n",
       "<table border=\"1\" class=\"dataframe\">\n",
       "  <thead>\n",
       "    <tr style=\"text-align: right;\">\n",
       "      <th></th>\n",
       "      <th>Valor</th>\n",
       "    </tr>\n",
       "  </thead>\n",
       "  <tbody>\n",
       "    <tr>\n",
       "      <th>Murcia</th>\n",
       "      <td>10.7</td>\n",
       "    </tr>\n",
       "    <tr>\n",
       "      <th>Cantabria</th>\n",
       "      <td>7.5</td>\n",
       "    </tr>\n",
       "    <tr>\n",
       "      <th>Galicia</th>\n",
       "      <td>7.1</td>\n",
       "    </tr>\n",
       "    <tr>\n",
       "      <th>Melilla</th>\n",
       "      <td>17.8</td>\n",
       "    </tr>\n",
       "    <tr>\n",
       "      <th>Canarias</th>\n",
       "      <td>7.9</td>\n",
       "    </tr>\n",
       "  </tbody>\n",
       "</table>\n",
       "</div>"
      ],
      "text/plain": [
       "           Valor\n",
       "Murcia      10.7\n",
       "Cantabria    7.5\n",
       "Galicia      7.1\n",
       "Melilla     17.8\n",
       "Canarias     7.9"
      ]
     },
     "execution_count": 37,
     "metadata": {},
     "output_type": "execute_result"
    }
   ],
   "source": [
    "tabla2"
   ]
  },
  {
   "cell_type": "code",
   "execution_count": 38,
   "metadata": {
    "ExecuteTime": {
     "end_time": "2018-10-16T14:50:06.104121Z",
     "start_time": "2018-10-16T14:50:06.095193Z"
    }
   },
   "outputs": [
    {
     "data": {
      "text/plain": [
       "Murcia       False\n",
       "Cantabria     True\n",
       "Galicia       True\n",
       "Melilla      False\n",
       "Canarias      True\n",
       "Name: Valor, dtype: bool"
      ]
     },
     "execution_count": 38,
     "metadata": {},
     "output_type": "execute_result"
    }
   ],
   "source": [
    "tabla2.Valor < 10"
   ]
  },
  {
   "cell_type": "code",
   "execution_count": 39,
   "metadata": {
    "ExecuteTime": {
     "end_time": "2018-10-16T14:50:06.239532Z",
     "start_time": "2018-10-16T14:50:06.234574Z"
    }
   },
   "outputs": [],
   "source": [
    "res = tabla2[tabla2.Valor < 10]"
   ]
  },
  {
   "cell_type": "markdown",
   "metadata": {},
   "source": [
    "Al aplicar el filtro, se mantienen las filas que cumplen el filtro."
   ]
  },
  {
   "cell_type": "code",
   "execution_count": 40,
   "metadata": {
    "ExecuteTime": {
     "end_time": "2018-10-16T14:50:06.389824Z",
     "start_time": "2018-10-16T14:50:06.381886Z"
    }
   },
   "outputs": [
    {
     "data": {
      "text/html": [
       "<div>\n",
       "<style scoped>\n",
       "    .dataframe tbody tr th:only-of-type {\n",
       "        vertical-align: middle;\n",
       "    }\n",
       "\n",
       "    .dataframe tbody tr th {\n",
       "        vertical-align: top;\n",
       "    }\n",
       "\n",
       "    .dataframe thead th {\n",
       "        text-align: right;\n",
       "    }\n",
       "</style>\n",
       "<table border=\"1\" class=\"dataframe\">\n",
       "  <thead>\n",
       "    <tr style=\"text-align: right;\">\n",
       "      <th></th>\n",
       "      <th>Valor</th>\n",
       "    </tr>\n",
       "  </thead>\n",
       "  <tbody>\n",
       "    <tr>\n",
       "      <th>Cantabria</th>\n",
       "      <td>7.5</td>\n",
       "    </tr>\n",
       "    <tr>\n",
       "      <th>Galicia</th>\n",
       "      <td>7.1</td>\n",
       "    </tr>\n",
       "    <tr>\n",
       "      <th>Canarias</th>\n",
       "      <td>7.9</td>\n",
       "    </tr>\n",
       "  </tbody>\n",
       "</table>\n",
       "</div>"
      ],
      "text/plain": [
       "           Valor\n",
       "Cantabria    7.5\n",
       "Galicia      7.1\n",
       "Canarias     7.9"
      ]
     },
     "execution_count": 40,
     "metadata": {},
     "output_type": "execute_result"
    }
   ],
   "source": [
    "res"
   ]
  },
  {
   "cell_type": "markdown",
   "metadata": {},
   "source": [
    "## Actualización de datos de un DataFrame"
   ]
  },
  {
   "cell_type": "markdown",
   "metadata": {},
   "source": [
    "En muchas ocasiones los datos que se están analizando no continen toda la información  que necesitamos para nuestro análisis, o símplemente no están en el formato apropiado. En estos casos, Pandas ofrece la posibilidad de modificar los valores del `DataFrame`, borrar columnas, crear columnas con nuevos valores o incluso columnas cuyos valores se calculan a partir de los valores de otras columnas."
   ]
  },
  {
   "cell_type": "markdown",
   "metadata": {},
   "source": [
    "### Modificando valores del DataFrame"
   ]
  },
  {
   "cell_type": "markdown",
   "metadata": {},
   "source": [
    "Para actualizar los datos de una columna podemos utilizar un valor concreto o un array de valores. "
   ]
  },
  {
   "cell_type": "code",
   "execution_count": 13,
   "metadata": {
    "ExecuteTime": {
     "end_time": "2018-10-16T14:50:06.732069Z",
     "start_time": "2018-10-16T14:50:06.717189Z"
    }
   },
   "outputs": [],
   "source": [
    "tabla3.Tipo = 'D'#te sustituye todo por D\n"
   ]
  },
  {
   "cell_type": "code",
   "execution_count": 14,
   "metadata": {
    "ExecuteTime": {
     "end_time": "2018-10-16T14:50:06.824326Z",
     "start_time": "2018-10-16T14:50:06.811927Z"
    }
   },
   "outputs": [],
   "source": [
    "tabla3['nueva'] = 'p'"
   ]
  },
  {
   "cell_type": "code",
   "execution_count": 15,
   "metadata": {
    "ExecuteTime": {
     "end_time": "2018-10-16T14:50:06.931961Z",
     "start_time": "2018-10-16T14:50:06.911625Z"
    }
   },
   "outputs": [
    {
     "data": {
      "text/html": [
       "<div>\n",
       "<style scoped>\n",
       "    .dataframe tbody tr th:only-of-type {\n",
       "        vertical-align: middle;\n",
       "    }\n",
       "\n",
       "    .dataframe tbody tr th {\n",
       "        vertical-align: top;\n",
       "    }\n",
       "\n",
       "    .dataframe thead th {\n",
       "        text-align: right;\n",
       "    }\n",
       "</style>\n",
       "<table border=\"1\" class=\"dataframe\">\n",
       "  <thead>\n",
       "    <tr style=\"text-align: right;\">\n",
       "      <th></th>\n",
       "      <th>Desc</th>\n",
       "      <th>2004</th>\n",
       "      <th>2005</th>\n",
       "      <th>2006</th>\n",
       "      <th>Tipo</th>\n",
       "      <th>nueva</th>\n",
       "    </tr>\n",
       "  </thead>\n",
       "  <tbody>\n",
       "    <tr>\n",
       "      <th>EE</th>\n",
       "      <td>Estonia</td>\n",
       "      <td>8.40</td>\n",
       "      <td>7.70</td>\n",
       "      <td>6.70</td>\n",
       "      <td>D</td>\n",
       "      <td>p</td>\n",
       "    </tr>\n",
       "    <tr>\n",
       "      <th>IE</th>\n",
       "      <td>Ireland</td>\n",
       "      <td>193.50</td>\n",
       "      <td>227.76</td>\n",
       "      <td>221.05</td>\n",
       "      <td>D</td>\n",
       "      <td>p</td>\n",
       "    </tr>\n",
       "    <tr>\n",
       "      <th>EL</th>\n",
       "      <td>Greece</td>\n",
       "      <td>1.40</td>\n",
       "      <td>1.60</td>\n",
       "      <td>1.50</td>\n",
       "      <td>D</td>\n",
       "      <td>p</td>\n",
       "    </tr>\n",
       "    <tr>\n",
       "      <th>ES</th>\n",
       "      <td>Spain</td>\n",
       "      <td>50.52</td>\n",
       "      <td>58.90</td>\n",
       "      <td>46.72</td>\n",
       "      <td>D</td>\n",
       "      <td>p</td>\n",
       "    </tr>\n",
       "    <tr>\n",
       "      <th>FR</th>\n",
       "      <td>France</td>\n",
       "      <td>415.09</td>\n",
       "      <td>423.10</td>\n",
       "      <td>400.52</td>\n",
       "      <td>D</td>\n",
       "      <td>p</td>\n",
       "    </tr>\n",
       "  </tbody>\n",
       "</table>\n",
       "</div>"
      ],
      "text/plain": [
       "       Desc    2004    2005    2006 Tipo nueva\n",
       "EE  Estonia    8.40    7.70    6.70    D     p\n",
       "IE  Ireland  193.50  227.76  221.05    D     p\n",
       "EL   Greece    1.40    1.60    1.50    D     p\n",
       "ES    Spain   50.52   58.90   46.72    D     p\n",
       "FR   France  415.09  423.10  400.52    D     p"
      ]
     },
     "execution_count": 15,
     "metadata": {},
     "output_type": "execute_result"
    }
   ],
   "source": [
    "tabla3"
   ]
  },
  {
   "cell_type": "code",
   "execution_count": 25,
   "metadata": {
    "ExecuteTime": {
     "end_time": "2018-10-16T14:50:11.081621Z",
     "start_time": "2018-10-16T14:50:11.062773Z"
    }
   },
   "outputs": [],
   "source": [
    "tabla3.Tipo = ['D', 'D', 'D', 'E', 'F']"
   ]
  },
  {
   "cell_type": "code",
   "execution_count": 26,
   "metadata": {
    "ExecuteTime": {
     "end_time": "2018-10-16T14:50:11.859289Z",
     "start_time": "2018-10-16T14:50:11.845896Z"
    }
   },
   "outputs": [
    {
     "data": {
      "text/html": [
       "<div>\n",
       "<style scoped>\n",
       "    .dataframe tbody tr th:only-of-type {\n",
       "        vertical-align: middle;\n",
       "    }\n",
       "\n",
       "    .dataframe tbody tr th {\n",
       "        vertical-align: top;\n",
       "    }\n",
       "\n",
       "    .dataframe thead th {\n",
       "        text-align: right;\n",
       "    }\n",
       "</style>\n",
       "<table border=\"1\" class=\"dataframe\">\n",
       "  <thead>\n",
       "    <tr style=\"text-align: right;\">\n",
       "      <th></th>\n",
       "      <th>Desc</th>\n",
       "      <th>2004</th>\n",
       "      <th>2005</th>\n",
       "      <th>2006</th>\n",
       "      <th>Tipo</th>\n",
       "      <th>nueva</th>\n",
       "      <th>Nueva</th>\n",
       "      <th>Total</th>\n",
       "      <th>Total2</th>\n",
       "    </tr>\n",
       "  </thead>\n",
       "  <tbody>\n",
       "    <tr>\n",
       "      <th>EE</th>\n",
       "      <td>Estonia</td>\n",
       "      <td>8.40</td>\n",
       "      <td>7.70</td>\n",
       "      <td>6.70</td>\n",
       "      <td>D</td>\n",
       "      <td>p</td>\n",
       "      <td>10</td>\n",
       "      <td>22.80</td>\n",
       "      <td>22.80</td>\n",
       "    </tr>\n",
       "    <tr>\n",
       "      <th>IE</th>\n",
       "      <td>Ireland</td>\n",
       "      <td>193.50</td>\n",
       "      <td>227.76</td>\n",
       "      <td>221.05</td>\n",
       "      <td>D</td>\n",
       "      <td>p</td>\n",
       "      <td>20</td>\n",
       "      <td>642.31</td>\n",
       "      <td>642.31</td>\n",
       "    </tr>\n",
       "    <tr>\n",
       "      <th>EL</th>\n",
       "      <td>Greece</td>\n",
       "      <td>1.40</td>\n",
       "      <td>1.60</td>\n",
       "      <td>1.50</td>\n",
       "      <td>D</td>\n",
       "      <td>p</td>\n",
       "      <td>30</td>\n",
       "      <td>4.50</td>\n",
       "      <td>4.50</td>\n",
       "    </tr>\n",
       "    <tr>\n",
       "      <th>ES</th>\n",
       "      <td>Spain</td>\n",
       "      <td>50.52</td>\n",
       "      <td>58.90</td>\n",
       "      <td>46.72</td>\n",
       "      <td>E</td>\n",
       "      <td>p</td>\n",
       "      <td>40</td>\n",
       "      <td>156.14</td>\n",
       "      <td>156.14</td>\n",
       "    </tr>\n",
       "    <tr>\n",
       "      <th>FR</th>\n",
       "      <td>France</td>\n",
       "      <td>415.09</td>\n",
       "      <td>423.10</td>\n",
       "      <td>400.52</td>\n",
       "      <td>F</td>\n",
       "      <td>p</td>\n",
       "      <td>50</td>\n",
       "      <td>1238.71</td>\n",
       "      <td>1238.71</td>\n",
       "    </tr>\n",
       "  </tbody>\n",
       "</table>\n",
       "</div>"
      ],
      "text/plain": [
       "       Desc    2004    2005    2006 Tipo nueva  Nueva    Total   Total2\n",
       "EE  Estonia    8.40    7.70    6.70    D     p     10    22.80    22.80\n",
       "IE  Ireland  193.50  227.76  221.05    D     p     20   642.31   642.31\n",
       "EL   Greece    1.40    1.60    1.50    D     p     30     4.50     4.50\n",
       "ES    Spain   50.52   58.90   46.72    E     p     40   156.14   156.14\n",
       "FR   France  415.09  423.10  400.52    F     p     50  1238.71  1238.71"
      ]
     },
     "execution_count": 26,
     "metadata": {},
     "output_type": "execute_result"
    }
   ],
   "source": [
    "tabla3"
   ]
  },
  {
   "cell_type": "code",
   "execution_count": 30,
   "metadata": {},
   "outputs": [
    {
     "data": {
      "text/plain": [
       "EE      22.8\n",
       "IE     642.3\n",
       "EL       4.5\n",
       "ES     156.1\n",
       "FR    1238.7\n",
       "Name: Total, dtype: float64"
      ]
     },
     "execution_count": 30,
     "metadata": {},
     "output_type": "execute_result"
    }
   ],
   "source": [
    "#expresion de la columna 2006 con un solo decimal#quiero aplicafr una funcion a cada elemnto de la serie- funcion map y otra es round\n",
    "tabla3.Total2 = tabla3.Total2.map(lambda num: round(num,1))\n",
    "tabla3\n",
    "#otra forma\n",
    "round(tabla3.Total,1)"
   ]
  },
  {
   "cell_type": "code",
   "execution_count": 31,
   "metadata": {},
   "outputs": [
    {
     "data": {
      "text/html": [
       "<div>\n",
       "<style scoped>\n",
       "    .dataframe tbody tr th:only-of-type {\n",
       "        vertical-align: middle;\n",
       "    }\n",
       "\n",
       "    .dataframe tbody tr th {\n",
       "        vertical-align: top;\n",
       "    }\n",
       "\n",
       "    .dataframe thead th {\n",
       "        text-align: right;\n",
       "    }\n",
       "</style>\n",
       "<table border=\"1\" class=\"dataframe\">\n",
       "  <thead>\n",
       "    <tr style=\"text-align: right;\">\n",
       "      <th></th>\n",
       "      <th>Desc</th>\n",
       "      <th>2004</th>\n",
       "      <th>2005</th>\n",
       "      <th>2006</th>\n",
       "      <th>Tipo</th>\n",
       "      <th>nueva</th>\n",
       "      <th>Nueva</th>\n",
       "      <th>Total</th>\n",
       "      <th>Total2</th>\n",
       "    </tr>\n",
       "  </thead>\n",
       "  <tbody>\n",
       "    <tr>\n",
       "      <th>EE</th>\n",
       "      <td>Estonia</td>\n",
       "      <td>8.4</td>\n",
       "      <td>7.7</td>\n",
       "      <td>6.7</td>\n",
       "      <td>D</td>\n",
       "      <td>p</td>\n",
       "      <td>10</td>\n",
       "      <td>22.8</td>\n",
       "      <td>22.8</td>\n",
       "    </tr>\n",
       "    <tr>\n",
       "      <th>IE</th>\n",
       "      <td>Ireland</td>\n",
       "      <td>193.5</td>\n",
       "      <td>227.8</td>\n",
       "      <td>221.0</td>\n",
       "      <td>D</td>\n",
       "      <td>p</td>\n",
       "      <td>20</td>\n",
       "      <td>642.3</td>\n",
       "      <td>642.3</td>\n",
       "    </tr>\n",
       "    <tr>\n",
       "      <th>EL</th>\n",
       "      <td>Greece</td>\n",
       "      <td>1.4</td>\n",
       "      <td>1.6</td>\n",
       "      <td>1.5</td>\n",
       "      <td>D</td>\n",
       "      <td>p</td>\n",
       "      <td>30</td>\n",
       "      <td>4.5</td>\n",
       "      <td>4.5</td>\n",
       "    </tr>\n",
       "    <tr>\n",
       "      <th>ES</th>\n",
       "      <td>Spain</td>\n",
       "      <td>50.5</td>\n",
       "      <td>58.9</td>\n",
       "      <td>46.7</td>\n",
       "      <td>E</td>\n",
       "      <td>p</td>\n",
       "      <td>40</td>\n",
       "      <td>156.1</td>\n",
       "      <td>156.1</td>\n",
       "    </tr>\n",
       "    <tr>\n",
       "      <th>FR</th>\n",
       "      <td>France</td>\n",
       "      <td>415.1</td>\n",
       "      <td>423.1</td>\n",
       "      <td>400.5</td>\n",
       "      <td>F</td>\n",
       "      <td>p</td>\n",
       "      <td>50</td>\n",
       "      <td>1238.7</td>\n",
       "      <td>1238.7</td>\n",
       "    </tr>\n",
       "  </tbody>\n",
       "</table>\n",
       "</div>"
      ],
      "text/plain": [
       "       Desc   2004   2005   2006 Tipo nueva  Nueva   Total  Total2\n",
       "EE  Estonia    8.4    7.7    6.7    D     p     10    22.8    22.8\n",
       "IE  Ireland  193.5  227.8  221.0    D     p     20   642.3   642.3\n",
       "EL   Greece    1.4    1.6    1.5    D     p     30     4.5     4.5\n",
       "ES    Spain   50.5   58.9   46.7    E     p     40   156.1   156.1\n",
       "FR   France  415.1  423.1  400.5    F     p     50  1238.7  1238.7"
      ]
     },
     "execution_count": 31,
     "metadata": {},
     "output_type": "execute_result"
    }
   ],
   "source": [
    "#redomdear a un decimal todas las columnas numericas de la tabla\n",
    "tabla3.round(1)"
   ]
  },
  {
   "cell_type": "code",
   "execution_count": null,
   "metadata": {},
   "outputs": [],
   "source": []
  },
  {
   "cell_type": "markdown",
   "metadata": {},
   "source": [
    "__map__\n",
    "\n",
    "También podemos modificar el valor de una columna aplicando una función de transformación. Por ejemplo, si queremos transformar los valores de la columna `Desc` a mayúsculas, escribimos lo siguiente:"
   ]
  },
  {
   "cell_type": "code",
   "execution_count": 49,
   "metadata": {
    "ExecuteTime": {
     "end_time": "2018-10-16T14:50:46.961018Z",
     "start_time": "2018-10-16T14:50:46.953081Z"
    }
   },
   "outputs": [],
   "source": [
    "tabla3.Desc = tabla3.Desc.map(str.upper)\n"
   ]
  },
  {
   "cell_type": "code",
   "execution_count": 50,
   "metadata": {
    "ExecuteTime": {
     "end_time": "2018-10-16T14:50:48.383988Z",
     "start_time": "2018-10-16T14:50:48.371093Z"
    }
   },
   "outputs": [
    {
     "data": {
      "text/html": [
       "<div>\n",
       "<style scoped>\n",
       "    .dataframe tbody tr th:only-of-type {\n",
       "        vertical-align: middle;\n",
       "    }\n",
       "\n",
       "    .dataframe tbody tr th {\n",
       "        vertical-align: top;\n",
       "    }\n",
       "\n",
       "    .dataframe thead th {\n",
       "        text-align: right;\n",
       "    }\n",
       "</style>\n",
       "<table border=\"1\" class=\"dataframe\">\n",
       "  <thead>\n",
       "    <tr style=\"text-align: right;\">\n",
       "      <th></th>\n",
       "      <th>Desc</th>\n",
       "      <th>2004</th>\n",
       "      <th>2005</th>\n",
       "      <th>2006</th>\n",
       "      <th>Tipo</th>\n",
       "      <th>nueva</th>\n",
       "      <th>inicial</th>\n",
       "    </tr>\n",
       "  </thead>\n",
       "  <tbody>\n",
       "    <tr>\n",
       "      <th>EE</th>\n",
       "      <td>ESTONIA</td>\n",
       "      <td>8.40</td>\n",
       "      <td>7.70</td>\n",
       "      <td>6.70</td>\n",
       "      <td>D</td>\n",
       "      <td>p</td>\n",
       "      <td>ESTONIA</td>\n",
       "    </tr>\n",
       "    <tr>\n",
       "      <th>IE</th>\n",
       "      <td>IRELAND</td>\n",
       "      <td>193.50</td>\n",
       "      <td>227.76</td>\n",
       "      <td>221.05</td>\n",
       "      <td>D</td>\n",
       "      <td>p</td>\n",
       "      <td>IRELAND</td>\n",
       "    </tr>\n",
       "    <tr>\n",
       "      <th>EL</th>\n",
       "      <td>GREECE</td>\n",
       "      <td>1.40</td>\n",
       "      <td>1.60</td>\n",
       "      <td>1.50</td>\n",
       "      <td>D</td>\n",
       "      <td>p</td>\n",
       "      <td>GREECE</td>\n",
       "    </tr>\n",
       "    <tr>\n",
       "      <th>ES</th>\n",
       "      <td>SPAIN</td>\n",
       "      <td>50.52</td>\n",
       "      <td>58.90</td>\n",
       "      <td>46.72</td>\n",
       "      <td>E</td>\n",
       "      <td>p</td>\n",
       "      <td>SPAIN</td>\n",
       "    </tr>\n",
       "    <tr>\n",
       "      <th>FR</th>\n",
       "      <td>FRANCE</td>\n",
       "      <td>415.09</td>\n",
       "      <td>423.10</td>\n",
       "      <td>400.52</td>\n",
       "      <td>F</td>\n",
       "      <td>p</td>\n",
       "      <td>FRANCE</td>\n",
       "    </tr>\n",
       "  </tbody>\n",
       "</table>\n",
       "</div>"
      ],
      "text/plain": [
       "       Desc    2004    2005    2006 Tipo nueva  inicial\n",
       "EE  ESTONIA    8.40    7.70    6.70    D     p  ESTONIA\n",
       "IE  IRELAND  193.50  227.76  221.05    D     p  IRELAND\n",
       "EL   GREECE    1.40    1.60    1.50    D     p   GREECE\n",
       "ES    SPAIN   50.52   58.90   46.72    E     p    SPAIN\n",
       "FR   FRANCE  415.09  423.10  400.52    F     p   FRANCE"
      ]
     },
     "execution_count": 50,
     "metadata": {},
     "output_type": "execute_result"
    }
   ],
   "source": [
    "tabla3"
   ]
  },
  {
   "cell_type": "code",
   "execution_count": null,
   "metadata": {},
   "outputs": [],
   "source": [
    "#tabla3['Nueva'] dara error porque no existe esa columna\n",
    "tabla3.pop('Nueva')para eliminar esa columna"
   ]
  },
  {
   "cell_type": "code",
   "execution_count": 21,
   "metadata": {},
   "outputs": [
    {
     "data": {
      "text/html": [
       "<div>\n",
       "<style scoped>\n",
       "    .dataframe tbody tr th:only-of-type {\n",
       "        vertical-align: middle;\n",
       "    }\n",
       "\n",
       "    .dataframe tbody tr th {\n",
       "        vertical-align: top;\n",
       "    }\n",
       "\n",
       "    .dataframe thead th {\n",
       "        text-align: right;\n",
       "    }\n",
       "</style>\n",
       "<table border=\"1\" class=\"dataframe\">\n",
       "  <thead>\n",
       "    <tr style=\"text-align: right;\">\n",
       "      <th></th>\n",
       "      <th>Desc</th>\n",
       "      <th>2004</th>\n",
       "      <th>2005</th>\n",
       "      <th>2006</th>\n",
       "      <th>Tipo</th>\n",
       "      <th>nueva</th>\n",
       "      <th>Nueva</th>\n",
       "    </tr>\n",
       "  </thead>\n",
       "  <tbody>\n",
       "    <tr>\n",
       "      <th>EE</th>\n",
       "      <td>Estonia</td>\n",
       "      <td>8.40</td>\n",
       "      <td>7.70</td>\n",
       "      <td>6.70</td>\n",
       "      <td>D</td>\n",
       "      <td>p</td>\n",
       "      <td>10</td>\n",
       "    </tr>\n",
       "    <tr>\n",
       "      <th>IE</th>\n",
       "      <td>Ireland</td>\n",
       "      <td>193.50</td>\n",
       "      <td>227.76</td>\n",
       "      <td>221.05</td>\n",
       "      <td>D</td>\n",
       "      <td>p</td>\n",
       "      <td>20</td>\n",
       "    </tr>\n",
       "    <tr>\n",
       "      <th>EL</th>\n",
       "      <td>Greece</td>\n",
       "      <td>1.40</td>\n",
       "      <td>1.60</td>\n",
       "      <td>1.50</td>\n",
       "      <td>D</td>\n",
       "      <td>p</td>\n",
       "      <td>30</td>\n",
       "    </tr>\n",
       "    <tr>\n",
       "      <th>ES</th>\n",
       "      <td>Spain</td>\n",
       "      <td>50.52</td>\n",
       "      <td>58.90</td>\n",
       "      <td>46.72</td>\n",
       "      <td>D</td>\n",
       "      <td>p</td>\n",
       "      <td>40</td>\n",
       "    </tr>\n",
       "    <tr>\n",
       "      <th>FR</th>\n",
       "      <td>France</td>\n",
       "      <td>415.09</td>\n",
       "      <td>423.10</td>\n",
       "      <td>400.52</td>\n",
       "      <td>D</td>\n",
       "      <td>p</td>\n",
       "      <td>50</td>\n",
       "    </tr>\n",
       "  </tbody>\n",
       "</table>\n",
       "</div>"
      ],
      "text/plain": [
       "       Desc    2004    2005    2006 Tipo nueva  Nueva\n",
       "EE  Estonia    8.40    7.70    6.70    D     p     10\n",
       "IE  Ireland  193.50  227.76  221.05    D     p     20\n",
       "EL   Greece    1.40    1.60    1.50    D     p     30\n",
       "ES    Spain   50.52   58.90   46.72    D     p     40\n",
       "FR   France  415.09  423.10  400.52    D     p     50"
      ]
     },
     "execution_count": 21,
     "metadata": {},
     "output_type": "execute_result"
    }
   ],
   "source": [
    "tabla3['Nueva']= range(10,51,10)\n",
    "tabla3"
   ]
  },
  {
   "cell_type": "code",
   "execution_count": 23,
   "metadata": {},
   "outputs": [
    {
     "data": {
      "text/html": [
       "<div>\n",
       "<style scoped>\n",
       "    .dataframe tbody tr th:only-of-type {\n",
       "        vertical-align: middle;\n",
       "    }\n",
       "\n",
       "    .dataframe tbody tr th {\n",
       "        vertical-align: top;\n",
       "    }\n",
       "\n",
       "    .dataframe thead th {\n",
       "        text-align: right;\n",
       "    }\n",
       "</style>\n",
       "<table border=\"1\" class=\"dataframe\">\n",
       "  <thead>\n",
       "    <tr style=\"text-align: right;\">\n",
       "      <th></th>\n",
       "      <th>Desc</th>\n",
       "      <th>2004</th>\n",
       "      <th>2005</th>\n",
       "      <th>2006</th>\n",
       "      <th>Tipo</th>\n",
       "      <th>nueva</th>\n",
       "      <th>Nueva</th>\n",
       "      <th>Total</th>\n",
       "    </tr>\n",
       "  </thead>\n",
       "  <tbody>\n",
       "    <tr>\n",
       "      <th>EE</th>\n",
       "      <td>Estonia</td>\n",
       "      <td>8.40</td>\n",
       "      <td>7.70</td>\n",
       "      <td>6.70</td>\n",
       "      <td>D</td>\n",
       "      <td>p</td>\n",
       "      <td>10</td>\n",
       "      <td>22.80</td>\n",
       "    </tr>\n",
       "    <tr>\n",
       "      <th>IE</th>\n",
       "      <td>Ireland</td>\n",
       "      <td>193.50</td>\n",
       "      <td>227.76</td>\n",
       "      <td>221.05</td>\n",
       "      <td>D</td>\n",
       "      <td>p</td>\n",
       "      <td>20</td>\n",
       "      <td>642.31</td>\n",
       "    </tr>\n",
       "    <tr>\n",
       "      <th>EL</th>\n",
       "      <td>Greece</td>\n",
       "      <td>1.40</td>\n",
       "      <td>1.60</td>\n",
       "      <td>1.50</td>\n",
       "      <td>D</td>\n",
       "      <td>p</td>\n",
       "      <td>30</td>\n",
       "      <td>4.50</td>\n",
       "    </tr>\n",
       "    <tr>\n",
       "      <th>ES</th>\n",
       "      <td>Spain</td>\n",
       "      <td>50.52</td>\n",
       "      <td>58.90</td>\n",
       "      <td>46.72</td>\n",
       "      <td>D</td>\n",
       "      <td>p</td>\n",
       "      <td>40</td>\n",
       "      <td>156.14</td>\n",
       "    </tr>\n",
       "    <tr>\n",
       "      <th>FR</th>\n",
       "      <td>France</td>\n",
       "      <td>415.09</td>\n",
       "      <td>423.10</td>\n",
       "      <td>400.52</td>\n",
       "      <td>D</td>\n",
       "      <td>p</td>\n",
       "      <td>50</td>\n",
       "      <td>1238.71</td>\n",
       "    </tr>\n",
       "  </tbody>\n",
       "</table>\n",
       "</div>"
      ],
      "text/plain": [
       "       Desc    2004    2005    2006 Tipo nueva  Nueva    Total\n",
       "EE  Estonia    8.40    7.70    6.70    D     p     10    22.80\n",
       "IE  Ireland  193.50  227.76  221.05    D     p     20   642.31\n",
       "EL   Greece    1.40    1.60    1.50    D     p     30     4.50\n",
       "ES    Spain   50.52   58.90   46.72    D     p     40   156.14\n",
       "FR   France  415.09  423.10  400.52    D     p     50  1238.71"
      ]
     },
     "execution_count": 23,
     "metadata": {},
     "output_type": "execute_result"
    }
   ],
   "source": [
    "tabla3['Total'] = tabla3['2004']+tabla3['2005']+tabla3['2006']\n",
    "tabla3"
   ]
  },
  {
   "cell_type": "code",
   "execution_count": 24,
   "metadata": {},
   "outputs": [
    {
     "data": {
      "text/html": [
       "<div>\n",
       "<style scoped>\n",
       "    .dataframe tbody tr th:only-of-type {\n",
       "        vertical-align: middle;\n",
       "    }\n",
       "\n",
       "    .dataframe tbody tr th {\n",
       "        vertical-align: top;\n",
       "    }\n",
       "\n",
       "    .dataframe thead th {\n",
       "        text-align: right;\n",
       "    }\n",
       "</style>\n",
       "<table border=\"1\" class=\"dataframe\">\n",
       "  <thead>\n",
       "    <tr style=\"text-align: right;\">\n",
       "      <th></th>\n",
       "      <th>Desc</th>\n",
       "      <th>2004</th>\n",
       "      <th>2005</th>\n",
       "      <th>2006</th>\n",
       "      <th>Tipo</th>\n",
       "      <th>nueva</th>\n",
       "      <th>Nueva</th>\n",
       "      <th>Total</th>\n",
       "      <th>Total2</th>\n",
       "    </tr>\n",
       "  </thead>\n",
       "  <tbody>\n",
       "    <tr>\n",
       "      <th>EE</th>\n",
       "      <td>Estonia</td>\n",
       "      <td>8.40</td>\n",
       "      <td>7.70</td>\n",
       "      <td>6.70</td>\n",
       "      <td>D</td>\n",
       "      <td>p</td>\n",
       "      <td>10</td>\n",
       "      <td>22.80</td>\n",
       "      <td>22.80</td>\n",
       "    </tr>\n",
       "    <tr>\n",
       "      <th>IE</th>\n",
       "      <td>Ireland</td>\n",
       "      <td>193.50</td>\n",
       "      <td>227.76</td>\n",
       "      <td>221.05</td>\n",
       "      <td>D</td>\n",
       "      <td>p</td>\n",
       "      <td>20</td>\n",
       "      <td>642.31</td>\n",
       "      <td>642.31</td>\n",
       "    </tr>\n",
       "    <tr>\n",
       "      <th>EL</th>\n",
       "      <td>Greece</td>\n",
       "      <td>1.40</td>\n",
       "      <td>1.60</td>\n",
       "      <td>1.50</td>\n",
       "      <td>D</td>\n",
       "      <td>p</td>\n",
       "      <td>30</td>\n",
       "      <td>4.50</td>\n",
       "      <td>4.50</td>\n",
       "    </tr>\n",
       "    <tr>\n",
       "      <th>ES</th>\n",
       "      <td>Spain</td>\n",
       "      <td>50.52</td>\n",
       "      <td>58.90</td>\n",
       "      <td>46.72</td>\n",
       "      <td>D</td>\n",
       "      <td>p</td>\n",
       "      <td>40</td>\n",
       "      <td>156.14</td>\n",
       "      <td>156.14</td>\n",
       "    </tr>\n",
       "    <tr>\n",
       "      <th>FR</th>\n",
       "      <td>France</td>\n",
       "      <td>415.09</td>\n",
       "      <td>423.10</td>\n",
       "      <td>400.52</td>\n",
       "      <td>D</td>\n",
       "      <td>p</td>\n",
       "      <td>50</td>\n",
       "      <td>1238.71</td>\n",
       "      <td>1238.71</td>\n",
       "    </tr>\n",
       "  </tbody>\n",
       "</table>\n",
       "</div>"
      ],
      "text/plain": [
       "       Desc    2004    2005    2006 Tipo nueva  Nueva    Total   Total2\n",
       "EE  Estonia    8.40    7.70    6.70    D     p     10    22.80    22.80\n",
       "IE  Ireland  193.50  227.76  221.05    D     p     20   642.31   642.31\n",
       "EL   Greece    1.40    1.60    1.50    D     p     30     4.50     4.50\n",
       "ES    Spain   50.52   58.90   46.72    D     p     40   156.14   156.14\n",
       "FR   France  415.09  423.10  400.52    D     p     50  1238.71  1238.71"
      ]
     },
     "execution_count": 24,
     "metadata": {},
     "output_type": "execute_result"
    }
   ],
   "source": [
    "tabla3['Total'] = tabla3['2004']+tabla3['2005']+tabla3['2006']\n",
    "tabla3['Total2'] = tabla3.loc[:, '2004':'2006'].sum(axis=1)\n",
    "tabla3"
   ]
  },
  {
   "cell_type": "code",
   "execution_count": null,
   "metadata": {},
   "outputs": [],
   "source": []
  },
  {
   "cell_type": "code",
   "execution_count": null,
   "metadata": {},
   "outputs": [],
   "source": []
  },
  {
   "cell_type": "code",
   "execution_count": null,
   "metadata": {},
   "outputs": [],
   "source": []
  },
  {
   "cell_type": "markdown",
   "metadata": {},
   "source": [
    "__applymap__\n",
    "\n",
    "La función `map` aplica la función `lambda` a cada uno de los valores de la columna. Si queremos modificar todos los datos de tipo numérico del `DataFrame` de forma que los datos se expresen con un único decimal, usamos la función `applymap` junto con una función `lambda` como se muestra a continuación:"
   ]
  },
  {
   "cell_type": "code",
   "execution_count": 52,
   "metadata": {
    "ExecuteTime": {
     "end_time": "2018-10-16T14:51:14.534049Z",
     "start_time": "2018-10-16T14:51:14.506276Z"
    }
   },
   "outputs": [
    {
     "data": {
      "text/html": [
       "<div>\n",
       "<style scoped>\n",
       "    .dataframe tbody tr th:only-of-type {\n",
       "        vertical-align: middle;\n",
       "    }\n",
       "\n",
       "    .dataframe tbody tr th {\n",
       "        vertical-align: top;\n",
       "    }\n",
       "\n",
       "    .dataframe thead th {\n",
       "        text-align: right;\n",
       "    }\n",
       "</style>\n",
       "<table border=\"1\" class=\"dataframe\">\n",
       "  <thead>\n",
       "    <tr style=\"text-align: right;\">\n",
       "      <th></th>\n",
       "      <th>Desc</th>\n",
       "      <th>2004</th>\n",
       "      <th>2005</th>\n",
       "      <th>2006</th>\n",
       "      <th>Tipo</th>\n",
       "      <th>nueva</th>\n",
       "      <th>inicial</th>\n",
       "      <th>Suma</th>\n",
       "    </tr>\n",
       "  </thead>\n",
       "  <tbody>\n",
       "    <tr>\n",
       "      <th>EE</th>\n",
       "      <td>ESTONIA</td>\n",
       "      <td>8.4</td>\n",
       "      <td>7.7</td>\n",
       "      <td>6.7</td>\n",
       "      <td>D</td>\n",
       "      <td>p</td>\n",
       "      <td>ESTONIA</td>\n",
       "      <td>22.8</td>\n",
       "    </tr>\n",
       "    <tr>\n",
       "      <th>IE</th>\n",
       "      <td>IRELAND</td>\n",
       "      <td>193.5</td>\n",
       "      <td>227.8</td>\n",
       "      <td>221.1</td>\n",
       "      <td>D</td>\n",
       "      <td>p</td>\n",
       "      <td>IRELAND</td>\n",
       "      <td>642.3</td>\n",
       "    </tr>\n",
       "    <tr>\n",
       "      <th>EL</th>\n",
       "      <td>GREECE</td>\n",
       "      <td>1.4</td>\n",
       "      <td>1.6</td>\n",
       "      <td>1.5</td>\n",
       "      <td>D</td>\n",
       "      <td>p</td>\n",
       "      <td>GREECE</td>\n",
       "      <td>4.5</td>\n",
       "    </tr>\n",
       "    <tr>\n",
       "      <th>ES</th>\n",
       "      <td>SPAIN</td>\n",
       "      <td>50.5</td>\n",
       "      <td>58.9</td>\n",
       "      <td>46.7</td>\n",
       "      <td>E</td>\n",
       "      <td>p</td>\n",
       "      <td>SPAIN</td>\n",
       "      <td>156.1</td>\n",
       "    </tr>\n",
       "    <tr>\n",
       "      <th>FR</th>\n",
       "      <td>FRANCE</td>\n",
       "      <td>415.1</td>\n",
       "      <td>423.1</td>\n",
       "      <td>400.5</td>\n",
       "      <td>F</td>\n",
       "      <td>p</td>\n",
       "      <td>FRANCE</td>\n",
       "      <td>1238.7</td>\n",
       "    </tr>\n",
       "  </tbody>\n",
       "</table>\n",
       "</div>"
      ],
      "text/plain": [
       "       Desc   2004   2005   2006 Tipo nueva  inicial    Suma\n",
       "EE  ESTONIA    8.4    7.7    6.7    D     p  ESTONIA    22.8\n",
       "IE  IRELAND  193.5  227.8  221.1    D     p  IRELAND   642.3\n",
       "EL   GREECE    1.4    1.6    1.5    D     p   GREECE     4.5\n",
       "ES    SPAIN   50.5   58.9   46.7    E     p    SPAIN   156.1\n",
       "FR   FRANCE  415.1  423.1  400.5    F     p   FRANCE  1238.7"
      ]
     },
     "execution_count": 52,
     "metadata": {},
     "output_type": "execute_result"
    }
   ],
   "source": [
    "tabla3 = tabla3.applymap(lambda x : round(x,1) if type(x) == float else x)\n",
    "tabla3"
   ]
  },
  {
   "cell_type": "markdown",
   "metadata": {},
   "source": [
    "### Eliminar columnas en un DataFrame"
   ]
  },
  {
   "cell_type": "markdown",
   "metadata": {},
   "source": [
    "__pop__, __drop__\n",
    "\n",
    "El método `pop` de la clase `DataFrame` elimina la columna especificada y devuelve dicha columna en un objeto de tipo `Series`. Este método modifica el `DataFrame`. Por otro lado, el método `drop` permite borrar tanto filas como columnas, con la diferencia de que no devuelve los elementos borrados y no modifica el Dataframe, sino que devuelve una copia:"
   ]
  },
  {
   "cell_type": "code",
   "execution_count": 53,
   "metadata": {
    "ExecuteTime": {
     "end_time": "2018-10-16T14:51:42.133173Z",
     "start_time": "2018-10-16T14:51:42.119781Z"
    }
   },
   "outputs": [
    {
     "data": {
      "text/plain": [
       "EE    D\n",
       "IE    D\n",
       "EL    D\n",
       "ES    E\n",
       "FR    F\n",
       "Name: Tipo, dtype: object"
      ]
     },
     "execution_count": 53,
     "metadata": {},
     "output_type": "execute_result"
    }
   ],
   "source": [
    "columna_tipo = tabla3.pop('Tipo')\n",
    "columna_tipo"
   ]
  },
  {
   "cell_type": "code",
   "execution_count": 54,
   "metadata": {
    "ExecuteTime": {
     "end_time": "2018-10-16T14:51:42.624103Z",
     "start_time": "2018-10-16T14:51:42.616638Z"
    }
   },
   "outputs": [
    {
     "data": {
      "text/plain": [
       "pandas.core.series.Series"
      ]
     },
     "execution_count": 54,
     "metadata": {},
     "output_type": "execute_result"
    }
   ],
   "source": [
    "type(columna_tipo)"
   ]
  },
  {
   "cell_type": "code",
   "execution_count": 55,
   "metadata": {
    "ExecuteTime": {
     "end_time": "2018-10-16T14:51:42.778337Z",
     "start_time": "2018-10-16T14:51:42.758993Z"
    }
   },
   "outputs": [
    {
     "data": {
      "text/html": [
       "<div>\n",
       "<style scoped>\n",
       "    .dataframe tbody tr th:only-of-type {\n",
       "        vertical-align: middle;\n",
       "    }\n",
       "\n",
       "    .dataframe tbody tr th {\n",
       "        vertical-align: top;\n",
       "    }\n",
       "\n",
       "    .dataframe thead th {\n",
       "        text-align: right;\n",
       "    }\n",
       "</style>\n",
       "<table border=\"1\" class=\"dataframe\">\n",
       "  <thead>\n",
       "    <tr style=\"text-align: right;\">\n",
       "      <th></th>\n",
       "      <th>Desc</th>\n",
       "      <th>2004</th>\n",
       "      <th>2005</th>\n",
       "      <th>2006</th>\n",
       "      <th>nueva</th>\n",
       "      <th>inicial</th>\n",
       "      <th>Suma</th>\n",
       "    </tr>\n",
       "  </thead>\n",
       "  <tbody>\n",
       "    <tr>\n",
       "      <th>EE</th>\n",
       "      <td>ESTONIA</td>\n",
       "      <td>8.4</td>\n",
       "      <td>7.7</td>\n",
       "      <td>6.7</td>\n",
       "      <td>p</td>\n",
       "      <td>ESTONIA</td>\n",
       "      <td>22.8</td>\n",
       "    </tr>\n",
       "    <tr>\n",
       "      <th>IE</th>\n",
       "      <td>IRELAND</td>\n",
       "      <td>193.5</td>\n",
       "      <td>227.8</td>\n",
       "      <td>221.1</td>\n",
       "      <td>p</td>\n",
       "      <td>IRELAND</td>\n",
       "      <td>642.3</td>\n",
       "    </tr>\n",
       "    <tr>\n",
       "      <th>EL</th>\n",
       "      <td>GREECE</td>\n",
       "      <td>1.4</td>\n",
       "      <td>1.6</td>\n",
       "      <td>1.5</td>\n",
       "      <td>p</td>\n",
       "      <td>GREECE</td>\n",
       "      <td>4.5</td>\n",
       "    </tr>\n",
       "    <tr>\n",
       "      <th>ES</th>\n",
       "      <td>SPAIN</td>\n",
       "      <td>50.5</td>\n",
       "      <td>58.9</td>\n",
       "      <td>46.7</td>\n",
       "      <td>p</td>\n",
       "      <td>SPAIN</td>\n",
       "      <td>156.1</td>\n",
       "    </tr>\n",
       "    <tr>\n",
       "      <th>FR</th>\n",
       "      <td>FRANCE</td>\n",
       "      <td>415.1</td>\n",
       "      <td>423.1</td>\n",
       "      <td>400.5</td>\n",
       "      <td>p</td>\n",
       "      <td>FRANCE</td>\n",
       "      <td>1238.7</td>\n",
       "    </tr>\n",
       "  </tbody>\n",
       "</table>\n",
       "</div>"
      ],
      "text/plain": [
       "       Desc   2004   2005   2006 nueva  inicial    Suma\n",
       "EE  ESTONIA    8.4    7.7    6.7     p  ESTONIA    22.8\n",
       "IE  IRELAND  193.5  227.8  221.1     p  IRELAND   642.3\n",
       "EL   GREECE    1.4    1.6    1.5     p   GREECE     4.5\n",
       "ES    SPAIN   50.5   58.9   46.7     p    SPAIN   156.1\n",
       "FR   FRANCE  415.1  423.1  400.5     p   FRANCE  1238.7"
      ]
     },
     "execution_count": 55,
     "metadata": {},
     "output_type": "execute_result"
    }
   ],
   "source": [
    "tabla3"
   ]
  },
  {
   "cell_type": "markdown",
   "metadata": {},
   "source": [
    "También es posible utilizar el método `drop` para eliminar tanto filas como columnas. Para borrar columnas con `drop`, es necesario indicarlo mediante el argumento `axis` del método:"
   ]
  },
  {
   "cell_type": "code",
   "execution_count": null,
   "metadata": {},
   "outputs": [],
   "source": []
  },
  {
   "cell_type": "code",
   "execution_count": 57,
   "metadata": {
    "ExecuteTime": {
     "end_time": "2018-10-16T14:51:47.867814Z",
     "start_time": "2018-10-16T14:51:47.849440Z"
    }
   },
   "outputs": [
    {
     "data": {
      "text/html": [
       "<div>\n",
       "<style scoped>\n",
       "    .dataframe tbody tr th:only-of-type {\n",
       "        vertical-align: middle;\n",
       "    }\n",
       "\n",
       "    .dataframe tbody tr th {\n",
       "        vertical-align: top;\n",
       "    }\n",
       "\n",
       "    .dataframe thead th {\n",
       "        text-align: right;\n",
       "    }\n",
       "</style>\n",
       "<table border=\"1\" class=\"dataframe\">\n",
       "  <thead>\n",
       "    <tr style=\"text-align: right;\">\n",
       "      <th></th>\n",
       "      <th>Desc</th>\n",
       "      <th>2004</th>\n",
       "      <th>2005</th>\n",
       "      <th>2006</th>\n",
       "      <th>nueva</th>\n",
       "      <th>inicial</th>\n",
       "      <th>Suma</th>\n",
       "    </tr>\n",
       "  </thead>\n",
       "  <tbody>\n",
       "    <tr>\n",
       "      <th>EE</th>\n",
       "      <td>ESTONIA</td>\n",
       "      <td>8.4</td>\n",
       "      <td>7.7</td>\n",
       "      <td>6.7</td>\n",
       "      <td>p</td>\n",
       "      <td>ESTONIA</td>\n",
       "      <td>22.8</td>\n",
       "    </tr>\n",
       "    <tr>\n",
       "      <th>EL</th>\n",
       "      <td>GREECE</td>\n",
       "      <td>1.4</td>\n",
       "      <td>1.6</td>\n",
       "      <td>1.5</td>\n",
       "      <td>p</td>\n",
       "      <td>GREECE</td>\n",
       "      <td>4.5</td>\n",
       "    </tr>\n",
       "    <tr>\n",
       "      <th>ES</th>\n",
       "      <td>SPAIN</td>\n",
       "      <td>50.5</td>\n",
       "      <td>58.9</td>\n",
       "      <td>46.7</td>\n",
       "      <td>p</td>\n",
       "      <td>SPAIN</td>\n",
       "      <td>156.1</td>\n",
       "    </tr>\n",
       "  </tbody>\n",
       "</table>\n",
       "</div>"
      ],
      "text/plain": [
       "       Desc  2004  2005  2006 nueva  inicial   Suma\n",
       "EE  ESTONIA   8.4   7.7   6.7     p  ESTONIA   22.8\n",
       "EL   GREECE   1.4   1.6   1.5     p   GREECE    4.5\n",
       "ES    SPAIN  50.5  58.9  46.7     p    SPAIN  156.1"
      ]
     },
     "execution_count": 57,
     "metadata": {},
     "output_type": "execute_result"
    }
   ],
   "source": [
    "nuevo_df = tabla3.drop(['IE','FR'])\n",
    "nuevo_df\n"
   ]
  },
  {
   "cell_type": "code",
   "execution_count": 39,
   "metadata": {},
   "outputs": [
    {
     "data": {
      "text/html": [
       "<div>\n",
       "<style scoped>\n",
       "    .dataframe tbody tr th:only-of-type {\n",
       "        vertical-align: middle;\n",
       "    }\n",
       "\n",
       "    .dataframe tbody tr th {\n",
       "        vertical-align: top;\n",
       "    }\n",
       "\n",
       "    .dataframe thead th {\n",
       "        text-align: right;\n",
       "    }\n",
       "</style>\n",
       "<table border=\"1\" class=\"dataframe\">\n",
       "  <thead>\n",
       "    <tr style=\"text-align: right;\">\n",
       "      <th></th>\n",
       "      <th>Desc</th>\n",
       "      <th>2004</th>\n",
       "      <th>2005</th>\n",
       "      <th>2006</th>\n",
       "      <th>Tipo</th>\n",
       "      <th>nueva</th>\n",
       "      <th>Nueva</th>\n",
       "      <th>Total</th>\n",
       "      <th>Total2</th>\n",
       "    </tr>\n",
       "  </thead>\n",
       "  <tbody>\n",
       "    <tr>\n",
       "      <th>EL</th>\n",
       "      <td>Greece</td>\n",
       "      <td>1.40</td>\n",
       "      <td>1.6</td>\n",
       "      <td>1.50</td>\n",
       "      <td>D</td>\n",
       "      <td>p</td>\n",
       "      <td>30</td>\n",
       "      <td>4.50</td>\n",
       "      <td>4.5</td>\n",
       "    </tr>\n",
       "    <tr>\n",
       "      <th>ES</th>\n",
       "      <td>Spain</td>\n",
       "      <td>50.52</td>\n",
       "      <td>58.9</td>\n",
       "      <td>46.72</td>\n",
       "      <td>E</td>\n",
       "      <td>p</td>\n",
       "      <td>40</td>\n",
       "      <td>156.14</td>\n",
       "      <td>156.1</td>\n",
       "    </tr>\n",
       "    <tr>\n",
       "      <th>FR</th>\n",
       "      <td>France</td>\n",
       "      <td>415.09</td>\n",
       "      <td>423.1</td>\n",
       "      <td>400.52</td>\n",
       "      <td>F</td>\n",
       "      <td>p</td>\n",
       "      <td>50</td>\n",
       "      <td>1238.71</td>\n",
       "      <td>1238.7</td>\n",
       "    </tr>\n",
       "  </tbody>\n",
       "</table>\n",
       "</div>"
      ],
      "text/plain": [
       "      Desc    2004   2005    2006 Tipo nueva  Nueva    Total  Total2\n",
       "EL  Greece    1.40    1.6    1.50    D     p     30     4.50     4.5\n",
       "ES   Spain   50.52   58.9   46.72    E     p     40   156.14   156.1\n",
       "FR  France  415.09  423.1  400.52    F     p     50  1238.71  1238.7"
      ]
     },
     "execution_count": 39,
     "metadata": {},
     "output_type": "execute_result"
    }
   ],
   "source": [
    "tabla3.drop(etc)"
   ]
  },
  {
   "cell_type": "code",
   "execution_count": 40,
   "metadata": {
    "ExecuteTime": {
     "end_time": "2018-10-16T14:51:48.979397Z",
     "start_time": "2018-10-16T14:51:48.965015Z"
    }
   },
   "outputs": [],
   "source": [
    "tabla3.drop('Desc', axis=1, inplace=True)"
   ]
  },
  {
   "cell_type": "code",
   "execution_count": 41,
   "metadata": {
    "ExecuteTime": {
     "end_time": "2018-10-16T14:52:24.474887Z",
     "start_time": "2018-10-16T14:52:24.456534Z"
    }
   },
   "outputs": [
    {
     "data": {
      "text/html": [
       "<div>\n",
       "<style scoped>\n",
       "    .dataframe tbody tr th:only-of-type {\n",
       "        vertical-align: middle;\n",
       "    }\n",
       "\n",
       "    .dataframe tbody tr th {\n",
       "        vertical-align: top;\n",
       "    }\n",
       "\n",
       "    .dataframe thead th {\n",
       "        text-align: right;\n",
       "    }\n",
       "</style>\n",
       "<table border=\"1\" class=\"dataframe\">\n",
       "  <thead>\n",
       "    <tr style=\"text-align: right;\">\n",
       "      <th></th>\n",
       "      <th>2004</th>\n",
       "      <th>2005</th>\n",
       "      <th>2006</th>\n",
       "      <th>Tipo</th>\n",
       "      <th>nueva</th>\n",
       "      <th>Nueva</th>\n",
       "      <th>Total</th>\n",
       "      <th>Total2</th>\n",
       "    </tr>\n",
       "  </thead>\n",
       "  <tbody>\n",
       "    <tr>\n",
       "      <th>EL</th>\n",
       "      <td>1.40</td>\n",
       "      <td>1.6</td>\n",
       "      <td>1.50</td>\n",
       "      <td>D</td>\n",
       "      <td>p</td>\n",
       "      <td>30</td>\n",
       "      <td>4.50</td>\n",
       "      <td>4.5</td>\n",
       "    </tr>\n",
       "    <tr>\n",
       "      <th>ES</th>\n",
       "      <td>50.52</td>\n",
       "      <td>58.9</td>\n",
       "      <td>46.72</td>\n",
       "      <td>E</td>\n",
       "      <td>p</td>\n",
       "      <td>40</td>\n",
       "      <td>156.14</td>\n",
       "      <td>156.1</td>\n",
       "    </tr>\n",
       "    <tr>\n",
       "      <th>FR</th>\n",
       "      <td>415.09</td>\n",
       "      <td>423.1</td>\n",
       "      <td>400.52</td>\n",
       "      <td>F</td>\n",
       "      <td>p</td>\n",
       "      <td>50</td>\n",
       "      <td>1238.71</td>\n",
       "      <td>1238.7</td>\n",
       "    </tr>\n",
       "  </tbody>\n",
       "</table>\n",
       "</div>"
      ],
      "text/plain": [
       "      2004   2005    2006 Tipo nueva  Nueva    Total  Total2\n",
       "EL    1.40    1.6    1.50    D     p     30     4.50     4.5\n",
       "ES   50.52   58.9   46.72    E     p     40   156.14   156.1\n",
       "FR  415.09  423.1  400.52    F     p     50  1238.71  1238.7"
      ]
     },
     "execution_count": 41,
     "metadata": {},
     "output_type": "execute_result"
    }
   ],
   "source": [
    "tabla3"
   ]
  },
  {
   "cell_type": "markdown",
   "metadata": {},
   "source": [
    "### Insertar datos en un DataFrame"
   ]
  },
  {
   "cell_type": "markdown",
   "metadata": {},
   "source": [
    "Para añadir nuevas columnas al `DataFrame`, ya sean calculadas o no, podemos usar  la notación de corchetes junto con el nombre de la nueva columna:"
   ]
  },
  {
   "cell_type": "code",
   "execution_count": 62,
   "metadata": {
    "ExecuteTime": {
     "end_time": "2018-10-16T14:53:18.869147Z",
     "start_time": "2018-10-16T14:53:18.853275Z"
    }
   },
   "outputs": [
    {
     "data": {
      "text/html": [
       "<div>\n",
       "<style scoped>\n",
       "    .dataframe tbody tr th:only-of-type {\n",
       "        vertical-align: middle;\n",
       "    }\n",
       "\n",
       "    .dataframe tbody tr th {\n",
       "        vertical-align: top;\n",
       "    }\n",
       "\n",
       "    .dataframe thead th {\n",
       "        text-align: right;\n",
       "    }\n",
       "</style>\n",
       "<table border=\"1\" class=\"dataframe\">\n",
       "  <thead>\n",
       "    <tr style=\"text-align: right;\">\n",
       "      <th></th>\n",
       "      <th>2004</th>\n",
       "      <th>2005</th>\n",
       "      <th>2006</th>\n",
       "      <th>nueva</th>\n",
       "      <th>inicial</th>\n",
       "      <th>Suma</th>\n",
       "      <th>Unidad</th>\n",
       "    </tr>\n",
       "  </thead>\n",
       "  <tbody>\n",
       "    <tr>\n",
       "      <th>EE</th>\n",
       "      <td>8.4</td>\n",
       "      <td>7.7</td>\n",
       "      <td>6.7</td>\n",
       "      <td>p</td>\n",
       "      <td>ESTONIA</td>\n",
       "      <td>22.8</td>\n",
       "      <td>1000 T</td>\n",
       "    </tr>\n",
       "    <tr>\n",
       "      <th>IE</th>\n",
       "      <td>193.5</td>\n",
       "      <td>227.8</td>\n",
       "      <td>221.1</td>\n",
       "      <td>p</td>\n",
       "      <td>IRELAND</td>\n",
       "      <td>642.3</td>\n",
       "      <td>1000 T</td>\n",
       "    </tr>\n",
       "    <tr>\n",
       "      <th>EL</th>\n",
       "      <td>1.4</td>\n",
       "      <td>1.6</td>\n",
       "      <td>1.5</td>\n",
       "      <td>p</td>\n",
       "      <td>GREECE</td>\n",
       "      <td>4.5</td>\n",
       "      <td>1000 T</td>\n",
       "    </tr>\n",
       "    <tr>\n",
       "      <th>ES</th>\n",
       "      <td>50.5</td>\n",
       "      <td>58.9</td>\n",
       "      <td>46.7</td>\n",
       "      <td>p</td>\n",
       "      <td>SPAIN</td>\n",
       "      <td>156.1</td>\n",
       "      <td>1000 T</td>\n",
       "    </tr>\n",
       "    <tr>\n",
       "      <th>FR</th>\n",
       "      <td>415.1</td>\n",
       "      <td>423.1</td>\n",
       "      <td>400.5</td>\n",
       "      <td>p</td>\n",
       "      <td>FRANCE</td>\n",
       "      <td>1238.7</td>\n",
       "      <td>1000 T</td>\n",
       "    </tr>\n",
       "  </tbody>\n",
       "</table>\n",
       "</div>"
      ],
      "text/plain": [
       "     2004   2005   2006 nueva  inicial    Suma  Unidad\n",
       "EE    8.4    7.7    6.7     p  ESTONIA    22.8  1000 T\n",
       "IE  193.5  227.8  221.1     p  IRELAND   642.3  1000 T\n",
       "EL    1.4    1.6    1.5     p   GREECE     4.5  1000 T\n",
       "ES   50.5   58.9   46.7     p    SPAIN   156.1  1000 T\n",
       "FR  415.1  423.1  400.5     p   FRANCE  1238.7  1000 T"
      ]
     },
     "execution_count": 62,
     "metadata": {},
     "output_type": "execute_result"
    }
   ],
   "source": [
    "tabla3['Unidad'] = '1000 T'\n",
    "tabla3"
   ]
  },
  {
   "cell_type": "markdown",
   "metadata": {},
   "source": [
    "O podemos crear una columna nueva calculada a partir de otras columnas del `DataFrame`. Por ejemplo, para crear la columna de totales, escribimos lo siguiente:"
   ]
  },
  {
   "cell_type": "code",
   "execution_count": 63,
   "metadata": {
    "ExecuteTime": {
     "end_time": "2018-10-16T14:53:22.066997Z",
     "start_time": "2018-10-16T14:53:22.048150Z"
    }
   },
   "outputs": [
    {
     "data": {
      "text/html": [
       "<div>\n",
       "<style scoped>\n",
       "    .dataframe tbody tr th:only-of-type {\n",
       "        vertical-align: middle;\n",
       "    }\n",
       "\n",
       "    .dataframe tbody tr th {\n",
       "        vertical-align: top;\n",
       "    }\n",
       "\n",
       "    .dataframe thead th {\n",
       "        text-align: right;\n",
       "    }\n",
       "</style>\n",
       "<table border=\"1\" class=\"dataframe\">\n",
       "  <thead>\n",
       "    <tr style=\"text-align: right;\">\n",
       "      <th></th>\n",
       "      <th>2004</th>\n",
       "      <th>2005</th>\n",
       "      <th>2006</th>\n",
       "      <th>nueva</th>\n",
       "      <th>inicial</th>\n",
       "      <th>Suma</th>\n",
       "      <th>Unidad</th>\n",
       "      <th>Total</th>\n",
       "    </tr>\n",
       "  </thead>\n",
       "  <tbody>\n",
       "    <tr>\n",
       "      <th>EE</th>\n",
       "      <td>8.4</td>\n",
       "      <td>7.7</td>\n",
       "      <td>6.7</td>\n",
       "      <td>p</td>\n",
       "      <td>ESTONIA</td>\n",
       "      <td>22.8</td>\n",
       "      <td>1000 T</td>\n",
       "      <td>22.8</td>\n",
       "    </tr>\n",
       "    <tr>\n",
       "      <th>IE</th>\n",
       "      <td>193.5</td>\n",
       "      <td>227.8</td>\n",
       "      <td>221.1</td>\n",
       "      <td>p</td>\n",
       "      <td>IRELAND</td>\n",
       "      <td>642.3</td>\n",
       "      <td>1000 T</td>\n",
       "      <td>642.4</td>\n",
       "    </tr>\n",
       "    <tr>\n",
       "      <th>EL</th>\n",
       "      <td>1.4</td>\n",
       "      <td>1.6</td>\n",
       "      <td>1.5</td>\n",
       "      <td>p</td>\n",
       "      <td>GREECE</td>\n",
       "      <td>4.5</td>\n",
       "      <td>1000 T</td>\n",
       "      <td>4.5</td>\n",
       "    </tr>\n",
       "    <tr>\n",
       "      <th>ES</th>\n",
       "      <td>50.5</td>\n",
       "      <td>58.9</td>\n",
       "      <td>46.7</td>\n",
       "      <td>p</td>\n",
       "      <td>SPAIN</td>\n",
       "      <td>156.1</td>\n",
       "      <td>1000 T</td>\n",
       "      <td>156.1</td>\n",
       "    </tr>\n",
       "    <tr>\n",
       "      <th>FR</th>\n",
       "      <td>415.1</td>\n",
       "      <td>423.1</td>\n",
       "      <td>400.5</td>\n",
       "      <td>p</td>\n",
       "      <td>FRANCE</td>\n",
       "      <td>1238.7</td>\n",
       "      <td>1000 T</td>\n",
       "      <td>1238.7</td>\n",
       "    </tr>\n",
       "  </tbody>\n",
       "</table>\n",
       "</div>"
      ],
      "text/plain": [
       "     2004   2005   2006 nueva  inicial    Suma  Unidad   Total\n",
       "EE    8.4    7.7    6.7     p  ESTONIA    22.8  1000 T    22.8\n",
       "IE  193.5  227.8  221.1     p  IRELAND   642.3  1000 T   642.4\n",
       "EL    1.4    1.6    1.5     p   GREECE     4.5  1000 T     4.5\n",
       "ES   50.5   58.9   46.7     p    SPAIN   156.1  1000 T   156.1\n",
       "FR  415.1  423.1  400.5     p   FRANCE  1238.7  1000 T  1238.7"
      ]
     },
     "execution_count": 63,
     "metadata": {},
     "output_type": "execute_result"
    }
   ],
   "source": [
    "tabla3['Total'] = tabla3['2004'] + tabla3['2005'] + tabla3['2006']\n",
    "tabla3"
   ]
  },
  {
   "cell_type": "markdown",
   "metadata": {},
   "source": [
    "Otra forma de añadir información al `DataFrame`es mediante el método `insert`. Para insertar la columna `Unidad` que hemos eliminado anteriormente en una determinada posición, escribimos lo siguiente:"
   ]
  },
  {
   "cell_type": "code",
   "execution_count": 42,
   "metadata": {},
   "outputs": [
    {
     "data": {
      "text/plain": [
       "EL      0.450\n",
       "ES     15.614\n",
       "FR    123.871\n",
       "Name: Total, dtype: float64"
      ]
     },
     "execution_count": 42,
     "metadata": {},
     "output_type": "execute_result"
    }
   ],
   "source": [
    "#inserta columna qque se llame porcentaje 'PORC'\n",
    "porcentaje = tabla3.Total * 0.1\n",
    "porcentaje#es una serie que es una columna que la puedo insertar donde quiera con insert\n"
   ]
  },
  {
   "cell_type": "code",
   "execution_count": 46,
   "metadata": {},
   "outputs": [
    {
     "data": {
      "text/html": [
       "<div>\n",
       "<style scoped>\n",
       "    .dataframe tbody tr th:only-of-type {\n",
       "        vertical-align: middle;\n",
       "    }\n",
       "\n",
       "    .dataframe tbody tr th {\n",
       "        vertical-align: top;\n",
       "    }\n",
       "\n",
       "    .dataframe thead th {\n",
       "        text-align: right;\n",
       "    }\n",
       "</style>\n",
       "<table border=\"1\" class=\"dataframe\">\n",
       "  <thead>\n",
       "    <tr style=\"text-align: right;\">\n",
       "      <th></th>\n",
       "      <th>2004</th>\n",
       "      <th>Porc</th>\n",
       "      <th>2005</th>\n",
       "      <th>2006</th>\n",
       "      <th>Tipo</th>\n",
       "      <th>nueva</th>\n",
       "      <th>Nueva</th>\n",
       "      <th>Total</th>\n",
       "      <th>Total2</th>\n",
       "    </tr>\n",
       "  </thead>\n",
       "  <tbody>\n",
       "    <tr>\n",
       "      <th>EL</th>\n",
       "      <td>1.40</td>\n",
       "      <td>0.450</td>\n",
       "      <td>1.6</td>\n",
       "      <td>1.50</td>\n",
       "      <td>D</td>\n",
       "      <td>p</td>\n",
       "      <td>30</td>\n",
       "      <td>4.50</td>\n",
       "      <td>4.5</td>\n",
       "    </tr>\n",
       "    <tr>\n",
       "      <th>ES</th>\n",
       "      <td>50.52</td>\n",
       "      <td>15.614</td>\n",
       "      <td>58.9</td>\n",
       "      <td>46.72</td>\n",
       "      <td>E</td>\n",
       "      <td>p</td>\n",
       "      <td>40</td>\n",
       "      <td>156.14</td>\n",
       "      <td>156.1</td>\n",
       "    </tr>\n",
       "    <tr>\n",
       "      <th>FR</th>\n",
       "      <td>415.09</td>\n",
       "      <td>123.871</td>\n",
       "      <td>423.1</td>\n",
       "      <td>400.52</td>\n",
       "      <td>F</td>\n",
       "      <td>p</td>\n",
       "      <td>50</td>\n",
       "      <td>1238.71</td>\n",
       "      <td>1238.7</td>\n",
       "    </tr>\n",
       "  </tbody>\n",
       "</table>\n",
       "</div>"
      ],
      "text/plain": [
       "      2004     Porc   2005    2006 Tipo nueva  Nueva    Total  Total2\n",
       "EL    1.40    0.450    1.6    1.50    D     p     30     4.50     4.5\n",
       "ES   50.52   15.614   58.9   46.72    E     p     40   156.14   156.1\n",
       "FR  415.09  123.871  423.1  400.52    F     p     50  1238.71  1238.7"
      ]
     },
     "execution_count": 46,
     "metadata": {},
     "output_type": "execute_result"
    }
   ],
   "source": [
    "#tabla3.insert()#necesita parametros, el primer parametro de esta funcion es la localizacion\n",
    "tabla3.insert(1, 'Porc', porcentaje)\n",
    "tabla3"
   ]
  },
  {
   "cell_type": "code",
   "execution_count": null,
   "metadata": {},
   "outputs": [],
   "source": []
  },
  {
   "cell_type": "code",
   "execution_count": null,
   "metadata": {},
   "outputs": [],
   "source": []
  },
  {
   "cell_type": "code",
   "execution_count": null,
   "metadata": {},
   "outputs": [],
   "source": []
  },
  {
   "cell_type": "code",
   "execution_count": null,
   "metadata": {},
   "outputs": [],
   "source": []
  },
  {
   "cell_type": "code",
   "execution_count": 64,
   "metadata": {
    "ExecuteTime": {
     "end_time": "2018-10-16T14:53:27.882270Z",
     "start_time": "2018-10-16T14:53:27.865902Z"
    }
   },
   "outputs": [
    {
     "data": {
      "text/html": [
       "<div>\n",
       "<style scoped>\n",
       "    .dataframe tbody tr th:only-of-type {\n",
       "        vertical-align: middle;\n",
       "    }\n",
       "\n",
       "    .dataframe tbody tr th {\n",
       "        vertical-align: top;\n",
       "    }\n",
       "\n",
       "    .dataframe thead th {\n",
       "        text-align: right;\n",
       "    }\n",
       "</style>\n",
       "<table border=\"1\" class=\"dataframe\">\n",
       "  <thead>\n",
       "    <tr style=\"text-align: right;\">\n",
       "      <th></th>\n",
       "      <th>2004</th>\n",
       "      <th>2005</th>\n",
       "      <th>Tipo</th>\n",
       "      <th>2006</th>\n",
       "      <th>nueva</th>\n",
       "      <th>inicial</th>\n",
       "      <th>Suma</th>\n",
       "      <th>Unidad</th>\n",
       "      <th>Total</th>\n",
       "    </tr>\n",
       "  </thead>\n",
       "  <tbody>\n",
       "    <tr>\n",
       "      <th>EE</th>\n",
       "      <td>8.4</td>\n",
       "      <td>7.7</td>\n",
       "      <td>D</td>\n",
       "      <td>6.7</td>\n",
       "      <td>p</td>\n",
       "      <td>ESTONIA</td>\n",
       "      <td>22.8</td>\n",
       "      <td>1000 T</td>\n",
       "      <td>22.8</td>\n",
       "    </tr>\n",
       "    <tr>\n",
       "      <th>IE</th>\n",
       "      <td>193.5</td>\n",
       "      <td>227.8</td>\n",
       "      <td>D</td>\n",
       "      <td>221.1</td>\n",
       "      <td>p</td>\n",
       "      <td>IRELAND</td>\n",
       "      <td>642.3</td>\n",
       "      <td>1000 T</td>\n",
       "      <td>642.4</td>\n",
       "    </tr>\n",
       "    <tr>\n",
       "      <th>EL</th>\n",
       "      <td>1.4</td>\n",
       "      <td>1.6</td>\n",
       "      <td>D</td>\n",
       "      <td>1.5</td>\n",
       "      <td>p</td>\n",
       "      <td>GREECE</td>\n",
       "      <td>4.5</td>\n",
       "      <td>1000 T</td>\n",
       "      <td>4.5</td>\n",
       "    </tr>\n",
       "    <tr>\n",
       "      <th>ES</th>\n",
       "      <td>50.5</td>\n",
       "      <td>58.9</td>\n",
       "      <td>E</td>\n",
       "      <td>46.7</td>\n",
       "      <td>p</td>\n",
       "      <td>SPAIN</td>\n",
       "      <td>156.1</td>\n",
       "      <td>1000 T</td>\n",
       "      <td>156.1</td>\n",
       "    </tr>\n",
       "    <tr>\n",
       "      <th>FR</th>\n",
       "      <td>415.1</td>\n",
       "      <td>423.1</td>\n",
       "      <td>F</td>\n",
       "      <td>400.5</td>\n",
       "      <td>p</td>\n",
       "      <td>FRANCE</td>\n",
       "      <td>1238.7</td>\n",
       "      <td>1000 T</td>\n",
       "      <td>1238.7</td>\n",
       "    </tr>\n",
       "  </tbody>\n",
       "</table>\n",
       "</div>"
      ],
      "text/plain": [
       "     2004   2005 Tipo   2006 nueva  inicial    Suma  Unidad   Total\n",
       "EE    8.4    7.7    D    6.7     p  ESTONIA    22.8  1000 T    22.8\n",
       "IE  193.5  227.8    D  221.1     p  IRELAND   642.3  1000 T   642.4\n",
       "EL    1.4    1.6    D    1.5     p   GREECE     4.5  1000 T     4.5\n",
       "ES   50.5   58.9    E   46.7     p    SPAIN   156.1  1000 T   156.1\n",
       "FR  415.1  423.1    F  400.5     p   FRANCE  1238.7  1000 T  1238.7"
      ]
     },
     "execution_count": 64,
     "metadata": {},
     "output_type": "execute_result"
    }
   ],
   "source": [
    "# inserta la columna en la segunda posición \n",
    "tabla3.insert(2, 'Tipo', columna_tipo)\n",
    "tabla3"
   ]
  },
  {
   "cell_type": "markdown",
   "metadata": {},
   "source": [
    "--------"
   ]
  }
 ],
 "metadata": {
  "anaconda-cloud": {},
  "kernelspec": {
   "display_name": "Python 3",
   "language": "python",
   "name": "python3"
  },
  "language_info": {
   "codemirror_mode": {
    "name": "ipython",
    "version": 3
   },
   "file_extension": ".py",
   "mimetype": "text/x-python",
   "name": "python",
   "nbconvert_exporter": "python",
   "pygments_lexer": "ipython3",
   "version": "3.7.3"
  },
  "nbTranslate": {
   "displayLangs": [
    "en",
    "es"
   ],
   "hotkey": "alt-t",
   "langInMainMenu": true,
   "sourceLang": "es",
   "targetLang": "en",
   "useGoogleTranslate": true
  },
  "toc": {
   "base_numbering": 1,
   "nav_menu": {
    "height": "353px",
    "width": "252px"
   },
   "number_sections": true,
   "sideBar": true,
   "skip_h1_title": false,
   "title_cell": "Table of Contents",
   "title_sidebar": "Contents",
   "toc_cell": true,
   "toc_position": {
    "height": "543px",
    "left": "0px",
    "right": "948.333px",
    "top": "119px",
    "width": "287px"
   },
   "toc_section_display": "block",
   "toc_window_display": true
  }
 },
 "nbformat": 4,
 "nbformat_minor": 1
}
