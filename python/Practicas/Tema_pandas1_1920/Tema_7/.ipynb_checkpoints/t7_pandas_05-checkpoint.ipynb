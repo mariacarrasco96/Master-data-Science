{
 "cells": [
  {
   "cell_type": "markdown",
   "metadata": {},
   "source": [
    "# Grupos y  operaciones de agregación"
   ]
  },
  {
   "cell_type": "markdown",
   "metadata": {},
   "source": [
    "Después de realizar la importación de datos y procesarlos, una de las tareas más habituales es la agrupación de dichos datos en base a alguna característica, para posteriormente realizar operaciones sobre cada uno de los grupos obtenidos. Ésto se realiza habitualmente en un único paso gracias al método `groupby` de la clase `DataFrame`. Se trata de una operación con funcionalidad similar a la sentencia *group by* del lenguaje SQL.\n",
    "\n",
    "## La operación Groupby\n",
    "\n",
    "Por un lado, los  datos se dividen en grupos en base a una o más características. Por ejemplo, es posible hacer grupos de filas (`axis` = 0) o hacer grupos de columnas (`axis` = 1). \n",
    "Una vez creados los grupos, es posible realizar alguna operación con cada grupo. Por ejemplo, operaciones de agregación. Se aplica una función (predefinida o de usuario) a cada uno de los grupos. El resultado es un valor para cada uno de los grupos. También es posible realizar operaciones de transformación. Éstas se aplican a cada uno de los grupos y se obtiene como resultado una serie para cada grupo. \n",
    "\n",
    "Veamos algunos ejemplos. En primer lugar definimos un dataframe con datos numéricos y datos de tipo cadena."
   ]
  },
  {
   "cell_type": "code",
   "execution_count": 26,
   "metadata": {},
   "outputs": [],
   "source": [
    "import numpy as np\n",
    "import pandas as pd"
   ]
  },
  {
   "cell_type": "code",
   "execution_count": 27,
   "metadata": {},
   "outputs": [],
   "source": [
    "datos =[['Chile', 'South America', 'Dutch', 35],\n",
    "        ['Burundi', 'Africa', 'French',2],\n",
    "        ['China', 'Asia', 'Dutch', 62],\n",
    "        ['Cuba', 'North America', 'Dutch', 40],\n",
    "        ['Andorra', 'Europe', 'French', 6],\n",
    "        ['China', 'Asia', 'Greek', 2],\n",
    "        ['Burundi', 'Africa', 'French', 1],\n",
    "        ['Belgium', 'Europe', 'Dutch', 50],\n",
    "        ['Belgium', 'Europe', 'French', 32],\n",
    "        ['Cuba', 'North America', 'Greek', 3]]\n"
   ]
  },
  {
   "cell_type": "code",
   "execution_count": 28,
   "metadata": {},
   "outputs": [
    {
     "data": {
      "text/html": [
       "<div>\n",
       "<style scoped>\n",
       "    .dataframe tbody tr th:only-of-type {\n",
       "        vertical-align: middle;\n",
       "    }\n",
       "\n",
       "    .dataframe tbody tr th {\n",
       "        vertical-align: top;\n",
       "    }\n",
       "\n",
       "    .dataframe thead th {\n",
       "        text-align: right;\n",
       "    }\n",
       "</style>\n",
       "<table border=\"1\" class=\"dataframe\">\n",
       "  <thead>\n",
       "    <tr style=\"text-align: right;\">\n",
       "      <th></th>\n",
       "      <th>País</th>\n",
       "      <th>Continente</th>\n",
       "      <th>Idioma</th>\n",
       "      <th>Población %</th>\n",
       "    </tr>\n",
       "  </thead>\n",
       "  <tbody>\n",
       "    <tr>\n",
       "      <th>0</th>\n",
       "      <td>Chile</td>\n",
       "      <td>South America</td>\n",
       "      <td>Dutch</td>\n",
       "      <td>35</td>\n",
       "    </tr>\n",
       "    <tr>\n",
       "      <th>1</th>\n",
       "      <td>Burundi</td>\n",
       "      <td>Africa</td>\n",
       "      <td>French</td>\n",
       "      <td>2</td>\n",
       "    </tr>\n",
       "    <tr>\n",
       "      <th>2</th>\n",
       "      <td>China</td>\n",
       "      <td>Asia</td>\n",
       "      <td>Dutch</td>\n",
       "      <td>62</td>\n",
       "    </tr>\n",
       "    <tr>\n",
       "      <th>3</th>\n",
       "      <td>Cuba</td>\n",
       "      <td>North America</td>\n",
       "      <td>Dutch</td>\n",
       "      <td>40</td>\n",
       "    </tr>\n",
       "    <tr>\n",
       "      <th>4</th>\n",
       "      <td>Andorra</td>\n",
       "      <td>Europe</td>\n",
       "      <td>French</td>\n",
       "      <td>6</td>\n",
       "    </tr>\n",
       "    <tr>\n",
       "      <th>5</th>\n",
       "      <td>China</td>\n",
       "      <td>Asia</td>\n",
       "      <td>Greek</td>\n",
       "      <td>2</td>\n",
       "    </tr>\n",
       "    <tr>\n",
       "      <th>6</th>\n",
       "      <td>Burundi</td>\n",
       "      <td>Africa</td>\n",
       "      <td>French</td>\n",
       "      <td>1</td>\n",
       "    </tr>\n",
       "    <tr>\n",
       "      <th>7</th>\n",
       "      <td>Belgium</td>\n",
       "      <td>Europe</td>\n",
       "      <td>Dutch</td>\n",
       "      <td>50</td>\n",
       "    </tr>\n",
       "    <tr>\n",
       "      <th>8</th>\n",
       "      <td>Belgium</td>\n",
       "      <td>Europe</td>\n",
       "      <td>French</td>\n",
       "      <td>32</td>\n",
       "    </tr>\n",
       "    <tr>\n",
       "      <th>9</th>\n",
       "      <td>Cuba</td>\n",
       "      <td>North America</td>\n",
       "      <td>Greek</td>\n",
       "      <td>3</td>\n",
       "    </tr>\n",
       "  </tbody>\n",
       "</table>\n",
       "</div>"
      ],
      "text/plain": [
       "      País     Continente  Idioma  Población %\n",
       "0    Chile  South America   Dutch           35\n",
       "1  Burundi         Africa  French            2\n",
       "2    China           Asia   Dutch           62\n",
       "3     Cuba  North America   Dutch           40\n",
       "4  Andorra         Europe  French            6\n",
       "5    China           Asia   Greek            2\n",
       "6  Burundi         Africa  French            1\n",
       "7  Belgium         Europe   Dutch           50\n",
       "8  Belgium         Europe  French           32\n",
       "9     Cuba  North America   Greek            3"
      ]
     },
     "execution_count": 28,
     "metadata": {},
     "output_type": "execute_result"
    }
   ],
   "source": [
    "t = pd.DataFrame(datos, columns = ['País', 'Continente', 'Idioma', 'Población %'])\n",
    "t"
   ]
  },
  {
   "cell_type": "markdown",
   "metadata": {},
   "source": [
    "Supongamos que nos interesa conocer el número de idiomas que se habla en cada país. Una forma de resolverlo es hacer tantos grupos como países y posteriormente contar el número de tuplas de cada grupo. En primer lugar invocaremos al método `groupby` con la columna `País`.\n"
   ]
  },
  {
   "cell_type": "code",
   "execution_count": 29,
   "metadata": {},
   "outputs": [
    {
     "data": {
      "text/plain": [
       "<pandas.core.groupby.groupby.DataFrameGroupBy object at 0x0000017AB53BF208>"
      ]
     },
     "execution_count": 29,
     "metadata": {},
     "output_type": "execute_result"
    }
   ],
   "source": [
    "g = t.groupby(['País'])\n",
    "g"
   ]
  },
  {
   "cell_type": "markdown",
   "metadata": {},
   "source": [
    "El resultado de la operación `groupby`  es un objeto de tipo `Groupby`. Los objetos de tipo `Groupby` tiene una serie de propiedades, por ejemplo la propiedad `groups`."
   ]
  },
  {
   "cell_type": "code",
   "execution_count": 30,
   "metadata": {},
   "outputs": [
    {
     "data": {
      "text/plain": [
       "{'Andorra': Int64Index([4], dtype='int64'),\n",
       " 'Belgium': Int64Index([7, 8], dtype='int64'),\n",
       " 'Burundi': Int64Index([1, 6], dtype='int64'),\n",
       " 'Chile': Int64Index([0], dtype='int64'),\n",
       " 'China': Int64Index([2, 5], dtype='int64'),\n",
       " 'Cuba': Int64Index([3, 9], dtype='int64')}"
      ]
     },
     "execution_count": 30,
     "metadata": {},
     "output_type": "execute_result"
    }
   ],
   "source": [
    "g.groups"
   ]
  },
  {
   "cell_type": "markdown",
   "metadata": {},
   "source": [
    "La propiedad `ngroups` indica el número de grupos en los que se ha dividido el dataframe original."
   ]
  },
  {
   "cell_type": "code",
   "execution_count": 31,
   "metadata": {},
   "outputs": [
    {
     "data": {
      "text/plain": [
       "6"
      ]
     },
     "execution_count": 31,
     "metadata": {},
     "output_type": "execute_result"
    }
   ],
   "source": [
    "g.ngroups"
   ]
  },
  {
   "cell_type": "markdown",
   "metadata": {},
   "source": [
    "El método `size` de la clase `GroupBy` devuelve como resultado una serie, donde el índice está formado por los nombres de cada grupo y los valores asociados se corresponden con el  tamaño del grupo. "
   ]
  },
  {
   "cell_type": "code",
   "execution_count": 32,
   "metadata": {},
   "outputs": [
    {
     "data": {
      "text/plain": [
       "País\n",
       "Andorra    1\n",
       "Belgium    2\n",
       "Burundi    2\n",
       "Chile      1\n",
       "China      2\n",
       "Cuba       2\n",
       "dtype: int64"
      ]
     },
     "execution_count": 32,
     "metadata": {},
     "output_type": "execute_result"
    }
   ],
   "source": [
    "g.size()"
   ]
  },
  {
   "cell_type": "markdown",
   "metadata": {},
   "source": [
    "Lo más habitual es realizar la operación de división en grupos y posteriormente aplicar alguna operación de apregación. Por ejemplo, podemos aplicar la función de agregación `count`, que cuenta el número de filas del grupo."
   ]
  },
  {
   "cell_type": "code",
   "execution_count": 33,
   "metadata": {},
   "outputs": [
    {
     "data": {
      "text/html": [
       "<div>\n",
       "<style scoped>\n",
       "    .dataframe tbody tr th:only-of-type {\n",
       "        vertical-align: middle;\n",
       "    }\n",
       "\n",
       "    .dataframe tbody tr th {\n",
       "        vertical-align: top;\n",
       "    }\n",
       "\n",
       "    .dataframe thead th {\n",
       "        text-align: right;\n",
       "    }\n",
       "</style>\n",
       "<table border=\"1\" class=\"dataframe\">\n",
       "  <thead>\n",
       "    <tr style=\"text-align: right;\">\n",
       "      <th></th>\n",
       "      <th>País</th>\n",
       "      <th>Continente</th>\n",
       "      <th>Idioma</th>\n",
       "      <th>Población %</th>\n",
       "    </tr>\n",
       "  </thead>\n",
       "  <tbody>\n",
       "    <tr>\n",
       "      <th>0</th>\n",
       "      <td>Chile</td>\n",
       "      <td>South America</td>\n",
       "      <td>Dutch</td>\n",
       "      <td>35</td>\n",
       "    </tr>\n",
       "    <tr>\n",
       "      <th>1</th>\n",
       "      <td>Burundi</td>\n",
       "      <td>Africa</td>\n",
       "      <td>French</td>\n",
       "      <td>2</td>\n",
       "    </tr>\n",
       "    <tr>\n",
       "      <th>2</th>\n",
       "      <td>China</td>\n",
       "      <td>Asia</td>\n",
       "      <td>Dutch</td>\n",
       "      <td>62</td>\n",
       "    </tr>\n",
       "    <tr>\n",
       "      <th>3</th>\n",
       "      <td>Cuba</td>\n",
       "      <td>North America</td>\n",
       "      <td>Dutch</td>\n",
       "      <td>40</td>\n",
       "    </tr>\n",
       "    <tr>\n",
       "      <th>4</th>\n",
       "      <td>Andorra</td>\n",
       "      <td>Europe</td>\n",
       "      <td>French</td>\n",
       "      <td>6</td>\n",
       "    </tr>\n",
       "    <tr>\n",
       "      <th>5</th>\n",
       "      <td>China</td>\n",
       "      <td>Asia</td>\n",
       "      <td>Greek</td>\n",
       "      <td>2</td>\n",
       "    </tr>\n",
       "    <tr>\n",
       "      <th>6</th>\n",
       "      <td>Burundi</td>\n",
       "      <td>Africa</td>\n",
       "      <td>French</td>\n",
       "      <td>1</td>\n",
       "    </tr>\n",
       "    <tr>\n",
       "      <th>7</th>\n",
       "      <td>Belgium</td>\n",
       "      <td>Europe</td>\n",
       "      <td>Dutch</td>\n",
       "      <td>50</td>\n",
       "    </tr>\n",
       "    <tr>\n",
       "      <th>8</th>\n",
       "      <td>Belgium</td>\n",
       "      <td>Europe</td>\n",
       "      <td>French</td>\n",
       "      <td>32</td>\n",
       "    </tr>\n",
       "    <tr>\n",
       "      <th>9</th>\n",
       "      <td>Cuba</td>\n",
       "      <td>North America</td>\n",
       "      <td>Greek</td>\n",
       "      <td>3</td>\n",
       "    </tr>\n",
       "  </tbody>\n",
       "</table>\n",
       "</div>"
      ],
      "text/plain": [
       "      País     Continente  Idioma  Población %\n",
       "0    Chile  South America   Dutch           35\n",
       "1  Burundi         Africa  French            2\n",
       "2    China           Asia   Dutch           62\n",
       "3     Cuba  North America   Dutch           40\n",
       "4  Andorra         Europe  French            6\n",
       "5    China           Asia   Greek            2\n",
       "6  Burundi         Africa  French            1\n",
       "7  Belgium         Europe   Dutch           50\n",
       "8  Belgium         Europe  French           32\n",
       "9     Cuba  North America   Greek            3"
      ]
     },
     "execution_count": 33,
     "metadata": {},
     "output_type": "execute_result"
    }
   ],
   "source": [
    "t"
   ]
  },
  {
   "cell_type": "code",
   "execution_count": 34,
   "metadata": {},
   "outputs": [
    {
     "data": {
      "text/plain": [
       "País\n",
       "Andorra    1\n",
       "Belgium    2\n",
       "Burundi    2\n",
       "Chile      1\n",
       "China      2\n",
       "Cuba       2\n",
       "Name: Idioma, dtype: int64"
      ]
     },
     "execution_count": 34,
     "metadata": {},
     "output_type": "execute_result"
    }
   ],
   "source": [
    "t.groupby(['País']).Idioma.count()"
   ]
  },
  {
   "cell_type": "markdown",
   "metadata": {},
   "source": [
    "Para conocer el número de países en los que se habla un determinado idioma, será necesario agrupar los datos por idioma y posteriormente aplicar la función de agregación `count`, lo que nos dará como resultado el número de paises."
   ]
  },
  {
   "cell_type": "code",
   "execution_count": 35,
   "metadata": {},
   "outputs": [
    {
     "data": {
      "text/plain": [
       "Idioma\n",
       "Dutch     4\n",
       "French    4\n",
       "Greek     2\n",
       "Name: País, dtype: int64"
      ]
     },
     "execution_count": 35,
     "metadata": {},
     "output_type": "execute_result"
    }
   ],
   "source": [
    "t.groupby(['Idioma']).País.count()"
   ]
  },
  {
   "cell_type": "markdown",
   "metadata": {},
   "source": [
    "El resultado es una serie donde las etiquetas del índice son los valores del campo de agrupación.  "
   ]
  },
  {
   "cell_type": "markdown",
   "metadata": {},
   "source": [
    "Para continuar con los ejemplos, supongamos que tenemos un fichero CSV con información de una colección de envíos. De cada uno de ellos conocemos la fecha de entrega, la categoría, el importe, el peso del paquete y un indicador de si es considerado urgente o no."
   ]
  },
  {
   "cell_type": "code",
   "execution_count": 36,
   "metadata": {},
   "outputs": [
    {
     "data": {
      "text/html": [
       "<div>\n",
       "<style scoped>\n",
       "    .dataframe tbody tr th:only-of-type {\n",
       "        vertical-align: middle;\n",
       "    }\n",
       "\n",
       "    .dataframe tbody tr th {\n",
       "        vertical-align: top;\n",
       "    }\n",
       "\n",
       "    .dataframe thead th {\n",
       "        text-align: right;\n",
       "    }\n",
       "</style>\n",
       "<table border=\"1\" class=\"dataframe\">\n",
       "  <thead>\n",
       "    <tr style=\"text-align: right;\">\n",
       "      <th></th>\n",
       "      <th>Categoria</th>\n",
       "      <th>Importe</th>\n",
       "      <th>Peso</th>\n",
       "      <th>Urgente</th>\n",
       "    </tr>\n",
       "  </thead>\n",
       "  <tbody>\n",
       "    <tr>\n",
       "      <th>2006-06-20</th>\n",
       "      <td>P</td>\n",
       "      <td>0.90</td>\n",
       "      <td>0.99</td>\n",
       "      <td>Si</td>\n",
       "    </tr>\n",
       "    <tr>\n",
       "      <th>2006-10-17</th>\n",
       "      <td>P</td>\n",
       "      <td>4.40</td>\n",
       "      <td>0.20</td>\n",
       "      <td>Si</td>\n",
       "    </tr>\n",
       "    <tr>\n",
       "      <th>2006-06-23</th>\n",
       "      <td>M</td>\n",
       "      <td>0.10</td>\n",
       "      <td>2.70</td>\n",
       "      <td>Si</td>\n",
       "    </tr>\n",
       "    <tr>\n",
       "      <th>2006-06-24</th>\n",
       "      <td>M</td>\n",
       "      <td>2.70</td>\n",
       "      <td>1.50</td>\n",
       "      <td>Si</td>\n",
       "    </tr>\n",
       "    <tr>\n",
       "      <th>2006-06-27</th>\n",
       "      <td>M</td>\n",
       "      <td>2.80</td>\n",
       "      <td>0.34</td>\n",
       "      <td>Si</td>\n",
       "    </tr>\n",
       "    <tr>\n",
       "      <th>2006-06-25</th>\n",
       "      <td>G</td>\n",
       "      <td>0.70</td>\n",
       "      <td>1.32</td>\n",
       "      <td>Si</td>\n",
       "    </tr>\n",
       "    <tr>\n",
       "      <th>2006-06-21</th>\n",
       "      <td>P</td>\n",
       "      <td>0.40</td>\n",
       "      <td>0.21</td>\n",
       "      <td>No</td>\n",
       "    </tr>\n",
       "    <tr>\n",
       "      <th>2006-12-14</th>\n",
       "      <td>P</td>\n",
       "      <td>0.80</td>\n",
       "      <td>0.12</td>\n",
       "      <td>No</td>\n",
       "    </tr>\n",
       "    <tr>\n",
       "      <th>2006-06-22</th>\n",
       "      <td>G</td>\n",
       "      <td>4.20</td>\n",
       "      <td>0.40</td>\n",
       "      <td>No</td>\n",
       "    </tr>\n",
       "    <tr>\n",
       "      <th>2006-10-29</th>\n",
       "      <td>G</td>\n",
       "      <td>4.99</td>\n",
       "      <td>0.34</td>\n",
       "      <td>No</td>\n",
       "    </tr>\n",
       "    <tr>\n",
       "      <th>2006-06-26</th>\n",
       "      <td>G</td>\n",
       "      <td>2.99</td>\n",
       "      <td>1.10</td>\n",
       "      <td>No</td>\n",
       "    </tr>\n",
       "  </tbody>\n",
       "</table>\n",
       "</div>"
      ],
      "text/plain": [
       "           Categoria  Importe  Peso Urgente\n",
       "2006-06-20         P     0.90  0.99      Si\n",
       "2006-10-17         P     4.40  0.20      Si\n",
       "2006-06-23         M     0.10  2.70      Si\n",
       "2006-06-24         M     2.70  1.50      Si\n",
       "2006-06-27         M     2.80  0.34      Si\n",
       "2006-06-25         G     0.70  1.32      Si\n",
       "2006-06-21         P     0.40  0.21      No\n",
       "2006-12-14         P     0.80  0.12      No\n",
       "2006-06-22         G     4.20  0.40      No\n",
       "2006-10-29         G     4.99  0.34      No\n",
       "2006-06-26         G     2.99  1.10      No"
      ]
     },
     "execution_count": 36,
     "metadata": {},
     "output_type": "execute_result"
    }
   ],
   "source": [
    "fact = pd.read_csv(\"./datos/envios.csv\", index_col = [0], parse_dates = [0])\n",
    "fact"
   ]
  },
  {
   "cell_type": "markdown",
   "metadata": {},
   "source": [
    "Supongamos que deseamos conocer la media de `Importe` para cada `Categoría`. En este caso, debemos agrupar por la columna `Categoria`, seleccionar la columna `Importe`, y posteriormente aplicar el método `mean` que calcula la media."
   ]
  },
  {
   "cell_type": "code",
   "execution_count": 37,
   "metadata": {},
   "outputs": [
    {
     "data": {
      "text/plain": [
       "Categoria\n",
       "G    3.220000\n",
       "M    1.866667\n",
       "P    1.625000\n",
       "Name: Importe, dtype: float64"
      ]
     },
     "execution_count": 37,
     "metadata": {},
     "output_type": "execute_result"
    }
   ],
   "source": [
    "fact.groupby(['Categoria']).Importe.mean()"
   ]
  },
  {
   "cell_type": "markdown",
   "metadata": {},
   "source": [
    "Si deseamos calcular la media del importe para cada categoría dependiendo de si es urgente o no,  escribimos lo siguiente: "
   ]
  },
  {
   "cell_type": "code",
   "execution_count": 38,
   "metadata": {},
   "outputs": [
    {
     "data": {
      "text/plain": [
       "Categoria  Urgente\n",
       "G          No         4.060000\n",
       "           Si         0.700000\n",
       "M          Si         1.866667\n",
       "P          No         0.600000\n",
       "           Si         2.650000\n",
       "Name: Importe, dtype: float64"
      ]
     },
     "execution_count": 38,
     "metadata": {},
     "output_type": "execute_result"
    }
   ],
   "source": [
    "fact.groupby(['Categoria', 'Urgente']).Importe.mean()"
   ]
  },
  {
   "cell_type": "markdown",
   "metadata": {},
   "source": [
    "En este caso, tenemos que agrupar por los valores de las columnas `Categoria` y `Urgente`. Como podemos observar, el resultado es una serie con índice jerárquico. La función `unstack` devuelve como resultado un dataframe con índice jarárquico para el índice de las columnas."
   ]
  },
  {
   "cell_type": "code",
   "execution_count": 39,
   "metadata": {},
   "outputs": [
    {
     "data": {
      "text/html": [
       "<div>\n",
       "<style scoped>\n",
       "    .dataframe tbody tr th:only-of-type {\n",
       "        vertical-align: middle;\n",
       "    }\n",
       "\n",
       "    .dataframe tbody tr th {\n",
       "        vertical-align: top;\n",
       "    }\n",
       "\n",
       "    .dataframe thead th {\n",
       "        text-align: right;\n",
       "    }\n",
       "</style>\n",
       "<table border=\"1\" class=\"dataframe\">\n",
       "  <thead>\n",
       "    <tr style=\"text-align: right;\">\n",
       "      <th>Urgente</th>\n",
       "      <th>No</th>\n",
       "      <th>Si</th>\n",
       "    </tr>\n",
       "    <tr>\n",
       "      <th>Categoria</th>\n",
       "      <th></th>\n",
       "      <th></th>\n",
       "    </tr>\n",
       "  </thead>\n",
       "  <tbody>\n",
       "    <tr>\n",
       "      <th>G</th>\n",
       "      <td>4.06</td>\n",
       "      <td>0.700000</td>\n",
       "    </tr>\n",
       "    <tr>\n",
       "      <th>M</th>\n",
       "      <td>NaN</td>\n",
       "      <td>1.866667</td>\n",
       "    </tr>\n",
       "    <tr>\n",
       "      <th>P</th>\n",
       "      <td>0.60</td>\n",
       "      <td>2.650000</td>\n",
       "    </tr>\n",
       "  </tbody>\n",
       "</table>\n",
       "</div>"
      ],
      "text/plain": [
       "Urgente      No        Si\n",
       "Categoria                \n",
       "G          4.06  0.700000\n",
       "M           NaN  1.866667\n",
       "P          0.60  2.650000"
      ]
     },
     "execution_count": 39,
     "metadata": {},
     "output_type": "execute_result"
    }
   ],
   "source": [
    "fact.groupby(['Categoria', 'Urgente']).Importe.mean().unstack()"
   ]
  },
  {
   "cell_type": "markdown",
   "metadata": {},
   "source": [
    "## Iterar sobre grupos"
   ]
  },
  {
   "cell_type": "markdown",
   "metadata": {},
   "source": [
    "Los objetos de tipo `GroupBy` permiten iteración, generando una secuencia de tuplas del tipo (*nombre_grupo*, *contenido*)."
   ]
  },
  {
   "cell_type": "code",
   "execution_count": 40,
   "metadata": {},
   "outputs": [],
   "source": [
    "g = fact.groupby(['Categoria', 'Urgente'])"
   ]
  },
  {
   "cell_type": "code",
   "execution_count": 41,
   "metadata": {},
   "outputs": [
    {
     "name": "stdout",
     "output_type": "stream",
     "text": [
      "('G', 'No')\n",
      "('G', 'Si')\n",
      "('M', 'Si')\n",
      "('P', 'No')\n",
      "('P', 'Si')\n"
     ]
    }
   ],
   "source": [
    "for (nombre_grupo, contenido) in fact.groupby(['Categoria', 'Urgente']):\n",
    "     print(nombre_grupo)"
   ]
  },
  {
   "cell_type": "markdown",
   "metadata": {},
   "source": [
    "Los resultados nos indican que se han creado 5 grupos. El siguiente fragmento de código muestra el contenido de cada uno de los grupos. "
   ]
  },
  {
   "cell_type": "code",
   "execution_count": 42,
   "metadata": {},
   "outputs": [
    {
     "name": "stdout",
     "output_type": "stream",
     "text": [
      "           Categoria  Importe  Peso Urgente\n",
      "2006-06-22         G     4.20  0.40      No\n",
      "2006-10-29         G     4.99  0.34      No\n",
      "2006-06-26         G     2.99  1.10      No\n",
      "           Categoria  Importe  Peso Urgente\n",
      "2006-06-25         G      0.7  1.32      Si\n",
      "           Categoria  Importe  Peso Urgente\n",
      "2006-06-23         M      0.1  2.70      Si\n",
      "2006-06-24         M      2.7  1.50      Si\n",
      "2006-06-27         M      2.8  0.34      Si\n",
      "           Categoria  Importe  Peso Urgente\n",
      "2006-06-21         P      0.4  0.21      No\n",
      "2006-12-14         P      0.8  0.12      No\n",
      "           Categoria  Importe  Peso Urgente\n",
      "2006-06-20         P      0.9  0.99      Si\n",
      "2006-10-17         P      4.4  0.20      Si\n"
     ]
    }
   ],
   "source": [
    "for (nombre_grupo, contenido) in fact.groupby(['Categoria', 'Urgente']):\n",
    "    print(contenido)"
   ]
  },
  {
   "cell_type": "markdown",
   "metadata": {},
   "source": [
    "El contenido de cada uno de los grupos es un objeto de la clase `DataFrame`."
   ]
  },
  {
   "cell_type": "code",
   "execution_count": 43,
   "metadata": {},
   "outputs": [
    {
     "data": {
      "text/plain": [
       "pandas.core.frame.DataFrame"
      ]
     },
     "execution_count": 43,
     "metadata": {},
     "output_type": "execute_result"
    }
   ],
   "source": [
    "type(contenido)"
   ]
  },
  {
   "cell_type": "markdown",
   "metadata": {},
   "source": [
    "## Agrupando con funciones"
   ]
  },
  {
   "cell_type": "markdown",
   "metadata": {},
   "source": [
    "Para hacer cosas más creativas podemos usar funciones para agrupar datos. Por ejemplo, es posible aplicar una función a cada uno de los valores del índice y agrupar los datos en base al valor devuelto por la función."
   ]
  },
  {
   "cell_type": "code",
   "execution_count": 44,
   "metadata": {},
   "outputs": [
    {
     "data": {
      "text/html": [
       "<div>\n",
       "<style scoped>\n",
       "    .dataframe tbody tr th:only-of-type {\n",
       "        vertical-align: middle;\n",
       "    }\n",
       "\n",
       "    .dataframe tbody tr th {\n",
       "        vertical-align: top;\n",
       "    }\n",
       "\n",
       "    .dataframe thead th {\n",
       "        text-align: right;\n",
       "    }\n",
       "</style>\n",
       "<table border=\"1\" class=\"dataframe\">\n",
       "  <thead>\n",
       "    <tr style=\"text-align: right;\">\n",
       "      <th></th>\n",
       "      <th>Categoria</th>\n",
       "      <th>Importe</th>\n",
       "      <th>Peso</th>\n",
       "      <th>Urgente</th>\n",
       "    </tr>\n",
       "  </thead>\n",
       "  <tbody>\n",
       "    <tr>\n",
       "      <th>2006-06-20</th>\n",
       "      <td>P</td>\n",
       "      <td>0.90</td>\n",
       "      <td>0.99</td>\n",
       "      <td>Si</td>\n",
       "    </tr>\n",
       "    <tr>\n",
       "      <th>2006-10-17</th>\n",
       "      <td>P</td>\n",
       "      <td>4.40</td>\n",
       "      <td>0.20</td>\n",
       "      <td>Si</td>\n",
       "    </tr>\n",
       "    <tr>\n",
       "      <th>2006-06-23</th>\n",
       "      <td>M</td>\n",
       "      <td>0.10</td>\n",
       "      <td>2.70</td>\n",
       "      <td>Si</td>\n",
       "    </tr>\n",
       "    <tr>\n",
       "      <th>2006-06-24</th>\n",
       "      <td>M</td>\n",
       "      <td>2.70</td>\n",
       "      <td>1.50</td>\n",
       "      <td>Si</td>\n",
       "    </tr>\n",
       "    <tr>\n",
       "      <th>2006-06-27</th>\n",
       "      <td>M</td>\n",
       "      <td>2.80</td>\n",
       "      <td>0.34</td>\n",
       "      <td>Si</td>\n",
       "    </tr>\n",
       "    <tr>\n",
       "      <th>2006-06-25</th>\n",
       "      <td>G</td>\n",
       "      <td>0.70</td>\n",
       "      <td>1.32</td>\n",
       "      <td>Si</td>\n",
       "    </tr>\n",
       "    <tr>\n",
       "      <th>2006-06-21</th>\n",
       "      <td>P</td>\n",
       "      <td>0.40</td>\n",
       "      <td>0.21</td>\n",
       "      <td>No</td>\n",
       "    </tr>\n",
       "    <tr>\n",
       "      <th>2006-12-14</th>\n",
       "      <td>P</td>\n",
       "      <td>0.80</td>\n",
       "      <td>0.12</td>\n",
       "      <td>No</td>\n",
       "    </tr>\n",
       "    <tr>\n",
       "      <th>2006-06-22</th>\n",
       "      <td>G</td>\n",
       "      <td>4.20</td>\n",
       "      <td>0.40</td>\n",
       "      <td>No</td>\n",
       "    </tr>\n",
       "    <tr>\n",
       "      <th>2006-10-29</th>\n",
       "      <td>G</td>\n",
       "      <td>4.99</td>\n",
       "      <td>0.34</td>\n",
       "      <td>No</td>\n",
       "    </tr>\n",
       "    <tr>\n",
       "      <th>2006-06-26</th>\n",
       "      <td>G</td>\n",
       "      <td>2.99</td>\n",
       "      <td>1.10</td>\n",
       "      <td>No</td>\n",
       "    </tr>\n",
       "  </tbody>\n",
       "</table>\n",
       "</div>"
      ],
      "text/plain": [
       "           Categoria  Importe  Peso Urgente\n",
       "2006-06-20         P     0.90  0.99      Si\n",
       "2006-10-17         P     4.40  0.20      Si\n",
       "2006-06-23         M     0.10  2.70      Si\n",
       "2006-06-24         M     2.70  1.50      Si\n",
       "2006-06-27         M     2.80  0.34      Si\n",
       "2006-06-25         G     0.70  1.32      Si\n",
       "2006-06-21         P     0.40  0.21      No\n",
       "2006-12-14         P     0.80  0.12      No\n",
       "2006-06-22         G     4.20  0.40      No\n",
       "2006-10-29         G     4.99  0.34      No\n",
       "2006-06-26         G     2.99  1.10      No"
      ]
     },
     "execution_count": 44,
     "metadata": {},
     "output_type": "execute_result"
    }
   ],
   "source": [
    "fact"
   ]
  },
  {
   "cell_type": "markdown",
   "metadata": {},
   "source": [
    "Supongamos que nos interesa conocer el importe total facturado en cada día de la semana. Es decir, el importe facturado los lunes, los martes, etc. La función de usuario `calcular_dia` devuelve como resultado el día de la semana (valor numérico entre 0 y 6) de una fecha.\n",
    "En primer lugar, importamos la librería `date `."
   ]
  },
  {
   "cell_type": "code",
   "execution_count": 45,
   "metadata": {},
   "outputs": [],
   "source": [
    "from datetime import date\n",
    "def calcular_dia(f):\n",
    "    return f.weekday()    "
   ]
  },
  {
   "cell_type": "markdown",
   "metadata": {},
   "source": [
    "Por ejemplo, el día 26 de Junio del año 2006 fué lunes. La función `calcular_dia` devuelve el valor 0."
   ]
  },
  {
   "cell_type": "code",
   "execution_count": 46,
   "metadata": {},
   "outputs": [
    {
     "data": {
      "text/plain": [
       "0"
      ]
     },
     "execution_count": 46,
     "metadata": {},
     "output_type": "execute_result"
    }
   ],
   "source": [
    "calcular_dia(date(2006,6,26))"
   ]
  },
  {
   "cell_type": "markdown",
   "metadata": {},
   "source": [
    "El método `groupby` recibe como argumento la función de usuario `calcular_dia`. El resultado es un objeto de tipo `Groupby`  de tamaño 7."
   ]
  },
  {
   "cell_type": "code",
   "execution_count": 47,
   "metadata": {},
   "outputs": [
    {
     "data": {
      "text/plain": [
       "7"
      ]
     },
     "execution_count": 47,
     "metadata": {},
     "output_type": "execute_result"
    }
   ],
   "source": [
    "r = fact.groupby(calcular_dia)\n",
    "r.ngroups                             "
   ]
  },
  {
   "cell_type": "code",
   "execution_count": 48,
   "metadata": {
    "scrolled": true
   },
   "outputs": [
    {
     "name": "stdout",
     "output_type": "stream",
     "text": [
      "0\n",
      "           Categoria  Importe  Peso Urgente\n",
      "2006-06-26         G     2.99   1.1      No\n",
      "1\n",
      "           Categoria  Importe  Peso Urgente\n",
      "2006-06-20         P      0.9  0.99      Si\n",
      "2006-10-17         P      4.4  0.20      Si\n",
      "2006-06-27         M      2.8  0.34      Si\n",
      "2\n",
      "           Categoria  Importe  Peso Urgente\n",
      "2006-06-21         P      0.4  0.21      No\n",
      "3\n",
      "           Categoria  Importe  Peso Urgente\n",
      "2006-12-14         P      0.8  0.12      No\n",
      "2006-06-22         G      4.2  0.40      No\n",
      "4\n",
      "           Categoria  Importe  Peso Urgente\n",
      "2006-06-23         M      0.1   2.7      Si\n",
      "5\n",
      "           Categoria  Importe  Peso Urgente\n",
      "2006-06-24         M      2.7   1.5      Si\n",
      "6\n",
      "           Categoria  Importe  Peso Urgente\n",
      "2006-06-25         G     0.70  1.32      Si\n",
      "2006-10-29         G     4.99  0.34      No\n"
     ]
    }
   ],
   "source": [
    "for (dia, contenido) in r:\n",
    "    print(dia)\n",
    "    print(contenido)"
   ]
  },
  {
   "cell_type": "markdown",
   "metadata": {},
   "source": [
    "Para conocer el importe total de cada grupo, aplicamos la función de agregación `sum` a la columna `Importe` de cada uno de los grupos."
   ]
  },
  {
   "cell_type": "code",
   "execution_count": 49,
   "metadata": {},
   "outputs": [
    {
     "data": {
      "text/plain": [
       "0    2.99\n",
       "1    8.10\n",
       "2    0.40\n",
       "3    5.00\n",
       "4    0.10\n",
       "5    2.70\n",
       "6    5.69\n",
       "Name: Importe, dtype: float64"
      ]
     },
     "execution_count": 49,
     "metadata": {},
     "output_type": "execute_result"
    }
   ],
   "source": [
    "fact.groupby(calcular_dia).Importe.sum() "
   ]
  },
  {
   "cell_type": "markdown",
   "metadata": {},
   "source": [
    "## Agrupando por índice"
   ]
  },
  {
   "cell_type": "markdown",
   "metadata": {},
   "source": [
    "Los valores por los que se desea agrupar, no siempre se correponden con valores en columnas del dataframe. El argumento `axis` del método `groupby` permite indicar si la agrupación se realizará por etiquetas en el índice (`axis` = 0), o por valores de columnas (`axis` = 1). Además, el argumento `level` permite indicar el nivel de índice por el que se quiere agrupar."
   ]
  },
  {
   "cell_type": "code",
   "execution_count": 50,
   "metadata": {},
   "outputs": [],
   "source": [
    "datos = {'Producto': ['p1', 'p2', 'p3', 'p3', 'p2', 'p4', 'p2'],\n",
    "         'Cantidad': [2.0, 3.0, 4.0, 1.0, 2.0, 5.0, 1.0], \n",
    "         'Precio' : [1.0, 3.0, 2.0, 1.0, 4.0, 2.0, 3.0]}"
   ]
  },
  {
   "cell_type": "code",
   "execution_count": 51,
   "metadata": {},
   "outputs": [
    {
     "data": {
      "text/html": [
       "<div>\n",
       "<style scoped>\n",
       "    .dataframe tbody tr th:only-of-type {\n",
       "        vertical-align: middle;\n",
       "    }\n",
       "\n",
       "    .dataframe tbody tr th {\n",
       "        vertical-align: top;\n",
       "    }\n",
       "\n",
       "    .dataframe thead th {\n",
       "        text-align: right;\n",
       "    }\n",
       "</style>\n",
       "<table border=\"1\" class=\"dataframe\">\n",
       "  <thead>\n",
       "    <tr style=\"text-align: right;\">\n",
       "      <th></th>\n",
       "      <th>Producto</th>\n",
       "      <th>Cantidad</th>\n",
       "      <th>Precio</th>\n",
       "    </tr>\n",
       "  </thead>\n",
       "  <tbody>\n",
       "    <tr>\n",
       "      <th>101</th>\n",
       "      <td>p1</td>\n",
       "      <td>2.0</td>\n",
       "      <td>1.0</td>\n",
       "    </tr>\n",
       "    <tr>\n",
       "      <th>101</th>\n",
       "      <td>p2</td>\n",
       "      <td>3.0</td>\n",
       "      <td>3.0</td>\n",
       "    </tr>\n",
       "    <tr>\n",
       "      <th>102</th>\n",
       "      <td>p3</td>\n",
       "      <td>4.0</td>\n",
       "      <td>2.0</td>\n",
       "    </tr>\n",
       "    <tr>\n",
       "      <th>102</th>\n",
       "      <td>p3</td>\n",
       "      <td>1.0</td>\n",
       "      <td>1.0</td>\n",
       "    </tr>\n",
       "    <tr>\n",
       "      <th>103</th>\n",
       "      <td>p2</td>\n",
       "      <td>2.0</td>\n",
       "      <td>4.0</td>\n",
       "    </tr>\n",
       "    <tr>\n",
       "      <th>103</th>\n",
       "      <td>p4</td>\n",
       "      <td>5.0</td>\n",
       "      <td>2.0</td>\n",
       "    </tr>\n",
       "    <tr>\n",
       "      <th>103</th>\n",
       "      <td>p2</td>\n",
       "      <td>1.0</td>\n",
       "      <td>3.0</td>\n",
       "    </tr>\n",
       "  </tbody>\n",
       "</table>\n",
       "</div>"
      ],
      "text/plain": [
       "    Producto  Cantidad  Precio\n",
       "101       p1       2.0     1.0\n",
       "101       p2       3.0     3.0\n",
       "102       p3       4.0     2.0\n",
       "102       p3       1.0     1.0\n",
       "103       p2       2.0     4.0\n",
       "103       p4       5.0     2.0\n",
       "103       p2       1.0     3.0"
      ]
     },
     "execution_count": 51,
     "metadata": {},
     "output_type": "execute_result"
    }
   ],
   "source": [
    "pedidos = pd.DataFrame(datos,\n",
    "                       columns = ['Producto', 'Cantidad', 'Precio'], \n",
    "                       index = ['101', '101', '102', '102', '103', '103', '103']\n",
    "                        )\n",
    "pedidos"
   ]
  },
  {
   "cell_type": "markdown",
   "metadata": {},
   "source": [
    "El dataframe `pedidos` recoge información de codigo de pedido (etiquetas del índice de las filas), el código de producto, la cantidad de producto dentro de cada pedido y el precio. "
   ]
  },
  {
   "cell_type": "markdown",
   "metadata": {},
   "source": [
    "Si queremos calcular el precio medio de cada pedido, escribimos lo siguiente:"
   ]
  },
  {
   "cell_type": "code",
   "execution_count": 52,
   "metadata": {},
   "outputs": [
    {
     "data": {
      "text/plain": [
       "101    2.0\n",
       "102    1.5\n",
       "103    3.0\n",
       "Name: Precio, dtype: float64"
      ]
     },
     "execution_count": 52,
     "metadata": {},
     "output_type": "execute_result"
    }
   ],
   "source": [
    "pedidos.groupby(axis = 0, level = 0).Precio.mean()"
   ]
  },
  {
   "cell_type": "markdown",
   "metadata": {},
   "source": [
    "Agrupamos a nivel de índice de filas e indicamos el nivel. Posteriormente aplicamos la media (función  `mean`) a la columna `Precio`."
   ]
  },
  {
   "cell_type": "markdown",
   "metadata": {},
   "source": [
    "## Funciones de agregación"
   ]
  },
  {
   "cell_type": "markdown",
   "metadata": {},
   "source": [
    "Una vez que tenemos los datos divididos en grupos, las operaciones  de agregación  (`mean`, `sum`, `count`, etc.) permiten realizar operaciones cuyo resultado es un único valor por grupo. También es posible definir funciones de usuario y utilizarlas una vez construidos los grupos. Para ello usamos la función `agg`.\n",
    "\n",
    "Supongamos que queremos calcular el precio total de cada pedido menos el precio del producto más barato. "
   ]
  },
  {
   "cell_type": "code",
   "execution_count": 53,
   "metadata": {},
   "outputs": [
    {
     "data": {
      "text/html": [
       "<div>\n",
       "<style scoped>\n",
       "    .dataframe tbody tr th:only-of-type {\n",
       "        vertical-align: middle;\n",
       "    }\n",
       "\n",
       "    .dataframe tbody tr th {\n",
       "        vertical-align: top;\n",
       "    }\n",
       "\n",
       "    .dataframe thead th {\n",
       "        text-align: right;\n",
       "    }\n",
       "</style>\n",
       "<table border=\"1\" class=\"dataframe\">\n",
       "  <thead>\n",
       "    <tr style=\"text-align: right;\">\n",
       "      <th></th>\n",
       "      <th>Producto</th>\n",
       "      <th>Cantidad</th>\n",
       "      <th>Precio</th>\n",
       "    </tr>\n",
       "  </thead>\n",
       "  <tbody>\n",
       "    <tr>\n",
       "      <th>101</th>\n",
       "      <td>p1</td>\n",
       "      <td>2.0</td>\n",
       "      <td>1.0</td>\n",
       "    </tr>\n",
       "    <tr>\n",
       "      <th>101</th>\n",
       "      <td>p2</td>\n",
       "      <td>3.0</td>\n",
       "      <td>3.0</td>\n",
       "    </tr>\n",
       "    <tr>\n",
       "      <th>102</th>\n",
       "      <td>p3</td>\n",
       "      <td>4.0</td>\n",
       "      <td>2.0</td>\n",
       "    </tr>\n",
       "    <tr>\n",
       "      <th>102</th>\n",
       "      <td>p3</td>\n",
       "      <td>1.0</td>\n",
       "      <td>1.0</td>\n",
       "    </tr>\n",
       "    <tr>\n",
       "      <th>103</th>\n",
       "      <td>p2</td>\n",
       "      <td>2.0</td>\n",
       "      <td>4.0</td>\n",
       "    </tr>\n",
       "    <tr>\n",
       "      <th>103</th>\n",
       "      <td>p4</td>\n",
       "      <td>5.0</td>\n",
       "      <td>2.0</td>\n",
       "    </tr>\n",
       "    <tr>\n",
       "      <th>103</th>\n",
       "      <td>p2</td>\n",
       "      <td>1.0</td>\n",
       "      <td>3.0</td>\n",
       "    </tr>\n",
       "  </tbody>\n",
       "</table>\n",
       "</div>"
      ],
      "text/plain": [
       "    Producto  Cantidad  Precio\n",
       "101       p1       2.0     1.0\n",
       "101       p2       3.0     3.0\n",
       "102       p3       4.0     2.0\n",
       "102       p3       1.0     1.0\n",
       "103       p2       2.0     4.0\n",
       "103       p4       5.0     2.0\n",
       "103       p2       1.0     3.0"
      ]
     },
     "execution_count": 53,
     "metadata": {},
     "output_type": "execute_result"
    }
   ],
   "source": [
    "pedidos"
   ]
  },
  {
   "cell_type": "markdown",
   "metadata": {},
   "source": [
    "En primer lugar definimos la función que realiza el cálculo deseado. La función `total_desc` recibe como argumento una serie, calcula la suma de los valores (método `sum`), el mínimo valor (método `min`) y devuelve la diferencia de ambos valores."
   ]
  },
  {
   "cell_type": "code",
   "execution_count": 54,
   "metadata": {},
   "outputs": [],
   "source": [
    "def total_desc(datos): \n",
    "    minimo = datos.min()            \n",
    "    total = datos.sum() - minimo\n",
    "    return total"
   ]
  },
  {
   "cell_type": "markdown",
   "metadata": {},
   "source": [
    "Posteriormente, aplicamos la función de usuario `total_desc` como argumento de `agg` a la columna `Precio` de cada uno de los grupos."
   ]
  },
  {
   "cell_type": "code",
   "execution_count": 55,
   "metadata": {},
   "outputs": [
    {
     "data": {
      "text/plain": [
       "101    3.0\n",
       "102    2.0\n",
       "103    7.0\n",
       "Name: Precio, dtype: float64"
      ]
     },
     "execution_count": 55,
     "metadata": {},
     "output_type": "execute_result"
    }
   ],
   "source": [
    "totales_descuento = pedidos.groupby(level = 0, axis = 0).Precio.agg(total_desc)\n",
    "totales_descuento"
   ]
  },
  {
   "cell_type": "markdown",
   "metadata": {},
   "source": [
    "La función `agg` admite una lista de funciones de agregación como argumento. Como resultado obtendremos un objeto de tipo `DataFrame`, con tantas columnas como funciones de agregación en la lista."
   ]
  },
  {
   "cell_type": "code",
   "execution_count": 56,
   "metadata": {},
   "outputs": [
    {
     "data": {
      "text/html": [
       "<div>\n",
       "<style scoped>\n",
       "    .dataframe tbody tr th:only-of-type {\n",
       "        vertical-align: middle;\n",
       "    }\n",
       "\n",
       "    .dataframe tbody tr th {\n",
       "        vertical-align: top;\n",
       "    }\n",
       "\n",
       "    .dataframe thead th {\n",
       "        text-align: right;\n",
       "    }\n",
       "</style>\n",
       "<table border=\"1\" class=\"dataframe\">\n",
       "  <thead>\n",
       "    <tr style=\"text-align: right;\">\n",
       "      <th></th>\n",
       "      <th>sum</th>\n",
       "      <th>total_desc</th>\n",
       "    </tr>\n",
       "  </thead>\n",
       "  <tbody>\n",
       "    <tr>\n",
       "      <th>101</th>\n",
       "      <td>4.0</td>\n",
       "      <td>3.0</td>\n",
       "    </tr>\n",
       "    <tr>\n",
       "      <th>102</th>\n",
       "      <td>3.0</td>\n",
       "      <td>2.0</td>\n",
       "    </tr>\n",
       "    <tr>\n",
       "      <th>103</th>\n",
       "      <td>9.0</td>\n",
       "      <td>7.0</td>\n",
       "    </tr>\n",
       "  </tbody>\n",
       "</table>\n",
       "</div>"
      ],
      "text/plain": [
       "     sum  total_desc\n",
       "101  4.0         3.0\n",
       "102  3.0         2.0\n",
       "103  9.0         7.0"
      ]
     },
     "execution_count": 56,
     "metadata": {},
     "output_type": "execute_result"
    }
   ],
   "source": [
    "resumen = pedidos.groupby(level = 0, axis = 0).Precio.agg([sum, total_desc])\n",
    "resumen"
   ]
  },
  {
   "cell_type": "markdown",
   "metadata": {},
   "source": [
    "## Otras formas de agregación "
   ]
  },
  {
   "cell_type": "markdown",
   "metadata": {},
   "source": [
    "A diferencia de las funciones de agregación vistas en la sección anterior, el método `transform` de la clase `Groupgy` permite aplicar una función a cada uno de los grupos, devolviendo como resultado una serie con tantos valores como el tamaño del grupo (no un valor único por grupo).\n",
    "\n",
    "El dataframe `tiempos` recoge medicciones del tiempo (en segundos) que tardan en ejecutarse varios procesos en sus distintas versiones. "
   ]
  },
  {
   "cell_type": "code",
   "execution_count": 57,
   "metadata": {},
   "outputs": [
    {
     "data": {
      "text/html": [
       "<div>\n",
       "<style scoped>\n",
       "    .dataframe tbody tr th:only-of-type {\n",
       "        vertical-align: middle;\n",
       "    }\n",
       "\n",
       "    .dataframe tbody tr th {\n",
       "        vertical-align: top;\n",
       "    }\n",
       "\n",
       "    .dataframe thead th {\n",
       "        text-align: right;\n",
       "    }\n",
       "</style>\n",
       "<table border=\"1\" class=\"dataframe\">\n",
       "  <thead>\n",
       "    <tr style=\"text-align: right;\">\n",
       "      <th></th>\n",
       "      <th>Proceso</th>\n",
       "      <th>Version</th>\n",
       "      <th>Segundos</th>\n",
       "    </tr>\n",
       "  </thead>\n",
       "  <tbody>\n",
       "    <tr>\n",
       "      <th>0</th>\n",
       "      <td>A</td>\n",
       "      <td>0.0</td>\n",
       "      <td>20</td>\n",
       "    </tr>\n",
       "    <tr>\n",
       "      <th>1</th>\n",
       "      <td>B</td>\n",
       "      <td>0.1</td>\n",
       "      <td>20</td>\n",
       "    </tr>\n",
       "    <tr>\n",
       "      <th>2</th>\n",
       "      <td>A</td>\n",
       "      <td>1.1</td>\n",
       "      <td>30</td>\n",
       "    </tr>\n",
       "    <tr>\n",
       "      <th>3</th>\n",
       "      <td>A</td>\n",
       "      <td>2.3</td>\n",
       "      <td>40</td>\n",
       "    </tr>\n",
       "    <tr>\n",
       "      <th>4</th>\n",
       "      <td>B</td>\n",
       "      <td>2.1</td>\n",
       "      <td>50</td>\n",
       "    </tr>\n",
       "    <tr>\n",
       "      <th>5</th>\n",
       "      <td>A</td>\n",
       "      <td>3.0</td>\n",
       "      <td>60</td>\n",
       "    </tr>\n",
       "    <tr>\n",
       "      <th>6</th>\n",
       "      <td>B</td>\n",
       "      <td>3.1</td>\n",
       "      <td>70</td>\n",
       "    </tr>\n",
       "  </tbody>\n",
       "</table>\n",
       "</div>"
      ],
      "text/plain": [
       "  Proceso Version  Segundos\n",
       "0       A     0.0        20\n",
       "1       B     0.1        20\n",
       "2       A     1.1        30\n",
       "3       A     2.3        40\n",
       "4       B     2.1        50\n",
       "5       A     3.0        60\n",
       "6       B     3.1        70"
      ]
     },
     "execution_count": 57,
     "metadata": {},
     "output_type": "execute_result"
    }
   ],
   "source": [
    "datos = {'Proceso': ['A', 'B', 'A',  'A', 'B', 'A', 'B' ],\n",
    "         'Version' : ['0.0', '0.1', '1.1', '2.3', '2.1', '3.0', '3.1'],\n",
    "         'Segundos' : [20, 20, 30,  40, 50, 60, 70 ]}\n",
    "\n",
    "tiempos = pd.DataFrame(datos)\n",
    "tiempos"
   ]
  },
  {
   "cell_type": "markdown",
   "metadata": {},
   "source": [
    "Supongamos que queremos calcular la diferencia de tiempos de cada proceso con respecto al mejor tiempo de dicho proceso. La función de usuario `diferencia` recibe una serie como argumento, calcula el mínimo valor (método `min`) y devuelve la diferencia entre cada valor de la serie y el mínimo calculado. El resultado es una serie."
   ]
  },
  {
   "cell_type": "code",
   "execution_count": 58,
   "metadata": {},
   "outputs": [],
   "source": [
    "def diferencia(x):\n",
    "    minimo = x.min()        \n",
    "    return x - minimo    "
   ]
  },
  {
   "cell_type": "markdown",
   "metadata": {},
   "source": [
    "El método `transform` permite aplicar la función `diferencia` a cada uno de los grupos."
   ]
  },
  {
   "cell_type": "code",
   "execution_count": 59,
   "metadata": {},
   "outputs": [
    {
     "data": {
      "text/plain": [
       "0     0\n",
       "1     0\n",
       "2    10\n",
       "3    20\n",
       "4    30\n",
       "5    40\n",
       "6    50\n",
       "Name: Segundos, dtype: int64"
      ]
     },
     "execution_count": 59,
     "metadata": {},
     "output_type": "execute_result"
    }
   ],
   "source": [
    "t = tiempos.groupby(['Proceso']).Segundos.transform(diferencia)\n",
    "t"
   ]
  },
  {
   "cell_type": "code",
   "execution_count": 60,
   "metadata": {},
   "outputs": [
    {
     "data": {
      "text/html": [
       "<div>\n",
       "<style scoped>\n",
       "    .dataframe tbody tr th:only-of-type {\n",
       "        vertical-align: middle;\n",
       "    }\n",
       "\n",
       "    .dataframe tbody tr th {\n",
       "        vertical-align: top;\n",
       "    }\n",
       "\n",
       "    .dataframe thead th {\n",
       "        text-align: right;\n",
       "    }\n",
       "</style>\n",
       "<table border=\"1\" class=\"dataframe\">\n",
       "  <thead>\n",
       "    <tr style=\"text-align: right;\">\n",
       "      <th></th>\n",
       "      <th>Proceso</th>\n",
       "      <th>Version</th>\n",
       "      <th>Segundos</th>\n",
       "      <th>Diferencia</th>\n",
       "    </tr>\n",
       "  </thead>\n",
       "  <tbody>\n",
       "    <tr>\n",
       "      <th>0</th>\n",
       "      <td>A</td>\n",
       "      <td>0.0</td>\n",
       "      <td>20</td>\n",
       "      <td>0</td>\n",
       "    </tr>\n",
       "    <tr>\n",
       "      <th>1</th>\n",
       "      <td>B</td>\n",
       "      <td>0.1</td>\n",
       "      <td>20</td>\n",
       "      <td>0</td>\n",
       "    </tr>\n",
       "    <tr>\n",
       "      <th>2</th>\n",
       "      <td>A</td>\n",
       "      <td>1.1</td>\n",
       "      <td>30</td>\n",
       "      <td>10</td>\n",
       "    </tr>\n",
       "    <tr>\n",
       "      <th>3</th>\n",
       "      <td>A</td>\n",
       "      <td>2.3</td>\n",
       "      <td>40</td>\n",
       "      <td>20</td>\n",
       "    </tr>\n",
       "    <tr>\n",
       "      <th>4</th>\n",
       "      <td>B</td>\n",
       "      <td>2.1</td>\n",
       "      <td>50</td>\n",
       "      <td>30</td>\n",
       "    </tr>\n",
       "    <tr>\n",
       "      <th>5</th>\n",
       "      <td>A</td>\n",
       "      <td>3.0</td>\n",
       "      <td>60</td>\n",
       "      <td>40</td>\n",
       "    </tr>\n",
       "    <tr>\n",
       "      <th>6</th>\n",
       "      <td>B</td>\n",
       "      <td>3.1</td>\n",
       "      <td>70</td>\n",
       "      <td>50</td>\n",
       "    </tr>\n",
       "  </tbody>\n",
       "</table>\n",
       "</div>"
      ],
      "text/plain": [
       "  Proceso Version  Segundos  Diferencia\n",
       "0       A     0.0        20           0\n",
       "1       B     0.1        20           0\n",
       "2       A     1.1        30          10\n",
       "3       A     2.3        40          20\n",
       "4       B     2.1        50          30\n",
       "5       A     3.0        60          40\n",
       "6       B     3.1        70          50"
      ]
     },
     "execution_count": 60,
     "metadata": {},
     "output_type": "execute_result"
    }
   ],
   "source": [
    "tiempos.insert(3, 'Diferencia', t)\n",
    "tiempos"
   ]
  },
  {
   "cell_type": "markdown",
   "metadata": {},
   "source": [
    "Si queremos calcular la desviación de tiempos con respecto a la media de tiempos de cada proceso, definimos la función `desviacion`."
   ]
  },
  {
   "cell_type": "code",
   "execution_count": 61,
   "metadata": {},
   "outputs": [],
   "source": [
    "def desviacion(x):\n",
    "    media = x.mean()        \n",
    "    return x - media    "
   ]
  },
  {
   "cell_type": "code",
   "execution_count": 62,
   "metadata": {},
   "outputs": [
    {
     "data": {
      "text/plain": [
       "0   -17.500000\n",
       "1   -26.666667\n",
       "2    -7.500000\n",
       "3     2.500000\n",
       "4     3.333333\n",
       "5    22.500000\n",
       "6    23.333333\n",
       "Name: Segundos, dtype: float64"
      ]
     },
     "execution_count": 62,
     "metadata": {},
     "output_type": "execute_result"
    }
   ],
   "source": [
    "d = tiempos.groupby(['Proceso']).Segundos.transform( desviacion )\n",
    "d"
   ]
  },
  {
   "cell_type": "code",
   "execution_count": 63,
   "metadata": {},
   "outputs": [
    {
     "data": {
      "text/html": [
       "<div>\n",
       "<style scoped>\n",
       "    .dataframe tbody tr th:only-of-type {\n",
       "        vertical-align: middle;\n",
       "    }\n",
       "\n",
       "    .dataframe tbody tr th {\n",
       "        vertical-align: top;\n",
       "    }\n",
       "\n",
       "    .dataframe thead th {\n",
       "        text-align: right;\n",
       "    }\n",
       "</style>\n",
       "<table border=\"1\" class=\"dataframe\">\n",
       "  <thead>\n",
       "    <tr style=\"text-align: right;\">\n",
       "      <th></th>\n",
       "      <th>Proceso</th>\n",
       "      <th>Version</th>\n",
       "      <th>Segundos</th>\n",
       "      <th>Diferencia</th>\n",
       "      <th>Desv</th>\n",
       "    </tr>\n",
       "  </thead>\n",
       "  <tbody>\n",
       "    <tr>\n",
       "      <th>0</th>\n",
       "      <td>A</td>\n",
       "      <td>0.0</td>\n",
       "      <td>20</td>\n",
       "      <td>0</td>\n",
       "      <td>-17.500000</td>\n",
       "    </tr>\n",
       "    <tr>\n",
       "      <th>1</th>\n",
       "      <td>B</td>\n",
       "      <td>0.1</td>\n",
       "      <td>20</td>\n",
       "      <td>0</td>\n",
       "      <td>-26.666667</td>\n",
       "    </tr>\n",
       "    <tr>\n",
       "      <th>2</th>\n",
       "      <td>A</td>\n",
       "      <td>1.1</td>\n",
       "      <td>30</td>\n",
       "      <td>10</td>\n",
       "      <td>-7.500000</td>\n",
       "    </tr>\n",
       "    <tr>\n",
       "      <th>3</th>\n",
       "      <td>A</td>\n",
       "      <td>2.3</td>\n",
       "      <td>40</td>\n",
       "      <td>20</td>\n",
       "      <td>2.500000</td>\n",
       "    </tr>\n",
       "    <tr>\n",
       "      <th>4</th>\n",
       "      <td>B</td>\n",
       "      <td>2.1</td>\n",
       "      <td>50</td>\n",
       "      <td>30</td>\n",
       "      <td>3.333333</td>\n",
       "    </tr>\n",
       "    <tr>\n",
       "      <th>5</th>\n",
       "      <td>A</td>\n",
       "      <td>3.0</td>\n",
       "      <td>60</td>\n",
       "      <td>40</td>\n",
       "      <td>22.500000</td>\n",
       "    </tr>\n",
       "    <tr>\n",
       "      <th>6</th>\n",
       "      <td>B</td>\n",
       "      <td>3.1</td>\n",
       "      <td>70</td>\n",
       "      <td>50</td>\n",
       "      <td>23.333333</td>\n",
       "    </tr>\n",
       "  </tbody>\n",
       "</table>\n",
       "</div>"
      ],
      "text/plain": [
       "  Proceso Version  Segundos  Diferencia       Desv\n",
       "0       A     0.0        20           0 -17.500000\n",
       "1       B     0.1        20           0 -26.666667\n",
       "2       A     1.1        30          10  -7.500000\n",
       "3       A     2.3        40          20   2.500000\n",
       "4       B     2.1        50          30   3.333333\n",
       "5       A     3.0        60          40  22.500000\n",
       "6       B     3.1        70          50  23.333333"
      ]
     },
     "execution_count": 63,
     "metadata": {},
     "output_type": "execute_result"
    }
   ],
   "source": [
    "tiempos.insert(4, 'Desv', d)\n",
    "tiempos"
   ]
  },
  {
   "cell_type": "markdown",
   "metadata": {},
   "source": [
    "El método `apply` es más general que cualquiera de los métodos `agg` o `transform`. Por ejemplo, podemos calcular la suma de los tiempos de cada proceso de distintas formas."
   ]
  },
  {
   "cell_type": "code",
   "execution_count": 64,
   "metadata": {},
   "outputs": [
    {
     "data": {
      "text/plain": [
       "Proceso\n",
       "A    150\n",
       "B    140\n",
       "Name: Segundos, dtype: int64"
      ]
     },
     "execution_count": 64,
     "metadata": {},
     "output_type": "execute_result"
    }
   ],
   "source": [
    "tiempos.groupby(['Proceso']).Segundos.sum()"
   ]
  },
  {
   "cell_type": "code",
   "execution_count": 65,
   "metadata": {},
   "outputs": [
    {
     "data": {
      "text/plain": [
       "Proceso\n",
       "A    150\n",
       "B    140\n",
       "Name: Segundos, dtype: int64"
      ]
     },
     "execution_count": 65,
     "metadata": {},
     "output_type": "execute_result"
    }
   ],
   "source": [
    "tiempos.groupby(['Proceso']).Segundos.agg(np.sum)"
   ]
  },
  {
   "cell_type": "code",
   "execution_count": 66,
   "metadata": {},
   "outputs": [
    {
     "data": {
      "text/plain": [
       "Proceso\n",
       "A    150\n",
       "B    140\n",
       "Name: Segundos, dtype: int64"
      ]
     },
     "execution_count": 66,
     "metadata": {},
     "output_type": "execute_result"
    }
   ],
   "source": [
    "tiempos.groupby(['Proceso']).Segundos.apply(np.sum)"
   ]
  },
  {
   "cell_type": "markdown",
   "metadata": {},
   "source": [
    "En los ejemplos anteriores, el resultado es el mismo tanto si aplicamos la función `sum` directamente, como si aplicamos `np.sum` mediante `agg` o `apply`. En el siguiente ejemplo, mostramos que existen diferencias.  \n",
    "\n",
    "Creamos un nuevo dataframe a partir de `tiempos` seleccionando las columnas `Proceso` y `Segundos`."
   ]
  },
  {
   "cell_type": "code",
   "execution_count": 67,
   "metadata": {},
   "outputs": [
    {
     "data": {
      "text/html": [
       "<div>\n",
       "<style scoped>\n",
       "    .dataframe tbody tr th:only-of-type {\n",
       "        vertical-align: middle;\n",
       "    }\n",
       "\n",
       "    .dataframe tbody tr th {\n",
       "        vertical-align: top;\n",
       "    }\n",
       "\n",
       "    .dataframe thead th {\n",
       "        text-align: right;\n",
       "    }\n",
       "</style>\n",
       "<table border=\"1\" class=\"dataframe\">\n",
       "  <thead>\n",
       "    <tr style=\"text-align: right;\">\n",
       "      <th></th>\n",
       "      <th>Proceso</th>\n",
       "      <th>Segundos</th>\n",
       "    </tr>\n",
       "  </thead>\n",
       "  <tbody>\n",
       "    <tr>\n",
       "      <th>0</th>\n",
       "      <td>A</td>\n",
       "      <td>20</td>\n",
       "    </tr>\n",
       "    <tr>\n",
       "      <th>1</th>\n",
       "      <td>B</td>\n",
       "      <td>20</td>\n",
       "    </tr>\n",
       "    <tr>\n",
       "      <th>2</th>\n",
       "      <td>A</td>\n",
       "      <td>30</td>\n",
       "    </tr>\n",
       "    <tr>\n",
       "      <th>3</th>\n",
       "      <td>A</td>\n",
       "      <td>40</td>\n",
       "    </tr>\n",
       "    <tr>\n",
       "      <th>4</th>\n",
       "      <td>B</td>\n",
       "      <td>50</td>\n",
       "    </tr>\n",
       "    <tr>\n",
       "      <th>5</th>\n",
       "      <td>A</td>\n",
       "      <td>60</td>\n",
       "    </tr>\n",
       "    <tr>\n",
       "      <th>6</th>\n",
       "      <td>B</td>\n",
       "      <td>70</td>\n",
       "    </tr>\n",
       "  </tbody>\n",
       "</table>\n",
       "</div>"
      ],
      "text/plain": [
       "  Proceso  Segundos\n",
       "0       A        20\n",
       "1       B        20\n",
       "2       A        30\n",
       "3       A        40\n",
       "4       B        50\n",
       "5       A        60\n",
       "6       B        70"
      ]
     },
     "execution_count": 67,
     "metadata": {},
     "output_type": "execute_result"
    }
   ],
   "source": [
    "sub = tiempos.loc[:,['Proceso', 'Segundos']]\n",
    "sub"
   ]
  },
  {
   "cell_type": "markdown",
   "metadata": {},
   "source": [
    "A continuación agrupamos por proceso y aplicamos la función `sum`."
   ]
  },
  {
   "cell_type": "code",
   "execution_count": 68,
   "metadata": {},
   "outputs": [
    {
     "data": {
      "text/html": [
       "<div>\n",
       "<style scoped>\n",
       "    .dataframe tbody tr th:only-of-type {\n",
       "        vertical-align: middle;\n",
       "    }\n",
       "\n",
       "    .dataframe tbody tr th {\n",
       "        vertical-align: top;\n",
       "    }\n",
       "\n",
       "    .dataframe thead th {\n",
       "        text-align: right;\n",
       "    }\n",
       "</style>\n",
       "<table border=\"1\" class=\"dataframe\">\n",
       "  <thead>\n",
       "    <tr style=\"text-align: right;\">\n",
       "      <th></th>\n",
       "      <th>Segundos</th>\n",
       "    </tr>\n",
       "    <tr>\n",
       "      <th>Proceso</th>\n",
       "      <th></th>\n",
       "    </tr>\n",
       "  </thead>\n",
       "  <tbody>\n",
       "    <tr>\n",
       "      <th>A</th>\n",
       "      <td>150</td>\n",
       "    </tr>\n",
       "    <tr>\n",
       "      <th>B</th>\n",
       "      <td>140</td>\n",
       "    </tr>\n",
       "  </tbody>\n",
       "</table>\n",
       "</div>"
      ],
      "text/plain": [
       "         Segundos\n",
       "Proceso          \n",
       "A             150\n",
       "B             140"
      ]
     },
     "execution_count": 68,
     "metadata": {},
     "output_type": "execute_result"
    }
   ],
   "source": [
    "sub.groupby(['Proceso']).sum()"
   ]
  },
  {
   "cell_type": "code",
   "execution_count": 69,
   "metadata": {},
   "outputs": [
    {
     "data": {
      "text/html": [
       "<div>\n",
       "<style scoped>\n",
       "    .dataframe tbody tr th:only-of-type {\n",
       "        vertical-align: middle;\n",
       "    }\n",
       "\n",
       "    .dataframe tbody tr th {\n",
       "        vertical-align: top;\n",
       "    }\n",
       "\n",
       "    .dataframe thead th {\n",
       "        text-align: right;\n",
       "    }\n",
       "</style>\n",
       "<table border=\"1\" class=\"dataframe\">\n",
       "  <thead>\n",
       "    <tr style=\"text-align: right;\">\n",
       "      <th></th>\n",
       "      <th>Proceso</th>\n",
       "      <th>Segundos</th>\n",
       "    </tr>\n",
       "    <tr>\n",
       "      <th>Proceso</th>\n",
       "      <th></th>\n",
       "      <th></th>\n",
       "    </tr>\n",
       "  </thead>\n",
       "  <tbody>\n",
       "    <tr>\n",
       "      <th>A</th>\n",
       "      <td>AAAA</td>\n",
       "      <td>150</td>\n",
       "    </tr>\n",
       "    <tr>\n",
       "      <th>B</th>\n",
       "      <td>BBB</td>\n",
       "      <td>140</td>\n",
       "    </tr>\n",
       "  </tbody>\n",
       "</table>\n",
       "</div>"
      ],
      "text/plain": [
       "        Proceso  Segundos\n",
       "Proceso                  \n",
       "A          AAAA       150\n",
       "B           BBB       140"
      ]
     },
     "execution_count": 69,
     "metadata": {},
     "output_type": "execute_result"
    }
   ],
   "source": [
    "sub.groupby(['Proceso']).apply(np.sum)"
   ]
  },
  {
   "cell_type": "markdown",
   "metadata": {},
   "source": [
    "El método `apply` aplica la función `np.sum` a todas las columnas. La suma de los valores de la columna `Proceso` es la concatenación de cadenas. "
   ]
  },
  {
   "cell_type": "markdown",
   "metadata": {},
   "source": [
    "El siguiente ejemplo utiliza el método `apply` para obtener los dos procesos que emplean menos tiempo en ejecutarse.  Las funciones de agregación (tanto las predefinidas como las definidas por el usuario) transforman un grupo en un valor escalar. Pero en este caso, necesitamos aplicar una función que transforme un grupo en un conjunto de filas (dos por cada grupo, los dos procesos más rápidos).\n",
    "\n",
    "Definimos la función `mejores_tiempos`. "
   ]
  },
  {
   "cell_type": "code",
   "execution_count": 70,
   "metadata": {},
   "outputs": [],
   "source": [
    "def mejores_tiempos(datos):\n",
    "    ordenado = datos.sort_values(by = 'Segundos')    \n",
    "    return ordenado[:2]"
   ]
  },
  {
   "cell_type": "markdown",
   "metadata": {},
   "source": [
    "Aplicamos la función de usuario `mejores_tiempos`  usando el método `apply`. El resultado es una serie con índice jerárquico. El primer nivel de índice es el código del proceso, el el segundo nivel se corresponde con el índice en el dataframe original."
   ]
  },
  {
   "cell_type": "code",
   "execution_count": 71,
   "metadata": {},
   "outputs": [
    {
     "data": {
      "text/plain": [
       "Proceso   \n",
       "A        0    20\n",
       "         2    30\n",
       "B        1    20\n",
       "         4    50\n",
       "Name: Segundos, dtype: int64"
      ]
     },
     "execution_count": 71,
     "metadata": {},
     "output_type": "execute_result"
    }
   ],
   "source": [
    "sub.groupby('Proceso').apply(mejores_tiempos).Segundos"
   ]
  },
  {
   "cell_type": "markdown",
   "metadata": {},
   "source": []
  }
 ],
 "metadata": {
  "anaconda-cloud": {},
  "kernelspec": {
   "display_name": "Python 3",
   "language": "python",
   "name": "python3"
  },
  "language_info": {
   "codemirror_mode": {
    "name": "ipython",
    "version": 3
   },
   "file_extension": ".py",
   "mimetype": "text/x-python",
   "name": "python",
   "nbconvert_exporter": "python",
   "pygments_lexer": "ipython3",
   "version": "3.6.3"
  },
  "nbTranslate": {
   "displayLangs": [
    "en",
    "es"
   ],
   "hotkey": "alt-t",
   "langInMainMenu": true,
   "sourceLang": "es",
   "targetLang": "en",
   "useGoogleTranslate": true
  },
  "toc": {
   "nav_menu": {
    "height": "154px",
    "width": "252px"
   },
   "number_sections": true,
   "sideBar": true,
   "skip_h1_title": false,
   "title_cell": "Table of Contents",
   "title_sidebar": "Contents",
   "toc_cell": false,
   "toc_position": {
    "height": "556px",
    "left": "0px",
    "right": "1154px",
    "top": "106px",
    "width": "212px"
   },
   "toc_section_display": "block",
   "toc_window_display": true
  }
 },
 "nbformat": 4,
 "nbformat_minor": 1
}
