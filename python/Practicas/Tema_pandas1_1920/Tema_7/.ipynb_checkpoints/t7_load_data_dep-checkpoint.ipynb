{
 "cells": [
  {
   "cell_type": "markdown",
   "metadata": {},
   "source": [
    "\n",
    "# Importar y exportar datos"
   ]
  },
  {
   "cell_type": "markdown",
   "metadata": {},
   "source": [
    "Aunque otras librerías de Python proporcionan herramientas para importar y exportar datos, __pandas__ aporta una gran potencia a la hora de leer y/o escribir ficheros de datos. \n",
    "* Pandas es capaz de leer datos de ficheros en formatos:\n",
    "     * csv, \n",
    "     * txt,\n",
    "     * excel, \n",
    "     * json, \n",
    "     * html,\n",
    "     * xml, \n",
    "     * ..."
   ]
  },
  {
   "cell_type": "code",
   "execution_count": 1,
   "metadata": {
    "collapsed": true
   },
   "outputs": [],
   "source": [
    "import pandas as pd\n",
    "import numpy as np"
   ]
  },
  {
   "cell_type": "markdown",
   "metadata": {},
   "source": [
    "## Ficheros en formato de texto"
   ]
  },
  {
   "cell_type": "markdown",
   "metadata": {},
   "source": [
    "Las funciones  más utilizadas en pandas para leer datos en formato texto son __read_csv__ y __read_table__. \n",
    "Estas funciones ofrecen una gran flexibilidad a la hora de leer un fichero de texto plano.\n",
    "\n",
    "* __read_csv__: datos delimitados por comas\n",
    "* __read_table__:  datos delimitados por tabulador '\\t'\n",
    "* __read_fwf__: datos donde las columnas tienen tamaño fijo\n",
    "\n",
    "> Todas esta funciones transforman datos en DataFrames."
   ]
  },
  {
   "cell_type": "markdown",
   "metadata": {},
   "source": [
    "__Ejemplo 1__:\n",
    "\n",
    "El fichero [Animals2.csv](./datos/Animals2.csv) recoge información del peso medio del cuerpo y cerebro de 62 especies de animales."
   ]
  },
  {
   "cell_type": "code",
   "execution_count": 2,
   "metadata": {
    "collapsed": false
   },
   "outputs": [
    {
     "data": {
      "text/html": [
       "<div>\n",
       "<table border=\"1\" class=\"dataframe\">\n",
       "  <thead>\n",
       "    <tr style=\"text-align: right;\">\n",
       "      <th></th>\n",
       "      <th>Especie</th>\n",
       "      <th>Peso_cuerpo</th>\n",
       "      <th>Peso_cerebro</th>\n",
       "    </tr>\n",
       "  </thead>\n",
       "  <tbody>\n",
       "    <tr>\n",
       "      <th>0</th>\n",
       "      <td>Lesser short-tailed shrew</td>\n",
       "      <td>0.005</td>\n",
       "      <td>0.14</td>\n",
       "    </tr>\n",
       "    <tr>\n",
       "      <th>1</th>\n",
       "      <td>Little brown bat</td>\n",
       "      <td>0.010</td>\n",
       "      <td>0.25</td>\n",
       "    </tr>\n",
       "    <tr>\n",
       "      <th>2</th>\n",
       "      <td>Big brown bat</td>\n",
       "      <td>0.023</td>\n",
       "      <td>0.30</td>\n",
       "    </tr>\n",
       "    <tr>\n",
       "      <th>3</th>\n",
       "      <td>Mouse</td>\n",
       "      <td>0.023</td>\n",
       "      <td>0.40</td>\n",
       "    </tr>\n",
       "    <tr>\n",
       "      <th>4</th>\n",
       "      <td>Musk shrew</td>\n",
       "      <td>0.048</td>\n",
       "      <td>0.33</td>\n",
       "    </tr>\n",
       "    <tr>\n",
       "      <th>5</th>\n",
       "      <td>Star-nosed mole</td>\n",
       "      <td>0.060</td>\n",
       "      <td>1.00</td>\n",
       "    </tr>\n",
       "    <tr>\n",
       "      <th>6</th>\n",
       "      <td>E. American mole</td>\n",
       "      <td>0.075</td>\n",
       "      <td>1.20</td>\n",
       "    </tr>\n",
       "    <tr>\n",
       "      <th>7</th>\n",
       "      <td>Ground squirrel</td>\n",
       "      <td>0.101</td>\n",
       "      <td>4.00</td>\n",
       "    </tr>\n",
       "    <tr>\n",
       "      <th>8</th>\n",
       "      <td>Tree shrew</td>\n",
       "      <td>0.104</td>\n",
       "      <td>2.50</td>\n",
       "    </tr>\n",
       "    <tr>\n",
       "      <th>9</th>\n",
       "      <td>Golden hamster</td>\n",
       "      <td>0.120</td>\n",
       "      <td>1.00</td>\n",
       "    </tr>\n",
       "  </tbody>\n",
       "</table>\n",
       "</div>"
      ],
      "text/plain": [
       "                     Especie  Peso_cuerpo  Peso_cerebro\n",
       "0  Lesser short-tailed shrew        0.005          0.14\n",
       "1           Little brown bat        0.010          0.25\n",
       "2              Big brown bat        0.023          0.30\n",
       "3                      Mouse        0.023          0.40\n",
       "4                 Musk shrew        0.048          0.33\n",
       "5            Star-nosed mole        0.060          1.00\n",
       "6           E. American mole        0.075          1.20\n",
       "7            Ground squirrel        0.101          4.00\n",
       "8                 Tree shrew        0.104          2.50\n",
       "9             Golden hamster        0.120          1.00"
      ]
     },
     "execution_count": 2,
     "metadata": {},
     "output_type": "execute_result"
    }
   ],
   "source": [
    "tabla = pd.read_csv('datos/Animals2.csv', \n",
    "                    skiprows = 1,\n",
    "                    names = ['Especie', 'Peso_cuerpo', 'Peso_cerebro']\n",
    "                               )\n",
    "tabla.iloc[:10]    # muestro solo las 10 primeras entradas"
   ]
  },
  {
   "cell_type": "markdown",
   "metadata": {},
   "source": [
    "* __skiprows__ : indica el número de filas al comienzo del fichero que queremos ignorar.\n",
    "* __names__: indica el nombre de las columnas."
   ]
  },
  {
   "cell_type": "markdown",
   "metadata": {},
   "source": [
    "El resultado es un DataFrame."
   ]
  },
  {
   "cell_type": "markdown",
   "metadata": {},
   "source": [
    "Podemos cargar los datos indicando que la columna de índices será la columna 0, es decir, los nombres de las especies."
   ]
  },
  {
   "cell_type": "code",
   "execution_count": 3,
   "metadata": {
    "collapsed": false
   },
   "outputs": [
    {
     "data": {
      "text/html": [
       "<div>\n",
       "<table border=\"1\" class=\"dataframe\">\n",
       "  <thead>\n",
       "    <tr style=\"text-align: right;\">\n",
       "      <th></th>\n",
       "      <th>Peso_cuerpo</th>\n",
       "      <th>Peso_cerebro</th>\n",
       "    </tr>\n",
       "  </thead>\n",
       "  <tbody>\n",
       "    <tr>\n",
       "      <th>Lesser short-tailed shrew</th>\n",
       "      <td>0.005</td>\n",
       "      <td>0.14</td>\n",
       "    </tr>\n",
       "    <tr>\n",
       "      <th>Little brown bat</th>\n",
       "      <td>0.010</td>\n",
       "      <td>0.25</td>\n",
       "    </tr>\n",
       "    <tr>\n",
       "      <th>Big brown bat</th>\n",
       "      <td>0.023</td>\n",
       "      <td>0.30</td>\n",
       "    </tr>\n",
       "    <tr>\n",
       "      <th>Mouse</th>\n",
       "      <td>0.023</td>\n",
       "      <td>0.40</td>\n",
       "    </tr>\n",
       "    <tr>\n",
       "      <th>Musk shrew</th>\n",
       "      <td>0.048</td>\n",
       "      <td>0.33</td>\n",
       "    </tr>\n",
       "  </tbody>\n",
       "</table>\n",
       "</div>"
      ],
      "text/plain": [
       "                           Peso_cuerpo  Peso_cerebro\n",
       "Lesser short-tailed shrew        0.005          0.14\n",
       "Little brown bat                 0.010          0.25\n",
       "Big brown bat                    0.023          0.30\n",
       "Mouse                            0.023          0.40\n",
       "Musk shrew                       0.048          0.33"
      ]
     },
     "execution_count": 3,
     "metadata": {},
     "output_type": "execute_result"
    }
   ],
   "source": [
    "tabla = pd.read_csv('./datos/Animals2.csv',\n",
    "                                    skiprows = 1,   \n",
    "                                    names = ['Peso_cuerpo', 'Peso_cerebro'],\n",
    "                                    index_col = 0\n",
    "                               )\n",
    "\n",
    "tabla.head()    # muestro solo las 5 primeras entradas"
   ]
  },
  {
   "cell_type": "markdown",
   "metadata": {},
   "source": [
    "La función __read_table__ ofrece las mismas opciones que __read_csv__ y se usa cuando el delimitador es distinto de ','."
   ]
  },
  {
   "cell_type": "markdown",
   "metadata": {},
   "source": [
    "__Ejemplo 2__:\n",
    "\n",
    "El fichero [pedidos.csv](./datos/pedidos.csv) recoge la información de pedidos de ciertos productos, con la cantidad pedida y el precio de cada producto."
   ]
  },
  {
   "cell_type": "code",
   "execution_count": 4,
   "metadata": {
    "collapsed": false,
    "scrolled": false
   },
   "outputs": [
    {
     "data": {
      "text/html": [
       "<div>\n",
       "<table border=\"1\" class=\"dataframe\">\n",
       "  <thead>\n",
       "    <tr style=\"text-align: right;\">\n",
       "      <th></th>\n",
       "      <th>Numero_pedido</th>\n",
       "      <th>producto</th>\n",
       "      <th>cantidad</th>\n",
       "      <th>precio</th>\n",
       "      <th>linea_de_pedido</th>\n",
       "    </tr>\n",
       "  </thead>\n",
       "  <tbody>\n",
       "    <tr>\n",
       "      <th>0</th>\n",
       "      <td>10105</td>\n",
       "      <td>S700_2610</td>\n",
       "      <td>31</td>\n",
       "      <td>65.77</td>\n",
       "      <td>3</td>\n",
       "    </tr>\n",
       "    <tr>\n",
       "      <th>1</th>\n",
       "      <td>10105</td>\n",
       "      <td>S700_3505</td>\n",
       "      <td>39</td>\n",
       "      <td>81.14</td>\n",
       "      <td>6</td>\n",
       "    </tr>\n",
       "    <tr>\n",
       "      <th>2</th>\n",
       "      <td>10105</td>\n",
       "      <td>S700_3962</td>\n",
       "      <td>22</td>\n",
       "      <td>116.19</td>\n",
       "      <td>7</td>\n",
       "    </tr>\n",
       "    <tr>\n",
       "      <th>3</th>\n",
       "      <td>10105</td>\n",
       "      <td>S72_3212</td>\n",
       "      <td>25</td>\n",
       "      <td>56.78</td>\n",
       "      <td>8</td>\n",
       "    </tr>\n",
       "    <tr>\n",
       "      <th>4</th>\n",
       "      <td>10106</td>\n",
       "      <td>S18_1662</td>\n",
       "      <td>36</td>\n",
       "      <td>146.65</td>\n",
       "      <td>12</td>\n",
       "    </tr>\n",
       "  </tbody>\n",
       "</table>\n",
       "</div>"
      ],
      "text/plain": [
       "   Numero_pedido   producto  cantidad  precio  linea_de_pedido\n",
       "0          10105  S700_2610        31   65.77                3\n",
       "1          10105  S700_3505        39   81.14                6\n",
       "2          10105  S700_3962        22  116.19                7\n",
       "3          10105   S72_3212        25   56.78                8\n",
       "4          10106   S18_1662        36  146.65               12"
      ]
     },
     "execution_count": 4,
     "metadata": {},
     "output_type": "execute_result"
    }
   ],
   "source": [
    "tabla_pedidos = pd.read_csv('./datos/pedidos.csv')\n",
    "tabla_pedidos.head()"
   ]
  },
  {
   "cell_type": "markdown",
   "metadata": {},
   "source": [
    "En este caso, podemos cargar los datos en un DataFrame donde los índices sean un __índice multinivel__ compuesto por el número de pedido y la línea de pedido."
   ]
  },
  {
   "cell_type": "code",
   "execution_count": 5,
   "metadata": {
    "collapsed": false
   },
   "outputs": [
    {
     "data": {
      "text/html": [
       "<div>\n",
       "<table border=\"1\" class=\"dataframe\">\n",
       "  <thead>\n",
       "    <tr style=\"text-align: right;\">\n",
       "      <th></th>\n",
       "      <th></th>\n",
       "      <th>producto</th>\n",
       "      <th>cantidad</th>\n",
       "      <th>precio</th>\n",
       "    </tr>\n",
       "    <tr>\n",
       "      <th>Numero_pedido</th>\n",
       "      <th>linea_de_pedido</th>\n",
       "      <th></th>\n",
       "      <th></th>\n",
       "      <th></th>\n",
       "    </tr>\n",
       "  </thead>\n",
       "  <tbody>\n",
       "    <tr>\n",
       "      <th rowspan=\"4\" valign=\"top\">10105</th>\n",
       "      <th>3</th>\n",
       "      <td>S700_2610</td>\n",
       "      <td>31</td>\n",
       "      <td>65.77</td>\n",
       "    </tr>\n",
       "    <tr>\n",
       "      <th>6</th>\n",
       "      <td>S700_3505</td>\n",
       "      <td>39</td>\n",
       "      <td>81.14</td>\n",
       "    </tr>\n",
       "    <tr>\n",
       "      <th>7</th>\n",
       "      <td>S700_3962</td>\n",
       "      <td>22</td>\n",
       "      <td>116.19</td>\n",
       "    </tr>\n",
       "    <tr>\n",
       "      <th>8</th>\n",
       "      <td>S72_3212</td>\n",
       "      <td>25</td>\n",
       "      <td>56.78</td>\n",
       "    </tr>\n",
       "    <tr>\n",
       "      <th rowspan=\"6\" valign=\"top\">10106</th>\n",
       "      <th>12</th>\n",
       "      <td>S18_1662</td>\n",
       "      <td>36</td>\n",
       "      <td>146.65</td>\n",
       "    </tr>\n",
       "    <tr>\n",
       "      <th>2</th>\n",
       "      <td>S18_2581</td>\n",
       "      <td>34</td>\n",
       "      <td>90.39</td>\n",
       "    </tr>\n",
       "    <tr>\n",
       "      <th>18</th>\n",
       "      <td>S18_3029</td>\n",
       "      <td>41</td>\n",
       "      <td>83.44</td>\n",
       "    </tr>\n",
       "    <tr>\n",
       "      <th>17</th>\n",
       "      <td>S18_3856</td>\n",
       "      <td>41</td>\n",
       "      <td>116.46</td>\n",
       "    </tr>\n",
       "    <tr>\n",
       "      <th>4</th>\n",
       "      <td>S24_1785</td>\n",
       "      <td>28</td>\n",
       "      <td>88.63</td>\n",
       "    </tr>\n",
       "    <tr>\n",
       "      <th>13</th>\n",
       "      <td>S24_2841</td>\n",
       "      <td>49</td>\n",
       "      <td>74.68</td>\n",
       "    </tr>\n",
       "  </tbody>\n",
       "</table>\n",
       "</div>"
      ],
      "text/plain": [
       "                                producto  cantidad  precio\n",
       "Numero_pedido linea_de_pedido                             \n",
       "10105         3                S700_2610        31   65.77\n",
       "              6                S700_3505        39   81.14\n",
       "              7                S700_3962        22  116.19\n",
       "              8                 S72_3212        25   56.78\n",
       "10106         12                S18_1662        36  146.65\n",
       "              2                 S18_2581        34   90.39\n",
       "              18                S18_3029        41   83.44\n",
       "              17                S18_3856        41  116.46\n",
       "              4                 S24_1785        28   88.63\n",
       "              13                S24_2841        49   74.68"
      ]
     },
     "execution_count": 5,
     "metadata": {},
     "output_type": "execute_result"
    }
   ],
   "source": [
    "# indicando columnas de índices mediante lista de enteros\n",
    "tabla_pedidos = pd.read_csv('./datos/pedidos.csv', \n",
    "                            index_col = [0,4])\n",
    "\n",
    "tabla_pedidos.iloc[:10]    # muestro solo las 10 primeras entradas"
   ]
  },
  {
   "cell_type": "code",
   "execution_count": 6,
   "metadata": {
    "collapsed": false
   },
   "outputs": [
    {
     "data": {
      "text/html": [
       "<div>\n",
       "<table border=\"1\" class=\"dataframe\">\n",
       "  <thead>\n",
       "    <tr style=\"text-align: right;\">\n",
       "      <th></th>\n",
       "      <th>producto</th>\n",
       "      <th>cantidad</th>\n",
       "      <th>precio</th>\n",
       "    </tr>\n",
       "    <tr>\n",
       "      <th>linea_de_pedido</th>\n",
       "      <th></th>\n",
       "      <th></th>\n",
       "      <th></th>\n",
       "    </tr>\n",
       "  </thead>\n",
       "  <tbody>\n",
       "    <tr>\n",
       "      <th>3</th>\n",
       "      <td>S700_2610</td>\n",
       "      <td>31</td>\n",
       "      <td>65.77</td>\n",
       "    </tr>\n",
       "    <tr>\n",
       "      <th>6</th>\n",
       "      <td>S700_3505</td>\n",
       "      <td>39</td>\n",
       "      <td>81.14</td>\n",
       "    </tr>\n",
       "    <tr>\n",
       "      <th>7</th>\n",
       "      <td>S700_3962</td>\n",
       "      <td>22</td>\n",
       "      <td>116.19</td>\n",
       "    </tr>\n",
       "    <tr>\n",
       "      <th>8</th>\n",
       "      <td>S72_3212</td>\n",
       "      <td>25</td>\n",
       "      <td>56.78</td>\n",
       "    </tr>\n",
       "  </tbody>\n",
       "</table>\n",
       "</div>"
      ],
      "text/plain": [
       "                  producto  cantidad  precio\n",
       "linea_de_pedido                             \n",
       "3                S700_2610        31   65.77\n",
       "6                S700_3505        39   81.14\n",
       "7                S700_3962        22  116.19\n",
       "8                 S72_3212        25   56.78"
      ]
     },
     "execution_count": 6,
     "metadata": {},
     "output_type": "execute_result"
    }
   ],
   "source": [
    "# Acceso a los datos del pedido 10105\n",
    "tabla_pedidos.loc[10105]"
   ]
  },
  {
   "cell_type": "markdown",
   "metadata": {},
   "source": [
    "### Tratamiento de valores perdidos (missing values)"
   ]
  },
  {
   "cell_type": "markdown",
   "metadata": {},
   "source": [
    "El término valores perdidos (missing values) se refiere a los valores que no aparecen o que se encuentran marcados con un valor por defecto.\n",
    "\n",
    "Por defecto pandas permite el tratamiento de varios valores por defecto: __NA__, __NULL__ y __-1.#IND__(indeterminación)."
   ]
  },
  {
   "cell_type": "markdown",
   "metadata": {},
   "source": [
    "__Ejemplo 4__:\n",
    "\n",
    "El fichero [actor.csv](./datos/actor.csv) recoge cierta información personal de actores: nombre, apellido y teléfono. En algunos casos el dato de teléfono no se conoce, por lo que es NULL en unos casos y está vacío en otros."
   ]
  },
  {
   "cell_type": "code",
   "execution_count": 7,
   "metadata": {
    "collapsed": false,
    "scrolled": false
   },
   "outputs": [
    {
     "data": {
      "text/html": [
       "<div>\n",
       "<table border=\"1\" class=\"dataframe\">\n",
       "  <thead>\n",
       "    <tr style=\"text-align: right;\">\n",
       "      <th></th>\n",
       "      <th>actor_id</th>\n",
       "      <th>first_name</th>\n",
       "      <th>last_name</th>\n",
       "      <th>last_update</th>\n",
       "      <th>tlf</th>\n",
       "    </tr>\n",
       "  </thead>\n",
       "  <tbody>\n",
       "    <tr>\n",
       "      <th>0</th>\n",
       "      <td>61</td>\n",
       "      <td>CHRISTIAN</td>\n",
       "      <td>NEESON</td>\n",
       "      <td>2006-02-15 04:34:33</td>\n",
       "      <td>4784.0</td>\n",
       "    </tr>\n",
       "    <tr>\n",
       "      <th>1</th>\n",
       "      <td>62</td>\n",
       "      <td>JAYNE</td>\n",
       "      <td>NEESON</td>\n",
       "      <td>-1</td>\n",
       "      <td>5555.0</td>\n",
       "    </tr>\n",
       "    <tr>\n",
       "      <th>2</th>\n",
       "      <td>63</td>\n",
       "      <td>CAMERON</td>\n",
       "      <td>WRAY</td>\n",
       "      <td>-1</td>\n",
       "      <td>NaN</td>\n",
       "    </tr>\n",
       "    <tr>\n",
       "      <th>3</th>\n",
       "      <td>64</td>\n",
       "      <td>RAY</td>\n",
       "      <td>JOHANSSON</td>\n",
       "      <td>2006-02-15 04:34:33</td>\n",
       "      <td>1234.0</td>\n",
       "    </tr>\n",
       "    <tr>\n",
       "      <th>4</th>\n",
       "      <td>65</td>\n",
       "      <td>ANGELA</td>\n",
       "      <td>HUDSON</td>\n",
       "      <td>2006-02-15 04:34:33</td>\n",
       "      <td>8976.0</td>\n",
       "    </tr>\n",
       "    <tr>\n",
       "      <th>5</th>\n",
       "      <td>66</td>\n",
       "      <td>MARY</td>\n",
       "      <td>TANDY</td>\n",
       "      <td>2006-02-15 04:34:33</td>\n",
       "      <td>2356.0</td>\n",
       "    </tr>\n",
       "    <tr>\n",
       "      <th>6</th>\n",
       "      <td>67</td>\n",
       "      <td>JESSICA</td>\n",
       "      <td>BAILEY</td>\n",
       "      <td>-1</td>\n",
       "      <td>NaN</td>\n",
       "    </tr>\n",
       "    <tr>\n",
       "      <th>7</th>\n",
       "      <td>68</td>\n",
       "      <td>RIP</td>\n",
       "      <td>WINSLET</td>\n",
       "      <td>2006-02-15 04:34:33</td>\n",
       "      <td>NaN</td>\n",
       "    </tr>\n",
       "    <tr>\n",
       "      <th>8</th>\n",
       "      <td>69</td>\n",
       "      <td>KENNETH</td>\n",
       "      <td>PALTROW</td>\n",
       "      <td>2006-02-15 04:34:33</td>\n",
       "      <td>NaN</td>\n",
       "    </tr>\n",
       "    <tr>\n",
       "      <th>9</th>\n",
       "      <td>70</td>\n",
       "      <td>MICHELLE</td>\n",
       "      <td>MCCONAUGHEY</td>\n",
       "      <td>2006-02-15 04:34:33</td>\n",
       "      <td>NaN</td>\n",
       "    </tr>\n",
       "  </tbody>\n",
       "</table>\n",
       "</div>"
      ],
      "text/plain": [
       "   actor_id first_name    last_name          last_update     tlf\n",
       "0        61  CHRISTIAN       NEESON  2006-02-15 04:34:33  4784.0\n",
       "1        62      JAYNE       NEESON                   -1  5555.0\n",
       "2        63    CAMERON         WRAY                   -1     NaN\n",
       "3        64        RAY    JOHANSSON  2006-02-15 04:34:33  1234.0\n",
       "4        65     ANGELA       HUDSON  2006-02-15 04:34:33  8976.0\n",
       "5        66       MARY        TANDY  2006-02-15 04:34:33  2356.0\n",
       "6        67    JESSICA       BAILEY                   -1     NaN\n",
       "7        68        RIP      WINSLET  2006-02-15 04:34:33     NaN\n",
       "8        69    KENNETH      PALTROW  2006-02-15 04:34:33     NaN\n",
       "9        70   MICHELLE  MCCONAUGHEY  2006-02-15 04:34:33     NaN"
      ]
     },
     "execution_count": 7,
     "metadata": {},
     "output_type": "execute_result"
    }
   ],
   "source": [
    "tabla_actores = pd.read_csv('./datos/actor.csv')\n",
    "primeros = tabla_actores.iloc[:10]    # muestro solo las 10 primeras entradas\n",
    "primeros"
   ]
  },
  {
   "cell_type": "markdown",
   "metadata": {},
   "source": [
    "* En el ejemplo anterior, cuando no se conoce la fecha de la columna __last_update__ aparece el valor __-1__. \n",
    "\n",
    "* La función __read_csv__ se puede utilizar con la opción __na_values__ junto con una lista de valores por defecto (por columna) que han de ser sustituidos por __NaN__.\n",
    "\n",
    "En el ejemplo anterior, queremos sustituir los valores __-1__ de la columna __last_update__ por __NaN__."
   ]
  },
  {
   "cell_type": "code",
   "execution_count": 8,
   "metadata": {
    "collapsed": false
   },
   "outputs": [
    {
     "data": {
      "text/html": [
       "<div>\n",
       "<table border=\"1\" class=\"dataframe\">\n",
       "  <thead>\n",
       "    <tr style=\"text-align: right;\">\n",
       "      <th></th>\n",
       "      <th>actor_id</th>\n",
       "      <th>first_name</th>\n",
       "      <th>last_name</th>\n",
       "      <th>last_update</th>\n",
       "      <th>tlf</th>\n",
       "    </tr>\n",
       "  </thead>\n",
       "  <tbody>\n",
       "    <tr>\n",
       "      <th>0</th>\n",
       "      <td>61</td>\n",
       "      <td>CHRISTIAN</td>\n",
       "      <td>NEESON</td>\n",
       "      <td>2006-02-15 04:34:33</td>\n",
       "      <td>4784.0</td>\n",
       "    </tr>\n",
       "    <tr>\n",
       "      <th>1</th>\n",
       "      <td>62</td>\n",
       "      <td>JAYNE</td>\n",
       "      <td>NEESON</td>\n",
       "      <td>NaN</td>\n",
       "      <td>5555.0</td>\n",
       "    </tr>\n",
       "    <tr>\n",
       "      <th>2</th>\n",
       "      <td>63</td>\n",
       "      <td>CAMERON</td>\n",
       "      <td>WRAY</td>\n",
       "      <td>NaN</td>\n",
       "      <td>NaN</td>\n",
       "    </tr>\n",
       "    <tr>\n",
       "      <th>3</th>\n",
       "      <td>64</td>\n",
       "      <td>RAY</td>\n",
       "      <td>JOHANSSON</td>\n",
       "      <td>2006-02-15 04:34:33</td>\n",
       "      <td>1234.0</td>\n",
       "    </tr>\n",
       "    <tr>\n",
       "      <th>4</th>\n",
       "      <td>65</td>\n",
       "      <td>ANGELA</td>\n",
       "      <td>HUDSON</td>\n",
       "      <td>2006-02-15 04:34:33</td>\n",
       "      <td>8976.0</td>\n",
       "    </tr>\n",
       "    <tr>\n",
       "      <th>5</th>\n",
       "      <td>66</td>\n",
       "      <td>MARY</td>\n",
       "      <td>TANDY</td>\n",
       "      <td>2006-02-15 04:34:33</td>\n",
       "      <td>2356.0</td>\n",
       "    </tr>\n",
       "    <tr>\n",
       "      <th>6</th>\n",
       "      <td>67</td>\n",
       "      <td>JESSICA</td>\n",
       "      <td>BAILEY</td>\n",
       "      <td>NaN</td>\n",
       "      <td>NaN</td>\n",
       "    </tr>\n",
       "    <tr>\n",
       "      <th>7</th>\n",
       "      <td>68</td>\n",
       "      <td>RIP</td>\n",
       "      <td>WINSLET</td>\n",
       "      <td>2006-02-15 04:34:33</td>\n",
       "      <td>NaN</td>\n",
       "    </tr>\n",
       "    <tr>\n",
       "      <th>8</th>\n",
       "      <td>69</td>\n",
       "      <td>KENNETH</td>\n",
       "      <td>PALTROW</td>\n",
       "      <td>2006-02-15 04:34:33</td>\n",
       "      <td>NaN</td>\n",
       "    </tr>\n",
       "    <tr>\n",
       "      <th>9</th>\n",
       "      <td>70</td>\n",
       "      <td>MICHELLE</td>\n",
       "      <td>MCCONAUGHEY</td>\n",
       "      <td>2006-02-15 04:34:33</td>\n",
       "      <td>NaN</td>\n",
       "    </tr>\n",
       "  </tbody>\n",
       "</table>\n",
       "</div>"
      ],
      "text/plain": [
       "   actor_id first_name    last_name          last_update     tlf\n",
       "0        61  CHRISTIAN       NEESON  2006-02-15 04:34:33  4784.0\n",
       "1        62      JAYNE       NEESON                  NaN  5555.0\n",
       "2        63    CAMERON         WRAY                  NaN     NaN\n",
       "3        64        RAY    JOHANSSON  2006-02-15 04:34:33  1234.0\n",
       "4        65     ANGELA       HUDSON  2006-02-15 04:34:33  8976.0\n",
       "5        66       MARY        TANDY  2006-02-15 04:34:33  2356.0\n",
       "6        67    JESSICA       BAILEY                  NaN     NaN\n",
       "7        68        RIP      WINSLET  2006-02-15 04:34:33     NaN\n",
       "8        69    KENNETH      PALTROW  2006-02-15 04:34:33     NaN\n",
       "9        70   MICHELLE  MCCONAUGHEY  2006-02-15 04:34:33     NaN"
      ]
     },
     "execution_count": 8,
     "metadata": {},
     "output_type": "execute_result"
    }
   ],
   "source": [
    "tabla_actores = pd.read_csv('./datos/actor.csv', \n",
    "                            na_values = {'last_update': [ -1]} )\n",
    "\n",
    "primeros = tabla_actores.iloc[:10]    # muestro solo las 10 primeras entradas\n",
    "primeros"
   ]
  },
  {
   "cell_type": "markdown",
   "metadata": {},
   "source": [
    "### Exportando datos"
   ]
  },
  {
   "cell_type": "markdown",
   "metadata": {},
   "source": [
    "Pandas ofrece diferentes funciones para exportar datos en diferentes formatos.\n",
    "\n",
    "* Para exportar un DataFrame a un fichero con extensión __csv__  utilizamos la función [__to_csv__](http://pandas.pydata.org/pandas-docs/stable/generated/pandas.DataFrame.to_csv.html):"
   ]
  },
  {
   "cell_type": "code",
   "execution_count": 9,
   "metadata": {
    "collapsed": false
   },
   "outputs": [],
   "source": [
    "tabla_actores.to_csv('./datos/tabla_actores_procesed.csv')"
   ]
  },
  {
   "cell_type": "markdown",
   "metadata": {},
   "source": [
    "Admite una gran cantidad de parámetros. Opcionalmente podemos generar un fichero csv con cabeceras o sin ellas, con índices o sin ellos."
   ]
  },
  {
   "cell_type": "code",
   "execution_count": 10,
   "metadata": {
    "collapsed": false
   },
   "outputs": [],
   "source": [
    "tabla_actores.to_csv('./datos/tabla_actores_procesed.csv',\n",
    "                      header = False, index = False)"
   ]
  },
  {
   "cell_type": "markdown",
   "metadata": {},
   "source": [
    "* Para exportar un DataFrame a un fichero con extensión xls utilizamos la función __to_excel__:"
   ]
  },
  {
   "cell_type": "code",
   "execution_count": 11,
   "metadata": {
    "collapsed": true
   },
   "outputs": [],
   "source": [
    "tabla_actores.to_excel('./datos/tabla_actores_procesed.xls')"
   ]
  },
  {
   "cell_type": "markdown",
   "metadata": {},
   "source": [
    "## Importando ficheros en formato Excel"
   ]
  },
  {
   "cell_type": "markdown",
   "metadata": {},
   "source": [
    "Tenemos varias opciones para leer datos de una hoja de cálculo en formato xls. La función [__read_excel__](http://pandas.pydata.org/pandas-docs/stable/generated/pandas.read_excel.html) permite leer una tabla en formato excel y convertirla en un objeto DataFrame.\n",
    "\n",
    "Por defecto lee la primera hoja dentro del libro, pero se puede indicar que lea otra hoja con el parámetro __sheetname__."
   ]
  },
  {
   "cell_type": "code",
   "execution_count": 12,
   "metadata": {
    "collapsed": false
   },
   "outputs": [],
   "source": [
    "import pandas as pd\n",
    "tabla = pd.read_excel('./datos/clientes.xlsx')  "
   ]
  },
  {
   "cell_type": "code",
   "execution_count": 13,
   "metadata": {
    "collapsed": false
   },
   "outputs": [
    {
     "data": {
      "text/html": [
       "<div>\n",
       "<table border=\"1\" class=\"dataframe\">\n",
       "  <thead>\n",
       "    <tr style=\"text-align: right;\">\n",
       "      <th></th>\n",
       "      <th>CODCLI</th>\n",
       "      <th>NOMCLI</th>\n",
       "      <th>FONOCLI</th>\n",
       "      <th>SEXO</th>\n",
       "      <th>CODDIS</th>\n",
       "    </tr>\n",
       "  </thead>\n",
       "  <tbody>\n",
       "    <tr>\n",
       "      <th>15</th>\n",
       "      <td>CLI-0016</td>\n",
       "      <td>MARIA ISABEL</td>\n",
       "      <td>6302104</td>\n",
       "      <td>F</td>\n",
       "      <td>DIS-08</td>\n",
       "    </tr>\n",
       "    <tr>\n",
       "      <th>16</th>\n",
       "      <td>CLI-0017</td>\n",
       "      <td>RAUL ANDRES</td>\n",
       "      <td>8574123</td>\n",
       "      <td>M</td>\n",
       "      <td>DIS-20</td>\n",
       "    </tr>\n",
       "    <tr>\n",
       "      <th>17</th>\n",
       "      <td>CLI-0018</td>\n",
       "      <td>SAULO ANDRE</td>\n",
       "      <td>5874123</td>\n",
       "      <td>M</td>\n",
       "      <td>DIS-07</td>\n",
       "    </tr>\n",
       "    <tr>\n",
       "      <th>18</th>\n",
       "      <td>CLI-0019</td>\n",
       "      <td>LUCIA MILAGROS</td>\n",
       "      <td>6875210</td>\n",
       "      <td>F</td>\n",
       "      <td>DIS-20</td>\n",
       "    </tr>\n",
       "    <tr>\n",
       "      <th>19</th>\n",
       "      <td>CLI-0020</td>\n",
       "      <td>MONICA LISSET</td>\n",
       "      <td>6301478</td>\n",
       "      <td>F</td>\n",
       "      <td>DIS-11</td>\n",
       "    </tr>\n",
       "  </tbody>\n",
       "</table>\n",
       "</div>"
      ],
      "text/plain": [
       "      CODCLI          NOMCLI  FONOCLI SEXO  CODDIS\n",
       "15  CLI-0016    MARIA ISABEL  6302104    F  DIS-08\n",
       "16  CLI-0017     RAUL ANDRES  8574123    M  DIS-20\n",
       "17  CLI-0018     SAULO ANDRE  5874123    M  DIS-07\n",
       "18  CLI-0019  LUCIA MILAGROS  6875210    F  DIS-20\n",
       "19  CLI-0020   MONICA LISSET  6301478    F  DIS-11"
      ]
     },
     "execution_count": 13,
     "metadata": {},
     "output_type": "execute_result"
    }
   ],
   "source": [
    "tabla.tail()          # muestra las 5 últimas filas"
   ]
  },
  {
   "cell_type": "markdown",
   "metadata": {},
   "source": [
    "Si el documento excel tiene varias hojas, es posible cargar una de ellas indicando el nombre de dicha hoja."
   ]
  },
  {
   "cell_type": "code",
   "execution_count": 14,
   "metadata": {
    "collapsed": false,
    "scrolled": true
   },
   "outputs": [
    {
     "data": {
      "text/html": [
       "<div>\n",
       "<table border=\"1\" class=\"dataframe\">\n",
       "  <thead>\n",
       "    <tr style=\"text-align: right;\">\n",
       "      <th></th>\n",
       "      <th>CODCLI</th>\n",
       "      <th>NOMCLI</th>\n",
       "      <th>FONOCLI</th>\n",
       "      <th>SEXO</th>\n",
       "      <th>CODDIS</th>\n",
       "    </tr>\n",
       "  </thead>\n",
       "  <tbody>\n",
       "    <tr>\n",
       "      <th>15</th>\n",
       "      <td>CLI-0016</td>\n",
       "      <td>MARIA ISABEL</td>\n",
       "      <td>6302104</td>\n",
       "      <td>F</td>\n",
       "      <td>DIS-08</td>\n",
       "    </tr>\n",
       "    <tr>\n",
       "      <th>16</th>\n",
       "      <td>CLI-0017</td>\n",
       "      <td>RAUL ANDRES</td>\n",
       "      <td>8574123</td>\n",
       "      <td>M</td>\n",
       "      <td>DIS-20</td>\n",
       "    </tr>\n",
       "    <tr>\n",
       "      <th>17</th>\n",
       "      <td>CLI-0018</td>\n",
       "      <td>SAULO ANDRE</td>\n",
       "      <td>5874123</td>\n",
       "      <td>M</td>\n",
       "      <td>DIS-07</td>\n",
       "    </tr>\n",
       "    <tr>\n",
       "      <th>18</th>\n",
       "      <td>CLI-0019</td>\n",
       "      <td>LUCIA MILAGROS</td>\n",
       "      <td>6875210</td>\n",
       "      <td>F</td>\n",
       "      <td>DIS-20</td>\n",
       "    </tr>\n",
       "    <tr>\n",
       "      <th>19</th>\n",
       "      <td>CLI-0020</td>\n",
       "      <td>MONICA LISSET</td>\n",
       "      <td>6301478</td>\n",
       "      <td>F</td>\n",
       "      <td>DIS-11</td>\n",
       "    </tr>\n",
       "  </tbody>\n",
       "</table>\n",
       "</div>"
      ],
      "text/plain": [
       "      CODCLI          NOMCLI  FONOCLI SEXO  CODDIS\n",
       "15  CLI-0016    MARIA ISABEL  6302104    F  DIS-08\n",
       "16  CLI-0017     RAUL ANDRES  8574123    M  DIS-20\n",
       "17  CLI-0018     SAULO ANDRE  5874123    M  DIS-07\n",
       "18  CLI-0019  LUCIA MILAGROS  6875210    F  DIS-20\n",
       "19  CLI-0020   MONICA LISSET  6301478    F  DIS-11"
      ]
     },
     "execution_count": 14,
     "metadata": {},
     "output_type": "execute_result"
    }
   ],
   "source": [
    "tabla= pd.read_excel('./datos/clientes.xlsx', \n",
    "                   sheetname = \"Enero\")    \n",
    "tabla.tail()"
   ]
  },
  {
   "cell_type": "markdown",
   "metadata": {},
   "source": [
    "La función __read_excel__ admite muchas opciones (saltar cabeceras, ignorar pies de página, aplicar conversiones en columnas, etc)."
   ]
  },
  {
   "cell_type": "markdown",
   "metadata": {},
   "source": [
    "## References\n",
    "\n"
   ]
  },
  {
   "cell_type": "markdown",
   "metadata": {},
   "source": [
    "* [Python for Data Analysis](http://shop.oreilly.com/product/0636920023784.do)\n",
    "\n",
    "------"
   ]
  }
 ],
 "metadata": {
  "anaconda-cloud": {},
  "kernelspec": {
   "display_name": "Python 3",
   "language": "python",
   "name": "python3"
  },
  "language_info": {
   "codemirror_mode": {
    "name": "ipython",
    "version": 3
   },
   "file_extension": ".py",
   "mimetype": "text/x-python",
   "name": "python",
   "nbconvert_exporter": "python",
   "pygments_lexer": "ipython3",
   "version": "3.6.0"
  },
  "toc": {
   "colors": {
    "hover_highlight": "#DAA520",
    "running_highlight": "#FF0000",
    "selected_highlight": "#FFD700"
   },
   "moveMenuLeft": true,
   "nav_menu": {
    "height": "159px",
    "width": "252px"
   },
   "navigate_menu": true,
   "number_sections": true,
   "sideBar": true,
   "threshold": 4,
   "toc_cell": false,
   "toc_section_display": "block",
   "toc_window_display": true,
   "widenNotebook": false
  }
 },
 "nbformat": 4,
 "nbformat_minor": 0
}
