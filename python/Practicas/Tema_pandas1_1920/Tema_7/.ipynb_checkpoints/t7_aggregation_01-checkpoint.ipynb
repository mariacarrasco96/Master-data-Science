{
 "cells": [
  {
   "cell_type": "markdown",
   "metadata": {},
   "source": [
    "\n",
    "# Grupos y  operaciones de agregación"
   ]
  },
  {
   "cell_type": "code",
   "execution_count": 1,
   "metadata": {
    "collapsed": true
   },
   "outputs": [],
   "source": [
    "import numpy as np\n",
    "import pandas as pd"
   ]
  },
  {
   "cell_type": "markdown",
   "metadata": {},
   "source": [
    "Después de cargar los datos y procesarlos (limpiar y preparar) una de las tareas más habituales es agrupar los datos en base a alguna variable cualitativa, para posteriormente realizar alguna operación sobre cada uno de los grupos obtenidos.\n",
    "\n",
    "Pandas proporciona la operación __groupby__ para este fin. La operación __groupgy__ se define como la unión de tres procesos (dividir-aplicar-combinar los resultados).\n",
    "\n",
    "* __Dividir__: Los datos se dividen en grupos en base a una o más claves. Por ejemplo es posible hacer grupos de filas (axis = 0) o hacer grupos de columnas (axis = 1)\n",
    "\n",
    "* __Aplicar__: Una vez creados los grupos, es posible realizar alguna tarea con cada grupo:\n",
    "    * __Agregación__: Se aplica una función (predefinida o de usuario) a cada uno de los grupos (sum, mean, count, max, etc) de forma que se obtiene como resultado un valor para cada grupo. \n",
    "    * __Transformación__: Se aplica una función a cada grupo y se obtiene como resultado una Serie de datos. El resultado es el DataFrame original con una nueva columna(s) que es el resultado de la función.\n",
    "    * __Filtro__: permite descartar alguno de los grupos en base a algún criterio (grupos con pocos miembros, etc)\n",
    "    \n",
    "\n",
    "* __Combinar los resultados__: Los resultados de la función de agregación se combinan en una única estructura"
   ]
  },
  {
   "cell_type": "markdown",
   "metadata": {},
   "source": [
    "__Ejemplo:__\n",
    "\n",
    "Dado el fichero [worldLanAll.csv](./datos/worldLanAll.csv), supongamos que nos interesa conocer el número de idiomas que se hablan en los distintos países: "
   ]
  },
  {
   "cell_type": "code",
   "execution_count": 2,
   "metadata": {
    "collapsed": false
   },
   "outputs": [
    {
     "data": {
      "text/html": [
       "<div>\n",
       "<table border=\"1\" class=\"dataframe\">\n",
       "  <thead>\n",
       "    <tr style=\"text-align: right;\">\n",
       "      <th></th>\n",
       "      <th>Pais</th>\n",
       "      <th>Continente</th>\n",
       "      <th>Idioma</th>\n",
       "      <th>% Poblacion</th>\n",
       "    </tr>\n",
       "  </thead>\n",
       "  <tbody>\n",
       "    <tr>\n",
       "      <th>0</th>\n",
       "      <td>Aruba</td>\n",
       "      <td>North America</td>\n",
       "      <td>Dutch</td>\n",
       "      <td>5.3</td>\n",
       "    </tr>\n",
       "    <tr>\n",
       "      <th>1</th>\n",
       "      <td>Aruba</td>\n",
       "      <td>North America</td>\n",
       "      <td>English</td>\n",
       "      <td>9.5</td>\n",
       "    </tr>\n",
       "    <tr>\n",
       "      <th>2</th>\n",
       "      <td>Aruba</td>\n",
       "      <td>North America</td>\n",
       "      <td>Papiamento</td>\n",
       "      <td>76.7</td>\n",
       "    </tr>\n",
       "    <tr>\n",
       "      <th>3</th>\n",
       "      <td>Aruba</td>\n",
       "      <td>North America</td>\n",
       "      <td>Spanish</td>\n",
       "      <td>7.4</td>\n",
       "    </tr>\n",
       "    <tr>\n",
       "      <th>4</th>\n",
       "      <td>Afghanistan</td>\n",
       "      <td>Asia</td>\n",
       "      <td>Balochi</td>\n",
       "      <td>0.9</td>\n",
       "    </tr>\n",
       "  </tbody>\n",
       "</table>\n",
       "</div>"
      ],
      "text/plain": [
       "          Pais     Continente      Idioma  % Poblacion\n",
       "0        Aruba  North America       Dutch          5.3\n",
       "1        Aruba  North America     English          9.5\n",
       "2        Aruba  North America  Papiamento         76.7\n",
       "3        Aruba  North America     Spanish          7.4\n",
       "4  Afghanistan           Asia     Balochi          0.9"
      ]
     },
     "execution_count": 2,
     "metadata": {},
     "output_type": "execute_result"
    }
   ],
   "source": [
    "tabla_idiomas = pd.read_table('./datos/worldLanAll.csv', delimiter = ';',                              \n",
    "                               names = ['Pais', 'Continente', 'Idioma', '% Poblacion']\n",
    "                             )\n",
    "tabla_idiomas.head()\n"
   ]
  },
  {
   "cell_type": "code",
   "execution_count": 3,
   "metadata": {
    "collapsed": false
   },
   "outputs": [],
   "source": [
    "# Primera fase: Dividir\n",
    "grupos = tabla_idiomas.groupby(['Pais'])"
   ]
  },
  {
   "cell_type": "markdown",
   "metadata": {},
   "source": [
    "Como resultado de agrupar los datos, Python nos devuelve un objeto de tipo _Groupby_."
   ]
  },
  {
   "cell_type": "code",
   "execution_count": 4,
   "metadata": {
    "collapsed": false
   },
   "outputs": [
    {
     "data": {
      "text/plain": [
       "31"
      ]
     },
     "execution_count": 4,
     "metadata": {},
     "output_type": "execute_result"
    }
   ],
   "source": [
    "# Calculo el número de grupos (número de países)\n",
    "len(tabla_idiomas.groupby(['Pais']))      \n",
    "len(grupos)"
   ]
  },
  {
   "cell_type": "code",
   "execution_count": 5,
   "metadata": {
    "collapsed": false
   },
   "outputs": [
    {
     "data": {
      "text/plain": [
       "Pais\n",
       "Afghanistan               5\n",
       "Albania                   3\n",
       "American Samoa            3\n",
       "Andorra                   4\n",
       "Angola                    9\n",
       "Anguilla                  1\n",
       "Antigua and Barbuda       2\n",
       "Argentina                 3\n",
       "Armenia                   2\n",
       "Aruba                     4\n",
       "Australia                 8\n",
       "Austria                   8\n",
       "Azerbaijan                4\n",
       "Bahamas                   2\n",
       "Bahrain                   2\n",
       "Bangladesh                7\n",
       "Barbados                  2\n",
       "Belarus                   4\n",
       "Belgium                   6\n",
       "Belize                    4\n",
       "Benin                     7\n",
       "Bermuda                   1\n",
       "Bolivia                   1\n",
       "Bosnia and Herzegovina    1\n",
       "Brazil                    5\n",
       "Brunei                    3\n",
       "Bulgaria                  4\n",
       "Burkina Faso              6\n",
       "Burundi                   3\n",
       "Netherlands Antilles      3\n",
       "United Arab Emirates      2\n",
       "Name: Idioma, dtype: int64"
      ]
     },
     "execution_count": 5,
     "metadata": {},
     "output_type": "execute_result"
    }
   ],
   "source": [
    "# Dividir + aplicar (agregación)\n",
    "t = tabla_idiomas.groupby(['Pais']).count()\n",
    "t.Idioma\n"
   ]
  },
  {
   "cell_type": "markdown",
   "metadata": {},
   "source": [
    "La función __size__ calcula el tamaño de cada uno de los grupos."
   ]
  },
  {
   "cell_type": "markdown",
   "metadata": {},
   "source": [
    "__Ejemplo:__\n",
    "\n",
    "Nos gustaría saber cual es el idioma  (o idiomas)  que se hablan en  más países."
   ]
  },
  {
   "cell_type": "code",
   "execution_count": 6,
   "metadata": {
    "collapsed": false
   },
   "outputs": [
    {
     "data": {
      "text/html": [
       "<div>\n",
       "<table border=\"1\" class=\"dataframe\">\n",
       "  <thead>\n",
       "    <tr style=\"text-align: right;\">\n",
       "      <th></th>\n",
       "      <th>Pais</th>\n",
       "      <th>Continente</th>\n",
       "      <th>% Poblacion</th>\n",
       "    </tr>\n",
       "    <tr>\n",
       "      <th>Idioma</th>\n",
       "      <th></th>\n",
       "      <th></th>\n",
       "      <th></th>\n",
       "    </tr>\n",
       "  </thead>\n",
       "  <tbody>\n",
       "    <tr>\n",
       "      <th>English</th>\n",
       "      <td>11</td>\n",
       "      <td>11</td>\n",
       "      <td>11</td>\n",
       "    </tr>\n",
       "  </tbody>\n",
       "</table>\n",
       "</div>"
      ],
      "text/plain": [
       "         Pais  Continente  % Poblacion\n",
       "Idioma                                \n",
       "English    11          11           11"
      ]
     },
     "execution_count": 6,
     "metadata": {},
     "output_type": "execute_result"
    }
   ],
   "source": [
    "# Dividir + aplicar (agregación)+ combinar\n",
    "t = tabla_idiomas.groupby(['Idioma']).count()\n",
    "t[t.Pais == t.Pais.max()]"
   ]
  },
  {
   "cell_type": "code",
   "execution_count": 7,
   "metadata": {
    "collapsed": false
   },
   "outputs": [
    {
     "data": {
      "text/html": [
       "<div>\n",
       "<table border=\"1\" class=\"dataframe\">\n",
       "  <thead>\n",
       "    <tr style=\"text-align: right;\">\n",
       "      <th></th>\n",
       "      <th>Pais</th>\n",
       "      <th>Continente</th>\n",
       "      <th>% Poblacion</th>\n",
       "    </tr>\n",
       "    <tr>\n",
       "      <th>Idioma</th>\n",
       "      <th></th>\n",
       "      <th></th>\n",
       "      <th></th>\n",
       "    </tr>\n",
       "  </thead>\n",
       "  <tbody>\n",
       "    <tr>\n",
       "      <th>English</th>\n",
       "      <td>11</td>\n",
       "      <td>11</td>\n",
       "      <td>11</td>\n",
       "    </tr>\n",
       "  </tbody>\n",
       "</table>\n",
       "</div>"
      ],
      "text/plain": [
       "         Pais  Continente  % Poblacion\n",
       "Idioma                                \n",
       "English    11          11           11"
      ]
     },
     "execution_count": 7,
     "metadata": {},
     "output_type": "execute_result"
    }
   ],
   "source": [
    "# Dividir + aplicar (agregación)+ combinar\n",
    "t = tabla_idiomas.groupby(['Idioma']).count()\n",
    "t = t[t.Pais == t.Pais.max()]\n",
    "t"
   ]
  },
  {
   "cell_type": "markdown",
   "metadata": {},
   "source": [
    "__Ejemplo:__\n",
    "\n",
    "El fichero [tips.csv](./datos/tips.csv) recoge los datos referentes a las reservas de un restaurante. Muestra los datos del precio de la factura, la propina, sexo de la persona que hizo la reserva, el día, el número de comensales, etc."
   ]
  },
  {
   "cell_type": "code",
   "execution_count": 8,
   "metadata": {
    "collapsed": false
   },
   "outputs": [
    {
     "data": {
      "text/html": [
       "<div>\n",
       "<table border=\"1\" class=\"dataframe\">\n",
       "  <thead>\n",
       "    <tr style=\"text-align: right;\">\n",
       "      <th></th>\n",
       "      <th>Importe_Factura</th>\n",
       "      <th>Propina</th>\n",
       "      <th>Sexo</th>\n",
       "      <th>Fumador</th>\n",
       "      <th>Dia</th>\n",
       "      <th>Tipo</th>\n",
       "      <th>Comensales</th>\n",
       "    </tr>\n",
       "  </thead>\n",
       "  <tbody>\n",
       "    <tr>\n",
       "      <th>0</th>\n",
       "      <td>16.99</td>\n",
       "      <td>1.01</td>\n",
       "      <td>Female</td>\n",
       "      <td>No</td>\n",
       "      <td>Sun</td>\n",
       "      <td>Dinner</td>\n",
       "      <td>2</td>\n",
       "    </tr>\n",
       "    <tr>\n",
       "      <th>1</th>\n",
       "      <td>10.34</td>\n",
       "      <td>1.66</td>\n",
       "      <td>Male</td>\n",
       "      <td>No</td>\n",
       "      <td>Sun</td>\n",
       "      <td>Dinner</td>\n",
       "      <td>3</td>\n",
       "    </tr>\n",
       "    <tr>\n",
       "      <th>2</th>\n",
       "      <td>21.01</td>\n",
       "      <td>3.50</td>\n",
       "      <td>Male</td>\n",
       "      <td>No</td>\n",
       "      <td>Sun</td>\n",
       "      <td>Dinner</td>\n",
       "      <td>3</td>\n",
       "    </tr>\n",
       "    <tr>\n",
       "      <th>3</th>\n",
       "      <td>23.68</td>\n",
       "      <td>3.31</td>\n",
       "      <td>Male</td>\n",
       "      <td>No</td>\n",
       "      <td>Sun</td>\n",
       "      <td>Dinner</td>\n",
       "      <td>2</td>\n",
       "    </tr>\n",
       "    <tr>\n",
       "      <th>4</th>\n",
       "      <td>24.59</td>\n",
       "      <td>3.61</td>\n",
       "      <td>Female</td>\n",
       "      <td>No</td>\n",
       "      <td>Sun</td>\n",
       "      <td>Dinner</td>\n",
       "      <td>4</td>\n",
       "    </tr>\n",
       "  </tbody>\n",
       "</table>\n",
       "</div>"
      ],
      "text/plain": [
       "   Importe_Factura  Propina    Sexo Fumador  Dia    Tipo  Comensales\n",
       "0            16.99     1.01  Female      No  Sun  Dinner           2\n",
       "1            10.34     1.66    Male      No  Sun  Dinner           3\n",
       "2            21.01     3.50    Male      No  Sun  Dinner           3\n",
       "3            23.68     3.31    Male      No  Sun  Dinner           2\n",
       "4            24.59     3.61  Female      No  Sun  Dinner           4"
      ]
     },
     "execution_count": 8,
     "metadata": {},
     "output_type": "execute_result"
    }
   ],
   "source": [
    "tips = pd.read_csv('./datos/tips.csv',\n",
    "                   skiprows = 1,\n",
    "                   names = ['Importe_Factura', 'Propina', 'Sexo', 'Fumador', 'Dia',\n",
    "                              'Tipo', 'Comensales']\n",
    "                          )\n",
    "tips.head()"
   ]
  },
  {
   "cell_type": "markdown",
   "metadata": {},
   "source": [
    "Deseamos conocer la media del importe de factura dependiendo del sexo y de si el cliente en fumador o no."
   ]
  },
  {
   "cell_type": "code",
   "execution_count": 9,
   "metadata": {
    "collapsed": false
   },
   "outputs": [
    {
     "data": {
      "text/html": [
       "<div>\n",
       "<table border=\"1\" class=\"dataframe\">\n",
       "  <thead>\n",
       "    <tr style=\"text-align: right;\">\n",
       "      <th></th>\n",
       "      <th></th>\n",
       "      <th>Importe_Factura</th>\n",
       "      <th>Propina</th>\n",
       "      <th>Comensales</th>\n",
       "    </tr>\n",
       "    <tr>\n",
       "      <th>Sexo</th>\n",
       "      <th>Fumador</th>\n",
       "      <th></th>\n",
       "      <th></th>\n",
       "      <th></th>\n",
       "    </tr>\n",
       "  </thead>\n",
       "  <tbody>\n",
       "    <tr>\n",
       "      <th rowspan=\"2\" valign=\"top\">Female</th>\n",
       "      <th>No</th>\n",
       "      <td>18.105185</td>\n",
       "      <td>2.773519</td>\n",
       "      <td>2.592593</td>\n",
       "    </tr>\n",
       "    <tr>\n",
       "      <th>Yes</th>\n",
       "      <td>17.977879</td>\n",
       "      <td>2.931515</td>\n",
       "      <td>2.242424</td>\n",
       "    </tr>\n",
       "    <tr>\n",
       "      <th rowspan=\"2\" valign=\"top\">Male</th>\n",
       "      <th>No</th>\n",
       "      <td>19.791237</td>\n",
       "      <td>3.113402</td>\n",
       "      <td>2.711340</td>\n",
       "    </tr>\n",
       "    <tr>\n",
       "      <th>Yes</th>\n",
       "      <td>22.284500</td>\n",
       "      <td>3.051167</td>\n",
       "      <td>2.500000</td>\n",
       "    </tr>\n",
       "  </tbody>\n",
       "</table>\n",
       "</div>"
      ],
      "text/plain": [
       "                Importe_Factura   Propina  Comensales\n",
       "Sexo   Fumador                                       \n",
       "Female No             18.105185  2.773519    2.592593\n",
       "       Yes            17.977879  2.931515    2.242424\n",
       "Male   No             19.791237  3.113402    2.711340\n",
       "       Yes            22.284500  3.051167    2.500000"
      ]
     },
     "execution_count": 9,
     "metadata": {},
     "output_type": "execute_result"
    }
   ],
   "source": [
    "tips_g = tips.groupby(['Sexo','Fumador']).mean()\n",
    "tips_g"
   ]
  },
  {
   "cell_type": "markdown",
   "metadata": {},
   "source": [
    "Como podemos ver, en los resultados solo aparecen las columnas numéricas."
   ]
  },
  {
   "cell_type": "markdown",
   "metadata": {},
   "source": [
    "La función __unstack__ permite mostrar los resultados donde el índice es de un único nivel:"
   ]
  },
  {
   "cell_type": "code",
   "execution_count": 10,
   "metadata": {
    "collapsed": false
   },
   "outputs": [
    {
     "data": {
      "text/html": [
       "<div>\n",
       "<table border=\"1\" class=\"dataframe\">\n",
       "  <thead>\n",
       "    <tr>\n",
       "      <th></th>\n",
       "      <th colspan=\"2\" halign=\"left\">Importe_Factura</th>\n",
       "      <th colspan=\"2\" halign=\"left\">Propina</th>\n",
       "      <th colspan=\"2\" halign=\"left\">Comensales</th>\n",
       "    </tr>\n",
       "    <tr>\n",
       "      <th>Fumador</th>\n",
       "      <th>No</th>\n",
       "      <th>Yes</th>\n",
       "      <th>No</th>\n",
       "      <th>Yes</th>\n",
       "      <th>No</th>\n",
       "      <th>Yes</th>\n",
       "    </tr>\n",
       "    <tr>\n",
       "      <th>Sexo</th>\n",
       "      <th></th>\n",
       "      <th></th>\n",
       "      <th></th>\n",
       "      <th></th>\n",
       "      <th></th>\n",
       "      <th></th>\n",
       "    </tr>\n",
       "  </thead>\n",
       "  <tbody>\n",
       "    <tr>\n",
       "      <th>Female</th>\n",
       "      <td>18.105185</td>\n",
       "      <td>17.977879</td>\n",
       "      <td>2.773519</td>\n",
       "      <td>2.931515</td>\n",
       "      <td>2.592593</td>\n",
       "      <td>2.242424</td>\n",
       "    </tr>\n",
       "    <tr>\n",
       "      <th>Male</th>\n",
       "      <td>19.791237</td>\n",
       "      <td>22.284500</td>\n",
       "      <td>3.113402</td>\n",
       "      <td>3.051167</td>\n",
       "      <td>2.711340</td>\n",
       "      <td>2.500000</td>\n",
       "    </tr>\n",
       "  </tbody>\n",
       "</table>\n",
       "</div>"
      ],
      "text/plain": [
       "        Importe_Factura              Propina           Comensales          \n",
       "Fumador              No        Yes        No       Yes         No       Yes\n",
       "Sexo                                                                       \n",
       "Female        18.105185  17.977879  2.773519  2.931515   2.592593  2.242424\n",
       "Male          19.791237  22.284500  3.113402  3.051167   2.711340  2.500000"
      ]
     },
     "execution_count": 10,
     "metadata": {},
     "output_type": "execute_result"
    }
   ],
   "source": [
    "tips_g.unstack()"
   ]
  },
  {
   "cell_type": "markdown",
   "metadata": {},
   "source": [
    "Con esta información se puede hacer lo que se desee. "
   ]
  },
  {
   "cell_type": "markdown",
   "metadata": {},
   "source": [
    "## Dividir : Agrupando con funciones"
   ]
  },
  {
   "cell_type": "markdown",
   "metadata": {},
   "source": [
    "Para hacer cosas más creativas podemos usar funciones para agrupar datos. La idea es aplicar una función a cada uno de los valores de los índices. La función devuelve un valor. La función de agrupación creará grupos basados en el valor devuelto por la función.\n",
    "\n",
    "__Ejemplo:__\n",
    "\n",
    "El dataset [facturacion.csv](./datos/facturacion.csv) recoge los datos de facturación de una empresa de transporte.\n"
   ]
  },
  {
   "cell_type": "code",
   "execution_count": 11,
   "metadata": {
    "collapsed": false
   },
   "outputs": [
    {
     "data": {
      "text/html": [
       "<div>\n",
       "<table border=\"1\" class=\"dataframe\">\n",
       "  <thead>\n",
       "    <tr style=\"text-align: right;\">\n",
       "      <th></th>\n",
       "      <th>Importe</th>\n",
       "      <th>Tipo_prod</th>\n",
       "    </tr>\n",
       "    <tr>\n",
       "      <th>last_update</th>\n",
       "      <th></th>\n",
       "      <th></th>\n",
       "    </tr>\n",
       "  </thead>\n",
       "  <tbody>\n",
       "    <tr>\n",
       "      <th>2006-02-20 05:03:00</th>\n",
       "      <td>0.99</td>\n",
       "      <td>PG</td>\n",
       "    </tr>\n",
       "    <tr>\n",
       "      <th>2004-10-01 05:03:00</th>\n",
       "      <td>4.99</td>\n",
       "      <td>G</td>\n",
       "    </tr>\n",
       "    <tr>\n",
       "      <th>2005-02-22 05:03:00</th>\n",
       "      <td>2.99</td>\n",
       "      <td>NC-17</td>\n",
       "    </tr>\n",
       "    <tr>\n",
       "      <th>2006-02-02 05:03:00</th>\n",
       "      <td>2.99</td>\n",
       "      <td>G</td>\n",
       "    </tr>\n",
       "    <tr>\n",
       "      <th>2006-04-20 05:03:00</th>\n",
       "      <td>2.99</td>\n",
       "      <td>G</td>\n",
       "    </tr>\n",
       "  </tbody>\n",
       "</table>\n",
       "</div>"
      ],
      "text/plain": [
       "                     Importe Tipo_prod\n",
       "last_update                           \n",
       "2006-02-20 05:03:00     0.99        PG\n",
       "2004-10-01 05:03:00     4.99         G\n",
       "2005-02-22 05:03:00     2.99     NC-17\n",
       "2006-02-02 05:03:00     2.99         G\n",
       "2006-04-20 05:03:00     2.99         G"
      ]
     },
     "execution_count": 11,
     "metadata": {},
     "output_type": "execute_result"
    }
   ],
   "source": [
    "fact = pd.read_table('./datos/facturacion.csv', delimiter =';', \n",
    "                     index_col = [0], \n",
    "                     parse_dates=[0]     )\n",
    "fact.head()"
   ]
  },
  {
   "cell_type": "markdown",
   "metadata": {},
   "source": [
    "Nos interesaría conocer el importe total facturado en cada día de la semana. Es decir, el importe facturado los lunes, los martes, etc."
   ]
  },
  {
   "cell_type": "code",
   "execution_count": 12,
   "metadata": {
    "collapsed": true
   },
   "outputs": [],
   "source": [
    "from datetime import datetime, date, time\n",
    "\n",
    "def calcular_dia(f):\n",
    "    return f.weekday()    # devuelve el día de la semana\n"
   ]
  },
  {
   "cell_type": "code",
   "execution_count": 13,
   "metadata": {
    "collapsed": false
   },
   "outputs": [
    {
     "data": {
      "text/plain": [
       "7"
      ]
     },
     "execution_count": 13,
     "metadata": {},
     "output_type": "execute_result"
    }
   ],
   "source": [
    "# agrupar\n",
    "r = fact.groupby(calcular_dia)\n",
    "len(r)"
   ]
  },
  {
   "cell_type": "code",
   "execution_count": 14,
   "metadata": {
    "collapsed": false
   },
   "outputs": [
    {
     "data": {
      "text/html": [
       "<div>\n",
       "<table border=\"1\" class=\"dataframe\">\n",
       "  <thead>\n",
       "    <tr style=\"text-align: right;\">\n",
       "      <th></th>\n",
       "      <th>Importe</th>\n",
       "    </tr>\n",
       "  </thead>\n",
       "  <tbody>\n",
       "    <tr>\n",
       "      <th>0</th>\n",
       "      <td>498.34</td>\n",
       "    </tr>\n",
       "    <tr>\n",
       "      <th>1</th>\n",
       "      <td>323.99</td>\n",
       "    </tr>\n",
       "    <tr>\n",
       "      <th>2</th>\n",
       "      <td>1019.43</td>\n",
       "    </tr>\n",
       "    <tr>\n",
       "      <th>3</th>\n",
       "      <td>87.70</td>\n",
       "    </tr>\n",
       "    <tr>\n",
       "      <th>4</th>\n",
       "      <td>916.98</td>\n",
       "    </tr>\n",
       "    <tr>\n",
       "      <th>5</th>\n",
       "      <td>122.61</td>\n",
       "    </tr>\n",
       "    <tr>\n",
       "      <th>6</th>\n",
       "      <td>10.95</td>\n",
       "    </tr>\n",
       "  </tbody>\n",
       "</table>\n",
       "</div>"
      ],
      "text/plain": [
       "   Importe\n",
       "0   498.34\n",
       "1   323.99\n",
       "2  1019.43\n",
       "3    87.70\n",
       "4   916.98\n",
       "5   122.61\n",
       "6    10.95"
      ]
     },
     "execution_count": 14,
     "metadata": {},
     "output_type": "execute_result"
    }
   ],
   "source": [
    "# calculamos el importe facturado en cada día de la semana\n",
    "# agrupar + aplicar + combinar\n",
    "fact.groupby(calcular_dia).sum() "
   ]
  },
  {
   "cell_type": "markdown",
   "metadata": {},
   "source": [
    "## Agrupando por índice"
   ]
  },
  {
   "cell_type": "markdown",
   "metadata": {},
   "source": [
    "__Ejemplo:__\n",
    "\n",
    "Supongamos que el índice de la tabla es el número de pedido. En ese caso, si queremos agrupar por número de pedido, tendremos que agrupar por valor de los índices."
   ]
  },
  {
   "cell_type": "code",
   "execution_count": 15,
   "metadata": {
    "collapsed": false
   },
   "outputs": [
    {
     "data": {
      "text/html": [
       "<div>\n",
       "<table border=\"1\" class=\"dataframe\">\n",
       "  <thead>\n",
       "    <tr style=\"text-align: right;\">\n",
       "      <th></th>\n",
       "      <th>linea_de_pedido</th>\n",
       "      <th>producto</th>\n",
       "      <th>cantidad</th>\n",
       "      <th>precio</th>\n",
       "    </tr>\n",
       "    <tr>\n",
       "      <th>Numero_pedido</th>\n",
       "      <th></th>\n",
       "      <th></th>\n",
       "      <th></th>\n",
       "      <th></th>\n",
       "    </tr>\n",
       "  </thead>\n",
       "  <tbody>\n",
       "    <tr>\n",
       "      <th>10126</th>\n",
       "      <td>9</td>\n",
       "      <td>S18_4668</td>\n",
       "      <td>43</td>\n",
       "      <td>53.83</td>\n",
       "    </tr>\n",
       "    <tr>\n",
       "      <th>10126</th>\n",
       "      <td>1</td>\n",
       "      <td>S24_2300</td>\n",
       "      <td>27</td>\n",
       "      <td>126.51</td>\n",
       "    </tr>\n",
       "    <tr>\n",
       "      <th>10126</th>\n",
       "      <td>15</td>\n",
       "      <td>S24_4258</td>\n",
       "      <td>34</td>\n",
       "      <td>105.18</td>\n",
       "    </tr>\n",
       "    <tr>\n",
       "      <th>10126</th>\n",
       "      <td>3</td>\n",
       "      <td>S32_1268</td>\n",
       "      <td>43</td>\n",
       "      <td>96.31</td>\n",
       "    </tr>\n",
       "    <tr>\n",
       "      <th>10126</th>\n",
       "      <td>7</td>\n",
       "      <td>S32_3522</td>\n",
       "      <td>26</td>\n",
       "      <td>62.70</td>\n",
       "    </tr>\n",
       "    <tr>\n",
       "      <th>10126</th>\n",
       "      <td>6</td>\n",
       "      <td>S700_2824</td>\n",
       "      <td>45</td>\n",
       "      <td>102.16</td>\n",
       "    </tr>\n",
       "    <tr>\n",
       "      <th>10127</th>\n",
       "      <td>2</td>\n",
       "      <td>S12_1108</td>\n",
       "      <td>46</td>\n",
       "      <td>245.20</td>\n",
       "    </tr>\n",
       "    <tr>\n",
       "      <th>10127</th>\n",
       "      <td>3</td>\n",
       "      <td>S12_3148</td>\n",
       "      <td>46</td>\n",
       "      <td>160.14</td>\n",
       "    </tr>\n",
       "    <tr>\n",
       "      <th>10127</th>\n",
       "      <td>1</td>\n",
       "      <td>S12_3891</td>\n",
       "      <td>42</td>\n",
       "      <td>193.78</td>\n",
       "    </tr>\n",
       "    <tr>\n",
       "      <th>10127</th>\n",
       "      <td>11</td>\n",
       "      <td>S12_4473</td>\n",
       "      <td>24</td>\n",
       "      <td>106.65</td>\n",
       "    </tr>\n",
       "  </tbody>\n",
       "</table>\n",
       "</div>"
      ],
      "text/plain": [
       "               linea_de_pedido   producto  cantidad  precio\n",
       "Numero_pedido                                              \n",
       "10126                        9   S18_4668        43   53.83\n",
       "10126                        1   S24_2300        27  126.51\n",
       "10126                       15   S24_4258        34  105.18\n",
       "10126                        3   S32_1268        43   96.31\n",
       "10126                        7   S32_3522        26   62.70\n",
       "10126                        6  S700_2824        45  102.16\n",
       "10127                        2   S12_1108        46  245.20\n",
       "10127                        3   S12_3148        46  160.14\n",
       "10127                        1   S12_3891        42  193.78\n",
       "10127                       11   S12_4473        24  106.65"
      ]
     },
     "execution_count": 15,
     "metadata": {},
     "output_type": "execute_result"
    }
   ],
   "source": [
    "tabla_pedidos = pd.read_excel('./datos/pedidos.xls', index_col  = [0]  )\n",
    "tabla_pedidos.iloc[-10:]                   # muestro solo las 10 primeras entradas"
   ]
  },
  {
   "cell_type": "markdown",
   "metadata": {},
   "source": [
    "Para agrupar por el índice del DataFrame necesitamos inicar el nivel del índice (o el nombre) y el axis = 0 en la función __groupby__."
   ]
  },
  {
   "cell_type": "code",
   "execution_count": 16,
   "metadata": {
    "collapsed": false
   },
   "outputs": [
    {
     "data": {
      "text/html": [
       "<div>\n",
       "<table border=\"1\" class=\"dataframe\">\n",
       "  <thead>\n",
       "    <tr style=\"text-align: right;\">\n",
       "      <th></th>\n",
       "      <th>cantidad</th>\n",
       "      <th>precio</th>\n",
       "    </tr>\n",
       "    <tr>\n",
       "      <th>Numero_pedido</th>\n",
       "      <th></th>\n",
       "      <th></th>\n",
       "    </tr>\n",
       "  </thead>\n",
       "  <tbody>\n",
       "    <tr>\n",
       "      <th>10122</th>\n",
       "      <td>32.058824</td>\n",
       "      <td>96.514706</td>\n",
       "    </tr>\n",
       "    <tr>\n",
       "      <th>10123</th>\n",
       "      <td>39.000000</td>\n",
       "      <td>111.777500</td>\n",
       "    </tr>\n",
       "    <tr>\n",
       "      <th>10124</th>\n",
       "      <td>34.461538</td>\n",
       "      <td>77.202308</td>\n",
       "    </tr>\n",
       "    <tr>\n",
       "      <th>10125</th>\n",
       "      <td>33.000000</td>\n",
       "      <td>146.200000</td>\n",
       "    </tr>\n",
       "    <tr>\n",
       "      <th>10126</th>\n",
       "      <td>36.294118</td>\n",
       "      <td>100.862941</td>\n",
       "    </tr>\n",
       "    <tr>\n",
       "      <th>10127</th>\n",
       "      <td>39.500000</td>\n",
       "      <td>176.442500</td>\n",
       "    </tr>\n",
       "  </tbody>\n",
       "</table>\n",
       "</div>"
      ],
      "text/plain": [
       "                cantidad      precio\n",
       "Numero_pedido                       \n",
       "10122          32.058824   96.514706\n",
       "10123          39.000000  111.777500\n",
       "10124          34.461538   77.202308\n",
       "10125          33.000000  146.200000\n",
       "10126          36.294118  100.862941\n",
       "10127          39.500000  176.442500"
      ]
     },
     "execution_count": 16,
     "metadata": {},
     "output_type": "execute_result"
    }
   ],
   "source": [
    "t = tabla_pedidos.loc[:,['cantidad', 'precio']].groupby(level = 0, axis = 0).mean()\n",
    "t[-6:]"
   ]
  },
  {
   "cell_type": "markdown",
   "metadata": {},
   "source": [
    "## Aplicar (Agregación):  Funciones de agrupación"
   ]
  },
  {
   "cell_type": "markdown",
   "metadata": {},
   "source": [
    "Una vez que tenemos los datos divididos por grupos, las funciones de agregación permiten realizar operaciones sobre un array de datos cuyo resultado es un único valor.\n",
    "Ya hemos visto unas cuantas de estas funciones de agrupación: __sum__, __mean__, __count__, __max__. Todas ellas son funciones predefinidas en Python.\n",
    "\n",
    "Pero también es posible definir funciones de usuario y utilizarlas una vez construidos los grupos usando la función __agg__.\n",
    "\n",
    "__Ejemplo:__\n",
    "\n",
    "Volvemos al dataset de [pedidos](./datos/pedidos.xls). Supongamos que queremos regalar el producto de menor valor a nuestro clientes. Y queremos calcular el precio total de cada pedido (descontando el producto que se regala). "
   ]
  },
  {
   "cell_type": "code",
   "execution_count": 17,
   "metadata": {
    "collapsed": false
   },
   "outputs": [
    {
     "data": {
      "text/html": [
       "<div>\n",
       "<table border=\"1\" class=\"dataframe\">\n",
       "  <thead>\n",
       "    <tr style=\"text-align: right;\">\n",
       "      <th></th>\n",
       "      <th>Numero_pedido</th>\n",
       "      <th>linea_de_pedido</th>\n",
       "      <th>producto</th>\n",
       "      <th>cantidad</th>\n",
       "      <th>precio</th>\n",
       "    </tr>\n",
       "  </thead>\n",
       "  <tbody>\n",
       "    <tr>\n",
       "      <th>0</th>\n",
       "      <td>10105</td>\n",
       "      <td>3</td>\n",
       "      <td>S700_2610</td>\n",
       "      <td>31</td>\n",
       "      <td>65.77</td>\n",
       "    </tr>\n",
       "    <tr>\n",
       "      <th>1</th>\n",
       "      <td>10105</td>\n",
       "      <td>6</td>\n",
       "      <td>S700_3505</td>\n",
       "      <td>39</td>\n",
       "      <td>81.14</td>\n",
       "    </tr>\n",
       "    <tr>\n",
       "      <th>2</th>\n",
       "      <td>10105</td>\n",
       "      <td>7</td>\n",
       "      <td>S700_3962</td>\n",
       "      <td>22</td>\n",
       "      <td>116.19</td>\n",
       "    </tr>\n",
       "    <tr>\n",
       "      <th>3</th>\n",
       "      <td>10105</td>\n",
       "      <td>8</td>\n",
       "      <td>S72_3212</td>\n",
       "      <td>25</td>\n",
       "      <td>56.78</td>\n",
       "    </tr>\n",
       "    <tr>\n",
       "      <th>4</th>\n",
       "      <td>10106</td>\n",
       "      <td>12</td>\n",
       "      <td>S18_1662</td>\n",
       "      <td>36</td>\n",
       "      <td>146.65</td>\n",
       "    </tr>\n",
       "  </tbody>\n",
       "</table>\n",
       "</div>"
      ],
      "text/plain": [
       "   Numero_pedido  linea_de_pedido   producto  cantidad  precio\n",
       "0          10105                3  S700_2610        31   65.77\n",
       "1          10105                6  S700_3505        39   81.14\n",
       "2          10105                7  S700_3962        22  116.19\n",
       "3          10105                8   S72_3212        25   56.78\n",
       "4          10106               12   S18_1662        36  146.65"
      ]
     },
     "execution_count": 17,
     "metadata": {},
     "output_type": "execute_result"
    }
   ],
   "source": [
    "tabla_pedidos = pd.read_excel('./datos/pedidos.xls')\n",
    "tabla_pedidos.head()                  # muestro solo las 10 primeras entradas"
   ]
  },
  {
   "cell_type": "code",
   "execution_count": 18,
   "metadata": {
    "collapsed": false
   },
   "outputs": [
    {
     "data": {
      "text/html": [
       "<div>\n",
       "<table border=\"1\" class=\"dataframe\">\n",
       "  <thead>\n",
       "    <tr style=\"text-align: right;\">\n",
       "      <th></th>\n",
       "      <th>Numero_pedido</th>\n",
       "      <th>linea_de_pedido</th>\n",
       "      <th>producto</th>\n",
       "      <th>cantidad</th>\n",
       "      <th>precio</th>\n",
       "    </tr>\n",
       "  </thead>\n",
       "  <tbody>\n",
       "    <tr>\n",
       "      <th>164</th>\n",
       "      <td>10124</td>\n",
       "      <td>6</td>\n",
       "      <td>S18_1749</td>\n",
       "      <td>21</td>\n",
       "      <td>136.00</td>\n",
       "    </tr>\n",
       "    <tr>\n",
       "      <th>165</th>\n",
       "      <td>10124</td>\n",
       "      <td>5</td>\n",
       "      <td>S18_2248</td>\n",
       "      <td>42</td>\n",
       "      <td>53.88</td>\n",
       "    </tr>\n",
       "    <tr>\n",
       "      <th>166</th>\n",
       "      <td>10124</td>\n",
       "      <td>3</td>\n",
       "      <td>S18_2325</td>\n",
       "      <td>42</td>\n",
       "      <td>105.52</td>\n",
       "    </tr>\n",
       "    <tr>\n",
       "      <th>167</th>\n",
       "      <td>10124</td>\n",
       "      <td>7</td>\n",
       "      <td>S18_4409</td>\n",
       "      <td>36</td>\n",
       "      <td>85.59</td>\n",
       "    </tr>\n",
       "    <tr>\n",
       "      <th>168</th>\n",
       "      <td>10124</td>\n",
       "      <td>8</td>\n",
       "      <td>S18_4933</td>\n",
       "      <td>23</td>\n",
       "      <td>57.73</td>\n",
       "    </tr>\n",
       "    <tr>\n",
       "      <th>169</th>\n",
       "      <td>10124</td>\n",
       "      <td>12</td>\n",
       "      <td>S24_1046</td>\n",
       "      <td>22</td>\n",
       "      <td>77.90</td>\n",
       "    </tr>\n",
       "    <tr>\n",
       "      <th>170</th>\n",
       "      <td>10124</td>\n",
       "      <td>2</td>\n",
       "      <td>S24_1937</td>\n",
       "      <td>45</td>\n",
       "      <td>37.84</td>\n",
       "    </tr>\n",
       "    <tr>\n",
       "      <th>171</th>\n",
       "      <td>10124</td>\n",
       "      <td>1</td>\n",
       "      <td>S24_2022</td>\n",
       "      <td>22</td>\n",
       "      <td>45.25</td>\n",
       "    </tr>\n",
       "    <tr>\n",
       "      <th>172</th>\n",
       "      <td>10124</td>\n",
       "      <td>10</td>\n",
       "      <td>S24_2766</td>\n",
       "      <td>32</td>\n",
       "      <td>72.70</td>\n",
       "    </tr>\n",
       "    <tr>\n",
       "      <th>173</th>\n",
       "      <td>10124</td>\n",
       "      <td>9</td>\n",
       "      <td>S24_2887</td>\n",
       "      <td>25</td>\n",
       "      <td>93.95</td>\n",
       "    </tr>\n",
       "    <tr>\n",
       "      <th>174</th>\n",
       "      <td>10124</td>\n",
       "      <td>11</td>\n",
       "      <td>S24_3191</td>\n",
       "      <td>49</td>\n",
       "      <td>83.04</td>\n",
       "    </tr>\n",
       "    <tr>\n",
       "      <th>175</th>\n",
       "      <td>10124</td>\n",
       "      <td>13</td>\n",
       "      <td>S24_3432</td>\n",
       "      <td>43</td>\n",
       "      <td>121.00</td>\n",
       "    </tr>\n",
       "    <tr>\n",
       "      <th>176</th>\n",
       "      <td>10124</td>\n",
       "      <td>4</td>\n",
       "      <td>S24_3969</td>\n",
       "      <td>46</td>\n",
       "      <td>33.23</td>\n",
       "    </tr>\n",
       "  </tbody>\n",
       "</table>\n",
       "</div>"
      ],
      "text/plain": [
       "     Numero_pedido  linea_de_pedido  producto  cantidad  precio\n",
       "164          10124                6  S18_1749        21  136.00\n",
       "165          10124                5  S18_2248        42   53.88\n",
       "166          10124                3  S18_2325        42  105.52\n",
       "167          10124                7  S18_4409        36   85.59\n",
       "168          10124                8  S18_4933        23   57.73\n",
       "169          10124               12  S24_1046        22   77.90\n",
       "170          10124                2  S24_1937        45   37.84\n",
       "171          10124                1  S24_2022        22   45.25\n",
       "172          10124               10  S24_2766        32   72.70\n",
       "173          10124                9  S24_2887        25   93.95\n",
       "174          10124               11  S24_3191        49   83.04\n",
       "175          10124               13  S24_3432        43  121.00\n",
       "176          10124                4  S24_3969        46   33.23"
      ]
     },
     "execution_count": 18,
     "metadata": {},
     "output_type": "execute_result"
    }
   ],
   "source": [
    "tabla_pedidos[tabla_pedidos.Numero_pedido == 10124]"
   ]
  },
  {
   "cell_type": "code",
   "execution_count": 19,
   "metadata": {
    "collapsed": true
   },
   "outputs": [],
   "source": [
    "def total_desc(datos):              # recibe un array de datos\n",
    "    minimo = datos.min()\n",
    "    total = datos.sum() - minimo\n",
    "    return total"
   ]
  },
  {
   "cell_type": "code",
   "execution_count": 20,
   "metadata": {
    "collapsed": false
   },
   "outputs": [
    {
     "data": {
      "text/plain": [
       "Numero_pedido\n",
       "10124     970.40\n",
       "10125     190.69\n",
       "10126    1660.84\n",
       "10127     599.12\n",
       "Name: precio, dtype: float64"
      ]
     },
     "execution_count": 20,
     "metadata": {},
     "output_type": "execute_result"
    }
   ],
   "source": [
    "totales_descuento = tabla_pedidos.groupby(['Numero_pedido']).precio.agg(total_desc)\n",
    "totales_descuento[-4:]"
   ]
  },
  {
   "cell_type": "markdown",
   "metadata": {},
   "source": [
    "A la función __agg__ le podemos pasar una lista de funciones de agregación. Como resultado obtendremos una columna para cada función de agregación."
   ]
  },
  {
   "cell_type": "code",
   "execution_count": 21,
   "metadata": {
    "collapsed": false
   },
   "outputs": [
    {
     "data": {
      "text/html": [
       "<div>\n",
       "<table border=\"1\" class=\"dataframe\">\n",
       "  <thead>\n",
       "    <tr style=\"text-align: right;\">\n",
       "      <th></th>\n",
       "      <th>sum</th>\n",
       "      <th>total_desc</th>\n",
       "    </tr>\n",
       "    <tr>\n",
       "      <th>Numero_pedido</th>\n",
       "      <th></th>\n",
       "      <th></th>\n",
       "    </tr>\n",
       "  </thead>\n",
       "  <tbody>\n",
       "    <tr>\n",
       "      <th>10124</th>\n",
       "      <td>1003.63</td>\n",
       "      <td>970.40</td>\n",
       "    </tr>\n",
       "    <tr>\n",
       "      <th>10125</th>\n",
       "      <td>292.40</td>\n",
       "      <td>190.69</td>\n",
       "    </tr>\n",
       "    <tr>\n",
       "      <th>10126</th>\n",
       "      <td>1714.67</td>\n",
       "      <td>1660.84</td>\n",
       "    </tr>\n",
       "    <tr>\n",
       "      <th>10127</th>\n",
       "      <td>705.77</td>\n",
       "      <td>599.12</td>\n",
       "    </tr>\n",
       "  </tbody>\n",
       "</table>\n",
       "</div>"
      ],
      "text/plain": [
       "                   sum  total_desc\n",
       "Numero_pedido                     \n",
       "10124          1003.63      970.40\n",
       "10125           292.40      190.69\n",
       "10126          1714.67     1660.84\n",
       "10127           705.77      599.12"
      ]
     },
     "execution_count": 21,
     "metadata": {},
     "output_type": "execute_result"
    }
   ],
   "source": [
    "resumen = tabla_pedidos.groupby(['Numero_pedido']).precio.agg([sum, total_desc])\n",
    "resumen[-4:]"
   ]
  },
  {
   "cell_type": "markdown",
   "metadata": {},
   "source": [
    "## Aplicar (Transformación) : Función __transform__"
   ]
  },
  {
   "cell_type": "markdown",
   "metadata": {},
   "source": [
    "Se aplica una función a cada grupo y se obtiene como resultado una Serie de datos ( no un valor único) del mismo tamaño del grupo. El resultado es el DataFrame original con una nueva columna(s) que es el resultado de la función."
   ]
  },
  {
   "cell_type": "code",
   "execution_count": 22,
   "metadata": {
    "collapsed": false
   },
   "outputs": [
    {
     "data": {
      "text/html": [
       "<div>\n",
       "<table border=\"1\" class=\"dataframe\">\n",
       "  <thead>\n",
       "    <tr style=\"text-align: right;\">\n",
       "      <th></th>\n",
       "      <th>Numero_pedido</th>\n",
       "      <th>linea_de_pedido</th>\n",
       "      <th>producto</th>\n",
       "      <th>cantidad</th>\n",
       "      <th>precio</th>\n",
       "    </tr>\n",
       "  </thead>\n",
       "  <tbody>\n",
       "    <tr>\n",
       "      <th>195</th>\n",
       "      <td>10126</td>\n",
       "      <td>6</td>\n",
       "      <td>S700_2824</td>\n",
       "      <td>45</td>\n",
       "      <td>102.16</td>\n",
       "    </tr>\n",
       "    <tr>\n",
       "      <th>196</th>\n",
       "      <td>10127</td>\n",
       "      <td>2</td>\n",
       "      <td>S12_1108</td>\n",
       "      <td>46</td>\n",
       "      <td>245.20</td>\n",
       "    </tr>\n",
       "    <tr>\n",
       "      <th>197</th>\n",
       "      <td>10127</td>\n",
       "      <td>3</td>\n",
       "      <td>S12_3148</td>\n",
       "      <td>46</td>\n",
       "      <td>160.14</td>\n",
       "    </tr>\n",
       "    <tr>\n",
       "      <th>198</th>\n",
       "      <td>10127</td>\n",
       "      <td>1</td>\n",
       "      <td>S12_3891</td>\n",
       "      <td>42</td>\n",
       "      <td>193.78</td>\n",
       "    </tr>\n",
       "    <tr>\n",
       "      <th>199</th>\n",
       "      <td>10127</td>\n",
       "      <td>11</td>\n",
       "      <td>S12_4473</td>\n",
       "      <td>24</td>\n",
       "      <td>106.65</td>\n",
       "    </tr>\n",
       "  </tbody>\n",
       "</table>\n",
       "</div>"
      ],
      "text/plain": [
       "     Numero_pedido  linea_de_pedido   producto  cantidad  precio\n",
       "195          10126                6  S700_2824        45  102.16\n",
       "196          10127                2   S12_1108        46  245.20\n",
       "197          10127                3   S12_3148        46  160.14\n",
       "198          10127                1   S12_3891        42  193.78\n",
       "199          10127               11   S12_4473        24  106.65"
      ]
     },
     "execution_count": 22,
     "metadata": {},
     "output_type": "execute_result"
    }
   ],
   "source": [
    "tabla_pedidos = pd.read_excel('./datos/pedidos.xls'\n",
    "                             )\n",
    "tabla_pedidos.iloc[-5:]                   # muestro solo las 10 primeras entradas"
   ]
  },
  {
   "cell_type": "code",
   "execution_count": 23,
   "metadata": {
    "collapsed": false
   },
   "outputs": [
    {
     "data": {
      "text/plain": [
       "176.4425"
      ]
     },
     "execution_count": 23,
     "metadata": {},
     "output_type": "execute_result"
    }
   ],
   "source": [
    "tabla_pedidos.groupby(['Numero_pedido']).precio.mean()[10127]"
   ]
  },
  {
   "cell_type": "code",
   "execution_count": 24,
   "metadata": {
    "collapsed": false
   },
   "outputs": [
    {
     "data": {
      "text/plain": [
       "194   -38.162941\n",
       "195     1.297059\n",
       "196    68.757500\n",
       "197   -16.302500\n",
       "198    17.337500\n",
       "199   -69.792500\n",
       "Name: precio, dtype: float64"
      ]
     },
     "execution_count": 24,
     "metadata": {},
     "output_type": "execute_result"
    }
   ],
   "source": [
    "def des(x):\n",
    "    media = x.mean()\n",
    "    return x-media\n",
    "\n",
    "t = tabla_pedidos.groupby(['Numero_pedido']).precio.transform(des)\n",
    "t[-6:]"
   ]
  },
  {
   "cell_type": "code",
   "execution_count": 25,
   "metadata": {
    "collapsed": false
   },
   "outputs": [
    {
     "data": {
      "text/html": [
       "<div>\n",
       "<table border=\"1\" class=\"dataframe\">\n",
       "  <thead>\n",
       "    <tr style=\"text-align: right;\">\n",
       "      <th></th>\n",
       "      <th>Desviacion</th>\n",
       "    </tr>\n",
       "  </thead>\n",
       "  <tbody>\n",
       "    <tr>\n",
       "      <th>194</th>\n",
       "      <td>-38.162941</td>\n",
       "    </tr>\n",
       "    <tr>\n",
       "      <th>195</th>\n",
       "      <td>1.297059</td>\n",
       "    </tr>\n",
       "    <tr>\n",
       "      <th>196</th>\n",
       "      <td>68.757500</td>\n",
       "    </tr>\n",
       "    <tr>\n",
       "      <th>197</th>\n",
       "      <td>-16.302500</td>\n",
       "    </tr>\n",
       "    <tr>\n",
       "      <th>198</th>\n",
       "      <td>17.337500</td>\n",
       "    </tr>\n",
       "    <tr>\n",
       "      <th>199</th>\n",
       "      <td>-69.792500</td>\n",
       "    </tr>\n",
       "  </tbody>\n",
       "</table>\n",
       "</div>"
      ],
      "text/plain": [
       "     Desviacion\n",
       "194  -38.162941\n",
       "195    1.297059\n",
       "196   68.757500\n",
       "197  -16.302500\n",
       "198   17.337500\n",
       "199  -69.792500"
      ]
     },
     "execution_count": 25,
     "metadata": {},
     "output_type": "execute_result"
    }
   ],
   "source": [
    "desviacion = pd.DataFrame(t)\n",
    "desviacion = desviacion.rename( columns = {'precio' : 'Desviacion' })\n",
    "desviacion[-6:]"
   ]
  },
  {
   "cell_type": "code",
   "execution_count": 26,
   "metadata": {
    "collapsed": false
   },
   "outputs": [
    {
     "data": {
      "text/html": [
       "<div>\n",
       "<table border=\"1\" class=\"dataframe\">\n",
       "  <thead>\n",
       "    <tr style=\"text-align: right;\">\n",
       "      <th></th>\n",
       "      <th>Numero_pedido</th>\n",
       "      <th>linea_de_pedido</th>\n",
       "      <th>producto</th>\n",
       "      <th>cantidad</th>\n",
       "      <th>precio</th>\n",
       "      <th>Desviacion</th>\n",
       "    </tr>\n",
       "  </thead>\n",
       "  <tbody>\n",
       "    <tr>\n",
       "      <th>195</th>\n",
       "      <td>10126</td>\n",
       "      <td>6</td>\n",
       "      <td>S700_2824</td>\n",
       "      <td>45</td>\n",
       "      <td>102.16</td>\n",
       "      <td>1.297059</td>\n",
       "    </tr>\n",
       "    <tr>\n",
       "      <th>196</th>\n",
       "      <td>10127</td>\n",
       "      <td>2</td>\n",
       "      <td>S12_1108</td>\n",
       "      <td>46</td>\n",
       "      <td>245.20</td>\n",
       "      <td>68.757500</td>\n",
       "    </tr>\n",
       "    <tr>\n",
       "      <th>197</th>\n",
       "      <td>10127</td>\n",
       "      <td>3</td>\n",
       "      <td>S12_3148</td>\n",
       "      <td>46</td>\n",
       "      <td>160.14</td>\n",
       "      <td>-16.302500</td>\n",
       "    </tr>\n",
       "    <tr>\n",
       "      <th>198</th>\n",
       "      <td>10127</td>\n",
       "      <td>1</td>\n",
       "      <td>S12_3891</td>\n",
       "      <td>42</td>\n",
       "      <td>193.78</td>\n",
       "      <td>17.337500</td>\n",
       "    </tr>\n",
       "    <tr>\n",
       "      <th>199</th>\n",
       "      <td>10127</td>\n",
       "      <td>11</td>\n",
       "      <td>S12_4473</td>\n",
       "      <td>24</td>\n",
       "      <td>106.65</td>\n",
       "      <td>-69.792500</td>\n",
       "    </tr>\n",
       "  </tbody>\n",
       "</table>\n",
       "</div>"
      ],
      "text/plain": [
       "     Numero_pedido  linea_de_pedido   producto  cantidad  precio  Desviacion\n",
       "195          10126                6  S700_2824        45  102.16    1.297059\n",
       "196          10127                2   S12_1108        46  245.20   68.757500\n",
       "197          10127                3   S12_3148        46  160.14  -16.302500\n",
       "198          10127                1   S12_3891        42  193.78   17.337500\n",
       "199          10127               11   S12_4473        24  106.65  -69.792500"
      ]
     },
     "execution_count": 26,
     "metadata": {},
     "output_type": "execute_result"
    }
   ],
   "source": [
    "t = tabla_pedidos.join(desviacion)\n",
    "t.tail()"
   ]
  },
  {
   "cell_type": "markdown",
   "metadata": {},
   "source": [
    "### References"
   ]
  },
  {
   "cell_type": "markdown",
   "metadata": {},
   "source": [
    "* [Python Data Analysis Library](http://pandas.pydata.org/)\n",
    "* [Python for Data Analysis](http://shop.oreilly.com/product/0636920023784.do)"
   ]
  }
 ],
 "metadata": {
  "anaconda-cloud": {},
  "kernelspec": {
   "display_name": "Python 3",
   "language": "python",
   "name": "python3"
  },
  "language_info": {
   "codemirror_mode": {
    "name": "ipython",
    "version": 3
   },
   "file_extension": ".py",
   "mimetype": "text/x-python",
   "name": "python",
   "nbconvert_exporter": "python",
   "pygments_lexer": "ipython3",
   "version": "3.6.0"
  },
  "toc": {
   "colors": {
    "hover_highlight": "#DAA520",
    "running_highlight": "#FF0000",
    "selected_highlight": "#FFD700"
   },
   "moveMenuLeft": true,
   "nav_menu": {
    "height": "159px",
    "width": "252px"
   },
   "navigate_menu": true,
   "number_sections": true,
   "sideBar": true,
   "threshold": 4,
   "toc_cell": false,
   "toc_section_display": "block",
   "toc_window_display": true,
   "widenNotebook": false
  }
 },
 "nbformat": 4,
 "nbformat_minor": 0
}
