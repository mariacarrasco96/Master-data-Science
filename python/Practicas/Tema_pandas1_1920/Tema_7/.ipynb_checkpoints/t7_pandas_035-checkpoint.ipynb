{
 "cells": [
  {
   "cell_type": "markdown",
   "metadata": {},
   "source": [
    "<div id=\"navegacion\" prev=\"../Tema_7/t7_pandas_034.html\" next=\"\"></div>\n",
    "\n",
    "<div class=\"section-title\">Sección 5.5</div>"
   ]
  },
  {
   "cell_type": "code",
   "execution_count": 1,
   "metadata": {
    "collapsed": false
   },
   "outputs": [],
   "source": [
    "from bs4 import BeautifulSoup\n",
    "\n",
    "import json\n",
    "\n",
    "def listings(file):\n",
    "    print(file.split('/')[-1])\n",
    "    print('------------')\n",
    "    print(open( file, 'r').read())\n",
    "    \n",
    "def printingXML(file):\n",
    "    bs = BeautifulSoup(open(file), 'xml')\n",
    "    print(bs.prettify())\n",
    "    \n",
    "import codecs   \n",
    "\n",
    "def listingjson(file):\n",
    "    with open(file) as json_data:\n",
    "        d = json.load(json_data, encoding=\"utf-8\")\n",
    "    print( json.dumps(d, indent=4)     )\n",
    "        \n"
   ]
  },
  {
   "cell_type": "markdown",
   "metadata": {},
   "source": [
    "# Bases de datos NoSQL. MongoDB"
   ]
  },
  {
   "cell_type": "markdown",
   "metadata": {},
   "source": [
    "MongoDB es una base de datos NoSQL muy popular, la cual está orientada a documentos. Estos documentos son de tipo JSON, cuyo tratamiento ya hemos visto en secciones anteriores. La librería Pandas cuenta con las herramienta necesarias para, una vez  establecida la conexión con MongoDB, crear dataframes a partir de los datos contenidos en MongoDB, así como para almacenar los datos contenidos en los dataframes de Pandas en  MongoDB.\n",
    "\n",
    "El primer paso es tener instalado MongoDB y arrancado el servidor de MongoDB . Para establecer la conexión con MongoDB es necesario usar la función `MongoClient` de la librería `pymongo` con los datos del host y el puerto como argumentos. El puerto que utiliza MongoDB en la instalación local por defecto es el 27017. Si MongoDB está instalada en otra máquina, es necesario indicar la IP y el puerto que corresponda."
   ]
  },
  {
   "cell_type": "code",
   "execution_count": 87,
   "metadata": {
    "collapsed": false
   },
   "outputs": [
    {
     "data": {
      "text/plain": [
       "pymongo.mongo_client.MongoClient"
      ]
     },
     "execution_count": 87,
     "metadata": {},
     "output_type": "execute_result"
    }
   ],
   "source": [
    "import pymongo \n",
    "client = pymongo.MongoClient('localhost',27017)\n",
    "type(client)"
   ]
  },
  {
   "cell_type": "markdown",
   "metadata": {},
   "source": [
    "En el servidor MongoDB pueden existir muchas bases de datos independientes y cada base de datos puede tener múltiples colecciones. Así mismo, cada colección puede contener múltiples documentos. Para conocer las bases de datos existentes en nuestro servidor podemos usar el método `database_names` de la clase `MongoClient`."
   ]
  },
  {
   "cell_type": "code",
   "execution_count": 88,
   "metadata": {
    "collapsed": false
   },
   "outputs": [
    {
     "data": {
      "text/plain": [
       "['Canciones', 'LadySongs', 'admin', 'datos', 'local']"
      ]
     },
     "execution_count": 88,
     "metadata": {},
     "output_type": "execute_result"
    }
   ],
   "source": [
    "client.database_names()"
   ]
  },
  {
   "cell_type": "markdown",
   "metadata": {},
   "source": [
    "Para consultar los datos de una de las bases de datos existentes en el servidor usamos el operador punto y el nombre de la base de datos:"
   ]
  },
  {
   "cell_type": "code",
   "execution_count": 89,
   "metadata": {
    "collapsed": false
   },
   "outputs": [
    {
     "data": {
      "text/plain": [
       "Database(MongoClient(host=['localhost:27017'], document_class=dict, tz_aware=False, connect=True), 'Canciones')"
      ]
     },
     "execution_count": 89,
     "metadata": {},
     "output_type": "execute_result"
    }
   ],
   "source": [
    "db  = client.Canciones\n",
    "db"
   ]
  },
  {
   "cell_type": "markdown",
   "metadata": {},
   "source": [
    "El método `collection_names`  devuelve una lista con las colecciones de una base de datos."
   ]
  },
  {
   "cell_type": "code",
   "execution_count": 90,
   "metadata": {
    "collapsed": false
   },
   "outputs": [
    {
     "data": {
      "text/plain": [
       "['Giras', 'Artistas']"
      ]
     },
     "execution_count": 90,
     "metadata": {},
     "output_type": "execute_result"
    }
   ],
   "source": [
    "db.collection_names() "
   ]
  },
  {
   "cell_type": "markdown",
   "metadata": {},
   "source": [
    "Por último, para acceder a una colección concreta de la base de datos usamos la misma notación, el operador punto, junto con el nombre de la colección."
   ]
  },
  {
   "cell_type": "code",
   "execution_count": 91,
   "metadata": {
    "collapsed": false
   },
   "outputs": [
    {
     "data": {
      "text/plain": [
       "Collection(Database(MongoClient(host=['localhost:27017'], document_class=dict, tz_aware=False, connect=True), 'Canciones'), 'Artistas')"
      ]
     },
     "execution_count": 91,
     "metadata": {},
     "output_type": "execute_result"
    }
   ],
   "source": [
    "col = db.Artistas\n",
    "col"
   ]
  },
  {
   "cell_type": "code",
   "execution_count": 92,
   "metadata": {
    "collapsed": false
   },
   "outputs": [
    {
     "data": {
      "text/plain": [
       "pymongo.collection.Collection"
      ]
     },
     "execution_count": 92,
     "metadata": {},
     "output_type": "execute_result"
    }
   ],
   "source": [
    "type(col)"
   ]
  },
  {
   "cell_type": "markdown",
   "metadata": {},
   "source": [
    "Podemos conocer la cantidad de documentos que hay en una colección con el método `count`:"
   ]
  },
  {
   "cell_type": "code",
   "execution_count": 93,
   "metadata": {
    "collapsed": false
   },
   "outputs": [
    {
     "data": {
      "text/plain": [
       "4"
      ]
     },
     "execution_count": 93,
     "metadata": {},
     "output_type": "execute_result"
    }
   ],
   "source": [
    "col.count()"
   ]
  },
  {
   "cell_type": "markdown",
   "metadata": {},
   "source": [
    "El método `find_one` permite acceder al primer elemento. Como podemos comprobar, cada documento en la colección es de tipo `dict` (ver figura XX)."
   ]
  },
  {
   "cell_type": "code",
   "execution_count": 94,
   "metadata": {
    "collapsed": false
   },
   "outputs": [
    {
     "data": {
      "text/plain": [
       "dict"
      ]
     },
     "execution_count": 94,
     "metadata": {},
     "output_type": "execute_result"
    }
   ],
   "source": [
    "doc = col.find_one()\n",
    "type(doc)"
   ]
  },
  {
   "cell_type": "code",
   "execution_count": 95,
   "metadata": {
    "collapsed": false
   },
   "outputs": [
    {
     "data": {
      "text/plain": [
       "{'Genre': 'Country pop',\n",
       " 'Group': {'Name': 'Lady Antebellum'},\n",
       " 'Songs': [{'Date': 2010, 'Length': '4:37', 'Title': 'Need you now'},\n",
       "  {'Date': 2010, 'Length': '4:17', 'Title': 'I Run To You'},\n",
       "  {'Date': 2007, 'Length': '3:43', 'Title': 'Never Alone'},\n",
       "  {'Length': '3:44', 'Title': 'American honey'}],\n",
       " '_id': ObjectId('58d50d15bf9c245136c1cbac')}"
      ]
     },
     "execution_count": 95,
     "metadata": {},
     "output_type": "execute_result"
    }
   ],
   "source": [
    "doc"
   ]
  },
  {
   "cell_type": "code",
   "execution_count": 96,
   "metadata": {
    "collapsed": false
   },
   "outputs": [
    {
     "name": "stdout",
     "output_type": "stream",
     "text": [
      "{\n",
      "    \"Songs\": [\n",
      "        {\n",
      "            \"Length\": \"4:37\",\n",
      "            \"Title\": \"Need you now\",\n",
      "            \"Date\": 2010\n",
      "        },\n",
      "        {\n",
      "            \"Length\": \"4:17\",\n",
      "            \"Title\": \"I Run To You\",\n",
      "            \"Date\": 2010\n",
      "        },\n",
      "        {\n",
      "            \"Length\": \"3:44\",\n",
      "            \"Title\": \"American honey\"\n",
      "        }\n",
      "    ],\n",
      "    \"Genre\": \"Country pop\",\n",
      "    \"_id\": \"ObjectId(58d50d15bf9c245136c1cbac)\",\n",
      "    \"Group\": {\n",
      "        \"Name\": \"Lady Antebellum\"\n",
      "    }\n",
      "}\n"
     ]
    }
   ],
   "source": [
    "listingjson('./datos/primero.json')"
   ]
  },
  {
   "cell_type": "markdown",
   "metadata": {},
   "source": [
    "Para recuperar todos los documentos de una colección (los distintos diccionarios) usamos el método `find`. Este método devuelve un cursor sobre el que podremos iterar. Por ejemplo, con la función `list` obtendremos una lista de diccionarios:"
   ]
  },
  {
   "cell_type": "code",
   "execution_count": 97,
   "metadata": {
    "collapsed": false
   },
   "outputs": [
    {
     "data": {
      "text/plain": [
       "[{'Genre': 'Country pop',\n",
       "  'Group': {'Name': 'Lady Antebellum'},\n",
       "  'Songs': [{'Date': 2010, 'Length': '4:37', 'Title': 'Need you now'},\n",
       "   {'Date': 2010, 'Length': '4:17', 'Title': 'I Run To You'},\n",
       "   {'Date': 2007, 'Length': '3:43', 'Title': 'Never Alone'},\n",
       "   {'Length': '3:44', 'Title': 'American honey'}],\n",
       "  '_id': ObjectId('58d50d15bf9c245136c1cbac')},\n",
       " {'Genre': 'Rock',\n",
       "  'Group': {'Name': 'Amy Macdonald'},\n",
       "  'Songs': [{'Date': 2007, 'Length': '3:05', 'Title': 'This Is the Life'},\n",
       "   {'Date': 2007, 'Length': '3:28', 'Title': 'Poison Prince'},\n",
       "   {'Date': 2007, 'Length': '3:50', 'Title': 'Run'}],\n",
       "  '_id': ObjectId('58d50fe3bf9c245136c1cbfb')},\n",
       " {'Genre': 'Folk',\n",
       "  'Group': {'Name': 'Tina Turner'},\n",
       "  'Songs': [{'Date': 1988, 'Length': '4:56', 'Title': 'Girls'},\n",
       "   {'Date': 1999, 'Length': '4:49', 'Title': 'Whatever You Need'},\n",
       "   {'Date': 1999, 'Length': '3:57', 'Title': 'Rock Me Baby'}],\n",
       "  '_id': ObjectId('58d50ff6bf9c245136c1cbff')},\n",
       " {'Genre': 'Metal',\n",
       "  'Group': {'Name': 'Metallica'},\n",
       "  'Songs': [{'Date': 1992, 'Length': '6:29', 'Title': 'Nothing Else Matters'},\n",
       "   {'Length': '4:21', 'Title': 'Hero Of The Day'}],\n",
       "  '_id': ObjectId('58d51054bf9c245136c1cc17')}]"
      ]
     },
     "execution_count": 97,
     "metadata": {},
     "output_type": "execute_result"
    }
   ],
   "source": [
    "cursor = col.find() \n",
    "l = list(cursor)\n",
    "l"
   ]
  },
  {
   "cell_type": "markdown",
   "metadata": {},
   "source": [
    "La función `json_normalize` con la lista de documentos y la clave `Songs` devuelve el siguiente dataframe:"
   ]
  },
  {
   "cell_type": "code",
   "execution_count": 98,
   "metadata": {
    "collapsed": false
   },
   "outputs": [
    {
     "data": {
      "text/html": [
       "<div>\n",
       "<table border=\"1\" class=\"dataframe\">\n",
       "  <thead>\n",
       "    <tr style=\"text-align: right;\">\n",
       "      <th></th>\n",
       "      <th>Date</th>\n",
       "      <th>Length</th>\n",
       "      <th>Title</th>\n",
       "    </tr>\n",
       "  </thead>\n",
       "  <tbody>\n",
       "    <tr>\n",
       "      <th>0</th>\n",
       "      <td>2010.0</td>\n",
       "      <td>4:37</td>\n",
       "      <td>Need you now</td>\n",
       "    </tr>\n",
       "    <tr>\n",
       "      <th>1</th>\n",
       "      <td>2010.0</td>\n",
       "      <td>4:17</td>\n",
       "      <td>I Run To You</td>\n",
       "    </tr>\n",
       "    <tr>\n",
       "      <th>2</th>\n",
       "      <td>2007.0</td>\n",
       "      <td>3:43</td>\n",
       "      <td>Never Alone</td>\n",
       "    </tr>\n",
       "    <tr>\n",
       "      <th>3</th>\n",
       "      <td>NaN</td>\n",
       "      <td>3:44</td>\n",
       "      <td>American honey</td>\n",
       "    </tr>\n",
       "    <tr>\n",
       "      <th>4</th>\n",
       "      <td>2007.0</td>\n",
       "      <td>3:05</td>\n",
       "      <td>This Is the Life</td>\n",
       "    </tr>\n",
       "    <tr>\n",
       "      <th>5</th>\n",
       "      <td>2007.0</td>\n",
       "      <td>3:28</td>\n",
       "      <td>Poison Prince</td>\n",
       "    </tr>\n",
       "    <tr>\n",
       "      <th>6</th>\n",
       "      <td>2007.0</td>\n",
       "      <td>3:50</td>\n",
       "      <td>Run</td>\n",
       "    </tr>\n",
       "    <tr>\n",
       "      <th>7</th>\n",
       "      <td>1988.0</td>\n",
       "      <td>4:56</td>\n",
       "      <td>Girls</td>\n",
       "    </tr>\n",
       "    <tr>\n",
       "      <th>8</th>\n",
       "      <td>1999.0</td>\n",
       "      <td>4:49</td>\n",
       "      <td>Whatever You Need</td>\n",
       "    </tr>\n",
       "    <tr>\n",
       "      <th>9</th>\n",
       "      <td>1999.0</td>\n",
       "      <td>3:57</td>\n",
       "      <td>Rock Me Baby</td>\n",
       "    </tr>\n",
       "    <tr>\n",
       "      <th>10</th>\n",
       "      <td>1992.0</td>\n",
       "      <td>6:29</td>\n",
       "      <td>Nothing Else Matters</td>\n",
       "    </tr>\n",
       "    <tr>\n",
       "      <th>11</th>\n",
       "      <td>NaN</td>\n",
       "      <td>4:21</td>\n",
       "      <td>Hero Of The Day</td>\n",
       "    </tr>\n",
       "  </tbody>\n",
       "</table>\n",
       "</div>"
      ],
      "text/plain": [
       "      Date Length                 Title\n",
       "0   2010.0   4:37          Need you now\n",
       "1   2010.0   4:17          I Run To You\n",
       "2   2007.0   3:43           Never Alone\n",
       "3      NaN   3:44        American honey\n",
       "4   2007.0   3:05      This Is the Life\n",
       "5   2007.0   3:28         Poison Prince\n",
       "6   2007.0   3:50                   Run\n",
       "7   1988.0   4:56                 Girls\n",
       "8   1999.0   4:49     Whatever You Need\n",
       "9   1999.0   3:57          Rock Me Baby\n",
       "10  1992.0   6:29  Nothing Else Matters\n",
       "11     NaN   4:21       Hero Of The Day"
      ]
     },
     "execution_count": 98,
     "metadata": {},
     "output_type": "execute_result"
    }
   ],
   "source": [
    "json_normalize(l, \"Songs\")"
   ]
  },
  {
   "cell_type": "markdown",
   "metadata": {},
   "source": [
    "El método `find` puede usarse con un diccionario como argumento, el cuál actuará como filtro, recuperándose así solo aquellos documentos que cumplan el filtro."
   ]
  },
  {
   "cell_type": "code",
   "execution_count": 99,
   "metadata": {
    "collapsed": false
   },
   "outputs": [
    {
     "data": {
      "text/html": [
       "<div>\n",
       "<table border=\"1\" class=\"dataframe\">\n",
       "  <thead>\n",
       "    <tr style=\"text-align: right;\">\n",
       "      <th></th>\n",
       "      <th>Date</th>\n",
       "      <th>Length</th>\n",
       "      <th>Title</th>\n",
       "    </tr>\n",
       "  </thead>\n",
       "  <tbody>\n",
       "    <tr>\n",
       "      <th>0</th>\n",
       "      <td>2010.0</td>\n",
       "      <td>4:37</td>\n",
       "      <td>Need you now</td>\n",
       "    </tr>\n",
       "    <tr>\n",
       "      <th>1</th>\n",
       "      <td>2010.0</td>\n",
       "      <td>4:17</td>\n",
       "      <td>I Run To You</td>\n",
       "    </tr>\n",
       "    <tr>\n",
       "      <th>2</th>\n",
       "      <td>2007.0</td>\n",
       "      <td>3:43</td>\n",
       "      <td>Never Alone</td>\n",
       "    </tr>\n",
       "    <tr>\n",
       "      <th>3</th>\n",
       "      <td>NaN</td>\n",
       "      <td>3:44</td>\n",
       "      <td>American honey</td>\n",
       "    </tr>\n",
       "  </tbody>\n",
       "</table>\n",
       "</div>"
      ],
      "text/plain": [
       "     Date Length           Title\n",
       "0  2010.0   4:37    Need you now\n",
       "1  2010.0   4:17    I Run To You\n",
       "2  2007.0   3:43     Never Alone\n",
       "3     NaN   3:44  American honey"
      ]
     },
     "execution_count": 99,
     "metadata": {},
     "output_type": "execute_result"
    }
   ],
   "source": [
    "cursor = col.find({\"Group\": {\"Name\": \"Lady Antebellum\"}}) \n",
    "l = list(cursor)\n",
    "tabla_lady = json_normalize(l, \"Songs\")\n",
    "tabla_lady"
   ]
  },
  {
   "cell_type": "markdown",
   "metadata": {},
   "source": [
    "Para crear una nueva base de datos en el servidor de MongoDB utilizamos el operador punto con el nombre de la base de datos que queremos crear:"
   ]
  },
  {
   "cell_type": "code",
   "execution_count": 100,
   "metadata": {
    "collapsed": false
   },
   "outputs": [
    {
     "data": {
      "text/plain": [
       "Database(MongoClient(host=['localhost:27017'], document_class=dict, tz_aware=False, connect=True), 'LadySongs')"
      ]
     },
     "execution_count": 100,
     "metadata": {},
     "output_type": "execute_result"
    }
   ],
   "source": [
    "client.drop_database('LadySongs')\n",
    "nueva_db = client.LadySongs\n",
    "nueva_db"
   ]
  },
  {
   "cell_type": "markdown",
   "metadata": {},
   "source": [
    "Se ha creado una nueva base de datos llamada `LadySongs`. Procedemos de la misma manera para crea una colección en la base de datos."
   ]
  },
  {
   "cell_type": "code",
   "execution_count": 101,
   "metadata": {
    "collapsed": true
   },
   "outputs": [],
   "source": [
    "col = nueva_db.Songs_LA"
   ]
  },
  {
   "cell_type": "markdown",
   "metadata": {},
   "source": [
    "Para escribir cada una de las filas del dataframe `tabla_lady` en la colección `Songs_LA`, es necesario transformar el dataframe a un objeto de la clase `json`. Para ello usamos el método `to_json` de la clase `DataFrame` seguido de la función `loads` de la librería `json`."
   ]
  },
  {
   "cell_type": "code",
   "execution_count": 102,
   "metadata": {
    "collapsed": false
   },
   "outputs": [
    {
     "data": {
      "text/plain": [
       "[{'Date': 2010.0, 'Length': '4:37', 'Title': 'Need you now'},\n",
       " {'Date': 2010.0, 'Length': '4:17', 'Title': 'I Run To You'},\n",
       " {'Date': 2007.0, 'Length': '3:43', 'Title': 'Never Alone'},\n",
       " {'Date': None, 'Length': '3:44', 'Title': 'American honey'}]"
      ]
     },
     "execution_count": 102,
     "metadata": {},
     "output_type": "execute_result"
    }
   ],
   "source": [
    "d = tabla_lady.to_json(orient='records')\n",
    "data_json = json.loads(d)\n",
    "data_json"
   ]
  },
  {
   "cell_type": "markdown",
   "metadata": {},
   "source": [
    "Para finalizar el proceso, el método `insert_many` permite insertar en una colección tantos documentos como diccionarios haya en el objeto de la clase `json`."
   ]
  },
  {
   "cell_type": "code",
   "execution_count": 103,
   "metadata": {
    "collapsed": false
   },
   "outputs": [
    {
     "data": {
      "text/plain": [
       "<pymongo.results.InsertManyResult at 0x26eb6efec60>"
      ]
     },
     "execution_count": 103,
     "metadata": {},
     "output_type": "execute_result"
    }
   ],
   "source": [
    "col.insert_many(data_json)"
   ]
  },
  {
   "cell_type": "markdown",
   "metadata": {},
   "source": [
    "Ahora, si consultamos las bases de datos existente en el servidor, aparecerá la recién creada."
   ]
  },
  {
   "cell_type": "code",
   "execution_count": 104,
   "metadata": {
    "collapsed": false
   },
   "outputs": [
    {
     "data": {
      "text/plain": [
       "['Canciones', 'LadySongs', 'admin', 'datos', 'local']"
      ]
     },
     "execution_count": 104,
     "metadata": {},
     "output_type": "execute_result"
    }
   ],
   "source": [
    "client.database_names()"
   ]
  },
  {
   "cell_type": "markdown",
   "metadata": {},
   "source": [
    "## Referencias\n",
    "\n"
   ]
  },
  {
   "cell_type": "markdown",
   "metadata": {},
   "source": [
    "* [Big Data. Análisis de datos con Python. Sarasa Cabezuelo, Antonio; García Ruiz, Yolanda Aditorial Garceta. ISBN: 978-84-1622-883-6](http://www.garceta.es/libro.php?ISBN=978-84-1622-883-6)\n",
    "\n",
    "* [Python for Data Analysis](http://shop.oreilly.com/product/0636920023784.do)\n",
    "\n",
    "\n",
    "------"
   ]
  }
 ],
 "metadata": {
  "anaconda-cloud": {},
  "kernelspec": {
   "display_name": "Python 3",
   "language": "python",
   "name": "python3"
  },
  "language_info": {
   "codemirror_mode": {
    "name": "ipython",
    "version": 3
   },
   "file_extension": ".py",
   "mimetype": "text/x-python",
   "name": "python",
   "nbconvert_exporter": "python",
   "pygments_lexer": "ipython3",
   "version": "3.6.0"
  },
  "toc": {
   "colors": {
    "hover_highlight": "#DAA520",
    "running_highlight": "#FF0000",
    "selected_highlight": "#FFD700"
   },
   "moveMenuLeft": true,
   "nav_menu": {
    "height": "394px",
    "width": "252px"
   },
   "navigate_menu": true,
   "number_sections": true,
   "sideBar": true,
   "threshold": 4,
   "toc_cell": false,
   "toc_position": {
    "height": "543px",
    "left": "0px",
    "right": "1013px",
    "top": "119px",
    "width": "353px"
   },
   "toc_section_display": "block",
   "toc_window_display": true,
   "widenNotebook": false
  }
 },
 "nbformat": 4,
 "nbformat_minor": 0
}
