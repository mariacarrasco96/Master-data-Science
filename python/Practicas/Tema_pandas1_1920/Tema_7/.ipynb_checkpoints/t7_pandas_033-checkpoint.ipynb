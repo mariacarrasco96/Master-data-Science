{
 "cells": [
  {
   "cell_type": "markdown",
   "metadata": {},
   "source": [
    "<div id=\"navegacion\" prev=\"../Tema_7/t7_pandas_032.html\" next=\"../Tema_7/t7_pandas_034.html\"></div>\n",
    "\n",
    "<div class=\"section-title\">Sección 5.3</div>"
   ]
  },
  {
   "cell_type": "markdown",
   "metadata": {},
   "source": [
    "# Datos en Formato JSON"
   ]
  },
  {
   "cell_type": "markdown",
   "metadata": {},
   "source": [
    "Otro de los estándar para el intercambio de datos en la Webes el formato JSON (JavaScript Object Notation). Al igual que ocurría con XML, permite representar cualquier estructura de datos de una forma jerárquica, la cual puede ser fácilmente representada en forma de árbol.\n",
    "\n",
    "Pandas dispone de la función `pd.read_json()`  para crear dataframes a partir de un documento JSON. La operación recíproca, el método `to_json()` de la clase `DataFrame` que permite guardar dataframes en formato JSON.\n",
    "\n",
    "Para entender cómo navegar por este tipo de documentos es necesario conocer su estructura interna. "
   ]
  },
  {
   "cell_type": "markdown",
   "metadata": {},
   "source": [
    "## Escritura de ficheros JSON"
   ]
  },
  {
   "cell_type": "markdown",
   "metadata": {},
   "source": [
    "Para empezar, veremos cómo crear un documento en formato JSON a partir de un dataframe usando el método `to_json`. "
   ]
  },
  {
   "cell_type": "code",
   "execution_count": 3,
   "metadata": {
    "collapsed": false
   },
   "outputs": [
    {
     "data": {
      "text/html": [
       "<div>\n",
       "<table border=\"1\" class=\"dataframe\">\n",
       "  <thead>\n",
       "    <tr style=\"text-align: right;\">\n",
       "      <th></th>\n",
       "      <th>Extreno</th>\n",
       "      <th>Nombre</th>\n",
       "      <th>Cat</th>\n",
       "    </tr>\n",
       "  </thead>\n",
       "  <tbody>\n",
       "    <tr>\n",
       "      <th>0</th>\n",
       "      <td>1982</td>\n",
       "      <td>E.T. the ExtraTerrestrial</td>\n",
       "      <td>Fantasy</td>\n",
       "    </tr>\n",
       "    <tr>\n",
       "      <th>1</th>\n",
       "      <td>1982</td>\n",
       "      <td>Poltergeist</td>\n",
       "      <td>Horror</td>\n",
       "    </tr>\n",
       "    <tr>\n",
       "      <th>2</th>\n",
       "      <td>1992</td>\n",
       "      <td>Alien</td>\n",
       "      <td>Action</td>\n",
       "    </tr>\n",
       "    <tr>\n",
       "      <th>3</th>\n",
       "      <td>1992</td>\n",
       "      <td>The Crying Game</td>\n",
       "      <td>War</td>\n",
       "    </tr>\n",
       "  </tbody>\n",
       "</table>\n",
       "</div>"
      ],
      "text/plain": [
       "   Extreno                     Nombre      Cat\n",
       "0     1982  E.T. the ExtraTerrestrial  Fantasy\n",
       "1     1982                Poltergeist   Horror\n",
       "2     1992                      Alien   Action\n",
       "3     1992            The Crying Game      War"
      ]
     },
     "execution_count": 3,
     "metadata": {},
     "output_type": "execute_result"
    }
   ],
   "source": [
    "import pandas as pd\n",
    "import json\n",
    "\n",
    "tabla = pd.DataFrame( [ (1982,\"E.T. the ExtraTerrestrial\",\"Fantasy\"),\n",
    "                        (1982,\"Poltergeist\",\"Horror\"),\n",
    "                        (1992,\"Alien\",\"Action\"),\n",
    "                        (1992,\"The Crying Game\",\"War\")],\n",
    "                     columns = [\"Extreno\",\"Nombre\",\"Cat\"])\n",
    "tabla"
   ]
  },
  {
   "cell_type": "code",
   "execution_count": 4,
   "metadata": {
    "collapsed": true
   },
   "outputs": [],
   "source": [
    "tabla.to_json('peliculas.json')"
   ]
  },
  {
   "cell_type": "markdown",
   "metadata": {},
   "source": [
    "El documento `peliculas.json` se muestra a continuación:\n",
    "\n",
    "```\n",
    "peliculas.json\n",
    "------------------\n",
    "\n",
    "{\n",
    "    \"Cat\": {\n",
    "        \"3\": \"War\",\n",
    "        \"2\": \"Action\",\n",
    "        \"0\": \"Fantasy\",\n",
    "        \"1\": \"Horror\"\n",
    "    },\n",
    "    \"Nombre\": {\n",
    "        \"3\": \"The Crying Game\",\n",
    "        \"2\": \"Alien\",\n",
    "        \"0\": \"E.T. the ExtraTerrestrial\",\n",
    "        \"1\": \"Poltergeist\"\n",
    "    },\n",
    "    \"Extreno\": {\n",
    "        \"3\": 1992,\n",
    "        \"2\": 1992,\n",
    "        \"0\": 1982,\n",
    "        \"1\": 1982\n",
    "    }\n",
    "}\n",
    "``` "
   ]
  },
  {
   "cell_type": "markdown",
   "metadata": {},
   "source": [
    "## Lectura de ficheros JSON"
   ]
  },
  {
   "cell_type": "markdown",
   "metadata": {},
   "source": [
    "La función `pd.read_json` permite realizar la operación inversa. Dicha función recibe como argumento la ruta del fichero que contiene los datos en formato JSON."
   ]
  },
  {
   "cell_type": "code",
   "execution_count": 5,
   "metadata": {
    "collapsed": false
   },
   "outputs": [
    {
     "data": {
      "text/html": [
       "<div>\n",
       "<table border=\"1\" class=\"dataframe\">\n",
       "  <thead>\n",
       "    <tr style=\"text-align: right;\">\n",
       "      <th></th>\n",
       "      <th>Cat</th>\n",
       "      <th>Extreno</th>\n",
       "      <th>Nombre</th>\n",
       "    </tr>\n",
       "  </thead>\n",
       "  <tbody>\n",
       "    <tr>\n",
       "      <th>0</th>\n",
       "      <td>Fantasy</td>\n",
       "      <td>1982</td>\n",
       "      <td>E.T. the ExtraTerrestrial</td>\n",
       "    </tr>\n",
       "    <tr>\n",
       "      <th>1</th>\n",
       "      <td>Horror</td>\n",
       "      <td>1982</td>\n",
       "      <td>Poltergeist</td>\n",
       "    </tr>\n",
       "    <tr>\n",
       "      <th>2</th>\n",
       "      <td>Action</td>\n",
       "      <td>1992</td>\n",
       "      <td>Alien</td>\n",
       "    </tr>\n",
       "    <tr>\n",
       "      <th>3</th>\n",
       "      <td>War</td>\n",
       "      <td>1992</td>\n",
       "      <td>The Crying Game</td>\n",
       "    </tr>\n",
       "  </tbody>\n",
       "</table>\n",
       "</div>"
      ],
      "text/plain": [
       "       Cat  Extreno                     Nombre\n",
       "0  Fantasy     1982  E.T. the ExtraTerrestrial\n",
       "1   Horror     1982                Poltergeist\n",
       "2   Action     1992                      Alien\n",
       "3      War     1992            The Crying Game"
      ]
     },
     "execution_count": 5,
     "metadata": {},
     "output_type": "execute_result"
    }
   ],
   "source": [
    "tabla = pd.read_json('./peliculas.json')\n",
    "tabla"
   ]
  },
  {
   "cell_type": "markdown",
   "metadata": {},
   "source": [
    "En este caso, el proceso es muy simple porque el contenido del fichero `peliculas.json` tenía una estructura tabular, pero eso no es lo normal. La figura XX muestra el contenido del fichero `canciones.json`.\n",
    "\n",
    "```\n",
    "canciones.json\n",
    "--------------\n",
    "\n",
    "[\n",
    "    {\n",
    "        \"Songs\": [\n",
    "            {\n",
    "                \"Length\": \"6:29\",\n",
    "                \"Date\": 1992,\n",
    "                \"Title\": \"Nothing Else Matters\"\n",
    "            },\n",
    "            {\n",
    "                \"Length\": \"4:21\",\n",
    "                \"Title\": \"Hero Of The Day\"\n",
    "            }\n",
    "        ],\n",
    "        \"Genre\": \"Metal\",\n",
    "        \"Group\": {\n",
    "            \"Name\": \"Metallica\"\n",
    "        }\n",
    "    },\n",
    "    {\n",
    "        \"Songs\": [\n",
    "            {\n",
    "                \"Length\": \"4:37\",\n",
    "                \"Date\": 2010,\n",
    "                \"Title\": \"Need you now\"\n",
    "            },\n",
    "            {\n",
    "                \"Length\": \"4:17\",\n",
    "                \"Date\": 2010,\n",
    "                \"Title\": \"I Run To You\"\n",
    "            },\n",
    "            {\n",
    "                \"Length\": \"3:44\",\n",
    "                \"Title\": \"American honey\"\n",
    "            }\n",
    "        ],\n",
    "        \"Genre\": \"Country pop\",\n",
    "        \"Group\": {\n",
    "            \"Name\": \"Lady Antebellum\"\n",
    "        }\n",
    "    }\n",
    "]\n",
    "```\n"
   ]
  },
  {
   "cell_type": "markdown",
   "metadata": {},
   "source": [
    "La función `json_normalize` de la sublibrería `pandas.io.json` aporta un poco más de potencia. Por ejemplo, para crear un dataframe con la información de las canciones, escribimo lo siguiente:"
   ]
  },
  {
   "cell_type": "code",
   "execution_count": 6,
   "metadata": {
    "collapsed": false
   },
   "outputs": [
    {
     "data": {
      "text/html": [
       "<div>\n",
       "<table border=\"1\" class=\"dataframe\">\n",
       "  <thead>\n",
       "    <tr style=\"text-align: right;\">\n",
       "      <th></th>\n",
       "      <th>Date</th>\n",
       "      <th>Length</th>\n",
       "      <th>Title</th>\n",
       "    </tr>\n",
       "  </thead>\n",
       "  <tbody>\n",
       "    <tr>\n",
       "      <th>0</th>\n",
       "      <td>1992.0</td>\n",
       "      <td>6:29</td>\n",
       "      <td>Nothing Else Matters</td>\n",
       "    </tr>\n",
       "    <tr>\n",
       "      <th>1</th>\n",
       "      <td>NaN</td>\n",
       "      <td>4:21</td>\n",
       "      <td>Hero Of The Day</td>\n",
       "    </tr>\n",
       "    <tr>\n",
       "      <th>2</th>\n",
       "      <td>2010.0</td>\n",
       "      <td>4:37</td>\n",
       "      <td>Need you now</td>\n",
       "    </tr>\n",
       "    <tr>\n",
       "      <th>3</th>\n",
       "      <td>2010.0</td>\n",
       "      <td>4:17</td>\n",
       "      <td>I Run To You</td>\n",
       "    </tr>\n",
       "    <tr>\n",
       "      <th>4</th>\n",
       "      <td>NaN</td>\n",
       "      <td>3:44</td>\n",
       "      <td>American honey</td>\n",
       "    </tr>\n",
       "  </tbody>\n",
       "</table>\n",
       "</div>"
      ],
      "text/plain": [
       "     Date Length                 Title\n",
       "0  1992.0   6:29  Nothing Else Matters\n",
       "1     NaN   4:21       Hero Of The Day\n",
       "2  2010.0   4:37          Need you now\n",
       "3  2010.0   4:17          I Run To You\n",
       "4     NaN   3:44        American honey"
      ]
     },
     "execution_count": 6,
     "metadata": {},
     "output_type": "execute_result"
    }
   ],
   "source": [
    "from pandas.io.json import json_normalize\n",
    "with open('./datos/canciones.json') as json_data:\n",
    "    d = json.load(json_data)\n",
    "json_normalize(d, \"Songs\") "
   ]
  },
  {
   "cell_type": "markdown",
   "metadata": {},
   "source": [
    "La función `json_normalize` recibe como argumentos el objeto de la clase `json` y la clave del documento que contiene los datos que buscamos. Si además queremos añadir al dataframe la información del grupo musical al que pertenece cada canción, tenemos que añadir un tercer argumento que indica la lista de claves que queremos añadir."
   ]
  },
  {
   "cell_type": "code",
   "execution_count": 7,
   "metadata": {
    "collapsed": false
   },
   "outputs": [
    {
     "data": {
      "text/html": [
       "<div>\n",
       "<table border=\"1\" class=\"dataframe\">\n",
       "  <thead>\n",
       "    <tr style=\"text-align: right;\">\n",
       "      <th></th>\n",
       "      <th>Date</th>\n",
       "      <th>Length</th>\n",
       "      <th>Title</th>\n",
       "      <th>Group.Name</th>\n",
       "      <th>Genre</th>\n",
       "    </tr>\n",
       "  </thead>\n",
       "  <tbody>\n",
       "    <tr>\n",
       "      <th>0</th>\n",
       "      <td>1992.0</td>\n",
       "      <td>6:29</td>\n",
       "      <td>Nothing Else Matters</td>\n",
       "      <td>Metallica</td>\n",
       "      <td>Metal</td>\n",
       "    </tr>\n",
       "    <tr>\n",
       "      <th>1</th>\n",
       "      <td>NaN</td>\n",
       "      <td>4:21</td>\n",
       "      <td>Hero Of The Day</td>\n",
       "      <td>Metallica</td>\n",
       "      <td>Metal</td>\n",
       "    </tr>\n",
       "    <tr>\n",
       "      <th>2</th>\n",
       "      <td>2010.0</td>\n",
       "      <td>4:37</td>\n",
       "      <td>Need you now</td>\n",
       "      <td>Lady Antebellum</td>\n",
       "      <td>Country pop</td>\n",
       "    </tr>\n",
       "    <tr>\n",
       "      <th>3</th>\n",
       "      <td>2010.0</td>\n",
       "      <td>4:17</td>\n",
       "      <td>I Run To You</td>\n",
       "      <td>Lady Antebellum</td>\n",
       "      <td>Country pop</td>\n",
       "    </tr>\n",
       "    <tr>\n",
       "      <th>4</th>\n",
       "      <td>NaN</td>\n",
       "      <td>3:44</td>\n",
       "      <td>American honey</td>\n",
       "      <td>Lady Antebellum</td>\n",
       "      <td>Country pop</td>\n",
       "    </tr>\n",
       "  </tbody>\n",
       "</table>\n",
       "</div>"
      ],
      "text/plain": [
       "     Date Length                 Title       Group.Name        Genre\n",
       "0  1992.0   6:29  Nothing Else Matters        Metallica        Metal\n",
       "1     NaN   4:21       Hero Of The Day        Metallica        Metal\n",
       "2  2010.0   4:37          Need you now  Lady Antebellum  Country pop\n",
       "3  2010.0   4:17          I Run To You  Lady Antebellum  Country pop\n",
       "4     NaN   3:44        American honey  Lady Antebellum  Country pop"
      ]
     },
     "execution_count": 7,
     "metadata": {},
     "output_type": "execute_result"
    }
   ],
   "source": [
    "from pandas.io.json import json_normalize\n",
    "with open('./datos/canciones.json') as json_data:\n",
    "    d = json.load(json_data)\n",
    "json_normalize(d, \"Songs\", [[\"Group\", \"Name\"], \"Genre\"]) "
   ]
  },
  {
   "cell_type": "markdown",
   "metadata": {},
   "source": [
    "## Referencias"
   ]
  },
  {
   "cell_type": "markdown",
   "metadata": {},
   "source": [
    "* [Big Data. Análisis de datos con Python. Sarasa Cabezuelo, Antonio; García Ruiz, Yolanda Aditorial Garceta. ISBN: 978-84-1622-883-6](http://www.garceta.es/libro.php?ISBN=978-84-1622-883-6)\n",
    "* [Python for Data Analysis](http://shop.oreilly.com/product/0636920023784.do)\n",
    "* [librería request](http://docs.python-requests.org/en/master/)\n",
    "* [`lxml`](http://lxml.de/)\n",
    "\n",
    "------"
   ]
  }
 ],
 "metadata": {
  "anaconda-cloud": {},
  "kernelspec": {
   "display_name": "Python 3",
   "language": "python",
   "name": "python3"
  },
  "language_info": {
   "codemirror_mode": {
    "name": "ipython",
    "version": 3
   },
   "file_extension": ".py",
   "mimetype": "text/x-python",
   "name": "python",
   "nbconvert_exporter": "python",
   "pygments_lexer": "ipython3",
   "version": "3.6.0"
  },
  "toc": {
   "colors": {
    "hover_highlight": "#DAA520",
    "running_highlight": "#FF0000",
    "selected_highlight": "#FFD700"
   },
   "moveMenuLeft": true,
   "nav_menu": {
    "height": "394px",
    "width": "252px"
   },
   "navigate_menu": true,
   "number_sections": true,
   "sideBar": true,
   "threshold": 4,
   "toc_cell": false,
   "toc_position": {
    "height": "543px",
    "left": "0px",
    "right": "1013px",
    "top": "119px",
    "width": "353px"
   },
   "toc_section_display": "block",
   "toc_window_display": true,
   "widenNotebook": false
  }
 },
 "nbformat": 4,
 "nbformat_minor": 0
}
