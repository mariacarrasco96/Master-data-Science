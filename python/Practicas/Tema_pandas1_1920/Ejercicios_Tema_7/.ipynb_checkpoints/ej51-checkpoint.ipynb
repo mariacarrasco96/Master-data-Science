{
 "cells": [
  {
   "cell_type": "markdown",
   "metadata": {},
   "source": [
    "# Ejercicios "
   ]
  },
  {
   "cell_type": "markdown",
   "metadata": {},
   "source": [
    "##  Ejercicio 1"
   ]
  },
  {
   "cell_type": "markdown",
   "metadata": {},
   "source": [
    "Conocemos los precios del petróleo en unas determinadas fechas. La lista `fechas` contiene las fechas y la lista `precio_usd` contiene el precio del barril de petróleo en dólares en cada una de las fechas:"
   ]
  },
  {
   "cell_type": "code",
   "execution_count": 3,
   "metadata": {},
   "outputs": [],
   "source": [
    "fechas = ['1985-05', '1985-06', '1985-07', '1985-08', '1985-09', '1985-10',\n",
    "       '1985-11', '1985-12', '1986-01', '1986-02', '1986-03', '1986-04',\n",
    "       '1986-05', '1986-06', '1986-07', '1986-08', '1986-09', '1986-10',\n",
    "       '1986-11', '1986-12', '1987-01', '1987-02', '1987-03', '1987-04',\n",
    "       '1987-05']\n",
    "\n",
    "precio_usd = [ 36.6383,  35.4184,  34.2709,  33.8411,  34.6826,  33.4498,\n",
    "        34.1048,  29.5807,  25.2609,  16.8622,  13.3181,  12.5621,\n",
    "        14.2754,  12.2961,  10.0871,  13.5117,  13.9921,  13.6932,\n",
    "        14.4211,  15.3397,  16.5182,  15.2809,  15.6204,  15.5698,  15.9458]"
   ]
  },
  {
   "cell_type": "markdown",
   "metadata": {},
   "source": [
    "* Crear un dataframe llamado `datos` con las siguientes características:\n",
    "\n",
    "    * Solo tiene una columna `precio_usd` que representa el precio del barril.\n",
    "    * El índice está formado por los datos de la lista `fechas`.\n",
    "    * Los valores de la columna `precio_usd` son los valores de la lista `precio_usd`.\n",
    "\n",
    "\n"
   ]
  },
  {
   "cell_type": "code",
   "execution_count": 1,
   "metadata": {
    "ExecuteTime": {
     "end_time": "2018-10-17T11:53:02.990634Z",
     "start_time": "2018-10-17T11:53:02.985179Z"
    }
   },
   "outputs": [],
   "source": [
    "# Sol:\n",
    "\n"
   ]
  },
  {
   "cell_type": "markdown",
   "metadata": {},
   "source": [
    "* Mostrar las 10 primeras filas del dataframe `datos`. \n"
   ]
  },
  {
   "cell_type": "code",
   "execution_count": 2,
   "metadata": {
    "ExecuteTime": {
     "end_time": "2018-10-17T11:53:14.098299Z",
     "start_time": "2018-10-17T11:53:14.094828Z"
    }
   },
   "outputs": [],
   "source": [
    "# Sol:\n",
    "\n",
    "\n"
   ]
  },
  {
   "cell_type": "markdown",
   "metadata": {},
   "source": [
    "* Ejecutar la siguiente celda de código:"
   ]
  },
  {
   "cell_type": "code",
   "execution_count": null,
   "metadata": {
    "ExecuteTime": {
     "end_time": "2018-10-17T11:53:18.251081Z",
     "start_time": "2018-10-17T11:53:17.740200Z"
    }
   },
   "outputs": [],
   "source": [
    "# Representa gráficamente la evolución de los precios\n",
    "import matplotlib as mpl\n",
    "import matplotlib.pyplot as plt\n",
    "\n",
    "%matplotlib inline\n",
    "\n",
    "datos.plot(title = 'Evolucion Precios',\n",
    "                          figsize=(9,4));                           # Tamaño de la figura"
   ]
  },
  {
   "cell_type": "markdown",
   "metadata": {},
   "source": [
    "---\n",
    "* Determinar el mes y el año donde por primera vez el precio del petróleo superó los 30 dólares\n",
    "\n",
    "La solución es 1985-05."
   ]
  },
  {
   "cell_type": "code",
   "execution_count": 16,
   "metadata": {},
   "outputs": [
    {
     "data": {
      "text/plain": [
       "25"
      ]
     },
     "execution_count": 16,
     "metadata": {},
     "output_type": "execute_result"
    }
   ],
   "source": [
    "#Sol:\n",
    "\n"
   ]
  },
  {
   "cell_type": "markdown",
   "metadata": {},
   "source": [
    "* Añadir una nueva columna al dataframe `datos` llamada `precio_euros` que contenga el precio en euros del barril. utiliza el cambio: 1 USD = 0,85032 EUR."
   ]
  },
  {
   "cell_type": "code",
   "execution_count": 4,
   "metadata": {},
   "outputs": [],
   "source": [
    "# Sol:\n",
    "\n"
   ]
  },
  {
   "cell_type": "markdown",
   "metadata": {},
   "source": [
    "* Ordena los datos en orden creciente de precio de barril en euros."
   ]
  },
  {
   "cell_type": "code",
   "execution_count": 5,
   "metadata": {},
   "outputs": [],
   "source": [
    "# Sol:\n",
    "\n"
   ]
  },
  {
   "cell_type": "markdown",
   "metadata": {},
   "source": [
    "* Elimina definitivamente la columna `precio_usd` del dataframe"
   ]
  },
  {
   "cell_type": "code",
   "execution_count": 6,
   "metadata": {},
   "outputs": [],
   "source": [
    "# Sol:\n",
    "\n"
   ]
  },
  {
   "cell_type": "markdown",
   "metadata": {},
   "source": [
    "-----\n"
   ]
  }
 ],
 "metadata": {
  "anaconda-cloud": {},
  "kernelspec": {
   "display_name": "Python 3",
   "language": "python",
   "name": "python3"
  },
  "language_info": {
   "codemirror_mode": {
    "name": "ipython",
    "version": 3
   },
   "file_extension": ".py",
   "mimetype": "text/x-python",
   "name": "python",
   "nbconvert_exporter": "python",
   "pygments_lexer": "ipython3",
   "version": "3.6.6"
  },
  "nbTranslate": {
   "displayLangs": [
    "en",
    "es"
   ],
   "hotkey": "alt-t",
   "langInMainMenu": true,
   "sourceLang": "es",
   "targetLang": "en",
   "useGoogleTranslate": true
  },
  "toc": {
   "nav_menu": {
    "height": "86px",
    "width": "252px"
   },
   "number_sections": true,
   "sideBar": true,
   "skip_h1_title": false,
   "title_cell": "Table of Contents",
   "title_sidebar": "Contents",
   "toc_cell": false,
   "toc_position": {},
   "toc_section_display": "block",
   "toc_window_display": false
  }
 },
 "nbformat": 4,
 "nbformat_minor": 1
}
