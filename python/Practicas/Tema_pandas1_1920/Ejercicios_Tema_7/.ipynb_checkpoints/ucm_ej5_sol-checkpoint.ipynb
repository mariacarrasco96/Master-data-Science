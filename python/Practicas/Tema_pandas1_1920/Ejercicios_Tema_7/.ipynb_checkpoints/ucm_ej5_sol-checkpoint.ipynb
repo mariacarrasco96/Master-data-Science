{
 "cells": [
  {
   "cell_type": "markdown",
   "metadata": {},
   "source": [
    "# Ejercicios 8 Sol"
   ]
  },
  {
   "cell_type": "markdown",
   "metadata": {},
   "source": [
    "#### 1 Ejercicio"
   ]
  },
  {
   "cell_type": "markdown",
   "metadata": {},
   "source": [
    "El fichero [oil_price.csv](../datos/oil_price_monthly.csv) contiene información mensual del precio del petróleo desde el año 1985. Abre el fichero y mira el aspecto que tiene.\n",
    "* La primera columna contiene el mes y el año en formato 'yyyy-mm'.\n",
    "* La segunda columna contiene el precio del barril expresado en euros.\n",
    "\n",
    "----\n",
    "* Realiza la carga del fichero utilizando la función __read_csv__ de pandas. El DataFrame creado debe tener como índices la fecha.\n"
   ]
  },
  {
   "cell_type": "code",
   "execution_count": 2,
   "metadata": {
    "collapsed": false
   },
   "outputs": [
    {
     "data": {
      "text/html": [
       "<div>\n",
       "<table border=\"1\" class=\"dataframe\">\n",
       "  <thead>\n",
       "    <tr style=\"text-align: right;\">\n",
       "      <th></th>\n",
       "      <th>Precio_barril</th>\n",
       "    </tr>\n",
       "  </thead>\n",
       "  <tbody>\n",
       "    <tr>\n",
       "      <th>1985-05</th>\n",
       "      <td>36.6383</td>\n",
       "    </tr>\n",
       "    <tr>\n",
       "      <th>1985-06</th>\n",
       "      <td>35.4184</td>\n",
       "    </tr>\n",
       "    <tr>\n",
       "      <th>1985-07</th>\n",
       "      <td>34.2709</td>\n",
       "    </tr>\n",
       "    <tr>\n",
       "      <th>1985-08</th>\n",
       "      <td>33.8411</td>\n",
       "    </tr>\n",
       "    <tr>\n",
       "      <th>1985-09</th>\n",
       "      <td>34.6826</td>\n",
       "    </tr>\n",
       "  </tbody>\n",
       "</table>\n",
       "</div>"
      ],
      "text/plain": [
       "         Precio_barril\n",
       "1985-05        36.6383\n",
       "1985-06        35.4184\n",
       "1985-07        34.2709\n",
       "1985-08        33.8411\n",
       "1985-09        34.6826"
      ]
     },
     "execution_count": 2,
     "metadata": {},
     "output_type": "execute_result"
    }
   ],
   "source": [
    "# Sol:\n",
    "import pandas as pd\n",
    "precios = pd.read_csv('./datos/oil_price_monthly.csv',\n",
    "                     names = ['Precio_barril'])\n",
    "precios.head()"
   ]
  },
  {
   "cell_type": "code",
   "execution_count": null,
   "metadata": {
    "collapsed": true
   },
   "outputs": [],
   "source": [
    "precios = pd.read_csv('./datos/oil_price_monthly.csv',\n",
    "                     names = ['Precio_barril'])"
   ]
  },
  {
   "cell_type": "code",
   "execution_count": null,
   "metadata": {
    "collapsed": false
   },
   "outputs": [],
   "source": [
    "precios[precios.Precio_barril > 60].head()"
   ]
  },
  {
   "cell_type": "markdown",
   "metadata": {},
   "source": [
    "---\n",
    "* Determinar el mes y el año donde por primera vez el precio del petróleo superó los 40 euros, los 60 y los 80 euros.\n",
    "    * Primero crea un DataFrame con el mes y el año donde por primera vez el precio del petróleo superó los 40.\n",
    "    * En segundo lugar crea un DataFrame con el mes y el año donde por primera vez el precio del petróleo superó los 60.\n",
    "    * En tercer lugar crea un DataFrame con el mes y el año donde por primera vez el precio del petróleo superó los 80.\n",
    "    * Consulta la ayuda de la función `join`para saber cómo funciona y para qué sirve. Para ello ejecuta `pd.join?`.\n",
    "    * Utiliza la función `join` para unir los datos en un unico DataFrame.\n",
    "    \n",
    "\n",
    "La solución es 2005-03, 2007-11, 2008-05."
   ]
  },
  {
   "cell_type": "code",
   "execution_count": null,
   "metadata": {
    "collapsed": false
   },
   "outputs": [],
   "source": [
    "#Sol:\n",
    "resultado40 = pd.DataFrame(precios[precios['Precio_barril'] > 40].iloc[0])\n",
    "resultado60 = pd.DataFrame(precios[precios['Precio_barril'] > 60].iloc[0])\n",
    "resultado80 = pd.DataFrame(precios[precios['Precio_barril'] > 80].iloc[0])\n",
    "\n",
    "resultado40.join(resultado60.join(resultado80))\n"
   ]
  },
  {
   "cell_type": "code",
   "execution_count": null,
   "metadata": {
    "collapsed": false
   },
   "outputs": [],
   "source": [
    "# Rrepresenta gráficamente la evolución de los precios\n",
    "import matplotlib.pyplot as plt\n",
    "import numpy as np\n",
    "%matplotlib inline\n",
    "precios.plot(title = 'Evolucion Precios',\n",
    "                 figsize=(9,4));"
   ]
  },
  {
   "cell_type": "markdown",
   "metadata": {
    "collapsed": true
   },
   "source": [
    "#### 2 Ejercicio"
   ]
  },
  {
   "cell_type": "markdown",
   "metadata": {},
   "source": [
    "El fichero [rotterdam_rainfall.txt](../datos/rotterdam_rainfall.txt) recoge los datos de las precipitaciones diarias de la estación meteorológica de Rotterdam en 2012.\n",
    "\n",
    "* La primera columna representa la fecha\n",
    "* La segunda columna representa la cantidad de precipitaciones expresado en 0.1 mm (-1 si es menor a 0.05 mm).\n",
    "\n",
    "__Notas__:\n",
    "\n",
    "* Carga los datos en un DataFrame con la función __read_csv__\n",
    "* El índice del DataFrame ha de ser la fecha\n",
    "* Utiliza la opción _parse_dates_ para parsear la fecha."
   ]
  },
  {
   "cell_type": "code",
   "execution_count": null,
   "metadata": {
    "collapsed": false
   },
   "outputs": [],
   "source": [
    "# Sol\n",
    "ruta = '../datos/rotterdam_rainfall.txt'\n",
    "datos = pd.read_csv(ruta, \n",
    "                    names = ['Fecha', 'Volumen'],\n",
    "                    index_col = ['Fecha'], \n",
    "                    parse_dates=[0])\n",
    "datos.head()"
   ]
  },
  {
   "cell_type": "markdown",
   "metadata": {},
   "source": [
    "* Modifica los valores de la cantidad de precipitaciones a 0 cuando su valor sea -1."
   ]
  },
  {
   "cell_type": "code",
   "execution_count": null,
   "metadata": {
    "collapsed": false
   },
   "outputs": [],
   "source": [
    "datos[datos.Volumen == -1] = 0\n",
    "datos.head()"
   ]
  },
  {
   "cell_type": "markdown",
   "metadata": {},
   "source": [
    "-----\n",
    "* Calcula el día que ha tenido mayor cantidad de precipitación y la cantidad de precipitación"
   ]
  },
  {
   "cell_type": "code",
   "execution_count": null,
   "metadata": {
    "collapsed": false
   },
   "outputs": [],
   "source": [
    "datos.Volumen.max()"
   ]
  },
  {
   "cell_type": "code",
   "execution_count": null,
   "metadata": {
    "collapsed": false
   },
   "outputs": [],
   "source": [
    "datos[datos.Volumen == 224]"
   ]
  },
  {
   "cell_type": "markdown",
   "metadata": {},
   "source": [
    "#### 3 Ejercicio"
   ]
  },
  {
   "cell_type": "markdown",
   "metadata": {},
   "source": [
    "El archivo [WordPhones](../datos/WorldPhones01.csv) \n",
    "recoge información acerca del número de teléfonos en varias regiones del mundo (en miles).\n",
    "\n",
    "- Cada columna se corresponde con una región del mundo. Las regiones son:\n",
    "[\"N.Amer\",\"Europe\",\"Asia\",\"S.Amer\",\"Oceania\",\"Africa\",\"Mid.Amer\"]\n",
    "\n",
    "- Cada fila se corresponde con un año. Los años son: \n",
    "[1951, 1956, 1957, 1958, 1959, 1960, 1961]\n",
    "\n",
    "-----\n",
    "\n",
    "* Escribir la expresión Python que recoja los datos del año 1960\n",
    "    * Primero descarga el archivo [WordPhones](../datos/WorldPhones01.csv) en tu directorio de trabajo.\n",
    "    * Escribe la expresión Python para seleccionar la fila que se corresponde con el año 1960 (Utiliza como filtro un array de booleanos)."
   ]
  },
  {
   "cell_type": "code",
   "execution_count": null,
   "metadata": {
    "collapsed": false
   },
   "outputs": [],
   "source": [
    "# Sol:\n",
    "datos = pd.read_csv('../datos/WorldPhones01.csv',\n",
    "                    skiprows = 1,\n",
    "                    names = ['Year',\"N.Amer\",\"Europe\",\"Asia\",\"S.Amer\",\"Oceania\",\"Africa\",\"Mid.Amer\"],\n",
    "                    index_col = ['Year'])\n",
    "datos"
   ]
  },
  {
   "cell_type": "code",
   "execution_count": null,
   "metadata": {
    "collapsed": false
   },
   "outputs": [],
   "source": [
    "#Sol: \n",
    "datos.loc[1960]\n"
   ]
  },
  {
   "cell_type": "code",
   "execution_count": null,
   "metadata": {
    "collapsed": false
   },
   "outputs": [],
   "source": [
    "# Sol:\n",
    "datos.Europe"
   ]
  },
  {
   "cell_type": "markdown",
   "metadata": {
    "collapsed": true
   },
   "source": [
    "* Ahora representa en una gráfica la evolución que ha tenido \"Europe\" entre los años 1956 y 1960. Ejecuta el siguiente bloque de código."
   ]
  },
  {
   "cell_type": "code",
   "execution_count": null,
   "metadata": {
    "collapsed": false
   },
   "outputs": [],
   "source": [
    "import matplotlib.pyplot as plt\n",
    "import numpy as np\n",
    "%matplotlib inline\n",
    "\n",
    "\n",
    "datos.Europe.plot()\n",
    "\n",
    "plt.xlabel('Meses')\n",
    "plt.ylabel('Cantidad de telefonos')\n",
    "plt.title('Datos Europe')"
   ]
  },
  {
   "cell_type": "markdown",
   "metadata": {},
   "source": [
    "* Ahora representa en una gráfica la evolución que ha tenido \"Europe\"  y \"Africa\" entre los años 1956 y 1960. Ejecuta el siguiente bloque de código."
   ]
  },
  {
   "cell_type": "code",
   "execution_count": null,
   "metadata": {
    "collapsed": false
   },
   "outputs": [],
   "source": [
    "datos.Europe.plot()\n",
    "datos.Africa.plot()"
   ]
  },
  {
   "cell_type": "code",
   "execution_count": null,
   "metadata": {
    "collapsed": false
   },
   "outputs": [],
   "source": [
    "x = np.arange(1,8)\n",
    "datos.Europe.plot()\n",
    "datos.Africa.plot()\n",
    "\n",
    "plt.xlabel('Years')\n",
    "plt.ylabel('Cantidad de telefonos')\n",
    "\n",
    "plt.title('Comparativa Europa - Africa')\n",
    "\n",
    "plt.legend(['Europa','Africa'],loc='best');"
   ]
  },
  {
   "cell_type": "markdown",
   "metadata": {},
   "source": [
    "* Podemos representar todos los países"
   ]
  },
  {
   "cell_type": "code",
   "execution_count": null,
   "metadata": {
    "collapsed": false
   },
   "outputs": [],
   "source": [
    "datos.plot() \n",
    "\n",
    "plt.xlabel('Years')\n",
    "plt.ylabel('Cantidad de telefonos')\n",
    "plt.title('Comparativa todas las regiones')\n",
    "plt.legend(datos,loc='best');"
   ]
  },
  {
   "cell_type": "markdown",
   "metadata": {},
   "source": [
    "## References"
   ]
  },
  {
   "cell_type": "markdown",
   "metadata": {},
   "source": [
    "http://nbviewer.ipython.org/github/mbakker7/exploratory_computing_with_python/tree/master/"
   ]
  }
 ],
 "metadata": {
  "anaconda-cloud": {},
  "kernelspec": {
   "display_name": "Python [default]",
   "language": "python",
   "name": "python3"
  },
  "language_info": {
   "codemirror_mode": {
    "name": "ipython",
    "version": 3
   },
   "file_extension": ".py",
   "mimetype": "text/x-python",
   "name": "python",
   "nbconvert_exporter": "python",
   "pygments_lexer": "ipython3",
   "version": "3.5.2"
  }
 },
 "nbformat": 4,
 "nbformat_minor": 0
}
