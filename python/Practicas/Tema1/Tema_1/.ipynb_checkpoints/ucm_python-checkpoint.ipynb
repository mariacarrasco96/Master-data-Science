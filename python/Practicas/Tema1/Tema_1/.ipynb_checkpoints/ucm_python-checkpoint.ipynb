{
 "cells": [
  {
   "cell_type": "markdown",
   "metadata": {},
   "source": [
    "# Python para análisis de datos\n",
    "\n",
    "## Elementos básicos del lenguaje I"
   ]
  },
  {
   "cell_type": "markdown",
   "metadata": {},
   "source": [
    "\n",
    "\n",
    "## Indice de contenidos"
   ]
  },
  {
   "cell_type": "markdown",
   "metadata": {},
   "source": [
    "\n",
    "* [Los tipos de datos básicos en Python](ucm_sintaxis_01.html)  ([nb](ucm_sintaxis_01.ipynb)) \n",
    "* [Funciones I](ucm_funciones_00.html) ([nb](ucm_funciones_00.ipynb)) ([Ejercicios 1](./ejercicios/ucm_sintaxis_01_ej.ipynb)) \n",
    "\n",
    "* [Estructuras de datos](ucm_secuencias.html) ([nb](ucm_secuencias.ipynb))\n",
    "([Ejercicios 2](./ejercicios/ipython_sintaxis_03_ej.ipynb))\n",
    "\n"
   ]
  },
  {
   "cell_type": "markdown",
   "metadata": {},
   "source": [
    "## Referencias\n",
    "\n",
    "* [The Python Tutorial](https://docs.python.org/3/tutorial/index.html)\n",
    "* [Tutorial de Python. Por Guido Van Rossum](http://docs.python.org.ar/tutorial/pdfs/TutorialPython3.pdf)\n",
    "* [Introducción a la programación con Python]( http://www.uji.es/bin/publ/edicions/ippython.pdf)"
   ]
  },
  {
   "cell_type": "markdown",
   "metadata": {},
   "source": [
    "----"
   ]
  },
  {
   "cell_type": "markdown",
   "metadata": {},
   "source": [
    "<a rel=\"license\" href=\"http://creativecommons.org/licenses/by-nc-sa/4.0/\"><img alt=\"Licencia Creative Commons\" style=\"border-width:0\" src=\"https://i.creativecommons.org/l/by-nc-sa/4.0/88x31.png\" /></a><br />"
   ]
  }
 ],
 "metadata": {
  "kernelspec": {
   "display_name": "Python 3",
   "language": "python",
   "name": "python3"
  },
  "language_info": {
   "codemirror_mode": {
    "name": "ipython",
    "version": 3
   },
   "file_extension": ".py",
   "mimetype": "text/x-python",
   "name": "python",
   "nbconvert_exporter": "python",
   "pygments_lexer": "ipython3",
   "version": "3.5.1"
  }
 },
 "nbformat": 4,
 "nbformat_minor": 0
}
