{
 "cells": [
  {
   "cell_type": "markdown",
   "metadata": {},
   "source": [
    "# Práctica inicial. Toma de contacto.\n",
    "\n",
    "Esta práctica tiene como objetivo una primera toma de contacto con el sistema Jupyter, esto es, conocer el entorno de programación en el que vamos a trabajar en este curso.\n",
    "\n",
    "Supuesto que ya has descargado e instalado Anaconda en la versión adecuada para tu equipo, realiza los siguientes pasos:"
   ]
  },
  {
   "cell_type": "markdown",
   "metadata": {},
   "source": [
    "## Paso 1\n",
    "\n",
    "Abre una terminal y crea un directorio nuevo llamado __dataPython__. Usa el comando   _mkdir dataPython_."
   ]
  },
  {
   "cell_type": "markdown",
   "metadata": {},
   "source": [
    "## Paso 2\n",
    "\n",
    "Muévete a ese directorio con el comando _cd dataPython_ y ejecuta Jupyter mediante el comando  _jupyter notebook_."
   ]
  },
  {
   "cell_type": "markdown",
   "metadata": {},
   "source": [
    "## Paso 3\n",
    "\n",
    "Se habrá abierto una pestaña en el navegador con nombre __Home__. Crea un documento nuevo pulsando el botón 'New' y seleccionando 'Python 3'. Observa que se te ha abierto una nueva pestaña en el navegador. "
   ]
  },
  {
   "cell_type": "markdown",
   "metadata": {},
   "source": [
    "## Paso 4\n",
    "\n",
    "Cambiar el nombre al documento recién creado. Llámale 'documento_inicial'. En los siguientes pasos vamos a crear varios tipos de celdas y las vamos a ejecutar."
   ]
  },
  {
   "cell_type": "markdown",
   "metadata": {},
   "source": [
    "## Paso 5\n",
    "\n",
    "Por defecto las celdas son de tipo 'code'. Selecciona la primera (y única) celda y cámbiale el tipo a 'Markdown'. Escribe en dicha celda el contenido del siguiente [fichero de texto](./parrafo.txt). Ejecuta la celda y observa el resultado."
   ]
  },
  {
   "cell_type": "markdown",
   "metadata": {},
   "source": [
    "## Paso 6\n",
    "\n",
    "Crea una nueva celda de tipo 'code'. Escribe en ella la siguiente expresión: \n",
    "```\n",
    "8 * (5 + 4)\n",
    "\n",
    "```\n",
    "Posteriormente ejecuta la celda y observa el resultado."
   ]
  },
  {
   "cell_type": "markdown",
   "metadata": {},
   "source": [
    "## Paso 7\n",
    "\n",
    "Crea una nueva celda de tipo 'code' y escribe la siguiente expresión:\n",
    "```\n",
    "%pwd \n",
    "```\n",
    "Posteriormente ejecuta la celda y observa el resultado. Se trata de un comando que te permite conocer el directorio en el que te encuentras en este momento."
   ]
  },
  {
   "cell_type": "markdown",
   "metadata": {},
   "source": [
    "## Paso 8\n",
    "\n",
    "Pulsa el botón que te permite grabar el documento. Posteriormente ve a la pestaña con nombre __Home__. Observa que ahora tienes un documento llamado 'documento_inicial'.\n",
    "\n"
   ]
  },
  {
   "cell_type": "markdown",
   "metadata": {},
   "source": [
    "## Paso 9 y último\n",
    "\n",
    "Ve al explorador de archivos, busca el directorio __dataPython__. Comprueba que en este directorio se encuentra el fichero 'documento_inicial.ipynb'."
   ]
  },
  {
   "cell_type": "markdown",
   "metadata": {},
   "source": [
    "--------------------"
   ]
  }
 ],
 "metadata": {
  "kernelspec": {
   "display_name": "Python 3",
   "language": "python",
   "name": "python3"
  },
  "language_info": {
   "codemirror_mode": {
    "name": "ipython",
    "version": 3
   },
   "file_extension": ".py",
   "mimetype": "text/x-python",
   "name": "python",
   "nbconvert_exporter": "python",
   "pygments_lexer": "ipython3",
   "version": "3.6.0"
  },
  "toc": {
   "colors": {
    "hover_highlight": "#DAA520",
    "running_highlight": "#FF0000",
    "selected_highlight": "#FFD700"
   },
   "moveMenuLeft": true,
   "nav_menu": {
    "height": "198px",
    "width": "252px"
   },
   "navigate_menu": true,
   "number_sections": true,
   "sideBar": true,
   "threshold": 4,
   "toc_cell": false,
   "toc_section_display": "block",
   "toc_window_display": false,
   "widenNotebook": false
  }
 },
 "nbformat": 4,
 "nbformat_minor": 0
}
