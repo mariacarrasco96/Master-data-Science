{
 "cells": [
  {
   "cell_type": "markdown",
   "metadata": {},
   "source": [
    "# Ejercicios sobre diccionarios I"
   ]
  },
  {
   "cell_type": "markdown",
   "metadata": {},
   "source": [
    "## Ejercicio 1"
   ]
  },
  {
   "cell_type": "markdown",
   "metadata": {},
   "source": [
    "\n",
    "Dado el diccionario de las ciudades más pobladas de Italia __ciudades__:\n",
    "\n",
    "d =  { 1: 'Roma', 2: 'Milán', 3:'Nápoles', 4:'Turín', 5:'Palermo' ,6: 'Génova',\n",
    "      7:'Bolonia', 8:'Florencia', 9:'Bari', 10:'Catania'}\n",
    "      \n",
    "y la lista __pob__ que contiene información de la cantidad de población en cada ciudad:\n",
    "\n",
    "pob =  [2718768, 1299633, 973132, 908263, 663173, 610887, 372256, 364710, 322511, 298957]\n",
    "\n",
    "Escribe una función __crea_dic__ que construya un nuevo diccionario donde cada elemento sea de la forma. Los parámetros de entrada son un diccionario `d` y una lista `pob`.\n",
    "\n",
    "__i: [ciudad,poblacion]__\n",
    "\n"
   ]
  },
  {
   "cell_type": "markdown",
   "metadata": {},
   "source": [
    "## Ejercicio 2 "
   ]
  },
  {
   "cell_type": "markdown",
   "metadata": {},
   "source": [
    "Escribe una función en Python llamada __consulta_telefono__ para recuperar número de teléfono de un amigo de un diccionario de amigos.\n",
    "La función tiene dos argumentos de entrada:\n",
    "1. Diccionario donde los elementos son de la forma `nombre`: `num_teléfono`.\n",
    "2. Nombre de un amigo\n",
    "\n",
    "Si el nombre del amigo no se encuentra en el diccionario, la función devuelve el valor `False`. En caso contrario, devuelve su número de teléfono.\n",
    "\n",
    "__Ejemplo de ejecución 1 :__\n",
    "\n",
    "``` \n",
    "In: \n",
    "    agenda = {'Ana': 111, 'Pedro': 222, 'Luis': 458}\n",
    "    t = consulta_telefono('Ana', agenda)\n",
    "    t\n",
    "Out:\n",
    "    111\n",
    "```\n",
    "__Ejemplo de ejecución 2 :__\n",
    "``` \n",
    "In: \n",
    "    agenda = {'Ana': 111, 'Pedro': 222, 'Luis': 458}\n",
    "    t = consulta_telefono('ana', agenda)\n",
    "    t\n",
    "Out:\n",
    "    False\n",
    "```\n",
    "__Ejemplo de ejecución 3 :__\n",
    "\n",
    "``` \n",
    "In: \n",
    "    agenda = {'Ana': 111, 'Pedro': 222, 'Luis': 458}\n",
    "    t = consulta_telefono('María', agenda)\n",
    "    t\n",
    "Out:\n",
    "    False\n",
    "```\n"
   ]
  },
  {
   "cell_type": "code",
   "execution_count": 4,
   "metadata": {},
   "outputs": [],
   "source": [
    "def consulta_telefono(nombre, agenda):\n",
    "    if nombre in agenda:\n",
    "        return agenda[nombre]\n",
    "    else:\n",
    "        return False"
   ]
  },
  {
   "cell_type": "code",
   "execution_count": 5,
   "metadata": {},
   "outputs": [
    {
     "data": {
      "text/plain": [
       "False"
      ]
     },
     "execution_count": 5,
     "metadata": {},
     "output_type": "execute_result"
    }
   ],
   "source": [
    " agenda = {'Ana': 111, 'Pedro': 222, 'Luis': 458}\n",
    "t = consulta_telefono('ana', agenda)\n",
    "t"
   ]
  },
  {
   "cell_type": "code",
   "execution_count": 6,
   "metadata": {},
   "outputs": [
    {
     "ename": "IndentationError",
     "evalue": "unexpected indent (<ipython-input-6-f564951db443>, line 2)",
     "output_type": "error",
     "traceback": [
      "\u001b[0;36m  File \u001b[0;32m\"<ipython-input-6-f564951db443>\"\u001b[0;36m, line \u001b[0;32m2\u001b[0m\n\u001b[0;31m    t = consulta_telefono('Pedro', agenda)\u001b[0m\n\u001b[0m    ^\u001b[0m\n\u001b[0;31mIndentationError\u001b[0m\u001b[0;31m:\u001b[0m unexpected indent\n"
     ]
    }
   ],
   "source": [
    " agenda = {'Ana': 111, 'Pedro': 222, 'Luis': 458}\n",
    "    t = consulta_telefono('Pedro', agenda)\n",
    "    t"
   ]
  },
  {
   "cell_type": "code",
   "execution_count": 11,
   "metadata": {},
   "outputs": [],
   "source": [
    "def consulta_tipo_telefono(nombre, tipo, agenda):\n",
    "    if nombre in agenda:\n",
    "       telefonos = agenda[nombre]\n",
    "       if tipo in telefonos:\n",
    "        return telefonos[tipo]\n",
    "        return \"No tiene ese tipo\"\n",
    "    else:\n",
    "        return nombre, \"No existe\""
   ]
  },
  {
   "cell_type": "code",
   "execution_count": 13,
   "metadata": {},
   "outputs": [
    {
     "data": {
      "text/plain": [
       "111"
      ]
     },
     "execution_count": 13,
     "metadata": {},
     "output_type": "execute_result"
    }
   ],
   "source": [
    "agenda = {'Ana': 111, 'Pedro': 222, 'Luis': 458}\n",
    "t = consulta_telefono('Ana', agenda)\n",
    "t"
   ]
  },
  {
   "cell_type": "code",
   "execution_count": 14,
   "metadata": {},
   "outputs": [
    {
     "data": {
      "text/plain": [
       "dict_keys(['Ana', 'Pedro', 'Luis'])"
      ]
     },
     "execution_count": 14,
     "metadata": {},
     "output_type": "execute_result"
    }
   ],
   "source": [
    "agenda.keys()"
   ]
  },
  {
   "cell_type": "code",
   "execution_count": 15,
   "metadata": {},
   "outputs": [
    {
     "data": {
      "text/plain": [
       "458"
      ]
     },
     "execution_count": 15,
     "metadata": {},
     "output_type": "execute_result"
    }
   ],
   "source": [
    "agenda['Luis']"
   ]
  },
  {
   "cell_type": "code",
   "execution_count": 16,
   "metadata": {},
   "outputs": [
    {
     "ename": "TypeError",
     "evalue": "'int' object does not support item assignment",
     "output_type": "error",
     "traceback": [
      "\u001b[0;31m---------------------------------------------------------------------------\u001b[0m",
      "\u001b[0;31mTypeError\u001b[0m                                 Traceback (most recent call last)",
      "\u001b[0;32m<ipython-input-16-79835a78b9d0>\u001b[0m in \u001b[0;36m<module>\u001b[0;34m\u001b[0m\n\u001b[0;32m----> 1\u001b[0;31m \u001b[0magenda\u001b[0m\u001b[0;34m[\u001b[0m\u001b[0;34m'Luis'\u001b[0m\u001b[0;34m]\u001b[0m\u001b[0;34m[\u001b[0m\u001b[0;34m'nuevo_telefono'\u001b[0m\u001b[0;34m]\u001b[0m \u001b[0;34m=\u001b[0m \u001b[0;36m999\u001b[0m\u001b[0;34m\u001b[0m\u001b[0;34m\u001b[0m\u001b[0m\n\u001b[0m\u001b[1;32m      2\u001b[0m \u001b[0magenda\u001b[0m\u001b[0;34m[\u001b[0m\u001b[0;34m'Luis'\u001b[0m\u001b[0;34m]\u001b[0m\u001b[0;34m[\u001b[0m\u001b[0;34m'casa'\u001b[0m\u001b[0;34m]\u001b[0m\u001b[0;34m=\u001b[0m\u001b[0;36m1458\u001b[0m\u001b[0;34m\u001b[0m\u001b[0;34m\u001b[0m\u001b[0m\n\u001b[1;32m      3\u001b[0m \u001b[0magenda\u001b[0m\u001b[0;34m\u001b[0m\u001b[0;34m\u001b[0m\u001b[0m\n",
      "\u001b[0;31mTypeError\u001b[0m: 'int' object does not support item assignment"
     ]
    }
   ],
   "source": [
    "agenda['Luis']['nuevo_telefono'] = 999\n",
    "agenda['Luis']['casa']=1458\n",
    "agenda"
   ]
  },
  {
   "cell_type": "code",
   "execution_count": null,
   "metadata": {},
   "outputs": [],
   "source": []
  },
  {
   "cell_type": "code",
   "execution_count": null,
   "metadata": {},
   "outputs": [],
   "source": []
  },
  {
   "cell_type": "markdown",
   "metadata": {},
   "source": [
    "## Ejercicio 3"
   ]
  },
  {
   "cell_type": "markdown",
   "metadata": {},
   "source": [
    "Escribe una función en Python llamada __consulta_tipo_telef__ para recuperar número de teléfono de un determinado tipo (casa, móvil, trabajo, etc.) de un amigo de un diccionario de amigos.\n",
    "La función tiene tres argumentos de entrada:\n",
    "1. Diccionario donde los elementos son de la forma `nombre`: {`tipo`:`num_teléfono`, ... } \n",
    "2. Nombre de un amigo\n",
    "3. Tipo de número de teléfono\n",
    "\n",
    "Si el nombre del amigo no se encuentra en el diccionario, la función devuelve el valor `False`. En caso contrario, devuelve su número de teléfono. Si el tipo de teléfono no existe para ese amigo, la función devuelve el valor `False`.\n",
    "\n",
    "__Ejemplo de ejecución 1 :__\n",
    "\n",
    "``` \n",
    "In: \n",
    "    agenda = {'Ana': {'casa':111, 'movil': 1111}, 'Pedro': {'movil':222, 'trabajo':22222}, 'Luis': {'casa': 458}}\n",
    "    t =  consulta_tipo_telefono('Luis', 'casa', agenda)\n",
    "    t\n",
    "Out:\n",
    "    458\n",
    "```\n",
    "__Ejemplo de ejecución 2 :__\n",
    "``` \n",
    "In: \n",
    "    agenda = {'Ana': {'casa':111, 'movil': 1111}, 'Pedro': {'movil':222, 'trabajo':22222}, 'Luis': {'casa': 458}}\n",
    "    t =  consulta_tipo_telefono('Pedro', 'casa', agenda)\n",
    "    t\n",
    "Out:\n",
    "    False\n",
    "```\n",
    "\n"
   ]
  },
  {
   "cell_type": "markdown",
   "metadata": {},
   "source": [
    "## Ejercicio 4"
   ]
  },
  {
   "cell_type": "markdown",
   "metadata": {},
   "source": [
    "Escribe una función en Python llamada __lista_amigos__ para recuperar los nombres de los amigos que se encuentrasn registrados en una agenda de teléfonos. Dicha agenda se representa como un diccionario.\n",
    "La función tiene un único argumento de entrada:\n",
    "1. Diccionario donde los elementos son de la forma `nombre`: {`tipo`:`num_teléfono`, ... } \n",
    "\n",
    "La función ha de devolver una lista ordenada de amigos en orden lexicográfico.\n",
    "\n",
    "__Ejemplo de ejecución:__\n",
    "``` \n",
    "In: \n",
    "    agenda = {'Ana': {'casa':111, 'movil': 1111}, 'Pedro': {'movil':222, 'trabajo':22222}, 'Luis': {'casa': 458}}\n",
    "    a = lista_amigos(agenda)\n",
    "    a\n",
    "Out:\n",
    "    ['Ana', 'Luis', 'Pedro']\n",
    "```"
   ]
  },
  {
   "cell_type": "code",
   "execution_count": 7,
   "metadata": {},
   "outputs": [],
   "source": [
    "def lista_amigos(agenda):\n",
    "    l= list(agenda.keys())\n",
    "    l.sort()\n",
    "    return l"
   ]
  },
  {
   "cell_type": "code",
   "execution_count": 14,
   "metadata": {},
   "outputs": [
    {
     "data": {
      "text/plain": [
       "['Ana', 'Luis', 'Pedro']"
      ]
     },
     "execution_count": 14,
     "metadata": {},
     "output_type": "execute_result"
    }
   ],
   "source": [
    "agenda = {'Ana': {'casa':111, 'movil': 1111}, 'Pedro': {'movil':222, 'trabajo':22222}, 'Luis': {'casa': 458}}\n",
    "a = lista_amigos(agenda)\n",
    "a#se supone que te devuelve un dict_keys"
   ]
  },
  {
   "cell_type": "code",
   "execution_count": null,
   "metadata": {},
   "outputs": [],
   "source": []
  },
  {
   "cell_type": "code",
   "execution_count": null,
   "metadata": {},
   "outputs": [],
   "source": []
  },
  {
   "cell_type": "code",
   "execution_count": null,
   "metadata": {},
   "outputs": [],
   "source": []
  },
  {
   "cell_type": "code",
   "execution_count": null,
   "metadata": {},
   "outputs": [],
   "source": []
  },
  {
   "cell_type": "code",
   "execution_count": null,
   "metadata": {},
   "outputs": [],
   "source": []
  },
  {
   "cell_type": "markdown",
   "metadata": {},
   "source": [
    "## Ejercicio 5"
   ]
  },
  {
   "cell_type": "markdown",
   "metadata": {},
   "source": [
    "Escribe una función en Python llamada __nuevo_amigo__ para insertar un nuevo amigo a una agenda de teléfonos. Dicha agenda se representa como un diccionario. \n",
    "La función tiene tres  argumentos de entrada:\n",
    "1. Diccionario donde los elementos son de la forma `nombre`: `num_teléfono`\n",
    "2. El nombre de un nuevo amigo\n",
    "3. Su teléfono\n",
    "\n",
    "La función devuleve el valor `True` si la inserción ha ido bien. Devuelve False en caso contrario (el amigo ya existe).\n",
    "\n",
    "__Ejemplo de ejecución 1:__\n",
    "``` \n",
    "In: \n",
    "    agenda = {'Ana': 111, 'Pedro': 222, 'Luis': 458}\n",
    "    b = nuevo_amigo('Ana', 99999, agenda)\n",
    "    b, agenda\n",
    "Out:\n",
    "    (False, {'Ana': 111, 'Pedro': 222, 'Luis': 458})\n",
    "```\n",
    "\n",
    "__Ejemplo de ejecución 2:__\n",
    "``` \n",
    "In: \n",
    "    agenda = {'Ana': 111, 'Pedro': 222, 'Luis': 458}\n",
    "    b = nuevo_amigo('Carlota', 88, agenda)\n",
    "    b, agenda\n",
    "Out:\n",
    "    (True, {'Ana': 111, 'Pedro': 222, 'Luis': 458, 'Carlota': 88})\n",
    "```"
   ]
  },
  {
   "cell_type": "code",
   "execution_count": 10,
   "metadata": {},
   "outputs": [],
   "source": [
    "def nuevo_amigo (nombre, tel, agenda):\n",
    "    if nombre in agenda:\n",
    "        return (False, agenda)#mira el out, devuelvo dos cosas por eso los dos de los parentesis\n",
    "    else:\n",
    "        agenda[nombre]= tel #insertar claves con valor (nombre: tel)\n",
    "        return(True, agenda)\n",
    "    "
   ]
  },
  {
   "cell_type": "code",
   "execution_count": 12,
   "metadata": {},
   "outputs": [
    {
     "data": {
      "text/plain": [
       "(True, {'Ana': 111, 'Pedro': 222, 'Luis': 458, 'Carlota': 88})"
      ]
     },
     "execution_count": 12,
     "metadata": {},
     "output_type": "execute_result"
    }
   ],
   "source": [
    "agenda = {'Ana': 111, 'Pedro': 222, 'Luis': 458}\n",
    "b = nuevo_amigo('Carlota', 88, agenda)\n",
    "b"
   ]
  },
  {
   "cell_type": "code",
   "execution_count": 13,
   "metadata": {},
   "outputs": [
    {
     "data": {
      "text/plain": [
       "((False, {'Ana': 111, 'Pedro': 222, 'Luis': 458}),\n",
       " {'Ana': 111, 'Pedro': 222, 'Luis': 458})"
      ]
     },
     "execution_count": 13,
     "metadata": {},
     "output_type": "execute_result"
    }
   ],
   "source": [
    "agenda = {'Ana': 111, 'Pedro': 222, 'Luis': 458}\n",
    "b = nuevo_amigo('Ana', 99999, agenda)\n",
    "b, agenda"
   ]
  },
  {
   "cell_type": "code",
   "execution_count": null,
   "metadata": {},
   "outputs": [],
   "source": []
  },
  {
   "cell_type": "code",
   "execution_count": null,
   "metadata": {},
   "outputs": [],
   "source": []
  },
  {
   "cell_type": "markdown",
   "metadata": {},
   "source": [
    "## Ejercicio 6"
   ]
  },
  {
   "cell_type": "markdown",
   "metadata": {},
   "source": [
    "Escribe una función en Python llamada __eliminar_amigo__ para eliminar los datos de un contacto de una agenda de teléfonos. Dicha agenda se representa como un diccionario. \n",
    "La función tiene tres  argumentos de entrada:\n",
    "1. Diccionario donde los elementos son de la forma `nombre`: `num_teléfono`\n",
    "2. El nombre de un nuevo amigo\n",
    "\n",
    "La función devuelve el valor `True` si se ha eliminado correctamente. Devuelve False para indicar que el contacto no estaba en la agenda.\n",
    "\n",
    "__Ejemplo de ejecución 1:__\n",
    "``` \n",
    "In: \n",
    "    agenda = {'Ana': 111, 'Pedro': 222, 'Luis': 458}\n",
    "    b, eliminar_contacto('Ana', agenda), agenda\n",
    "    b, agenda\n",
    "Out:\n",
    "    (True, {'Pedro': 222, 'Luis': 458})\n",
    "```\n",
    "\n",
    "__Ejemplo de ejecución 2:__\n",
    "``` \n",
    "In: \n",
    "    agenda = {'Ana': 111, 'Pedro': 222, 'Luis': 458}\n",
    "    b = eliminar_contacto('Manuel', agenda), agenda\n",
    "    b, agenda\n",
    "Out:\n",
    "    (False, {'Ana': 111, 'Pedro': 222, 'Luis': 458})\n",
    "```"
   ]
  },
  {
   "cell_type": "code",
   "execution_count": 15,
   "metadata": {},
   "outputs": [],
   "source": [
    "def eliminar_contacto(nombre, agenda):\n",
    "    if nombre in agenda:\n",
    "        agenda.pop(nombre)\n",
    "        return True, agenda\n",
    "    else:\n",
    "        return False, agenda"
   ]
  },
  {
   "cell_type": "code",
   "execution_count": 20,
   "metadata": {},
   "outputs": [
    {
     "data": {
      "text/plain": [
       "((False, {'Ana': 111, 'Pedro': 222, 'Luis': 458}),\n",
       " {'Ana': 111, 'Pedro': 222, 'Luis': 458})"
      ]
     },
     "execution_count": 20,
     "metadata": {},
     "output_type": "execute_result"
    }
   ],
   "source": [
    "agenda = {'Ana': 111, 'Pedro': 222, 'Luis': 458}\n",
    "b = eliminar_contacto('Manuel', agenda)\n",
    "b, agenda# me devuelve falso porque no ha podido borrarlo"
   ]
  },
  {
   "cell_type": "code",
   "execution_count": 19,
   "metadata": {},
   "outputs": [
    {
     "data": {
      "text/plain": [
       "((True, {'Pedro': 222, 'Luis': 458}), {'Pedro': 222, 'Luis': 458})"
      ]
     },
     "execution_count": 19,
     "metadata": {},
     "output_type": "execute_result"
    }
   ],
   "source": [
    "agenda = {'Ana': 111, 'Pedro': 222, 'Luis': 458}\n",
    "b= eliminar_contacto('Ana', agenda), agenda\n",
    "b"
   ]
  },
  {
   "cell_type": "code",
   "execution_count": null,
   "metadata": {},
   "outputs": [],
   "source": []
  },
  {
   "cell_type": "markdown",
   "metadata": {},
   "source": [
    "## Ejercicio 7"
   ]
  },
  {
   "cell_type": "markdown",
   "metadata": {},
   "source": [
    "Escribe una función en Python llamada __nuevo_telefono_amigo__ para insertar un nuevo tipo de teléfono de un  amigo en una agenda de teléfonos. Dicha agenda se representa como un diccionario. \n",
    "La función tiene cuatro  argumentos de entrada:\n",
    "1. Diccionario donde los elementos son de la forma `nombre`: {`tipo`:`num_teléfono`, ... } \n",
    "2. El nombre del amigo\n",
    "3. Su teléfono\n",
    "4. Tipo del teléfono (casa, movil, etc)\n",
    "\n",
    "La función devuleve el valor `True` si la inserción ha ido bien. Devuelve False en caso contrario (el amigo ya existe, o ya existe ese tipo de teléfono).\n",
    "\n",
    "__Ejemplo de ejecución 1:__\n",
    "``` \n",
    "In: \n",
    "    agenda = {'Ana': {'casa':111, 'movil': 1111}, 'Pedro': {'movil':222, 'trabajo':22222}, 'Luis': {'casa': 458}}\n",
    "    b, nuevo_telefono_amigo('Luis',333, 'movil', agenda)\n",
    "    b, agenda\n",
    "Out:\n",
    "    (True,\n",
    "     {'Ana': {'casa': 111, 'movil': 1111},\n",
    "      'Pedro': {'movil': 222, 'trabajo': 22222},\n",
    "      'Luis': {'casa': 458, 'movil': 333}}\n",
    "```\n",
    "\n",
    "__Ejemplo de ejecución 2:__\n",
    "``` \n",
    "In: \n",
    "    agenda = {'Ana': {'casa':111, 'movil': 1111}, 'Pedro': {'movil':222, 'trabajo':22222}, 'Luis': {'casa': 458}}\n",
    "    b, nuevo_telefono_amigo('Bea',7777, 'movil', agenda)\n",
    "    b, agenda\n",
    "Out:\n",
    "    (True,\n",
    "     {'Ana': {'casa': 111, 'movil': 1111},\n",
    "      'Pedro': {'movil': 222, 'trabajo': 22222},\n",
    "      'Luis': {'casa': 458},\n",
    "      'Bea': {'movil': 7777}}\n",
    "```"
   ]
  },
  {
   "cell_type": "code",
   "execution_count": null,
   "metadata": {},
   "outputs": [],
   "source": [
    "def nuevo_telefono_amigo(nombre, telf, tipo, agenda):\n",
    "    if nombre in agenda:\n",
    "        telefonos = agenda[nombre]#agenda nombre me devuelve todos los telefonos que es el valor\n",
    "        if tipo in telefonos:#ahora tengo q comprobar si ese tipo ya esta y si ya esta no hago anda devuelvo falso #y si no esta lo isnerto\n",
    "            return False, agenda\n",
    "        else:\n",
    "            telefonos[tipo]= telf#aqui inserto\n",
    "            return True, agenda\n",
    "    else:\n",
    "        agenda[nombre]={tipo:telf}\n",
    "        return True, agenda"
   ]
  },
  {
   "cell_type": "code",
   "execution_count": 27,
   "metadata": {},
   "outputs": [
    {
     "data": {
      "text/plain": [
       "(True,\n",
       " {'Ana': {'casa': 111, 'movil': 1111},\n",
       "  'Pedro': {'movil': 222, 'trabajo': 22222},\n",
       "  'Luis': {'casa': 458},\n",
       "  'Bea': {'movil': 7777}})"
      ]
     },
     "execution_count": 27,
     "metadata": {},
     "output_type": "execute_result"
    }
   ],
   "source": [
    "agenda = {'Ana': {'casa':111, 'movil': 1111}, 'Pedro': {'movil':222, 'trabajo':22222}, 'Luis': {'casa': 458}}\n",
    "b= nuevo_telefono_amigo('Bea',7777, 'movil', agenda)\n",
    "b"
   ]
  },
  {
   "cell_type": "code",
   "execution_count": null,
   "metadata": {},
   "outputs": [],
   "source": []
  },
  {
   "cell_type": "code",
   "execution_count": null,
   "metadata": {},
   "outputs": [],
   "source": []
  },
  {
   "cell_type": "code",
   "execution_count": null,
   "metadata": {},
   "outputs": [],
   "source": []
  },
  {
   "cell_type": "code",
   "execution_count": null,
   "metadata": {},
   "outputs": [],
   "source": []
  },
  {
   "cell_type": "markdown",
   "metadata": {},
   "source": [
    "--------------------"
   ]
  }
 ],
 "metadata": {
  "anaconda-cloud": {},
  "kernelspec": {
   "display_name": "Python 3",
   "language": "python",
   "name": "python3"
  },
  "language_info": {
   "codemirror_mode": {
    "name": "ipython",
    "version": 3
   },
   "file_extension": ".py",
   "mimetype": "text/x-python",
   "name": "python",
   "nbconvert_exporter": "python",
   "pygments_lexer": "ipython3",
   "version": "3.7.3"
  },
  "nbTranslate": {
   "displayLangs": [
    "en",
    "es"
   ],
   "hotkey": "alt-t",
   "langInMainMenu": true,
   "sourceLang": "es",
   "targetLang": "en",
   "useGoogleTranslate": true
  },
  "toc": {
   "base_numbering": 1,
   "nav_menu": {
    "height": "86px",
    "width": "252px"
   },
   "number_sections": true,
   "sideBar": true,
   "skip_h1_title": false,
   "title_cell": "Table of Contents",
   "title_sidebar": "Contents",
   "toc_cell": false,
   "toc_position": {},
   "toc_section_display": "block",
   "toc_window_display": false
  }
 },
 "nbformat": 4,
 "nbformat_minor": 2
}
