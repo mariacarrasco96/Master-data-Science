{
 "cells": [
  {
   "cell_type": "markdown",
   "metadata": {},
   "source": [
    "# Ejercicios sobre listas y recorridos"
   ]
  },
  {
   "cell_type": "markdown",
   "metadata": {},
   "source": [
    "## Ejercicio 1"
   ]
  },
  {
   "cell_type": "markdown",
   "metadata": {},
   "source": [
    "Dada la lista $L = [ 1, 2, 3, 4, 5, 6, 7, 8, 9 ]$, escribe expresiones en Python que produzcan los siguientes resultados:\n",
    "\n",
    "1. El primer elemento de la lista.\n",
    "2. El último elemento de la lista (Sin conocer la longitud de la lista.)\n",
    "3. La sublista con los dos últimos elementos. (Sol: [8, 9])\n",
    "4. La sublista de los elementos que ocupan posiciones pares. (Sol: [1, 3, 5, 7, 9])\n",
    "4. La sublista de los elementos que ocupan posiciones impares. (Sol: [2, 4, 6, 8])"
   ]
  },
  {
   "cell_type": "markdown",
   "metadata": {},
   "source": [
    "## Ejercicio 2"
   ]
  },
  {
   "cell_type": "markdown",
   "metadata": {},
   "source": [
    "Escribe una función llamada __pertenencia__ que reciba dos parámetros de entrada. El primer parámetro es una lista de elementos y el segundo es un elemento. La función devuelve el valor `True` si el elemento se encuentra en la lista. En otro caso devuelve `False`. \n",
    "\n",
    "* Puedes usar la instrucción `if-else` \n",
    "* Puedes usar la función `in` para saber si un elemento está en una secuencia\n",
    "\n",
    "__Nota:__\n",
    "\n",
    "* `pertenencia([1, 3, 6], 1)` devuelve el valor `True`\n",
    "* `pertenencia([1, 3, 6], 5)` devuelve el valor `False`\n",
    "* `pertenencia([1,'Hi', 6, 'Hola'] , 'Hola')` devuelve el valor `True`"
   ]
  },
  {
   "cell_type": "markdown",
   "metadata": {},
   "source": [
    "## Ejercicio 3"
   ]
  },
  {
   "cell_type": "markdown",
   "metadata": {},
   "source": [
    "Escribe una función llamada __suprimir__ que elimine todas las apariciones de un cierto valor `v` en una lista `m`. El primer parámetro es una lista de elementos `m` y el segundo es un elemento `v`. La función NO DEVUelVE NADA. Comprueba el contenido de la lista antes y después de la llamada a la función. \n",
    "\n",
    "__Ejemplo de ejecución 1 :__\n",
    "\n",
    "``` \n",
    "In: \n",
    "    l1 = [1, 3, 5, 2, 3]\n",
    "    print('Antes: ', l1)\n",
    "    suprimir(l,3)\n",
    "    print('Después: ', l1)\n",
    "  \n",
    "Out:\n",
    "    Antes:  [1, 3, 5, 2, 3]\n",
    "    Después:  [1, 5, 2]\n",
    "```\n",
    "__Ejemplo de ejecución 2 :__\n",
    "\n",
    "``` \n",
    "In: \n",
    "    l2 = [1,2]\n",
    "    print('Antes: ', l2)\n",
    "    suprimir(l2,3)\n",
    "    print('Después: ', l2)\n",
    "\n",
    "Out:\n",
    "    Antes:  [1, 2]\n",
    "    Después:  [1, 2]\n",
    "```"
   ]
  },
  {
   "cell_type": "markdown",
   "metadata": {},
   "source": [
    "## Ejercicio 4"
   ]
  },
  {
   "cell_type": "markdown",
   "metadata": {},
   "source": [
    "Utiliza la función __range__ para generar listas de elementos. \n",
    "Genera de forma automática la siguientes listas: \n",
    "\n",
    "1. $ [10, 20, 30, 40, 50, 60, 70, 80, 90]$\n",
    "\n",
    "2. $[3, 5, 7, 9, 11]$"
   ]
  },
  {
   "cell_type": "markdown",
   "metadata": {},
   "source": [
    "## Ejercicio 5"
   ]
  },
  {
   "cell_type": "markdown",
   "metadata": {},
   "source": [
    "Dado una lista de importes, queremos calcular el % de IVA (por ejemplo 21%) de cada importe. Construye una función llamada `calcular_iva` que reciba como parámetros de entrada una lista de valores numéricos y el % de  IVA a aplicar (valor mayor que 0 y menor que 100). La función devuelve una nueva lista de valores numéricos donde cada valor es el resultado de calcular el % de IVA a los valores de la lista original.\n",
    "\n",
    "__Nota:__\n",
    "\n",
    "* `calcular_iva([100], 21)`  devuelve como resultado la lista `[21.0]`\n",
    "* `calcular_iva([100, 1000, 200, 150], 21)` devuelve como resultado la lista `[21.0, 210.0, 42.0, 31.5]`\n",
    "* `calcular_iva([100, 1000, 200, 150], 4)` devuelve como resultado la lista `[4.0, 40.0, 8.0, 6.0]`\n",
    "\n"
   ]
  },
  {
   "cell_type": "code",
   "execution_count": 1,
   "metadata": {},
   "outputs": [],
   "source": [
    "def calcular_iva(lista, num):\n",
    "    r = []\n",
    "    for imp in lista:#imp es cada uno de los valores\n",
    "        m = imp * num / 100\n",
    "        r.append(m)\n",
    "    return r"
   ]
  },
  {
   "cell_type": "code",
   "execution_count": 2,
   "metadata": {},
   "outputs": [
    {
     "data": {
      "text/plain": [
       "[4.0, 40.0, 8.0, 6.0]"
      ]
     },
     "execution_count": 2,
     "metadata": {},
     "output_type": "execute_result"
    }
   ],
   "source": [
    "calcular_iva([100, 1000, 200, 150], 4)"
   ]
  },
  {
   "cell_type": "code",
   "execution_count": null,
   "metadata": {},
   "outputs": [],
   "source": []
  },
  {
   "cell_type": "markdown",
   "metadata": {},
   "source": [
    "## Ejercicio 6"
   ]
  },
  {
   "cell_type": "markdown",
   "metadata": {},
   "source": [
    "    Dada una lista L, crear una función llamada __descendente__ que ordene la lista L de forma descendente. El  parámetro de entrada es una lista de elementos `L` . La función NO DEVUELVE NADA. Antes de empezar consulta la ayuda de la operación `sort` de las listas. Consulta el contenido de la lista antes y despúes de llamar a función.\n",
    "\n",
    "__Ejemplo de ejecución:__\n",
    "\n",
    "``` \n",
    "In: \n",
    "    l1 = [1, 3, 5, 2, 3]\n",
    "    print('Antes: ', l1)\n",
    "    descendente(l1)\n",
    "    print('Después: ', l1)\n",
    "  \n",
    "Out:\n",
    "    Antes:  [1, 3, 5, 2, 3]\n",
    "    Después:  [5, 3, 3, 2, 1]\n",
    "```\n"
   ]
  },
  {
   "cell_type": "markdown",
   "metadata": {},
   "source": [
    "## Ejercicio 7"
   ]
  },
  {
   "cell_type": "markdown",
   "metadata": {},
   "source": [
    "Dada una lista de enteros $a$ y un número entero $n$, define:\n",
    "1. una función llamada __repeticiones__ que calcule el número de veces que se repite $n$ en la lista $a$.\n",
    "2. una función llamada __porcentaje_rep__ que calcule el porcentaje de veces que se repite $n$ en la lista $a$.\n",
    "\n",
    "En ambas funciones tendremos dos parámetros de entrada; un número `n` y una lista `a`. El valor devuelto es de tipo float.\n",
    "\n",
    "Puedes utilizar los métodos __len__ y __count__. \n",
    "* Puedes ejecutar __list.count?__ para obtener ayuda del método __count__.\n",
    "\n",
    "__Ejemplo de ejecución 1 :__\n",
    "\n",
    "```\n",
    "In: \n",
    "    L1 = [0, 1, 2, 3, 4, 5, 6, 7, 8, 9, 0, 2, 4, 6, 8, 1, 4, 7]\n",
    "    repeticiones(4, L1) \n",
    "    \n",
    "Out: \n",
    "    3\n",
    "```\n",
    "__Ejemplo de ejecución 2 :__\n",
    "\n",
    "```\n",
    "In: \n",
    "    L = [0, 1, 2, 3, 4, 5, 6, 7, 8, 9, 0, 2, 4, 6, 8, 1, 4, 7]\n",
    "    porcentaje_rep(4, L) \n",
    "    \n",
    "Out: \n",
    "    16.666666666666668\n",
    "```\n",
    "__Ejemplo de ejecución 3 :__\n",
    "\n",
    "```\n",
    "In: \n",
    "    L = []\n",
    "    porcentaje_rep(4, L)\n",
    "   \n",
    "Out:\n",
    "    0\n",
    "```"
   ]
  },
  {
   "cell_type": "markdown",
   "metadata": {},
   "source": [
    "## Ejercicio 8"
   ]
  },
  {
   "cell_type": "markdown",
   "metadata": {},
   "source": [
    "Crea la una lista capaz de almacenar la siguiente matriz:\n",
    "\n",
    "$$ a = \n",
    " \\left( \\begin{array}{ccc}\n",
    "4 & 9 & 6 \\\\\n",
    "5 & 3 & 8 \\\\\n",
    "6 & 4 & 2 \\end{array} \\right)\n",
    "$$\n",
    "\n",
    "Posteriormente, haz lo siguiente:\n",
    "\n",
    "1. Modifica la matriz: sustituye el 3 por un 0.\n",
    "2. Sustituye el 8 por -1"
   ]
  },
  {
   "cell_type": "markdown",
   "metadata": {},
   "source": [
    "## Ejercicio 9"
   ]
  },
  {
   "cell_type": "markdown",
   "metadata": {},
   "source": [
    "Diseña una función llamada __filtrar_pares_positivos__ que reciba una lista de números `a` y devuelva otra lista que contenga solo aquellos números que sean pares y positivos.\n",
    "\n",
    "__Ejemplo de ejecución:__\n",
    "\n",
    "```\n",
    "In: \n",
    "    L = [5, -2, 2, 4, -8, 6, 7, 0]\n",
    "    r = filtrar_pares_positivos(L) \n",
    "    r\n",
    "    \n",
    "Out: \n",
    "    [2, 4, 6, 0]\n",
    "```"
   ]
  },
  {
   "cell_type": "markdown",
   "metadata": {},
   "source": [
    "## Ejercicio 10"
   ]
  },
  {
   "cell_type": "markdown",
   "metadata": {},
   "source": [
    "Diseña una función llamada __menores__ que devuelva todos los números menores a un cierto valor  `v` de una lista ordenada de forma ascendente `m`. Tiene dos parámetros de entrada; un número `v` y una lista `m`. El valor devuelto es una lista de números.\n",
    "\n",
    "__Ejemplo de ejecución 1:__\n",
    "\n",
    "```\n",
    "In: \n",
    "    L = [1, 5, 8, 9, 10]\n",
    "    r = menores(0,L)\n",
    "    r\n",
    "    \n",
    "Out: \n",
    "    []\n",
    "```\n",
    "__Ejemplo de ejecución 2:__\n",
    "\n",
    "```\n",
    "In: \n",
    "    L = [1, 5, 8, 9, 10]\n",
    "    r = menores(8,L)\n",
    "    r    \n",
    "Out: \n",
    "    [1, 5]\n",
    "```"
   ]
  },
  {
   "cell_type": "code",
   "execution_count": 13,
   "metadata": {},
   "outputs": [],
   "source": [
    "def menores (valor, lista):\n",
    "    nueva = []#hago una nueva lista y voy metiendo valores segun la restriccion de arriba\n",
    "    for elemento in lista:\n",
    "        if elemento < valor:\n",
    "            nueva.append(elemento)\n",
    "        else:\n",
    "            pass\n",
    "    return nueva\n",
    "    "
   ]
  },
  {
   "cell_type": "code",
   "execution_count": 14,
   "metadata": {},
   "outputs": [
    {
     "data": {
      "text/plain": [
       "[1, 5]"
      ]
     },
     "execution_count": 14,
     "metadata": {},
     "output_type": "execute_result"
    }
   ],
   "source": [
    "L = [1, 5, 8, 9, 10]\n",
    "r = menores(8,L)\n",
    "r    "
   ]
  },
  {
   "cell_type": "code",
   "execution_count": 15,
   "metadata": {},
   "outputs": [],
   "source": [
    "def menores (valor, lista):#funciona pero es una mala practica no se pone un return dentro de un for\n",
    "    nueva = []#hago una nueva lista y voy metiendo valores segun la restriccion de arriba\n",
    "    for elemento in lista:\n",
    "        if elemento < valor:\n",
    "            nueva.append(elemento)\n",
    "        else:\n",
    "            return nueva"
   ]
  },
  {
   "cell_type": "code",
   "execution_count": 16,
   "metadata": {},
   "outputs": [
    {
     "data": {
      "text/plain": [
       "[1, 5]"
      ]
     },
     "execution_count": 16,
     "metadata": {},
     "output_type": "execute_result"
    }
   ],
   "source": [
    "L = [1, 5, 8, 9, 10]\n",
    "r = menores(8,L)\n",
    "r"
   ]
  },
  {
   "cell_type": "code",
   "execution_count": 17,
   "metadata": {},
   "outputs": [],
   "source": [
    "def menores (valor, lista):#funciona pero es una mala practica no se pone un return dentro de un for\n",
    "    nueva = []#hago una nueva lista y voy metiendo valores segun la restriccion de arriba\n",
    "    for elemento in lista:\n",
    "        if elemento < valor:\n",
    "            nueva.append(elemento)\n",
    "        else:\n",
    "            break\n",
    "    return nueva #fin"
   ]
  },
  {
   "cell_type": "code",
   "execution_count": 18,
   "metadata": {},
   "outputs": [
    {
     "data": {
      "text/plain": [
       "[1, 5]"
      ]
     },
     "execution_count": 18,
     "metadata": {},
     "output_type": "execute_result"
    }
   ],
   "source": [
    "L = [1, 5, 8, 9, 10]\n",
    "r = menores(8,L)\n",
    "r"
   ]
  },
  {
   "cell_type": "code",
   "execution_count": 22,
   "metadata": {},
   "outputs": [],
   "source": [
    "def menores (valor, lista):#MEJOR SOLUCION\n",
    "    nueva = []#hago una nueva lista y voy metiendo valores segun la restriccion de arriba\n",
    "    i = 0\n",
    "    while lista[i] < valor:#si pongo I I tiene que ser menor que la longitud de la lista\n",
    "          nueva.append(lista[i])\n",
    "          i = i + 1\n",
    "    return nueva #fin"
   ]
  },
  {
   "cell_type": "code",
   "execution_count": 23,
   "metadata": {},
   "outputs": [
    {
     "data": {
      "text/plain": [
       "[1, 5]"
      ]
     },
     "execution_count": 23,
     "metadata": {},
     "output_type": "execute_result"
    }
   ],
   "source": [
    "L = [1, 5, 8, 9, 10]\n",
    "r = menores(8,L)\n",
    "r"
   ]
  },
  {
   "cell_type": "code",
   "execution_count": 24,
   "metadata": {},
   "outputs": [],
   "source": [
    "def menores (valor, lista):#MEJOR SOLUCION\n",
    "    nueva = []#hago una nueva lista y voy metiendo valores segun la restriccion de arriba\n",
    "    i = 0\n",
    "    while i < len(lista) and lista[i] < valor:#si pongo I I tiene que ser menor que la longitud de la lista\n",
    "          nueva.append(lista[i])\n",
    "          i = i + 1\n",
    "    return nueva #fin"
   ]
  },
  {
   "cell_type": "code",
   "execution_count": 25,
   "metadata": {},
   "outputs": [
    {
     "data": {
      "text/plain": [
       "[1, 5]"
      ]
     },
     "execution_count": 25,
     "metadata": {},
     "output_type": "execute_result"
    }
   ],
   "source": [
    "L = [1, 5, 8, 9, 10]\n",
    "r = menores(8,L)\n",
    "r"
   ]
  },
  {
   "cell_type": "markdown",
   "metadata": {},
   "source": [
    "--------------------"
   ]
  }
 ],
 "metadata": {
  "anaconda-cloud": {},
  "kernelspec": {
   "display_name": "Python 3",
   "language": "python",
   "name": "python3"
  },
  "language_info": {
   "codemirror_mode": {
    "name": "ipython",
    "version": 3
   },
   "file_extension": ".py",
   "mimetype": "text/x-python",
   "name": "python",
   "nbconvert_exporter": "python",
   "pygments_lexer": "ipython3",
   "version": "3.7.3"
  },
  "nbTranslate": {
   "displayLangs": [
    "en",
    "es"
   ],
   "hotkey": "alt-t",
   "langInMainMenu": true,
   "sourceLang": "es",
   "targetLang": "en",
   "useGoogleTranslate": true
  },
  "toc": {
   "base_numbering": 1,
   "nav_menu": {
    "height": "86px",
    "width": "252px"
   },
   "number_sections": true,
   "sideBar": true,
   "skip_h1_title": false,
   "title_cell": "Table of Contents",
   "title_sidebar": "Contents",
   "toc_cell": false,
   "toc_position": {},
   "toc_section_display": "block",
   "toc_window_display": false
  }
 },
 "nbformat": 4,
 "nbformat_minor": 2
}
