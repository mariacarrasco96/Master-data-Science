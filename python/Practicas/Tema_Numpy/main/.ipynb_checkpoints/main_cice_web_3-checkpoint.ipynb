{
 "cells": [
  {
   "cell_type": "markdown",
   "metadata": {},
   "source": [
    "<img src=\"../logo/logo.jpg\">\n",
    "\n",
    "# MÁSTER EN BIG DATA Y ÁNALISIS DE DATOS\n",
    "\n"
   ]
  },
  {
   "cell_type": "markdown",
   "metadata": {},
   "source": [
    "## ANÁLISIS DE DATOS CON PYTHON"
   ]
  },
  {
   "cell_type": "markdown",
   "metadata": {},
   "source": [
    "### Tema 3. Estructuras de datos  e instrucciones de control\n",
    "\n",
    "3.1. [Secuencias](../Tema_3/t3_secuencias.html)  \n",
    " \n",
    "3.2. [Diccionarios](../Tema_3/t3_diccionarios.html) \n",
    "\n",
    "3.3. [Estructuras e instrucciones  de control](../Tema_3/t3_instrucciones.html)  \n",
    "\n",
    "3.4. The Goodies: [Definición por comprensión](../Tema_3/t3_comprehensions.html)  \n",
    "\n",
    "-----\n",
    "\n",
    "__Ejercicios__\n",
    "\n",
    "*  [Ejercicios 2 - notebook](../Ejercicios_Tema_3/ejercicios/ej2.ipynb)\n",
    "\n",
    "*  [Ejercicios 3 - notebook](../Ejercicios_Tema_3/ejercicios/ej33.ipynb) \n",
    "\n",
    "*  [Ejercicios 4 - notebook](../Ejercicios_Tema_3/ejercicios/ej4.ipynb) \n",
    "\n",
    "*  [Ejercicios 5 - notebook](../Ejercicios_Tema_3/ejercicios/ej5.ipynb) \n",
    "\n",
    "*  [Ejercicios 6 - notebook](../Ejercicios_Tema_3/ejercicios/ej6.ipynb) \n",
    "\n",
    "--------------------"
   ]
  },
  {
   "cell_type": "markdown",
   "metadata": {},
   "source": [
    "----"
   ]
  }
 ],
 "metadata": {
  "anaconda-cloud": {},
  "kernelspec": {
   "display_name": "Python [default]",
   "language": "python",
   "name": "python3"
  },
  "language_info": {
   "codemirror_mode": {
    "name": "ipython",
    "version": 3
   },
   "file_extension": ".py",
   "mimetype": "text/x-python",
   "name": "python",
   "nbconvert_exporter": "python",
   "pygments_lexer": "ipython3",
   "version": "3.5.2"
  }
 },
 "nbformat": 4,
 "nbformat_minor": 0
}
