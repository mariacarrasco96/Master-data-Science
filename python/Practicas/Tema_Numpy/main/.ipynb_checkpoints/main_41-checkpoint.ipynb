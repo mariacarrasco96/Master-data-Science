{
 "cells": [
  {
   "cell_type": "markdown",
   "metadata": {},
   "source": [
    "# Programación en Python"
   ]
  },
  {
   "cell_type": "markdown",
   "metadata": {},
   "source": [
    "## Tema 4. Módulo NumPy - Numerical Python"
   ]
  },
  {
   "cell_type": "markdown",
   "metadata": {},
   "source": [
    "4.1. [Importación de paquetes](../Tema_5/t5_modulos.html) ([nb](../Tema_5/t5_modulos.ipynb))  \n",
    "\n",
    "4.2. [Los Arrays de NumPy: __ndarray__](../Tema_6/t6_numpy_01.html \"Numpy I\") ([nb](../Tema_6/t6_numpy_01.ipynb)) \n",
    "\n",
    "4.3. [Operaciones entre arrays y escalares](../Tema_6/t6_numpy_02.html \"Numpy II\") ([nb](../Tema_6/t6_numpy_02.ipynb))  \n",
    "\n",
    "4.4. [Acceso y recorrido ](../Tema_6/t6_numpy_03.html \"Numpy I\") ([nb](../Tema_6/t6_numpy_03.ipynb))  \n",
    "\n",
    "4.5. [Proceso de datos usando arrays](../Tema_6/t6_numpy_04.html \"Numpy II\")     ([nb](../Tema_6/t6_numpy_04.ipynb)) \n",
    "\n",
    "\n",
    "__Ejemplo de aplicacion de NumPy__\n",
    "\n",
    "* [Ejemplo](../Ejercicios_Tema_6/uso_numpy.html) ( [Ejemplo](../Ejercicios_Tema_6/uso_numpy.ipynb) )\n",
    "\n",
    "\n",
    "__Ejercicios__\n",
    "\n",
    "* [Ejercicios 3 - html](../Ejercicios_Tema_6/ej4.html) ( [Ejercicios 3 - notebook](../Ejercicios_Tema_6/ej4.ipynb) )\n",
    "\n",
    "-------"
   ]
  },
  {
   "cell_type": "markdown",
   "metadata": {},
   "source": [
    "#### Referencias"
   ]
  },
  {
   "cell_type": "markdown",
   "metadata": {},
   "source": [
    "* [Python for Data Analysis](http://shop.oreilly.com/product/0636920023784.do)"
   ]
  },
  {
   "cell_type": "markdown",
   "metadata": {},
   "source": [
    "----"
   ]
  }
 ],
 "metadata": {
  "anaconda-cloud": {},
  "kernelspec": {
   "display_name": "Python 3",
   "language": "python",
   "name": "python3"
  },
  "language_info": {
   "codemirror_mode": {
    "name": "ipython",
    "version": 3
   },
   "file_extension": ".py",
   "mimetype": "text/x-python",
   "name": "python",
   "nbconvert_exporter": "python",
   "pygments_lexer": "ipython3",
   "version": "3.6.3"
  },
  "nbTranslate": {
   "displayLangs": [
    "en",
    "es"
   ],
   "hotkey": "alt-t",
   "langInMainMenu": true,
   "sourceLang": "es",
   "targetLang": "en",
   "useGoogleTranslate": true
  },
  "toc": {
   "nav_menu": {
    "height": "235px",
    "width": "252px"
   },
   "number_sections": true,
   "sideBar": true,
   "skip_h1_title": false,
   "title_cell": "Table of Contents",
   "title_sidebar": "Contents",
   "toc_cell": false,
   "toc_position": {},
   "toc_section_display": "block",
   "toc_window_display": false
  }
 },
 "nbformat": 4,
 "nbformat_minor": 1
}
