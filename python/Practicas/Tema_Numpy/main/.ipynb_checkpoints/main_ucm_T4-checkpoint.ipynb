{
 "cells": [
  {
   "cell_type": "markdown",
   "metadata": {},
   "source": [
    "<img src=\"../logo/logo.jpg\">\n",
    "\n"
   ]
  },
  {
   "cell_type": "markdown",
   "metadata": {},
   "source": [
    "## ANÁLISIS DE DATOS CON PYTHON"
   ]
  },
  {
   "cell_type": "markdown",
   "metadata": {},
   "source": [
    "### TEMA 4.  Ficheros. Más sobre funciones\n",
    "\n",
    "4.1. [Ficheros](../Tema_4/t4_files.html)  \n",
    "\n",
    "4.2. [Funciones II](../Tema_4/t4_funciones_02.html) \n",
    "\n",
    "__Aplicación__\n",
    "\n",
    "[aplicacion_web_scraping.html](../Ejercicios_Tema_4/aplicacion_web_scraping.html) [aplicacion_web_scraping.ipynb](../Ejercicios_Tema_4/aplicacion_web_scraping.ipynb)\n",
    "\n",
    "__Ejercicios__\n",
    "\n",
    "* [Ejercicios 3 - html](../Ejercicios_Tema_4/ucm_ej3.html) (\n",
    "[Ejercicios 3 - notebook](../Ejercicios_Tema_4/ucm_ej3.ipynb) )\n",
    "\n",
    "-----"
   ]
  },
  {
   "cell_type": "markdown",
   "metadata": {},
   "source": [
    "#### Referencias\n",
    "* [Tutorial de Python. Por Guido Van Rossum](http://docs.python.org.ar/tutorial/pdfs/TutorialPython3.pdf)\n",
    "* [Python for Data Analysis](http://shop.oreilly.com/product/0636920023784.do)"
   ]
  },
  {
   "cell_type": "markdown",
   "metadata": {},
   "source": [
    "----"
   ]
  }
 ],
 "metadata": {
  "anaconda-cloud": {},
  "kernelspec": {
   "display_name": "Python [default]",
   "language": "python",
   "name": "python3"
  },
  "language_info": {
   "codemirror_mode": {
    "name": "ipython",
    "version": 3
   },
   "file_extension": ".py",
   "mimetype": "text/x-python",
   "name": "python",
   "nbconvert_exporter": "python",
   "pygments_lexer": "ipython3",
   "version": "3.5.2"
  }
 },
 "nbformat": 4,
 "nbformat_minor": 0
}
