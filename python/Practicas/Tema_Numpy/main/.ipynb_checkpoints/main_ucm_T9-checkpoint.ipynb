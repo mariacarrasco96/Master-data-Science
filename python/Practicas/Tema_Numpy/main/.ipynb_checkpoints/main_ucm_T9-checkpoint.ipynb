{
 "cells": [
  {
   "cell_type": "markdown",
   "metadata": {},
   "source": [
    "<img src=\"../logo/logo.jpg\">\n",
    "\n"
   ]
  },
  {
   "cell_type": "markdown",
   "metadata": {},
   "source": [
    "## ANÁLISIS DE DATOS CON PYTHON"
   ]
  },
  {
   "cell_type": "markdown",
   "metadata": {},
   "source": [
    "### TEMA 9. Bases de datos \n",
    "\n",
    "\n",
    "9.1. [Importar datos de Bases de datos (MySQL)](../Tema_9/t9_load_data_SQL.html) \n",
    "\n",
    "9.2. [MongoDB y datos en formato JSON](../Tema_9/t9_load_data_mongo.html) \n",
    "\n",
    "9.3. [Datos en formato XML](../Tema_9/t9_load_XML.html) ( [nb](../Tema_9/t9_load_XML.ipynb) )\n",
    "\n",
    "\n",
    "__Aplicación__\n",
    "\n",
    "* [Datos de twitter - html](../Tema_9/practica_twitter.html) ( [nb](../Tema_9/practica_twitter.ipynb) )\n",
    "    * [tweets.zip](../Tema_9/Tweets.zip)\n",
    "\n",
    "* [Movilens 1M](../Ejercicios_full/MoviLens.html) ( [nb](../Ejercicios_full/MoviLens.ipynb) )"
   ]
  },
  {
   "cell_type": "markdown",
   "metadata": {},
   "source": [
    "#### Referencias\n",
    "\n",
    "* [Librería gráfica matplotlib](http://matplotlib.org/)\n",
    "* [Plotting pandas](http://pandas.pydata.org/pandas-docs/stable/visualization.html)\n",
    "* [Python for Data Analysis](http://shop.oreilly.com/product/0636920023784.do)"
   ]
  },
  {
   "cell_type": "markdown",
   "metadata": {},
   "source": [
    "----"
   ]
  }
 ],
 "metadata": {
  "anaconda-cloud": {},
  "kernelspec": {
   "display_name": "Python [default]",
   "language": "python",
   "name": "python3"
  },
  "language_info": {
   "codemirror_mode": {
    "name": "ipython",
    "version": 3
   },
   "file_extension": ".py",
   "mimetype": "text/x-python",
   "name": "python",
   "nbconvert_exporter": "python",
   "pygments_lexer": "ipython3",
   "version": "3.5.2"
  }
 },
 "nbformat": 4,
 "nbformat_minor": 0
}
