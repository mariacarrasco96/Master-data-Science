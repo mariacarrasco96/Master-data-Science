{
 "cells": [
  {
   "cell_type": "markdown",
   "metadata": {},
   "source": [
    "# Programación en Python"
   ]
  },
  {
   "cell_type": "markdown",
   "metadata": {},
   "source": [
    "## Tema 1. Introducción al lenguaje Python y a los entornos de desarrollo "
   ]
  },
  {
   "cell_type": "markdown",
   "metadata": {},
   "source": [
    "1.1. [Introducción](../Tema_1/t1_intro.html \"Intro\") ([nb](../Tema_1/t1_intro.ipynb \"Intro\")) \n",
    "\n",
    "1.2. [Entornos de desarrollo](../Tema_1/t1_entornos_desarrollo.html \"Entornos\") ([nb](../Tema_1/t1_entornos_desarrollo.ipynb \"Entornos\"))    \n",
    "\n",
    "1.3. [Instalar Python con Anaconda](../Tema_1/t1_instalacion_Anaconda.html \"Instalacion\") ([nb](../Tema_1/t1_instalacion_Anaconda.ipynb \"Instalacion\"))    \n",
    "\n",
    "1.4. [El notebook de IPython](../Tema_1/t1_jupyter_nb.html)  ([nb](../Tema_1/t1_jupyter_nb.ipynb))     \n",
    "\n",
    "-----\n",
    "\n",
    "__Ejercicios__\n",
    "\n",
    "*  ([Ejercicios 0 - html](../Ejercicios_Tema_1/ej00.html))  ([nb](../Ejercicios_Tema_1/ej00.ipynb))"
   ]
  },
  {
   "cell_type": "markdown",
   "metadata": {},
   "source": [
    "## Tema 2.  Elementos básicos del lenguaje"
   ]
  },
  {
   "cell_type": "markdown",
   "metadata": {},
   "source": [
    "2.1. [Los tipos de datos básicos en Python](../Tema_2/t2_sintaxis_01.html)  ([nb](../Tema_2/t2_sintaxis_01.ipynb)) \n",
    "    \n",
    "2.2. [Definiendo funciones en Python](../Tema_2/t2_funciones_01.html) ([nb](../Tema_2/t2_funciones_01.ipynb)) \n",
    "    \n",
    "--------\n",
    "    \n",
    "__Ejercicios__\n",
    "\n",
    "* ([Ejercicios 1 - html](../Ejercicios_Tema_2/ej11.html))  ([nb](../Ejercicios_Tema_2/ej11.ipynb)) \n",
    "* ([Ejercicios 2 - html](../Ejercicios_Tema_2/ej12.html))  ([nb](../Ejercicios_Tema_2/ej12.ipynb)) \n",
    "* ([Ejercicios 1 - soluciones](../Ejercicios_Tema_2/ej11_sol.html))\n",
    "* ([Ejercicios 2 - soluciones](../Ejercicios_Tema_2/ej12_sol.html))\n",
    "\n",
    "<!--([nb](../Ejercicios_Tema_2/ej11_sol.ipynb)) -->\n",
    "\n"
   ]
  },
  {
   "cell_type": "markdown",
   "metadata": {},
   "source": [
    "## Tema 3."
   ]
  },
  {
   "cell_type": "markdown",
   "metadata": {},
   "source": [
    "### Estructuras de datos  en Python"
   ]
  },
  {
   "cell_type": "markdown",
   "metadata": {},
   "source": [
    "3.1. [Secuencias](../Tema_3/t3_secuencias.html) ([nb](../Tema_3/t3_secuencias.ipynb))\n",
    " \n",
    "3.2. [Diccionarios](../Tema_3/t3_diccionarios.html) ([nb](../Tema_3/t3_diccionarios.ipynb))\n",
    "\n",
    "3.3. [Estructuras e instrucciones  de control](../Tema_3/t3_instrucciones.html) ([nb](../Tema_3/t3_instrucciones.ipynb))\n",
    "\n",
    "3.4. The Goodies: [Definición por comprensión](../Tema_3/t3_comprehensions.html) ([nb](../Tema_3/t3_comprehensions.ipynb))\n",
    "\n"
   ]
  },
  {
   "cell_type": "markdown",
   "metadata": {},
   "source": [
    "### Tratamiento de ficheros"
   ]
  },
  {
   "cell_type": "markdown",
   "metadata": {},
   "source": [
    "4.1. [Ficheros](../Tema_4/t4_files.html) ([nb](../Tema_4/t4_files.ipynb))"
   ]
  },
  {
   "cell_type": "markdown",
   "metadata": {},
   "source": [
    "### Más sobre funciones"
   ]
  },
  {
   "cell_type": "markdown",
   "metadata": {},
   "source": [
    "4.2. [Funciones II](../Tema_4/t4_funciones_02.html) ([nb](../Tema_4/t4_funciones_02.ipynb))  \n",
    "\n",
    "\n",
    "\n",
    "__Ejercicios__\n",
    "\n",
    "*   [Ejercicios 3 - html](../Ejercicios_Tema_3/ej13.html) ( [Ejercicios 3 - notebook](../Ejercicios_Tema_3/ej13.ipynb) )\n",
    "*   [Ejercicios 4 - html](../Ejercicios_Tema_3/ej14.html) ( [Ejercicios 4 - notebook](../Ejercicios_Tema_3/ej14.ipynb) )\n",
    "*   [Ejercicios 5 - html](../Ejercicios_Tema_3/ej15.html) ( [Ejercicios 5 - notebook](../Ejercicios_Tema_3/ej15.ipynb) )\n",
    "\n",
    "*   [Ejercicios 3 - Soluciones](../Ejercicios_Tema_3/ej13_sol.html)\n",
    "*   [Ejercicios 4 - Soluciones](../Ejercicios_Tema_3/ej14_sol.html)\n",
    "*   [Ejercicios 5 - Soluciones](../Ejercicios_Tema_3/ej15_sol.html)"
   ]
  },
  {
   "cell_type": "markdown",
   "metadata": {},
   "source": [
    "__Aplicaciones__ \n",
    "\n",
    "* [Datos abiertos CM](../Ejercicios_Tema_3/ej16.html) ( [nb](../Ejercicios_Tema_3/ej16.ipynb) )\n",
    "* [Encuesta - html](../Ejercicios_Tema_4/Rabanitos.html) ([nb](../Ejercicios_Tema_4/Rabanitos.ipynb) ) \n",
    "\n",
    "-------"
   ]
  },
  {
   "cell_type": "markdown",
   "metadata": {},
   "source": [
    "## Tema 4. Módulo NumPy - Numerical Python"
   ]
  },
  {
   "cell_type": "markdown",
   "metadata": {},
   "source": [
    "4.1. [Importación de paquetes](../Tema_5/t5_modulos.html) ([nb](../Tema_5/t5_modulos.ipynb))  \n",
    "\n",
    "4.2. [Los Arrays de NumPy: __ndarray__](../Tema_6/t6_numpy_01.html \"Numpy I\") ([nb](../Tema_6/t6_numpy_01.ipynb)) \n",
    "\n",
    "4.3. [Operaciones entre arrays y escalares](../Tema_6/t6_numpy_02.html \"Numpy II\") ([nb](../Tema_6/t6_numpy_02.ipynb))  \n",
    "\n",
    "4.4. [Acceso y recorrido ](../Tema_6/t6_numpy_03.html \"Numpy I\") ([nb](../Tema_6/t6_numpy_03.ipynb))  \n",
    "\n",
    "4.5. [Proceso de datos usando arrays](../Tema_6/t6_numpy_04.html \"Numpy II\")     ([nb](../Tema_6/t6_numpy_04.ipynb)) \n",
    "\n",
    "\n",
    "__Ejemplo de aplicacion de NumPy__\n",
    "\n",
    "* [Ejemplo](../Ejercicios_Tema_6/uso_numpy.html) ( [Ejemplo](../Ejercicios_Tema_6/uso_numpy.ipynb) )\n",
    "\n",
    "\n",
    "__Ejercicios__\n",
    "\n",
    "* [Ejercicios 3 - html](../Ejercicios_Tema_6/ej4.html) ( [Ejercicios 3 - notebook](../Ejercicios_Tema_6/ej4.ipynb) )\n",
    "\n",
    "\n",
    "\n",
    "\n",
    "\n",
    "\n",
    "-------"
   ]
  },
  {
   "cell_type": "markdown",
   "metadata": {},
   "source": [
    "### Tema 5 . Visualización de datos I"
   ]
  },
  {
   "cell_type": "markdown",
   "metadata": {},
   "source": [
    "8.1.  [El módulo MatplotLib y Numpy](../Tema_8/t8_matplot_01.html)  ([nb](../Tema_8/t8_matplot_01.ipynb)) \n",
    "\n",
    "\n",
    "__Ejercicios__\n",
    "\n",
    "\n",
    "* [Ejercicios 4 - html](../Ejercicios_Tema_8/ej6.html) ( [Ejercicios 4 - notebook](../Ejercicios_Tema_8/ej6.ipynb) )"
   ]
  },
  {
   "cell_type": "markdown",
   "metadata": {
    "collapsed": true
   },
   "source": [
    "### Tema 6. Pandas (Panel Data Set) "
   ]
  },
  {
   "cell_type": "markdown",
   "metadata": {},
   "source": [
    "7.1. [Las Series y DataFrames de Pandas](../Tema_7/t7_pandas_01.html)  ([nb](../Tema_7/t7_pandas_01.ipynb))\n",
    "\n",
    "7.2.  [Importar y exportar datos](../Tema_7/t7_load_data_dep.html)  ([nb](../Tema_7/t7_load_data_dep.ipynb))\n",
    "\n",
    "7.3. [Operaciones con Series y Dataframes](../Tema_7/t7_pandas_02B.html)  ([nb](../Tema_7/t7_pandas_02B.ipynb)) \n",
    "\n",
    "\n",
    "\n",
    "\n",
    "__Aplicacion en Pandas__\n",
    "\n",
    "* [Datos abiertos Junta Andalucía](../Tema_7/datos_andalucia/uso_pandas_01.html) ( [nb](../Tema_7/datos_andalucia/uso_pandas_01.ipynb) ) \n",
    "\n",
    "\n",
    "__Ejercicios__\n",
    "\n",
    "\n",
    "* [Ejercicios 5 - html](../Ejercicios_Tema_7/ej5.html) ( [Ejercicios 5 - notebook](../Ejercicios_Tema_7/ej5.ipynb) )\n",
    "\n",
    "\n",
    "------"
   ]
  },
  {
   "cell_type": "markdown",
   "metadata": {
    "collapsed": true
   },
   "source": [
    "### Tema 7. Procesamiento en Pandas "
   ]
  },
  {
   "cell_type": "markdown",
   "metadata": {},
   "source": [
    "7.4. [Preparación y limpieza de los datos](../Tema_7/t7_cleaning_01.html) ([nb](../Tema_7/t7_cleaning_01.ipynb)) \n",
    "\n",
    "7.5. [Grupos y operaciones de agrupación](../Tema_7/t7_aggregation_01.html) ([nb](../Tema_7/t7_aggregation_01.ipynb))\n",
    "\n",
    "\n",
    "\n",
    "\n",
    "__Ejercicios__\n",
    "\n",
    "\n",
    "* [Ejercicios 6 - html](../Ejercicios_Tema_7/ej6.html) ( [Ejercicios 6 - notebook](../Ejercicios_Tema_7/ej6.ipynb) )"
   ]
  },
  {
   "cell_type": "markdown",
   "metadata": {},
   "source": [
    "### Tema 8 . Visualización de datos ll"
   ]
  },
  {
   "cell_type": "markdown",
   "metadata": {},
   "source": [
    "8.1. [Visualización](../Tema_8/Visualizacion.html)( [nb](../Tema_8/Visualizacion.ipynb) )\n",
    "\n",
    "8.2.  [El módulo MatplotLib y pandas](../Tema_8/t8_matplot_02.html)  ([nb](../Tema_8/t8_matplot_02.ipynb)) \n",
    "\n",
    "8.2 [La librería HighCharts](../Tema_8/Examples_HC.html)( [nb](../Tema_8/Examples_HC.ipynb) ) no cunef\n",
    "\n",
    "\n",
    "__Ejercicios__\n",
    "\n",
    "\n",
    "* [Ejercicios 7 - html](../Ejercicios_full/ej7.html) ( [Ejercicios 7 - notebook](../Ejercicios_full/ej7.ipynb) )\n",
    "\n",
    "Para la entrega [../Ejercicios_full/Ejercicios_Unidad8.zip](../Ejercicios_full/Ejercicios_Unidad8.zip)"
   ]
  },
  {
   "cell_type": "markdown",
   "metadata": {},
   "source": [
    "### Tema 11. Aprendizaje automático\n",
    "\n",
    "9.1 [ML con Scikit-learn](../Tema_11/t11_ml.ipynb)( [nb](../Tema_11/t11_ml.ipynb) ) "
   ]
  },
  {
   "cell_type": "markdown",
   "metadata": {},
   "source": [
    "### Tema 9. Bases de datos"
   ]
  },
  {
   "cell_type": "markdown",
   "metadata": {},
   "source": [
    "9.1. [Importar datos de Bases de datos (MySQL)](../Tema_9/t9_load_data_SQL.html) ( [nb](../Tema_9/t9_load_data_SQL.ipynb) )\n",
    "\n",
    "9.2. [MongoDB y datos en formato JSON](../Tema_9/t9_load_data_mongo.html) ( [nb](../Tema_9/t9_load_data_mongo.ipynb) )  No cica\n",
    "\n",
    "9.3. [Datos en formato XML](../Tema_9/t9_load_XML.html) ( [nb](../Tema_9/t9_load_XML.ipynb) )\n",
    "\n",
    "__Ejercicios__\n",
    "\n",
    "* [Ejercicios 8 - html](../Ejercicios_Tema_9/ej8.html) ( [Ejercicios 8 - notebook](../Ejercicios_Tema_9/ej8.ipynb) )\n",
    "\n",
    "\n",
    "__Aplicación__\n",
    "\n",
    "* [Datos de twitter - html](../Tema_9/practica_twitter.html) ( [nb](../Tema_9/practica_twitter.ipynb) )\n",
    "\n",
    "* [Movilens 1M](../Ejercicios_full/MoviLens.html) ( [nb](../Ejercicios_full/MoviLens.ipynb) )"
   ]
  },
  {
   "cell_type": "markdown",
   "metadata": {},
   "source": [
    "#### Referencias"
   ]
  },
  {
   "cell_type": "markdown",
   "metadata": {},
   "source": [
    "* [Librería gráfica matplotlib](http://matplotlib.org/)\n",
    "* [Plotting pandas](http://pandas.pydata.org/pandas-docs/stable/visualization.html)\n",
    "* [Python for Data Analysis](http://shop.oreilly.com/product/0636920023784.do)"
   ]
  },
  {
   "cell_type": "markdown",
   "metadata": {},
   "source": [
    "----"
   ]
  }
 ],
 "metadata": {
  "anaconda-cloud": {},
  "kernelspec": {
   "display_name": "Python 3",
   "language": "python",
   "name": "python3"
  },
  "language_info": {
   "codemirror_mode": {
    "name": "ipython",
    "version": 3
   },
   "file_extension": ".py",
   "mimetype": "text/x-python",
   "name": "python",
   "nbconvert_exporter": "python",
   "pygments_lexer": "ipython3",
   "version": "3.7.3"
  },
  "nbTranslate": {
   "displayLangs": [
    "en",
    "es"
   ],
   "hotkey": "alt-t",
   "langInMainMenu": true,
   "sourceLang": "es",
   "targetLang": "en",
   "useGoogleTranslate": true
  },
  "toc": {
   "base_numbering": 1,
   "nav_menu": {
    "height": "235px",
    "width": "252px"
   },
   "number_sections": true,
   "sideBar": true,
   "skip_h1_title": false,
   "title_cell": "Table of Contents",
   "title_sidebar": "Contents",
   "toc_cell": false,
   "toc_position": {},
   "toc_section_display": "block",
   "toc_window_display": false
  }
 },
 "nbformat": 4,
 "nbformat_minor": 1
}
