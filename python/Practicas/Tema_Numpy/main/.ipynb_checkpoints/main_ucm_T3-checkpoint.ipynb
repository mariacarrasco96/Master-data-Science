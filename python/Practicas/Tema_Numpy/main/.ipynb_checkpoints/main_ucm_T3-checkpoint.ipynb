{
 "cells": [
  {
   "cell_type": "markdown",
   "metadata": {},
   "source": [
    "<img src=\"../logo/logo.jpg\">\n",
    "\n"
   ]
  },
  {
   "cell_type": "markdown",
   "metadata": {},
   "source": [
    "## ANÁLISIS DE DATOS CON PYTHON"
   ]
  },
  {
   "cell_type": "markdown",
   "metadata": {},
   "source": [
    "### TEMA 3. Estructuras de datos  e instrucciones de control\n",
    "\n",
    "3.1. [Secuencias](../Tema_3/t3_secuencias.html) \n",
    "\n",
    "3.2. [Diccionarios](../Tema_3/t3_diccionarios.html)\n",
    "\n",
    "3.3. [Estructuras e instrucciones  de control](../Tema_3/t3_instrucciones.html)\n",
    "\n",
    "3.4. The Goodies: [Definición por comprensión](../Tema_3/t3_comprehensions.html) \n",
    "\n",
    "-----\n",
    "\n",
    "__Ejercicios__\n",
    "\n",
    "*   [Ejercicios 2 - html](../Ejercicios_Tema_3/ucm_ej2.html) ( [Ejercicios 2 - notebook](../Ejercicios_Tema_3/ucm_ej2.ipynb) )\n",
    "\n",
    "--------------------"
   ]
  },
  {
   "cell_type": "markdown",
   "metadata": {},
   "source": [
    "#### Referencias\n",
    "\n",
    "* [Tutorial de Python. Por Guido Van Rossum](http://docs.python.org.ar/tutorial/pdfs/TutorialPython3.pdf)\n",
    "\n",
    "* [Python for Data Analysis](http://shop.oreilly.com/product/0636920023784.do)"
   ]
  },
  {
   "cell_type": "markdown",
   "metadata": {},
   "source": [
    "----"
   ]
  }
 ],
 "metadata": {
  "anaconda-cloud": {},
  "kernelspec": {
   "display_name": "Python [default]",
   "language": "python",
   "name": "python3"
  },
  "language_info": {
   "codemirror_mode": {
    "name": "ipython",
    "version": 3
   },
   "file_extension": ".py",
   "mimetype": "text/x-python",
   "name": "python",
   "nbconvert_exporter": "python",
   "pygments_lexer": "ipython3",
   "version": "3.5.2"
  }
 },
 "nbformat": 4,
 "nbformat_minor": 0
}
