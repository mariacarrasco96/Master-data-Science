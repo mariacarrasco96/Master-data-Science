{
 "cells": [
  {
   "cell_type": "markdown",
   "metadata": {},
   "source": [
    "<img src=\"../logo/logo.jpg\">\n",
    "\n"
   ]
  },
  {
   "cell_type": "markdown",
   "metadata": {},
   "source": [
    "## ANÁLISIS DE DATOS CON PYTHON"
   ]
  },
  {
   "cell_type": "markdown",
   "metadata": {},
   "source": [
    "\n",
    "### Tema 1. Introducción al lenguaje Python y a los entornos de desarrollo\n",
    "\n",
    "1.1. [Introducción](../Tema_1/t1_intro.html \"Intro\") ([nb](../Tema_1/t1_intro.ipynb \"Intro\")) \n",
    "\n",
    "1.2. [Entornos de desarrollo](../Tema_1/t1_entornos_desarrollo.html \"Entornos\") ([nb](../Tema_1/t1_entornos_desarrollo.ipynb \"Entornos\"))    \n",
    "\n",
    "1.3. [Instalar Python con Anaconda](../Tema_1/t1_instalacion_Anaconda.html \"Instalacion\") ([nb](../Tema_1/t1_instalacion_Anaconda.ipynb \"Instalacion\"))    \n",
    "\n",
    "1.4. [El notebook de IPython](../Tema_1/t1_jupyter_nb.html)  ([nb](../Tema_1/t1_jupyter_nb.ipynb))     \n",
    "\n",
    "A continuación puedes ver un [video](https://www.youtube.com/watch?v=J5GevIHNctM) (de los muchos que puedes encontrar en la red) para familiarizarte con los entornos que hemos descrito en este tema.\n",
    "\n",
    "-----\n",
    "\n"
   ]
  },
  {
   "cell_type": "markdown",
   "metadata": {},
   "source": [
    "###  Tema 2.  Elementos básicos del lenguaje \n",
    "\n",
    "\n",
    "2.1. [Los tipos de datos básicos en Python](../Tema_2/t2_sintaxis_01.html)  ([nb](../Tema_2/t2_sintaxis_01.ipynb)) \n",
    "    \n",
    "2.2. [Definiendo funciones en Python](../Tema_2/t2_funciones_01.html) ([nb](../Tema_2/t2_funciones_01.ipynb)) \n",
    "    \n",
    "--------\n",
    "    \n",
    "__Ejercicios__\n",
    "\n",
    "*  ([Ejercicios 1 - notebook](../Ejercicios_Tema_2/ucm_ej1.ipynb)) \n",
    "\n",
    "\n",
    "\n",
    "-----\n",
    "\n"
   ]
  },
  {
   "cell_type": "markdown",
   "metadata": {},
   "source": [
    "### TEMA 3. Estructuras de datos  e instrucciones de control\n",
    "\n",
    "3.1. [Secuencias](../Tema_3/t3_secuencias.html) ([nb](../Tema_3/t3_secuencias.ipynb))\n",
    " \n",
    "3.2. [Diccionarios](../Tema_3/t3_diccionarios.html)([nb](../Tema_3/t3_diccionarios.ipynb))\n",
    "\n",
    "3.3. [Estructuras e instrucciones  de control](../Tema_3/t3_instrucciones.html) ([nb](../Tema_3/t3_instrucciones.ipynb))\n",
    "\n",
    "3.4. The Goodies: [Definición por comprensión](../Tema_3/t3_comprehensions.html) ([nb](../Tema_3/t3_comprehensions.ipynb))\n",
    "\n",
    "-----\n",
    "\n",
    "__Aplicación web Scraping__\n",
    "\n",
    "* [Web Scraping - html](../Ejercicios_Tema_4/ejercicios/aplicacion_web_scraping.html) (\n",
    "[Web Scraping - notebook](../Ejercicios_Tema_4/ejercicios/aplicacion_web_scraping.ipynb) )\n",
    "\n",
    "-------\n",
    "\n",
    "__Ejercicios__\n",
    "\n",
    "*   [Ejercicios 2 - html](../Ejercicios_Tema_3/ucm_ej2.html) ( [Ejercicios 2 - notebook](../Ejercicios_Tema_3/ucm_ej2.ipynb) )\n",
    "\n",
    "--------------------\n",
    "\n",
    "__Material complementario__\n",
    "\n",
    "\n",
    "* [Algebra](../session_03/s3_ucm_numpy_algebra.ipynb))\n",
    "* [Números aleatorios](../session_03/s3_ucm_random.ipynb))\n",
    "\n"
   ]
  },
  {
   "cell_type": "markdown",
   "metadata": {},
   "source": [
    "### TEMA 4.  Ficheros. Más sobre funciones\n",
    "\n",
    "4.1. [Ficheros](../Tema_4/s2_cunef_files.html) ([nb](../Tema_4/t4_files.ipynb))  \n",
    "\n",
    "4.2. [Funciones II](../Tema_4/t4_funciones_02.html) ([nb](../Tema_4/t4_funciones_02.ipynb))      \n",
    "\n",
    "__Ejercicios__\n",
    "\n",
    "* [Ejercicios 3 - html](../Ejercicios_Tema_4/ejercicios/ucm_ej3.html) (\n",
    "[Ejercicios 3 - notebook](../Ejercicios_Tema_4/ejercicios/ucm_ej3.ipynb) )\n",
    "\n",
    "\n",
    "\n",
    "-----"
   ]
  },
  {
   "cell_type": "markdown",
   "metadata": {},
   "source": [
    "### Tema 5.  Módulos y paquetes. \n",
    "\n",
    "5.1. [Importación de paquetes](../Tema_5/t5_modulos.html) ([nb](../Tema_5/t5_modulos.ipynb))  \n",
    "\n",
    "----"
   ]
  },
  {
   "cell_type": "markdown",
   "metadata": {},
   "source": [
    "### Tema 6. El módulo NumPy\n",
    "\n",
    "6.1. [Los Arrays de NumPy: __ndarray__](../Tema_6/t6_numpy_01.html \"Numpy I\") ([nb](../Tema_6/t6_numpy_01.ipynb)) \n",
    "\n",
    "6.2. [Operaciones entre arrays y escalares](../Tema_6/t6_numpy_02.html \"Numpy II\") ([nb](../Tema_6/t6_numpy_02.ipynb))  \n",
    "\n",
    "6.3. [Acceso y recorrido ](../Tema_6/t6_numpy_03.html \"Numpy I\") ([nb](../Tema_6/t6_numpy_03.ipynb))  \n",
    "\n",
    "6.4. [Proceso de datos usando arrays](../Tema_6/t6_numpy_04.html \"Numpy II\")     ([nb](../Tema_6/t6_numpy_04.ipynb)) \n",
    "\n",
    "\n",
    "__Ejemplo de aplicacion de NumPy__\n",
    "\n",
    "* [Ejemplo](../Ejercicios_Tema_6/ucm_uso_numpy.html) ( [Ejemplo](../Ejercicios_Tema_6/ucm_uso_numpy.ipynb) )\n",
    "\n",
    "\n",
    "__Ejercicios__\n",
    "\n",
    "* [Ejercicios 4 - html](../Ejercicios_Tema_6/ucm_ej4.html) ( [Ejercicios 4 - notebook](../Ejercicios_Tema_6/ucm_ej4.ipynb) )\n",
    "\n",
    "\n",
    "\n",
    "\n",
    "\n",
    "\n",
    "-------\n",
    "\n"
   ]
  },
  {
   "cell_type": "markdown",
   "metadata": {
    "collapsed": true
   },
   "source": [
    "### Tema 7. Pandas (Panel Data Set)\n",
    "\n",
    "7.1. [Las Series y DataFrames de Pandas](../Tema_7/t7_pandas_01.html)  ([nb](../Tema_7/t7_pandas_01.ipynb))\n",
    "\n",
    "7.2.  [Importar y exportar datos](../Tema_7/t7_load_data_dep.html)  ([nb](../Tema_7/t7_load_data_dep.ipynb))\n",
    "\n",
    "7.3. [Operaciones con Series y Dataframes](../Tema_7/t7_pandas_02B.html)  ([nb](../Tema_7/t7_pandas_02B.ipynb)) \n",
    "\n",
    "7.4. [Preparación y limpieza de los datos](../Tema_7/t7_cleaning_01.html) ([nb](../Tema_7/t7_cleaning_01.ipynb)) \n",
    "\n",
    "7.5. [Grupos y operaciones de agrupación](../Tema_7/t7_aggregation_01.html) ([nb](../Tema_7/t7_aggregation_01.ipynb))\n",
    "\n",
    "\n",
    "__Aplicacion en Pandas__\n",
    "\n",
    "* [Datos abiertos Junta Andalucía](../Tema_7/datos_andalucia/uso_pandas_01.html) ( [nb](../Tema_7/datos_andalucia/uso_pandas_01.ipynb) ) \n",
    "\n",
    "* [Ejemplo de importación de datos](../Tema_7/datos_andalucia/uso_pandas_02.html) ( [nb](../Tema_7/datos_andalucia/uso_pandas_02.ipynb) ) \n",
    "\n",
    "\n",
    "__Ejercicios__\n",
    "\n",
    "\n",
    "* [Ejercicios 5 - html](../Ejercicios_Tema_7/ucm_ej5.html) ( [Ejercicios 5 - notebook](../Ejercicios_Tema_7/ucm_ej5.ipynb) )\n",
    "\n",
    "* [Ejercicios 7 - html](../Ejercicios_Tema_7/ej7.html) ( [Ejercicios 7 - notebook](../Ejercicios_Tema_7/ej7.ipynb) )\n",
    "------\n"
   ]
  },
  {
   "cell_type": "markdown",
   "metadata": {},
   "source": [
    "### Tema 8 . Visualización de datos\n",
    "\n",
    "8.1.  [Visualización de datos](../Tema_8/t8_matplot_01.html)  ([nb](../Tema_8/t8_matplot_01.ipynb)) \n",
    "\n",
    "8.2.  [Visualización de datos en pandas](../Tema_8/t8_matplot_02.html)  ([nb](../Tema_8/t8_matplot_02.ipynb)\n",
    "\n",
    "\n",
    "__Ejercicios__\n",
    "\n",
    "\n",
    "* [Ejercicios 6 - html](../Ejercicios_Tema_8/ej6.html) ( [Ejercicios 6 - notebook](../Ejercicios_Tema_8/ej6.ipynb) )\n",
    "\n",
    "__Otras librerías de Visualización de datos__ \n",
    "\n",
    "* [HighCharts](../Tema_8/Examples_HC.html) [nb](../Tema_8/Examples_HC.ipynb) \n",
    "* [Bokeh](../Tema_8/Examples_bokeh.html) [nb](../Tema_8/Examples_bokeh.ipynb) \n",
    "* [Vincent](../Tema_8/Examples.html)  [nb](../Tema_8/Examples.ipynb) \n"
   ]
  },
  {
   "cell_type": "markdown",
   "metadata": {},
   "source": [
    "### Tema 9. Bases de datos \n",
    "\n",
    "\n",
    "9.1. [Importar datos de Bases de datos (MySQL)](../Tema_9/t9_load_data_SQL.html) ( [nb](../Tema_9/t9_load_data_SQL.ipynb) )\n",
    "\n",
    "9.2. [MongoDB y datos en formato JSON](../Tema_9/t9_load_data_mongo.html) ( [nb](../Tema_9/t9_load_data_mongo.ipynb) )\n",
    "\n",
    "9.3. [Datos en formato XML](../Tema_9/t9_load_XML.html) ( [nb](../Tema_9/t9_load_XML.ipynb) )\n",
    "\n",
    "\n",
    "__Aplicación__\n",
    "\n",
    "* [Datos de twitter - html](../Tema_9/practica_twitter.html) ( [nb](../Tema_9/practica_twitter.ipynb) )\n",
    "\n",
    "* [Movilens 1M](../Ejercicios_full/MoviLens.html) ( [nb](../Ejercicios_full/MoviLens.ipynb) )"
   ]
  },
  {
   "cell_type": "markdown",
   "metadata": {},
   "source": [
    "#### Referencias\n",
    "\n",
    "* [Librería gráfica matplotlib](http://matplotlib.org/)\n",
    "* [Plotting pandas](http://pandas.pydata.org/pandas-docs/stable/visualization.html)\n",
    "* [Python for Data Analysis](http://shop.oreilly.com/product/0636920023784.do)"
   ]
  },
  {
   "cell_type": "markdown",
   "metadata": {},
   "source": [
    "----"
   ]
  }
 ],
 "metadata": {
  "anaconda-cloud": {},
  "kernelspec": {
   "display_name": "Python [default]",
   "language": "python",
   "name": "python3"
  },
  "language_info": {
   "codemirror_mode": {
    "name": "ipython",
    "version": 3
   },
   "file_extension": ".py",
   "mimetype": "text/x-python",
   "name": "python",
   "nbconvert_exporter": "python",
   "pygments_lexer": "ipython3",
   "version": "3.5.2"
  }
 },
 "nbformat": 4,
 "nbformat_minor": 0
}
