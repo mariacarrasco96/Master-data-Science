{
 "cells": [
  {
   "cell_type": "markdown",
   "metadata": {},
   "source": [
    "<img src=\"../logo/logo.jpg\">\n",
    "\n"
   ]
  },
  {
   "cell_type": "markdown",
   "metadata": {},
   "source": [
    "## ANÁLISIS DE DATOS CON PYTHON"
   ]
  },
  {
   "cell_type": "markdown",
   "metadata": {},
   "source": [
    "### Tema 6. El módulo NumPy\n",
    "\n",
    "6.1. [Los Arrays de NumPy: __ndarray__](../Tema_6/t6_numpy_01.html \"Numpy I\") \n",
    "\n",
    "6.2. [Operaciones entre arrays y escalares](../Tema_6/t6_numpy_02.html \"Numpy II\") \n",
    "\n",
    "6.3. [Acceso y recorrido ](../Tema_6/t6_numpy_03.html \"Numpy I\") \n",
    "\n",
    "6.4. [Proceso de datos usando arrays](../Tema_6/t6_numpy_04.html \"Numpy II\")   \n",
    "\n",
    "\n",
    "__Ejemplo de aplicacion de NumPy__\n",
    "\n",
    "* [Ejemplo](../Ejercicios_Tema_6/ucm_uso_numpy.html) ( [Ejemplo](../Ejercicios_Tema_6/ucm_uso_numpy.ipynb) )\n",
    "\n",
    "\n",
    "__Ejercicios__\n",
    "\n",
    "* [Ejercicios 4 - html](../Ejercicios_Tema_6/ucm_ej4.html) ( [Ejercicios 4 - notebook](../Ejercicios_Tema_6/ucm_ej4.ipynb) )\n",
    "\n",
    "\n",
    "\n",
    "\n",
    "\n",
    "-------\n",
    "\n"
   ]
  },
  {
   "cell_type": "markdown",
   "metadata": {},
   "source": [
    "#### Referencias\n",
    "\n",
    "* [Python for Data Analysis](http://shop.oreilly.com/product/0636920023784.do)"
   ]
  },
  {
   "cell_type": "markdown",
   "metadata": {},
   "source": [
    "----"
   ]
  }
 ],
 "metadata": {
  "anaconda-cloud": {},
  "kernelspec": {
   "display_name": "Python [default]",
   "language": "python",
   "name": "python3"
  },
  "language_info": {
   "codemirror_mode": {
    "name": "ipython",
    "version": 3
   },
   "file_extension": ".py",
   "mimetype": "text/x-python",
   "name": "python",
   "nbconvert_exporter": "python",
   "pygments_lexer": "ipython3",
   "version": "3.5.2"
  }
 },
 "nbformat": 4,
 "nbformat_minor": 0
}
