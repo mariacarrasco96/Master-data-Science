{
 "cells": [
  {
   "cell_type": "markdown",
   "metadata": {},
   "source": [
    "# Aplicación de NumPy\n",
    "\n",
    "\n",
    "\n",
    "## Ejemplo 1\n",
    "\n",
    "Los datos contenidos en el fichero [datos.txt](./datos.txt) describe las poblaciones de tres tipos de serpientes en el sur de Africa durante 20 años."
   ]
  },
  {
   "cell_type": "code",
   "execution_count": 1,
   "metadata": {},
   "outputs": [
    {
     "data": {
      "text/plain": [
       "array([[ 2000., 30000.,  3000., 38300.],\n",
       "       [ 2001., 37200.,  6100., 48200.],\n",
       "       [ 2002., 60200.,  9800., 31600.],\n",
       "       [ 2003., 77300., 36200., 38200.],\n",
       "       [ 2004., 36300., 69300., 30600.],\n",
       "       [ 2005., 20600., 31700., 49800.],\n",
       "       [ 2006., 18100., 19000., 38600.],\n",
       "       [ 2007., 21300., 13000., 32300.],\n",
       "       [ 2008., 22000.,  8300., 43600.],\n",
       "       [ 2009., 26300.,  9100., 32100.],\n",
       "       [ 2010., 27100.,  7300., 36000.],\n",
       "       [ 2011., 30300.,  8000., 36800.],\n",
       "       [ 2012., 67000., 12300., 33800.],\n",
       "       [ 2013., 76600., 19600., 30900.],\n",
       "       [ 2014., 62300., 36700., 49300.],\n",
       "       [ 2015., 19600., 61100., 39000.],\n",
       "       [ 2016., 11200., 29700., 36700.],\n",
       "       [ 2017.,  7600., 16800., 41800.],\n",
       "       [ 2018., 13600.,  9700., 33300.],\n",
       "       [ 2019., 16200., 10100., 31300.],\n",
       "       [ 2020., 23700.,  8600., 47300.]])"
      ]
     },
     "execution_count": 1,
     "metadata": {},
     "output_type": "execute_result"
    }
   ],
   "source": [
    "import numpy as np\n",
    "data = np.loadtxt('./datos.txt')    # carga de los datos\n",
    "data"
   ]
  },
  {
   "cell_type": "code",
   "execution_count": 10,
   "metadata": {},
   "outputs": [
    {
     "data": {
      "text/plain": [
       "array([[ 2000, 30000,  3000, 38300],\n",
       "       [ 2001, 37200,  6100, 48200],\n",
       "       [ 2002, 60200,  9800, 31600],\n",
       "       [ 2003, 77300, 36200, 38200],\n",
       "       [ 2004, 36300, 69300, 30600],\n",
       "       [ 2005, 20600, 31700, 49800],\n",
       "       [ 2006, 18100, 19000, 38600],\n",
       "       [ 2007, 21300, 13000, 32300],\n",
       "       [ 2008, 22000,  8300, 43600],\n",
       "       [ 2009, 26300,  9100, 32100],\n",
       "       [ 2010, 27100,  7300, 36000],\n",
       "       [ 2011, 30300,  8000, 36800],\n",
       "       [ 2012, 67000, 12300, 33800],\n",
       "       [ 2013, 76600, 19600, 30900],\n",
       "       [ 2014, 62300, 36700, 49300],\n",
       "       [ 2015, 19600, 61100, 39000],\n",
       "       [ 2016, 11200, 29700, 36700],\n",
       "       [ 2017,  7600, 16800, 41800],\n",
       "       [ 2018, 13600,  9700, 33300],\n",
       "       [ 2019, 16200, 10100, 31300],\n",
       "       [ 2020, 23700,  8600, 47300]])"
      ]
     },
     "execution_count": 10,
     "metadata": {},
     "output_type": "execute_result"
    }
   ],
   "source": [
    "data = data.astype(int)\n",
    "data"
   ]
  },
  {
   "cell_type": "code",
   "execution_count": 9,
   "metadata": {},
   "outputs": [
    {
     "data": {
      "text/plain": [
       "array([[ 2000., 30000.,  3000., 38300.],\n",
       "       [ 2001., 37200.,  6100., 48200.],\n",
       "       [ 2002., 60200.,  9800., 31600.],\n",
       "       [ 2003., 77300., 36200., 38200.],\n",
       "       [ 2004., 36300., 69300., 30600.],\n",
       "       [ 2005., 20600., 31700., 49800.],\n",
       "       [ 2006., 18100., 19000., 38600.],\n",
       "       [ 2007., 21300., 13000., 32300.],\n",
       "       [ 2008., 22000.,  8300., 43600.],\n",
       "       [ 2009., 26300.,  9100., 32100.],\n",
       "       [ 2010., 27100.,  7300., 36000.],\n",
       "       [ 2011., 30300.,  8000., 36800.],\n",
       "       [ 2012., 67000., 12300., 33800.],\n",
       "       [ 2013., 76600., 19600., 30900.],\n",
       "       [ 2014., 62300., 36700., 49300.],\n",
       "       [ 2015., 19600., 61100., 39000.],\n",
       "       [ 2016., 11200., 29700., 36700.],\n",
       "       [ 2017.,  7600., 16800., 41800.],\n",
       "       [ 2018., 13600.,  9700., 33300.],\n",
       "       [ 2019., 16200., 10100., 31300.],\n",
       "       [ 2020., 23700.,  8600., 47300.]])"
      ]
     },
     "execution_count": 9,
     "metadata": {},
     "output_type": "execute_result"
    }
   ],
   "source": [
    "data"
   ]
  },
  {
   "cell_type": "code",
   "execution_count": null,
   "metadata": {},
   "outputs": [],
   "source": []
  },
  {
   "cell_type": "code",
   "execution_count": null,
   "metadata": {},
   "outputs": [],
   "source": []
  },
  {
   "cell_type": "markdown",
   "metadata": {},
   "source": [
    "* Cálculo de la media de población de cada tipo a lo largo del tiempo.\n"
   ]
  },
  {
   "cell_type": "markdown",
   "metadata": {},
   "source": [
    "* Cálculo de la __desviación estándar__ de la muestra. Se trata de una medida de dispersión para variables. Muestra la agrupación de los datos alrededor de un valor central (la media o promedio)."
   ]
  },
  {
   "cell_type": "markdown",
   "metadata": {},
   "source": [
    "* ¿Qué especie ha tenido más población por año?"
   ]
  },
  {
   "cell_type": "markdown",
   "metadata": {},
   "source": [
    "------------------------"
   ]
  },
  {
   "cell_type": "code",
   "execution_count": 11,
   "metadata": {},
   "outputs": [
    {
     "data": {
      "text/plain": [
       "array([[30000,  3000, 38300],\n",
       "       [37200,  6100, 48200],\n",
       "       [60200,  9800, 31600],\n",
       "       [77300, 36200, 38200],\n",
       "       [36300, 69300, 30600],\n",
       "       [20600, 31700, 49800],\n",
       "       [18100, 19000, 38600],\n",
       "       [21300, 13000, 32300],\n",
       "       [22000,  8300, 43600],\n",
       "       [26300,  9100, 32100],\n",
       "       [27100,  7300, 36000],\n",
       "       [30300,  8000, 36800],\n",
       "       [67000, 12300, 33800],\n",
       "       [76600, 19600, 30900],\n",
       "       [62300, 36700, 49300],\n",
       "       [19600, 61100, 39000],\n",
       "       [11200, 29700, 36700],\n",
       "       [ 7600, 16800, 41800],\n",
       "       [13600,  9700, 33300],\n",
       "       [16200, 10100, 31300],\n",
       "       [23700,  8600, 47300]])"
      ]
     },
     "execution_count": 11,
     "metadata": {},
     "output_type": "execute_result"
    }
   ],
   "source": [
    "data[ : , -3: ]"
   ]
  },
  {
   "cell_type": "code",
   "execution_count": 16,
   "metadata": {},
   "outputs": [
    {
     "data": {
      "text/plain": [
       "array([33547.61904762, 20257.14285714, 38071.42857143])"
      ]
     },
     "execution_count": 16,
     "metadata": {},
     "output_type": "execute_result"
    }
   ],
   "source": [
    "media_especie = data[ : , 1: ].mean(axis = 0)\n",
    "media_especie"
   ]
  },
  {
   "cell_type": "code",
   "execution_count": 19,
   "metadata": {},
   "outputs": [
    {
     "data": {
      "text/plain": [
       "[1, 2, 3]"
      ]
     },
     "execution_count": 19,
     "metadata": {},
     "output_type": "execute_result"
    }
   ],
   "source": [
    "especies = list(range(1, 4))\n",
    "especies"
   ]
  },
  {
   "cell_type": "code",
   "execution_count": 21,
   "metadata": {},
   "outputs": [
    {
     "data": {
      "text/plain": [
       "{1: 33547.619047619046, 2: 20257.14285714286, 3: 38071.42857142857}"
      ]
     },
     "execution_count": 21,
     "metadata": {},
     "output_type": "execute_result"
    }
   ],
   "source": [
    "dict(zip(especies, media_especie))"
   ]
  },
  {
   "cell_type": "code",
   "execution_count": 22,
   "metadata": {},
   "outputs": [
    {
     "data": {
      "text/plain": [
       "77300"
      ]
     },
     "execution_count": 22,
     "metadata": {},
     "output_type": "execute_result"
    }
   ],
   "source": [
    "data.max()"
   ]
  },
  {
   "cell_type": "code",
   "execution_count": 24,
   "metadata": {},
   "outputs": [
    {
     "data": {
      "text/plain": [
       "array([38300, 48200, 60200, 77300, 69300, 49800, 38600, 32300, 43600,\n",
       "       32100, 36000, 36800, 67000, 76600, 62300, 61100, 36700, 41800,\n",
       "       33300, 31300, 47300])"
      ]
     },
     "execution_count": 24,
     "metadata": {},
     "output_type": "execute_result"
    }
   ],
   "source": [
    "data.max(axis = 1)"
   ]
  },
  {
   "cell_type": "code",
   "execution_count": 25,
   "metadata": {},
   "outputs": [
    {
     "data": {
      "text/plain": [
       "array([3, 3, 1, 1, 2, 3, 3, 3, 3, 3, 3, 3, 1, 1, 1, 2, 3, 3, 3, 3, 3],\n",
       "      dtype=int64)"
      ]
     },
     "execution_count": 25,
     "metadata": {},
     "output_type": "execute_result"
    }
   ],
   "source": [
    "data.argmax(axis = 1)"
   ]
  },
  {
   "cell_type": "code",
   "execution_count": null,
   "metadata": {},
   "outputs": [],
   "source": []
  }
 ],
 "metadata": {
  "anaconda-cloud": {},
  "kernelspec": {
   "display_name": "Python 3",
   "language": "python",
   "name": "python3"
  },
  "language_info": {
   "codemirror_mode": {
    "name": "ipython",
    "version": 3
   },
   "file_extension": ".py",
   "mimetype": "text/x-python",
   "name": "python",
   "nbconvert_exporter": "python",
   "pygments_lexer": "ipython3",
   "version": "3.7.3"
  },
  "nbTranslate": {
   "displayLangs": [
    "en",
    "es"
   ],
   "hotkey": "alt-t",
   "langInMainMenu": true,
   "sourceLang": "es",
   "targetLang": "en",
   "useGoogleTranslate": true
  },
  "toc": {
   "base_numbering": 1,
   "nav_menu": {
    "height": "68px",
    "width": "252px"
   },
   "number_sections": true,
   "sideBar": true,
   "skip_h1_title": false,
   "title_cell": "Table of Contents",
   "title_sidebar": "Contents",
   "toc_cell": false,
   "toc_position": {},
   "toc_section_display": "block",
   "toc_window_display": false
  }
 },
 "nbformat": 4,
 "nbformat_minor": 1
}
