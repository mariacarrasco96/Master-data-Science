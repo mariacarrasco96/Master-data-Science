{
 "cells": [
  {
   "cell_type": "markdown",
   "metadata": {},
   "source": [
    "# Ejercicios 8 Sol"
   ]
  },
  {
   "cell_type": "markdown",
   "metadata": {},
   "source": [
    "#### 1 Ejercicio"
   ]
  },
  {
   "cell_type": "markdown",
   "metadata": {},
   "source": [
    "El fichero [oil_price.csv](../datos/oil_price_monthly.csv) contiene información mensual del precio del petróleo desde el año 1985. Abre el fichero y mira el aspecto que tiene.\n",
    "* La primera columna contiene el mes y el año en formato 'yyyy-mm'.\n",
    "* La segunda columna contiene el precio del barril expresado en euros.\n",
    "\n",
    "----\n",
    "* Realiza la carga del fichero utilizando la función __read_csv__ de pandas. El DataFrame creado debe tener como índices la fecha.\n"
   ]
  },
  {
   "cell_type": "code",
   "execution_count": 11,
   "metadata": {
    "collapsed": false
   },
   "outputs": [
    {
     "data": {
      "text/html": [
       "<div>\n",
       "<table border=\"1\" class=\"dataframe\">\n",
       "  <thead>\n",
       "    <tr style=\"text-align: right;\">\n",
       "      <th></th>\n",
       "      <th>Precio_barril</th>\n",
       "    </tr>\n",
       "  </thead>\n",
       "  <tbody>\n",
       "    <tr>\n",
       "      <th>1985-05</th>\n",
       "      <td>36.6383</td>\n",
       "    </tr>\n",
       "    <tr>\n",
       "      <th>1985-06</th>\n",
       "      <td>35.4184</td>\n",
       "    </tr>\n",
       "    <tr>\n",
       "      <th>1985-07</th>\n",
       "      <td>34.2709</td>\n",
       "    </tr>\n",
       "    <tr>\n",
       "      <th>1985-08</th>\n",
       "      <td>33.8411</td>\n",
       "    </tr>\n",
       "    <tr>\n",
       "      <th>1985-09</th>\n",
       "      <td>34.6826</td>\n",
       "    </tr>\n",
       "  </tbody>\n",
       "</table>\n",
       "</div>"
      ],
      "text/plain": [
       "         Precio_barril\n",
       "1985-05        36.6383\n",
       "1985-06        35.4184\n",
       "1985-07        34.2709\n",
       "1985-08        33.8411\n",
       "1985-09        34.6826"
      ]
     },
     "execution_count": 11,
     "metadata": {},
     "output_type": "execute_result"
    }
   ],
   "source": [
    "# Sol:\n",
    "import pandas as pd\n",
    "precios = pd.read_csv('../datos/oil_price_monthly.csv',\n",
    "                     names = ['Precio_barril'])\n",
    "precios.head()"
   ]
  },
  {
   "cell_type": "code",
   "execution_count": 12,
   "metadata": {
    "collapsed": false
   },
   "outputs": [
    {
     "data": {
      "text/html": [
       "<div>\n",
       "<table border=\"1\" class=\"dataframe\">\n",
       "  <thead>\n",
       "    <tr style=\"text-align: right;\">\n",
       "      <th></th>\n",
       "      <th>Precio_barril</th>\n",
       "    </tr>\n",
       "  </thead>\n",
       "  <tbody>\n",
       "    <tr>\n",
       "      <th>2007-11</th>\n",
       "      <td>62.8231</td>\n",
       "    </tr>\n",
       "    <tr>\n",
       "      <th>2007-12</th>\n",
       "      <td>62.7599</td>\n",
       "    </tr>\n",
       "    <tr>\n",
       "      <th>2008-01</th>\n",
       "      <td>62.4387</td>\n",
       "    </tr>\n",
       "    <tr>\n",
       "      <th>2008-02</th>\n",
       "      <td>64.0862</td>\n",
       "    </tr>\n",
       "    <tr>\n",
       "      <th>2008-03</th>\n",
       "      <td>66.1209</td>\n",
       "    </tr>\n",
       "  </tbody>\n",
       "</table>\n",
       "</div>"
      ],
      "text/plain": [
       "         Precio_barril\n",
       "2007-11        62.8231\n",
       "2007-12        62.7599\n",
       "2008-01        62.4387\n",
       "2008-02        64.0862\n",
       "2008-03        66.1209"
      ]
     },
     "execution_count": 12,
     "metadata": {},
     "output_type": "execute_result"
    }
   ],
   "source": [
    "precios[precios.Precio_barril > 60].head()"
   ]
  },
  {
   "cell_type": "markdown",
   "metadata": {},
   "source": [
    "---\n",
    "* Determinar el mes y el año donde por primera vez el precio del petróleo superó los 40 euros, los 60 y los 80 euros.\n",
    "    * Primero crea un DataFrame con el mes y el año donde por primera vez el precio del petróleo superó los 40.\n",
    "    * En segundo lugar crea un DataFrame con el mes y el año donde por primera vez el precio del petróleo superó los 60.\n",
    "    * En tercer lugar crea un DataFrame con el mes y el año donde por primera vez el precio del petróleo superó los 80.\n",
    "    * Consulta la ayuda de la función `join`para saber cómo funciona y para qué sirve. Para ello ejecuta `pd.join?`.\n",
    "    * Utiliza la función `join` para unir los datos en un unico DataFrame.\n",
    "    \n",
    "\n",
    "La solución es 2005-03, 2007-11, 2008-05."
   ]
  },
  {
   "cell_type": "code",
   "execution_count": 13,
   "metadata": {
    "collapsed": false
   },
   "outputs": [
    {
     "data": {
      "text/html": [
       "<div>\n",
       "<table border=\"1\" class=\"dataframe\">\n",
       "  <thead>\n",
       "    <tr style=\"text-align: right;\">\n",
       "      <th></th>\n",
       "      <th>2005-03</th>\n",
       "      <th>2007-11</th>\n",
       "      <th>2008-05</th>\n",
       "    </tr>\n",
       "  </thead>\n",
       "  <tbody>\n",
       "    <tr>\n",
       "      <th>Precio_barril</th>\n",
       "      <td>40.4137</td>\n",
       "      <td>62.8231</td>\n",
       "      <td>80.1039</td>\n",
       "    </tr>\n",
       "  </tbody>\n",
       "</table>\n",
       "</div>"
      ],
      "text/plain": [
       "               2005-03  2007-11  2008-05\n",
       "Precio_barril  40.4137  62.8231  80.1039"
      ]
     },
     "execution_count": 13,
     "metadata": {},
     "output_type": "execute_result"
    }
   ],
   "source": [
    "#Sol:\n",
    "resultado40 = pd.DataFrame(precios[precios['Precio_barril'] > 40].iloc[0])\n",
    "resultado60 = pd.DataFrame(precios[precios['Precio_barril'] > 60].iloc[0])\n",
    "resultado80 = pd.DataFrame(precios[precios['Precio_barril'] > 80].iloc[0])\n",
    "\n",
    "resultado40.join(resultado60.join(resultado80))\n"
   ]
  },
  {
   "cell_type": "code",
   "execution_count": 14,
   "metadata": {
    "collapsed": false
   },
   "outputs": [
    {
     "data": {
      "image/png": "[encoded data removed]",
      "text/plain": [
       "<matplotlib.figure.Figure at 0x2c48391b9e8>"
      ]
     },
     "metadata": {},
     "output_type": "display_data"
    }
   ],
   "source": [
    "# Rrepresenta gráficamente la evolución de los precios\n",
    "import matplotlib.pyplot as plt\n",
    "import numpy as np\n",
    "%matplotlib inline\n",
    "precios.plot(title = 'Evolucion Precios',\n",
    "                 figsize=(9,4));"
   ]
  },
  {
   "cell_type": "markdown",
   "metadata": {
    "collapsed": true
   },
   "source": [
    "#### 2 Ejercicio"
   ]
  },
  {
   "cell_type": "markdown",
   "metadata": {},
   "source": [
    "El fichero [rotterdam_rainfall.txt](../datos/rotterdam_rainfall.txt) recoge los datos de las precipitaciones diarias de la estación meteorológica de Rotterdam en 2012.\n",
    "\n",
    "* La primera columna representa la fecha\n",
    "* La segunda columna representa la cantidad de precipitaciones expresado en 0.1 mm (-1 si es menor a 0.05 mm).\n",
    "\n",
    "__Notas__:\n",
    "\n",
    "* Carga los datos en un DataFrame con la función __read_csv__\n",
    "* El índice del DataFrame ha de ser la fecha\n",
    "* Utiliza la opción _parse_dates_ para parsear la fecha."
   ]
  },
  {
   "cell_type": "code",
   "execution_count": 15,
   "metadata": {
    "collapsed": false
   },
   "outputs": [
    {
     "data": {
      "text/html": [
       "<div>\n",
       "<table border=\"1\" class=\"dataframe\">\n",
       "  <thead>\n",
       "    <tr style=\"text-align: right;\">\n",
       "      <th></th>\n",
       "      <th>Volumen</th>\n",
       "    </tr>\n",
       "    <tr>\n",
       "      <th>Fecha</th>\n",
       "      <th></th>\n",
       "    </tr>\n",
       "  </thead>\n",
       "  <tbody>\n",
       "    <tr>\n",
       "      <th>2012-01-01</th>\n",
       "      <td>207</td>\n",
       "    </tr>\n",
       "    <tr>\n",
       "      <th>2012-01-02</th>\n",
       "      <td>-1</td>\n",
       "    </tr>\n",
       "    <tr>\n",
       "      <th>2012-01-03</th>\n",
       "      <td>144</td>\n",
       "    </tr>\n",
       "    <tr>\n",
       "      <th>2012-01-04</th>\n",
       "      <td>36</td>\n",
       "    </tr>\n",
       "    <tr>\n",
       "      <th>2012-01-05</th>\n",
       "      <td>84</td>\n",
       "    </tr>\n",
       "  </tbody>\n",
       "</table>\n",
       "</div>"
      ],
      "text/plain": [
       "            Volumen\n",
       "Fecha              \n",
       "2012-01-01      207\n",
       "2012-01-02       -1\n",
       "2012-01-03      144\n",
       "2012-01-04       36\n",
       "2012-01-05       84"
      ]
     },
     "execution_count": 15,
     "metadata": {},
     "output_type": "execute_result"
    }
   ],
   "source": [
    "# Sol\n",
    "ruta = '../datos/rotterdam_rainfall.txt'\n",
    "datos = pd.read_csv(ruta, \n",
    "                    names = ['Fecha', 'Volumen'],\n",
    "                    index_col = ['Fecha'], \n",
    "                    parse_dates=[0])\n",
    "datos.head()"
   ]
  },
  {
   "cell_type": "markdown",
   "metadata": {},
   "source": [
    "* Modifica los valores de la cantidad de precipitaciones a 0 cuando su valor sea -1."
   ]
  },
  {
   "cell_type": "code",
   "execution_count": 8,
   "metadata": {
    "collapsed": false
   },
   "outputs": [
    {
     "data": {
      "text/html": [
       "<div>\n",
       "<table border=\"1\" class=\"dataframe\">\n",
       "  <thead>\n",
       "    <tr style=\"text-align: right;\">\n",
       "      <th></th>\n",
       "      <th>Volumen</th>\n",
       "    </tr>\n",
       "    <tr>\n",
       "      <th>Fecha</th>\n",
       "      <th></th>\n",
       "    </tr>\n",
       "  </thead>\n",
       "  <tbody>\n",
       "    <tr>\n",
       "      <th>2012-01-01</th>\n",
       "      <td>207</td>\n",
       "    </tr>\n",
       "    <tr>\n",
       "      <th>2012-01-02</th>\n",
       "      <td>0</td>\n",
       "    </tr>\n",
       "    <tr>\n",
       "      <th>2012-01-03</th>\n",
       "      <td>144</td>\n",
       "    </tr>\n",
       "    <tr>\n",
       "      <th>2012-01-04</th>\n",
       "      <td>36</td>\n",
       "    </tr>\n",
       "    <tr>\n",
       "      <th>2012-01-05</th>\n",
       "      <td>84</td>\n",
       "    </tr>\n",
       "  </tbody>\n",
       "</table>\n",
       "</div>"
      ],
      "text/plain": [
       "            Volumen\n",
       "Fecha              \n",
       "2012-01-01      207\n",
       "2012-01-02        0\n",
       "2012-01-03      144\n",
       "2012-01-04       36\n",
       "2012-01-05       84"
      ]
     },
     "execution_count": 8,
     "metadata": {},
     "output_type": "execute_result"
    }
   ],
   "source": [
    "datos[datos.Volumen == -1] = 0\n",
    "datos.head()"
   ]
  },
  {
   "cell_type": "markdown",
   "metadata": {},
   "source": [
    "-----\n",
    "* Calcula el día que ha tenido mayor cantidad de precipitación y la cantidad de precipitación"
   ]
  },
  {
   "cell_type": "code",
   "execution_count": 13,
   "metadata": {
    "collapsed": false
   },
   "outputs": [
    {
     "data": {
      "text/plain": [
       "224"
      ]
     },
     "execution_count": 13,
     "metadata": {},
     "output_type": "execute_result"
    }
   ],
   "source": [
    "datos.Volumen.max()"
   ]
  },
  {
   "cell_type": "code",
   "execution_count": 15,
   "metadata": {
    "collapsed": false
   },
   "outputs": [
    {
     "data": {
      "text/html": [
       "<div>\n",
       "<table border=\"1\" class=\"dataframe\">\n",
       "  <thead>\n",
       "    <tr style=\"text-align: right;\">\n",
       "      <th></th>\n",
       "      <th>Volumen</th>\n",
       "    </tr>\n",
       "    <tr>\n",
       "      <th>Fecha</th>\n",
       "      <th></th>\n",
       "    </tr>\n",
       "  </thead>\n",
       "  <tbody>\n",
       "    <tr>\n",
       "      <th>2012-12-22</th>\n",
       "      <td>224</td>\n",
       "    </tr>\n",
       "  </tbody>\n",
       "</table>\n",
       "</div>"
      ],
      "text/plain": [
       "            Volumen\n",
       "Fecha              \n",
       "2012-12-22      224"
      ]
     },
     "execution_count": 15,
     "metadata": {},
     "output_type": "execute_result"
    }
   ],
   "source": [
    "datos[datos.Volumen == 224]"
   ]
  },
  {
   "cell_type": "markdown",
   "metadata": {},
   "source": [
    "#### 3 Ejercicio"
   ]
  },
  {
   "cell_type": "markdown",
   "metadata": {},
   "source": [
    "El archivo [WordPhones](../datos/WorldPhones01.csv) \n",
    "recoge información acerca del número de teléfonos en varias regiones del mundo (en miles).\n",
    "\n",
    "- Cada columna se corresponde con una región del mundo. Las regiones son:\n",
    "[\"N.Amer\",\"Europe\",\"Asia\",\"S.Amer\",\"Oceania\",\"Africa\",\"Mid.Amer\"]\n",
    "\n",
    "- Cada fila se corresponde con un año. Los años son: \n",
    "[1951, 1956, 1957, 1958, 1959, 1960, 1961]\n",
    "\n",
    "-----\n",
    "\n",
    "* Escribir la expresión Python que recoja los datos del año 1960\n",
    "    * Primero descarga el archivo [WordPhones](../datos/WorldPhones01.csv) en tu directorio de trabajo.\n",
    "    * Escribe la expresión Python para seleccionar la fila que se corresponde con el año 1960 (Utiliza como filtro un array de booleanos)."
   ]
  },
  {
   "cell_type": "code",
   "execution_count": 27,
   "metadata": {
    "collapsed": false
   },
   "outputs": [
    {
     "data": {
      "text/html": [
       "<div>\n",
       "<table border=\"1\" class=\"dataframe\">\n",
       "  <thead>\n",
       "    <tr style=\"text-align: right;\">\n",
       "      <th></th>\n",
       "      <th>N.Amer</th>\n",
       "      <th>Europe</th>\n",
       "      <th>Asia</th>\n",
       "      <th>S.Amer</th>\n",
       "      <th>Oceania</th>\n",
       "      <th>Africa</th>\n",
       "      <th>Mid.Amer</th>\n",
       "    </tr>\n",
       "    <tr>\n",
       "      <th>Year</th>\n",
       "      <th></th>\n",
       "      <th></th>\n",
       "      <th></th>\n",
       "      <th></th>\n",
       "      <th></th>\n",
       "      <th></th>\n",
       "      <th></th>\n",
       "    </tr>\n",
       "  </thead>\n",
       "  <tbody>\n",
       "    <tr>\n",
       "      <th>1951</th>\n",
       "      <td>45939</td>\n",
       "      <td>21574</td>\n",
       "      <td>2876</td>\n",
       "      <td>1815</td>\n",
       "      <td>1646</td>\n",
       "      <td>89</td>\n",
       "      <td>555</td>\n",
       "    </tr>\n",
       "    <tr>\n",
       "      <th>1956</th>\n",
       "      <td>60423</td>\n",
       "      <td>29990</td>\n",
       "      <td>4708</td>\n",
       "      <td>2568</td>\n",
       "      <td>2366</td>\n",
       "      <td>1411</td>\n",
       "      <td>733</td>\n",
       "    </tr>\n",
       "    <tr>\n",
       "      <th>1957</th>\n",
       "      <td>64721</td>\n",
       "      <td>32510</td>\n",
       "      <td>5230</td>\n",
       "      <td>2695</td>\n",
       "      <td>2526</td>\n",
       "      <td>1546</td>\n",
       "      <td>773</td>\n",
       "    </tr>\n",
       "    <tr>\n",
       "      <th>1958</th>\n",
       "      <td>68484</td>\n",
       "      <td>35218</td>\n",
       "      <td>6662</td>\n",
       "      <td>2845</td>\n",
       "      <td>2691</td>\n",
       "      <td>1663</td>\n",
       "      <td>836</td>\n",
       "    </tr>\n",
       "    <tr>\n",
       "      <th>1959</th>\n",
       "      <td>71799</td>\n",
       "      <td>37598</td>\n",
       "      <td>6856</td>\n",
       "      <td>3000</td>\n",
       "      <td>2868</td>\n",
       "      <td>1769</td>\n",
       "      <td>911</td>\n",
       "    </tr>\n",
       "    <tr>\n",
       "      <th>1960</th>\n",
       "      <td>76036</td>\n",
       "      <td>40341</td>\n",
       "      <td>8220</td>\n",
       "      <td>3145</td>\n",
       "      <td>3054</td>\n",
       "      <td>1905</td>\n",
       "      <td>1008</td>\n",
       "    </tr>\n",
       "    <tr>\n",
       "      <th>1961</th>\n",
       "      <td>79831</td>\n",
       "      <td>43173</td>\n",
       "      <td>9053</td>\n",
       "      <td>3338</td>\n",
       "      <td>3224</td>\n",
       "      <td>2005</td>\n",
       "      <td>1076</td>\n",
       "    </tr>\n",
       "  </tbody>\n",
       "</table>\n",
       "</div>"
      ],
      "text/plain": [
       "      N.Amer  Europe  Asia  S.Amer  Oceania  Africa  Mid.Amer\n",
       "Year                                                         \n",
       "1951   45939   21574  2876    1815     1646      89       555\n",
       "1956   60423   29990  4708    2568     2366    1411       733\n",
       "1957   64721   32510  5230    2695     2526    1546       773\n",
       "1958   68484   35218  6662    2845     2691    1663       836\n",
       "1959   71799   37598  6856    3000     2868    1769       911\n",
       "1960   76036   40341  8220    3145     3054    1905      1008\n",
       "1961   79831   43173  9053    3338     3224    2005      1076"
      ]
     },
     "execution_count": 27,
     "metadata": {},
     "output_type": "execute_result"
    }
   ],
   "source": [
    "# Sol:\n",
    "datos = pd.read_csv('../datos/WorldPhones01.csv',\n",
    "                    skiprows = 1,\n",
    "                    names = ['Year',\"N.Amer\",\"Europe\",\"Asia\",\"S.Amer\",\"Oceania\",\"Africa\",\"Mid.Amer\"],\n",
    "                    index_col = ['Year'])\n",
    "datos"
   ]
  },
  {
   "cell_type": "code",
   "execution_count": 28,
   "metadata": {
    "collapsed": false
   },
   "outputs": [
    {
     "data": {
      "text/plain": [
       "N.Amer      76036\n",
       "Europe      40341\n",
       "Asia         8220\n",
       "S.Amer       3145\n",
       "Oceania      3054\n",
       "Africa       1905\n",
       "Mid.Amer     1008\n",
       "Name: 1960, dtype: int64"
      ]
     },
     "execution_count": 28,
     "metadata": {},
     "output_type": "execute_result"
    }
   ],
   "source": [
    "#Sol: \n",
    "datos.loc[1960]\n"
   ]
  },
  {
   "cell_type": "code",
   "execution_count": 29,
   "metadata": {
    "collapsed": false
   },
   "outputs": [
    {
     "data": {
      "text/plain": [
       "Year\n",
       "1951    21574\n",
       "1956    29990\n",
       "1957    32510\n",
       "1958    35218\n",
       "1959    37598\n",
       "1960    40341\n",
       "1961    43173\n",
       "Name: Europe, dtype: int64"
      ]
     },
     "execution_count": 29,
     "metadata": {},
     "output_type": "execute_result"
    }
   ],
   "source": [
    "# Sol:\n",
    "datos.Europe"
   ]
  },
  {
   "cell_type": "markdown",
   "metadata": {
    "collapsed": true
   },
   "source": [
    "* Ahora representa en una gráfica la evolución que ha tenido \"Europe\" entre los años 1956 y 1960. Ejecuta el siguiente bloque de código."
   ]
  },
  {
   "cell_type": "code",
   "execution_count": 30,
   "metadata": {
    "collapsed": false
   },
   "outputs": [
    {
     "data": {
      "text/plain": [
       "<matplotlib.text.Text at 0xe4a84890b8>"
      ]
     },
     "execution_count": 30,
     "metadata": {},
     "output_type": "execute_result"
    },
    {
     "data": {
      "image/png": "[encoded data removed]",
      "text/plain": [
       "<matplotlib.figure.Figure at 0xe4a8430e10>"
      ]
     },
     "metadata": {},
     "output_type": "display_data"
    }
   ],
   "source": [
    "import matplotlib.pyplot as plt\n",
    "import numpy as np\n",
    "%matplotlib inline\n",
    "\n",
    "\n",
    "datos.Europe.plot()\n",
    "\n",
    "plt.xlabel('Meses')\n",
    "plt.ylabel('Cantidad de telefonos')\n",
    "plt.title('Datos Europe')"
   ]
  },
  {
   "cell_type": "markdown",
   "metadata": {},
   "source": [
    "* Ahora representa en una gráfica la evolución que ha tenido \"Europe\"  y \"Africa\" entre los años 1956 y 1960. Ejecuta el siguiente bloque de código."
   ]
  },
  {
   "cell_type": "code",
   "execution_count": 31,
   "metadata": {
    "collapsed": false
   },
   "outputs": [
    {
     "data": {
      "text/plain": [
       "<matplotlib.axes._subplots.AxesSubplot at 0xe4a8422ba8>"
      ]
     },
     "execution_count": 31,
     "metadata": {},
     "output_type": "execute_result"
    },
    {
     "data": {
      "image/png": "[encoded data removed]",
      "text/plain": [
       "<matplotlib.figure.Figure at 0xe4a84b7128>"
      ]
     },
     "metadata": {},
     "output_type": "display_data"
    }
   ],
   "source": [
    "datos.Europe.plot()\n",
    "datos.Africa.plot()"
   ]
  },
  {
   "cell_type": "code",
   "execution_count": 32,
   "metadata": {
    "collapsed": false
   },
   "outputs": [
    {
     "data": {
      "image/png": "[encoded data removed]",
      "text/plain": [
       "<matplotlib.figure.Figure at 0xe4a84e3ba8>"
      ]
     },
     "metadata": {},
     "output_type": "display_data"
    }
   ],
   "source": [
    "x = np.arange(1,8)\n",
    "datos.Europe.plot()\n",
    "datos.Africa.plot()\n",
    "\n",
    "plt.xlabel('Years')\n",
    "plt.ylabel('Cantidad de telefonos')\n",
    "\n",
    "plt.title('Comparativa Europa - Africa')\n",
    "\n",
    "plt.legend(['Europa','Africa'],loc='best');"
   ]
  },
  {
   "cell_type": "markdown",
   "metadata": {},
   "source": [
    "* Podemos representar todos los países"
   ]
  },
  {
   "cell_type": "code",
   "execution_count": 33,
   "metadata": {
    "collapsed": false
   },
   "outputs": [
    {
     "data": {
      "image/png": "[encoded data removed]",
      "text/plain": [
       "<matplotlib.figure.Figure at 0xe4a6934dd8>"
      ]
     },
     "metadata": {},
     "output_type": "display_data"
    }
   ],
   "source": [
    "datos.plot() \n",
    "\n",
    "plt.xlabel('Years')\n",
    "plt.ylabel('Cantidad de telefonos')\n",
    "plt.title('Comparativa todas las regiones')\n",
    "plt.legend(datos,loc='best');"
   ]
  },
  {
   "cell_type": "markdown",
   "metadata": {},
   "source": [
    "## References"
   ]
  },
  {
   "cell_type": "markdown",
   "metadata": {},
   "source": [
    "http://nbviewer.ipython.org/github/mbakker7/exploratory_computing_with_python/tree/master/"
   ]
  }
 ],
 "metadata": {
  "anaconda-cloud": {},
  "kernelspec": {
   "display_name": "Python [default]",
   "language": "python",
   "name": "python3"
  },
  "language_info": {
   "codemirror_mode": {
    "name": "ipython",
    "version": 3
   },
   "file_extension": ".py",
   "mimetype": "text/x-python",
   "name": "python",
   "nbconvert_exporter": "python",
   "pygments_lexer": "ipython3",
   "version": "3.5.2"
  }
 },
 "nbformat": 4,
 "nbformat_minor": 0
}
