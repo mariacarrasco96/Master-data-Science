{
 "cells": [
  {
   "cell_type": "markdown",
   "metadata": {},
   "source": [
    "## Para convertir ficheros a html con una css"
   ]
  },
  {
   "cell_type": "markdown",
   "metadata": {},
   "source": [
    "* El fichero custom.css tiene que estar en la carpeta de trabajo."
   ]
  },
  {
   "cell_type": "code",
   "execution_count": 1,
   "metadata": {
    "collapsed": false
   },
   "outputs": [
    {
     "data": {
      "text/plain": [
       "u'C:\\\\xampp\\\\htdocs\\\\python\\\\PythoProject_2\\\\session_01'"
      ]
     },
     "execution_count": 1,
     "metadata": {},
     "output_type": "execute_result"
    }
   ],
   "source": [
    "pwd"
   ]
  },
  {
   "cell_type": "markdown",
   "metadata": {},
   "source": [
    "* Construir la ruta donde se encuentra la css que queremos aplicar: "
   ]
  },
  {
   "cell_type": "code",
   "execution_count": 2,
   "metadata": {
    "collapsed": false
   },
   "outputs": [
    {
     "data": {
      "text/plain": [
       "(['C:\\\\Users\\\\Yolanda\\\\.ipython\\\\profile_cfc'],\n",
       " 'C:\\\\Users\\\\Yolanda\\\\.ipython\\\\profile_cfc\\\\static\\\\custom\\\\custom.css')"
      ]
     },
     "execution_count": 2,
     "metadata": {},
     "output_type": "execute_result"
    }
   ],
   "source": [
    "dir = !ipython locate profile cfc    #localizar el perfil que nos gusta (cfc)\n",
    "import os\n",
    "csspath = dir[0] + '\\\\static\\\\custom\\\\custom.css'   #construir la ruta donde está la css\n",
    "csspath\n",
    "dir, csspath"
   ]
  },
  {
   "cell_type": "markdown",
   "metadata": {},
   "source": [
    "* copiamos la css al directorio de trabajo "
   ]
  },
  {
   "cell_type": "code",
   "execution_count": 3,
   "metadata": {
    "collapsed": false
   },
   "outputs": [
    {
     "name": "stdout",
     "output_type": "stream",
     "text": [
      "        1 archivo(s) copiado(s).\n"
     ]
    }
   ],
   "source": [
    "!copy {csspath} custom.css"
   ]
  },
  {
   "cell_type": "markdown",
   "metadata": {},
   "source": [
    "* Crear una lista de documentos a convertir"
   ]
  },
  {
   "cell_type": "code",
   "execution_count": 5,
   "metadata": {
    "collapsed": false
   },
   "outputs": [],
   "source": [
    "import os\n",
    "mydir = os.getcwd()\n",
    "a = os.walk(mydir)\n",
    "from os import listdir\n",
    "from os.path import isfile, join\n",
    "onlyfiles = [ f for f in listdir(mydir) if isfile(join(mydir,f)) ]\n",
    "    "
   ]
  },
  {
   "cell_type": "code",
   "execution_count": 37,
   "metadata": {
    "collapsed": false
   },
   "outputs": [
    {
     "data": {
      "text/plain": [
       "['ipython_240715.ipynb',\n",
       " 'ipython_240715_00.ipynb',\n",
       " 'ipython_310715.ipynb',\n",
       " 'ipython_citas.ipynb',\n",
       " 'ipython_comprehensions_01.ipynb',\n",
       " 'ipython_diccionarios_01.ipynb',\n",
       " 'ipython_exceptions_01.ipynb',\n",
       " 'ipython_files_01.ipynb',\n",
       " 'ipython_funciones_00.ipynb',\n",
       " 'ipython_funciones_01.ipynb',\n",
       " 'ipython_funciones_02.ipynb',\n",
       " 'ipython_intro1.ipynb',\n",
       " 'ipython_intro2.ipynb',\n",
       " 'ipython_ipython.ipynb',\n",
       " 'ipython_notebook.ipynb',\n",
       " 'ipython_numpy_01 - copia.ipynb',\n",
       " 'ipython_numpy_01.ipynb',\n",
       " 'ipython_numpy_02-Copy1.ipynb',\n",
       " 'ipython_numpy_02.ipynb',\n",
       " 'ipython_numpy_03.ipynb',\n",
       " 'ipython_numpy_04.ipynb',\n",
       " 'ipython_numpy_ejer_01.ipynb',\n",
       " 'ipython_numpy_ejer_02.ipynb',\n",
       " 'ipython_sets_01.ipynb',\n",
       " 'ipython_sintaxis_00.ipynb',\n",
       " 'ipython_sintaxis_01.ipynb',\n",
       " 'ipython_sintaxis_02.ipynb',\n",
       " 'ipython_sintaxis_03.ipynb',\n",
       " 'ipython_sintaxis_ejer_01.ipynb',\n",
       " 'Untitled.ipynb',\n",
       " 'Untitled1.ipynb',\n",
       " 'Untitled2.ipynb',\n",
       " 'Untitled3.ipynb']"
      ]
     },
     "execution_count": 37,
     "metadata": {},
     "output_type": "execute_result"
    }
   ],
   "source": [
    "documents= []\n",
    "for i in onlyfiles:\n",
    "    ext = i[-6:] \n",
    "    if ext == '.ipynb' and i != 'UTILS_nbconvert_to_html.ipynb':\n",
    "        documents.append(i)\n",
    "documents    "
   ]
  },
  {
   "cell_type": "markdown",
   "metadata": {},
   "source": [
    "Luego basta con escribir esta instrucción y se aplicará directamente el formato de la css"
   ]
  },
  {
   "cell_type": "code",
   "execution_count": 38,
   "metadata": {
    "collapsed": false
   },
   "outputs": [
    {
     "name": "stderr",
     "output_type": "stream",
     "text": [
      "[NbConvertApp] Using existing profile dir: u'C:\\\\Users\\\\Yolanda\\\\.ipython\\\\profile_default'\n",
      "[NbConvertApp] WARNING | pattern u'#' matched no files\n",
      "[NbConvertApp] WARNING | pattern u'llamar' matched no files\n",
      "[NbConvertApp] WARNING | pattern u'a' matched no files\n",
      "[NbConvertApp] WARNING | pattern u'nbconvert' matched no files\n",
      "[NbConvertApp] Converting notebook ipython_240715.ipynb to html\n",
      "[NbConvertApp] Support files will be in ipython_240715_files\\\n",
      "[NbConvertApp] Loaded template full.tpl\n",
      "[NbConvertApp] Writing 198939 bytes to ipython_240715.html\n",
      "[NbConvertApp] Using existing profile dir: u'C:\\\\Users\\\\Yolanda\\\\.ipython\\\\profile_default'\n",
      "[NbConvertApp] WARNING | pattern u'#' matched no files\n",
      "[NbConvertApp] WARNING | pattern u'llamar' matched no files\n",
      "[NbConvertApp] WARNING | pattern u'a' matched no files\n",
      "[NbConvertApp] WARNING | pattern u'nbconvert' matched no files\n",
      "[NbConvertApp] Converting notebook ipython_240715_00.ipynb to html\n",
      "[NbConvertApp] Support files will be in ipython_240715_00_files\\\n",
      "[NbConvertApp] Loaded template full.tpl\n",
      "[NbConvertApp] Writing 197259 bytes to ipython_240715_00.html\n",
      "[NbConvertApp] Using existing profile dir: u'C:\\\\Users\\\\Yolanda\\\\.ipython\\\\profile_default'\n",
      "[NbConvertApp] WARNING | pattern u'#' matched no files\n",
      "[NbConvertApp] WARNING | pattern u'llamar' matched no files\n",
      "[NbConvertApp] WARNING | pattern u'a' matched no files\n",
      "[NbConvertApp] WARNING | pattern u'nbconvert' matched no files\n",
      "[NbConvertApp] Converting notebook ipython_310715.ipynb to html\n",
      "[NbConvertApp] Support files will be in ipython_310715_files\\\n",
      "[NbConvertApp] Loaded template full.tpl\n",
      "[NbConvertApp] Writing 197277 bytes to ipython_310715.html\n",
      "[NbConvertApp] Using existing profile dir: u'C:\\\\Users\\\\Yolanda\\\\.ipython\\\\profile_default'\n",
      "[NbConvertApp] WARNING | pattern u'#' matched no files\n",
      "[NbConvertApp] WARNING | pattern u'llamar' matched no files\n",
      "[NbConvertApp] WARNING | pattern u'a' matched no files\n",
      "[NbConvertApp] WARNING | pattern u'nbconvert' matched no files\n",
      "[NbConvertApp] Converting notebook ipython_citas.ipynb to html\n",
      "[NbConvertApp] Support files will be in ipython_citas_files\\\n",
      "[NbConvertApp] Loaded template full.tpl\n",
      "[NbConvertApp] Writing 198384 bytes to ipython_citas.html\n",
      "[NbConvertApp] Using existing profile dir: u'C:\\\\Users\\\\Yolanda\\\\.ipython\\\\profile_default'\n",
      "[NbConvertApp] WARNING | pattern u'#' matched no files\n",
      "[NbConvertApp] WARNING | pattern u'llamar' matched no files\n",
      "[NbConvertApp] WARNING | pattern u'a' matched no files\n",
      "[NbConvertApp] WARNING | pattern u'nbconvert' matched no files\n",
      "[NbConvertApp] Converting notebook ipython_comprehensions_01.ipynb to html\n",
      "[NbConvertApp] Support files will be in ipython_comprehensions_01_files\\\n",
      "[NbConvertApp] Loaded template full.tpl\n",
      "[NbConvertApp] Writing 202536 bytes to ipython_comprehensions_01.html\n",
      "[NbConvertApp] Using existing profile dir: u'C:\\\\Users\\\\Yolanda\\\\.ipython\\\\profile_default'\n",
      "[NbConvertApp] WARNING | pattern u'#' matched no files\n",
      "[NbConvertApp] WARNING | pattern u'llamar' matched no files\n",
      "[NbConvertApp] WARNING | pattern u'a' matched no files\n",
      "[NbConvertApp] WARNING | pattern u'nbconvert' matched no files\n",
      "[NbConvertApp] Converting notebook ipython_diccionarios_01.ipynb to html\n",
      "[NbConvertApp] Support files will be in ipython_diccionarios_01_files\\\n",
      "[NbConvertApp] Loaded template full.tpl\n",
      "[NbConvertApp] Writing 233311 bytes to ipython_diccionarios_01.html\n",
      "[NbConvertApp] Using existing profile dir: u'C:\\\\Users\\\\Yolanda\\\\.ipython\\\\profile_default'\n",
      "[NbConvertApp] WARNING | pattern u'#' matched no files\n",
      "[NbConvertApp] WARNING | pattern u'llamar' matched no files\n",
      "[NbConvertApp] WARNING | pattern u'a' matched no files\n",
      "[NbConvertApp] WARNING | pattern u'nbconvert' matched no files\n",
      "[NbConvertApp] Converting notebook ipython_exceptions_01.ipynb to html\n",
      "[NbConvertApp] Support files will be in ipython_exceptions_01_files\\\n",
      "[NbConvertApp] Loaded template full.tpl\n",
      "[NbConvertApp] Writing 218089 bytes to ipython_exceptions_01.html\n",
      "[NbConvertApp] Using existing profile dir: u'C:\\\\Users\\\\Yolanda\\\\.ipython\\\\profile_default'\n",
      "[NbConvertApp] WARNING | pattern u'#' matched no files\n",
      "[NbConvertApp] WARNING | pattern u'llamar' matched no files\n",
      "[NbConvertApp] WARNING | pattern u'a' matched no files\n",
      "[NbConvertApp] WARNING | pattern u'nbconvert' matched no files\n",
      "[NbConvertApp] Converting notebook ipython_files_01.ipynb to html\n",
      "[NbConvertApp] Support files will be in ipython_files_01_files\\\n",
      "[NbConvertApp] Loaded template full.tpl\n",
      "[NbConvertApp] Writing 210184 bytes to ipython_files_01.html\n",
      "[NbConvertApp] Using existing profile dir: u'C:\\\\Users\\\\Yolanda\\\\.ipython\\\\profile_default'\n",
      "[NbConvertApp] WARNING | pattern u'#' matched no files\n",
      "[NbConvertApp] WARNING | pattern u'llamar' matched no files\n",
      "[NbConvertApp] WARNING | pattern u'a' matched no files\n",
      "[NbConvertApp] WARNING | pattern u'nbconvert' matched no files\n",
      "[NbConvertApp] Converting notebook ipython_funciones_00.ipynb to html\n",
      "[NbConvertApp] Support files will be in ipython_funciones_00_files\\\n",
      "[NbConvertApp] Loaded template full.tpl\n",
      "[NbConvertApp] Writing 220013 bytes to ipython_funciones_00.html\n",
      "[NbConvertApp] Using existing profile dir: u'C:\\\\Users\\\\Yolanda\\\\.ipython\\\\profile_default'\n",
      "[NbConvertApp] WARNING | pattern u'#' matched no files\n",
      "[NbConvertApp] WARNING | pattern u'llamar' matched no files\n",
      "[NbConvertApp] WARNING | pattern u'a' matched no files\n",
      "[NbConvertApp] WARNING | pattern u'nbconvert' matched no files\n",
      "[NbConvertApp] Converting notebook ipython_funciones_01.ipynb to html\n",
      "[NbConvertApp] Support files will be in ipython_funciones_01_files\\\n",
      "[NbConvertApp] Loaded template full.tpl\n",
      "[NbConvertApp] Writing 236150 bytes to ipython_funciones_01.html\n",
      "[NbConvertApp] Using existing profile dir: u'C:\\\\Users\\\\Yolanda\\\\.ipython\\\\profile_default'\n",
      "[NbConvertApp] WARNING | pattern u'#' matched no files\n",
      "[NbConvertApp] WARNING | pattern u'llamar' matched no files\n",
      "[NbConvertApp] WARNING | pattern u'a' matched no files\n",
      "[NbConvertApp] WARNING | pattern u'nbconvert' matched no files\n",
      "[NbConvertApp] Converting notebook ipython_funciones_02.ipynb to html\n",
      "[NbConvertApp] Support files will be in ipython_funciones_02_files\\\n",
      "[NbConvertApp] Loaded template full.tpl\n",
      "[NbConvertApp] Writing 203977 bytes to ipython_funciones_02.html\n",
      "[NbConvertApp] Using existing profile dir: u'C:\\\\Users\\\\Yolanda\\\\.ipython\\\\profile_default'\n",
      "[NbConvertApp] WARNING | pattern u'#' matched no files\n",
      "[NbConvertApp] WARNING | pattern u'llamar' matched no files\n",
      "[NbConvertApp] WARNING | pattern u'a' matched no files\n",
      "[NbConvertApp] WARNING | pattern u'nbconvert' matched no files\n",
      "[NbConvertApp] Converting notebook ipython_intro1.ipynb to html\n",
      "[NbConvertApp] Support files will be in ipython_intro1_files\\\n",
      "[NbConvertApp] Loaded template full.tpl\n",
      "[NbConvertApp] Writing 204930 bytes to ipython_intro1.html\n",
      "[NbConvertApp] Using existing profile dir: u'C:\\\\Users\\\\Yolanda\\\\.ipython\\\\profile_default'\n",
      "[NbConvertApp] WARNING | pattern u'#' matched no files\n",
      "[NbConvertApp] WARNING | pattern u'llamar' matched no files\n",
      "[NbConvertApp] WARNING | pattern u'a' matched no files\n",
      "[NbConvertApp] WARNING | pattern u'nbconvert' matched no files\n",
      "[NbConvertApp] Converting notebook ipython_intro2.ipynb to html\n",
      "[NbConvertApp] Support files will be in ipython_intro2_files\\\n",
      "[NbConvertApp] Loaded template full.tpl\n",
      "[NbConvertApp] Writing 199178 bytes to ipython_intro2.html\n",
      "[NbConvertApp] Using existing profile dir: u'C:\\\\Users\\\\Yolanda\\\\.ipython\\\\profile_default'\n",
      "[NbConvertApp] WARNING | pattern u'#' matched no files\n",
      "[NbConvertApp] WARNING | pattern u'llamar' matched no files\n",
      "[NbConvertApp] WARNING | pattern u'a' matched no files\n",
      "[NbConvertApp] WARNING | pattern u'nbconvert' matched no files\n",
      "[NbConvertApp] Converting notebook ipython_ipython.ipynb to html\n",
      "[NbConvertApp] Support files will be in ipython_ipython_files\\\n",
      "[NbConvertApp] Loaded template full.tpl\n",
      "[NbConvertApp] Writing 196643 bytes to ipython_ipython.html\n",
      "[NbConvertApp] Using existing profile dir: u'C:\\\\Users\\\\Yolanda\\\\.ipython\\\\profile_default'\n",
      "[NbConvertApp] WARNING | pattern u'#' matched no files\n",
      "[NbConvertApp] WARNING | pattern u'llamar' matched no files\n",
      "[NbConvertApp] WARNING | pattern u'a' matched no files\n",
      "[NbConvertApp] WARNING | pattern u'nbconvert' matched no files\n",
      "[NbConvertApp] Converting notebook ipython_notebook.ipynb to html\n",
      "[NbConvertApp] Support files will be in ipython_notebook_files\\\n",
      "[NbConvertApp] Loaded template full.tpl\n",
      "[NbConvertApp] Writing 264458 bytes to ipython_notebook.html\n"
     ]
    },
    {
     "name": "stdout",
     "output_type": "stream",
     "text": [
      "This application is used to convert notebook files (*.ipynb) to various other\n",
      "formats.\n",
      "\n",
      "WARNING: THE COMMANDLINE INTERFACE MAY CHANGE IN FUTURE RELEASES.\n",
      "\n",
      "Options\n",
      "\n",
      "-------\n",
      "\n",
      "\n",
      "\n",
      "Arguments that take values are actually convenience aliases to full\n",
      "Configurables, whose aliases are listed on the help line. For more information\n",
      "on full configurables, see '--help-all'.\n",
      "\n",
      "\n",
      "--debug\n",
      "\n",
      "    set log level to logging.DEBUG (maximize logging output)\n",
      "\n",
      "--init\n",
      "\n",
      "    Initialize profile with default config files.  This is equivalent\n",
      "    to running `ipython profile create <profile>` prior to startup.\n",
      "\n",
      "--execute\n",
      "\n",
      "    Execute the notebook prior to export.\n",
      "\n",
      "--quiet\n",
      "\n",
      "    set log level to logging.CRITICAL (minimize logging output)\n",
      "\n",
      "--stdout\n",
      "\n",
      "    Write notebook output to stdout instead of files.\n",
      "--profile=<Unicode> (BaseIPythonApplication.profile)\n",
      "\n",
      "    Default: u'default'\n",
      "\n",
      "    The IPython profile to use.\n",
      "\n",
      "--reveal-prefix=<Unicode> (RevealHelpPreprocessor.url_prefix)\n",
      "\n",
      "    Default: 'reveal.js'\n",
      "\n",
      "    The URL prefix for reveal.js. This can be a a relative URL for a local copy\n",
      "\n",
      "    of reveal.js, or point to a CDN.\n",
      "\n",
      "    For speaker notes to work, a local reveal.js prefix must be used.\n",
      "\n",
      "--ipython-dir=<Unicode> (BaseIPythonApplication.ipython_dir)\n",
      "\n",
      "    Default: u''\n",
      "\n",
      "    The name of the IPython directory. This directory is used for logging\n",
      "\n",
      "    configuration (through profiles), history storage, etc. The default is\n",
      "\n",
      "    usually $HOME/.ipython. This option can also be specified through the\n",
      "\n",
      "    environment variable IPYTHONDIR.\n",
      "\n",
      "--nbformat=<Enum> (NotebookExporter.nbformat_version)\n",
      "\n",
      "    Default: 4\n",
      "\n",
      "    Choices: [1, 2, 3, 4]\n",
      "\n",
      "    The nbformat version to write. Use this to downgrade notebooks.\n",
      "\n",
      "--writer=<DottedObjectName> (NbConvertApp.writer_class)\n",
      "\n",
      "    Default: 'FilesWriter'\n",
      "\n",
      "    Writer class used to write the  results of the conversion\n",
      "\n",
      "--log-level=<Enum> (Application.log_level)\n",
      "\n",
      "    Default: 30\n",
      "\n",
      "    Choices: (0, 10, 20, 30, 40, 50, 'DEBUG', 'INFO', 'WARN', 'ERROR', 'CRITICAL')\n",
      "\n",
      "    Set the log level by value or name.\n",
      "\n",
      "--to=<CaselessStrEnum> (NbConvertApp.export_format)\n",
      "\n",
      "    Default: 'html'\n",
      "\n",
      "    Choices: ['custom', 'html', 'latex', 'markdown', 'notebook', 'pdf', 'python', 'rst', 'script', 'slides']\n",
      "\n",
      "    The export format to be used.\n",
      "\n",
      "--template=<Unicode> (TemplateExporter.template_file)\n",
      "\n",
      "    Default: u'default'\n",
      "\n",
      "    Name of the template file to use\n",
      "\n",
      "--output=<Unicode> (NbConvertApp.output_base)\n",
      "\n",
      "    Default: ''\n",
      "\n",
      "    overwrite base name use for output files. can only be used when converting\n",
      "\n",
      "    one notebook at a time.\n",
      "\n",
      "--post=<DottedOrNone> (NbConvertApp.postprocessor_class)\n",
      "\n",
      "    Default: u''\n",
      "\n",
      "    PostProcessor class used to write the  results of the conversion\n",
      "\n",
      "--config=<Unicode> (BaseIPythonApplication.extra_config_file)\n",
      "\n",
      "    Default: u''\n",
      "\n",
      "    Path to an extra config file to load.\n",
      "\n",
      "    If specified, load this config file in addition to any other IPython config.\n",
      "\n",
      "--profile-dir=<Unicode> (ProfileDir.location)\n",
      "\n",
      "    Default: u''\n",
      "\n",
      "    Set the profile location directly. This overrides the logic used by the\n",
      "\n",
      "    `profile` option.\n",
      "\n",
      "To see all available configurables, use `--help-all`\n",
      "\n",
      "Examples\n",
      "--------\n",
      "\n",
      "    The simplest way to use nbconvert is\n",
      "    \n",
      "    > ipython nbconvert mynotebook.ipynb\n",
      "    \n",
      "    which will convert mynotebook.ipynb to the default format (probably HTML).\n",
      "    \n",
      "    You can specify the export format with `--to`.\n",
      "    Options include ['custom', 'html', 'latex', 'markdown', 'notebook', 'pdf', 'python', 'rst', 'script', 'slides']\n",
      "    \n",
      "    > ipython nbconvert --to latex mynotebook.ipynb\n",
      "    \n",
      "    Both HTML and LaTeX support multiple output templates. LaTeX includes\n",
      "    'base', 'article' and 'report'.  HTML includes 'basic' and 'full'. You\n",
      "    can specify the flavor of the format used.\n",
      "    \n",
      "    > ipython nbconvert --to html --template basic mynotebook.ipynb\n",
      "    \n",
      "    You can also pipe the output to stdout, rather than a file\n",
      "    \n",
      "    > ipython nbconvert mynotebook.ipynb --stdout\n",
      "    \n",
      "    PDF is generated via latex\n",
      "    \n",
      "    > ipython nbconvert mynotebook.ipynb --to pdf\n",
      "    \n",
      "    You can get (and serve) a Reveal.js-powered slideshow\n",
      "    \n",
      "    > ipython nbconvert myslides.ipynb --to slides --post serve\n",
      "    \n",
      "    Multiple notebooks can be given at the command line in a couple of \n",
      "    different ways:\n",
      "    \n",
      "    > ipython nbconvert notebook*.ipynb\n",
      "    > ipython nbconvert notebook1.ipynb notebook2.ipynb\n",
      "    \n",
      "    or you can specify the notebooks list in a config file, containing::\n",
      "    \n",
      "        c.NbConvertApp.notebooks = [\"my_notebook.ipynb\"]\n",
      "    \n",
      "    > ipython nbconvert --config mycfg.py\n",
      "\n"
     ]
    },
    {
     "name": "stderr",
     "output_type": "stream",
     "text": [
      "[NbConvertApp] CRITICAL | Bad config encountered during initialization:\n",
      "[NbConvertApp] CRITICAL | Invalid argument: '-'\n",
      "[NbConvertApp] Using existing profile dir: u'C:\\\\Users\\\\Yolanda\\\\.ipython\\\\profile_default'\n",
      "[NbConvertApp] WARNING | pattern u'#' matched no files\n",
      "[NbConvertApp] WARNING | pattern u'llamar' matched no files\n",
      "[NbConvertApp] WARNING | pattern u'a' matched no files\n",
      "[NbConvertApp] WARNING | pattern u'nbconvert' matched no files\n",
      "[NbConvertApp] Converting notebook ipython_numpy_01.ipynb to html\n",
      "[NbConvertApp] Support files will be in ipython_numpy_01_files\\\n",
      "[NbConvertApp] Loaded template full.tpl\n",
      "[NbConvertApp] Writing 306634 bytes to ipython_numpy_01.html\n",
      "[NbConvertApp] Using existing profile dir: u'C:\\\\Users\\\\Yolanda\\\\.ipython\\\\profile_default'\n",
      "[NbConvertApp] WARNING | pattern u'#' matched no files\n",
      "[NbConvertApp] WARNING | pattern u'llamar' matched no files\n",
      "[NbConvertApp] WARNING | pattern u'a' matched no files\n",
      "[NbConvertApp] WARNING | pattern u'nbconvert' matched no files\n",
      "[NbConvertApp] Converting notebook ipython_numpy_02-Copy1.ipynb to html\n",
      "[NbConvertApp] Support files will be in ipython_numpy_02-Copy1_files\\\n",
      "[NbConvertApp] Loaded template full.tpl\n",
      "[NbConvertApp] Writing 293952 bytes to ipython_numpy_02-Copy1.html\n",
      "[NbConvertApp] Using existing profile dir: u'C:\\\\Users\\\\Yolanda\\\\.ipython\\\\profile_default'\n",
      "[NbConvertApp] WARNING | pattern u'#' matched no files\n",
      "[NbConvertApp] WARNING | pattern u'llamar' matched no files\n",
      "[NbConvertApp] WARNING | pattern u'a' matched no files\n",
      "[NbConvertApp] WARNING | pattern u'nbconvert' matched no files\n",
      "[NbConvertApp] Converting notebook ipython_numpy_02.ipynb to html\n",
      "[NbConvertApp] Support files will be in ipython_numpy_02_files\\\n",
      "[NbConvertApp] Loaded template full.tpl\n",
      "[NbConvertApp] Writing 255567 bytes to ipython_numpy_02.html\n",
      "[NbConvertApp] Using existing profile dir: u'C:\\\\Users\\\\Yolanda\\\\.ipython\\\\profile_default'\n",
      "[NbConvertApp] WARNING | pattern u'#' matched no files\n",
      "[NbConvertApp] WARNING | pattern u'llamar' matched no files\n",
      "[NbConvertApp] WARNING | pattern u'a' matched no files\n",
      "[NbConvertApp] WARNING | pattern u'nbconvert' matched no files\n",
      "[NbConvertApp] Converting notebook ipython_numpy_03.ipynb to html\n",
      "[NbConvertApp] Support files will be in ipython_numpy_03_files\\\n",
      "[NbConvertApp] Loaded template full.tpl\n",
      "[NbConvertApp] Writing 358814 bytes to ipython_numpy_03.html\n",
      "[NbConvertApp] Using existing profile dir: u'C:\\\\Users\\\\Yolanda\\\\.ipython\\\\profile_default'\n",
      "[NbConvertApp] WARNING | pattern u'#' matched no files\n",
      "[NbConvertApp] WARNING | pattern u'llamar' matched no files\n",
      "[NbConvertApp] WARNING | pattern u'a' matched no files\n",
      "[NbConvertApp] WARNING | pattern u'nbconvert' matched no files\n",
      "[NbConvertApp] Converting notebook ipython_numpy_04.ipynb to html\n",
      "[NbConvertApp] Support files will be in ipython_numpy_04_files\\\n",
      "[NbConvertApp] Loaded template full.tpl\n",
      "[NbConvertApp] Writing 208175 bytes to ipython_numpy_04.html\n",
      "[NbConvertApp] Using existing profile dir: u'C:\\\\Users\\\\Yolanda\\\\.ipython\\\\profile_default'\n",
      "[NbConvertApp] WARNING | pattern u'#' matched no files\n",
      "[NbConvertApp] WARNING | pattern u'llamar' matched no files\n",
      "[NbConvertApp] WARNING | pattern u'a' matched no files\n",
      "[NbConvertApp] WARNING | pattern u'nbconvert' matched no files\n",
      "[NbConvertApp] Converting notebook ipython_numpy_ejer_01.ipynb to html\n",
      "[NbConvertApp] Support files will be in ipython_numpy_ejer_01_files\\\n",
      "[NbConvertApp] Loaded template full.tpl\n",
      "[NbConvertApp] Writing 213357 bytes to ipython_numpy_ejer_01.html\n",
      "[NbConvertApp] Using existing profile dir: u'C:\\\\Users\\\\Yolanda\\\\.ipython\\\\profile_default'\n",
      "[NbConvertApp] WARNING | pattern u'#' matched no files\n",
      "[NbConvertApp] WARNING | pattern u'llamar' matched no files\n",
      "[NbConvertApp] WARNING | pattern u'a' matched no files\n",
      "[NbConvertApp] WARNING | pattern u'nbconvert' matched no files\n",
      "[NbConvertApp] Converting notebook ipython_numpy_ejer_02.ipynb to html\n",
      "[NbConvertApp] Support files will be in ipython_numpy_ejer_02_files\\\n",
      "[NbConvertApp] Loaded template full.tpl\n",
      "[NbConvertApp] Writing 215194 bytes to ipython_numpy_ejer_02.html\n",
      "[NbConvertApp] Using existing profile dir: u'C:\\\\Users\\\\Yolanda\\\\.ipython\\\\profile_default'\n",
      "[NbConvertApp] WARNING | pattern u'#' matched no files\n",
      "[NbConvertApp] WARNING | pattern u'llamar' matched no files\n",
      "[NbConvertApp] WARNING | pattern u'a' matched no files\n",
      "[NbConvertApp] WARNING | pattern u'nbconvert' matched no files\n",
      "[NbConvertApp] Converting notebook ipython_sets_01.ipynb to html\n",
      "[NbConvertApp] Support files will be in ipython_sets_01_files\\\n",
      "[NbConvertApp] Loaded template full.tpl\n",
      "[NbConvertApp] Writing 201858 bytes to ipython_sets_01.html\n",
      "[NbConvertApp] Using existing profile dir: u'C:\\\\Users\\\\Yolanda\\\\.ipython\\\\profile_default'\n",
      "[NbConvertApp] WARNING | pattern u'#' matched no files\n",
      "[NbConvertApp] WARNING | pattern u'llamar' matched no files\n",
      "[NbConvertApp] WARNING | pattern u'a' matched no files\n",
      "[NbConvertApp] WARNING | pattern u'nbconvert' matched no files\n",
      "[NbConvertApp] Converting notebook ipython_sintaxis_00.ipynb to html\n",
      "[NbConvertApp] Support files will be in ipython_sintaxis_00_files\\\n",
      "[NbConvertApp] Loaded template full.tpl\n",
      "[NbConvertApp] Writing 205791 bytes to ipython_sintaxis_00.html\n",
      "[NbConvertApp] Using existing profile dir: u'C:\\\\Users\\\\Yolanda\\\\.ipython\\\\profile_default'\n",
      "[NbConvertApp] WARNING | pattern u'#' matched no files\n",
      "[NbConvertApp] WARNING | pattern u'llamar' matched no files\n",
      "[NbConvertApp] WARNING | pattern u'a' matched no files\n",
      "[NbConvertApp] WARNING | pattern u'nbconvert' matched no files\n",
      "[NbConvertApp] Converting notebook ipython_sintaxis_01.ipynb to html\n",
      "[NbConvertApp] Support files will be in ipython_sintaxis_01_files\\\n",
      "[NbConvertApp] Loaded template full.tpl\n",
      "[NbConvertApp] Writing 289840 bytes to ipython_sintaxis_01.html\n",
      "[NbConvertApp] Using existing profile dir: u'C:\\\\Users\\\\Yolanda\\\\.ipython\\\\profile_default'\n",
      "[NbConvertApp] WARNING | pattern u'#' matched no files\n",
      "[NbConvertApp] WARNING | pattern u'llamar' matched no files\n",
      "[NbConvertApp] WARNING | pattern u'a' matched no files\n",
      "[NbConvertApp] WARNING | pattern u'nbconvert' matched no files\n",
      "[NbConvertApp] Converting notebook ipython_sintaxis_02.ipynb to html\n",
      "[NbConvertApp] Support files will be in ipython_sintaxis_02_files\\\n",
      "[NbConvertApp] Loaded template full.tpl\n",
      "[NbConvertApp] Writing 225046 bytes to ipython_sintaxis_02.html\n",
      "[NbConvertApp] Using existing profile dir: u'C:\\\\Users\\\\Yolanda\\\\.ipython\\\\profile_default'\n",
      "[NbConvertApp] WARNING | pattern u'#' matched no files\n",
      "[NbConvertApp] WARNING | pattern u'llamar' matched no files\n",
      "[NbConvertApp] WARNING | pattern u'a' matched no files\n",
      "[NbConvertApp] WARNING | pattern u'nbconvert' matched no files\n",
      "[NbConvertApp] Converting notebook ipython_sintaxis_03.ipynb to html\n",
      "[NbConvertApp] Support files will be in ipython_sintaxis_03_files\\\n",
      "[NbConvertApp] Loaded template full.tpl\n",
      "[NbConvertApp] Writing 262163 bytes to ipython_sintaxis_03.html\n",
      "[NbConvertApp] Using existing profile dir: u'C:\\\\Users\\\\Yolanda\\\\.ipython\\\\profile_default'\n",
      "[NbConvertApp] WARNING | pattern u'#' matched no files\n",
      "[NbConvertApp] WARNING | pattern u'llamar' matched no files\n",
      "[NbConvertApp] WARNING | pattern u'a' matched no files\n",
      "[NbConvertApp] WARNING | pattern u'nbconvert' matched no files\n",
      "[NbConvertApp] Converting notebook ipython_sintaxis_ejer_01.ipynb to html\n",
      "[NbConvertApp] Support files will be in ipython_sintaxis_ejer_01_files\\\n",
      "[NbConvertApp] Loaded template full.tpl\n",
      "[NbConvertApp] Writing 196117 bytes to ipython_sintaxis_ejer_01.html\n",
      "[NbConvertApp] Using existing profile dir: u'C:\\\\Users\\\\Yolanda\\\\.ipython\\\\profile_default'\n",
      "[NbConvertApp] WARNING | pattern u'#' matched no files\n",
      "[NbConvertApp] WARNING | pattern u'llamar' matched no files\n",
      "[NbConvertApp] WARNING | pattern u'a' matched no files\n",
      "[NbConvertApp] WARNING | pattern u'nbconvert' matched no files\n",
      "[NbConvertApp] Converting notebook Untitled.ipynb to html\n",
      "[NbConvertApp] Support files will be in Untitled_files\\\n",
      "[NbConvertApp] Loaded template full.tpl\n",
      "[NbConvertApp] Writing 203324 bytes to Untitled.html\n",
      "[NbConvertApp] Using existing profile dir: u'C:\\\\Users\\\\Yolanda\\\\.ipython\\\\profile_default'\n",
      "[NbConvertApp] WARNING | pattern u'#' matched no files\n",
      "[NbConvertApp] WARNING | pattern u'llamar' matched no files\n",
      "[NbConvertApp] WARNING | pattern u'a' matched no files\n",
      "[NbConvertApp] WARNING | pattern u'nbconvert' matched no files\n",
      "[NbConvertApp] Converting notebook Untitled1.ipynb to html\n",
      "[NbConvertApp] Support files will be in Untitled1_files\\\n",
      "[NbConvertApp] Loaded template full.tpl\n",
      "[NbConvertApp] Writing 200582 bytes to Untitled1.html\n",
      "[NbConvertApp] Using existing profile dir: u'C:\\\\Users\\\\Yolanda\\\\.ipython\\\\profile_default'\n",
      "[NbConvertApp] WARNING | pattern u'#' matched no files\n",
      "[NbConvertApp] WARNING | pattern u'llamar' matched no files\n",
      "[NbConvertApp] WARNING | pattern u'a' matched no files\n",
      "[NbConvertApp] WARNING | pattern u'nbconvert' matched no files\n",
      "[NbConvertApp] Converting notebook Untitled2.ipynb to html\n",
      "[NbConvertApp] Support files will be in Untitled2_files\\\n",
      "[NbConvertApp] Loaded template full.tpl\n",
      "[NbConvertApp] Writing 195257 bytes to Untitled2.html\n",
      "[NbConvertApp] Using existing profile dir: u'C:\\\\Users\\\\Yolanda\\\\.ipython\\\\profile_default'\n",
      "[NbConvertApp] WARNING | pattern u'#' matched no files\n",
      "[NbConvertApp] WARNING | pattern u'llamar' matched no files\n",
      "[NbConvertApp] WARNING | pattern u'a' matched no files\n",
      "[NbConvertApp] WARNING | pattern u'nbconvert' matched no files\n",
      "[NbConvertApp] Converting notebook Untitled3.ipynb to html\n",
      "[NbConvertApp] Support files will be in Untitled3_files\\\n",
      "[NbConvertApp] Loaded template full.tpl\n",
      "[NbConvertApp] Writing 194926 bytes to Untitled3.html\n"
     ]
    }
   ],
   "source": [
    "for i in documents:\n",
    "    !ipython nbconvert --to html $i   # llamar a nbconvert\n",
    "    \n"
   ]
  },
  {
   "cell_type": "code",
   "execution_count": 7,
   "metadata": {
    "collapsed": false
   },
   "outputs": [
    {
     "name": "stdout",
     "output_type": "stream",
     "text": [
      "http://127.0.0.1:8888/notebooks/ipython_240715.html\n",
      "http://127.0.0.1:8888/notebooks/ipython_240715_00.html\n",
      "http://127.0.0.1:8888/notebooks/ipython_citas.html\n",
      "http://127.0.0.1:8888/notebooks/ipython_comprehensions_01.html\n",
      "http://127.0.0.1:8888/notebooks/ipython_diccionarios_01.html\n",
      "http://127.0.0.1:8888/notebooks/ipython_exceptions_01.html\n",
      "http://127.0.0.1:8888/notebooks/ipython_files_01.html\n",
      "http://127.0.0.1:8888/notebooks/ipython_funciones_00.html\n",
      "http://127.0.0.1:8888/notebooks/ipython_funciones_01.html\n",
      "http://127.0.0.1:8888/notebooks/ipython_indice.html\n",
      "http://127.0.0.1:8888/notebooks/ipython_intro1.html\n",
      "http://127.0.0.1:8888/notebooks/ipython_intro2.html\n",
      "http://127.0.0.1:8888/notebooks/ipython_ipython.html\n",
      "http://127.0.0.1:8888/notebooks/ipython_notebook.html\n",
      "http://127.0.0.1:8888/notebooks/ipython_numpy_01 - copia.html\n",
      "http://127.0.0.1:8888/notebooks/ipython_numpy_01.html\n",
      "http://127.0.0.1:8888/notebooks/ipython_numpy_02.html\n",
      "http://127.0.0.1:8888/notebooks/ipython_numpy_ejer_01.html\n",
      "http://127.0.0.1:8888/notebooks/ipython_numpy_ejer_02.html\n",
      "http://127.0.0.1:8888/notebooks/ipython_sets_01.html\n",
      "http://127.0.0.1:8888/notebooks/ipython_sintaxis_00.html\n",
      "http://127.0.0.1:8888/notebooks/ipython_sintaxis_01.html\n",
      "http://127.0.0.1:8888/notebooks/ipython_sintaxis_02.html\n",
      "http://127.0.0.1:8888/notebooks/ipython_sintaxis_03.html\n",
      "http://127.0.0.1:8888/notebooks/ipython_sintaxis_ejer_01.html\n",
      "http://127.0.0.1:8888/notebooks/Untitled.html\n",
      "http://127.0.0.1:8888/notebooks/Untitled1.html\n",
      "http://127.0.0.1:8888/notebooks/Untitled2.html\n",
      "http://127.0.0.1:8888/notebooks/Untitled3.html\n"
     ]
    }
   ],
   "source": [
    "baseurl = \"http://127.0.0.1:8888\"\n",
    "notebook_file = \"/notebooks/\"\n",
    "\n",
    "for i in documents:\n",
    "    page = i.replace(\".ipynb\", \".html\")\n",
    "    url = baseurl + notebook_file + page\n",
    "    print url"
   ]
  },
  {
   "cell_type": "code",
   "execution_count": 6,
   "metadata": {
    "collapsed": false
   },
   "outputs": [
    {
     "name": "stdout",
     "output_type": "stream",
     "text": [
      "        1 archivo(s) copiado(s).\n"
     ]
    },
    {
     "name": "stderr",
     "output_type": "stream",
     "text": [
      "[NbConvertApp] Converting notebook ipython_load_data_01.ipynb to html\n",
      "[NbConvertApp] Writing 463646 bytes to ipython_load_data_01.html\n",
      "[NbConvertApp] Converting notebook ipython_pandas_02.ipynb to html\n",
      "[NbConvertApp] Writing 313847 bytes to ipython_pandas_02.html\n",
      "[NbConvertApp] Converting notebook ipython_matplot_02.ipynb to html\n",
      "[NbConvertApp] Writing 606540 bytes to ipython_matplot_02.html\n",
      "[NbConvertApp] Converting notebook ipython_cleaning_01.ipynb to html\n",
      "[NbConvertApp] Writing 315839 bytes to ipython_cleaning_01.html\n",
      "[NbConvertApp] Converting notebook ipython_040915.ipynb to html\n",
      "[NbConvertApp] Writing 189150 bytes to ipython_040915.html\n",
      "[NbConvertApp] Converting notebook ipython_040915_web.ipynb to html\n",
      "[NbConvertApp] Writing 190032 bytes to ipython_040915_web.html\n",
      "[NbConvertApp] Converting notebook ./ejercicios240715/ipython_pandas_ej_01.ipynb to html\n",
      "[NbConvertApp] Writing 263969 bytes to ipython_pandas_ej_01.html\n",
      "[NbConvertApp] Converting notebook ipython_aggregation_01.ipynb to html\n",
      "[NbConvertApp] Writing 381989 bytes to ipython_aggregation_01.html\n",
      "[NbConvertApp] Converting notebook ipython_abrirMongo.ipynb to html\n",
      "[NbConvertApp] Writing 190770 bytes to ipython_abrirMongo.html\n",
      "[NbConvertApp] Converting notebook ipython_110915.ipynb to html\n",
      "[NbConvertApp] Writing 189953 bytes to ipython_110915.html\n",
      "[NbConvertApp] Converting notebook ipython_110915_web.ipynb to html\n",
      "[NbConvertApp] Writing 189775 bytes to ipython_110915_web.html\n"
     ]
    }
   ],
   "source": [
    "dir = !ipython locate profile cfc    #localizar el perfil que nos gusta (cfc)\n",
    "import os\n",
    "csspath = dir[0] + '\\\\static\\\\custom\\\\custom.css'   #construir la ruta donde está la css\n",
    "\n",
    "\n",
    "# Para un documento solo. Cambiando la css\n",
    "!copy {csspath} custom.css\n",
    "#!ipython nbconvert --to html ipython_pandas_01.ipynb\n",
    "#!ipython nbconvert --to html ipython_matplot_01.ipynb  # llamar a nbconvert\n",
    "!ipython nbconvert --to html ipython_load_data_01.ipynb\n",
    "!ipython nbconvert --to html ipython_pandas_02.ipynb\n",
    "!ipython nbconvert --to html ipython_matplot_02.ipynb\n",
    "!ipython nbconvert --to html ipython_cleaning_01.ipynb\n",
    "!ipython nbconvert --to html ipython_040915.ipynb\n",
    "!ipython nbconvert --to html ipython_040915_web.ipynb\n",
    "!ipython nbconvert --to html ./ejercicios240715/ipython_pandas_ej_01.ipynb\n",
    "!ipython nbconvert --to html ipython_aggregation_01.ipynb\n",
    "!ipython nbconvert --to html ipython_abrirMongo.ipynb\n",
    "!ipython nbconvert --to html ipython_110915.ipynb\n",
    "!ipython nbconvert --to html ipython_110915_web.ipynb"
   ]
  },
  {
   "cell_type": "code",
   "execution_count": 2,
   "metadata": {
    "collapsed": false
   },
   "outputs": [
    {
     "name": "stdout",
     "output_type": "stream",
     "text": [
      "        1 archivo(s) copiado(s).\n"
     ]
    },
    {
     "name": "stderr",
     "output_type": "stream",
     "text": [
      "[NbConvertApp] Using existing profile dir: u'C:\\\\Users\\\\Yolanda\\\\.ipython\\\\profile_default'\n",
      "[NbConvertApp] Converting notebook Caso1.ipynb to html\n",
      "[NbConvertApp] Support files will be in Caso1_files\\\n",
      "[NbConvertApp] Loaded template full.tpl\n",
      "[NbConvertApp] Writing 213014 bytes to Caso1.html\n",
      "[NbConvertApp] Using existing profile dir: u'C:\\\\Users\\\\Yolanda\\\\.ipython\\\\profile_default'\n",
      "[NbConvertApp] Converting notebook Caso2.ipynb to html\n",
      "[NbConvertApp] Support files will be in Caso2_files\\\n",
      "[NbConvertApp] Loaded template full.tpl\n",
      "[NbConvertApp] Writing 215934 bytes to Caso2.html\n",
      "[NbConvertApp] Using existing profile dir: u'C:\\\\Users\\\\Yolanda\\\\.ipython\\\\profile_default'\n",
      "[NbConvertApp] Converting notebook Caso2-mongo.ipynb to html\n",
      "[NbConvertApp] Support files will be in Caso2-mongo_files\\\n",
      "[NbConvertApp] Loaded template full.tpl\n",
      "[NbConvertApp] Writing 215745 bytes to Caso2-mongo.html\n",
      "[NbConvertApp] Using existing profile dir: u'C:\\\\Users\\\\Yolanda\\\\.ipython\\\\profile_default'\n",
      "[NbConvertApp] Converting notebook Caso3.ipynb to html\n",
      "[NbConvertApp] Support files will be in Caso3_files\\\n",
      "[NbConvertApp] Loaded template full.tpl\n",
      "[NbConvertApp] Writing 213510 bytes to Caso3.html\n"
     ]
    }
   ],
   "source": [
    "dir = !ipython locate profile cfc    #localizar el perfil que nos gusta (cfc)\n",
    "import os\n",
    "csspath = dir[0] + '\\\\static\\\\custom\\\\custom.css'   #construir la ruta donde está la css\n",
    "\n",
    "\n",
    "# Para un documento solo. Cambiando la css\n",
    "!copy {csspath} custom.css\n",
    "#!ipython nbconvert --to html ipython_pandas_01.ipynb\n",
    "#!ipython nbconvert --to html ipython_matplot_01.ipynb  # llamar a nbconvert\n",
    "!ipython nbconvert --to html Caso1.ipynb\n",
    "!ipython nbconvert --to html Caso2.ipynb\n",
    "!ipython nbconvert --to html Caso2-mongo.ipynb\n",
    "!ipython nbconvert --to html Caso3.ipynb\n"
   ]
  },
  {
   "cell_type": "code",
   "execution_count": 7,
   "metadata": {
    "collapsed": false
   },
   "outputs": [
    {
     "data": {
      "text/plain": [
       "['C:\\\\Users\\\\Yolanda\\\\.ipython\\\\profile_cfc']"
      ]
     },
     "execution_count": 7,
     "metadata": {},
     "output_type": "execute_result"
    }
   ],
   "source": [
    "dir = !ipython locate profile cfc    #localizar el perfil que nos gusta (cfc)\n",
    "dir"
   ]
  },
  {
   "cell_type": "code",
   "execution_count": 8,
   "metadata": {
    "collapsed": false
   },
   "outputs": [
    {
     "name": "stdout",
     "output_type": "stream",
     "text": [
      "        1 archivo(s) copiado(s).\n"
     ]
    }
   ],
   "source": [
    "import os\n",
    "csspath = dir[0] + '\\\\static\\\\custom\\\\custom.css'   #construir la ruta donde está la css\n",
    "\n",
    "\n",
    "# Para un documento solo. Cambiando la css\n",
    "!copy {csspath} custom.css"
   ]
  },
  {
   "cell_type": "code",
   "execution_count": 9,
   "metadata": {
    "collapsed": false
   },
   "outputs": [
    {
     "data": {
      "text/plain": [
       "'C:\\\\Users\\\\Yolanda\\\\.ipython\\\\profile_cfc\\\\static\\\\custom\\\\custom.css'"
      ]
     },
     "execution_count": 9,
     "metadata": {},
     "output_type": "execute_result"
    }
   ],
   "source": [
    "csspath\n"
   ]
  },
  {
   "cell_type": "code",
   "execution_count": 4,
   "metadata": {
    "collapsed": false
   },
   "outputs": [
    {
     "name": "stderr",
     "output_type": "stream",
     "text": [
      "[NbConvertApp] Converting notebook ipython_funciones_01.ipynb to html\n",
      "[NbConvertApp] Writing 229197 bytes to ipython_funciones_01.html\n"
     ]
    }
   ],
   "source": [
    "!ipython nbconvert --to html ipython_funciones_01.ipynb\n"
   ]
  },
  {
   "cell_type": "code",
   "execution_count": null,
   "metadata": {
    "collapsed": true
   },
   "outputs": [],
   "source": []
  }
 ],
 "metadata": {
  "kernelspec": {
   "display_name": "Python 2",
   "language": "python",
   "name": "python2"
  },
  "language_info": {
   "codemirror_mode": {
    "name": "ipython",
    "version": 2
   },
   "file_extension": ".py",
   "mimetype": "text/x-python",
   "name": "python",
   "nbconvert_exporter": "python",
   "pygments_lexer": "ipython2",
   "version": "2.7.11"
  }
 },
 "nbformat": 4,
 "nbformat_minor": 0
}
