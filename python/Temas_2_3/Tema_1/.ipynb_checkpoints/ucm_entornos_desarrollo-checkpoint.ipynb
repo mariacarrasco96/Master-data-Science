{
 "cells": [
  {
   "cell_type": "markdown",
   "metadata": {},
   "source": [
    "# Python para análisis de datos"
   ]
  },
  {
   "cell_type": "markdown",
   "metadata": {
    "slideshow": {
     "slide_type": "slide"
    }
   },
   "source": [
    "## Entornos de desarrollo\n",
    "\n",
    "Para escribir y probar los programas que desarrollaremos sólo hace falta un editor de textos (para escribir) y un intérprete de Python (para probar/ejecutar). Python es un lenguaje que tiene intérpretes en cualquier sistema operativo.\n",
    "\n",
    "Existen muchos entornos de desarrollo (IDE) y cada vez aparecen más. Estos entornos facilitan tanto la tarea de escribir programas como de ejecutarlos. Entre otras carcterísticas:\n",
    "\n",
    "* Ofrecen ayudas al completado\n",
    "* Tienen documentación integrada\n",
    "\n",
    "Algunos ejemplos de IDEs son:\n",
    "\n",
    "\n",
    "     * Eclipse con PyDev plugin\n",
    "     * Visual Estudio\n",
    "     * Komodo IDE\n",
    "     * Spyder\n",
    "     * PyCharm\n",
    "     * IPython\n",
    "     * IPython notebook - Jupyter\n",
    "\n",
    "\n",
    "\n",
    "\n",
    "### [__Spyder__](http://en.wikipedia.org/wiki/Spyder_%28software%29)  ![Spyder](../images/spyder.jpg \"Spyder\")\n",
    "\n",
    "* Spyder tiene un editor con muchas ayudas\n",
    "    - permite ejecutar los programas en el mismo entorno \n",
    "    - cuenta con herramientas para hacer ejecuciones paso a paso y depurar nuestros programas.  \n",
    "    - documentación integrada\n",
    "    - ayudas al completado (típico en la mayoría de los IDE's)\n",
    "\n",
    "* Spyder integra los módulos NumPy, SciPy, pandas, Matplotlib e IPython (entre otros).\n",
    "\n",
    " ![Entorno](../images/entorno.png \"Entorno\") \n",
    "<!---<img src=\"../images/entorno.png\" alt=\"Entorno\" style=\"width: 500px;\"/> --->\n",
    "\n",
    "-----\n",
    "### __IPython__\n",
    "\n",
    "* Es un entorno de desarrollo interactivo que se encuentra integrado en muchos IDEs.\n",
    "\n",
    "* Está basado en _ejecuta_ y _explora_ en lugar del flujo tradicional _edita_ + _compila_ + _ejecuta_.\n",
    "\n",
    "\n",
    "\n",
    "<img src=\"../images/ipython.png\" alt=\"ipython console\" style=\"width: 500px;\"/>\n",
    "\n",
    "\n",
    "* Permite comunicarse facilmente con el sistema operativo y el sistema de ficheros.\n",
    "\n",
    "* Proporciona rapidez en el desarrollo de aplicaciones.\n",
    "\n",
    "\n",
    "-----\n",
    "\n",
    "### [IPython notebook - __Jupyter notebook__](http://ipython.org/notebook.html)\n",
    "\n",
    "* IPython notebook es un entorno basado en celdas que añade nuevas funcionalidades al modo interactivo incluído con Python. \n",
    "\n",
    "* Permite escribir y ejecutar código, dibujar gráficos y documentar al mismo tiempo.\n",
    "\n",
    "* Reúne en un mismo componente todas las herramientas científicas estándar de Python\n",
    "\n",
    "<img src=\"../images/ipython-thumb.png\" alt=\"IPython Notebook\" style=\"width: 400px;\"/>\n",
    "\n",
    "\n",
    "\n"
   ]
  },
  {
   "cell_type": "markdown",
   "metadata": {},
   "source": [
    "## Instalación de Spyder e IPython notebook\n",
    "\n",
    "* Desde Windows, Linux o Mac lo más sencillo es instalar [Anaconda](https://store.continuum.io/cshop/anaconda/). \n",
    "\n",
    "* Anaconda es una distribución de Python que recopila muchas de las bibliotecas necesarias en el ámbito de la computación científica. \n",
    "\n",
    "* Se trata de un software libre que incluye tanto Spyder como IPython/Jupyter notebook.\n",
    "\n",
    "![Entorno](../images/anaconda.jpg \"Anaconda\")\n",
    "---"
   ]
  },
  {
   "cell_type": "markdown",
   "metadata": {},
   "source": [
    "<a rel=\"license\" href=\"http://creativecommons.org/licenses/by-nc-sa/4.0/\"><img alt=\"Licencia Creative Commons\" style=\"border-width:0\" src=\"https://i.creativecommons.org/l/by-nc-sa/4.0/88x31.png\" /></a><br />"
   ]
  }
 ],
 "metadata": {
  "kernelspec": {
   "display_name": "Python 3",
   "language": "python",
   "name": "python3"
  },
  "language_info": {
   "codemirror_mode": {
    "name": "ipython",
    "version": 3
   },
   "file_extension": ".py",
   "mimetype": "text/x-python",
   "name": "python",
   "nbconvert_exporter": "python",
   "pygments_lexer": "ipython3",
   "version": "3.5.1"
  }
 },
 "nbformat": 4,
 "nbformat_minor": 0
}
