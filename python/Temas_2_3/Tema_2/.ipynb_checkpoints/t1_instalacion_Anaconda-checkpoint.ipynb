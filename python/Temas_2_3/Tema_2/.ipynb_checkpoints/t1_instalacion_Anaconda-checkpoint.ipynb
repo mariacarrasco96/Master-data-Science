{
 "cells": [
  {
   "cell_type": "markdown",
   "metadata": {},
   "source": [
    "\n",
    "\n",
    "## Anaconda con Python 3.5\n",
    "\n",
    "En este curso trabajaremos únicamente con el software libre y gratuito __Jupyter notebook__. Este software nos permite el uso integrado de códigos de programación junto con presentación de contenidos. Además, el empleo de este entorno de programación\n",
    "nos va a permitir adquirir la formación necesaria para posteriormente llegar a ser\n",
    "usuario de otras plataformas de uso común en el mercado, ya sean de acceso libre o\n",
    "de pago.\n",
    "\n",
    "* Desde Windows, Linux o Mac lo más sencillo es instalar una distribución de Python gratuita llamada [Anaconda](https://store.continuum.io/cshop/anaconda/). \n",
    "\n",
    "* Anaconda es una distribución de Python que recopila muchas de las bibliotecas necesarias en el ámbito de la computación científica. Esta distribución incluye multitud de utilidades que nos facilitarán el trabajo y es ideal para empezar.\n",
    "\n",
    "* Para instalarla, sólo tienes que descargar la versión de Anaconda para tu sistema operativo desde su página web (te pedirá tu dirección de email, pero si no quieres darla, pulsa en __NO_THANKS__ y podrás descargarlo sin problema). Existen dos opciones de descarga: La versión de Anaconda con Python 3.5. y con Python 2.7. Nosotros trabajaremos con la primera opción: __Anaconda con Python 3.5__.\n",
    "\n",
    "\n",
    "![Entorno](./images/anaconda.jpg \"Anaconda\")\n",
    "---"
   ]
  },
  {
   "cell_type": "markdown",
   "metadata": {},
   "source": [
    "\n",
    "### Acerca de las versiones de Python\n",
    "\n",
    "\n",
    "* La última versión de Python es la 3, pero tiene el problema de que no es compatible del todo con los programas escritos para la versión 2.\n",
    "\n",
    "* La versión 2.7 fue la última de la familia 2.x, y se considera obsoleta. A pesar de que la versión 3 existe desde hace bastantes años, la 2 todavía se usa bastante ya que algunas librerías externas no han sido adaptadas para funcionar con la versión 3.\n",
    "\n",
    "* Mi recomendación es descargarse la versión 3, aunque los ejemplos que ejercicios que tenéis en este curso de Python, están preparados para funcionar en ambas versiones.\n",
    "\n",
    "* Si tu sistema es Windows y no sabes si tu versión es de 32 o 64 bits, siempre puedes  consultarlo en el sistema. En el siguiente [enlace](http://www.lasdudasdemama.com/windows-7-32-o-64/) se facilitan instrucciones de cómo localizar dicha información.\n",
    "\n"
   ]
  },
  {
   "cell_type": "markdown",
   "metadata": {},
   "source": [
    "### Instalación de Python con Anaconda\n",
    "\n",
    "Una vez descargado el sofware, procedemos a instalarlo. En la misma página de la descarga aparecen las instrucciones de instalación para cada sistema operativo."
   ]
  },
  {
   "cell_type": "markdown",
   "metadata": {},
   "source": [
    "### Puesta en marcha de la aplicación \n",
    "\n",
    "Una vez realizada la instalación en cualquiera de los sistemas operativos mencionados,\n",
    "la ejecución de Jupyter Notebook se puede realizar abriendo un terminal\n",
    "y ejecutando el comando `jupyter notebook`.\n",
    "En Windows se puede abrir el terminal realizando una búsqueda por `cmd` entre las aplicaciones.\n",
    "\n",
    "\n",
    "![Entorno](./images/cmd.png \"jupyter notebook\")"
   ]
  },
  {
   "cell_type": "markdown",
   "metadata": {},
   "source": [
    "La ejecución de `jupyter notebook` abrirá una ventana nueva en el navegador de internet.\n",
    "\n",
    "\n",
    "![Notebook](./images/jupyter.png \"Notebook\")\n",
    "\n",
    "Aparecerán unas cuantas carpetas y tal vez algunos ficheros. En realidad esta interfaz web actúa como un explorador de archivos. Me permite moverme entre distintas carpetas y crear ficheros. \n",
    "\n",
    "Mi recomendación es  ejecutar el comando `jupyter notebook` en un directorio nuevo donde guardaremos el trabajo desarrollado en este curso. \n",
    "\n",
    "* Se crea un directorio desde una terminal (mkdir misNotebooks). \n",
    "* Posteriormente nos movemos a ese nuevo directorio recién creado (cd misNotebooks). El último paso es ejecutar el comando `jupyter notebook`.\n",
    "\n",
    "En este caso, si el directorio está vacío se abrirá una ventana del navegador con un aspecto similar al siguiente:\n",
    "\n",
    "![cmdmkdir](./images/jupyterempty.png \"cmdmkdir\")\n",
    "\n",
    "--------"
   ]
  }
 ],
 "metadata": {
  "anaconda-cloud": {},
  "kernelspec": {
   "display_name": "Python [default]",
   "language": "python",
   "name": "python3"
  },
  "language_info": {
   "codemirror_mode": {
    "name": "ipython",
    "version": 3
   },
   "file_extension": ".py",
   "mimetype": "text/x-python",
   "name": "python",
   "nbconvert_exporter": "python",
   "pygments_lexer": "ipython3",
   "version": "3.5.2"
  }
 },
 "nbformat": 4,
 "nbformat_minor": 0
}
