{
 "cells": [
  {
   "cell_type": "markdown",
   "metadata": {},
   "source": [
    "<img src=\"./images/bankinter.png\">\n",
    "\n",
    "## Ficheros"
   ]
  },
  {
   "cell_type": "markdown",
   "metadata": {},
   "source": [
    "En Python, para abrir  un fichero usaremos la función __open__, que recibe el nombre del archivo a abrir. Por defecto, si no indicamos nada, el fichero se abre en modo lectura."
   ]
  },
  {
   "cell_type": "markdown",
   "metadata": {},
   "source": [
    "## Open en modo lectura"
   ]
  },
  {
   "cell_type": "code",
   "execution_count": 10,
   "metadata": {
    "collapsed": false
   },
   "outputs": [],
   "source": [
    "fichero = open(\"./datos/cuna.txt\")"
   ]
  },
  {
   "cell_type": "markdown",
   "metadata": {},
   "source": [
    "La función __open__  abrirá el fichero con el nombre indicado, en este caso el fichero __cuna.txt__. Si no tiene éxito, se lanzará una excepción. \n",
    "Si se ha podido abrir el fichero correctamente, la variable __fichero__ nos permitirá manipularlo."
   ]
  },
  {
   "cell_type": "markdown",
   "metadata": {},
   "source": [
    "Recordar las funciones de comunicación con el sistema operativo:"
   ]
  },
  {
   "cell_type": "code",
   "execution_count": 1,
   "metadata": {
    "collapsed": false
   },
   "outputs": [
    {
     "data": {
      "text/plain": [
       "'Y:\\\\Cunef 1617\\\\Material curso Python\\\\session_02'"
      ]
     },
     "execution_count": 1,
     "metadata": {},
     "output_type": "execute_result"
    }
   ],
   "source": [
    "%pwd    # directorio actual"
   ]
  },
  {
   "cell_type": "markdown",
   "metadata": {},
   "source": [
    "La operación más sencilla a realizar sobre un archivo es leer su contenido. Para procesarlo línea por línea, es posible hacerlo de la siguiente forma:"
   ]
  },
  {
   "cell_type": "code",
   "execution_count": 5,
   "metadata": {
    "collapsed": false
   },
   "outputs": [
    {
     "name": "stdout",
     "output_type": "stream",
     "text": [
      "Ya te vemos dormida. \n",
      "\n",
      "Tu barca es de madera por la orilla. \n",
      "\n",
      "Blanca princesa de nunca. \n",
      "\n",
      "Duerme por la noche oscura.\n",
      "\n",
      "Cuerpo y tierra de nieve. \n",
      "\n",
      "Duerme por el alba, duerme.\n",
      "\n",
      "Ya te alejas dormida. \n"
     ]
    }
   ],
   "source": [
    "fichero= open(\"../datos/cuna.txt\")\n",
    "for linea in fichero:\n",
    "    print(linea)"
   ]
  },
  {
   "cell_type": "markdown",
   "metadata": {},
   "source": [
    "Es posible, además, obtener todas las líneas del archivo utilizando una sola llamada a función __readlines__. \n"
   ]
  },
  {
   "cell_type": "code",
   "execution_count": 4,
   "metadata": {
    "collapsed": false
   },
   "outputs": [
    {
     "data": {
      "text/plain": [
       "['Ya te vemos dormida. \\n',\n",
       " 'Tu barca es de madera por la orilla. \\n',\n",
       " 'Blanca princesa de nunca. \\n',\n",
       " 'Duerme por la noche oscura.\\n',\n",
       " 'Cuerpo y tierra de nieve. \\n',\n",
       " 'Duerme por el alba, duerme.\\n',\n",
       " 'Ya te alejas dormida. ']"
      ]
     },
     "execution_count": 4,
     "metadata": {},
     "output_type": "execute_result"
    }
   ],
   "source": [
    "fichero = open(\"./datos/cuna.txt\")\n",
    "lineas = fichero.readlines()\n",
    "lineas"
   ]
  },
  {
   "cell_type": "markdown",
   "metadata": {},
   "source": [
    "En este caso, la variable líneas tendrá una lista de cadenas con todas las líneas del fichero.\n",
    "\n",
    "Es importante tener en cuenta que cuando se utilizan funciones como __archivo.readlines()__, se está cargando en memoria el fichero completo. Siempre que una instrucción cargue un fichero completo debe tenerse cuidado de utilizarla sólo con ficheros pequeños, ya que de otro modo podría agotarse la memoria."
   ]
  },
  {
   "cell_type": "code",
   "execution_count": 5,
   "metadata": {
    "collapsed": false
   },
   "outputs": [
    {
     "data": {
      "text/plain": [
       "'Ya te vemos dormida.'"
      ]
     },
     "execution_count": 5,
     "metadata": {},
     "output_type": "execute_result"
    }
   ],
   "source": [
    "lineas[0].rstrip()      # rstrip para eliminar saltos de línea"
   ]
  },
  {
   "cell_type": "markdown",
   "metadata": {},
   "source": [
    "## Open en modo escritura (w)"
   ]
  },
  {
   "cell_type": "markdown",
   "metadata": {},
   "source": [
    "Si queremos abrir un fichero en modo escritura, hay que indicarlo como segundo parámetro de la función __open__."
   ]
  },
  {
   "cell_type": "code",
   "execution_count": 6,
   "metadata": {
    "collapsed": false
   },
   "outputs": [],
   "source": [
    "arc_write = open('./datos/nuevo.txt', 'w')"
   ]
  },
  {
   "cell_type": "code",
   "execution_count": 7,
   "metadata": {
    "collapsed": false
   },
   "outputs": [],
   "source": [
    "# Copia en el nuevo fichero solo las líneas pares del fichero arc\n",
    "for i, line in enumerate(lineas):\n",
    "    if i%2 == 0:    \n",
    "        arc_write.write(str(i) + ' ' + line)\n",
    "    else:\n",
    "        pass"
   ]
  },
  {
   "cell_type": "markdown",
   "metadata": {},
   "source": [
    "Al terminar de trabajar con un fichero, es recomendable cerrarlo ya que lo que se haya escrito no se guardará realmente hasta no cerrar el fichero."
   ]
  },
  {
   "cell_type": "code",
   "execution_count": 8,
   "metadata": {
    "collapsed": true
   },
   "outputs": [],
   "source": [
    "arc_write.close()       # cerramos el fichero "
   ]
  },
  {
   "cell_type": "code",
   "execution_count": 22,
   "metadata": {
    "collapsed": false
   },
   "outputs": [
    {
     "data": {
      "text/plain": [
       "['0 Ya te vemos dormida. \\n',\n",
       " '2 Blanca princesa de nunca. \\n',\n",
       " '4 Cuerpo y tierra de nieve. \\n',\n",
       " '6 Ya te alejas dormida. ']"
      ]
     },
     "execution_count": 22,
     "metadata": {},
     "output_type": "execute_result"
    }
   ],
   "source": [
    "open('./datos/nuevo.txt').readlines()"
   ]
  },
  {
   "cell_type": "markdown",
   "metadata": {},
   "source": [
    "## Open en modo  escritura posicionándose al final del archivo (a)"
   ]
  },
  {
   "cell_type": "markdown",
   "metadata": {},
   "source": [
    "En este caso se crea el fichero, si no existe, pero en caso de que exista se posiciona al final, manteniendo el contenido original."
   ]
  },
  {
   "cell_type": "code",
   "execution_count": 23,
   "metadata": {
    "collapsed": false
   },
   "outputs": [
    {
     "data": {
      "text/plain": [
       "17"
      ]
     },
     "execution_count": 23,
     "metadata": {},
     "output_type": "execute_result"
    }
   ],
   "source": [
    "open('./datos/nuevo.txt', 'a').write('\\nEste es el final')"
   ]
  },
  {
   "cell_type": "code",
   "execution_count": 25,
   "metadata": {
    "collapsed": false
   },
   "outputs": [
    {
     "data": {
      "text/plain": [
       "['0 Ya te vemos dormida. \\n',\n",
       " '2 Blanca princesa de nunca. \\n',\n",
       " '4 Cuerpo y tierra de nieve. \\n',\n",
       " '6 Ya te alejas dormida. \\n',\n",
       " 'Este es el final']"
      ]
     },
     "execution_count": 25,
     "metadata": {},
     "output_type": "execute_result"
    }
   ],
   "source": [
    "open('./datos/nuevo.txt').readlines()"
   ]
  },
  {
   "cell_type": "markdown",
   "metadata": {},
   "source": [
    "------"
   ]
  },
  {
   "cell_type": "markdown",
   "metadata": {},
   "source": [
    "<img src=\"./images/bankinter.png\">\n",
    "\n",
    "<a rel=\"license\" href=\"http://creativecommons.org/licenses/by-nc-sa/4.0/\"><img alt=\"Licencia Creative Commons\" style=\"border-width:0\" src=\"https://i.creativecommons.org/l/by-nc-sa/4.0/88x31.png\" /></a><br />"
   ]
  }
 ],
 "metadata": {
  "kernelspec": {
   "display_name": "Python 3",
   "language": "python",
   "name": "python3"
  },
  "language_info": {
   "codemirror_mode": {
    "name": "ipython",
    "version": 3
   },
   "file_extension": ".py",
   "mimetype": "text/x-python",
   "name": "python",
   "nbconvert_exporter": "python",
   "pygments_lexer": "ipython3",
   "version": "3.5.1"
  }
 },
 "nbformat": 4,
 "nbformat_minor": 0
}
