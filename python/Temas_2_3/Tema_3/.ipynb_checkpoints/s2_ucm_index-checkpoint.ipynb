{
 "cells": [
  {
   "cell_type": "markdown",
   "metadata": {},
   "source": [
    "# Python para análisis de datos\n",
    "\n"
   ]
  },
  {
   "cell_type": "markdown",
   "metadata": {},
   "source": [
    "### Elementos básicos del lenguaje II\n",
    "* [Diccionarios](s2_ucm_diccionarios.html)([nb](s2_ucm_diccionarios.ipynb))\n",
    " ([Ejercicios 3](./ejercicios/ucm_diccionarios_01_ej.ipynb))\n",
    " ([Ejercicios 3 sol](./ejercicios/ucm_diccionarios_ej_solu.ipynb))\n",
    "  \n",
    "* [Estructuras e instrucciones  de control](s2_ucm_instrucciones.html) ([nb](s2_ucm_instrucciones.ipynb))\n",
    "([Ejercicios 4](./ejercicios/ucm_control_ej.ipynb))\n",
    "([Ejercicios 4 sol](./ejercicios/ucm_control_ej_sol.ipynb))\n",
    "* [Definición por comprensión](s2_ucm_comprehensions.html) ([nb](s2_ucm_comprehensions.ipynb)) ([Ejercicios 5](./ejercicios/ucm_comprehensions_ej.ipynb)) ([Ejercicios 5 sol](./ejercicios/ucm_comprehensions_ej_sol.ipynb))\n",
    "\n",
    "* [Ficheros](s2_ucm_files.html)([nb](s2_ucm_files.ipynb))  ([Ejercicios 6 html](./ejercicios/ucm_files_ej.html))\n",
    " ([Ejercicios 6](./ejercicios/ucm_files_ej.ipynb)) ([Ejercicios 6 sol](./ejercicios/ucm_files_ej_sol.ipynb))\n",
    "\n",
    "* [Funciones II](s2_ucm_funciones_01.html) ([nb](s2_ucm_funciones_01.ipynb))       \n",
    "\n"
   ]
  },
  {
   "cell_type": "markdown",
   "metadata": {},
   "source": [
    "__Material complementario__:\n",
    "\n",
    "* [Conjuntos](s2_ucm_sets.html)  ([nb](s2_ucm_sets.ipynb)) \n",
    "* [Documentar funciones](s2_ucm_funciones_doc.html) ([nb](s2_ucm_funciones_doc.ipynb))"
   ]
  },
  {
   "cell_type": "markdown",
   "metadata": {},
   "source": [
    "## Referencias\n",
    "\n",
    "* [The Python Tutorial](https://docs.python.org/3/tutorial/index.html)\n",
    "* [Tutorial de Python. Por Guido Van Rossum](http://docs.python.org.ar/tutorial/pdfs/TutorialPython3.pdf)\n",
    "* [Introducción a la programación con Python]( http://www.uji.es/bin/publ/edicions/ippython.pdf)\n",
    "-----"
   ]
  },
  {
   "cell_type": "markdown",
   "metadata": {},
   "source": [
    "<a rel=\"license\" href=\"http://creativecommons.org/licenses/by-nc-sa/4.0/\"><img alt=\"Licencia Creative Commons\" style=\"border-width:0\" src=\"https://i.creativecommons.org/l/by-nc-sa/4.0/88x31.png\" /></a><br />"
   ]
  }
 ],
 "metadata": {
  "kernelspec": {
   "display_name": "Python 3",
   "language": "python",
   "name": "python3"
  },
  "language_info": {
   "codemirror_mode": {
    "name": "ipython",
    "version": 3
   },
   "file_extension": ".py",
   "mimetype": "text/x-python",
   "name": "python",
   "nbconvert_exporter": "python",
   "pygments_lexer": "ipython3",
   "version": "3.5.1"
  }
 },
 "nbformat": 4,
 "nbformat_minor": 0
}
