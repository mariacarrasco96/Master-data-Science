{
 "cells": [
  {
   "cell_type": "markdown",
   "metadata": {},
   "source": [
    "## Elementos básicos del lenguaje II"
   ]
  },
  {
   "cell_type": "markdown",
   "metadata": {},
   "source": [
    "\n",
    "\n",
    "### Indice de contenidos"
   ]
  },
  {
   "cell_type": "markdown",
   "metadata": {},
   "source": [
    "\n",
    "* [Módulos e importación](ipython_sintaxis_00.html) \n",
    "* [Conjuntos](ipython_sets_01.html) \n",
    "\n",
    "* [Diccionarios](ipython_diccionarios_01.html)\n",
    " ([Ejercicios](./ejercicios/ipython_diccionarios_01_ej.ipynb))([Soluciones](./ejercicios/ipython_diccionarios_01_ej_solu.ipynb))\n",
    "  \n",
    "* [Estructuras de control](ipython_sintaxis_02.html) \n",
    "([Ejercicios](./ejercicios/ipython_sintaxis_02_ej.ipynb))([Soluciones](./ejercicios/ipython_sintaxis_02_ej_sol.ipynb)) \n",
    "* [Definición por comprensión](ipython_comprehensions_01.html) ([Ejercicios](./ejercicios/ipython_comprehensions_01_ej.ipynb))([Soluciones](./ejercicios/ipython_comprehensions_01_ej_sol.ipynb))\n",
    "\n",
    "* [Ficheros](ipython_files_01.html)\n",
    " ([Ejercicios](./ejercicios/ipython_files_01_ej.ipynb))([Soluciones](./ejercicios/ipython_files_01_ej_sol.ipynb))\n",
    "\n",
    "* [Funciones II](ipython_funciones_01.html)       \n",
    "\n",
    "-------\n",
    "\n",
    "* [Manejo de excepciones](ipython_exceptions_01.html)\n",
    "* [Funciones III](ipython_funciones_02.html) \n"
   ]
  },
  {
   "cell_type": "markdown",
   "metadata": {},
   "source": [
    "## Referencias\n",
    "\n",
    "* [The Python Tutorial](https://docs.python.org/3/tutorial/index.html)\n",
    "\n",
    "* [Python for Data Analysis](http://shop.oreilly.com/product/0636920023784.do)"
   ]
  },
  {
   "cell_type": "markdown",
   "metadata": {},
   "source": [
    "----"
   ]
  },
  {
   "cell_type": "markdown",
   "metadata": {},
   "source": [
    "<img src=\"../iconos/Cute-Ball-Go-icon.png\" alt=\"Smiley face\" height=\"42\" width=\"42\" align: \"right\">"
   ]
  }
 ],
 "metadata": {
  "kernelspec": {
   "display_name": "Python 3",
   "language": "python",
   "name": "python3"
  },
  "language_info": {
   "codemirror_mode": {
    "name": "ipython",
    "version": 3
   },
   "file_extension": ".py",
   "mimetype": "text/x-python",
   "name": "python",
   "nbconvert_exporter": "python",
   "pygments_lexer": "ipython3",
   "version": "3.5.1"
  }
 },
 "nbformat": 4,
 "nbformat_minor": 0
}
