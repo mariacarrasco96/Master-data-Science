{
 "cells": [
  {
   "cell_type": "markdown",
   "metadata": {},
   "source": [
    "# Python para análisis de datos"
   ]
  },
  {
   "cell_type": "markdown",
   "metadata": {},
   "source": [
    "# Table of Contents\n",
    "* [Python para análisis de datos](#Python-para-análisis-de-datos)\n",
    "\t* [Introducción](#Introducción)\n",
    "\t\t* [¿Qué es Python?](#¿Qué-es-Python?)\n",
    "\t* [Características del lenguaje](#Características-del-lenguaje)\n",
    "\t* [Librerías básicas para el tratamiento de datos](#Librerías-básicas-para-el-tratamiento-de-datos)\n",
    "\t\t* [NumPy (Numerical Python)](#NumPy-%28Numerical-Python%29)\n",
    "\t\t* [pandas (panel data sets)](#pandas-%28panel-data-sets%29)\n",
    "\t\t* [SciPy](#SciPy)\n"
   ]
  },
  {
   "cell_type": "markdown",
   "metadata": {
    "slideshow": {
     "slide_type": "fragment"
    }
   },
   "source": [
    "## Introducción"
   ]
  },
  {
   "cell_type": "markdown",
   "metadata": {},
   "source": [
    "Los proyectos de Big Data conllevan la ejecución secuencial de una serie de tareas.\n",
    "\n",
    "* __Interactuar con el mundo exterior:__ Será necesario leer y escribir datos en diferentes formatos y BBDD.\n",
    "\n",
    "* __Preparación:__ Se trata de la limpieza, transformación, de datos no estructurados para conseguir datos estructurados y limpios. \n",
    "\n",
    "* __Transformación:__ Aplicar operaciones matemáticas y/o estadísticas a ciertos conjuntos de datos para obtener como resultado nuevos datos (por ejemplo operaciones de agregación).\n",
    "\n",
    "* __Modelado y procesamiento:__ Se trata de conectar los datos con modelos estadísticos, aprendizaje, etc...\n",
    "\n",
    "* __Presentación:__ Generación de informes textuales, gráficos."
   ]
  },
  {
   "cell_type": "markdown",
   "metadata": {
    "slideshow": {
     "slide_type": "subslide"
    }
   },
   "source": [
    "### ¿Qué es Python? "
   ]
  },
  {
   "cell_type": "markdown",
   "metadata": {},
   "source": [
    "* Python es una herramienta poderosa en el análisis numérico, el cual es ampliamente utilizado en ciencia e ingeniería.\n",
    "* Aunque desconocido aún por algunos, hoy en día es uno de los lenguajes más populares junto con Ruby, Perl y otros.\n",
    "* Se ha hecho muy popular entre otras razones por la cantidad de librerías que contiene, tipos de datos y funciones incorporadas en el propio lenguaje, que ayudan a realizar muchas tareas habituales sin necesidad de tener que programarlas desde cero.\n",
    "* El coste de aprendizaje es muy bajo.\n",
    "* Creado por Guido van Rossum en 1991."
   ]
  },
  {
   "cell_type": "markdown",
   "metadata": {},
   "source": [
    "## Características del lenguaje"
   ]
  },
  {
   "cell_type": "markdown",
   "metadata": {},
   "source": [
    "__Lenguaje interpretado__: Interpretado quiere decir que no se debe compilar el código antes de su ejecución.\n",
    "\n",
    "* Esto implica que la mayor parte del código Python se ejecuta más lento que el código compilado de C++ o Java.\n",
    "\n",
    "* En casos donde se necesita mucha rapidez de proceso es preferible asumir el coste en tiempo de programación en un lenguaje de bajo nivel como C++ para conseguir mayor rapidez de proceso.\n",
    "\n",
    "__Multiparadigma__: Es un lenguaje imperativo y orientado a objetos. También posee características de los lenguajes funcionales.\n",
    "\n",
    "__Multiplataforma__: Python es un lenguaje disponible en los principales Sistemas Operativos (Windows, Linux y Mac). El lenguaje permite realizar cualquier tipo de programa, desde aplicaciones Windows a servidores de red o incluso, páginas web.\n",
    "\n",
    "__Tipado dinámico__: El tipo de los datos es inferido en tiempo de ejecución. Esta es una característica que diferencia a Python de la mayoría de los lenguajes compilados."
   ]
  },
  {
   "cell_type": "markdown",
   "metadata": {},
   "source": [
    "## Librerías básicas para el tratamiento de datos"
   ]
  },
  {
   "cell_type": "markdown",
   "metadata": {},
   "source": [
    "Python tiene disponibles un gran número de librerías y herramientas para el tratamiento de datos.\n",
    "\n",
    "Estas librerías tienen que ser importadas (hacerlas accesibles) en el momento en que van a ser utilizadas.\n",
    "\n",
    "Entre las librerías denominadas científicas tenemos:\n",
    "\n",
    "----"
   ]
  },
  {
   "cell_type": "markdown",
   "metadata": {},
   "source": [
    "### NumPy (Numerical Python)"
   ]
  },
  {
   "cell_type": "markdown",
   "metadata": {},
   "source": [
    "* Es el pilar fundamental de todo el ecosistema numérico en Python.\n",
    "* Proporciona un objeto de tipo array multidimensional: ndarray\n",
    "* ndarray permite el almacenamiento de datos homogéneos y heterogéneos.\n",
    "* Proporciona funciones y métodos para operar eficientemente con este objeto.\n",
    "* Proporciona herramientas para la escritura y lectura de datos a disco.\n",
    "* Además: operaciones de álgebra lineal, números aleatorios, funciones financieras, etc.\n",
    "\n",
    "\n",
    "__Desventajas__:\n",
    "* Pensado para conjuntos de datos de tamaño fijo\n",
    "* No optimizado para datos heterogéneos (números, texto, fechas)\n",
    "* Manejo de datos textuales engorroso\n",
    "* Solución: pandas\n",
    "\n",
    "-----"
   ]
  },
  {
   "cell_type": "markdown",
   "metadata": {},
   "source": [
    "### pandas (panel data sets)"
   ]
  },
  {
   "cell_type": "markdown",
   "metadata": {},
   "source": [
    "* Se trata de una librería construida sobre NumPy.\n",
    "* Proporciona estructuras de datos de alto nivel y optimizada para análisis de datos: DataFrame.\n",
    "* Se trata de una estructura que permite el almacenamiento de datos que en su origen se representan de forma tabular (como por ejemplo: hojas de cálculo).\n",
    "* Incorpora herramientas para leer y escribir datos en diversos formatos: CSV y texto, Excel, bases de datos SQL.\n",
    "* Manejo de series temporales.\n",
    "* Está integrada con otras librerías:\n",
    "    * matplotlib : para la representación de los datos de forma gráfica\n",
    "    * PyTables : para la recuperación y almacenamiento de datos\n",
    "    \n",
    "[Tutorial en español](https://pybonacci.wordpress.com/2014/05/30/pandas-i/)\n",
    "\n",
    "------"
   ]
  },
  {
   "cell_type": "markdown",
   "metadata": {},
   "source": [
    "### SciPy"
   ]
  },
  {
   "cell_type": "markdown",
   "metadata": {},
   "source": [
    "* Colección de sublibrerías y funciones que implementan fucionalidad estándard útil en ciencias y finanzas.\n",
    "* Interpolación e integración numérica.\n",
    "\n",
    "-----"
   ]
  },
  {
   "cell_type": "markdown",
   "metadata": {},
   "source": [
    "<img src=\"../iconos/Cute-Ball-Go-icon.png\" alt=\"Smiley face\" height=\"42\" width=\"42\" align: \"right\">"
   ]
  }
 ],
 "metadata": {
  "kernelspec": {
   "display_name": "Python 2",
   "language": "python",
   "name": "python2"
  },
  "language_info": {
   "codemirror_mode": {
    "name": "ipython",
    "version": 2
   },
   "file_extension": ".py",
   "mimetype": "text/x-python",
   "name": "python",
   "nbconvert_exporter": "python",
   "pygments_lexer": "ipython2",
   "version": "2.7.11"
  }
 },
 "nbformat": 4,
 "nbformat_minor": 0
}
