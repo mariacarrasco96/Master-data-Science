{
 "cells": [
  {
   "cell_type": "markdown",
   "metadata": {},
   "source": [
    "# Python para análisis de datos\n",
    "\n",
    "## Indice de contenidos (18/12/2015)"
   ]
  },
  {
   "cell_type": "markdown",
   "metadata": {},
   "source": [
    "1. [Introducción](ipython_intro1.html \"Intro\") ([nb](ipython_intro1.ipynb \"Intro\")) \n",
    "    * [Entornos de desarrollo](ipython_intro2.html \"Entornos\") ([nb](ipython_intro2.ipynb \"Entorno\"))    \n",
    "    * [El notebook de IPython](ipython_notebook.html)  ([nb](ipython_notebook.ipynb))     \n",
    "\n",
    "1. [Elementos básicos del lenguaje](ipython_240715.html) ([nb](ipython_240715.ipynb)) \n",
    "   "
   ]
  },
  {
   "cell_type": "markdown",
   "metadata": {},
   "source": [
    "## Referencias\n",
    "\n",
    "* https://librosweb.es/libro/algoritmos_python/\n",
    "\n",
    "* [Python for Data Analysis](http://shop.oreilly.com/product/0636920023784.do)"
   ]
  },
  {
   "cell_type": "markdown",
   "metadata": {},
   "source": [
    "----"
   ]
  },
  {
   "cell_type": "markdown",
   "metadata": {},
   "source": [
    "<img src=\"../iconos/Cute-Ball-Go-icon.png\" alt=\"Smiley face\" height=\"42\" width=\"42\" align: \"right\">"
   ]
  }
 ],
 "metadata": {
  "kernelspec": {
   "display_name": "Python 2",
   "language": "python",
   "name": "python2"
  },
  "language_info": {
   "codemirror_mode": {
    "name": "ipython",
    "version": 2
   },
   "file_extension": ".py",
   "mimetype": "text/x-python",
   "name": "python",
   "nbconvert_exporter": "python",
   "pygments_lexer": "ipython2",
   "version": "2.7.11"
  }
 },
 "nbformat": 4,
 "nbformat_minor": 0
}
