{
 "cells": [
  {
   "cell_type": "markdown",
   "metadata": {},
   "source": [
    "## Definición por comprensión\n",
    "\n",
    "\n",
    "Una lista por comprensión (en inglés: list comprehension) es una expresión compacta __para definir listas, conjuntos y diccionarios__ en Python.\n",
    "* Se trata de definir cada uno de los elementos  sin tener que nombrar cada uno de ellos.\n",
    "\n",
    "* La forma general es:\n",
    "```\n",
    "[exp for val in <coleccion> if <condicion>]\n",
    "```\n",
    "\n",
    "__Ejemplos__:"
   ]
  },
  {
   "cell_type": "code",
   "execution_count": 1,
   "metadata": {
    "collapsed": false
   },
   "outputs": [
    {
     "data": {
      "text/plain": [
       "[1, 3, 5]"
      ]
     },
     "execution_count": 1,
     "metadata": {},
     "output_type": "execute_result"
    }
   ],
   "source": [
    "# m es la lista de las primeras componentes de las tuplas en la lista [(1,2), (3,4), (5,6)]\n",
    "m = [ x for x,y in [(1,2), (3,4), (5,6)] ]\n",
    "m"
   ]
  },
  {
   "cell_type": "code",
   "execution_count": 2,
   "metadata": {
    "collapsed": false
   },
   "outputs": [
    {
     "data": {
      "text/plain": [
       "[1, 3, 5]"
      ]
     },
     "execution_count": 2,
     "metadata": {},
     "output_type": "execute_result"
    }
   ],
   "source": [
    "# otra forma de definir m.\n",
    "# f es cada una de las tuplas en la lista [(1,2), (3,4), (5,6)]\n",
    "m = [ f[0] for f in [(1,2), (3,4), (5,6)] ]\n",
    "m"
   ]
  },
  {
   "cell_type": "code",
   "execution_count": 3,
   "metadata": {
    "collapsed": false
   },
   "outputs": [
    {
     "data": {
      "text/plain": [
       "[16, 36]"
      ]
     },
     "execution_count": 3,
     "metadata": {},
     "output_type": "execute_result"
    }
   ],
   "source": [
    "# lista_pow contiene el cuadrado de las segundas componentes de la lista \n",
    "#    en el caso de que la primera componente sea mayor que 2\n",
    "\n",
    "lista_pow =   [ y**2   for x,y in [(1,2), (3,4), (5,6)]   if x > 2  ]\n",
    "lista_pow"
   ]
  },
  {
   "cell_type": "code",
   "execution_count": 4,
   "metadata": {
    "collapsed": false
   },
   "outputs": [
    {
     "data": {
      "text/plain": [
       "['A', 'B', 'G', 'H', 'N']"
      ]
     },
     "execution_count": 4,
     "metadata": {},
     "output_type": "execute_result"
    }
   ],
   "source": [
    "letras = ['a', 'b', 'g', 'h', 'n' ]\n",
    "# construimos la lista `mayusculas` a partir de la lista `letras`\n",
    "mayusculas = [a.upper() for a in letras ]\n",
    "# la función upper comvierte a mayúscula cada una de las letras\n",
    "mayusculas"
   ]
  },
  {
   "cell_type": "markdown",
   "metadata": {},
   "source": [
    "Para el caso de los diccionario tenemos que indicar clave y valor:"
   ]
  },
  {
   "cell_type": "code",
   "execution_count": 5,
   "metadata": {
    "collapsed": false
   },
   "outputs": [
    {
     "data": {
      "text/plain": [
       "{1: 'A', 2: 'B', 3: 'G', 4: 'H', 5: 'N'}"
      ]
     },
     "execution_count": 5,
     "metadata": {},
     "output_type": "execute_result"
    }
   ],
   "source": [
    "dic_mayusculas = { i+1 : a.upper() for i,a in enumerate(letras) }\n",
    "dic_mayusculas"
   ]
  },
  {
   "cell_type": "markdown",
   "metadata": {},
   "source": [
    "------"
   ]
  }
 ],
 "metadata": {
  "kernelspec": {
   "display_name": "Python 3",
   "language": "python",
   "name": "python3"
  },
  "language_info": {
   "codemirror_mode": {
    "name": "ipython",
    "version": 3
   },
   "file_extension": ".py",
   "mimetype": "text/x-python",
   "name": "python",
   "nbconvert_exporter": "python",
   "pygments_lexer": "ipython3",
   "version": "3.6.0"
  },
  "toc": {
   "colors": {
    "hover_highlight": "#DAA520",
    "running_highlight": "#FF0000",
    "selected_highlight": "#FFD700"
   },
   "moveMenuLeft": true,
   "nav_menu": {
    "height": "31px",
    "width": "252px"
   },
   "navigate_menu": true,
   "number_sections": true,
   "sideBar": true,
   "threshold": 4,
   "toc_cell": false,
   "toc_section_display": "block",
   "toc_window_display": false,
   "widenNotebook": false
  }
 },
 "nbformat": 4,
 "nbformat_minor": 0
}
