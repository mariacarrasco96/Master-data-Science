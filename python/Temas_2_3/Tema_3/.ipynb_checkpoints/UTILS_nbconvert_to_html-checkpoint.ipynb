{
 "cells": [
  {
   "cell_type": "markdown",
   "metadata": {},
   "source": [
    "# Table of Contents\n",
    "* [Para convertir todos los ficheros a html con una css](#Para-convertir-todos-los-ficheros-a-html-con-una-css)\n",
    "* [Convertir solo un fichero (manual)](#Convertir-solo-un-fichero-%28manual%29)\n"
   ]
  },
  {
   "cell_type": "markdown",
   "metadata": {},
   "source": [
    "# Para convertir todos los ficheros a html con una css"
   ]
  },
  {
   "cell_type": "markdown",
   "metadata": {},
   "source": [
    "* El fichero custom.css tiene que estar en la carpeta de trabajo."
   ]
  },
  {
   "cell_type": "code",
   "execution_count": 1,
   "metadata": {
    "collapsed": false
   },
   "outputs": [
    {
     "data": {
      "text/plain": [
       "'Y:\\\\Docencia\\\\Docencia1516\\\\FormacionContinua\\\\Python(0466-2)\\\\session_02'"
      ]
     },
     "execution_count": 1,
     "metadata": {},
     "output_type": "execute_result"
    }
   ],
   "source": [
    "pwd"
   ]
  },
  {
   "cell_type": "markdown",
   "metadata": {},
   "source": [
    "* Construir la ruta donde se encuentra la css que queremos aplicar: "
   ]
  },
  {
   "cell_type": "code",
   "execution_count": 2,
   "metadata": {
    "collapsed": false
   },
   "outputs": [
    {
     "data": {
      "text/plain": [
       "(['C:\\\\Users\\\\Yolanda\\\\.ipython\\\\profile_cfc'],\n",
       " 'C:\\\\Users\\\\Yolanda\\\\.ipython\\\\profile_cfc\\\\static\\\\custom\\\\custom.css')"
      ]
     },
     "execution_count": 2,
     "metadata": {},
     "output_type": "execute_result"
    }
   ],
   "source": [
    "dir = !ipython locate profile cfc    #localizar el perfil que nos gusta (cfc)\n",
    "import os\n",
    "csspath = dir[0] + '\\\\static\\\\custom\\\\custom.css'   #construir la ruta donde está la css\n",
    "csspath\n",
    "dir, csspath"
   ]
  },
  {
   "cell_type": "markdown",
   "metadata": {},
   "source": [
    "* copiamos la css al directorio de trabajo "
   ]
  },
  {
   "cell_type": "code",
   "execution_count": 3,
   "metadata": {
    "collapsed": false
   },
   "outputs": [
    {
     "name": "stdout",
     "output_type": "stream",
     "text": [
      "        1 archivo(s) copiado(s).\n"
     ]
    }
   ],
   "source": [
    "!copy {csspath} custom.css"
   ]
  },
  {
   "cell_type": "markdown",
   "metadata": {},
   "source": [
    "* Crear una lista de documentos a convertir"
   ]
  },
  {
   "cell_type": "code",
   "execution_count": 4,
   "metadata": {
    "collapsed": false
   },
   "outputs": [],
   "source": [
    "import os\n",
    "mydir = os.getcwd()\n",
    "a = os.walk(mydir)\n",
    "from os import listdir\n",
    "from os.path import isfile, join\n",
    "onlyfiles = [ f for f in listdir(mydir) if isfile(join(mydir,f)) ]\n",
    "    "
   ]
  },
  {
   "cell_type": "code",
   "execution_count": 5,
   "metadata": {
    "collapsed": false
   },
   "outputs": [
    {
     "data": {
      "text/plain": [
       "['s2_ucm_comprehensions.ipynb',\n",
       " 's2_ucm_diccionarios.ipynb',\n",
       " 's2_ucm_files.ipynb',\n",
       " 's2_ucm_funciones_01 - copia.ipynb',\n",
       " 's2_ucm_funciones_01.ipynb',\n",
       " 's2_ucm_funciones_doc.ipynb',\n",
       " 's2_ucm_index.ipynb',\n",
       " 's2_ucm_instrucciones.ipynb',\n",
       " 's2_ucm_modulos.ipynb',\n",
       " 's2_ucm_sets.ipynb']"
      ]
     },
     "execution_count": 5,
     "metadata": {},
     "output_type": "execute_result"
    }
   ],
   "source": [
    "documents= []\n",
    "for i in onlyfiles:\n",
    "    ext = i[-6:] \n",
    "    if ext == '.ipynb' and i != 'UTILS_nbconvert_to_html.ipynb':\n",
    "        documents.append(i)\n",
    "documents    "
   ]
  },
  {
   "cell_type": "markdown",
   "metadata": {},
   "source": [
    "Luego basta con escribir esta instrucción y se aplicará directamente el formato de la css"
   ]
  },
  {
   "cell_type": "code",
   "execution_count": 6,
   "metadata": {
    "collapsed": false
   },
   "outputs": [
    {
     "name": "stderr",
     "output_type": "stream",
     "text": [
      "[NbConvertApp] WARNING | pattern '#' matched no files\n",
      "[NbConvertApp] WARNING | pattern 'llamar' matched no files\n",
      "[NbConvertApp] WARNING | pattern 'a' matched no files\n",
      "[NbConvertApp] WARNING | pattern 'nbconvert' matched no files\n",
      "[NbConvertApp] Converting notebook s2_ucm_comprehensions.ipynb to html\n",
      "[NbConvertApp] Writing 196861 bytes to s2_ucm_comprehensions.html\n",
      "[NbConvertApp] WARNING | pattern '#' matched no files\n",
      "[NbConvertApp] WARNING | pattern 'llamar' matched no files\n",
      "[NbConvertApp] WARNING | pattern 'a' matched no files\n",
      "[NbConvertApp] WARNING | pattern 'nbconvert' matched no files\n",
      "[NbConvertApp] Converting notebook s2_ucm_diccionarios.ipynb to html\n",
      "[NbConvertApp] Writing 219092 bytes to s2_ucm_diccionarios.html\n",
      "[NbConvertApp] WARNING | pattern '#' matched no files\n",
      "[NbConvertApp] WARNING | pattern 'llamar' matched no files\n",
      "[NbConvertApp] WARNING | pattern 'a' matched no files\n",
      "[NbConvertApp] WARNING | pattern 'nbconvert' matched no files\n",
      "[NbConvertApp] Converting notebook s2_ucm_files.ipynb to html\n",
      "[NbConvertApp] Writing 204801 bytes to s2_ucm_files.html\n"
     ]
    },
    {
     "name": "stdout",
     "output_type": "stream",
     "text": [
      "This application is used to convert notebook files (*.ipynb) to various other\n",
      "formats.\n",
      "\n",
      "WARNING: THE COMMANDLINE INTERFACE MAY CHANGE IN FUTURE RELEASES.\n",
      "\n",
      "Options\n",
      "\n",
      "-------\n",
      "\n",
      "\n",
      "\n",
      "Arguments that take values are actually convenience aliases to full\n",
      "Configurables, whose aliases are listed on the help line. For more information\n",
      "on full configurables, see '--help-all'.\n",
      "\n",
      "\n",
      "--inplace\n",
      "\n",
      "    Run nbconvert in place, overwriting the existing notebook (only \n",
      "    relevant when converting to notebook format)\n",
      "\n",
      "--stdout\n",
      "\n",
      "    Write notebook output to stdout instead of files.\n",
      "\n",
      "-y\n",
      "\n",
      "    Answer yes to any questions instead of prompting.\n",
      "\n",
      "--debug\n",
      "\n",
      "    set log level to logging.DEBUG (maximize logging output)\n",
      "\n",
      "--allow-errors\n",
      "\n",
      "    Continue notebook execution even if one of the cells throws an error and include the error message in the cell output (the default behaviour is to abort conversion). This flag is only relevant if '--execute' was specified, too.\n",
      "\n",
      "--generate-config\n",
      "\n",
      "    generate default config file\n",
      "\n",
      "--execute\n",
      "\n",
      "    Execute the notebook prior to export.\n",
      "--reveal-prefix=<Unicode> (SlidesExporter.reveal_url_prefix)\n",
      "\n",
      "    Default: ''\n",
      "\n",
      "    The URL prefix for reveal.js. This can be a a relative URL for a local copy\n",
      "\n",
      "    of reveal.js, or point to a CDN.\n",
      "\n",
      "    For speaker notes to work, a local reveal.js prefix must be used.\n",
      "\n",
      "--to=<CaselessStrEnum> (NbConvertApp.export_format)\n",
      "\n",
      "    Default: 'html'\n",
      "\n",
      "    Choices: ['custom', 'html', 'latex', 'markdown', 'notebook', 'pdf', 'python', 'rst', 'script', 'slides']\n",
      "\n",
      "    The export format to be used.\n",
      "\n",
      "--writer=<DottedObjectName> (NbConvertApp.writer_class)\n",
      "\n",
      "    Default: 'FilesWriter'\n",
      "\n",
      "    Writer class used to write the  results of the conversion\n",
      "\n",
      "--post=<DottedOrNone> (NbConvertApp.postprocessor_class)\n",
      "\n",
      "    Default: ''\n",
      "\n",
      "    PostProcessor class used to write the  results of the conversion\n",
      "\n",
      "--config=<Unicode> (JupyterApp.config_file)\n",
      "\n",
      "    Default: ''\n",
      "\n",
      "    Full path of a config file.\n",
      "\n",
      "--template=<Unicode> (TemplateExporter.template_file)\n",
      "\n",
      "    Default: ''\n",
      "\n",
      "    Name of the template file to use\n",
      "\n",
      "--log-level=<Enum> (Application.log_level)\n",
      "\n",
      "    Default: 30\n",
      "\n",
      "    Choices: (0, 10, 20, 30, 40, 50, 'DEBUG', 'INFO', 'WARN', 'ERROR', 'CRITICAL')\n",
      "\n",
      "    Set the log level by value or name.\n",
      "\n",
      "--nbformat=<Enum> (NotebookExporter.nbformat_version)\n",
      "\n",
      "    Default: 4\n",
      "\n",
      "    Choices: [1, 2, 3, 4]\n",
      "\n",
      "    The nbformat version to write. Use this to downgrade notebooks.\n",
      "\n",
      "--output=<Unicode> (NbConvertApp.output_base)\n",
      "\n",
      "    Default: ''\n",
      "\n",
      "    overwrite base name use for output files. can only be used when converting\n",
      "\n",
      "    one notebook at a time.\n",
      "\n",
      "To see all available configurables, use `--help-all`\n",
      "\n",
      "Examples\n",
      "--------\n",
      "\n",
      "    The simplest way to use nbconvert is\n",
      "    \n",
      "    > jupyter nbconvert mynotebook.ipynb\n",
      "    \n",
      "    which will convert mynotebook.ipynb to the default format (probably HTML).\n",
      "    \n",
      "    You can specify the export format with `--to`.\n",
      "    Options include ['custom', 'html', 'latex', 'markdown', 'notebook', 'pdf', 'python', 'rst', 'script', 'slides']\n",
      "    \n",
      "    > jupyter nbconvert --to latex mynotebook.ipynb\n",
      "    \n",
      "    Both HTML and LaTeX support multiple output templates. LaTeX includes\n",
      "    'base', 'article' and 'report'.  HTML includes 'basic' and 'full'. You\n",
      "    can specify the flavor of the format used.\n",
      "    \n",
      "    > jupyter nbconvert --to html --template basic mynotebook.ipynb\n",
      "    \n",
      "    You can also pipe the output to stdout, rather than a file\n",
      "    \n",
      "    > jupyter nbconvert mynotebook.ipynb --stdout\n",
      "    \n",
      "    PDF is generated via latex\n",
      "    \n",
      "    > jupyter nbconvert mynotebook.ipynb --to pdf\n",
      "    \n",
      "    You can get (and serve) a Reveal.js-powered slideshow\n",
      "    \n",
      "    > jupyter nbconvert myslides.ipynb --to slides --post serve\n",
      "    \n",
      "    Multiple notebooks can be given at the command line in a couple of \n",
      "    different ways:\n",
      "    \n",
      "    > jupyter nbconvert notebook*.ipynb\n",
      "    > jupyter nbconvert notebook1.ipynb notebook2.ipynb\n",
      "    \n",
      "    or you can specify the notebooks list in a config file, containing::\n",
      "    \n",
      "        c.NbConvertApp.notebooks = [\"my_notebook.ipynb\"]\n",
      "    \n",
      "    > jupyter nbconvert --config mycfg.py\n",
      "\n"
     ]
    },
    {
     "name": "stderr",
     "output_type": "stream",
     "text": [
      "[NbConvertApp] CRITICAL | Bad config encountered during initialization:\n",
      "[NbConvertApp] CRITICAL | Invalid argument: '-'\n",
      "[NbConvertApp] WARNING | pattern '#' matched no files\n",
      "[NbConvertApp] WARNING | pattern 'llamar' matched no files\n",
      "[NbConvertApp] WARNING | pattern 'a' matched no files\n",
      "[NbConvertApp] WARNING | pattern 'nbconvert' matched no files\n",
      "[NbConvertApp] Converting notebook s2_ucm_funciones_01.ipynb to html\n",
      "[NbConvertApp] Writing 214684 bytes to s2_ucm_funciones_01.html\n",
      "[NbConvertApp] WARNING | pattern '#' matched no files\n",
      "[NbConvertApp] WARNING | pattern 'llamar' matched no files\n",
      "[NbConvertApp] WARNING | pattern 'a' matched no files\n",
      "[NbConvertApp] WARNING | pattern 'nbconvert' matched no files\n",
      "[NbConvertApp] Converting notebook s2_ucm_funciones_doc.ipynb to html\n",
      "[NbConvertApp] Writing 206011 bytes to s2_ucm_funciones_doc.html\n",
      "[NbConvertApp] WARNING | pattern '#' matched no files\n",
      "[NbConvertApp] WARNING | pattern 'llamar' matched no files\n",
      "[NbConvertApp] WARNING | pattern 'a' matched no files\n",
      "[NbConvertApp] WARNING | pattern 'nbconvert' matched no files\n",
      "[NbConvertApp] Converting notebook s2_ucm_index.ipynb to html\n",
      "[NbConvertApp] Writing 193464 bytes to s2_ucm_index.html\n",
      "[NbConvertApp] WARNING | pattern '#' matched no files\n",
      "[NbConvertApp] WARNING | pattern 'llamar' matched no files\n",
      "[NbConvertApp] WARNING | pattern 'a' matched no files\n",
      "[NbConvertApp] WARNING | pattern 'nbconvert' matched no files\n",
      "[NbConvertApp] Converting notebook s2_ucm_instrucciones.ipynb to html\n",
      "[NbConvertApp] Writing 219680 bytes to s2_ucm_instrucciones.html\n",
      "[NbConvertApp] WARNING | pattern '#' matched no files\n",
      "[NbConvertApp] WARNING | pattern 'llamar' matched no files\n",
      "[NbConvertApp] WARNING | pattern 'a' matched no files\n",
      "[NbConvertApp] WARNING | pattern 'nbconvert' matched no files\n",
      "[NbConvertApp] Converting notebook s2_ucm_modulos.ipynb to html\n",
      "[NbConvertApp] Writing 197907 bytes to s2_ucm_modulos.html\n",
      "[NbConvertApp] WARNING | pattern '#' matched no files\n",
      "[NbConvertApp] WARNING | pattern 'llamar' matched no files\n",
      "[NbConvertApp] WARNING | pattern 'a' matched no files\n",
      "[NbConvertApp] WARNING | pattern 'nbconvert' matched no files\n",
      "[NbConvertApp] Converting notebook s2_ucm_sets.ipynb to html\n",
      "[NbConvertApp] Writing 196302 bytes to s2_ucm_sets.html\n"
     ]
    }
   ],
   "source": [
    "for i in documents:\n",
    "    !ipython nbconvert --to html $i   # llamar a nbconvert   \n"
   ]
  },
  {
   "cell_type": "code",
   "execution_count": 19,
   "metadata": {
    "collapsed": false
   },
   "outputs": [
    {
     "name": "stdout",
     "output_type": "stream",
     "text": [
      "http://127.0.0.1:8888/notebooks/Caso1.html\n",
      "http://127.0.0.1:8888/notebooks/Caso1Sol.html\n",
      "http://127.0.0.1:8888/notebooks/Caso2-mongo-Copy1.html\n",
      "http://127.0.0.1:8888/notebooks/Caso2-mongo.html\n",
      "http://127.0.0.1:8888/notebooks/Caso2.html\n",
      "http://127.0.0.1:8888/notebooks/Caso2Sol.html\n",
      "http://127.0.0.1:8888/notebooks/Caso3.html\n",
      "http://127.0.0.1:8888/notebooks/Caso3Sol.html\n",
      "http://127.0.0.1:8888/notebooks/ipython_110915_web.html\n",
      "http://127.0.0.1:8888/notebooks/ipython_aggregation_01.html\n",
      "http://127.0.0.1:8888/notebooks/ipython_cleaning_01.html\n",
      "http://127.0.0.1:8888/notebooks/ipython_index.html\n",
      "http://127.0.0.1:8888/notebooks/ipython_index_web.html\n",
      "http://127.0.0.1:8888/notebooks/ipython_load_data_02.html\n",
      "http://127.0.0.1:8888/notebooks/ipython_load_data_mongo-Copy1.html\n",
      "http://127.0.0.1:8888/notebooks/ipython_load_data_mongo.html\n",
      "http://127.0.0.1:8888/notebooks/ipython_matplot_01.html\n",
      "http://127.0.0.1:8888/notebooks/ipython_matplot_02.html\n",
      "http://127.0.0.1:8888/notebooks/ipython_pandas.html\n",
      "http://127.0.0.1:8888/notebooks/ipython_pandas_01.html\n",
      "http://127.0.0.1:8888/notebooks/ipython_pandas_02.html\n",
      "http://127.0.0.1:8888/notebooks/ipython_pandas_strings_ER.html\n",
      "http://127.0.0.1:8888/notebooks/ipython_pandas_web.html\n",
      "http://127.0.0.1:8888/notebooks/pandas_01_seg.html\n",
      "http://127.0.0.1:8888/notebooks/pandas_01_seg_sol.html\n",
      "http://127.0.0.1:8888/notebooks/pandas_02_seg.html\n",
      "http://127.0.0.1:8888/notebooks/pandas_02_seg_soll.html\n",
      "http://127.0.0.1:8888/notebooks/Untitled.html\n"
     ]
    }
   ],
   "source": [
    "baseurl = \"http://127.0.0.1:8888\"\n",
    "notebook_file = \"/notebooks/\"\n",
    "\n",
    "for i in documents:\n",
    "    page = i.replace(\".ipynb\", \".html\")\n",
    "    url = baseurl + notebook_file + page\n",
    "    print(url)"
   ]
  },
  {
   "cell_type": "markdown",
   "metadata": {},
   "source": [
    "# Convertir solo un fichero (manual)"
   ]
  },
  {
   "cell_type": "code",
   "execution_count": 2,
   "metadata": {
    "collapsed": false
   },
   "outputs": [
    {
     "name": "stdout",
     "output_type": "stream",
     "text": [
      "        1 archivo(s) copiado(s).\n"
     ]
    },
    {
     "name": "stderr",
     "output_type": "stream",
     "text": [
      "[NbConvertApp] Converting notebook ipython_240715_01_web.ipynb to html\n",
      "[NbConvertApp] Writing 193111 bytes to ipython_240715_01_web.html\n"
     ]
    }
   ],
   "source": [
    "dir = !ipython locate profile cfc    #localizar el perfil que nos gusta (cfc)\n",
    "import os\n",
    "csspath = dir[0] + '\\\\static\\\\custom\\\\custom.css'   #construir la ruta donde está la css\n",
    "# Para un documento solo. Cambiando la css\n",
    "!copy {csspath} custom.css\n",
    "\n",
    "\n",
    "!ipython nbconvert --to html ipython_240715_01_web.ipynb"
   ]
  },
  {
   "cell_type": "code",
   "execution_count": 9,
   "metadata": {
    "collapsed": false
   },
   "outputs": [
    {
     "name": "stderr",
     "output_type": "stream",
     "text": [
      "Python 3.5.1 :: Anaconda 2.4.1 (64-bit)\n"
     ]
    }
   ],
   "source": [
    "!python --version\n"
   ]
  }
 ],
 "metadata": {
  "kernelspec": {
   "display_name": "Python 3",
   "language": "python",
   "name": "python3"
  },
  "language_info": {
   "codemirror_mode": {
    "name": "ipython",
    "version": 3
   },
   "file_extension": ".py",
   "mimetype": "text/x-python",
   "name": "python",
   "nbconvert_exporter": "python",
   "pygments_lexer": "ipython3",
   "version": "3.5.1"
  }
 },
 "nbformat": 4,
 "nbformat_minor": 0
}
