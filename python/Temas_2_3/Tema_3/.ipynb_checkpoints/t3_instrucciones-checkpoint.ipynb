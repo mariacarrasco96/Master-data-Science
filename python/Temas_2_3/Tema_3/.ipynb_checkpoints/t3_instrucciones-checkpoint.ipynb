{
 "cells": [
  {
   "cell_type": "markdown",
   "metadata": {},
   "source": [
    "# Estructuras de control\n",
    "\n",
    "\n",
    "Python soporta las sentencias de control de flujo que podemos encontrar en otros lenguajes de programación.\n",
    "\n",
    "\n",
    "##  Instrucciones if, elif, else\n",
    "\n",
    "La instrucción condicional __if__ se utiliza para comprobar una condición. \n",
    "\n",
    "* Si la condición es verdadera entonces procesaremos un bloque de instrucciones (llamado bloque if). \n",
    "* Si la condicicón no se cumple, se ejecuta el bloque de instrucciones alternativas (llamado bloque else). \n",
    "* Cada uno de los bloques están sangrados, sin necesidad de escribir llaves o sentencias del tipo `begin` ... `end`.\n",
    "\n",
    "* La cláusula else es opcional."
   ]
  },
  {
   "cell_type": "markdown",
   "metadata": {},
   "source": [
    "    if <condition>:\n",
    "        <instrucciones del bloque if>\n",
    "    else:\n",
    "        <instrucciones del bloque else>"
   ]
  },
  {
   "cell_type": "markdown",
   "metadata": {},
   "source": [
    "Recordar que en Python los bloques se delimitan por sangrado. \n",
    "* Cuando ponemos los dos puntos al final de la primera línea del condicional, todo lo que vaya a continuación con __un__ nivel de sangrado superior se considera dentro del condicional. \n",
    "* En cuanto escribimos la primera línea con un nivel de sangrado inferior, hemos cerrado el condicional. "
   ]
  },
  {
   "cell_type": "code",
   "execution_count": 1,
   "metadata": {},
   "outputs": [
    {
     "name": "stdout",
     "output_type": "stream",
     "text": [
      "x es mayor que y\n",
      "x sigue siendo mayor que y\n"
     ]
    }
   ],
   "source": [
    "x, y = 2 , 0#asignacion multiple\n",
    "\n",
    "if x > y: \n",
    "    print(\"x es mayor que y\")\n",
    "    print(\"x sigue siendo mayor que y\")\n",
    "else:\n",
    "    pass       # no se hace nada#pone pass por claridad puedes no poner nada orque no se hace nada"
   ]
  },
  {
   "cell_type": "markdown",
   "metadata": {},
   "source": [
    "La instrucción __pass__ no hace nada. Se puede usar cuando la sintaxis obliga a escribir al menos una instrucción pero el programa no necesita ninguna acción."
   ]
  },
  {
   "cell_type": "code",
   "execution_count": 2,
   "metadata": {},
   "outputs": [
    {
     "name": "stdout",
     "output_type": "stream",
     "text": [
      "Esto se ejecuta siempre\n"
     ]
    }
   ],
   "source": [
    "if 1 < 0:                            # esta condición siempre es falsa\n",
    "    print(\"1 es menor que 0\")\n",
    "print(\"Esto se ejecuta siempre\")  # esto no está dentro del bloque y no se ejecuta \n",
    "                                                    # dentro del if#el q esta fuera se hace siempre"
   ]
  },
  {
   "cell_type": "code",
   "execution_count": 3,
   "metadata": {},
   "outputs": [
    {
     "ename": "IndentationError",
     "evalue": "unexpected indent (<ipython-input-3-f2e366661c08>, line 3)",
     "output_type": "error",
     "traceback": [
      "\u001b[0;36m  File \u001b[0;32m\"<ipython-input-3-f2e366661c08>\"\u001b[0;36m, line \u001b[0;32m3\u001b[0m\n\u001b[0;31m    print(\"1 sigue siendo menor que 0\")    # error de sangrado\u001b[0m\n\u001b[0m    ^\u001b[0m\n\u001b[0;31mIndentationError\u001b[0m\u001b[0;31m:\u001b[0m unexpected indent\n"
     ]
    }
   ],
   "source": [
    "if 1 < 0:\n",
    "    print(\"1 es menor que 0\")\n",
    "     print(\"1 sigue siendo menor que 0\")    # error de sangrado"
   ]
  },
  {
   "cell_type": "markdown",
   "metadata": {},
   "source": [
    "Si queremos añadir ramas adicionales al condicional, podemos emplear la instrucción __elif__ (abreviatura de *else if*). Para la parte final, que debe ejecutarse si ninguna de las condiciones anteriores se ha cumplido, usamos la instrucción __else__. Veamos algunos ejemplos:"
   ]
  },
  {
   "cell_type": "code",
   "execution_count": 4,
   "metadata": {},
   "outputs": [
    {
     "name": "stdout",
     "output_type": "stream",
     "text": [
      "Más de uno\n"
     ]
    }
   ],
   "source": [
    "if x < 0:\n",
    "    x = 0\n",
    "    print('Negativo cambiado a cero')\n",
    "elif x == 0:\n",
    "    print('Cero')\n",
    "elif x == 1:\n",
    "    print('Uno')\n",
    "else:\n",
    "    print('Más de uno')"
   ]
  },
  {
   "cell_type": "code",
   "execution_count": 5,
   "metadata": {},
   "outputs": [
    {
     "name": "stdout",
     "output_type": "stream",
     "text": [
      "x es mayor que y\n"
     ]
    }
   ],
   "source": [
    "x, y = 2 , 0\n",
    "if x > y:\n",
    "    print(\"x es mayor que y\")\n",
    "else:\n",
    "    print(\"x es menor que y\")"
   ]
  },
  {
   "cell_type": "code",
   "execution_count": 6,
   "metadata": {},
   "outputs": [
    {
     "name": "stdout",
     "output_type": "stream",
     "text": [
      "x no es ni menor ni igual que y\n"
     ]
    }
   ],
   "source": [
    "x, y = 2 , 0\n",
    "if x < y:\n",
    "    print(\"x es menor que y\")\n",
    "elif x == y:\n",
    "    print(\"x es igual a y\")\n",
    "else:\n",
    "    print(\"x no es ni menor ni igual que y\")"
   ]
  },
  {
   "cell_type": "markdown",
   "metadata": {},
   "source": [
    "### Expresiones ternarias"
   ]
  },
  {
   "cell_type": "markdown",
   "metadata": {},
   "source": [
    "Las expresiones ternarias en Python tienen la siguiente forma:\n",
    "\n",
    "```\n",
    "e = valorSiTrue if <condicion> else valorSiFalse\n",
    "```"
   ]
  },
  {
   "cell_type": "markdown",
   "metadata": {},
   "source": [
    "Permite definir la instrucción __if-else__ en una sola línea. La expresión anterior es equivalente a:\n",
    "```\n",
    "if <condicion>:\n",
    "    e = valorSiTrue\n",
    "else: \n",
    "    e = valorSiFalse\n",
    "    ```"
   ]
  },
  {
   "cell_type": "markdown",
   "metadata": {},
   "source": [
    "## Bucles  __for__  y __while__"
   ]
  },
  {
   "cell_type": "markdown",
   "metadata": {},
   "source": [
    "#### El bucle `for`"
   ]
  },
  {
   "cell_type": "markdown",
   "metadata": {},
   "source": [
    "La instrucción __for__ de Python itera sobre los elementos de cualquier secuencia (una tupla, una lista o una cadena de texto), en el orden que aparecen en la secuencia.\n",
    "\n",
    "Se utiliza para recorrer una colección completa de elementos, es decir pasa a través de cada elemento.\n",
    "\n",
    "    for <element> in <iterable_object>:\n",
    "        <hacer algo...>\n",
    "        \n",
    "* Aquí el objeto `<iterable_object>` puede ser una lista, tupla, array, etc.\n",
    "* El bucle se repite un número fijo de veces, que es la longitud de la colección de elementos.\n"
   ]
  },
  {
   "cell_type": "code",
   "execution_count": 7,
   "metadata": {},
   "outputs": [
    {
     "name": "stdout",
     "output_type": "stream",
     "text": [
      "1\n",
      "2\n",
      "3\n",
      "4\n",
      "5\n"
     ]
    }
   ],
   "source": [
    "for elemento in (1,2,3,4,5):   # itera soble los elementos de la tupla#for cada elemento en este objeto iterable iterable es q se puede recorrer\n",
    "    print(elemento)"
   ]
  },
  {
   "cell_type": "code",
   "execution_count": 8,
   "metadata": {},
   "outputs": [
    {
     "name": "stdout",
     "output_type": "stream",
     "text": [
      "0\n",
      "1\n",
      "3\n",
      "6\n",
      "10\n",
      "El bucle for ha terminado\n"
     ]
    }
   ],
   "source": [
    "suma = 0\n",
    "for elemento in (1,2,3,4,5):   # Suma todos los elementos de la tupla\n",
    "    print(suma)\n",
    "    suma = suma + elemento\n",
    "print(\"El bucle for ha terminado\")"
   ]
  },
  {
   "cell_type": "markdown",
   "metadata": {},
   "source": [
    "El bucle anterior ejecuta el cuerpo del bucle 5 veces. En este caso decimos que se han realizado 5 __iteraciones__."
   ]
  },
  {
   "cell_type": "code",
   "execution_count": 9,
   "metadata": {},
   "outputs": [
    {
     "name": "stdout",
     "output_type": "stream",
     "text": [
      "Lunes\n",
      "Martes\n",
      "Miércoles\n",
      "Jueves\n"
     ]
    }
   ],
   "source": [
    "dias = [\"Lunes\", \"Martes\", \"Miércoles\", \"Jueves\" ]\n",
    "for nombre in dias:\n",
    "    print(nombre)"
   ]
  },
  {
   "cell_type": "markdown",
   "metadata": {},
   "source": [
    "En el siguiente ejemplo mostramos cómo un objeto iterable como `range(3)` es susceptible de ser recorrido mediante una instrucción __for__. En este sentido podemos decir que la instrucción __for__ es un iterador."
   ]
  },
  {
   "cell_type": "code",
   "execution_count": 10,
   "metadata": {},
   "outputs": [
    {
     "name": "stdout",
     "output_type": "stream",
     "text": [
      "0\n",
      "1\n",
      "2\n"
     ]
    }
   ],
   "source": [
    "for i in range(3):    # range(3) crea la lista de enteros en el intervalo [0,3)\n",
    "    print(i)"
   ]
  },
  {
   "cell_type": "markdown",
   "metadata": {},
   "source": [
    "La instrucción __continue__ permite saltar de una iteración a otra."
   ]
  },
  {
   "cell_type": "code",
   "execution_count": 11,
   "metadata": {},
   "outputs": [
    {
     "name": "stdout",
     "output_type": "stream",
     "text": [
      "1\n",
      "3\n",
      "5\n",
      "7\n",
      "9\n"
     ]
    }
   ],
   "source": [
    " #range(10): crea la lista de enteros en el intervalo [0,10)\n",
    "for j in range(10): \n",
    "    if j % 2 == 0:\n",
    "        continue        # si el valor de j es par, saltamos a la siguiente iteración\n",
    "    print(j)            # no se ejecuta si j es un número par"
   ]
  },
  {
   "cell_type": "markdown",
   "metadata": {},
   "source": [
    "También es posible recorrernos una tupla de elementos:"
   ]
  },
  {
   "cell_type": "code",
   "execution_count": 12,
   "metadata": {},
   "outputs": [
    {
     "name": "stdout",
     "output_type": "stream",
     "text": [
      "1\n",
      "3\n",
      "4\n"
     ]
    }
   ],
   "source": [
    "puntos = ((0,1), (1,2), (1,3))\n",
    "for (x,y) in puntos: # desempaquetado \n",
    "    print( x + y )\n",
    "    \n",
    "# x se refiere a la primera componente de cada una de las tuplas\n",
    "# y se refiere a la segunda componente de cada una de las tuplas"
   ]
  },
  {
   "cell_type": "markdown",
   "metadata": {
    "collapsed": true
   },
   "source": [
    "Un diccionario también es un objeto iterable en Python:"
   ]
  },
  {
   "cell_type": "code",
   "execution_count": 13,
   "metadata": {},
   "outputs": [
    {
     "name": "stdout",
     "output_type": "stream",
     "text": [
      "(1, 'Lunes')\n",
      "(2, 'Martes')\n",
      "(3, 'Miércoles')\n"
     ]
    }
   ],
   "source": [
    "dic =  {1:'Lunes', 2:'Martes', 3:'Miércoles' }\n",
    "\n",
    "for i in dic.items():\n",
    "    print(i)"
   ]
  },
  {
   "cell_type": "markdown",
   "metadata": {},
   "source": [
    "En el caso de los diccionarios podemos iterar también sobre las claves y sobre los valores."
   ]
  },
  {
   "cell_type": "code",
   "execution_count": 14,
   "metadata": {},
   "outputs": [
    {
     "name": "stdout",
     "output_type": "stream",
     "text": [
      "1\n",
      "2\n",
      "3\n"
     ]
    }
   ],
   "source": [
    "# Python 3.5\n",
    "for i in dic.keys():    \n",
    "    print(i)"
   ]
  },
  {
   "cell_type": "code",
   "execution_count": 15,
   "metadata": {},
   "outputs": [
    {
     "name": "stdout",
     "output_type": "stream",
     "text": [
      "Lunes\n",
      "Martes\n",
      "Miércoles\n"
     ]
    }
   ],
   "source": [
    "# Python 3.6\n",
    "for i in dic.values():  \n",
    "    print(i)"
   ]
  },
  {
   "cell_type": "code",
   "execution_count": 3,
   "metadata": {},
   "outputs": [
    {
     "data": {
      "text/plain": [
       "range(1, 101)"
      ]
     },
     "execution_count": 3,
     "metadata": {},
     "output_type": "execute_result"
    }
   ],
   "source": [
    "lista = range(1,101) #me va a dar una lista hasta el 100[1,2...100]\n",
    "lista"
   ]
  },
  {
   "cell_type": "code",
   "execution_count": 4,
   "metadata": {},
   "outputs": [
    {
     "data": {
      "text/plain": [
       "range(1, 101)"
      ]
     },
     "execution_count": 4,
     "metadata": {},
     "output_type": "execute_result"
    }
   ],
   "source": [
    "lista"
   ]
  },
  {
   "cell_type": "code",
   "execution_count": 5,
   "metadata": {},
   "outputs": [
    {
     "data": {
      "text/plain": [
       "[1,\n",
       " 2,\n",
       " 3,\n",
       " 4,\n",
       " 5,\n",
       " 6,\n",
       " 7,\n",
       " 8,\n",
       " 9,\n",
       " 10,\n",
       " 11,\n",
       " 12,\n",
       " 13,\n",
       " 14,\n",
       " 15,\n",
       " 16,\n",
       " 17,\n",
       " 18,\n",
       " 19,\n",
       " 20,\n",
       " 21,\n",
       " 22,\n",
       " 23,\n",
       " 24,\n",
       " 25,\n",
       " 26,\n",
       " 27,\n",
       " 28,\n",
       " 29,\n",
       " 30,\n",
       " 31,\n",
       " 32,\n",
       " 33,\n",
       " 34,\n",
       " 35,\n",
       " 36,\n",
       " 37,\n",
       " 38,\n",
       " 39,\n",
       " 40,\n",
       " 41,\n",
       " 42,\n",
       " 43,\n",
       " 44,\n",
       " 45,\n",
       " 46,\n",
       " 47,\n",
       " 48,\n",
       " 49,\n",
       " 50,\n",
       " 51,\n",
       " 52,\n",
       " 53,\n",
       " 54,\n",
       " 55,\n",
       " 56,\n",
       " 57,\n",
       " 58,\n",
       " 59,\n",
       " 60,\n",
       " 61,\n",
       " 62,\n",
       " 63,\n",
       " 64,\n",
       " 65,\n",
       " 66,\n",
       " 67,\n",
       " 68,\n",
       " 69,\n",
       " 70,\n",
       " 71,\n",
       " 72,\n",
       " 73,\n",
       " 74,\n",
       " 75,\n",
       " 76,\n",
       " 77,\n",
       " 78,\n",
       " 79,\n",
       " 80,\n",
       " 81,\n",
       " 82,\n",
       " 83,\n",
       " 84,\n",
       " 85,\n",
       " 86,\n",
       " 87,\n",
       " 88,\n",
       " 89,\n",
       " 90,\n",
       " 91,\n",
       " 92,\n",
       " 93,\n",
       " 94,\n",
       " 95,\n",
       " 96,\n",
       " 97,\n",
       " 98,\n",
       " 99,\n",
       " 100]"
      ]
     },
     "execution_count": 5,
     "metadata": {},
     "output_type": "execute_result"
    }
   ],
   "source": [
    "list(lista)"
   ]
  },
  {
   "cell_type": "code",
   "execution_count": null,
   "metadata": {},
   "outputs": [],
   "source": [
    "#suma todos los pares"
   ]
  },
  {
   "cell_type": "code",
   "execution_count": 14,
   "metadata": {},
   "outputs": [
    {
     "data": {
      "text/plain": [
       "2550"
      ]
     },
     "execution_count": 14,
     "metadata": {},
     "output_type": "execute_result"
    }
   ],
   "source": [
    "suma = 0\n",
    "for num in lista:\n",
    "    if num % 2 == 0:#si numero modulo de dos es 0 entonces es par\n",
    "        suma= suma + num\n",
    "    else:\n",
    "            pass\n",
    "        \n",
    "suma"
   ]
  },
  {
   "cell_type": "code",
   "execution_count": null,
   "metadata": {},
   "outputs": [],
   "source": [
    "#def sucesion(l)\n",
    "#rerturn m#tengo que construit m a partir de otra lista\n",
    "l=[1,2,3]\n",
    "m=[1,3,6]#el seis se obtiene como suma de su tres anterior y del tres de arriba en l\n",
    "\n",
    "l=[10,3,1]\n",
    "m=[10,13,14]"
   ]
  },
  {
   "cell_type": "code",
   "execution_count": 21,
   "metadata": {},
   "outputs": [],
   "source": [
    "def sucesion(lista):\n",
    "    primero = lista[0]\n",
    "    m = [primero]#creamos una lista vacia\n",
    "    for elemento in lista[1:]:#ya he metido el 10 quiero recorrerme la lista desde el segundo hasta el final que es desde la primera posicion hasta el final\n",
    "        siguiente = elemento + m[-1]\n",
    "        m.append(siguiente)\n",
    "    return m"
   ]
  },
  {
   "cell_type": "code",
   "execution_count": 22,
   "metadata": {},
   "outputs": [
    {
     "data": {
      "text/plain": [
       "[1, 3, 6, 10, 15, 21]"
      ]
     },
     "execution_count": 22,
     "metadata": {},
     "output_type": "execute_result"
    }
   ],
   "source": [
    "sucesion([1, 2, 3, 4, 5, 6 ])"
   ]
  },
  {
   "cell_type": "markdown",
   "metadata": {},
   "source": [
    "#### El Bucle `while` "
   ]
  },
  {
   "cell_type": "markdown",
   "metadata": {},
   "source": [
    "La instrucción __while__ permite ejecutar repetidamente un bloque de código mientras la condición asociada al while sea verdadera. \n",
    "\n",
    "    while <condition>:\n",
    "        <cuerpo del bucle>\n",
    "\n",
    "* El cuerpo del bucle está sangrado y no se necesitan instrucciones de tipo `end`.\n",
    "* El número de iteraciones es variable, depende de la condición.\n",
    "\n",
    "En el siguiente ejemplo, el cuerpo del bucle  está compuesto por dos instrucciones. El cuerpo del bucle se ejecutará mientras la condición asociada al while, `i < 5` , sea cierta.\n"
   ]
  },
  {
   "cell_type": "code",
   "execution_count": 16,
   "metadata": {},
   "outputs": [
    {
     "name": "stdout",
     "output_type": "stream",
     "text": [
      "-2\n",
      "-1\n",
      "0\n",
      "1\n",
      "2\n",
      "3\n",
      "4\n",
      "Estoy fuera del while\n"
     ]
    }
   ],
   "source": [
    "i = -2\n",
    "while i < 5:      \n",
    "    print(i)          # cuerpo\n",
    "    i = i + 1         # cuerpo\n",
    "print(\"Estoy fuera del while\")"
   ]
  },
  {
   "cell_type": "markdown",
   "metadata": {},
   "source": [
    "Como regla y para evitar bucles infinitos, debemos asegurarnos de que en cada iteración, la condición del while está más cerca de hacerse cierta. En el ejemplo anterior, en el cuerpo del bucle se incrementa la variable `i`, por lo que cada vez el valor de `i` se aproxima más a 5."
   ]
  },
  {
   "cell_type": "markdown",
   "metadata": {},
   "source": [
    "En Python tmbién existe la instrucción que nos permite interrumpir el bucle antes de que la condición se haga falsa. Se trata de la instrucción  __break__:"
   ]
  },
  {
   "cell_type": "code",
   "execution_count": 17,
   "metadata": {},
   "outputs": [
    {
     "name": "stdout",
     "output_type": "stream",
     "text": [
      "0\n",
      "1\n",
      "2\n"
     ]
    }
   ],
   "source": [
    "i = 0\n",
    "while i < 5:\n",
    "    print(i)\n",
    "    i = i + 1\n",
    "    if i == 3:      \n",
    "        break       # salimos del bucle cuando el valor de i es 3"
   ]
  },
  {
   "cell_type": "markdown",
   "metadata": {},
   "source": [
    "#### La función `enumerate`"
   ]
  },
  {
   "cell_type": "markdown",
   "metadata": {},
   "source": [
    "Cuando trabajamos con secuencias de elementos puede resultar útil conocer el índice de cada elemento. La función __enumerate__ devuelve una secuencia de tuplas de la forma __(i, valor)__. \n",
    "\n",
    "Mediante un bucle es posible recorrerse dicha secuencia:"
   ]
  },
  {
   "cell_type": "code",
   "execution_count": 1,
   "metadata": {},
   "outputs": [
    {
     "name": "stdout",
     "output_type": "stream",
     "text": [
      "1: Madrid\n",
      "2: Sevilla\n",
      "3: Segovia\n",
      "4: Valencia\n"
     ]
    }
   ],
   "source": [
    "ciudades = [\"Madrid\", \"Sevilla\", \"Segovia\", \"Valencia\" ]\n",
    "\n",
    "for (i, valor) in enumerate(ciudades):\n",
    "    print('%d: %s' % (i+1, valor))"
   ]
  },
  {
   "cell_type": "code",
   "execution_count": 2,
   "metadata": {},
   "outputs": [
    {
     "name": "stdout",
     "output_type": "stream",
     "text": [
      "4: Valencia\n",
      "3: Segovia\n",
      "2: Sevilla\n",
      "1: Madrid\n"
     ]
    }
   ],
   "source": [
    "# uso de la función reversed \n",
    "# la función reversed devuelve un iterador inverso de una lista\n",
    "\n",
    "for (i, valor) in enumerate(reversed(ciudades)):\n",
    "    print('%d: %s' % (len(ciudades)-i, valor))"
   ]
  },
  {
   "cell_type": "markdown",
   "metadata": {},
   "source": [
    "--------------"
   ]
  }
 ],
 "metadata": {
  "anaconda-cloud": {},
  "kernelspec": {
   "display_name": "Python 3",
   "language": "python",
   "name": "python3"
  },
  "language_info": {
   "codemirror_mode": {
    "name": "ipython",
    "version": 3
   },
   "file_extension": ".py",
   "mimetype": "text/x-python",
   "name": "python",
   "nbconvert_exporter": "python",
   "pygments_lexer": "ipython3",
   "version": "3.7.3"
  },
  "nbTranslate": {
   "displayLangs": [
    "en",
    "es"
   ],
   "hotkey": "alt-t",
   "langInMainMenu": true,
   "sourceLang": "es",
   "targetLang": "en",
   "useGoogleTranslate": true
  },
  "toc": {
   "nav_menu": {
    "height": "144px",
    "width": "252px"
   },
   "number_sections": true,
   "sideBar": true,
   "skip_h1_title": false,
   "title_cell": "Table of Contents",
   "title_sidebar": "Contents",
   "toc_cell": false,
   "toc_position": {},
   "toc_section_display": "block",
   "toc_window_display": false
  }
 },
 "nbformat": 4,
 "nbformat_minor": 1
}
