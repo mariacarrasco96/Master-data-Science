{
 "cells": [
  {
   "cell_type": "markdown",
   "metadata": {},
   "source": [
    "# Introducción "
   ]
  },
  {
   "cell_type": "markdown",
   "metadata": {},
   "source": [
    "## El lenguaje Python"
   ]
  },
  {
   "cell_type": "markdown",
   "metadata": {},
   "source": [
    "Python es uno de los lenguajes líderes a nivel mundial ([tiobe-index](https://www.tiobe.com/tiobe-index/))\n",
    "\n",
    "\n",
    "Es fácil de aprender y de leer\n",
    "* Es de manejo sencillo \n",
    "* Curva de aprendizaje es muy corta\n",
    "\n",
    "\n",
    "Python es una herramienta poderosa en el análisis numérico, el cual es ampliamente utilizado en ciencia e ingeniería.\n",
    "* Posee una gran eficiencia a la hora de analizar datos\n",
    "* Se utiliza en casi todas las API’s de las aplicaciones relacionadas con el dato \n",
    "\n",
    "---------------------"
   ]
  },
  {
   "cell_type": "markdown",
   "metadata": {},
   "source": [
    "Su creador fue Guido Van Rossum (1991) y debido a que es de código libre la comunidad de desarrolladores han creado librerías o módulos para hacer casi cualquier cosa.\n",
    "\n",
    "![__Tecnologías](./images/anaconda_python.png \"__Tecnologías\")\n",
    "\n",
    "* Se trata de un lenguaje que permite desarrollar un proyecto completo o puede ser parte de un sistema.\n",
    "\n",
    "* Se recomienda aprender a programar Python, por cosas muy sencillas:\n",
    "    * Es fácil de aprender, fácil de leer y cuenta con una gran cantidad de librerías, tipos de datos y funciones incorporadas en el propio lenguaje, que ayudan a realizar muchas tareas habituales sin necesidad de tener que programarlas desde cero.\n",
    "    * La curva de aprendizaje es muy corta y en muy poco tiempo uno puede estar programando cosas no tan triviales.\n",
    "\n",
    "* Aunque desconocido aún por algunos, hoy en día es uno de los lenguajes más populares junto con R, Ruby, Perl y otros. A Python todavía le falta algo de la riqueza de otros lenguajes como R para el análisis de datos, pero se está acercando rápidamente.\n",
    "\n",
    "-----\n",
    "![ranking](./images/ranking.jpg \"ranking\")\n",
    "Fuente: http://www.datasciencecentral.com/profiles/blogs/top-programming-languages-for-data-science-first-partial-survey"
   ]
  },
  {
   "cell_type": "markdown",
   "metadata": {},
   "source": [
    "## Características del lenguaje"
   ]
  },
  {
   "cell_type": "markdown",
   "metadata": {},
   "source": [
    "__Lenguaje interpretado__: Interpretado quiere decir que no se debe compilar el código antes de su ejecución.\n",
    "\n",
    "* Esto implica que la mayor parte del código Python se ejecuta más lento que el código compilado de C++ o Java.\n",
    "\n",
    "* En casos donde se necesita mucha rapidez de proceso es preferible asumir el coste en tiempo de programación en un lenguaje de bajo nivel como C++ para conseguir mayor rapidez de proceso.\n",
    "\n",
    "__Multiparadigma__: Es un lenguaje imperativo y orientado a objetos. También posee características de los __lenguajes funcionales__.\n",
    "\n",
    "__Multiplataforma__: Python es un lenguaje disponible en los principales Sistemas Operativos (Windows, Linux y Mac). El lenguaje permite realizar cualquier tipo de programa, desde aplicaciones Windows a servidores de red o incluso, páginas web.\n",
    "\n",
    "__Tipado dinámico__: El tipo de los datos es inferido en tiempo de ejecución. Esta es una característica que diferencia a Python de la mayoría de los lenguajes compilados."
   ]
  },
  {
   "cell_type": "markdown",
   "metadata": {},
   "source": [
    "## Librerías básicas para el tratamiento de datos"
   ]
  },
  {
   "cell_type": "markdown",
   "metadata": {},
   "source": [
    "Python tiene disponibles un gran número de librerías y herramientas para el tratamiento de datos.\n",
    "\n",
    "![__Tecnologías](./images/Python+Libraries.png \"Libraries\")\n",
    "\n",
    "------\n",
    "\n"
   ]
  },
  {
   "cell_type": "markdown",
   "metadata": {},
   "source": [
    "Entre las librerías denominadas científicas tenemos:\n",
    "\n",
    "__* NumPy (Numerical Python)__\n",
    "\n",
    "* Es el pilar fundamental de todo el ecosistema numérico en Python.\n",
    "* Proporciona un objeto de tipo array multidimensional: ndarray\n",
    "* ndarray permite el almacenamiento de datos homogéneos y heterogéneos.\n",
    "* Proporciona funciones y métodos para operar eficientemente con este objeto.\n",
    "* Proporciona herramientas para la escritura y lectura de datos a disco.\n",
    "* Además: operaciones de álgebra lineal, números aleatorios, funciones financieras, etc.\n",
    "\n",
    "\n",
    "__Desventajas__:\n",
    "* Pensado para conjuntos de datos de tamaño fijo\n",
    "* No optimizado para datos heterogéneos (números, texto, fechas)\n",
    "* Manejo de datos textuales engorroso\n",
    "* Solución: pandas\n",
    "\n",
    "__* pandas (panel data sets)__\n",
    "\n",
    "\n",
    "* Se trata de una librería construida sobre NumPy.\n",
    "* Proporciona estructuras de datos de alto nivel y optimizada para análisis de datos: DataFrame.\n",
    "* Se trata de una estructura que permite el almacenamiento de datos que en su origen se representan de forma tabular (como por ejemplo: hojas de cálculo).\n",
    "* Incorpora herramientas para leer y escribir datos en diversos formatos: CSV y texto, Excel, bases de datos SQL, documentos XML y JSON, etc.\n",
    "* Manejo de series temporales.\n",
    "* Está integrada con otras librerías:\n",
    "    * Matplotlib y Seaborn : para la representación de los datos de forma gráfica\n",
    "    \n",
    "__* SciPy__\n",
    "\n",
    "* Colección de sublibrerías y funciones que implementan fucionalidad estándard útil en ciencias y finanzas.\n",
    "* Interpolación e integración numérica.\n",
    "* Regresión.\n",
    "\n",
    "\n",
    "__* Scikit-learn__\n",
    "\n",
    "* Para aprendizaje automático."
   ]
  },
  {
   "cell_type": "markdown",
   "metadata": {},
   "source": [
    "------------------"
   ]
  }
 ],
 "metadata": {
  "anaconda-cloud": {},
  "kernelspec": {
   "display_name": "Python 3",
   "language": "python",
   "name": "python3"
  },
  "language_info": {
   "codemirror_mode": {
    "name": "ipython",
    "version": 3
   },
   "file_extension": ".py",
   "mimetype": "text/x-python",
   "name": "python",
   "nbconvert_exporter": "python",
   "pygments_lexer": "ipython3",
   "version": "3.7.3"
  },
  "nbTranslate": {
   "displayLangs": [
    "en",
    "es"
   ],
   "hotkey": "alt-t",
   "langInMainMenu": true,
   "sourceLang": "es",
   "targetLang": "en",
   "useGoogleTranslate": true
  },
  "toc": {
   "nav_menu": {
    "height": "119px",
    "width": "252px"
   },
   "number_sections": true,
   "sideBar": true,
   "skip_h1_title": false,
   "title_cell": "Table of Contents",
   "title_sidebar": "Contents",
   "toc_cell": false,
   "toc_position": {},
   "toc_section_display": "block",
   "toc_window_display": false
  }
 },
 "nbformat": 4,
 "nbformat_minor": 1
}
