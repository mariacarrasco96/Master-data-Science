{
 "cells": [
  {
   "cell_type": "markdown",
   "metadata": {
    "slideshow": {
     "slide_type": "slide"
    }
   },
   "source": [
    "# Entornos de desarrollo"
   ]
  },
  {
   "cell_type": "markdown",
   "metadata": {},
   "source": [
    "Para escribir y probar los programas que desarrollaremos sólo hace falta un editor de textos (para escribir) y un intérprete de Python (para probar/ejecutar). Python es un lenguaje que tiene intérpretes en cualquier sistema operativo.\n",
    "\n",
    "Existen muchos entornos de desarrollo (IDE) y cada vez aparecen más. Estos entornos facilitan tanto la tarea de escribir programas como de ejecutarlos. Entre otras características:\n",
    "\n",
    "* Ofrecen ayudas al completado\n",
    "* Tienen documentación integrada\n",
    "* Depuración, etc.\n",
    "\n",
    "Algunos ejemplos de IDEs para Python son:\n",
    "\n",
    " * Eclipse con PyDev plugin\n",
    " * Visual Estudio\n",
    " * [Spyder](https://pythonhosted.org/spyder)\n",
    " * [VS code](https://code.visualstudio.com/docs/languages/python) \n",
    " * [PyCharm](https://www.jetbrains.com/pycharm/)\n",
    " * [Jupyter notebook](http://jupyter.org)\n"
   ]
  },
  {
   "cell_type": "markdown",
   "metadata": {},
   "source": [
    "## Jupyter notebook"
   ]
  },
  {
   "cell_type": "markdown",
   "metadata": {},
   "source": [
    "Como hemos dicho anteriormente, [Jupyter notebook](http://jupyter.org) es una aplicación web que permite crear documentos que contienen _código vivo_, texto, fórmulas, figuras, y medios audiovisuales. \n",
    "\n",
    "Veremos a lo largo de este curso cómo podemos usar este entorno, junto con Python, para realizar taréas típicas en el contexto del análisis de datos; importación y exportación, manipulación y transformación, visualización y mucho más. \n",
    "\n",
    "Jupyter reúne en un mismo componente todas las herramientas científicas estándar de Python.\n",
    "\n",
    "<img src=\"./images/notebookweb.png\" alt=\"IPython Notebook\" style=\"width: 400px;\"/>\n",
    "\n",
    "Posee lo que se conoce como __kernels__. Estos no son nada más que programas diseñados para ejecutar el código de un lenguaje de programación específico (R, Python, Julia). Por defecto, la instalación de Jupyter viene con el kernel de Python, pero se pueden instalar el resto de kernels posteriormente.\n",
    "\n",
    "Este entorno posee [extensiones](./T1_Notebook_extensions.html) muy útiles que añaden funcionalidad a este entorno de desarrollo. \n"
   ]
  },
  {
   "cell_type": "markdown",
   "metadata": {},
   "source": [
    "--------"
   ]
  },
  {
   "cell_type": "markdown",
   "metadata": {},
   "source": [
    "## Spyder"
   ]
  },
  {
   "cell_type": "markdown",
   "metadata": {},
   "source": [
    "![Spyder](./images/spyder.jpg \"Spyder\")\n",
    "\n",
    "* [Spyder](http://en.wikipedia.org/wiki/Spyder_%28software%29) es un entorno de desarrollo que viene incluído en la distribución de Anaconda. Tiene las siguientes características:\n",
    "\n",
    "    - Permite organizar el código en proyectos.\n",
    "    - Permite ejecutar los programas en el mismo entorno.\n",
    "    - Cuenta con herramientas para hacer ejecuciones paso a paso y depurar nuestros programas.  \n",
    "    - Posee documentación integrada\n",
    "    - Ayudas al completado (típico en la mayoría de los IDE's)\n",
    "\n",
    "\n",
    "<img src=\"./images/entorno.png\" alt=\"Entorno\" style=\"width: 500px;\"/>\n"
   ]
  }
 ],
 "metadata": {
  "anaconda-cloud": {},
  "kernelspec": {
   "display_name": "Python 3",
   "language": "python",
   "name": "python3"
  },
  "language_info": {
   "codemirror_mode": {
    "name": "ipython",
    "version": 3
   },
   "file_extension": ".py",
   "mimetype": "text/x-python",
   "name": "python",
   "nbconvert_exporter": "python",
   "pygments_lexer": "ipython3",
   "version": "3.7.3"
  },
  "nbTranslate": {
   "displayLangs": [
    "en",
    "es"
   ],
   "hotkey": "alt-t",
   "langInMainMenu": true,
   "sourceLang": "es",
   "targetLang": "en",
   "useGoogleTranslate": true
  },
  "toc": {
   "nav_menu": {
    "height": "68px",
    "width": "252px"
   },
   "number_sections": true,
   "sideBar": true,
   "skip_h1_title": false,
   "title_cell": "Table of Contents",
   "title_sidebar": "Contents",
   "toc_cell": false,
   "toc_position": {},
   "toc_section_display": "block",
   "toc_window_display": true
  }
 },
 "nbformat": 4,
 "nbformat_minor": 1
}
