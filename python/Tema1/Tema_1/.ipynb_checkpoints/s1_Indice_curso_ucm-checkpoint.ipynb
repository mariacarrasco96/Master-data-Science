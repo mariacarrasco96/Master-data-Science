{
 "cells": [
  {
   "cell_type": "markdown",
   "metadata": {},
   "source": [
    "#### Dia 1"
   ]
  },
  {
   "cell_type": "markdown",
   "metadata": {},
   "source": [
    "* Contextualizar el curso.\n",
    "Hablar de Big Data. Dar su definición como conjunto de tecnologías que permiten el tratamiento de grandes cantidades de datos.\n",
    "Nombrar algunas de esas tecnologías y posicionar a Python.\n",
    "En este punto deberíamos dejar claro qué cosas van a aprender en el curso y hacer incapié en las cosas que no vamos a ver.\n",
    "Vamos a trabajar con los datos. Vamos a aprender a procesarlos. A depurar los datos y a procesarlos para generar nueva información, nuevo conocimiento.\n",
    "Lo que no vamos a ver son herramientas para apredizaje automático.\n",
    "\n",
    "* ¿Que es Python? \n",
    "Compararlo con otros lenguajes. Explicar por qué se ha hecho tan popular. \n",
    "Características del lenguaje. Introducir las principales librerías (nombrarlas y una frase indicando cuál es su uso). \n",
    "Introducir las librerías que vamos a ver en el curso: las librerías científicas de Python para análisis de datos.\n",
    "    * Numpy\n",
    "    * pandas\n",
    "    * Scipy\n",
    "    * Matplotlib\n",
    "\n",
    "* Entornos de desarrollo. \n",
    "Introoducir el concepto de entorno de desarrollo. Nombrar distintos entornos de desarrollo para Python.\n",
    "Contarles los entornos de desarrollo con los que vamos a trabajar.\n",
    "    * Anaconda\n",
    "    * Jupyter\n",
    "    * Spyder\n",
    "    \n",
    "Contar a grandes rasgos los beneficios de trabajar con el entorno de desarrollo interactivo Jupyter. Contarles su funcionamiento."
   ]
  },
  {
   "cell_type": "markdown",
   "metadata": {},
   "source": [
    "#### Dia 2"
   ]
  },
  {
   "cell_type": "markdown",
   "metadata": {},
   "source": [
    "Elementos básicos del lenguaje Python\n",
    "* Tipos de datos básicos. Int, float, long, bool, complejos\n",
    "* El tipo cadena. Tratamiento de cadenas.\n",
    "* El tipo fecha.\n",
    "* Funciones\n",
    "    * Paso de parámetros\n",
    "    * __Funciones anónimas(lambda)__\n",
    "* Estructuras de datos.\n",
    "    - Secuencias: __tuplas y listas__\n",
    "    - Secuencias de caracteres\n",
    "* Conjuntos\n",
    "* __Diccionarios__\n",
    "* Estructuras de control\n",
    "* __Definición por comprensión__"
   ]
  },
  {
   "cell_type": "markdown",
   "metadata": {},
   "source": [
    "#### Dia 3"
   ]
  },
  {
   "cell_type": "markdown",
   "metadata": {},
   "source": [
    "* Módulos de Python e importación \n",
    "* El módulo Numpy\n",
    "    * Los arrays de numpy. Creación de arrays. Tipos de datos para ndarray. Crear array fromfile. \n",
    "    * Operaciones entre arrays y escalares.\n",
    "    * Funciones universales.Upcasting.\n",
    "    * Elementos de un array. Acceso y recorrido.\n",
    "    * __Uso de máscaras para selección de partes de un array__\n",
    "    * Cambiar la forma de un array. Métodos `reshape` , `ravel` y `transpose(T)`.\n",
    "    * Funciones `vstack` y `hstack`. \n",
    "    * Copias y vistas. \n",
    "    * Relación con Mathlab."
   ]
  },
  {
   "cell_type": "markdown",
   "metadata": {},
   "source": [
    "#### Dia 4"
   ]
  },
  {
   "cell_type": "markdown",
   "metadata": {},
   "source": [
    "* Procesando Datos Usando Arrays. Eficiencia de NumPy.\n",
    "    * Expresiones condicionales \n",
    "\t* Métodos matemáticos y estadisticos \n",
    "\t* Operaciones lógicas \n",
    "\t* Orden \n",
    "\t* Operaciones sobre conjuntos \n",
    "\t* Lectura y escritura de arrays en Ficheros \n",
    "\t\t* Formato binario \n",
    "\t\t* Formato txt \n",
    "\t\t* Otras opciones en el módulo IO \n",
    "\t* Algebra lineal. La clase MATRIX\n",
    "* El módulo numpy.random"
   ]
  },
  {
   "cell_type": "markdown",
   "metadata": {},
   "source": [
    "#### Dia 6 y 7\n",
    "\n",
    "* Pandas \n",
    "    * tipo de datos en pandas\n",
    "    * Import y export\n",
    "    * Bases de datos Mysql\n",
    "    * Mongo DB\n",
    "    * Tratamiento XML json\n",
    "    \n",
    "    "
   ]
  },
  {
   "cell_type": "markdown",
   "metadata": {},
   "source": [
    "#### Dia 8"
   ]
  },
  {
   "cell_type": "markdown",
   "metadata": {},
   "source": [
    "Módulo Matplotlib + Numpy \n",
    "- Visualización de datos\n",
    "* La función PLOT\n",
    "* Añadiendo etiquetas al gráfico\n",
    "* Cambiando el estilo de representación\n",
    "* Representación de datos de 2 dimensiones\n",
    "* Subgráficos\n",
    "* Otros estilos de gráficos\n",
    "* Guardar gráficos\n",
    "\n",
    "\n",
    "Módulo Matplotlib + Pandas\n",
    "\n",
    "* Diagrama de barras\n",
    "* Histogramas (hist)\n",
    "* Scatter\n",
    "* Gráficos circulares\n",
    "\n",
    "Representación de series temporales (gplot)\n"
   ]
  }
 ],
 "metadata": {
  "kernelspec": {
   "display_name": "Python 3",
   "language": "python",
   "name": "python3"
  },
  "language_info": {
   "codemirror_mode": {
    "name": "ipython",
    "version": 3
   },
   "file_extension": ".py",
   "mimetype": "text/x-python",
   "name": "python",
   "nbconvert_exporter": "python",
   "pygments_lexer": "ipython3",
   "version": "3.5.1"
  }
 },
 "nbformat": 4,
 "nbformat_minor": 0
}
