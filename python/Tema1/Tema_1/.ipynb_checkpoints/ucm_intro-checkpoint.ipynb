{
 "cells": [
  {
   "cell_type": "markdown",
   "metadata": {},
   "source": [
    "# Table of Contents\n",
    "* [Python para análisis de datos](#Python-para-análisis-de-datos)\n",
    "\t* [Big Data](#Big-Data)\n",
    "\t\t* [Tareas Big Data](#Tareas-Big-Data)\n",
    "\t* [¿Qué es Python?](#¿Qué-es-Python?)\n",
    "\t\t* [Características del lenguaje](#Características-del-lenguaje)\n",
    "\t\t* [Librerías básicas para el tratamiento de datos](#Librerías-básicas-para-el-tratamiento-de-datos)\n",
    "\t\t\t\n"
   ]
  },
  {
   "cell_type": "markdown",
   "metadata": {},
   "source": [
    "# Python para análisis de datos"
   ]
  },
  {
   "cell_type": "markdown",
   "metadata": {},
   "source": [
    "## Big Data"
   ]
  },
  {
   "cell_type": "markdown",
   "metadata": {},
   "source": [
    "El análisis de datos o análisis de la información permite a una empresa conocer mejor a los consumidores, ofrecerles los productos que realmente desean o preveer picos en el consumo.\n",
    "\n",
    "El concepto Big Data está muy unido al concepto de Inteligencia de Negocio. La inteligencia de negocio es la actividad empresarial encargada de la recogida, procesamiento y presentación de la información relevante que facilite la toma de decisiones.\n",
    "\n",
    "![De Datos a Decisiones](../images/DatosDEcisiones.jpg \"DDD\")\n",
    "\n",
    "* ¿Qué productos son los que me generan mayores beneficios? \n",
    "* ¿Qué productos son comprados por segmentos de clientes con características comunes?\n",
    "* ¿Qué productos disparan sus ventas end eterminadas fechas o épocas del año?\n",
    "* ¿Cúales son las características de mi 5% de clientes más rentables? \n",
    "* ¿Qué promociones generan mayor repetición de compra entre mis clientes? \n",
    "* ¿Qué productos son comprados por el mismo segmento de clientes?\n",
    "* ¿Cómo van mis resultados frente a lo presupuestado? \n",
    "* ¿Qué tipo de gastos se están disparando?\n",
    "* ¿Dónde se concentran el 80% de mis ventas, costes y rentabilidad?\n",
    "* ¿Qué objetivos se están cumpliendo?\n",
    "\n",
    "__¿Qué es BIG DATA?__\n",
    "\n",
    " * Big Data se refiere a la gestión y análisis de enormes volúmenes de datos que no pueden ser tratados de manera convencional, ya que superan los límites y capacidades de las herramientas de software habitualmente utilizadas para la captura, gestión y procesamiento de datos.\n",
    " \n",
    "![Big Data](../images/BigData.jpg \"BD\")\n",
    " \n",
    " * Las nuevas tecnologías permiten incluir en los proyectos de análisis informaciones (por ejemplo logs) que hasta la fecha no se utilizaban porque la tecnología no permitía procesarlos en un tiempo razonable. \n",
    " \n",
    " * Cuando hablamos de Big Data, hablamos  de tecnologías creadas para el tratamientos de datos estructurados y para otro tipo de datos de más difícil tratamientono como son los datos no estructurados o semi-estructurados.\n",
    "\n",
    "__Tecnologías Big Data__\n",
    "\n",
    "Existen muchas tecnologías para tratar con Big Data. Nombres como Hadoop, NoSQL, Python, R, Cassandra, SAS, Business Intelligence, Machine Learning, MapReduce… son sólo algunos de los más conocidos.\n",
    "\n",
    "![__Tecnologías](../images/varias.jpg \"__Tecnologías\")"
   ]
  },
  {
   "cell_type": "markdown",
   "metadata": {
    "slideshow": {
     "slide_type": "fragment"
    }
   },
   "source": [
    "### Tareas Big Data"
   ]
  },
  {
   "cell_type": "markdown",
   "metadata": {},
   "source": [
    "Los proyectos de Big Data conllevan la ejecución secuencial de una serie de tareas. \n",
    "* __Interactuar con el mundo exterior:__ Será necesario leer y escribir datos en diferentes formatos (csv, xml, json, excel, txt, dat, etc.).\n",
    "\n",
    "* __Preparación:__ Se trata de la limpieza, transformación, de datos no estructurados para conseguir datos estructurados y limpios. \n",
    "\n",
    "* __Transformación:__ Aplicar operaciones matemáticas y/o estadísticas a ciertos conjuntos de datos para obtener como resultado nuevos datos (por ejemplo operaciones de agregación).\n",
    "\n",
    "* __Presentación:__ Generación de informes textuales, gráficos.\n",
    "\n",
    "En este curso vamos a estudiar cómo se abordan estas tareas usando el lenguaje Python y las principales librerías de cálculo numérico y científico.\n"
   ]
  },
  {
   "cell_type": "markdown",
   "metadata": {},
   "source": [
    "Lo que no vamos a estudiar:"
   ]
  },
  {
   "cell_type": "markdown",
   "metadata": {},
   "source": [
    "* Conectar los datos con modelos de aprendizaje, recomendadores, etc..."
   ]
  },
  {
   "cell_type": "markdown",
   "metadata": {
    "slideshow": {
     "slide_type": "subslide"
    }
   },
   "source": [
    "## ¿Qué es Python? "
   ]
  },
  {
   "cell_type": "markdown",
   "metadata": {},
   "source": [
    "* Python es una herramienta poderosa en el análisis numérico, el cual es ampliamente utilizado en ciencia e ingeniería.\n",
    "* Aunque desconocido aún por algunos, hoy en día es uno de los lenguajes más populares junto con Ruby, Perl y otros.\n",
    "> Python se ha hecho muy popular entre otras razones por la cantidad de librerías que contiene, tipos de datos y funciones incorporadas en el propio lenguaje, que ayudan a realizar muchas tareas habituales sin necesidad de tener que programarlas desde cero.\n",
    "* El coste de aprendizaje es muy bajo.\n",
    "* Creado por Guido van Rossum en 1991."
   ]
  },
  {
   "cell_type": "markdown",
   "metadata": {},
   "source": [
    "### Características del lenguaje"
   ]
  },
  {
   "cell_type": "markdown",
   "metadata": {},
   "source": [
    "__Lenguaje interpretado__: Interpretado quiere decir que no se debe compilar el código antes de su ejecución.\n",
    "\n",
    "* Esto implica que la mayor parte del código Python se ejecuta más lento que el código compilado de C++ o Java.\n",
    "\n",
    "* En casos donde se necesita mucha rapidez de proceso es preferible asumir el coste en tiempo de programación en un lenguaje de bajo nivel como C++ para conseguir mayor rapidez de proceso.\n",
    "\n",
    "__Multiparadigma__: Es un lenguaje imperativo y orientado a objetos. También posee características de los __lenguajes funcionales__.\n",
    "\n",
    "__Multiplataforma__: Python es un lenguaje disponible en los principales Sistemas Operativos (Windows, Linux y Mac). El lenguaje permite realizar cualquier tipo de programa, desde aplicaciones Windows a servidores de red o incluso, páginas web.\n",
    "\n",
    "__Tipado dinámico__: El tipo de los datos es inferido en tiempo de ejecución. Esta es una característica que diferencia a Python de la mayoría de los lenguajes compilados."
   ]
  },
  {
   "cell_type": "markdown",
   "metadata": {},
   "source": [
    "### Librerías básicas para el tratamiento de datos"
   ]
  },
  {
   "cell_type": "markdown",
   "metadata": {},
   "source": [
    "Python tiene disponibles un gran número de librerías y herramientas para el tratamiento de datos.\n",
    "\n",
    "Estas librerías tienen que ser importadas (hacerlas accesibles) en el momento en que van a ser utilizadas.\n",
    "\n",
    "Entre las librerías denominadas científicas tenemos:"
   ]
  },
  {
   "cell_type": "markdown",
   "metadata": {},
   "source": [
    "#### * NumPy (Numerical Python)"
   ]
  },
  {
   "cell_type": "markdown",
   "metadata": {},
   "source": [
    "* Es el pilar fundamental de todo el ecosistema numérico en Python.\n",
    "* Proporciona un objeto de tipo array multidimensional: ndarray\n",
    "* ndarray permite el almacenamiento de datos homogéneos y heterogéneos.\n",
    "* Proporciona funciones y métodos para operar eficientemente con este objeto.\n",
    "* Proporciona herramientas para la escritura y lectura de datos a disco.\n",
    "* Además: operaciones de álgebra lineal, números aleatorios, funciones financieras, etc.\n",
    "\n",
    "\n",
    "__Desventajas__:\n",
    "* Pensado para conjuntos de datos de tamaño fijo\n",
    "* No optimizado para datos heterogéneos (números, texto, fechas)\n",
    "* Manejo de datos textuales engorroso\n",
    "* Solución: pandas\n",
    "\n",
    "-----"
   ]
  },
  {
   "cell_type": "markdown",
   "metadata": {},
   "source": [
    "#### * pandas (panel data sets)"
   ]
  },
  {
   "cell_type": "markdown",
   "metadata": {},
   "source": [
    "* Se trata de una librería construida sobre NumPy.\n",
    "* Proporciona estructuras de datos de alto nivel y optimizada para análisis de datos: DataFrame.\n",
    "* Se trata de una estructura que permite el almacenamiento de datos que en su origen se representan de forma tabular (como por ejemplo: hojas de cálculo).\n",
    "* Incorpora herramientas para leer y escribir datos en diversos formatos: CSV y texto, Excel, bases de datos SQL, documentos XML y JSON, etc.\n",
    "* Manejo de series temporales.\n",
    "* Está integrada con otras librerías:\n",
    "    * matplotlib : para la representación de los datos de forma gráfica\n"
   ]
  },
  {
   "cell_type": "markdown",
   "metadata": {},
   "source": [
    "#### * SciPy"
   ]
  },
  {
   "cell_type": "markdown",
   "metadata": {},
   "source": [
    "* Colección de sublibrerías y funciones que implementan fucionalidad estándard útil en ciencias y finanzas.\n",
    "* Interpolación e integración numérica.\n",
    "\n",
    "-----"
   ]
  },
  {
   "cell_type": "markdown",
   "metadata": {},
   "source": [
    "<a rel=\"license\" href=\"http://creativecommons.org/licenses/by-nc-sa/4.0/\"><img alt=\"Licencia Creative Commons\" style=\"border-width:0\" src=\"https://i.creativecommons.org/l/by-nc-sa/4.0/88x31.png\" /></a><br />"
   ]
  }
 ],
 "metadata": {
  "kernelspec": {
   "display_name": "Python 3",
   "language": "python",
   "name": "python3"
  },
  "language_info": {
   "codemirror_mode": {
    "name": "ipython",
    "version": 3
   },
   "file_extension": ".py",
   "mimetype": "text/x-python",
   "name": "python",
   "nbconvert_exporter": "python",
   "pygments_lexer": "ipython3",
   "version": "3.5.1"
  }
 },
 "nbformat": 4,
 "nbformat_minor": 0
}
