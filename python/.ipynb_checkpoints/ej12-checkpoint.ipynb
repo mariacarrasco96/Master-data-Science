{
 "cells": [
  {
   "cell_type": "markdown",
   "metadata": {},
   "source": [
    "# Ejercicios sobre funciones II\n",
    "\n",
    "* Objetivos:\n",
    "    * Definir funciones sencillas con argumentos de entrada posicionales y con valor por defecto\n",
    "    * Ejecutar las funciones previamente definidas con distintos valores y chequear el resultado, verificando así el buen funcionamiento de las funciones\n",
    "    * Uso de la instrucción IF-ELSE "
   ]
  },
  {
   "cell_type": "markdown",
   "metadata": {},
   "source": [
    "## Ejercicio 1"
   ]
  },
  {
   "cell_type": "markdown",
   "metadata": {},
   "source": [
    "Escribe una función en Python llamada __calcula_horas__ que calcule el número de horas completas hay en `m` minutos para un cierto valor de `m`. La función tiene un único argumento posicional de tipo entero (`int`) y devuelve el número de horas que también será entero.\n",
    "Para resolverlo usa la división entera (`//`)."
   ]
  },
  {
   "cell_type": "markdown",
   "metadata": {},
   "source": [
    "Ejecuta la función __calcula_horas__ para los valores 135 y 258. \n",
    "\n",
    "__Nota:__ \n",
    "\n",
    "* `calcula_horas(135)` devuelve como resultado `2`\n",
    "* `calcula_horas(258)` devuelve como resultado `4`"
   ]
  },
  {
   "cell_type": "code",
   "execution_count": 1,
   "metadata": {},
   "outputs": [],
   "source": [
    "def calcula_horas(num):\n",
    "    n= num//60\n",
    "    return n"
   ]
  },
  {
   "cell_type": "code",
   "execution_count": 2,
   "metadata": {},
   "outputs": [
    {
     "data": {
      "text/plain": [
       "4"
      ]
     },
     "execution_count": 2,
     "metadata": {},
     "output_type": "execute_result"
    }
   ],
   "source": [
    "calcula_horas(258)"
   ]
  },
  {
   "cell_type": "code",
   "execution_count": 3,
   "metadata": {},
   "outputs": [
    {
     "data": {
      "text/plain": [
       "2"
      ]
     },
     "execution_count": 3,
     "metadata": {},
     "output_type": "execute_result"
    }
   ],
   "source": [
    "calcula_horas(135)"
   ]
  },
  {
   "cell_type": "code",
   "execution_count": null,
   "metadata": {},
   "outputs": [],
   "source": []
  },
  {
   "cell_type": "code",
   "execution_count": null,
   "metadata": {},
   "outputs": [],
   "source": []
  },
  {
   "cell_type": "markdown",
   "metadata": {},
   "source": [
    "## Ejercicio 2"
   ]
  },
  {
   "cell_type": "markdown",
   "metadata": {},
   "source": [
    "Escribe una función en Python llamada __calcula_horas_mminutos__ que calcule el número de horas completas y minutos que hay en `m` minutos para un cierto valor de `m`. La función tiene un único argumento posicional de tipo entero (`int`) y devuelve dos valores: el número de horas que también será entero y el número de minutos.\n",
    "Para resolverlo usa la división entera (`//`) y la operación modulo (`%` resto de la división entera)."
   ]
  },
  {
   "cell_type": "markdown",
   "metadata": {},
   "source": [
    "__Nota:__ \n",
    "\n",
    "* `calcula_horas_minutos(135)` devuelve como resultado `(2, 15)`\n",
    "* `calcula_horas_minutos(258)` devuelve como resultado `(4, 18)`"
   ]
  },
  {
   "cell_type": "code",
   "execution_count": 5,
   "metadata": {},
   "outputs": [],
   "source": [
    "def calcula_horas_minutos(num):\n",
    "    horas= calcula_horas(num)\n",
    "    minutos= num % 60\n",
    "    return horas, minutos"
   ]
  },
  {
   "cell_type": "code",
   "execution_count": 6,
   "metadata": {},
   "outputs": [
    {
     "data": {
      "text/plain": [
       "(2, 15)"
      ]
     },
     "execution_count": 6,
     "metadata": {},
     "output_type": "execute_result"
    }
   ],
   "source": [
    "calcula_horas_minutos (135)"
   ]
  },
  {
   "cell_type": "code",
   "execution_count": 7,
   "metadata": {},
   "outputs": [
    {
     "data": {
      "text/plain": [
       "(4, 18)"
      ]
     },
     "execution_count": 7,
     "metadata": {},
     "output_type": "execute_result"
    }
   ],
   "source": [
    "calcula_horas_minutos (258)"
   ]
  },
  {
   "cell_type": "code",
   "execution_count": null,
   "metadata": {},
   "outputs": [],
   "source": []
  },
  {
   "cell_type": "code",
   "execution_count": null,
   "metadata": {},
   "outputs": [],
   "source": []
  },
  {
   "cell_type": "markdown",
   "metadata": {},
   "source": [
    "## Ejercicio 3"
   ]
  },
  {
   "cell_type": "markdown",
   "metadata": {},
   "source": [
    "Escribe una función llamada __sugiere_actividad__ que lea una temperatura introducida a través del teclado y devuelva la actividad más apropiada para dicha temperatura teniendo en cuenta los siguientes criterios.\n",
    "\n",
    "|ACTIVIDAD | TEMPERATURA IDÓNEA |\n",
    "|----------|--------------------|\n",
    "|Natación |temp > 30|\n",
    "|Tenis |20 < temp < 30|\n",
    "|Golf |10 < temp < 20|\n",
    "|Esquí |5 < temp < 10|\n",
    "|Parchís |temp < 5|\n",
    "\n",
    "La función devuelve una acticidad de las contenidas en la tabla anterior para el valor introducido por el usuario.\n",
    "\n",
    "__Nota:__\n",
    "\n",
    "* `sugiere_actividad()` devuelve como resultado el valor `'Natación'` para el valor introducido `50`.\n",
    "* `sugiere_actividad()` devuelve como resultado el valor `'Esquí'` para el valor introducido `6`."
   ]
  },
  {
   "cell_type": "code",
   "execution_count": 8,
   "metadata": {},
   "outputs": [],
   "source": [
    "def actividad(temp):\n",
    "    if temp > 30:\n",
    "        return 'Natación'\n",
    "    elif 20 < temp <= 30:#el igual hay que mirarlo al no llevarlo arriba puedes ponerlo donde quieras\n",
    "        return 'Tenis'\n",
    "    elif 10 < temp <= 20:\n",
    "        return 'Golf'\n",
    "    elif 5 < temp <= 10:\n",
    "        return 'Esquí'\n",
    "    else:\n",
    "        return 'Parchís'\n",
    "        \n",
    " \n",
    "\n",
    "    \n",
    "    "
   ]
  },
  {
   "cell_type": "code",
   "execution_count": 9,
   "metadata": {},
   "outputs": [
    {
     "data": {
      "text/plain": [
       "'Natación'"
      ]
     },
     "execution_count": 9,
     "metadata": {},
     "output_type": "execute_result"
    }
   ],
   "source": [
    "actividad(50)"
   ]
  },
  {
   "cell_type": "code",
   "execution_count": 10,
   "metadata": {},
   "outputs": [
    {
     "data": {
      "text/plain": [
       "'Golf'"
      ]
     },
     "execution_count": 10,
     "metadata": {},
     "output_type": "execute_result"
    }
   ],
   "source": [
    "actividad(15)"
   ]
  },
  {
   "cell_type": "code",
   "execution_count": null,
   "metadata": {},
   "outputs": [],
   "source": []
  },
  {
   "cell_type": "code",
   "execution_count": null,
   "metadata": {},
   "outputs": [],
   "source": []
  },
  {
   "cell_type": "markdown",
   "metadata": {},
   "source": [
    "## Ejercicio 4"
   ]
  },
  {
   "cell_type": "markdown",
   "metadata": {},
   "source": [
    "Escribe una función llamada __weekday__ que devuelva el día de la semana (Lunes, Martes, Miércoles, etc.). \n",
    "La función tiene un único parámetro de entrada de tipo entero y comprendido entre el 1 y el 7 que representa el día de la semana. Dicha función devuelve un único valor de tipo `str`.\n",
    "\n",
    "__Nota:__\n",
    "\n",
    "* `weekday(1)` devuelve como resultado el valor `'Lunes'`\n",
    "* `weekday(6)` devuelve como resultado el valor `'Sábado'`"
   ]
  },
  {
   "cell_type": "code",
   "execution_count": null,
   "metadata": {},
   "outputs": [],
   "source": []
  },
  {
   "cell_type": "code",
   "execution_count": null,
   "metadata": {},
   "outputs": [],
   "source": []
  },
  {
   "cell_type": "code",
   "execution_count": null,
   "metadata": {},
   "outputs": [],
   "source": []
  },
  {
   "cell_type": "code",
   "execution_count": null,
   "metadata": {},
   "outputs": [],
   "source": []
  },
  {
   "cell_type": "markdown",
   "metadata": {},
   "source": [
    "## Ejercicio 5"
   ]
  },
  {
   "cell_type": "markdown",
   "metadata": {},
   "source": [
    "Escribe una función llamada __resuelve_ec__ que permita calcular las soluciones a una ecuación de segundo grado $$Ax^2 + Bx + C = 0$$. Obviamente, los parámetros de entrada de la función son los coeficientes de la ecuación A,B y C.\n",
    "\n",
    "__Nota:__\n",
    "\n",
    "* `resuelve_ec(2,1,-1)` devuelve como resultado el valor `(0.5, -1.0)`\n",
    "* `resuelve_ec(1,0,-4)` devuelve como resultado el valor `(2.0, -2.0)`\n",
    "* `resuelve_ec(2,1,-1)` devuelve como resultado el valor `'No tiene solución real' `"
   ]
  },
  {
   "cell_type": "markdown",
   "metadata": {},
   "source": [
    "--------------------"
   ]
  }
 ],
 "metadata": {
  "anaconda-cloud": {},
  "kernelspec": {
   "display_name": "Python 3",
   "language": "python",
   "name": "python3"
  },
  "language_info": {
   "codemirror_mode": {
    "name": "ipython",
    "version": 3
   },
   "file_extension": ".py",
   "mimetype": "text/x-python",
   "name": "python",
   "nbconvert_exporter": "python",
   "pygments_lexer": "ipython3",
   "version": "3.7.3"
  },
  "nbTranslate": {
   "displayLangs": [
    "en",
    "es"
   ],
   "hotkey": "alt-t",
   "langInMainMenu": true,
   "sourceLang": "es",
   "targetLang": "en",
   "useGoogleTranslate": true
  },
  "toc": {
   "base_numbering": 1,
   "nav_menu": {
    "height": "86px",
    "width": "252px"
   },
   "number_sections": true,
   "sideBar": true,
   "skip_h1_title": false,
   "title_cell": "Table of Contents",
   "title_sidebar": "Contents",
   "toc_cell": false,
   "toc_position": {},
   "toc_section_display": "block",
   "toc_window_display": false
  }
 },
 "nbformat": 4,
 "nbformat_minor": 2
}
